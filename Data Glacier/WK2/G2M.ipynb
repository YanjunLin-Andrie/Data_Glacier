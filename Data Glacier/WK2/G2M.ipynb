{
 "cells": [
  {
   "cell_type": "markdown",
   "metadata": {
    "id": "0FaAlnwkBgFA"
   },
   "source": [
    "# **Go-To-Market Strategy Analysis On Cab Company Investment**\n",
    "---"
   ]
  },
  {
   "cell_type": "markdown",
   "metadata": {},
   "source": [
    "## Project Description:\n",
    "\n",
    "\n",
    "#### XYZ is a private firm in US. Due to remarkable growth in the Cab Industry in last few years and multiple key players in the market, it is planning for an investment in Cab industry and as per their Go-to-Market(G2M) strategy they want to understand the market before taking final decision.\n",
    "\n",
    "\n",
    "## Data Set:\n",
    "\n",
    "#### You have been provided 4 individual data sets. Time period of data is from 31/01/2016 to 31/12/2018.\n",
    "\n",
    "Below are the list of datasets which are provided for the analysis:\n",
    "\n",
    "* Cab_Data.csv – this file includes details of transaction for 2 cab companies\n",
    "\n",
    "* Customer_ID.csv – this is a mapping table that contains a unique identifier which links the customer’s demographic details\n",
    "\n",
    "* Transaction_ID.csv – this is a mapping table that contains transaction to customer mapping and payment mode\n",
    "\n",
    "* City.csv – this file contains list of US cities, their population and number of cab users\n",
    "\n",
    "\n"
   ]
  },
  {
   "cell_type": "markdown",
   "metadata": {
    "id": "TkmV70CzCYq2"
   },
   "source": [
    "## Step 1. Data import, clean and analyze datasets"
   ]
  },
  {
   "cell_type": "code",
   "execution_count": 239,
   "metadata": {
    "id": "7clpofLYBcmO"
   },
   "outputs": [],
   "source": [
    "# Import all libraries and dependencies\n",
    "import os\n",
    "import pandas as pd\n",
    "import numpy as np\n",
    "import seaborn as sns\n",
    "from pathlib import Path\n",
    "import datetime\n",
    "import holoviews as hv\n",
    "import hvplot.pandas\n",
    "import xlrd\n",
    "import matplotlib.pyplot as plt"
   ]
  },
  {
   "cell_type": "markdown",
   "metadata": {},
   "source": [
    " "
   ]
  },
  {
   "cell_type": "markdown",
   "metadata": {},
   "source": [
    "### Imort and clean Cab Data"
   ]
  },
  {
   "cell_type": "code",
   "execution_count": 240,
   "metadata": {
    "colab": {
     "base_uri": "https://localhost:8080/",
     "height": 263,
     "resources": {
      "http://localhost:8080/nbextensions/google.colab/files.js": {
       "data": "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",
       "headers": [
        [
         "content-type",
         "application/javascript"
        ]
       ],
       "ok": true,
       "status": 200,
       "status_text": ""
      }
     }
    },
    "id": "c7xn8F67BcqI",
    "outputId": "808f1bbd-2a62-4216-e63c-54145c77387c"
   },
   "outputs": [
    {
     "data": {
      "text/html": [
       "<div>\n",
       "<style scoped>\n",
       "    .dataframe tbody tr th:only-of-type {\n",
       "        vertical-align: middle;\n",
       "    }\n",
       "\n",
       "    .dataframe tbody tr th {\n",
       "        vertical-align: top;\n",
       "    }\n",
       "\n",
       "    .dataframe thead th {\n",
       "        text-align: right;\n",
       "    }\n",
       "</style>\n",
       "<table border=\"1\" class=\"dataframe\">\n",
       "  <thead>\n",
       "    <tr style=\"text-align: right;\">\n",
       "      <th></th>\n",
       "      <th>Transaction ID</th>\n",
       "      <th>Date of Travel</th>\n",
       "      <th>Company</th>\n",
       "      <th>City</th>\n",
       "      <th>KM Travelled</th>\n",
       "      <th>Price Charged</th>\n",
       "      <th>Cost of Trip</th>\n",
       "    </tr>\n",
       "  </thead>\n",
       "  <tbody>\n",
       "    <tr>\n",
       "      <th>0</th>\n",
       "      <td>10000011</td>\n",
       "      <td>42377</td>\n",
       "      <td>Pink Cab</td>\n",
       "      <td>ATLANTA GA</td>\n",
       "      <td>30.45</td>\n",
       "      <td>370.95</td>\n",
       "      <td>313.635</td>\n",
       "    </tr>\n",
       "    <tr>\n",
       "      <th>1</th>\n",
       "      <td>10000012</td>\n",
       "      <td>42375</td>\n",
       "      <td>Pink Cab</td>\n",
       "      <td>ATLANTA GA</td>\n",
       "      <td>28.62</td>\n",
       "      <td>358.52</td>\n",
       "      <td>334.854</td>\n",
       "    </tr>\n",
       "    <tr>\n",
       "      <th>2</th>\n",
       "      <td>10000013</td>\n",
       "      <td>42371</td>\n",
       "      <td>Pink Cab</td>\n",
       "      <td>ATLANTA GA</td>\n",
       "      <td>9.04</td>\n",
       "      <td>125.20</td>\n",
       "      <td>97.632</td>\n",
       "    </tr>\n",
       "    <tr>\n",
       "      <th>3</th>\n",
       "      <td>10000014</td>\n",
       "      <td>42376</td>\n",
       "      <td>Pink Cab</td>\n",
       "      <td>ATLANTA GA</td>\n",
       "      <td>33.17</td>\n",
       "      <td>377.40</td>\n",
       "      <td>351.602</td>\n",
       "    </tr>\n",
       "    <tr>\n",
       "      <th>4</th>\n",
       "      <td>10000015</td>\n",
       "      <td>42372</td>\n",
       "      <td>Pink Cab</td>\n",
       "      <td>ATLANTA GA</td>\n",
       "      <td>8.73</td>\n",
       "      <td>114.62</td>\n",
       "      <td>97.776</td>\n",
       "    </tr>\n",
       "  </tbody>\n",
       "</table>\n",
       "</div>"
      ],
      "text/plain": [
       "   Transaction ID  Date of Travel   Company        City  KM Travelled  \\\n",
       "0        10000011           42377  Pink Cab  ATLANTA GA         30.45   \n",
       "1        10000012           42375  Pink Cab  ATLANTA GA         28.62   \n",
       "2        10000013           42371  Pink Cab  ATLANTA GA          9.04   \n",
       "3        10000014           42376  Pink Cab  ATLANTA GA         33.17   \n",
       "4        10000015           42372  Pink Cab  ATLANTA GA          8.73   \n",
       "\n",
       "   Price Charged  Cost of Trip  \n",
       "0         370.95       313.635  \n",
       "1         358.52       334.854  \n",
       "2         125.20        97.632  \n",
       "3         377.40       351.602  \n",
       "4         114.62        97.776  "
      ]
     },
     "metadata": {},
     "output_type": "display_data"
    },
    {
     "name": "stdout",
     "output_type": "stream",
     "text": [
      "Data shape:  (359392, 7)\n"
     ]
    }
   ],
   "source": [
    "# Upload datasets into notebook, then store in a Pandas DataFrame\n",
    "#read the file\n",
    "cab_df = pd.read_csv(Path('DataSets/Cab_Data.csv'))\n",
    "\n",
    "#print the head\n",
    "display(cab_df.head())\n",
    "print('Data shape: ',cab_df.shape)\n",
    "\n",
    "# If use google colab \n",
    "# from google.colab import files\n",
    "# uploaded = files.upload()"
   ]
  },
  {
   "cell_type": "code",
   "execution_count": 241,
   "metadata": {},
   "outputs": [
    {
     "name": "stdout",
     "output_type": "stream",
     "text": [
      "<class 'pandas.core.frame.DataFrame'>\n",
      "RangeIndex: 359392 entries, 0 to 359391\n",
      "Data columns (total 7 columns):\n",
      " #   Column          Non-Null Count   Dtype  \n",
      "---  ------          --------------   -----  \n",
      " 0   Transaction ID  359392 non-null  int64  \n",
      " 1   Date of Travel  359392 non-null  int64  \n",
      " 2   Company         359392 non-null  object \n",
      " 3   City            359392 non-null  object \n",
      " 4   KM Travelled    359392 non-null  float64\n",
      " 5   Price Charged   359392 non-null  float64\n",
      " 6   Cost of Trip    359392 non-null  float64\n",
      "dtypes: float64(3), int64(2), object(2)\n",
      "memory usage: 19.2+ MB\n"
     ]
    }
   ],
   "source": [
    "cab_df.info()"
   ]
  },
  {
   "cell_type": "code",
   "execution_count": 242,
   "metadata": {},
   "outputs": [
    {
     "data": {
      "text/html": [
       "<div>\n",
       "<style scoped>\n",
       "    .dataframe tbody tr th:only-of-type {\n",
       "        vertical-align: middle;\n",
       "    }\n",
       "\n",
       "    .dataframe tbody tr th {\n",
       "        vertical-align: top;\n",
       "    }\n",
       "\n",
       "    .dataframe thead th {\n",
       "        text-align: right;\n",
       "    }\n",
       "</style>\n",
       "<table border=\"1\" class=\"dataframe\">\n",
       "  <thead>\n",
       "    <tr style=\"text-align: right;\">\n",
       "      <th></th>\n",
       "      <th>Transaction ID</th>\n",
       "      <th>Date of Travel</th>\n",
       "      <th>Company</th>\n",
       "      <th>City</th>\n",
       "      <th>KM Travelled</th>\n",
       "      <th>Price Charged</th>\n",
       "      <th>Cost of Trip</th>\n",
       "    </tr>\n",
       "  </thead>\n",
       "  <tbody>\n",
       "    <tr>\n",
       "      <th>0</th>\n",
       "      <td>10000011</td>\n",
       "      <td>2016-01-08</td>\n",
       "      <td>Pink Cab</td>\n",
       "      <td>ATLANTA GA</td>\n",
       "      <td>30.45</td>\n",
       "      <td>370.95</td>\n",
       "      <td>313.635</td>\n",
       "    </tr>\n",
       "    <tr>\n",
       "      <th>1</th>\n",
       "      <td>10000012</td>\n",
       "      <td>2016-01-06</td>\n",
       "      <td>Pink Cab</td>\n",
       "      <td>ATLANTA GA</td>\n",
       "      <td>28.62</td>\n",
       "      <td>358.52</td>\n",
       "      <td>334.854</td>\n",
       "    </tr>\n",
       "    <tr>\n",
       "      <th>2</th>\n",
       "      <td>10000013</td>\n",
       "      <td>2016-01-02</td>\n",
       "      <td>Pink Cab</td>\n",
       "      <td>ATLANTA GA</td>\n",
       "      <td>9.04</td>\n",
       "      <td>125.20</td>\n",
       "      <td>97.632</td>\n",
       "    </tr>\n",
       "    <tr>\n",
       "      <th>3</th>\n",
       "      <td>10000014</td>\n",
       "      <td>2016-01-07</td>\n",
       "      <td>Pink Cab</td>\n",
       "      <td>ATLANTA GA</td>\n",
       "      <td>33.17</td>\n",
       "      <td>377.40</td>\n",
       "      <td>351.602</td>\n",
       "    </tr>\n",
       "    <tr>\n",
       "      <th>4</th>\n",
       "      <td>10000015</td>\n",
       "      <td>2016-01-03</td>\n",
       "      <td>Pink Cab</td>\n",
       "      <td>ATLANTA GA</td>\n",
       "      <td>8.73</td>\n",
       "      <td>114.62</td>\n",
       "      <td>97.776</td>\n",
       "    </tr>\n",
       "  </tbody>\n",
       "</table>\n",
       "</div>"
      ],
      "text/plain": [
       "   Transaction ID Date of Travel   Company        City  KM Travelled  \\\n",
       "0        10000011     2016-01-08  Pink Cab  ATLANTA GA         30.45   \n",
       "1        10000012     2016-01-06  Pink Cab  ATLANTA GA         28.62   \n",
       "2        10000013     2016-01-02  Pink Cab  ATLANTA GA          9.04   \n",
       "3        10000014     2016-01-07  Pink Cab  ATLANTA GA         33.17   \n",
       "4        10000015     2016-01-03  Pink Cab  ATLANTA GA          8.73   \n",
       "\n",
       "   Price Charged  Cost of Trip  \n",
       "0         370.95       313.635  \n",
       "1         358.52       334.854  \n",
       "2         125.20        97.632  \n",
       "3         377.40       351.602  \n",
       "4         114.62        97.776  "
      ]
     },
     "execution_count": 242,
     "metadata": {},
     "output_type": "execute_result"
    }
   ],
   "source": [
    "# Convert exel date to datetime format\n",
    "def convert_date(xl_date):\n",
    "    return xlrd.xldate.xldate_as_datetime(xl_date, 0)\n",
    "cab_df['Date of Travel'] = pd.to_datetime(cab_df['Date of Travel'].apply(convert_date), format='%Y-%m-%d')\n",
    "cab_df.head()"
   ]
  },
  {
   "cell_type": "code",
   "execution_count": 243,
   "metadata": {},
   "outputs": [
    {
     "data": {
      "text/plain": [
       "0"
      ]
     },
     "execution_count": 243,
     "metadata": {},
     "output_type": "execute_result"
    }
   ],
   "source": [
    "# Check duplicates\n",
    "cab_df.duplicated().sum()"
   ]
  },
  {
   "cell_type": "markdown",
   "metadata": {},
   "source": [
    "`There's no need to check null values, since dataframe shape shows that the cab_df has 359392 rows and the info table above shows all 7 culumns give 359392 non-null values.`"
   ]
  },
  {
   "cell_type": "code",
   "execution_count": 244,
   "metadata": {
    "id": "l3z8In8gQ9qi"
   },
   "outputs": [
    {
     "data": {
      "text/html": [
       "<div>\n",
       "<style scoped>\n",
       "    .dataframe tbody tr th:only-of-type {\n",
       "        vertical-align: middle;\n",
       "    }\n",
       "\n",
       "    .dataframe tbody tr th {\n",
       "        vertical-align: top;\n",
       "    }\n",
       "\n",
       "    .dataframe thead th {\n",
       "        text-align: right;\n",
       "    }\n",
       "</style>\n",
       "<table border=\"1\" class=\"dataframe\">\n",
       "  <thead>\n",
       "    <tr style=\"text-align: right;\">\n",
       "      <th></th>\n",
       "      <th>Transaction ID</th>\n",
       "      <th>KM Travelled</th>\n",
       "      <th>Price Charged</th>\n",
       "      <th>Cost of Trip</th>\n",
       "    </tr>\n",
       "  </thead>\n",
       "  <tbody>\n",
       "    <tr>\n",
       "      <th>count</th>\n",
       "      <td>3.593920e+05</td>\n",
       "      <td>359392.000000</td>\n",
       "      <td>359392.000000</td>\n",
       "      <td>359392.000000</td>\n",
       "    </tr>\n",
       "    <tr>\n",
       "      <th>mean</th>\n",
       "      <td>1.022076e+07</td>\n",
       "      <td>22.567254</td>\n",
       "      <td>423.443311</td>\n",
       "      <td>286.190113</td>\n",
       "    </tr>\n",
       "    <tr>\n",
       "      <th>std</th>\n",
       "      <td>1.268058e+05</td>\n",
       "      <td>12.233526</td>\n",
       "      <td>274.378911</td>\n",
       "      <td>157.993661</td>\n",
       "    </tr>\n",
       "    <tr>\n",
       "      <th>min</th>\n",
       "      <td>1.000001e+07</td>\n",
       "      <td>1.900000</td>\n",
       "      <td>15.600000</td>\n",
       "      <td>19.000000</td>\n",
       "    </tr>\n",
       "    <tr>\n",
       "      <th>25%</th>\n",
       "      <td>1.011081e+07</td>\n",
       "      <td>12.000000</td>\n",
       "      <td>206.437500</td>\n",
       "      <td>151.200000</td>\n",
       "    </tr>\n",
       "    <tr>\n",
       "      <th>50%</th>\n",
       "      <td>1.022104e+07</td>\n",
       "      <td>22.440000</td>\n",
       "      <td>386.360000</td>\n",
       "      <td>282.480000</td>\n",
       "    </tr>\n",
       "    <tr>\n",
       "      <th>75%</th>\n",
       "      <td>1.033094e+07</td>\n",
       "      <td>32.960000</td>\n",
       "      <td>583.660000</td>\n",
       "      <td>413.683200</td>\n",
       "    </tr>\n",
       "    <tr>\n",
       "      <th>max</th>\n",
       "      <td>1.044011e+07</td>\n",
       "      <td>48.000000</td>\n",
       "      <td>2048.030000</td>\n",
       "      <td>691.200000</td>\n",
       "    </tr>\n",
       "  </tbody>\n",
       "</table>\n",
       "</div>"
      ],
      "text/plain": [
       "       Transaction ID   KM Travelled  Price Charged   Cost of Trip\n",
       "count    3.593920e+05  359392.000000  359392.000000  359392.000000\n",
       "mean     1.022076e+07      22.567254     423.443311     286.190113\n",
       "std      1.268058e+05      12.233526     274.378911     157.993661\n",
       "min      1.000001e+07       1.900000      15.600000      19.000000\n",
       "25%      1.011081e+07      12.000000     206.437500     151.200000\n",
       "50%      1.022104e+07      22.440000     386.360000     282.480000\n",
       "75%      1.033094e+07      32.960000     583.660000     413.683200\n",
       "max      1.044011e+07      48.000000    2048.030000     691.200000"
      ]
     },
     "execution_count": 244,
     "metadata": {},
     "output_type": "execute_result"
    }
   ],
   "source": [
    "# Summarize view of columns with numirical information\n",
    "cab_df.describe()"
   ]
  },
  {
   "cell_type": "code",
   "execution_count": 245,
   "metadata": {},
   "outputs": [
    {
     "data": {
      "text/plain": [
       "array(['Pink Cab', 'Yellow Cab'], dtype=object)"
      ]
     },
     "metadata": {},
     "output_type": "display_data"
    },
    {
     "data": {
      "text/plain": [
       "array(['ATLANTA GA', 'AUSTIN TX', 'BOSTON MA', 'CHICAGO IL', 'DALLAS TX',\n",
       "       'DENVER CO', 'LOS ANGELES CA', 'MIAMI FL', 'NASHVILLE TN',\n",
       "       'NEW YORK NY', 'ORANGE COUNTY', 'PHOENIX AZ', 'PITTSBURGH PA',\n",
       "       'SACRAMENTO CA', 'SAN DIEGO CA', 'SEATTLE WA', 'SILICON VALLEY',\n",
       "       'TUCSON AZ', 'WASHINGTON DC'], dtype=object)"
      ]
     },
     "metadata": {},
     "output_type": "display_data"
    }
   ],
   "source": [
    "# Check unique values\n",
    "display(cab_df['Company'].unique())\n",
    "display(cab_df['City'].unique())"
   ]
  },
  {
   "cell_type": "code",
   "execution_count": 246,
   "metadata": {},
   "outputs": [
    {
     "data": {
      "text/plain": [
       "NEW YORK NY       99885\n",
       "CHICAGO IL        56625\n",
       "LOS ANGELES CA    48033\n",
       "WASHINGTON DC     43737\n",
       "BOSTON MA         29692\n",
       "SAN DIEGO CA      20488\n",
       "SILICON VALLEY     8519\n",
       "SEATTLE WA         7997\n",
       "ATLANTA GA         7557\n",
       "DALLAS TX          7017\n",
       "MIAMI FL           6454\n",
       "AUSTIN TX          4896\n",
       "ORANGE COUNTY      3982\n",
       "DENVER CO          3825\n",
       "NASHVILLE TN       3010\n",
       "SACRAMENTO CA      2367\n",
       "PHOENIX AZ         2064\n",
       "TUCSON AZ          1931\n",
       "PITTSBURGH PA      1313\n",
       "Name: City, dtype: int64"
      ]
     },
     "execution_count": 246,
     "metadata": {},
     "output_type": "execute_result"
    }
   ],
   "source": [
    "# City counts\n",
    "cab_df['City'].value_counts()"
   ]
  },
  {
   "cell_type": "markdown",
   "metadata": {},
   "source": [
    "  \n",
    " "
   ]
  },
  {
   "cell_type": "markdown",
   "metadata": {},
   "source": [
    "### Imort and clean City Data"
   ]
  },
  {
   "cell_type": "code",
   "execution_count": 247,
   "metadata": {},
   "outputs": [
    {
     "data": {
      "text/html": [
       "<div>\n",
       "<style scoped>\n",
       "    .dataframe tbody tr th:only-of-type {\n",
       "        vertical-align: middle;\n",
       "    }\n",
       "\n",
       "    .dataframe tbody tr th {\n",
       "        vertical-align: top;\n",
       "    }\n",
       "\n",
       "    .dataframe thead th {\n",
       "        text-align: right;\n",
       "    }\n",
       "</style>\n",
       "<table border=\"1\" class=\"dataframe\">\n",
       "  <thead>\n",
       "    <tr style=\"text-align: right;\">\n",
       "      <th></th>\n",
       "      <th>City</th>\n",
       "      <th>Population</th>\n",
       "      <th>Users</th>\n",
       "    </tr>\n",
       "  </thead>\n",
       "  <tbody>\n",
       "    <tr>\n",
       "      <th>0</th>\n",
       "      <td>NEW YORK NY</td>\n",
       "      <td>8,405,837</td>\n",
       "      <td>302,149</td>\n",
       "    </tr>\n",
       "    <tr>\n",
       "      <th>1</th>\n",
       "      <td>CHICAGO IL</td>\n",
       "      <td>1,955,130</td>\n",
       "      <td>164,468</td>\n",
       "    </tr>\n",
       "    <tr>\n",
       "      <th>2</th>\n",
       "      <td>LOS ANGELES CA</td>\n",
       "      <td>1,595,037</td>\n",
       "      <td>144,132</td>\n",
       "    </tr>\n",
       "    <tr>\n",
       "      <th>3</th>\n",
       "      <td>MIAMI FL</td>\n",
       "      <td>1,339,155</td>\n",
       "      <td>17,675</td>\n",
       "    </tr>\n",
       "    <tr>\n",
       "      <th>4</th>\n",
       "      <td>SILICON VALLEY</td>\n",
       "      <td>1,177,609</td>\n",
       "      <td>27,247</td>\n",
       "    </tr>\n",
       "  </tbody>\n",
       "</table>\n",
       "</div>"
      ],
      "text/plain": [
       "             City   Population      Users\n",
       "0     NEW YORK NY   8,405,837    302,149 \n",
       "1      CHICAGO IL   1,955,130    164,468 \n",
       "2  LOS ANGELES CA   1,595,037    144,132 \n",
       "3        MIAMI FL   1,339,155     17,675 \n",
       "4  SILICON VALLEY   1,177,609     27,247 "
      ]
     },
     "metadata": {},
     "output_type": "display_data"
    },
    {
     "name": "stdout",
     "output_type": "stream",
     "text": [
      "Data shape:  (20, 3)\n"
     ]
    }
   ],
   "source": [
    "# Upload datasets into notebook, then store in a Pandas DataFrame\n",
    "#read the file\n",
    "city_df = pd.read_csv(Path('DataSets/City.csv'))\n",
    "\n",
    "#print the head\n",
    "display(city_df.head())\n",
    "print('Data shape: ',city_df.shape)"
   ]
  },
  {
   "cell_type": "markdown",
   "metadata": {},
   "source": [
    "> <b> Please notice: San Francisco is in the City Data dataframe but there's no San Francisco data in the Cab dataframe </b>"
   ]
  },
  {
   "cell_type": "code",
   "execution_count": 248,
   "metadata": {},
   "outputs": [
    {
     "name": "stdout",
     "output_type": "stream",
     "text": [
      "<class 'pandas.core.frame.DataFrame'>\n",
      "RangeIndex: 20 entries, 0 to 19\n",
      "Data columns (total 3 columns):\n",
      " #   Column      Non-Null Count  Dtype \n",
      "---  ------      --------------  ----- \n",
      " 0   City        20 non-null     object\n",
      " 1   Population  20 non-null     object\n",
      " 2   Users       20 non-null     object\n",
      "dtypes: object(3)\n",
      "memory usage: 608.0+ bytes\n"
     ]
    }
   ],
   "source": [
    "city_df.info()"
   ]
  },
  {
   "cell_type": "code",
   "execution_count": 249,
   "metadata": {},
   "outputs": [
    {
     "data": {
      "text/plain": [
       "0"
      ]
     },
     "execution_count": 249,
     "metadata": {},
     "output_type": "execute_result"
    }
   ],
   "source": [
    "# Check duplicates\n",
    "city_df.duplicated().sum()"
   ]
  },
  {
   "cell_type": "markdown",
   "metadata": {},
   "source": [
    "`There's no need to check null values, since dataframe shape shows that the city_df has 20 rows and the info table above shows all 3 culumns give 20 non-null values.`"
   ]
  },
  {
   "cell_type": "code",
   "execution_count": 250,
   "metadata": {},
   "outputs": [
    {
     "data": {
      "text/html": [
       "<div>\n",
       "<style scoped>\n",
       "    .dataframe tbody tr th:only-of-type {\n",
       "        vertical-align: middle;\n",
       "    }\n",
       "\n",
       "    .dataframe tbody tr th {\n",
       "        vertical-align: top;\n",
       "    }\n",
       "\n",
       "    .dataframe thead th {\n",
       "        text-align: right;\n",
       "    }\n",
       "</style>\n",
       "<table border=\"1\" class=\"dataframe\">\n",
       "  <thead>\n",
       "    <tr style=\"text-align: right;\">\n",
       "      <th></th>\n",
       "      <th>City</th>\n",
       "      <th>Population</th>\n",
       "      <th>Users</th>\n",
       "    </tr>\n",
       "  </thead>\n",
       "  <tbody>\n",
       "    <tr>\n",
       "      <th>count</th>\n",
       "      <td>20</td>\n",
       "      <td>20</td>\n",
       "      <td>20</td>\n",
       "    </tr>\n",
       "    <tr>\n",
       "      <th>unique</th>\n",
       "      <td>20</td>\n",
       "      <td>20</td>\n",
       "      <td>20</td>\n",
       "    </tr>\n",
       "    <tr>\n",
       "      <th>top</th>\n",
       "      <td>NEW YORK NY</td>\n",
       "      <td>8,405,837</td>\n",
       "      <td>302,149</td>\n",
       "    </tr>\n",
       "    <tr>\n",
       "      <th>freq</th>\n",
       "      <td>1</td>\n",
       "      <td>1</td>\n",
       "      <td>1</td>\n",
       "    </tr>\n",
       "  </tbody>\n",
       "</table>\n",
       "</div>"
      ],
      "text/plain": [
       "               City   Population      Users\n",
       "count            20           20         20\n",
       "unique           20           20         20\n",
       "top     NEW YORK NY   8,405,837    302,149 \n",
       "freq              1            1          1"
      ]
     },
     "execution_count": 250,
     "metadata": {},
     "output_type": "execute_result"
    }
   ],
   "source": [
    "# Summarized view of city dataframe\n",
    "city_df.describe()"
   ]
  },
  {
   "cell_type": "code",
   "execution_count": 251,
   "metadata": {},
   "outputs": [
    {
     "data": {
      "text/plain": [
       "City          object\n",
       "Population     int64\n",
       "Users          int64\n",
       "dtype: object"
      ]
     },
     "execution_count": 251,
     "metadata": {},
     "output_type": "execute_result"
    }
   ],
   "source": [
    "# Change data types for Population and Users columns to int\n",
    "city_df['Population'] = [x.replace(',','') for x in city_df['Population']]\n",
    "city_df['Population'] = city_df['Population'].astype(int)\n",
    "\n",
    "city_df['Users'] = [x.replace(',','') for x in city_df['Users']]\n",
    "city_df['Users'] = city_df['Users'].astype(int)\n",
    "\n",
    "city_df.dtypes"
   ]
  },
  {
   "cell_type": "code",
   "execution_count": 252,
   "metadata": {},
   "outputs": [
    {
     "data": {
      "text/html": [
       "<div>\n",
       "<style scoped>\n",
       "    .dataframe tbody tr th:only-of-type {\n",
       "        vertical-align: middle;\n",
       "    }\n",
       "\n",
       "    .dataframe tbody tr th {\n",
       "        vertical-align: top;\n",
       "    }\n",
       "\n",
       "    .dataframe thead th {\n",
       "        text-align: right;\n",
       "    }\n",
       "</style>\n",
       "<table border=\"1\" class=\"dataframe\">\n",
       "  <thead>\n",
       "    <tr style=\"text-align: right;\">\n",
       "      <th></th>\n",
       "      <th>Population</th>\n",
       "      <th>Users</th>\n",
       "    </tr>\n",
       "  </thead>\n",
       "  <tbody>\n",
       "    <tr>\n",
       "      <th>count</th>\n",
       "      <td>2.000000e+01</td>\n",
       "      <td>20.000000</td>\n",
       "    </tr>\n",
       "    <tr>\n",
       "      <th>mean</th>\n",
       "      <td>1.231592e+06</td>\n",
       "      <td>64520.650000</td>\n",
       "    </tr>\n",
       "    <tr>\n",
       "      <th>std</th>\n",
       "      <td>1.740127e+06</td>\n",
       "      <td>83499.375289</td>\n",
       "    </tr>\n",
       "    <tr>\n",
       "      <th>min</th>\n",
       "      <td>2.489680e+05</td>\n",
       "      <td>3643.000000</td>\n",
       "    </tr>\n",
       "    <tr>\n",
       "      <th>25%</th>\n",
       "      <td>6.086372e+05</td>\n",
       "      <td>11633.250000</td>\n",
       "    </tr>\n",
       "    <tr>\n",
       "      <th>50%</th>\n",
       "      <td>7.845590e+05</td>\n",
       "      <td>23429.000000</td>\n",
       "    </tr>\n",
       "    <tr>\n",
       "      <th>75%</th>\n",
       "      <td>1.067041e+06</td>\n",
       "      <td>91766.000000</td>\n",
       "    </tr>\n",
       "    <tr>\n",
       "      <th>max</th>\n",
       "      <td>8.405837e+06</td>\n",
       "      <td>302149.000000</td>\n",
       "    </tr>\n",
       "  </tbody>\n",
       "</table>\n",
       "</div>"
      ],
      "text/plain": [
       "         Population          Users\n",
       "count  2.000000e+01      20.000000\n",
       "mean   1.231592e+06   64520.650000\n",
       "std    1.740127e+06   83499.375289\n",
       "min    2.489680e+05    3643.000000\n",
       "25%    6.086372e+05   11633.250000\n",
       "50%    7.845590e+05   23429.000000\n",
       "75%    1.067041e+06   91766.000000\n",
       "max    8.405837e+06  302149.000000"
      ]
     },
     "execution_count": 252,
     "metadata": {},
     "output_type": "execute_result"
    }
   ],
   "source": [
    "# Summarize view of columns with numirical information\n",
    "city_df.describe()"
   ]
  },
  {
   "cell_type": "markdown",
   "metadata": {},
   "source": [
    "     "
   ]
  },
  {
   "cell_type": "markdown",
   "metadata": {},
   "source": [
    "### Imort and clean Customer ID Data"
   ]
  },
  {
   "cell_type": "code",
   "execution_count": 253,
   "metadata": {},
   "outputs": [
    {
     "data": {
      "text/html": [
       "<div>\n",
       "<style scoped>\n",
       "    .dataframe tbody tr th:only-of-type {\n",
       "        vertical-align: middle;\n",
       "    }\n",
       "\n",
       "    .dataframe tbody tr th {\n",
       "        vertical-align: top;\n",
       "    }\n",
       "\n",
       "    .dataframe thead th {\n",
       "        text-align: right;\n",
       "    }\n",
       "</style>\n",
       "<table border=\"1\" class=\"dataframe\">\n",
       "  <thead>\n",
       "    <tr style=\"text-align: right;\">\n",
       "      <th></th>\n",
       "      <th>Customer ID</th>\n",
       "      <th>Gender</th>\n",
       "      <th>Age</th>\n",
       "      <th>Income (USD/Month)</th>\n",
       "    </tr>\n",
       "  </thead>\n",
       "  <tbody>\n",
       "    <tr>\n",
       "      <th>0</th>\n",
       "      <td>29290</td>\n",
       "      <td>Male</td>\n",
       "      <td>28</td>\n",
       "      <td>10813</td>\n",
       "    </tr>\n",
       "    <tr>\n",
       "      <th>1</th>\n",
       "      <td>27703</td>\n",
       "      <td>Male</td>\n",
       "      <td>27</td>\n",
       "      <td>9237</td>\n",
       "    </tr>\n",
       "    <tr>\n",
       "      <th>2</th>\n",
       "      <td>28712</td>\n",
       "      <td>Male</td>\n",
       "      <td>53</td>\n",
       "      <td>11242</td>\n",
       "    </tr>\n",
       "    <tr>\n",
       "      <th>3</th>\n",
       "      <td>28020</td>\n",
       "      <td>Male</td>\n",
       "      <td>23</td>\n",
       "      <td>23327</td>\n",
       "    </tr>\n",
       "    <tr>\n",
       "      <th>4</th>\n",
       "      <td>27182</td>\n",
       "      <td>Male</td>\n",
       "      <td>33</td>\n",
       "      <td>8536</td>\n",
       "    </tr>\n",
       "  </tbody>\n",
       "</table>\n",
       "</div>"
      ],
      "text/plain": [
       "   Customer ID Gender  Age  Income (USD/Month)\n",
       "0        29290   Male   28               10813\n",
       "1        27703   Male   27                9237\n",
       "2        28712   Male   53               11242\n",
       "3        28020   Male   23               23327\n",
       "4        27182   Male   33                8536"
      ]
     },
     "metadata": {},
     "output_type": "display_data"
    },
    {
     "name": "stdout",
     "output_type": "stream",
     "text": [
      "Data shape:  (49171, 4)\n"
     ]
    }
   ],
   "source": [
    "# Upload datasets into notebook, then store in a Pandas DataFrame\n",
    "#read the file\n",
    "customer_id_df = pd.read_csv(Path('DataSets/Customer_ID.csv'))\n",
    "\n",
    "#print the head\n",
    "display(customer_id_df.head())\n",
    "print('Data shape: ',customer_id_df.shape)"
   ]
  },
  {
   "cell_type": "code",
   "execution_count": 254,
   "metadata": {},
   "outputs": [
    {
     "name": "stdout",
     "output_type": "stream",
     "text": [
      "<class 'pandas.core.frame.DataFrame'>\n",
      "RangeIndex: 49171 entries, 0 to 49170\n",
      "Data columns (total 4 columns):\n",
      " #   Column              Non-Null Count  Dtype \n",
      "---  ------              --------------  ----- \n",
      " 0   Customer ID         49171 non-null  int64 \n",
      " 1   Gender              49171 non-null  object\n",
      " 2   Age                 49171 non-null  int64 \n",
      " 3   Income (USD/Month)  49171 non-null  int64 \n",
      "dtypes: int64(3), object(1)\n",
      "memory usage: 1.5+ MB\n"
     ]
    }
   ],
   "source": [
    "customer_id_df.info()"
   ]
  },
  {
   "cell_type": "code",
   "execution_count": 255,
   "metadata": {},
   "outputs": [
    {
     "data": {
      "text/plain": [
       "0"
      ]
     },
     "execution_count": 255,
     "metadata": {},
     "output_type": "execute_result"
    }
   ],
   "source": [
    "# Check duplicates\n",
    "customer_id_df.duplicated().sum()"
   ]
  },
  {
   "cell_type": "markdown",
   "metadata": {},
   "source": [
    "`There's no need to check null values, since dataframe shape shows that the customer_id_df has 49171 rows and the info table above shows all 4 culumns give 49171 non-null values.`"
   ]
  },
  {
   "cell_type": "code",
   "execution_count": 256,
   "metadata": {},
   "outputs": [
    {
     "data": {
      "text/html": [
       "<div>\n",
       "<style scoped>\n",
       "    .dataframe tbody tr th:only-of-type {\n",
       "        vertical-align: middle;\n",
       "    }\n",
       "\n",
       "    .dataframe tbody tr th {\n",
       "        vertical-align: top;\n",
       "    }\n",
       "\n",
       "    .dataframe thead th {\n",
       "        text-align: right;\n",
       "    }\n",
       "</style>\n",
       "<table border=\"1\" class=\"dataframe\">\n",
       "  <thead>\n",
       "    <tr style=\"text-align: right;\">\n",
       "      <th></th>\n",
       "      <th>Age</th>\n",
       "      <th>Income (USD/Month)</th>\n",
       "    </tr>\n",
       "  </thead>\n",
       "  <tbody>\n",
       "    <tr>\n",
       "      <th>count</th>\n",
       "      <td>49171.000000</td>\n",
       "      <td>49171.000000</td>\n",
       "    </tr>\n",
       "    <tr>\n",
       "      <th>mean</th>\n",
       "      <td>35.363121</td>\n",
       "      <td>15015.631856</td>\n",
       "    </tr>\n",
       "    <tr>\n",
       "      <th>std</th>\n",
       "      <td>12.599066</td>\n",
       "      <td>8002.208253</td>\n",
       "    </tr>\n",
       "    <tr>\n",
       "      <th>min</th>\n",
       "      <td>18.000000</td>\n",
       "      <td>2000.000000</td>\n",
       "    </tr>\n",
       "    <tr>\n",
       "      <th>25%</th>\n",
       "      <td>25.000000</td>\n",
       "      <td>8289.500000</td>\n",
       "    </tr>\n",
       "    <tr>\n",
       "      <th>50%</th>\n",
       "      <td>33.000000</td>\n",
       "      <td>14656.000000</td>\n",
       "    </tr>\n",
       "    <tr>\n",
       "      <th>75%</th>\n",
       "      <td>42.000000</td>\n",
       "      <td>21035.000000</td>\n",
       "    </tr>\n",
       "    <tr>\n",
       "      <th>max</th>\n",
       "      <td>65.000000</td>\n",
       "      <td>35000.000000</td>\n",
       "    </tr>\n",
       "  </tbody>\n",
       "</table>\n",
       "</div>"
      ],
      "text/plain": [
       "                Age  Income (USD/Month)\n",
       "count  49171.000000        49171.000000\n",
       "mean      35.363121        15015.631856\n",
       "std       12.599066         8002.208253\n",
       "min       18.000000         2000.000000\n",
       "25%       25.000000         8289.500000\n",
       "50%       33.000000        14656.000000\n",
       "75%       42.000000        21035.000000\n",
       "max       65.000000        35000.000000"
      ]
     },
     "execution_count": 256,
     "metadata": {},
     "output_type": "execute_result"
    }
   ],
   "source": [
    "# Summarized view of numirical columns in customer ID dataframe\n",
    "customer_id_df[['Age','Income (USD/Month)']].describe()"
   ]
  },
  {
   "cell_type": "code",
   "execution_count": 257,
   "metadata": {},
   "outputs": [
    {
     "data": {
      "text/plain": [
       "Male      26562\n",
       "Female    22609\n",
       "Name: Gender, dtype: int64"
      ]
     },
     "execution_count": 257,
     "metadata": {},
     "output_type": "execute_result"
    }
   ],
   "source": [
    "# Customer gender counts\n",
    "customer_id_df['Gender'].value_counts()"
   ]
  },
  {
   "cell_type": "markdown",
   "metadata": {},
   "source": [
    "             "
   ]
  },
  {
   "cell_type": "markdown",
   "metadata": {},
   "source": [
    "### Imort and clean Transaction ID Data"
   ]
  },
  {
   "cell_type": "code",
   "execution_count": 258,
   "metadata": {},
   "outputs": [
    {
     "data": {
      "text/html": [
       "<div>\n",
       "<style scoped>\n",
       "    .dataframe tbody tr th:only-of-type {\n",
       "        vertical-align: middle;\n",
       "    }\n",
       "\n",
       "    .dataframe tbody tr th {\n",
       "        vertical-align: top;\n",
       "    }\n",
       "\n",
       "    .dataframe thead th {\n",
       "        text-align: right;\n",
       "    }\n",
       "</style>\n",
       "<table border=\"1\" class=\"dataframe\">\n",
       "  <thead>\n",
       "    <tr style=\"text-align: right;\">\n",
       "      <th></th>\n",
       "      <th>Transaction ID</th>\n",
       "      <th>Customer ID</th>\n",
       "      <th>Payment_Mode</th>\n",
       "    </tr>\n",
       "  </thead>\n",
       "  <tbody>\n",
       "    <tr>\n",
       "      <th>0</th>\n",
       "      <td>10000011</td>\n",
       "      <td>29290</td>\n",
       "      <td>Card</td>\n",
       "    </tr>\n",
       "    <tr>\n",
       "      <th>1</th>\n",
       "      <td>10000012</td>\n",
       "      <td>27703</td>\n",
       "      <td>Card</td>\n",
       "    </tr>\n",
       "    <tr>\n",
       "      <th>2</th>\n",
       "      <td>10000013</td>\n",
       "      <td>28712</td>\n",
       "      <td>Cash</td>\n",
       "    </tr>\n",
       "    <tr>\n",
       "      <th>3</th>\n",
       "      <td>10000014</td>\n",
       "      <td>28020</td>\n",
       "      <td>Cash</td>\n",
       "    </tr>\n",
       "    <tr>\n",
       "      <th>4</th>\n",
       "      <td>10000015</td>\n",
       "      <td>27182</td>\n",
       "      <td>Card</td>\n",
       "    </tr>\n",
       "  </tbody>\n",
       "</table>\n",
       "</div>"
      ],
      "text/plain": [
       "   Transaction ID  Customer ID Payment_Mode\n",
       "0        10000011        29290         Card\n",
       "1        10000012        27703         Card\n",
       "2        10000013        28712         Cash\n",
       "3        10000014        28020         Cash\n",
       "4        10000015        27182         Card"
      ]
     },
     "metadata": {},
     "output_type": "display_data"
    },
    {
     "name": "stdout",
     "output_type": "stream",
     "text": [
      "Data shape:  (440098, 3)\n"
     ]
    }
   ],
   "source": [
    "# Upload datasets into notebook, then store in a Pandas DataFrame\n",
    "#read the file\n",
    "tran_id_df = pd.read_csv(Path('DataSets/Transaction_ID.csv'))\n",
    "\n",
    "#print the head\n",
    "display(tran_id_df.head())\n",
    "print('Data shape: ',tran_id_df.shape)"
   ]
  },
  {
   "cell_type": "code",
   "execution_count": 259,
   "metadata": {},
   "outputs": [
    {
     "name": "stdout",
     "output_type": "stream",
     "text": [
      "<class 'pandas.core.frame.DataFrame'>\n",
      "RangeIndex: 440098 entries, 0 to 440097\n",
      "Data columns (total 3 columns):\n",
      " #   Column          Non-Null Count   Dtype \n",
      "---  ------          --------------   ----- \n",
      " 0   Transaction ID  440098 non-null  int64 \n",
      " 1   Customer ID     440098 non-null  int64 \n",
      " 2   Payment_Mode    440098 non-null  object\n",
      "dtypes: int64(2), object(1)\n",
      "memory usage: 10.1+ MB\n"
     ]
    }
   ],
   "source": [
    "tran_id_df.info()"
   ]
  },
  {
   "cell_type": "code",
   "execution_count": 260,
   "metadata": {},
   "outputs": [
    {
     "data": {
      "text/plain": [
       "0"
      ]
     },
     "execution_count": 260,
     "metadata": {},
     "output_type": "execute_result"
    }
   ],
   "source": [
    "# Check duplicates\n",
    "tran_id_df.duplicated().sum()"
   ]
  },
  {
   "cell_type": "markdown",
   "metadata": {},
   "source": [
    "`There's no need to check null values, since dataframe shape shows that the customer_id_df has 440098 rows and the info table above shows all 3 culumns give 440098 non-null values.`"
   ]
  },
  {
   "cell_type": "code",
   "execution_count": 261,
   "metadata": {},
   "outputs": [
    {
     "data": {
      "text/plain": [
       "Card    263991\n",
       "Cash    176107\n",
       "Name: Payment_Mode, dtype: int64"
      ]
     },
     "execution_count": 261,
     "metadata": {},
     "output_type": "execute_result"
    }
   ],
   "source": [
    "# Summarized view of Payment type in Transaction ID dataframe\n",
    "tran_id_df['Payment_Mode'].value_counts()"
   ]
  },
  {
   "cell_type": "markdown",
   "metadata": {},
   "source": [
    "### Imort coordinates data"
   ]
  },
  {
   "cell_type": "code",
   "execution_count": 262,
   "metadata": {},
   "outputs": [
    {
     "data": {
      "text/html": [
       "<div>\n",
       "<style scoped>\n",
       "    .dataframe tbody tr th:only-of-type {\n",
       "        vertical-align: middle;\n",
       "    }\n",
       "\n",
       "    .dataframe tbody tr th {\n",
       "        vertical-align: top;\n",
       "    }\n",
       "\n",
       "    .dataframe thead th {\n",
       "        text-align: right;\n",
       "    }\n",
       "</style>\n",
       "<table border=\"1\" class=\"dataframe\">\n",
       "  <thead>\n",
       "    <tr style=\"text-align: right;\">\n",
       "      <th></th>\n",
       "      <th>City</th>\n",
       "      <th>Lat</th>\n",
       "      <th>Lon</th>\n",
       "    </tr>\n",
       "  </thead>\n",
       "  <tbody>\n",
       "    <tr>\n",
       "      <th>0</th>\n",
       "      <td>NEW YORK NY</td>\n",
       "      <td>40.6943</td>\n",
       "      <td>-73.9249</td>\n",
       "    </tr>\n",
       "    <tr>\n",
       "      <th>1</th>\n",
       "      <td>CHICAGO IL</td>\n",
       "      <td>41.8375</td>\n",
       "      <td>-87.6866</td>\n",
       "    </tr>\n",
       "    <tr>\n",
       "      <th>2</th>\n",
       "      <td>LOS ANGELES CA</td>\n",
       "      <td>34.1141</td>\n",
       "      <td>-118.4068</td>\n",
       "    </tr>\n",
       "    <tr>\n",
       "      <th>3</th>\n",
       "      <td>MIAMI FL</td>\n",
       "      <td>25.7840</td>\n",
       "      <td>-80.2101</td>\n",
       "    </tr>\n",
       "    <tr>\n",
       "      <th>4</th>\n",
       "      <td>SILICON VALLEY</td>\n",
       "      <td>37.3875</td>\n",
       "      <td>-122.0575</td>\n",
       "    </tr>\n",
       "  </tbody>\n",
       "</table>\n",
       "</div>"
      ],
      "text/plain": [
       "             City      Lat       Lon\n",
       "0     NEW YORK NY  40.6943  -73.9249\n",
       "1      CHICAGO IL  41.8375  -87.6866\n",
       "2  LOS ANGELES CA  34.1141 -118.4068\n",
       "3        MIAMI FL  25.7840  -80.2101\n",
       "4  SILICON VALLEY  37.3875 -122.0575"
      ]
     },
     "metadata": {},
     "output_type": "display_data"
    },
    {
     "name": "stdout",
     "output_type": "stream",
     "text": [
      "Data shape:  (20, 3)\n"
     ]
    }
   ],
   "source": [
    "# Upload datasets into notebook, then store in a Pandas DataFrame\n",
    "#read the file\n",
    "geo_df = pd.read_csv(Path('DataSets/geo.csv'))\n",
    "geo_df = geo_df.drop(columns = ['Unnamed: 3','Unnamed: 4','Unnamed: 5','Unnamed: 6'])\n",
    "#print the head\n",
    "display(geo_df.head())\n",
    "print('Data shape: ',geo_df.shape)"
   ]
  },
  {
   "cell_type": "markdown",
   "metadata": {},
   "source": [
    "             "
   ]
  },
  {
   "cell_type": "markdown",
   "metadata": {},
   "source": [
    "### Merge data"
   ]
  },
  {
   "cell_type": "code",
   "execution_count": 263,
   "metadata": {},
   "outputs": [
    {
     "name": "stdout",
     "output_type": "stream",
     "text": [
      "Index(['Transaction ID', 'Date of Travel', 'Company', 'City', 'KM Travelled',\n",
      "       'Price Charged', 'Cost of Trip'],\n",
      "      dtype='object')\n",
      "Index(['City', 'Population', 'Users'], dtype='object')\n",
      "Index(['Customer ID', 'Gender', 'Age', 'Income (USD/Month)'], dtype='object')\n",
      "Index(['Transaction ID', 'Customer ID', 'Payment_Mode'], dtype='object')\n"
     ]
    }
   ],
   "source": [
    "# Print culumns of each data frame\n",
    "print(cab_df.columns)\n",
    "print(city_df.columns)\n",
    "print(customer_id_df.columns)\n",
    "print(tran_id_df.columns)"
   ]
  },
  {
   "cell_type": "code",
   "execution_count": 293,
   "metadata": {},
   "outputs": [
    {
     "data": {
      "text/html": [
       "<div>\n",
       "<style scoped>\n",
       "    .dataframe tbody tr th:only-of-type {\n",
       "        vertical-align: middle;\n",
       "    }\n",
       "\n",
       "    .dataframe tbody tr th {\n",
       "        vertical-align: top;\n",
       "    }\n",
       "\n",
       "    .dataframe thead th {\n",
       "        text-align: right;\n",
       "    }\n",
       "</style>\n",
       "<table border=\"1\" class=\"dataframe\">\n",
       "  <thead>\n",
       "    <tr style=\"text-align: right;\">\n",
       "      <th></th>\n",
       "      <th>Transaction ID</th>\n",
       "      <th>Date of Travel</th>\n",
       "      <th>Company</th>\n",
       "      <th>City</th>\n",
       "      <th>KM Travelled</th>\n",
       "      <th>Price Charged</th>\n",
       "      <th>Cost of Trip</th>\n",
       "      <th>Customer ID</th>\n",
       "      <th>Payment_Mode</th>\n",
       "      <th>Gender</th>\n",
       "      <th>Age</th>\n",
       "      <th>Income (USD/Month)</th>\n",
       "      <th>Population</th>\n",
       "      <th>Users</th>\n",
       "    </tr>\n",
       "  </thead>\n",
       "  <tbody>\n",
       "    <tr>\n",
       "      <th>0</th>\n",
       "      <td>10000011</td>\n",
       "      <td>2016-01-08</td>\n",
       "      <td>Pink Cab</td>\n",
       "      <td>ATLANTA GA</td>\n",
       "      <td>30.45</td>\n",
       "      <td>370.95</td>\n",
       "      <td>313.6350</td>\n",
       "      <td>29290</td>\n",
       "      <td>Card</td>\n",
       "      <td>Male</td>\n",
       "      <td>28</td>\n",
       "      <td>10813</td>\n",
       "      <td>814885</td>\n",
       "      <td>24701</td>\n",
       "    </tr>\n",
       "    <tr>\n",
       "      <th>1</th>\n",
       "      <td>10351127</td>\n",
       "      <td>2018-07-21</td>\n",
       "      <td>Yellow Cab</td>\n",
       "      <td>ATLANTA GA</td>\n",
       "      <td>26.19</td>\n",
       "      <td>598.70</td>\n",
       "      <td>317.4228</td>\n",
       "      <td>29290</td>\n",
       "      <td>Cash</td>\n",
       "      <td>Male</td>\n",
       "      <td>28</td>\n",
       "      <td>10813</td>\n",
       "      <td>814885</td>\n",
       "      <td>24701</td>\n",
       "    </tr>\n",
       "    <tr>\n",
       "      <th>2</th>\n",
       "      <td>10412921</td>\n",
       "      <td>2018-11-23</td>\n",
       "      <td>Yellow Cab</td>\n",
       "      <td>ATLANTA GA</td>\n",
       "      <td>42.55</td>\n",
       "      <td>792.05</td>\n",
       "      <td>597.4020</td>\n",
       "      <td>29290</td>\n",
       "      <td>Card</td>\n",
       "      <td>Male</td>\n",
       "      <td>28</td>\n",
       "      <td>10813</td>\n",
       "      <td>814885</td>\n",
       "      <td>24701</td>\n",
       "    </tr>\n",
       "    <tr>\n",
       "      <th>3</th>\n",
       "      <td>10000012</td>\n",
       "      <td>2016-01-06</td>\n",
       "      <td>Pink Cab</td>\n",
       "      <td>ATLANTA GA</td>\n",
       "      <td>28.62</td>\n",
       "      <td>358.52</td>\n",
       "      <td>334.8540</td>\n",
       "      <td>27703</td>\n",
       "      <td>Card</td>\n",
       "      <td>Male</td>\n",
       "      <td>27</td>\n",
       "      <td>9237</td>\n",
       "      <td>814885</td>\n",
       "      <td>24701</td>\n",
       "    </tr>\n",
       "    <tr>\n",
       "      <th>4</th>\n",
       "      <td>10320494</td>\n",
       "      <td>2018-04-21</td>\n",
       "      <td>Yellow Cab</td>\n",
       "      <td>ATLANTA GA</td>\n",
       "      <td>36.38</td>\n",
       "      <td>721.10</td>\n",
       "      <td>467.1192</td>\n",
       "      <td>27703</td>\n",
       "      <td>Card</td>\n",
       "      <td>Male</td>\n",
       "      <td>27</td>\n",
       "      <td>9237</td>\n",
       "      <td>814885</td>\n",
       "      <td>24701</td>\n",
       "    </tr>\n",
       "  </tbody>\n",
       "</table>\n",
       "</div>"
      ],
      "text/plain": [
       "   Transaction ID Date of Travel     Company        City  KM Travelled  \\\n",
       "0        10000011     2016-01-08    Pink Cab  ATLANTA GA         30.45   \n",
       "1        10351127     2018-07-21  Yellow Cab  ATLANTA GA         26.19   \n",
       "2        10412921     2018-11-23  Yellow Cab  ATLANTA GA         42.55   \n",
       "3        10000012     2016-01-06    Pink Cab  ATLANTA GA         28.62   \n",
       "4        10320494     2018-04-21  Yellow Cab  ATLANTA GA         36.38   \n",
       "\n",
       "   Price Charged  Cost of Trip  Customer ID Payment_Mode Gender  Age  \\\n",
       "0         370.95      313.6350        29290         Card   Male   28   \n",
       "1         598.70      317.4228        29290         Cash   Male   28   \n",
       "2         792.05      597.4020        29290         Card   Male   28   \n",
       "3         358.52      334.8540        27703         Card   Male   27   \n",
       "4         721.10      467.1192        27703         Card   Male   27   \n",
       "\n",
       "   Income (USD/Month)  Population  Users  \n",
       "0               10813      814885  24701  \n",
       "1               10813      814885  24701  \n",
       "2               10813      814885  24701  \n",
       "3                9237      814885  24701  \n",
       "4                9237      814885  24701  "
      ]
     },
     "execution_count": 293,
     "metadata": {},
     "output_type": "execute_result"
    }
   ],
   "source": [
    "# Merge dataframes\n",
    "df= cab_df.merge(tran_id_df, on= 'Transaction ID').merge(customer_id_df, on ='Customer ID').merge(city_df, on = 'City')\n",
    "df.head()"
   ]
  },
  {
   "cell_type": "code",
   "execution_count": 294,
   "metadata": {},
   "outputs": [],
   "source": [
    "# Adding profit margin column\n",
    "df['Profit'] = df['Price Charged'] - df['Cost of Trip']"
   ]
  },
  {
   "cell_type": "code",
   "execution_count": 295,
   "metadata": {},
   "outputs": [
    {
     "data": {
      "text/html": [
       "<div>\n",
       "<style scoped>\n",
       "    .dataframe tbody tr th:only-of-type {\n",
       "        vertical-align: middle;\n",
       "    }\n",
       "\n",
       "    .dataframe tbody tr th {\n",
       "        vertical-align: top;\n",
       "    }\n",
       "\n",
       "    .dataframe thead th {\n",
       "        text-align: right;\n",
       "    }\n",
       "</style>\n",
       "<table border=\"1\" class=\"dataframe\">\n",
       "  <thead>\n",
       "    <tr style=\"text-align: right;\">\n",
       "      <th></th>\n",
       "      <th>Transaction ID</th>\n",
       "      <th>Date of Travel</th>\n",
       "      <th>Company</th>\n",
       "      <th>City</th>\n",
       "      <th>KM Travelled</th>\n",
       "      <th>Price Charged</th>\n",
       "      <th>Cost of Trip</th>\n",
       "      <th>Customer ID</th>\n",
       "      <th>Payment_Mode</th>\n",
       "      <th>Gender</th>\n",
       "      <th>Age</th>\n",
       "      <th>Income (USD/Month)</th>\n",
       "      <th>Population</th>\n",
       "      <th>Users</th>\n",
       "      <th>Profit</th>\n",
       "      <th>Year</th>\n",
       "      <th>Month</th>\n",
       "      <th>Day of Week</th>\n",
       "      <th>Day</th>\n",
       "    </tr>\n",
       "  </thead>\n",
       "  <tbody>\n",
       "    <tr>\n",
       "      <th>0</th>\n",
       "      <td>10000011</td>\n",
       "      <td>2016-01-08</td>\n",
       "      <td>Pink Cab</td>\n",
       "      <td>ATLANTA GA</td>\n",
       "      <td>30.45</td>\n",
       "      <td>370.95</td>\n",
       "      <td>313.6350</td>\n",
       "      <td>29290</td>\n",
       "      <td>Card</td>\n",
       "      <td>Male</td>\n",
       "      <td>28</td>\n",
       "      <td>10813</td>\n",
       "      <td>814885</td>\n",
       "      <td>24701</td>\n",
       "      <td>57.3150</td>\n",
       "      <td>2016</td>\n",
       "      <td>1</td>\n",
       "      <td>Friday</td>\n",
       "      <td>5</td>\n",
       "    </tr>\n",
       "    <tr>\n",
       "      <th>1</th>\n",
       "      <td>10351127</td>\n",
       "      <td>2018-07-21</td>\n",
       "      <td>Yellow Cab</td>\n",
       "      <td>ATLANTA GA</td>\n",
       "      <td>26.19</td>\n",
       "      <td>598.70</td>\n",
       "      <td>317.4228</td>\n",
       "      <td>29290</td>\n",
       "      <td>Cash</td>\n",
       "      <td>Male</td>\n",
       "      <td>28</td>\n",
       "      <td>10813</td>\n",
       "      <td>814885</td>\n",
       "      <td>24701</td>\n",
       "      <td>281.2772</td>\n",
       "      <td>2018</td>\n",
       "      <td>7</td>\n",
       "      <td>Saturday</td>\n",
       "      <td>6</td>\n",
       "    </tr>\n",
       "    <tr>\n",
       "      <th>2</th>\n",
       "      <td>10412921</td>\n",
       "      <td>2018-11-23</td>\n",
       "      <td>Yellow Cab</td>\n",
       "      <td>ATLANTA GA</td>\n",
       "      <td>42.55</td>\n",
       "      <td>792.05</td>\n",
       "      <td>597.4020</td>\n",
       "      <td>29290</td>\n",
       "      <td>Card</td>\n",
       "      <td>Male</td>\n",
       "      <td>28</td>\n",
       "      <td>10813</td>\n",
       "      <td>814885</td>\n",
       "      <td>24701</td>\n",
       "      <td>194.6480</td>\n",
       "      <td>2018</td>\n",
       "      <td>11</td>\n",
       "      <td>Friday</td>\n",
       "      <td>5</td>\n",
       "    </tr>\n",
       "    <tr>\n",
       "      <th>3</th>\n",
       "      <td>10000012</td>\n",
       "      <td>2016-01-06</td>\n",
       "      <td>Pink Cab</td>\n",
       "      <td>ATLANTA GA</td>\n",
       "      <td>28.62</td>\n",
       "      <td>358.52</td>\n",
       "      <td>334.8540</td>\n",
       "      <td>27703</td>\n",
       "      <td>Card</td>\n",
       "      <td>Male</td>\n",
       "      <td>27</td>\n",
       "      <td>9237</td>\n",
       "      <td>814885</td>\n",
       "      <td>24701</td>\n",
       "      <td>23.6660</td>\n",
       "      <td>2016</td>\n",
       "      <td>1</td>\n",
       "      <td>Wednesday</td>\n",
       "      <td>3</td>\n",
       "    </tr>\n",
       "    <tr>\n",
       "      <th>4</th>\n",
       "      <td>10320494</td>\n",
       "      <td>2018-04-21</td>\n",
       "      <td>Yellow Cab</td>\n",
       "      <td>ATLANTA GA</td>\n",
       "      <td>36.38</td>\n",
       "      <td>721.10</td>\n",
       "      <td>467.1192</td>\n",
       "      <td>27703</td>\n",
       "      <td>Card</td>\n",
       "      <td>Male</td>\n",
       "      <td>27</td>\n",
       "      <td>9237</td>\n",
       "      <td>814885</td>\n",
       "      <td>24701</td>\n",
       "      <td>253.9808</td>\n",
       "      <td>2018</td>\n",
       "      <td>4</td>\n",
       "      <td>Saturday</td>\n",
       "      <td>6</td>\n",
       "    </tr>\n",
       "  </tbody>\n",
       "</table>\n",
       "</div>"
      ],
      "text/plain": [
       "   Transaction ID Date of Travel     Company        City  KM Travelled  \\\n",
       "0        10000011     2016-01-08    Pink Cab  ATLANTA GA         30.45   \n",
       "1        10351127     2018-07-21  Yellow Cab  ATLANTA GA         26.19   \n",
       "2        10412921     2018-11-23  Yellow Cab  ATLANTA GA         42.55   \n",
       "3        10000012     2016-01-06    Pink Cab  ATLANTA GA         28.62   \n",
       "4        10320494     2018-04-21  Yellow Cab  ATLANTA GA         36.38   \n",
       "\n",
       "   Price Charged  Cost of Trip  Customer ID Payment_Mode Gender  Age  \\\n",
       "0         370.95      313.6350        29290         Card   Male   28   \n",
       "1         598.70      317.4228        29290         Cash   Male   28   \n",
       "2         792.05      597.4020        29290         Card   Male   28   \n",
       "3         358.52      334.8540        27703         Card   Male   27   \n",
       "4         721.10      467.1192        27703         Card   Male   27   \n",
       "\n",
       "   Income (USD/Month)  Population  Users    Profit  Year  Month Day of Week  \\\n",
       "0               10813      814885  24701   57.3150  2016      1      Friday   \n",
       "1               10813      814885  24701  281.2772  2018      7    Saturday   \n",
       "2               10813      814885  24701  194.6480  2018     11      Friday   \n",
       "3                9237      814885  24701   23.6660  2016      1   Wednesday   \n",
       "4                9237      814885  24701  253.9808  2018      4    Saturday   \n",
       "\n",
       "  Day  \n",
       "0   5  \n",
       "1   6  \n",
       "2   5  \n",
       "3   3  \n",
       "4   6  "
      ]
     },
     "execution_count": 295,
     "metadata": {},
     "output_type": "execute_result"
    }
   ],
   "source": [
    "# Categorize the year, month, and day of the week of travel\n",
    "\n",
    "year = []\n",
    "month = []\n",
    "\n",
    "for i in range(len(df['Date of Travel'])):\n",
    "    year.append(df['Date of Travel'][i].year)\n",
    "    month.append(df['Date of Travel'][i].month)\n",
    "    day.append(df['Date of Travel'][i].day)\n",
    "df['Year'] = year\n",
    "df['Month'] = month\n",
    "df['Day of Week'] = df['Date of Travel'].dt.day_name()\n",
    "\n",
    "for index, row in df.iterrows():\n",
    "    if row['Day of Week'] == 'Monday':\n",
    "        df.at[index,'Day'] = '1'\n",
    "    elif row['Day of Week'] == 'Tuesday':\n",
    "        df.at[index,'Day'] = '2'\n",
    "    elif row['Day of Week'] == 'Wednesday':\n",
    "        df.at[index,'Day'] = '3'\n",
    "    elif row['Day of Week'] == 'Thursday':\n",
    "        df.at[index,'Day'] = '4'\n",
    "    elif row['Day of Week'] == 'Friday':\n",
    "        df.at[index,'Day'] = '5'\n",
    "    elif row['Day of Week'] == 'Saturday':\n",
    "        df.at[index,'Day'] = '6'\n",
    "    elif row['Day of Week'] == 'Sunday':\n",
    "        df.at[index,'Day'] = '7'\n",
    "\n",
    "df.head()"
   ]
  },
  {
   "cell_type": "code",
   "execution_count": 296,
   "metadata": {},
   "outputs": [
    {
     "data": {
      "image/png": "[encoded data removed]",
      "text/plain": [
       "<Figure size 720x432 with 2 Axes>"
      ]
     },
     "metadata": {
      "needs_background": "light"
     },
     "output_type": "display_data"
    }
   ],
   "source": [
    "# Find correlations of each aspects\n",
    "corr_df = df[['KM Travelled','Price Charged', 'Cost of Trip', 'Profit', 'Age','Income (USD/Month)', 'Population','Users']].corr()\n",
    "# Use Seaborn heatmap to visualize the correlation\n",
    "plt.subplots(figsize=(10,6))\n",
    "sns.heatmap(corr_df, vmin = -1, vmax=1, cmap='inferno', annot=True)\n",
    "plt.show()"
   ]
  },
  {
   "cell_type": "markdown",
   "metadata": {},
   "source": [
    "> <b> We can see from the above image that KM Travelled, Price Charged, Cost of Trip, Population, and Users have positive correlation with each other </b>"
   ]
  },
  {
   "cell_type": "markdown",
   "metadata": {},
   "source": [
    "  "
   ]
  },
  {
   "cell_type": "markdown",
   "metadata": {
    "id": "TkmV70CzCYq2"
   },
   "source": [
    "## Step 2. Data investigation and visualization"
   ]
  },
  {
   "cell_type": "markdown",
   "metadata": {},
   "source": [
    "### Hypotheses: Yellow VS. Pink"
   ]
  },
  {
   "cell_type": "markdown",
   "metadata": {},
   "source": [
    "> How many rides were taken by customers in each company?\n",
    "\n",
    "> Which city cost more for each company for every KM travelled? \n",
    "(Ave cost per KM by company by city)\n",
    "\n",
    "> Which company in which city has the highest profit margin?\n",
    "\n",
    "> Dominate cities by company\n",
    "\n"
   ]
  },
  {
   "cell_type": "code",
   "execution_count": 297,
   "metadata": {},
   "outputs": [
    {
     "data": {
      "text/plain": [
       "Yellow Cab    274681\n",
       "Pink Cab       84711\n",
       "Name: Company, dtype: int64"
      ]
     },
     "execution_count": 297,
     "metadata": {},
     "output_type": "execute_result"
    }
   ],
   "source": [
    "# Total rides from 2016-2018\n",
    "df['Company'].value_counts()"
   ]
  },
  {
   "cell_type": "code",
   "execution_count": 298,
   "metadata": {},
   "outputs": [
    {
     "data": {
      "image/png": "[encoded data removed]",
      "text/plain": [
       "<Figure size 360x360 with 1 Axes>"
      ]
     },
     "metadata": {},
     "output_type": "display_data"
    }
   ],
   "source": [
    "# Using pie chart graph the ride distribution between the two companies\n",
    "labels = 'Pink Cab', 'Yellow Cab'\n",
    "sizes = [84711, 274681]\n",
    "colors = ['pink', 'yellow']\n",
    "explode = (0,0.1)\n",
    "fig1, ax1 = plt.subplots(figsize=(5,5))\n",
    "ax1.pie(sizes, explode = explode, labels=labels, autopct='%1.1f%%',shadow=True, startangle=90, colors = colors)\n",
    "ax1.axis('equal')\n",
    "\n",
    "plt.title('Total Rides Distribution 2016-2018', fontsize = 15)\n",
    "plt.show()"
   ]
  },
  {
   "cell_type": "markdown",
   "metadata": {},
   "source": [
    "> <b> During the analyzing period, more than 4 times of the rides were taken in `Yellow cab` than in Pink cab.</b>"
   ]
  },
  {
   "cell_type": "code",
   "execution_count": 299,
   "metadata": {},
   "outputs": [
    {
     "data": {
      "text/html": [
       "<div>\n",
       "<style scoped>\n",
       "    .dataframe tbody tr th:only-of-type {\n",
       "        vertical-align: middle;\n",
       "    }\n",
       "\n",
       "    .dataframe tbody tr th {\n",
       "        vertical-align: top;\n",
       "    }\n",
       "\n",
       "    .dataframe thead th {\n",
       "        text-align: right;\n",
       "    }\n",
       "</style>\n",
       "<table border=\"1\" class=\"dataframe\">\n",
       "  <thead>\n",
       "    <tr style=\"text-align: right;\">\n",
       "      <th></th>\n",
       "      <th></th>\n",
       "      <th>Transaction ID</th>\n",
       "      <th>KM Travelled</th>\n",
       "      <th>Price Charged</th>\n",
       "      <th>Cost of Trip</th>\n",
       "      <th>Customer ID</th>\n",
       "      <th>Age</th>\n",
       "      <th>Income (USD/Month)</th>\n",
       "      <th>Population</th>\n",
       "      <th>Users</th>\n",
       "      <th>Profit</th>\n",
       "      <th>Year</th>\n",
       "      <th>Month</th>\n",
       "      <th>Cost per KM</th>\n",
       "    </tr>\n",
       "    <tr>\n",
       "      <th>City</th>\n",
       "      <th>Company</th>\n",
       "      <th></th>\n",
       "      <th></th>\n",
       "      <th></th>\n",
       "      <th></th>\n",
       "      <th></th>\n",
       "      <th></th>\n",
       "      <th></th>\n",
       "      <th></th>\n",
       "      <th></th>\n",
       "      <th></th>\n",
       "      <th></th>\n",
       "      <th></th>\n",
       "      <th></th>\n",
       "    </tr>\n",
       "  </thead>\n",
       "  <tbody>\n",
       "    <tr>\n",
       "      <th rowspan=\"2\" valign=\"top\">ATLANTA GA</th>\n",
       "      <th>Pink Cab</th>\n",
       "      <td>1.021965e+07</td>\n",
       "      <td>22.539824</td>\n",
       "      <td>302.131555</td>\n",
       "      <td>247.619594</td>\n",
       "      <td>28504.842225</td>\n",
       "      <td>35.321793</td>\n",
       "      <td>15033.438706</td>\n",
       "      <td>814885.0</td>\n",
       "      <td>24701.0</td>\n",
       "      <td>54.511961</td>\n",
       "      <td>2017.046538</td>\n",
       "      <td>7.528944</td>\n",
       "      <td>10.985871</td>\n",
       "    </tr>\n",
       "    <tr>\n",
       "      <th>Yellow Cab</th>\n",
       "      <td>1.022087e+07</td>\n",
       "      <td>22.248247</td>\n",
       "      <td>422.413446</td>\n",
       "      <td>293.615723</td>\n",
       "      <td>28489.815531</td>\n",
       "      <td>35.306816</td>\n",
       "      <td>14902.657981</td>\n",
       "      <td>814885.0</td>\n",
       "      <td>24701.0</td>\n",
       "      <td>128.797723</td>\n",
       "      <td>2017.050043</td>\n",
       "      <td>7.483693</td>\n",
       "      <td>13.197252</td>\n",
       "    </tr>\n",
       "    <tr>\n",
       "      <th rowspan=\"2\" valign=\"top\">AUSTIN TX</th>\n",
       "      <th>Pink Cab</th>\n",
       "      <td>1.023399e+07</td>\n",
       "      <td>21.969176</td>\n",
       "      <td>320.435070</td>\n",
       "      <td>241.502901</td>\n",
       "      <td>34513.518737</td>\n",
       "      <td>35.672377</td>\n",
       "      <td>14863.617773</td>\n",
       "      <td>698371.0</td>\n",
       "      <td>14978.0</td>\n",
       "      <td>78.932168</td>\n",
       "      <td>2017.058351</td>\n",
       "      <td>8.579229</td>\n",
       "      <td>10.992807</td>\n",
       "    </tr>\n",
       "    <tr>\n",
       "      <th>Yellow Cab</th>\n",
       "      <td>1.022852e+07</td>\n",
       "      <td>22.512840</td>\n",
       "      <td>422.248940</td>\n",
       "      <td>296.999358</td>\n",
       "      <td>34522.128798</td>\n",
       "      <td>35.129458</td>\n",
       "      <td>14593.396631</td>\n",
       "      <td>698371.0</td>\n",
       "      <td>14978.0</td>\n",
       "      <td>125.249582</td>\n",
       "      <td>2017.036988</td>\n",
       "      <td>8.232166</td>\n",
       "      <td>13.192443</td>\n",
       "    </tr>\n",
       "    <tr>\n",
       "      <th>BOSTON MA</th>\n",
       "      <th>Pink Cab</th>\n",
       "      <td>1.022321e+07</td>\n",
       "      <td>22.740746</td>\n",
       "      <td>300.551489</td>\n",
       "      <td>250.030529</td>\n",
       "      <td>58514.572889</td>\n",
       "      <td>35.183571</td>\n",
       "      <td>15383.779213</td>\n",
       "      <td>248968.0</td>\n",
       "      <td>80021.0</td>\n",
       "      <td>50.520960</td>\n",
       "      <td>2017.047243</td>\n",
       "      <td>7.766101</td>\n",
       "      <td>10.994825</td>\n",
       "    </tr>\n",
       "  </tbody>\n",
       "</table>\n",
       "</div>"
      ],
      "text/plain": [
       "                       Transaction ID  KM Travelled  Price Charged  \\\n",
       "City       Company                                                   \n",
       "ATLANTA GA Pink Cab      1.021965e+07     22.539824     302.131555   \n",
       "           Yellow Cab    1.022087e+07     22.248247     422.413446   \n",
       "AUSTIN TX  Pink Cab      1.023399e+07     21.969176     320.435070   \n",
       "           Yellow Cab    1.022852e+07     22.512840     422.248940   \n",
       "BOSTON MA  Pink Cab      1.022321e+07     22.740746     300.551489   \n",
       "\n",
       "                       Cost of Trip   Customer ID        Age  \\\n",
       "City       Company                                             \n",
       "ATLANTA GA Pink Cab      247.619594  28504.842225  35.321793   \n",
       "           Yellow Cab    293.615723  28489.815531  35.306816   \n",
       "AUSTIN TX  Pink Cab      241.502901  34513.518737  35.672377   \n",
       "           Yellow Cab    296.999358  34522.128798  35.129458   \n",
       "BOSTON MA  Pink Cab      250.030529  58514.572889  35.183571   \n",
       "\n",
       "                       Income (USD/Month)  Population    Users      Profit  \\\n",
       "City       Company                                                           \n",
       "ATLANTA GA Pink Cab          15033.438706    814885.0  24701.0   54.511961   \n",
       "           Yellow Cab        14902.657981    814885.0  24701.0  128.797723   \n",
       "AUSTIN TX  Pink Cab          14863.617773    698371.0  14978.0   78.932168   \n",
       "           Yellow Cab        14593.396631    698371.0  14978.0  125.249582   \n",
       "BOSTON MA  Pink Cab          15383.779213    248968.0  80021.0   50.520960   \n",
       "\n",
       "                              Year     Month  Cost per KM  \n",
       "City       Company                                         \n",
       "ATLANTA GA Pink Cab    2017.046538  7.528944    10.985871  \n",
       "           Yellow Cab  2017.050043  7.483693    13.197252  \n",
       "AUSTIN TX  Pink Cab    2017.058351  8.579229    10.992807  \n",
       "           Yellow Cab  2017.036988  8.232166    13.192443  \n",
       "BOSTON MA  Pink Cab    2017.047243  7.766101    10.994825  "
      ]
     },
     "execution_count": 299,
     "metadata": {},
     "output_type": "execute_result"
    }
   ],
   "source": [
    "# Create a new dataframe group all data by city and by company and find average values of each category\n",
    "df_by_ct_co_avg = df.groupby(['City','Company']).mean()\n",
    "# Create a new column containing cost per km information\n",
    "df_by_ct_co_avg['Cost per KM'] = df_by_ct_co_avg['Cost of Trip']/df_by_ct_co_avg['KM Travelled']\n",
    "df_by_ct_co_avg.head()"
   ]
  },
  {
   "cell_type": "code",
   "execution_count": 300,
   "metadata": {},
   "outputs": [
    {
     "data": {
      "text/html": [
       "<div>\n",
       "<style scoped>\n",
       "    .dataframe tbody tr th:only-of-type {\n",
       "        vertical-align: middle;\n",
       "    }\n",
       "\n",
       "    .dataframe tbody tr th {\n",
       "        vertical-align: top;\n",
       "    }\n",
       "\n",
       "    .dataframe thead th {\n",
       "        text-align: right;\n",
       "    }\n",
       "</style>\n",
       "<table border=\"1\" class=\"dataframe\">\n",
       "  <thead>\n",
       "    <tr style=\"text-align: right;\">\n",
       "      <th></th>\n",
       "      <th></th>\n",
       "      <th>Transaction ID</th>\n",
       "      <th>KM Travelled</th>\n",
       "      <th>Price Charged</th>\n",
       "      <th>Cost of Trip</th>\n",
       "      <th>Customer ID</th>\n",
       "      <th>Age</th>\n",
       "      <th>Income (USD/Month)</th>\n",
       "      <th>Population</th>\n",
       "      <th>Users</th>\n",
       "      <th>Profit</th>\n",
       "      <th>Year</th>\n",
       "      <th>Month</th>\n",
       "    </tr>\n",
       "    <tr>\n",
       "      <th>City</th>\n",
       "      <th>Company</th>\n",
       "      <th></th>\n",
       "      <th></th>\n",
       "      <th></th>\n",
       "      <th></th>\n",
       "      <th></th>\n",
       "      <th></th>\n",
       "      <th></th>\n",
       "      <th></th>\n",
       "      <th></th>\n",
       "      <th></th>\n",
       "      <th></th>\n",
       "      <th></th>\n",
       "    </tr>\n",
       "  </thead>\n",
       "  <tbody>\n",
       "    <tr>\n",
       "      <th rowspan=\"2\" valign=\"top\">ATLANTA GA</th>\n",
       "      <th>Pink Cab</th>\n",
       "      <td>18007031833</td>\n",
       "      <td>39715.17</td>\n",
       "      <td>532355.80</td>\n",
       "      <td>4.363057e+05</td>\n",
       "      <td>50225532</td>\n",
       "      <td>62237</td>\n",
       "      <td>26488919</td>\n",
       "      <td>1435827370</td>\n",
       "      <td>43523162</td>\n",
       "      <td>96050.0760</td>\n",
       "      <td>3554036</td>\n",
       "      <td>13266</td>\n",
       "    </tr>\n",
       "    <tr>\n",
       "      <th>Yellow Cab</th>\n",
       "      <td>59229968168</td>\n",
       "      <td>128928.59</td>\n",
       "      <td>2447885.92</td>\n",
       "      <td>1.701503e+06</td>\n",
       "      <td>165098481</td>\n",
       "      <td>204603</td>\n",
       "      <td>86360903</td>\n",
       "      <td>4722258575</td>\n",
       "      <td>143142295</td>\n",
       "      <td>746382.8056</td>\n",
       "      <td>11688805</td>\n",
       "      <td>43368</td>\n",
       "    </tr>\n",
       "    <tr>\n",
       "      <th rowspan=\"2\" valign=\"top\">AUSTIN TX</th>\n",
       "      <th>Pink Cab</th>\n",
       "      <td>19117094048</td>\n",
       "      <td>41038.42</td>\n",
       "      <td>598572.71</td>\n",
       "      <td>4.511274e+05</td>\n",
       "      <td>64471253</td>\n",
       "      <td>66636</td>\n",
       "      <td>27765238</td>\n",
       "      <td>1304557028</td>\n",
       "      <td>27978904</td>\n",
       "      <td>147445.2900</td>\n",
       "      <td>3767865</td>\n",
       "      <td>16026</td>\n",
       "    </tr>\n",
       "    <tr>\n",
       "      <th>Yellow Cab</th>\n",
       "      <td>30971960840</td>\n",
       "      <td>68168.88</td>\n",
       "      <td>1278569.79</td>\n",
       "      <td>8.993141e+05</td>\n",
       "      <td>104533006</td>\n",
       "      <td>106372</td>\n",
       "      <td>44188805</td>\n",
       "      <td>2114667388</td>\n",
       "      <td>45353384</td>\n",
       "      <td>379255.7352</td>\n",
       "      <td>6107588</td>\n",
       "      <td>24927</td>\n",
       "    </tr>\n",
       "    <tr>\n",
       "      <th>BOSTON MA</th>\n",
       "      <th>Pink Cab</th>\n",
       "      <td>53017566077</td>\n",
       "      <td>117933.51</td>\n",
       "      <td>1558660.02</td>\n",
       "      <td>1.296658e+06</td>\n",
       "      <td>303456575</td>\n",
       "      <td>182462</td>\n",
       "      <td>79780279</td>\n",
       "      <td>1291148048</td>\n",
       "      <td>414988906</td>\n",
       "      <td>262001.6980</td>\n",
       "      <td>10460407</td>\n",
       "      <td>40275</td>\n",
       "    </tr>\n",
       "  </tbody>\n",
       "</table>\n",
       "</div>"
      ],
      "text/plain": [
       "                       Transaction ID  KM Travelled  Price Charged  \\\n",
       "City       Company                                                   \n",
       "ATLANTA GA Pink Cab       18007031833      39715.17      532355.80   \n",
       "           Yellow Cab     59229968168     128928.59     2447885.92   \n",
       "AUSTIN TX  Pink Cab       19117094048      41038.42      598572.71   \n",
       "           Yellow Cab     30971960840      68168.88     1278569.79   \n",
       "BOSTON MA  Pink Cab       53017566077     117933.51     1558660.02   \n",
       "\n",
       "                       Cost of Trip  Customer ID     Age  Income (USD/Month)  \\\n",
       "City       Company                                                             \n",
       "ATLANTA GA Pink Cab    4.363057e+05     50225532   62237            26488919   \n",
       "           Yellow Cab  1.701503e+06    165098481  204603            86360903   \n",
       "AUSTIN TX  Pink Cab    4.511274e+05     64471253   66636            27765238   \n",
       "           Yellow Cab  8.993141e+05    104533006  106372            44188805   \n",
       "BOSTON MA  Pink Cab    1.296658e+06    303456575  182462            79780279   \n",
       "\n",
       "                       Population      Users       Profit      Year  Month  \n",
       "City       Company                                                          \n",
       "ATLANTA GA Pink Cab    1435827370   43523162   96050.0760   3554036  13266  \n",
       "           Yellow Cab  4722258575  143142295  746382.8056  11688805  43368  \n",
       "AUSTIN TX  Pink Cab    1304557028   27978904  147445.2900   3767865  16026  \n",
       "           Yellow Cab  2114667388   45353384  379255.7352   6107588  24927  \n",
       "BOSTON MA  Pink Cab    1291148048  414988906  262001.6980  10460407  40275  "
      ]
     },
     "execution_count": 300,
     "metadata": {},
     "output_type": "execute_result"
    }
   ],
   "source": [
    "# Create a new dataframe group all data by city and by company and find total values of each category\n",
    "df_by_ct_co_sum = df.groupby(['City','Company']).sum()\n",
    "df_by_ct_co_sum.head()"
   ]
  },
  {
   "cell_type": "code",
   "execution_count": 301,
   "metadata": {},
   "outputs": [
    {
     "data": {
      "text/html": [
       "\n",
       "\n",
       "\n",
       "\n",
       "\n",
       "\n",
       "  <div class=\"bk-root\" id=\"67769a61-65a3-4815-af96-4ec603342fa4\" data-root-id=\"18369\"></div>\n"
      ]
     },
     "metadata": {},
     "output_type": "display_data"
    },
    {
     "data": {
      "application/javascript": [
       "(function(root) {\n",
       "  function embed_document(root) {\n",
       "    \n",
       "  const docs_json = {\"19a1e662-0b2c-4275-9be5-8383feb6b7b5\":{\"defs\":[{\"extends\":null,\"module\":null,\"name\":\"ReactiveHTML1\",\"overrides\":[],\"properties\":[]},{\"extends\":null,\"module\":null,\"name\":\"FlexBox1\",\"overrides\":[],\"properties\":[{\"default\":\"flex-start\",\"kind\":null,\"name\":\"align_content\"},{\"default\":\"flex-start\",\"kind\":null,\"name\":\"align_items\"},{\"default\":\"row\",\"kind\":null,\"name\":\"flex_direction\"},{\"default\":\"wrap\",\"kind\":null,\"name\":\"flex_wrap\"},{\"default\":\"flex-start\",\"kind\":null,\"name\":\"justify_content\"}]},{\"extends\":null,\"module\":null,\"name\":\"GridStack1\",\"overrides\":[],\"properties\":[{\"default\":\"warn\",\"kind\":null,\"name\":\"mode\"},{\"default\":null,\"kind\":null,\"name\":\"ncols\"},{\"default\":null,\"kind\":null,\"name\":\"nrows\"},{\"default\":true,\"kind\":null,\"name\":\"allow_resize\"},{\"default\":true,\"kind\":null,\"name\":\"allow_drag\"},{\"default\":[],\"kind\":null,\"name\":\"state\"}]},{\"extends\":null,\"module\":null,\"name\":\"click1\",\"overrides\":[],\"properties\":[{\"default\":\"\",\"kind\":null,\"name\":\"terminal_output\"},{\"default\":\"\",\"kind\":null,\"name\":\"debug_name\"},{\"default\":0,\"kind\":null,\"name\":\"clears\"}]},{\"extends\":null,\"module\":null,\"name\":\"TemplateActions1\",\"overrides\":[],\"properties\":[{\"default\":0,\"kind\":null,\"name\":\"open_modal\"},{\"default\":0,\"kind\":null,\"name\":\"close_modal\"}]},{\"extends\":null,\"module\":null,\"name\":\"MaterialTemplateActions1\",\"overrides\":[],\"properties\":[{\"default\":0,\"kind\":null,\"name\":\"open_modal\"},{\"default\":0,\"kind\":null,\"name\":\"close_modal\"}]}],\"roots\":{\"references\":[{\"attributes\":{\"below\":[{\"id\":\"18378\"}],\"center\":[{\"id\":\"18380\"},{\"id\":\"18384\"}],\"height\":700,\"left\":[{\"id\":\"18381\"}],\"margin\":null,\"min_border_bottom\":10,\"min_border_left\":10,\"min_border_right\":10,\"min_border_top\":10,\"renderers\":[{\"id\":\"18405\"}],\"sizing_mode\":\"fixed\",\"title\":{\"id\":\"18370\"},\"toolbar\":{\"id\":\"18391\"},\"width\":800,\"x_range\":{\"id\":\"18366\"},\"x_scale\":{\"id\":\"18374\"},\"y_range\":{\"id\":\"18367\"},\"y_scale\":{\"id\":\"18376\"}},\"id\":\"18369\",\"subtype\":\"Figure\",\"type\":\"Plot\"},{\"attributes\":{},\"id\":\"18386\",\"type\":\"PanTool\"},{\"attributes\":{},\"id\":\"18400\",\"type\":\"Selection\"},{\"attributes\":{\"tools\":[{\"id\":\"18368\"},{\"id\":\"18385\"},{\"id\":\"18386\"},{\"id\":\"18387\"},{\"id\":\"18388\"},{\"id\":\"18389\"}]},\"id\":\"18391\",\"type\":\"Toolbar\"},{\"attributes\":{},\"id\":\"18379\",\"type\":\"CategoricalTicker\"},{\"attributes\":{},\"id\":\"18387\",\"type\":\"WheelZoomTool\"},{\"attributes\":{\"axis\":{\"id\":\"18378\"},\"coordinates\":null,\"grid_line_color\":null,\"group\":null,\"ticker\":null},\"id\":\"18380\",\"type\":\"Grid\"},{\"attributes\":{\"fill_alpha\":{\"value\":0.1},\"fill_color\":{\"field\":\"Company\",\"transform\":{\"id\":\"18398\"}},\"hatch_alpha\":{\"value\":0.1},\"hatch_color\":{\"field\":\"Company\",\"transform\":{\"id\":\"18398\"}},\"line_alpha\":{\"value\":0.1},\"top\":{\"field\":\"KM_Travelled\"},\"width\":{\"value\":0.8},\"x\":{\"field\":\"xoffsets\"}},\"id\":\"18403\",\"type\":\"VBar\"},{\"attributes\":{\"factors\":[\"Pink Cab\",\"Yellow Cab\"],\"palette\":[\"pink\",\"yellow\"]},\"id\":\"18398\",\"type\":\"CategoricalColorMapper\"},{\"attributes\":{\"axis_label\":\"KM Travelled\",\"coordinates\":null,\"formatter\":{\"id\":\"18408\"},\"group\":null,\"major_label_policy\":{\"id\":\"18414\"},\"ticker\":{\"id\":\"18382\"}},\"id\":\"18381\",\"type\":\"LinearAxis\"},{\"attributes\":{\"factors\":[[\"ATLANTA GA\",\"Pink Cab\"],[\"ATLANTA GA\",\"Yellow Cab\"],[\"AUSTIN TX\",\"Pink Cab\"],[\"AUSTIN TX\",\"Yellow Cab\"],[\"BOSTON MA\",\"Pink Cab\"],[\"BOSTON MA\",\"Yellow Cab\"],[\"CHICAGO IL\",\"Pink Cab\"],[\"CHICAGO IL\",\"Yellow Cab\"],[\"DALLAS TX\",\"Pink Cab\"],[\"DALLAS TX\",\"Yellow Cab\"],[\"DENVER CO\",\"Pink Cab\"],[\"DENVER CO\",\"Yellow Cab\"],[\"LOS ANGELES CA\",\"Pink Cab\"],[\"LOS ANGELES CA\",\"Yellow Cab\"],[\"MIAMI FL\",\"Pink Cab\"],[\"MIAMI FL\",\"Yellow Cab\"],[\"NASHVILLE TN\",\"Pink Cab\"],[\"NASHVILLE TN\",\"Yellow Cab\"],[\"NEW YORK NY\",\"Pink Cab\"],[\"NEW YORK NY\",\"Yellow Cab\"],[\"ORANGE COUNTY\",\"Pink Cab\"],[\"ORANGE COUNTY\",\"Yellow Cab\"],[\"PHOENIX AZ\",\"Pink Cab\"],[\"PHOENIX AZ\",\"Yellow Cab\"],[\"PITTSBURGH PA\",\"Pink Cab\"],[\"PITTSBURGH PA\",\"Yellow Cab\"],[\"SACRAMENTO CA\",\"Pink Cab\"],[\"SACRAMENTO CA\",\"Yellow Cab\"],[\"SAN DIEGO CA\",\"Pink Cab\"],[\"SAN DIEGO CA\",\"Yellow Cab\"],[\"SEATTLE WA\",\"Pink Cab\"],[\"SEATTLE WA\",\"Yellow Cab\"],[\"SILICON VALLEY\",\"Pink Cab\"],[\"SILICON VALLEY\",\"Yellow Cab\"],[\"TUCSON AZ\",\"Pink Cab\"],[\"TUCSON AZ\",\"Yellow Cab\"],[\"WASHINGTON DC\",\"Pink Cab\"],[\"WASHINGTON DC\",\"Yellow Cab\"]],\"tags\":[[[\"City\",\"City\",null],[\"Company\",\"Company\",null]]]},\"id\":\"18366\",\"type\":\"FactorRange\"},{\"attributes\":{\"callback\":null,\"renderers\":[{\"id\":\"18405\"}],\"tags\":[\"hv_created\"],\"tooltips\":[[\"City\",\"@{City}\"],[\"Company\",\"@{Company}\"],[\"KM Travelled\",\"@{KM_Travelled}\"]]},\"id\":\"18368\",\"type\":\"HoverTool\"},{\"attributes\":{},\"id\":\"18385\",\"type\":\"SaveTool\"},{\"attributes\":{\"fill_alpha\":{\"value\":0.2},\"fill_color\":{\"field\":\"Company\",\"transform\":{\"id\":\"18398\"}},\"hatch_alpha\":{\"value\":0.2},\"hatch_color\":{\"field\":\"Company\",\"transform\":{\"id\":\"18398\"}},\"line_alpha\":{\"value\":0.2},\"top\":{\"field\":\"KM_Travelled\"},\"width\":{\"value\":0.8},\"x\":{\"field\":\"xoffsets\"}},\"id\":\"18404\",\"type\":\"VBar\"},{\"attributes\":{},\"id\":\"18414\",\"type\":\"AllLabels\"},{\"attributes\":{\"end\":2124696.207,\"reset_end\":2124696.207,\"reset_start\":0.0,\"tags\":[[[\"KM Travelled\",\"KM Travelled\",null]]]},\"id\":\"18367\",\"type\":\"Range1d\"},{\"attributes\":{\"format\":\"%.0f\"},\"id\":\"18408\",\"type\":\"PrintfTickFormatter\"},{\"attributes\":{\"data\":{\"City\":[\"ATLANTA GA\",\"AUSTIN TX\",\"BOSTON MA\",\"CHICAGO IL\",\"DALLAS TX\",\"DENVER CO\",\"LOS ANGELES CA\",\"MIAMI FL\",\"NASHVILLE TN\",\"NEW YORK NY\",\"ORANGE COUNTY\",\"PHOENIX AZ\",\"PITTSBURGH PA\",\"SACRAMENTO CA\",\"SAN DIEGO CA\",\"SEATTLE WA\",\"SILICON VALLEY\",\"TUCSON AZ\",\"WASHINGTON DC\",\"ATLANTA GA\",\"AUSTIN TX\",\"BOSTON MA\",\"CHICAGO IL\",\"DALLAS TX\",\"DENVER CO\",\"LOS ANGELES CA\",\"MIAMI FL\",\"NASHVILLE TN\",\"NEW YORK NY\",\"ORANGE COUNTY\",\"PHOENIX AZ\",\"PITTSBURGH PA\",\"SACRAMENTO CA\",\"SAN DIEGO CA\",\"SEATTLE WA\",\"SILICON VALLEY\",\"TUCSON AZ\",\"WASHINGTON DC\"],\"Company\":[\"Pink Cab\",\"Pink Cab\",\"Pink Cab\",\"Pink Cab\",\"Pink Cab\",\"Pink Cab\",\"Pink Cab\",\"Pink Cab\",\"Pink Cab\",\"Pink Cab\",\"Pink Cab\",\"Pink Cab\",\"Pink Cab\",\"Pink Cab\",\"Pink Cab\",\"Pink Cab\",\"Pink Cab\",\"Pink Cab\",\"Pink Cab\",\"Yellow Cab\",\"Yellow Cab\",\"Yellow Cab\",\"Yellow Cab\",\"Yellow Cab\",\"Yellow Cab\",\"Yellow Cab\",\"Yellow Cab\",\"Yellow Cab\",\"Yellow Cab\",\"Yellow Cab\",\"Yellow Cab\",\"Yellow Cab\",\"Yellow Cab\",\"Yellow Cab\",\"Yellow Cab\",\"Yellow Cab\",\"Yellow Cab\",\"Yellow Cab\"],\"KM_Travelled\":{\"__ndarray__\":\"CtejcGVk40AK16NwzQnkQI/C9SjYyvxApHA9CjG5CUE9CtejUK3dQJqZmZkJk95ASOF6FONxG0FmZmZmjszlQArXo3BFQORASOF6FP1IE0EAAAAAEGngQMP1KFxvWdJArkfhelQUzkBcj8L1iHLdQFyPwvX+YQ1BcT0K1wtG7kApXI/CySD1QEjhehS+mdFAMzMzM29D9EAK16NwCXr/QEjhehSOpPBAcT0KVw3cIEEpXI9CglcwQT0K16MMGv9AMzMzMzOk6kApXI/CzYAjQVK4HoVbmvhArkfheqQ42kCF61F4Kn49QUjhehRG9upAKVyPwtVm2kDNzMzMjPDLQHE9CtfDJtdA9ihcj77UCkG4HoXreQf9QClcj8JFKvpAKVyPwrWd2EC4HoVrbaYrQQ==\",\"dtype\":\"float64\",\"order\":\"little\",\"shape\":[38]},\"xoffsets\":[[\"ATLANTA GA\",\"Pink Cab\"],[\"AUSTIN TX\",\"Pink Cab\"],[\"BOSTON MA\",\"Pink Cab\"],[\"CHICAGO IL\",\"Pink Cab\"],[\"DALLAS TX\",\"Pink Cab\"],[\"DENVER CO\",\"Pink Cab\"],[\"LOS ANGELES CA\",\"Pink Cab\"],[\"MIAMI FL\",\"Pink Cab\"],[\"NASHVILLE TN\",\"Pink Cab\"],[\"NEW YORK NY\",\"Pink Cab\"],[\"ORANGE COUNTY\",\"Pink Cab\"],[\"PHOENIX AZ\",\"Pink Cab\"],[\"PITTSBURGH PA\",\"Pink Cab\"],[\"SACRAMENTO CA\",\"Pink Cab\"],[\"SAN DIEGO CA\",\"Pink Cab\"],[\"SEATTLE WA\",\"Pink Cab\"],[\"SILICON VALLEY\",\"Pink Cab\"],[\"TUCSON AZ\",\"Pink Cab\"],[\"WASHINGTON DC\",\"Pink Cab\"],[\"ATLANTA GA\",\"Yellow Cab\"],[\"AUSTIN TX\",\"Yellow Cab\"],[\"BOSTON MA\",\"Yellow Cab\"],[\"CHICAGO IL\",\"Yellow Cab\"],[\"DALLAS TX\",\"Yellow Cab\"],[\"DENVER CO\",\"Yellow Cab\"],[\"LOS ANGELES CA\",\"Yellow Cab\"],[\"MIAMI FL\",\"Yellow Cab\"],[\"NASHVILLE TN\",\"Yellow Cab\"],[\"NEW YORK NY\",\"Yellow Cab\"],[\"ORANGE COUNTY\",\"Yellow Cab\"],[\"PHOENIX AZ\",\"Yellow Cab\"],[\"PITTSBURGH PA\",\"Yellow Cab\"],[\"SACRAMENTO CA\",\"Yellow Cab\"],[\"SAN DIEGO CA\",\"Yellow Cab\"],[\"SEATTLE WA\",\"Yellow Cab\"],[\"SILICON VALLEY\",\"Yellow Cab\"],[\"TUCSON AZ\",\"Yellow Cab\"],[\"WASHINGTON DC\",\"Yellow Cab\"]]},\"selected\":{\"id\":\"18400\"},\"selection_policy\":{\"id\":\"18474\"}},\"id\":\"18399\",\"type\":\"ColumnDataSource\"},{\"attributes\":{},\"id\":\"18382\",\"type\":\"BasicTicker\"},{\"attributes\":{\"axis\":{\"id\":\"18381\"},\"coordinates\":null,\"dimension\":1,\"grid_line_color\":null,\"group\":null,\"ticker\":null},\"id\":\"18384\",\"type\":\"Grid\"},{\"attributes\":{\"source\":{\"id\":\"18399\"}},\"id\":\"18406\",\"type\":\"CDSView\"},{\"attributes\":{},\"id\":\"18474\",\"type\":\"UnionRenderers\"},{\"attributes\":{\"coordinates\":null,\"data_source\":{\"id\":\"18399\"},\"glyph\":{\"id\":\"18402\"},\"group\":null,\"hover_glyph\":null,\"muted_glyph\":{\"id\":\"18404\"},\"nonselection_glyph\":{\"id\":\"18403\"},\"selection_glyph\":{\"id\":\"18407\"},\"view\":{\"id\":\"18406\"}},\"id\":\"18405\",\"type\":\"GlyphRenderer\"},{\"attributes\":{\"bottom\":{\"value\":0},\"fill_alpha\":{\"value\":1.0},\"fill_color\":{\"field\":\"Company\",\"transform\":{\"id\":\"18398\"}},\"hatch_alpha\":{\"value\":1.0},\"hatch_color\":{\"field\":\"Company\",\"transform\":{\"id\":\"18398\"}},\"hatch_scale\":{\"value\":12.0},\"hatch_weight\":{\"value\":1.0},\"line_alpha\":{\"value\":1.0},\"line_cap\":{\"value\":\"butt\"},\"line_color\":{\"value\":\"black\"},\"line_dash\":{\"value\":[]},\"line_dash_offset\":{\"value\":0},\"line_join\":{\"value\":\"bevel\"},\"line_width\":{\"value\":1},\"top\":{\"field\":\"KM_Travelled\"},\"width\":{\"value\":0.8},\"x\":{\"field\":\"xoffsets\"}},\"id\":\"18407\",\"type\":\"VBar\"},{\"attributes\":{},\"id\":\"18410\",\"type\":\"CategoricalTickFormatter\"},{\"attributes\":{},\"id\":\"18411\",\"type\":\"AllLabels\"},{\"attributes\":{\"coordinates\":null,\"group\":null,\"text\":\"Total KM Traveled in Each City\"},\"id\":\"18370\",\"type\":\"Title\"},{\"attributes\":{},\"id\":\"18374\",\"type\":\"CategoricalScale\"},{\"attributes\":{\"fill_color\":{\"field\":\"Company\",\"transform\":{\"id\":\"18398\"}},\"hatch_color\":{\"field\":\"Company\",\"transform\":{\"id\":\"18398\"}},\"top\":{\"field\":\"KM_Travelled\"},\"width\":{\"value\":0.8},\"x\":{\"field\":\"xoffsets\"}},\"id\":\"18402\",\"type\":\"VBar\"},{\"attributes\":{},\"id\":\"18389\",\"type\":\"ResetTool\"},{\"attributes\":{\"bottom_units\":\"screen\",\"coordinates\":null,\"fill_alpha\":0.5,\"fill_color\":\"lightgrey\",\"group\":null,\"left_units\":\"screen\",\"level\":\"overlay\",\"line_alpha\":1.0,\"line_color\":\"black\",\"line_dash\":[4,4],\"line_width\":2,\"right_units\":\"screen\",\"syncable\":false,\"top_units\":\"screen\"},\"id\":\"18390\",\"type\":\"BoxAnnotation\"},{\"attributes\":{\"overlay\":{\"id\":\"18390\"}},\"id\":\"18388\",\"type\":\"BoxZoomTool\"},{\"attributes\":{},\"id\":\"18376\",\"type\":\"LinearScale\"},{\"attributes\":{\"axis_label\":\"City, Company\",\"coordinates\":null,\"formatter\":{\"id\":\"18410\"},\"group\":null,\"group_label_orientation\":\"vertical\",\"major_label_orientation\":1.5707963267948966,\"major_label_policy\":{\"id\":\"18411\"},\"ticker\":{\"id\":\"18379\"}},\"id\":\"18378\",\"type\":\"CategoricalAxis\"}],\"root_ids\":[\"18369\"]},\"title\":\"Bokeh Application\",\"version\":\"2.4.2\"}};\n",
       "  const render_items = [{\"docid\":\"19a1e662-0b2c-4275-9be5-8383feb6b7b5\",\"root_ids\":[\"18369\"],\"roots\":{\"18369\":\"67769a61-65a3-4815-af96-4ec603342fa4\"}}];\n",
       "  root.Bokeh.embed.embed_items_notebook(docs_json, render_items);\n",
       "\n",
       "  }\n",
       "  if (root.Bokeh !== undefined) {\n",
       "    embed_document(root);\n",
       "  } else {\n",
       "    let attempts = 0;\n",
       "    const timer = setInterval(function(root) {\n",
       "      if (root.Bokeh !== undefined) {\n",
       "        clearInterval(timer);\n",
       "        embed_document(root);\n",
       "      } else {\n",
       "        attempts++;\n",
       "        if (attempts > 100) {\n",
       "          clearInterval(timer);\n",
       "          console.log(\"Bokeh: ERROR: Unable to run BokehJS code because BokehJS library is missing\");\n",
       "        }\n",
       "      }\n",
       "    }, 10, root)\n",
       "  }\n",
       "})(window);"
      ],
      "application/vnd.bokehjs_exec.v0+json": ""
     },
     "metadata": {
      "application/vnd.bokehjs_exec.v0+json": {
       "id": "18369"
      }
     },
     "output_type": "display_data"
    }
   ],
   "source": [
    "# Compare how many KM travelled for each company and in which city traveled more\n",
    "p = hv.render(df_by_ct_co_sum[['KM Travelled']].hvplot.bar( title = 'Total KM Traveled in Each City', width = 800, height = 700, color = ['pink', 'yellow']).opts(xrotation = 90,yformatter='%.0f'))\n",
    "p.xaxis.group_label_orientation = 'vertical'\n",
    "from bokeh.plotting import show\n",
    "show(p)"
   ]
  },
  {
   "cell_type": "markdown",
   "metadata": {},
   "source": [
    "> <b> `Yellow` cabs outrun Pink cabs by a huge amount especially in New York, Boston, Chicago, and DC </b>\n",
    "\n",
    "> <b> `Pink` cabs has more advantage on the west coast cities such as Los Angeles, San Diego, Silicon Valley while `Yellow` cabs dominate the east coast </b>\n",
    "\n",
    "> <b> We can't directly see how many Yellow or Pink cabs are running in each city, but it is obvious that there are way more `Yellow` cabs than Pink cabs in most of the cities </b>\n",
    "\n",
    "> <b> There are high demands for cabs in Boston, Chicago, Los Angeles, New York, and DC; and moderate demands for San Diego, Seattle, Silicon Valley, and Atlanta </b>\n",
    "\n",
    "> <b> Still need to find out demand for cabs over the years in later part of the analysis </b>"
   ]
  },
  {
   "cell_type": "code",
   "execution_count": 302,
   "metadata": {},
   "outputs": [
    {
     "data": {
      "text/html": [
       "\n",
       "\n",
       "\n",
       "\n",
       "\n",
       "\n",
       "  <div class=\"bk-root\" id=\"6ab5c894-93da-4201-9ee0-3664691e712e\" data-root-id=\"18573\"></div>\n"
      ]
     },
     "metadata": {},
     "output_type": "display_data"
    },
    {
     "data": {
      "application/javascript": [
       "(function(root) {\n",
       "  function embed_document(root) {\n",
       "    \n",
       "  const docs_json = {\"58f93e47-b9f8-4332-a6b9-9c11171f94ca\":{\"defs\":[{\"extends\":null,\"module\":null,\"name\":\"ReactiveHTML1\",\"overrides\":[],\"properties\":[]},{\"extends\":null,\"module\":null,\"name\":\"FlexBox1\",\"overrides\":[],\"properties\":[{\"default\":\"flex-start\",\"kind\":null,\"name\":\"align_content\"},{\"default\":\"flex-start\",\"kind\":null,\"name\":\"align_items\"},{\"default\":\"row\",\"kind\":null,\"name\":\"flex_direction\"},{\"default\":\"wrap\",\"kind\":null,\"name\":\"flex_wrap\"},{\"default\":\"flex-start\",\"kind\":null,\"name\":\"justify_content\"}]},{\"extends\":null,\"module\":null,\"name\":\"GridStack1\",\"overrides\":[],\"properties\":[{\"default\":\"warn\",\"kind\":null,\"name\":\"mode\"},{\"default\":null,\"kind\":null,\"name\":\"ncols\"},{\"default\":null,\"kind\":null,\"name\":\"nrows\"},{\"default\":true,\"kind\":null,\"name\":\"allow_resize\"},{\"default\":true,\"kind\":null,\"name\":\"allow_drag\"},{\"default\":[],\"kind\":null,\"name\":\"state\"}]},{\"extends\":null,\"module\":null,\"name\":\"click1\",\"overrides\":[],\"properties\":[{\"default\":\"\",\"kind\":null,\"name\":\"terminal_output\"},{\"default\":\"\",\"kind\":null,\"name\":\"debug_name\"},{\"default\":0,\"kind\":null,\"name\":\"clears\"}]},{\"extends\":null,\"module\":null,\"name\":\"TemplateActions1\",\"overrides\":[],\"properties\":[{\"default\":0,\"kind\":null,\"name\":\"open_modal\"},{\"default\":0,\"kind\":null,\"name\":\"close_modal\"}]},{\"extends\":null,\"module\":null,\"name\":\"MaterialTemplateActions1\",\"overrides\":[],\"properties\":[{\"default\":0,\"kind\":null,\"name\":\"open_modal\"},{\"default\":0,\"kind\":null,\"name\":\"close_modal\"}]}],\"roots\":{\"references\":[{\"attributes\":{\"below\":[{\"id\":\"18582\"}],\"center\":[{\"id\":\"18584\"},{\"id\":\"18588\"}],\"height\":400,\"left\":[{\"id\":\"18585\"}],\"margin\":null,\"min_border_bottom\":10,\"min_border_left\":10,\"min_border_right\":10,\"min_border_top\":10,\"renderers\":[{\"id\":\"18609\"}],\"sizing_mode\":\"fixed\",\"title\":{\"id\":\"18574\"},\"toolbar\":{\"id\":\"18595\"},\"width\":900,\"x_range\":{\"id\":\"18570\"},\"x_scale\":{\"id\":\"18578\"},\"y_range\":{\"id\":\"18571\"},\"y_scale\":{\"id\":\"18580\"}},\"id\":\"18573\",\"subtype\":\"Figure\",\"type\":\"Plot\"},{\"attributes\":{\"factors\":[\"Pink Cab\",\"Yellow Cab\"],\"palette\":[\"pink\",\"yellow\"]},\"id\":\"18602\",\"type\":\"CategoricalColorMapper\"},{\"attributes\":{},\"id\":\"18590\",\"type\":\"PanTool\"},{\"attributes\":{\"coordinates\":null,\"group\":null,\"text\":\"Average Cost Per KM\"},\"id\":\"18574\",\"type\":\"Title\"},{\"attributes\":{\"fill_color\":{\"field\":\"Company\",\"transform\":{\"id\":\"18602\"}},\"hatch_color\":{\"field\":\"Company\",\"transform\":{\"id\":\"18602\"}},\"top\":{\"field\":\"Cost_per_KM\"},\"width\":{\"value\":0.8},\"x\":{\"field\":\"xoffsets\"}},\"id\":\"18606\",\"type\":\"VBar\"},{\"attributes\":{},\"id\":\"18617\",\"type\":\"AllLabels\"},{\"attributes\":{},\"id\":\"18591\",\"type\":\"WheelZoomTool\"},{\"attributes\":{},\"id\":\"18586\",\"type\":\"BasicTicker\"},{\"attributes\":{\"end\":13.450495523950773,\"reset_end\":13.450495523950773,\"reset_start\":0.0,\"tags\":[[[\"Cost per KM\",\"Cost per KM\",null]]]},\"id\":\"18571\",\"type\":\"Range1d\"},{\"attributes\":{\"axis\":{\"id\":\"18585\"},\"coordinates\":null,\"dimension\":1,\"grid_line_color\":null,\"group\":null,\"ticker\":null},\"id\":\"18588\",\"type\":\"Grid\"},{\"attributes\":{\"axis_label\":\"City, Company\",\"coordinates\":null,\"formatter\":{\"id\":\"18613\"},\"group\":null,\"group_label_orientation\":\"vertical\",\"major_label_orientation\":1.5707963267948966,\"major_label_policy\":{\"id\":\"18614\"},\"ticker\":{\"id\":\"18583\"}},\"id\":\"18582\",\"type\":\"CategoricalAxis\"},{\"attributes\":{},\"id\":\"18614\",\"type\":\"AllLabels\"},{\"attributes\":{\"bottom_units\":\"screen\",\"coordinates\":null,\"fill_alpha\":0.5,\"fill_color\":\"lightgrey\",\"group\":null,\"left_units\":\"screen\",\"level\":\"overlay\",\"line_alpha\":1.0,\"line_color\":\"black\",\"line_dash\":[4,4],\"line_width\":2,\"right_units\":\"screen\",\"syncable\":false,\"top_units\":\"screen\"},\"id\":\"18594\",\"type\":\"BoxAnnotation\"},{\"attributes\":{\"fill_alpha\":{\"value\":0.2},\"fill_color\":{\"field\":\"Company\",\"transform\":{\"id\":\"18602\"}},\"hatch_alpha\":{\"value\":0.2},\"hatch_color\":{\"field\":\"Company\",\"transform\":{\"id\":\"18602\"}},\"line_alpha\":{\"value\":0.2},\"top\":{\"field\":\"Cost_per_KM\"},\"width\":{\"value\":0.8},\"x\":{\"field\":\"xoffsets\"}},\"id\":\"18608\",\"type\":\"VBar\"},{\"attributes\":{\"bottom\":{\"value\":0},\"fill_alpha\":{\"value\":1.0},\"fill_color\":{\"field\":\"Company\",\"transform\":{\"id\":\"18602\"}},\"hatch_alpha\":{\"value\":1.0},\"hatch_color\":{\"field\":\"Company\",\"transform\":{\"id\":\"18602\"}},\"hatch_scale\":{\"value\":12.0},\"hatch_weight\":{\"value\":1.0},\"line_alpha\":{\"value\":1.0},\"line_cap\":{\"value\":\"butt\"},\"line_color\":{\"value\":\"black\"},\"line_dash\":{\"value\":[]},\"line_dash_offset\":{\"value\":0},\"line_join\":{\"value\":\"bevel\"},\"line_width\":{\"value\":1},\"top\":{\"field\":\"Cost_per_KM\"},\"width\":{\"value\":0.8},\"x\":{\"field\":\"xoffsets\"}},\"id\":\"18611\",\"type\":\"VBar\"},{\"attributes\":{},\"id\":\"18589\",\"type\":\"SaveTool\"},{\"attributes\":{\"source\":{\"id\":\"18603\"}},\"id\":\"18610\",\"type\":\"CDSView\"},{\"attributes\":{},\"id\":\"18580\",\"type\":\"LinearScale\"},{\"attributes\":{},\"id\":\"18578\",\"type\":\"CategoricalScale\"},{\"attributes\":{},\"id\":\"18604\",\"type\":\"Selection\"},{\"attributes\":{},\"id\":\"18593\",\"type\":\"ResetTool\"},{\"attributes\":{},\"id\":\"18613\",\"type\":\"CategoricalTickFormatter\"},{\"attributes\":{},\"id\":\"18583\",\"type\":\"CategoricalTicker\"},{\"attributes\":{\"coordinates\":null,\"data_source\":{\"id\":\"18603\"},\"glyph\":{\"id\":\"18606\"},\"group\":null,\"hover_glyph\":null,\"muted_glyph\":{\"id\":\"18608\"},\"nonselection_glyph\":{\"id\":\"18607\"},\"selection_glyph\":{\"id\":\"18611\"},\"view\":{\"id\":\"18610\"}},\"id\":\"18609\",\"type\":\"GlyphRenderer\"},{\"attributes\":{},\"id\":\"18685\",\"type\":\"UnionRenderers\"},{\"attributes\":{\"data\":{\"City\":[\"ATLANTA GA\",\"AUSTIN TX\",\"BOSTON MA\",\"CHICAGO IL\",\"DALLAS TX\",\"DENVER CO\",\"LOS ANGELES CA\",\"MIAMI FL\",\"NASHVILLE TN\",\"NEW YORK NY\",\"ORANGE COUNTY\",\"PHOENIX AZ\",\"PITTSBURGH PA\",\"SACRAMENTO CA\",\"SAN DIEGO CA\",\"SEATTLE WA\",\"SILICON VALLEY\",\"TUCSON AZ\",\"WASHINGTON DC\",\"ATLANTA GA\",\"AUSTIN TX\",\"BOSTON MA\",\"CHICAGO IL\",\"DALLAS TX\",\"DENVER CO\",\"LOS ANGELES CA\",\"MIAMI FL\",\"NASHVILLE TN\",\"NEW YORK NY\",\"ORANGE COUNTY\",\"PHOENIX AZ\",\"PITTSBURGH PA\",\"SACRAMENTO CA\",\"SAN DIEGO CA\",\"SEATTLE WA\",\"SILICON VALLEY\",\"TUCSON AZ\",\"WASHINGTON DC\"],\"Company\":[\"Pink Cab\",\"Pink Cab\",\"Pink Cab\",\"Pink Cab\",\"Pink Cab\",\"Pink Cab\",\"Pink Cab\",\"Pink Cab\",\"Pink Cab\",\"Pink Cab\",\"Pink Cab\",\"Pink Cab\",\"Pink Cab\",\"Pink Cab\",\"Pink Cab\",\"Pink Cab\",\"Pink Cab\",\"Pink Cab\",\"Pink Cab\",\"Yellow Cab\",\"Yellow Cab\",\"Yellow Cab\",\"Yellow Cab\",\"Yellow Cab\",\"Yellow Cab\",\"Yellow Cab\",\"Yellow Cab\",\"Yellow Cab\",\"Yellow Cab\",\"Yellow Cab\",\"Yellow Cab\",\"Yellow Cab\",\"Yellow Cab\",\"Yellow Cab\",\"Yellow Cab\",\"Yellow Cab\",\"Yellow Cab\",\"Yellow Cab\"],\"Cost_per_KM\":{\"__ndarray__\":\"nLysDMT4JUAFV0QqUfwlQPJO6bhZ/SVAe4SPNbr+JUBcfURtBv0lQOpgZSfYACZAPIPf+yr/JUC4G2f3rfclQFIXrszl8CVAI9CjEzoAJkAhcLWPNAYmQN0XYYap/SVArNzYDwAJJkDucQ4Bzf8lQAjX/X50ASZAJzaRLewGJkBeib6CRAEmQGNZFekJFCZAsVDLaqIEJkDO6pY8/mQqQOnlI9+HYipA34zcQTtoKkBNBKPsOGYqQM93DltjXipAXaQMGyRpKkBbnna4d2gqQIyZudzJbCpASIntSl9pKkBBX8H9+2YqQPlwXYgcXCpAEohObpZrKkBUkeio3D0qQDxCBwY/XypARXAENBRlKkACtwVkm1oqQGWdZTQUaSpAg3y4qThzKkA3EF3NnWYqQA==\",\"dtype\":\"float64\",\"order\":\"little\",\"shape\":[38]},\"xoffsets\":[[\"ATLANTA GA\",\"Pink Cab\"],[\"AUSTIN TX\",\"Pink Cab\"],[\"BOSTON MA\",\"Pink Cab\"],[\"CHICAGO IL\",\"Pink Cab\"],[\"DALLAS TX\",\"Pink Cab\"],[\"DENVER CO\",\"Pink Cab\"],[\"LOS ANGELES CA\",\"Pink Cab\"],[\"MIAMI FL\",\"Pink Cab\"],[\"NASHVILLE TN\",\"Pink Cab\"],[\"NEW YORK NY\",\"Pink Cab\"],[\"ORANGE COUNTY\",\"Pink Cab\"],[\"PHOENIX AZ\",\"Pink Cab\"],[\"PITTSBURGH PA\",\"Pink Cab\"],[\"SACRAMENTO CA\",\"Pink Cab\"],[\"SAN DIEGO CA\",\"Pink Cab\"],[\"SEATTLE WA\",\"Pink Cab\"],[\"SILICON VALLEY\",\"Pink Cab\"],[\"TUCSON AZ\",\"Pink Cab\"],[\"WASHINGTON DC\",\"Pink Cab\"],[\"ATLANTA GA\",\"Yellow Cab\"],[\"AUSTIN TX\",\"Yellow Cab\"],[\"BOSTON MA\",\"Yellow Cab\"],[\"CHICAGO IL\",\"Yellow Cab\"],[\"DALLAS TX\",\"Yellow Cab\"],[\"DENVER CO\",\"Yellow Cab\"],[\"LOS ANGELES CA\",\"Yellow Cab\"],[\"MIAMI FL\",\"Yellow Cab\"],[\"NASHVILLE TN\",\"Yellow Cab\"],[\"NEW YORK NY\",\"Yellow Cab\"],[\"ORANGE COUNTY\",\"Yellow Cab\"],[\"PHOENIX AZ\",\"Yellow Cab\"],[\"PITTSBURGH PA\",\"Yellow Cab\"],[\"SACRAMENTO CA\",\"Yellow Cab\"],[\"SAN DIEGO CA\",\"Yellow Cab\"],[\"SEATTLE WA\",\"Yellow Cab\"],[\"SILICON VALLEY\",\"Yellow Cab\"],[\"TUCSON AZ\",\"Yellow Cab\"],[\"WASHINGTON DC\",\"Yellow Cab\"]]},\"selected\":{\"id\":\"18604\"},\"selection_policy\":{\"id\":\"18685\"}},\"id\":\"18603\",\"type\":\"ColumnDataSource\"},{\"attributes\":{\"tools\":[{\"id\":\"18572\"},{\"id\":\"18589\"},{\"id\":\"18590\"},{\"id\":\"18591\"},{\"id\":\"18592\"},{\"id\":\"18593\"}]},\"id\":\"18595\",\"type\":\"Toolbar\"},{\"attributes\":{\"axis_label\":\"Cost per KM\",\"coordinates\":null,\"formatter\":{\"id\":\"18616\"},\"group\":null,\"major_label_policy\":{\"id\":\"18617\"},\"ticker\":{\"id\":\"18586\"}},\"id\":\"18585\",\"type\":\"LinearAxis\"},{\"attributes\":{},\"id\":\"18616\",\"type\":\"BasicTickFormatter\"},{\"attributes\":{\"callback\":null,\"renderers\":[{\"id\":\"18609\"}],\"tags\":[\"hv_created\"],\"tooltips\":[[\"City\",\"@{City}\"],[\"Company\",\"@{Company}\"],[\"Cost per KM\",\"@{Cost_per_KM}\"]]},\"id\":\"18572\",\"type\":\"HoverTool\"},{\"attributes\":{\"factors\":[[\"ATLANTA GA\",\"Pink Cab\"],[\"ATLANTA GA\",\"Yellow Cab\"],[\"AUSTIN TX\",\"Pink Cab\"],[\"AUSTIN TX\",\"Yellow Cab\"],[\"BOSTON MA\",\"Pink Cab\"],[\"BOSTON MA\",\"Yellow Cab\"],[\"CHICAGO IL\",\"Pink Cab\"],[\"CHICAGO IL\",\"Yellow Cab\"],[\"DALLAS TX\",\"Pink Cab\"],[\"DALLAS TX\",\"Yellow Cab\"],[\"DENVER CO\",\"Pink Cab\"],[\"DENVER CO\",\"Yellow Cab\"],[\"LOS ANGELES CA\",\"Pink Cab\"],[\"LOS ANGELES CA\",\"Yellow Cab\"],[\"MIAMI FL\",\"Pink Cab\"],[\"MIAMI FL\",\"Yellow Cab\"],[\"NASHVILLE TN\",\"Pink Cab\"],[\"NASHVILLE TN\",\"Yellow Cab\"],[\"NEW YORK NY\",\"Pink Cab\"],[\"NEW YORK NY\",\"Yellow Cab\"],[\"ORANGE COUNTY\",\"Pink Cab\"],[\"ORANGE COUNTY\",\"Yellow Cab\"],[\"PHOENIX AZ\",\"Pink Cab\"],[\"PHOENIX AZ\",\"Yellow Cab\"],[\"PITTSBURGH PA\",\"Pink Cab\"],[\"PITTSBURGH PA\",\"Yellow Cab\"],[\"SACRAMENTO CA\",\"Pink Cab\"],[\"SACRAMENTO CA\",\"Yellow Cab\"],[\"SAN DIEGO CA\",\"Pink Cab\"],[\"SAN DIEGO CA\",\"Yellow Cab\"],[\"SEATTLE WA\",\"Pink Cab\"],[\"SEATTLE WA\",\"Yellow Cab\"],[\"SILICON VALLEY\",\"Pink Cab\"],[\"SILICON VALLEY\",\"Yellow Cab\"],[\"TUCSON AZ\",\"Pink Cab\"],[\"TUCSON AZ\",\"Yellow Cab\"],[\"WASHINGTON DC\",\"Pink Cab\"],[\"WASHINGTON DC\",\"Yellow Cab\"]],\"tags\":[[[\"City\",\"City\",null],[\"Company\",\"Company\",null]]]},\"id\":\"18570\",\"type\":\"FactorRange\"},{\"attributes\":{\"fill_alpha\":{\"value\":0.1},\"fill_color\":{\"field\":\"Company\",\"transform\":{\"id\":\"18602\"}},\"hatch_alpha\":{\"value\":0.1},\"hatch_color\":{\"field\":\"Company\",\"transform\":{\"id\":\"18602\"}},\"line_alpha\":{\"value\":0.1},\"top\":{\"field\":\"Cost_per_KM\"},\"width\":{\"value\":0.8},\"x\":{\"field\":\"xoffsets\"}},\"id\":\"18607\",\"type\":\"VBar\"},{\"attributes\":{\"overlay\":{\"id\":\"18594\"}},\"id\":\"18592\",\"type\":\"BoxZoomTool\"},{\"attributes\":{\"axis\":{\"id\":\"18582\"},\"coordinates\":null,\"grid_line_color\":null,\"group\":null,\"ticker\":null},\"id\":\"18584\",\"type\":\"Grid\"}],\"root_ids\":[\"18573\"]},\"title\":\"Bokeh Application\",\"version\":\"2.4.2\"}};\n",
       "  const render_items = [{\"docid\":\"58f93e47-b9f8-4332-a6b9-9c11171f94ca\",\"root_ids\":[\"18573\"],\"roots\":{\"18573\":\"6ab5c894-93da-4201-9ee0-3664691e712e\"}}];\n",
       "  root.Bokeh.embed.embed_items_notebook(docs_json, render_items);\n",
       "\n",
       "  }\n",
       "  if (root.Bokeh !== undefined) {\n",
       "    embed_document(root);\n",
       "  } else {\n",
       "    let attempts = 0;\n",
       "    const timer = setInterval(function(root) {\n",
       "      if (root.Bokeh !== undefined) {\n",
       "        clearInterval(timer);\n",
       "        embed_document(root);\n",
       "      } else {\n",
       "        attempts++;\n",
       "        if (attempts > 100) {\n",
       "          clearInterval(timer);\n",
       "          console.log(\"Bokeh: ERROR: Unable to run BokehJS code because BokehJS library is missing\");\n",
       "        }\n",
       "      }\n",
       "    }, 10, root)\n",
       "  }\n",
       "})(window);"
      ],
      "application/vnd.bokehjs_exec.v0+json": ""
     },
     "metadata": {
      "application/vnd.bokehjs_exec.v0+json": {
       "id": "18573"
      }
     },
     "output_type": "display_data"
    }
   ],
   "source": [
    "# Compare how much does it cost per KM travelled for each company and which city cost more or less\n",
    "p1 = hv.render(df_by_ct_co_avg[['Cost per KM']].hvplot.bar( title = 'Average Cost Per KM', width = 900, height = 400, color = ['pink', 'yellow']).opts(xrotation = 90))\n",
    "p1.xaxis.group_label_orientation = 'vertical'\n",
    "from bokeh.plotting import show\n",
    "show(p1)"
   ]
  },
  {
   "cell_type": "markdown",
   "metadata": {},
   "source": [
    "> <b> The bar chart above shows it generally cost `$2` more every trip in all cities for `Yellow` cab than Pink cab </b>\n",
    "\n",
    "> <b> As we found out earlier that there are way more Yellow cabs than Pink cabs, which means it `cost way more` to drive and ride a `Yellow` cab, as well as to run its' company </b>\n",
    "\n",
    "> <b> The average cost per KM in all cities are generally the same </b>"
   ]
  },
  {
   "cell_type": "code",
   "execution_count": 305,
   "metadata": {},
   "outputs": [
    {
     "data": {
      "text/html": [
       "\n",
       "\n",
       "\n",
       "\n",
       "\n",
       "\n",
       "  <div class=\"bk-root\" id=\"a81ec91a-539f-4ed5-8ee4-33ee80a3f2f0\" data-root-id=\"18801\"></div>\n"
      ]
     },
     "metadata": {},
     "output_type": "display_data"
    },
    {
     "data": {
      "application/javascript": [
       "(function(root) {\n",
       "  function embed_document(root) {\n",
       "    \n",
       "  const docs_json = {\"359b51ac-fb37-4ba8-ae17-45d80dba7319\":{\"defs\":[{\"extends\":null,\"module\":null,\"name\":\"ReactiveHTML1\",\"overrides\":[],\"properties\":[]},{\"extends\":null,\"module\":null,\"name\":\"FlexBox1\",\"overrides\":[],\"properties\":[{\"default\":\"flex-start\",\"kind\":null,\"name\":\"align_content\"},{\"default\":\"flex-start\",\"kind\":null,\"name\":\"align_items\"},{\"default\":\"row\",\"kind\":null,\"name\":\"flex_direction\"},{\"default\":\"wrap\",\"kind\":null,\"name\":\"flex_wrap\"},{\"default\":\"flex-start\",\"kind\":null,\"name\":\"justify_content\"}]},{\"extends\":null,\"module\":null,\"name\":\"GridStack1\",\"overrides\":[],\"properties\":[{\"default\":\"warn\",\"kind\":null,\"name\":\"mode\"},{\"default\":null,\"kind\":null,\"name\":\"ncols\"},{\"default\":null,\"kind\":null,\"name\":\"nrows\"},{\"default\":true,\"kind\":null,\"name\":\"allow_resize\"},{\"default\":true,\"kind\":null,\"name\":\"allow_drag\"},{\"default\":[],\"kind\":null,\"name\":\"state\"}]},{\"extends\":null,\"module\":null,\"name\":\"click1\",\"overrides\":[],\"properties\":[{\"default\":\"\",\"kind\":null,\"name\":\"terminal_output\"},{\"default\":\"\",\"kind\":null,\"name\":\"debug_name\"},{\"default\":0,\"kind\":null,\"name\":\"clears\"}]},{\"extends\":null,\"module\":null,\"name\":\"TemplateActions1\",\"overrides\":[],\"properties\":[{\"default\":0,\"kind\":null,\"name\":\"open_modal\"},{\"default\":0,\"kind\":null,\"name\":\"close_modal\"}]},{\"extends\":null,\"module\":null,\"name\":\"MaterialTemplateActions1\",\"overrides\":[],\"properties\":[{\"default\":0,\"kind\":null,\"name\":\"open_modal\"},{\"default\":0,\"kind\":null,\"name\":\"close_modal\"}]}],\"roots\":{\"references\":[{\"attributes\":{\"below\":[{\"id\":\"18810\"}],\"center\":[{\"id\":\"18812\"},{\"id\":\"18816\"},{\"id\":\"18849\"}],\"height\":400,\"left\":[{\"id\":\"18813\"}],\"margin\":null,\"min_border_bottom\":10,\"min_border_left\":10,\"min_border_right\":10,\"min_border_top\":10,\"renderers\":[{\"id\":\"18837\"}],\"sizing_mode\":\"fixed\",\"title\":{\"id\":\"18802\"},\"toolbar\":{\"id\":\"18823\"},\"x_range\":{\"id\":\"18798\"},\"x_scale\":{\"id\":\"18806\"},\"y_range\":{\"id\":\"18799\"},\"y_scale\":{\"id\":\"18808\"}},\"id\":\"18801\",\"subtype\":\"Figure\",\"type\":\"Plot\"},{\"attributes\":{\"bottom\":{\"field\":\"bottom\"},\"fill_color\":{\"field\":\"Company\",\"transform\":{\"id\":\"18830\"}},\"hatch_color\":{\"field\":\"Company\",\"transform\":{\"id\":\"18830\"}},\"top\":{\"field\":\"top\"},\"width\":{\"value\":0.8},\"x\":{\"field\":\"City\"}},\"id\":\"18834\",\"type\":\"VBar\"},{\"attributes\":{\"bottom_units\":\"screen\",\"coordinates\":null,\"fill_alpha\":0.5,\"fill_color\":\"lightgrey\",\"group\":null,\"left_units\":\"screen\",\"level\":\"overlay\",\"line_alpha\":1.0,\"line_color\":\"black\",\"line_dash\":[4,4],\"line_width\":2,\"right_units\":\"screen\",\"syncable\":false,\"top_units\":\"screen\"},\"id\":\"18822\",\"type\":\"BoxAnnotation\"},{\"attributes\":{\"coordinates\":null,\"data_source\":{\"id\":\"18831\"},\"glyph\":{\"id\":\"18834\"},\"group\":null,\"hover_glyph\":null,\"muted_glyph\":{\"id\":\"18836\"},\"nonselection_glyph\":{\"id\":\"18835\"},\"selection_glyph\":{\"id\":\"18851\"},\"view\":{\"id\":\"18838\"}},\"id\":\"18837\",\"type\":\"GlyphRenderer\"},{\"attributes\":{},\"id\":\"18811\",\"type\":\"CategoricalTicker\"},{\"attributes\":{\"axis\":{\"id\":\"18813\"},\"coordinates\":null,\"dimension\":1,\"grid_line_color\":null,\"group\":null,\"ticker\":null},\"id\":\"18816\",\"type\":\"Grid\"},{\"attributes\":{},\"id\":\"18841\",\"type\":\"BasicTickFormatter\"},{\"attributes\":{\"callback\":null,\"renderers\":[{\"id\":\"18837\"}],\"tags\":[\"hv_created\"],\"tooltips\":[[\"City\",\"@{City}\"],[\"Company\",\"@{Company}\"],[\"Profit\",\"@{Profit}\"]]},\"id\":\"18800\",\"type\":\"HoverTool\"},{\"attributes\":{},\"id\":\"18845\",\"type\":\"AllLabels\"},{\"attributes\":{\"axis\":{\"id\":\"18810\"},\"coordinates\":null,\"grid_line_color\":null,\"group\":null,\"ticker\":null},\"id\":\"18812\",\"type\":\"Grid\"},{\"attributes\":{\"end\":447.79273165826334,\"reset_end\":447.79273165826334,\"reset_start\":0.0,\"tags\":[[[\"Profit\",\"Profit\",null]]]},\"id\":\"18799\",\"type\":\"Range1d\"},{\"attributes\":{},\"id\":\"18806\",\"type\":\"CategoricalScale\"},{\"attributes\":{},\"id\":\"18814\",\"type\":\"BasicTicker\"},{\"attributes\":{\"factors\":[\"ATLANTA GA\",\"AUSTIN TX\",\"BOSTON MA\",\"CHICAGO IL\",\"DALLAS TX\",\"DENVER CO\",\"LOS ANGELES CA\",\"MIAMI FL\",\"NASHVILLE TN\",\"NEW YORK NY\",\"ORANGE COUNTY\",\"PHOENIX AZ\",\"PITTSBURGH PA\",\"SACRAMENTO CA\",\"SAN DIEGO CA\",\"SEATTLE WA\",\"SILICON VALLEY\",\"TUCSON AZ\",\"WASHINGTON DC\"],\"tags\":[[[\"City\",\"City\",null]]]},\"id\":\"18798\",\"type\":\"FactorRange\"},{\"attributes\":{\"axis_label\":\"\",\"coordinates\":null,\"formatter\":{\"id\":\"18841\"},\"group\":null,\"major_label_policy\":{\"id\":\"18842\"},\"ticker\":{\"id\":\"18814\"}},\"id\":\"18813\",\"type\":\"LinearAxis\"},{\"attributes\":{},\"id\":\"18842\",\"type\":\"AllLabels\"},{\"attributes\":{\"factors\":[\"Pink Cab\",\"Yellow Cab\"],\"palette\":[\"pink\",\"yellow\"]},\"id\":\"18830\",\"type\":\"CategoricalColorMapper\"},{\"attributes\":{\"source\":{\"id\":\"18831\"}},\"id\":\"18838\",\"type\":\"CDSView\"},{\"attributes\":{\"label\":{\"field\":\"Company\"},\"renderers\":[{\"id\":\"18837\"}]},\"id\":\"18850\",\"type\":\"LegendItem\"},{\"attributes\":{\"coordinates\":null,\"group\":null,\"items\":[{\"id\":\"18850\"}],\"location\":\"top_left\"},\"id\":\"18849\",\"type\":\"Legend\"},{\"attributes\":{},\"id\":\"18817\",\"type\":\"SaveTool\"},{\"attributes\":{},\"id\":\"18818\",\"type\":\"PanTool\"},{\"attributes\":{},\"id\":\"18819\",\"type\":\"WheelZoomTool\"},{\"attributes\":{\"tools\":[{\"id\":\"18800\"},{\"id\":\"18817\"},{\"id\":\"18818\"},{\"id\":\"18819\"},{\"id\":\"18820\"},{\"id\":\"18821\"}]},\"id\":\"18823\",\"type\":\"Toolbar\"},{\"attributes\":{\"bottom\":{\"field\":\"bottom\"},\"fill_alpha\":{\"value\":0.2},\"fill_color\":{\"field\":\"Company\",\"transform\":{\"id\":\"18830\"}},\"hatch_alpha\":{\"value\":0.2},\"hatch_color\":{\"field\":\"Company\",\"transform\":{\"id\":\"18830\"}},\"line_alpha\":{\"value\":0.2},\"top\":{\"field\":\"top\"},\"width\":{\"value\":0.8},\"x\":{\"field\":\"City\"}},\"id\":\"18836\",\"type\":\"VBar\"},{\"attributes\":{},\"id\":\"18832\",\"type\":\"Selection\"},{\"attributes\":{\"overlay\":{\"id\":\"18822\"}},\"id\":\"18820\",\"type\":\"BoxZoomTool\"},{\"attributes\":{},\"id\":\"18808\",\"type\":\"LinearScale\"},{\"attributes\":{},\"id\":\"18846\",\"type\":\"UnionRenderers\"},{\"attributes\":{\"coordinates\":null,\"group\":null,\"text\":\"Average Profit Margin\"},\"id\":\"18802\",\"type\":\"Title\"},{\"attributes\":{\"data\":{\"City\":[\"ATLANTA GA\",\"TUCSON AZ\",\"SILICON VALLEY\",\"SEATTLE WA\",\"SAN DIEGO CA\",\"SACRAMENTO CA\",\"PITTSBURGH PA\",\"PHOENIX AZ\",\"ORANGE COUNTY\",\"WASHINGTON DC\",\"NASHVILLE TN\",\"MIAMI FL\",\"NEW YORK NY\",\"DENVER CO\",\"AUSTIN TX\",\"DALLAS TX\",\"BOSTON MA\",\"CHICAGO IL\",\"LOS ANGELES CA\",\"LOS ANGELES CA\",\"TUCSON AZ\",\"ATLANTA GA\",\"SILICON VALLEY\",\"SEATTLE WA\",\"AUSTIN TX\",\"SAN DIEGO CA\",\"SACRAMENTO CA\",\"PITTSBURGH PA\",\"PHOENIX AZ\",\"CHICAGO IL\",\"ORANGE COUNTY\",\"NEW YORK NY\",\"DALLAS TX\",\"NASHVILLE TN\",\"MIAMI FL\",\"DENVER CO\",\"BOSTON MA\",\"WASHINGTON DC\"],\"Company\":[\"Pink Cab\",\"Pink Cab\",\"Pink Cab\",\"Pink Cab\",\"Pink Cab\",\"Pink Cab\",\"Pink Cab\",\"Pink Cab\",\"Pink Cab\",\"Pink Cab\",\"Pink Cab\",\"Pink Cab\",\"Pink Cab\",\"Pink Cab\",\"Pink Cab\",\"Pink Cab\",\"Pink Cab\",\"Pink Cab\",\"Pink Cab\",\"Yellow Cab\",\"Yellow Cab\",\"Yellow Cab\",\"Yellow Cab\",\"Yellow Cab\",\"Yellow Cab\",\"Yellow Cab\",\"Yellow Cab\",\"Yellow Cab\",\"Yellow Cab\",\"Yellow Cab\",\"Yellow Cab\",\"Yellow Cab\",\"Yellow Cab\",\"Yellow Cab\",\"Yellow Cab\",\"Yellow Cab\",\"Yellow Cab\",\"Yellow Cab\"],\"Profit\":{\"__ndarray__\":\"u/6O84dBS0CSW3E1Go1SQCeZ2RwQZ1ZAikKugwukRECozbMP2uJNQCno629zvERAEJEnRKwVOUBkILsziplEQHTtwDNu2lBAxGplG8s9SkChUTHaiXVBQIAqEh1zRFRAybHwLuwNW0CTn28vMB09QL3CXaSou1NAx25Pb53rMUDLXlHQrkJJQOXMcOwhBkFAR8HHt6VVTEBvdPfvASpdQCuVOF7f4VFAwAmu8oYZYEAC+jduOtlpQP0psjd0W1dA2HoIKPlPX0DdwnDMOy1YQGN0g5O/Ak5A3x6t0eT2WkC48RRf2mNgQK9ECskqO1BAlPKOoCH5YUDTUIP50z1zQNoxrmgue2hADpjSNBw7UkDBgePv6rtgQD7WqzZNW2JAhcPZO+e9TkAECMFmophUQA==\",\"dtype\":\"float64\",\"order\":\"little\",\"shape\":[38]},\"bottom\":{\"__ndarray__\":\"AAAAAAAAAAAAAAAAAAAAAAAAAAAAAAAAAAAAAAAAAAAAAAAAAAAAAAAAAAAAAAAAAAAAAAAAAAAAAAAAAAAAAAAAAAAAAAAAAAAAAAAAAAAAAAAAAAAAAAAAAAAAAAAAAAAAAAAAAAAAAAAAAAAAAAAAAAAAAAAAAAAAAAAAAAAAAAAAAAAAAAAAAAAAAAAAAAAAAAAAAABHwce3pVVMQJJbcTUajVJAu/6O84dBS0AnmdkcEGdWQIpCroMLpERAvcJdpKi7U0CozbMP2uJNQCno629zvERAEJEnRKwVOUBkILsziplEQOXMcOwhBkFAdO3AM27aUEDJsfAu7A1bQMduT2+d6zFAoVEx2ol1QUCAKhIdc0RUQJOfby8wHT1Ay15R0K5CSUDEamUbyz1KQA==\",\"dtype\":\"float64\",\"order\":\"little\",\"shape\":[38]},\"top\":{\"__ndarray__\":\"u/6O84dBS0CSW3E1Go1SQCeZ2RwQZ1ZAikKugwukRECozbMP2uJNQCno629zvERAEJEnRKwVOUBkILsziplEQHTtwDNu2lBAxGplG8s9SkChUTHaiXVBQIAqEh1zRFRAybHwLuwNW0CTn28vMB09QL3CXaSou1NAx25Pb53rMUDLXlHQrkJJQOXMcOwhBkFAR8HHt6VVTECJqu1laqplQF741Ml8N2JAb8mR7+jpZkBLY1I+YYZyQKGlxPy81mBAyh4z5tCFaUDYVCVqVI9jQEaut4GZX1lAkoFb8SeeYEDRuQPsPIplQCKrQr87vlhATmlvulhmakBFfT8FTwF6QLMfmBaiuGpA3kDrIeH1WkABl2x+JN5qQDDKmTzz/mVAKJEVBksAXECz3jn6w9tgQA==\",\"dtype\":\"float64\",\"order\":\"little\",\"shape\":[38]}},\"selected\":{\"id\":\"18832\"},\"selection_policy\":{\"id\":\"18846\"}},\"id\":\"18831\",\"type\":\"ColumnDataSource\"},{\"attributes\":{\"bottom\":{\"field\":\"bottom\"},\"fill_alpha\":{\"value\":0.1},\"fill_color\":{\"field\":\"Company\",\"transform\":{\"id\":\"18830\"}},\"hatch_alpha\":{\"value\":0.1},\"hatch_color\":{\"field\":\"Company\",\"transform\":{\"id\":\"18830\"}},\"line_alpha\":{\"value\":0.1},\"top\":{\"field\":\"top\"},\"width\":{\"value\":0.8},\"x\":{\"field\":\"City\"}},\"id\":\"18835\",\"type\":\"VBar\"},{\"attributes\":{},\"id\":\"18844\",\"type\":\"CategoricalTickFormatter\"},{\"attributes\":{\"axis_label\":\"City\",\"coordinates\":null,\"formatter\":{\"id\":\"18844\"},\"group\":null,\"group_label_orientation\":\"vertical\",\"major_label_orientation\":1.5707963267948966,\"major_label_policy\":{\"id\":\"18845\"},\"ticker\":{\"id\":\"18811\"}},\"id\":\"18810\",\"type\":\"CategoricalAxis\"},{\"attributes\":{\"bottom\":{\"field\":\"bottom\"},\"fill_alpha\":{\"value\":1.0},\"fill_color\":{\"field\":\"Company\",\"transform\":{\"id\":\"18830\"}},\"hatch_alpha\":{\"value\":1.0},\"hatch_color\":{\"field\":\"Company\",\"transform\":{\"id\":\"18830\"}},\"hatch_scale\":{\"value\":12.0},\"hatch_weight\":{\"value\":1.0},\"line_alpha\":{\"value\":1.0},\"line_cap\":{\"value\":\"butt\"},\"line_color\":{\"value\":\"black\"},\"line_dash\":{\"value\":[]},\"line_dash_offset\":{\"value\":0},\"line_join\":{\"value\":\"bevel\"},\"line_width\":{\"value\":1},\"top\":{\"field\":\"top\"},\"width\":{\"value\":0.8},\"x\":{\"field\":\"City\"}},\"id\":\"18851\",\"type\":\"VBar\"},{\"attributes\":{},\"id\":\"18821\",\"type\":\"ResetTool\"}],\"root_ids\":[\"18801\"]},\"title\":\"Bokeh Application\",\"version\":\"2.4.2\"}};\n",
       "  const render_items = [{\"docid\":\"359b51ac-fb37-4ba8-ae17-45d80dba7319\",\"root_ids\":[\"18801\"],\"roots\":{\"18801\":\"a81ec91a-539f-4ed5-8ee4-33ee80a3f2f0\"}}];\n",
       "  root.Bokeh.embed.embed_items_notebook(docs_json, render_items);\n",
       "\n",
       "  }\n",
       "  if (root.Bokeh !== undefined) {\n",
       "    embed_document(root);\n",
       "  } else {\n",
       "    let attempts = 0;\n",
       "    const timer = setInterval(function(root) {\n",
       "      if (root.Bokeh !== undefined) {\n",
       "        clearInterval(timer);\n",
       "        embed_document(root);\n",
       "      } else {\n",
       "        attempts++;\n",
       "        if (attempts > 100) {\n",
       "          clearInterval(timer);\n",
       "          console.log(\"Bokeh: ERROR: Unable to run BokehJS code because BokehJS library is missing\");\n",
       "        }\n",
       "      }\n",
       "    }, 10, root)\n",
       "  }\n",
       "})(window);"
      ],
      "application/vnd.bokehjs_exec.v0+json": ""
     },
     "metadata": {
      "application/vnd.bokehjs_exec.v0+json": {
       "id": "18801"
      }
     },
     "output_type": "display_data"
    }
   ],
   "source": [
    "p2 = hv.render(df_by_ct_co_avg['Profit'].hvplot(kind = 'bar', title = 'Average Profit Margin', stacked= True, legend = 'top_left', width = 600, height = 400, color = ['pink', 'yellow']).opts(xrotation = 90))\n",
    "p2.xaxis.group_label_orientation = 'vertical'\n",
    "show(p2)"
   ]
  },
  {
   "cell_type": "markdown",
   "metadata": {},
   "source": [
    "> <b> If the average cost per KM is generally the same among all cities provided (Previous section), the the higher the average profit margin means customers were charged higher </b>\n",
    "\n",
    "> <b> With a slightly lower average cost per KM, `Pink` cab shows low profit margin, they are charging customers way lower than Yellow cabs </b>\n",
    "\n",
    "> <b> Generally, `Pink` cab has lots of rooms for profit margin in all cities, but especially in Dallas, Denver, New York, Phoenix, Pittsburgh, and Silicon Valley </b>"
   ]
  },
  {
   "cell_type": "code",
   "execution_count": 306,
   "metadata": {},
   "outputs": [
    {
     "data": {
      "text/html": [
       "<div>\n",
       "<style scoped>\n",
       "    .dataframe tbody tr th:only-of-type {\n",
       "        vertical-align: middle;\n",
       "    }\n",
       "\n",
       "    .dataframe tbody tr th {\n",
       "        vertical-align: top;\n",
       "    }\n",
       "\n",
       "    .dataframe thead th {\n",
       "        text-align: right;\n",
       "    }\n",
       "</style>\n",
       "<table border=\"1\" class=\"dataframe\">\n",
       "  <thead>\n",
       "    <tr style=\"text-align: right;\">\n",
       "      <th></th>\n",
       "      <th></th>\n",
       "      <th></th>\n",
       "      <th></th>\n",
       "      <th>Number of Transactions</th>\n",
       "    </tr>\n",
       "    <tr>\n",
       "      <th>City</th>\n",
       "      <th>Company</th>\n",
       "      <th>Lat</th>\n",
       "      <th>Lon</th>\n",
       "      <th></th>\n",
       "    </tr>\n",
       "  </thead>\n",
       "  <tbody>\n",
       "    <tr>\n",
       "      <th rowspan=\"2\" valign=\"top\">ATLANTA GA</th>\n",
       "      <th>Pink Cab</th>\n",
       "      <th>33.7628</th>\n",
       "      <th>-84.4220</th>\n",
       "      <td>1762</td>\n",
       "    </tr>\n",
       "    <tr>\n",
       "      <th>Yellow Cab</th>\n",
       "      <th>33.7628</th>\n",
       "      <th>-84.4220</th>\n",
       "      <td>5795</td>\n",
       "    </tr>\n",
       "    <tr>\n",
       "      <th rowspan=\"2\" valign=\"top\">AUSTIN TX</th>\n",
       "      <th>Pink Cab</th>\n",
       "      <th>30.3005</th>\n",
       "      <th>-97.7522</th>\n",
       "      <td>1868</td>\n",
       "    </tr>\n",
       "    <tr>\n",
       "      <th>Yellow Cab</th>\n",
       "      <th>30.3005</th>\n",
       "      <th>-97.7522</th>\n",
       "      <td>3028</td>\n",
       "    </tr>\n",
       "    <tr>\n",
       "      <th>BOSTON MA</th>\n",
       "      <th>Pink Cab</th>\n",
       "      <th>42.3188</th>\n",
       "      <th>-71.0852</th>\n",
       "      <td>5186</td>\n",
       "    </tr>\n",
       "  </tbody>\n",
       "</table>\n",
       "</div>"
      ],
      "text/plain": [
       "                                        Number of Transactions\n",
       "City       Company    Lat     Lon                             \n",
       "ATLANTA GA Pink Cab   33.7628 -84.4220                    1762\n",
       "           Yellow Cab 33.7628 -84.4220                    5795\n",
       "AUSTIN TX  Pink Cab   30.3005 -97.7522                    1868\n",
       "           Yellow Cab 30.3005 -97.7522                    3028\n",
       "BOSTON MA  Pink Cab   42.3188 -71.0852                    5186"
      ]
     },
     "execution_count": 306,
     "metadata": {},
     "output_type": "execute_result"
    }
   ],
   "source": [
    "# Create a new dataframe and display total transactions over the years by each company and merge with cordinates of each city\n",
    "join = pd.merge(geo_df, df, how ='inner', on = ['City'])\n",
    "group = join.groupby(['City','Company', 'Lat','Lon']).size()\n",
    "group_df = pd.DataFrame(group, columns = ['Number of Transactions'])\n",
    "group_df.head()"
   ]
  },
  {
   "cell_type": "code",
   "execution_count": 307,
   "metadata": {},
   "outputs": [],
   "source": [
    "# Create 2 new dataframe and each contains city and transaction information for each company\n",
    "pink = pd.DataFrame()\n",
    "yellow = pd.DataFrame()\n",
    "for i in range(len(group_df)):\n",
    "    if i %2 == 0:\n",
    "        pink = pink.append(group_df.iloc[[i]])\n",
    "    elif i %2 == 1:\n",
    "        yellow = yellow.append(group_df.iloc[[i]])"
   ]
  },
  {
   "cell_type": "code",
   "execution_count": 308,
   "metadata": {},
   "outputs": [
    {
     "data": {
      "text/html": [
       "<div>\n",
       "<style scoped>\n",
       "    .dataframe tbody tr th:only-of-type {\n",
       "        vertical-align: middle;\n",
       "    }\n",
       "\n",
       "    .dataframe tbody tr th {\n",
       "        vertical-align: top;\n",
       "    }\n",
       "\n",
       "    .dataframe thead th {\n",
       "        text-align: right;\n",
       "    }\n",
       "</style>\n",
       "<table border=\"1\" class=\"dataframe\">\n",
       "  <thead>\n",
       "    <tr style=\"text-align: right;\">\n",
       "      <th></th>\n",
       "      <th></th>\n",
       "      <th></th>\n",
       "      <th></th>\n",
       "      <th>Yellow Tran</th>\n",
       "    </tr>\n",
       "    <tr>\n",
       "      <th>City</th>\n",
       "      <th>Company</th>\n",
       "      <th>Lat</th>\n",
       "      <th>Lon</th>\n",
       "      <th></th>\n",
       "    </tr>\n",
       "  </thead>\n",
       "  <tbody>\n",
       "    <tr>\n",
       "      <th>ATLANTA GA</th>\n",
       "      <th>Yellow Cab</th>\n",
       "      <th>33.7628</th>\n",
       "      <th>-84.4220</th>\n",
       "      <td>5795</td>\n",
       "    </tr>\n",
       "    <tr>\n",
       "      <th>AUSTIN TX</th>\n",
       "      <th>Yellow Cab</th>\n",
       "      <th>30.3005</th>\n",
       "      <th>-97.7522</th>\n",
       "      <td>3028</td>\n",
       "    </tr>\n",
       "    <tr>\n",
       "      <th>BOSTON MA</th>\n",
       "      <th>Yellow Cab</th>\n",
       "      <th>42.3188</th>\n",
       "      <th>-71.0852</th>\n",
       "      <td>24506</td>\n",
       "    </tr>\n",
       "    <tr>\n",
       "      <th>CHICAGO IL</th>\n",
       "      <th>Yellow Cab</th>\n",
       "      <th>41.8375</th>\n",
       "      <th>-87.6866</th>\n",
       "      <td>47264</td>\n",
       "    </tr>\n",
       "    <tr>\n",
       "      <th>DALLAS TX</th>\n",
       "      <th>Yellow Cab</th>\n",
       "      <th>32.7935</th>\n",
       "      <th>-96.7667</th>\n",
       "      <td>5637</td>\n",
       "    </tr>\n",
       "  </tbody>\n",
       "</table>\n",
       "</div>"
      ],
      "text/plain": [
       "                                        Yellow Tran\n",
       "City       Company    Lat     Lon                  \n",
       "ATLANTA GA Yellow Cab 33.7628 -84.4220         5795\n",
       "AUSTIN TX  Yellow Cab 30.3005 -97.7522         3028\n",
       "BOSTON MA  Yellow Cab 42.3188 -71.0852        24506\n",
       "CHICAGO IL Yellow Cab 41.8375 -87.6866        47264\n",
       "DALLAS TX  Yellow Cab 32.7935 -96.7667         5637"
      ]
     },
     "execution_count": 308,
     "metadata": {},
     "output_type": "execute_result"
    }
   ],
   "source": [
    "# Change the name of the column for yellow cab transaction data\n",
    "yellow.rename(columns = {'Number of Transactions':'Yellow Tran'}, inplace = True)\n",
    "yellow.head()"
   ]
  },
  {
   "cell_type": "code",
   "execution_count": 309,
   "metadata": {},
   "outputs": [
    {
     "data": {
      "text/html": [
       "<div>\n",
       "<style scoped>\n",
       "    .dataframe tbody tr th:only-of-type {\n",
       "        vertical-align: middle;\n",
       "    }\n",
       "\n",
       "    .dataframe tbody tr th {\n",
       "        vertical-align: top;\n",
       "    }\n",
       "\n",
       "    .dataframe thead th {\n",
       "        text-align: right;\n",
       "    }\n",
       "</style>\n",
       "<table border=\"1\" class=\"dataframe\">\n",
       "  <thead>\n",
       "    <tr style=\"text-align: right;\">\n",
       "      <th></th>\n",
       "      <th></th>\n",
       "      <th></th>\n",
       "      <th></th>\n",
       "      <th>Pink Tran</th>\n",
       "    </tr>\n",
       "    <tr>\n",
       "      <th>City</th>\n",
       "      <th>Company</th>\n",
       "      <th>Lat</th>\n",
       "      <th>Lon</th>\n",
       "      <th></th>\n",
       "    </tr>\n",
       "  </thead>\n",
       "  <tbody>\n",
       "    <tr>\n",
       "      <th>ATLANTA GA</th>\n",
       "      <th>Pink Cab</th>\n",
       "      <th>33.7628</th>\n",
       "      <th>-84.4220</th>\n",
       "      <td>1762</td>\n",
       "    </tr>\n",
       "    <tr>\n",
       "      <th>AUSTIN TX</th>\n",
       "      <th>Pink Cab</th>\n",
       "      <th>30.3005</th>\n",
       "      <th>-97.7522</th>\n",
       "      <td>1868</td>\n",
       "    </tr>\n",
       "    <tr>\n",
       "      <th>BOSTON MA</th>\n",
       "      <th>Pink Cab</th>\n",
       "      <th>42.3188</th>\n",
       "      <th>-71.0852</th>\n",
       "      <td>5186</td>\n",
       "    </tr>\n",
       "    <tr>\n",
       "      <th>CHICAGO IL</th>\n",
       "      <th>Pink Cab</th>\n",
       "      <th>41.8375</th>\n",
       "      <th>-87.6866</th>\n",
       "      <td>9361</td>\n",
       "    </tr>\n",
       "    <tr>\n",
       "      <th>DALLAS TX</th>\n",
       "      <th>Pink Cab</th>\n",
       "      <th>32.7935</th>\n",
       "      <th>-96.7667</th>\n",
       "      <td>1380</td>\n",
       "    </tr>\n",
       "  </tbody>\n",
       "</table>\n",
       "</div>"
      ],
      "text/plain": [
       "                                      Pink Tran\n",
       "City       Company  Lat     Lon                \n",
       "ATLANTA GA Pink Cab 33.7628 -84.4220       1762\n",
       "AUSTIN TX  Pink Cab 30.3005 -97.7522       1868\n",
       "BOSTON MA  Pink Cab 42.3188 -71.0852       5186\n",
       "CHICAGO IL Pink Cab 41.8375 -87.6866       9361\n",
       "DALLAS TX  Pink Cab 32.7935 -96.7667       1380"
      ]
     },
     "execution_count": 309,
     "metadata": {},
     "output_type": "execute_result"
    }
   ],
   "source": [
    "# Change the name of the column for pink cab transaction data\n",
    "pink.rename(columns = {'Number of Transactions':'Pink Tran'}, inplace = True)\n",
    "pink.head()"
   ]
  },
  {
   "cell_type": "code",
   "execution_count": 310,
   "metadata": {},
   "outputs": [
    {
     "data": {
      "text/html": [
       "<div>\n",
       "<style scoped>\n",
       "    .dataframe tbody tr th:only-of-type {\n",
       "        vertical-align: middle;\n",
       "    }\n",
       "\n",
       "    .dataframe tbody tr th {\n",
       "        vertical-align: top;\n",
       "    }\n",
       "\n",
       "    .dataframe thead th {\n",
       "        text-align: right;\n",
       "    }\n",
       "</style>\n",
       "<table border=\"1\" class=\"dataframe\">\n",
       "  <thead>\n",
       "    <tr style=\"text-align: right;\">\n",
       "      <th></th>\n",
       "      <th></th>\n",
       "      <th></th>\n",
       "      <th>Pink Tran</th>\n",
       "      <th>Yellow Tran</th>\n",
       "    </tr>\n",
       "    <tr>\n",
       "      <th>City</th>\n",
       "      <th>Lat</th>\n",
       "      <th>Lon</th>\n",
       "      <th></th>\n",
       "      <th></th>\n",
       "    </tr>\n",
       "  </thead>\n",
       "  <tbody>\n",
       "    <tr>\n",
       "      <th>ATLANTA GA</th>\n",
       "      <th>33.7628</th>\n",
       "      <th>-84.4220</th>\n",
       "      <td>1762</td>\n",
       "      <td>5795</td>\n",
       "    </tr>\n",
       "    <tr>\n",
       "      <th>AUSTIN TX</th>\n",
       "      <th>30.3005</th>\n",
       "      <th>-97.7522</th>\n",
       "      <td>1868</td>\n",
       "      <td>3028</td>\n",
       "    </tr>\n",
       "    <tr>\n",
       "      <th>BOSTON MA</th>\n",
       "      <th>42.3188</th>\n",
       "      <th>-71.0852</th>\n",
       "      <td>5186</td>\n",
       "      <td>24506</td>\n",
       "    </tr>\n",
       "    <tr>\n",
       "      <th>CHICAGO IL</th>\n",
       "      <th>41.8375</th>\n",
       "      <th>-87.6866</th>\n",
       "      <td>9361</td>\n",
       "      <td>47264</td>\n",
       "    </tr>\n",
       "    <tr>\n",
       "      <th>DALLAS TX</th>\n",
       "      <th>32.7935</th>\n",
       "      <th>-96.7667</th>\n",
       "      <td>1380</td>\n",
       "      <td>5637</td>\n",
       "    </tr>\n",
       "  </tbody>\n",
       "</table>\n",
       "</div>"
      ],
      "text/plain": [
       "                             Pink Tran  Yellow Tran\n",
       "City       Lat     Lon                             \n",
       "ATLANTA GA 33.7628 -84.4220       1762         5795\n",
       "AUSTIN TX  30.3005 -97.7522       1868         3028\n",
       "BOSTON MA  42.3188 -71.0852       5186        24506\n",
       "CHICAGO IL 41.8375 -87.6866       9361        47264\n",
       "DALLAS TX  32.7935 -96.7667       1380         5637"
      ]
     },
     "execution_count": 310,
     "metadata": {},
     "output_type": "execute_result"
    }
   ],
   "source": [
    "# Concat both pink and yellow dataframe\n",
    "trans = pd.merge(pink, yellow, how ='outer', on = ['City', 'Lat', 'Lon'])\n",
    "trans.head()"
   ]
  },
  {
   "cell_type": "code",
   "execution_count": 311,
   "metadata": {},
   "outputs": [
    {
     "data": {},
     "metadata": {},
     "output_type": "display_data"
    },
    {
     "data": {
      "application/vnd.holoviews_exec.v0+json": "",
      "text/html": [
       "<div id='18988'>\n",
       "\n",
       "\n",
       "\n",
       "\n",
       "\n",
       "  <div class=\"bk-root\" id=\"e124d6c4-505f-45b5-bebb-227651ae5cde\" data-root-id=\"18988\"></div>\n",
       "</div>\n",
       "<script type=\"application/javascript\">(function(root) {\n",
       "  function embed_document(root) {\n",
       "    var docs_json = {\"0fd4b9ce-37a3-4ce9-be35-33c13580a4b4\":{\"defs\":[{\"extends\":null,\"module\":null,\"name\":\"ReactiveHTML1\",\"overrides\":[],\"properties\":[]},{\"extends\":null,\"module\":null,\"name\":\"FlexBox1\",\"overrides\":[],\"properties\":[{\"default\":\"flex-start\",\"kind\":null,\"name\":\"align_content\"},{\"default\":\"flex-start\",\"kind\":null,\"name\":\"align_items\"},{\"default\":\"row\",\"kind\":null,\"name\":\"flex_direction\"},{\"default\":\"wrap\",\"kind\":null,\"name\":\"flex_wrap\"},{\"default\":\"flex-start\",\"kind\":null,\"name\":\"justify_content\"}]},{\"extends\":null,\"module\":null,\"name\":\"GridStack1\",\"overrides\":[],\"properties\":[{\"default\":\"warn\",\"kind\":null,\"name\":\"mode\"},{\"default\":null,\"kind\":null,\"name\":\"ncols\"},{\"default\":null,\"kind\":null,\"name\":\"nrows\"},{\"default\":true,\"kind\":null,\"name\":\"allow_resize\"},{\"default\":true,\"kind\":null,\"name\":\"allow_drag\"},{\"default\":[],\"kind\":null,\"name\":\"state\"}]},{\"extends\":null,\"module\":null,\"name\":\"click1\",\"overrides\":[],\"properties\":[{\"default\":\"\",\"kind\":null,\"name\":\"terminal_output\"},{\"default\":\"\",\"kind\":null,\"name\":\"debug_name\"},{\"default\":0,\"kind\":null,\"name\":\"clears\"}]},{\"extends\":null,\"module\":null,\"name\":\"TemplateActions1\",\"overrides\":[],\"properties\":[{\"default\":0,\"kind\":null,\"name\":\"open_modal\"},{\"default\":0,\"kind\":null,\"name\":\"close_modal\"}]},{\"extends\":null,\"module\":null,\"name\":\"MaterialTemplateActions1\",\"overrides\":[],\"properties\":[{\"default\":0,\"kind\":null,\"name\":\"open_modal\"},{\"default\":0,\"kind\":null,\"name\":\"close_modal\"}]}],\"roots\":{\"references\":[{\"attributes\":{},\"id\":\"19022\",\"type\":\"ResetTool\"},{\"attributes\":{\"axis\":{\"id\":\"19014\"},\"coordinates\":null,\"dimension\":1,\"grid_line_color\":null,\"group\":null,\"ticker\":null},\"id\":\"19017\",\"type\":\"Grid\"},{\"attributes\":{\"axis_label\":\"Longitude\",\"coordinates\":null,\"formatter\":{\"id\":\"19034\"},\"group\":null,\"major_label_policy\":{\"id\":\"19039\"},\"ticker\":{\"id\":\"19033\"}},\"id\":\"19010\",\"type\":\"LinearAxis\"},{\"attributes\":{\"attribution\":\"&copy; <a href=\\\"https://www.openstreetmap.org/copyright\\\">OpenStreetMap</a> contributors\",\"url\":\"https://c.tile.openstreetmap.org/{Z}/{X}/{Y}.png\"},\"id\":\"19059\",\"type\":\"WMTSTileSource\"},{\"attributes\":{\"bottom_units\":\"screen\",\"coordinates\":null,\"fill_alpha\":0.5,\"fill_color\":\"lightgrey\",\"group\":null,\"left_units\":\"screen\",\"level\":\"overlay\",\"line_alpha\":1.0,\"line_color\":\"black\",\"line_dash\":[4,4],\"line_width\":2,\"right_units\":\"screen\",\"syncable\":false,\"top_units\":\"screen\"},\"id\":\"19023\",\"type\":\"BoxAnnotation\"},{\"attributes\":{\"angle\":{\"value\":0.0},\"fill_alpha\":{\"value\":0.5},\"fill_color\":{\"value\":\"pink\"},\"hatch_alpha\":{\"value\":0.5},\"hatch_color\":{\"value\":\"pink\"},\"hatch_scale\":{\"value\":12.0},\"hatch_weight\":{\"value\":1.0},\"line_alpha\":{\"value\":0.5},\"line_cap\":{\"value\":\"butt\"},\"line_color\":{\"value\":\"pink\"},\"line_dash\":{\"value\":[]},\"line_dash_offset\":{\"value\":0},\"line_join\":{\"value\":\"bevel\"},\"line_width\":{\"value\":1},\"marker\":{\"value\":\"circle\"},\"size\":{\"field\":\"size\"},\"x\":{\"field\":\"Lon\"},\"y\":{\"field\":\"Lat\"}},\"id\":\"19074\",\"type\":\"Scatter\"},{\"attributes\":{\"dimension\":\"lon\"},\"id\":\"19033\",\"type\":\"MercatorTicker\"},{\"attributes\":{\"fill_alpha\":{\"value\":0.5},\"fill_color\":{\"value\":\"pink\"},\"hatch_alpha\":{\"value\":0.1},\"hatch_color\":{\"value\":\"pink\"},\"line_alpha\":{\"value\":0.5},\"line_color\":{\"value\":\"pink\"},\"size\":{\"field\":\"size\"},\"x\":{\"field\":\"Lon\"},\"y\":{\"field\":\"Lat\"}},\"id\":\"19068\",\"type\":\"Scatter\"},{\"attributes\":{},\"id\":\"19046\",\"type\":\"AllLabels\"},{\"attributes\":{\"axis\":{\"id\":\"19010\"},\"coordinates\":null,\"grid_line_color\":null,\"group\":null,\"ticker\":null},\"id\":\"19013\",\"type\":\"Grid\"},{\"attributes\":{\"fill_alpha\":{\"value\":0.5},\"fill_color\":{\"value\":\"pink\"},\"hatch_alpha\":{\"value\":0.5},\"hatch_color\":{\"value\":\"pink\"},\"line_alpha\":{\"value\":0.5},\"line_color\":{\"value\":\"pink\"},\"size\":{\"field\":\"size\"},\"x\":{\"field\":\"Lon\"},\"y\":{\"field\":\"Lat\"}},\"id\":\"19067\",\"type\":\"Scatter\"},{\"attributes\":{\"callback\":null,\"formatters\":{\"$x\":{\"id\":\"19072\"},\"$y\":{\"id\":\"19073\"}},\"renderers\":[{\"id\":\"19070\"}],\"tags\":[\"hv_created\"],\"tooltips\":[[\"Lon\",\"$x{custom}\"],[\"Lat\",\"$y{custom}\"],[\"Pink Tran\",\"@{Pink_Tran}\"]]},\"id\":\"18998\",\"type\":\"HoverTool\"},{\"attributes\":{\"dimension\":\"lat\"},\"id\":\"19035\",\"type\":\"MercatorTicker\"},{\"attributes\":{\"axis_label\":\"Latitude\",\"coordinates\":null,\"formatter\":{\"id\":\"19036\"},\"group\":null,\"major_label_policy\":{\"id\":\"19046\"},\"ticker\":{\"id\":\"19035\"}},\"id\":\"19014\",\"type\":\"LinearAxis\"},{\"attributes\":{\"dimension\":\"lon\"},\"id\":\"19034\",\"type\":\"MercatorTickFormatter\"},{\"attributes\":{},\"id\":\"19078\",\"type\":\"UnionRenderers\"},{\"attributes\":{\"coordinates\":null,\"group\":null,\"text\":\"Total Pink Cab Rides 2016-2018\",\"text_color\":\"black\",\"text_font_size\":\"12pt\"},\"id\":\"19002\",\"type\":\"Title\"},{\"attributes\":{\"coordinates\":null,\"data_source\":{\"id\":\"19064\"},\"glyph\":{\"id\":\"19067\"},\"group\":null,\"hover_glyph\":null,\"muted_glyph\":{\"id\":\"19069\"},\"nonselection_glyph\":{\"id\":\"19068\"},\"selection_glyph\":{\"id\":\"19074\"},\"view\":{\"id\":\"19071\"}},\"id\":\"19070\",\"type\":\"GlyphRenderer\"},{\"attributes\":{},\"id\":\"19039\",\"type\":\"AllLabels\"},{\"attributes\":{\"end\":6836332.273531625,\"min_interval\":5,\"reset_end\":6836332.273531625,\"reset_start\":2180069.8816820583,\"start\":2180069.8816820583,\"tags\":[[[\"Lat\",\"Lat\",null]]]},\"id\":\"18995\",\"type\":\"Range1d\"},{\"attributes\":{\"coordinates\":null,\"group\":null,\"level\":\"glyph\",\"tile_source\":{\"id\":\"19059\"}},\"id\":\"19062\",\"type\":\"TileRenderer\"},{\"attributes\":{\"children\":[{\"id\":\"18989\"},{\"id\":\"19001\"},{\"id\":\"19129\"}],\"margin\":[0,0,0,0],\"name\":\"Row61377\",\"tags\":[\"embedded\"]},\"id\":\"18988\",\"type\":\"Row\"},{\"attributes\":{\"fill_alpha\":{\"value\":0.2},\"fill_color\":{\"value\":\"pink\"},\"hatch_alpha\":{\"value\":0.2},\"hatch_color\":{\"value\":\"pink\"},\"line_alpha\":{\"value\":0.2},\"line_color\":{\"value\":\"pink\"},\"size\":{\"field\":\"size\"},\"x\":{\"field\":\"Lon\"},\"y\":{\"field\":\"Lat\"}},\"id\":\"19069\",\"type\":\"Scatter\"},{\"attributes\":{\"code\":\"\\n        var projections = Bokeh.require(\\\"core/util/projections\\\");\\n        var x = special_vars.data_x\\n        var y = special_vars.data_y\\n        if (projections.wgs84_mercator.invert == null) {\\n          var coords = projections.wgs84_mercator.inverse([x, y])\\n        } else {\\n          var coords = projections.wgs84_mercator.invert(x, y)\\n        }\\n        return \\\"\\\" + (coords[1]).toFixed(4)\\n    \"},\"id\":\"19073\",\"type\":\"CustomJSHover\"},{\"attributes\":{},\"id\":\"19018\",\"type\":\"SaveTool\"},{\"attributes\":{},\"id\":\"19065\",\"type\":\"Selection\"},{\"attributes\":{},\"id\":\"19006\",\"type\":\"LinearScale\"},{\"attributes\":{\"end\":-7505745.418970663,\"min_interval\":5,\"reset_end\":-7505745.418970663,\"reset_start\":-14024512.767560055,\"start\":-14024512.767560055,\"tags\":[[[\"Lon\",\"Lon\",null]]]},\"id\":\"18994\",\"type\":\"Range1d\"},{\"attributes\":{\"margin\":[5,5,5,5],\"name\":\"HSpacer61382\",\"sizing_mode\":\"stretch_width\"},\"id\":\"19129\",\"type\":\"Spacer\"},{\"attributes\":{},\"id\":\"19019\",\"type\":\"PanTool\"},{\"attributes\":{\"zoom_on_axis\":false},\"id\":\"19020\",\"type\":\"WheelZoomTool\"},{\"attributes\":{\"tools\":[{\"id\":\"18998\"},{\"id\":\"19018\"},{\"id\":\"19019\"},{\"id\":\"19020\"},{\"id\":\"19021\"},{\"id\":\"19022\"}]},\"id\":\"19024\",\"type\":\"Toolbar\"},{\"attributes\":{\"margin\":[5,5,5,5],\"name\":\"HSpacer61381\",\"sizing_mode\":\"stretch_width\"},\"id\":\"18989\",\"type\":\"Spacer\"},{\"attributes\":{\"match_aspect\":true,\"overlay\":{\"id\":\"19023\"}},\"id\":\"19021\",\"type\":\"BoxZoomTool\"},{\"attributes\":{\"below\":[{\"id\":\"19010\"}],\"center\":[{\"id\":\"19013\"},{\"id\":\"19017\"}],\"frame_height\":500,\"frame_width\":700,\"height\":null,\"left\":[{\"id\":\"19014\"}],\"margin\":[5,5,5,5],\"match_aspect\":true,\"min_border_bottom\":10,\"min_border_left\":10,\"min_border_right\":10,\"min_border_top\":10,\"renderers\":[{\"id\":\"19062\"},{\"id\":\"19070\"}],\"sizing_mode\":\"fixed\",\"title\":{\"id\":\"19002\"},\"toolbar\":{\"id\":\"19024\"},\"width\":null,\"x_range\":{\"id\":\"18994\"},\"x_scale\":{\"id\":\"19006\"},\"y_range\":{\"id\":\"18995\"},\"y_scale\":{\"id\":\"19008\"}},\"id\":\"19001\",\"subtype\":\"Figure\",\"type\":\"Plot\"},{\"attributes\":{\"code\":\"\\n        var projections = Bokeh.require(\\\"core/util/projections\\\");\\n        var x = special_vars.data_x\\n        var y = special_vars.data_y\\n        if (projections.wgs84_mercator.invert == null) {\\n          var coords = projections.wgs84_mercator.inverse([x, y])\\n        } else {\\n          var coords = projections.wgs84_mercator.invert(x, y)\\n        }\\n        return \\\"\\\" + (coords[0]).toFixed(4)\\n    \"},\"id\":\"19072\",\"type\":\"CustomJSHover\"},{\"attributes\":{\"source\":{\"id\":\"19064\"}},\"id\":\"19071\",\"type\":\"CDSView\"},{\"attributes\":{\"dimension\":\"lat\"},\"id\":\"19036\",\"type\":\"MercatorTickFormatter\"},{\"attributes\":{\"data\":{\"Lat\":{\"__ndarray__\":\"txIrFKJ+TkHHNgWMbQZLQRAbUZrF3lNB43aNLkeYU0FUpTNBi4JNQWJ9bzMublJBkUG4lrLaTkHXWM91YK1GQYuRWE/lflBBx9T5wO7yUkFNqS37yXJOQfFxQUnXTE5BfY0JYn/OUkFJIDUIuMZRQar6q5pSjE1Bd7qvUWQOV0FBC75z8iNRQeq5EtjB3UxBq+EEdq/1UUE=\",\"dtype\":\"float64\",\"order\":\"little\",\"shape\":[19]},\"Lon\":{\"__ndarray__\":\"E++nwcbsYcFg8BekV8FkwSuDFRG0L17BnyIqdTmeYsE+waF4xotkwbKV4RSMRGbBbLjWFQckacGtm6Fv1gdhwYYrfp4sbWLBIXpljmhkX8G8zKZBvARpwYOMWxWizGfBTZ26HyH7YMHBUyhycsppwfFNRPUz3mjBsk1tPfj4acEZhetXduppwULvjw3WimfBQ5+P6TxaYME=\",\"dtype\":\"float64\",\"order\":\"little\",\"shape\":[19]},\"Pink_Tran\":[1762,1868,5186,9361,1380,1394,19865,2002,1841,13967,1513,864,682,1334,10672,2732,3797,799,3692],\"size\":{\"__ndarray__\":\"0vCXlvP8RED/C2LwNJxFQFrKmojjAFJA33kiCyUwWEBiYmos/ZJCQNZPxC8Mq0JAXfOzHC+eYUDXUZkKMl9GQOmTeoIUdEVARdpN66aLXUCmYqS/2nJDQMaxDR7VZD1ApCYWJHkdOkAOncVGEUNCQLLRWjmL01lAPp/Tbl8iSkAMzR2sVc9OQK8iTR0/RDxAV4dFpoNhTkA=\",\"dtype\":\"float64\",\"order\":\"little\",\"shape\":[19]}},\"selected\":{\"id\":\"19065\"},\"selection_policy\":{\"id\":\"19078\"}},\"id\":\"19064\",\"type\":\"ColumnDataSource\"},{\"attributes\":{},\"id\":\"19008\",\"type\":\"LinearScale\"}],\"root_ids\":[\"18988\"]},\"title\":\"Bokeh Application\",\"version\":\"2.4.2\"}};\n",
       "    var render_items = [{\"docid\":\"0fd4b9ce-37a3-4ce9-be35-33c13580a4b4\",\"root_ids\":[\"18988\"],\"roots\":{\"18988\":\"e124d6c4-505f-45b5-bebb-227651ae5cde\"}}];\n",
       "    root.Bokeh.embed.embed_items_notebook(docs_json, render_items);\n",
       "  }\n",
       "  if (root.Bokeh !== undefined && root.Bokeh.Panel !== undefined) {\n",
       "    embed_document(root);\n",
       "  } else {\n",
       "    var attempts = 0;\n",
       "    var timer = setInterval(function(root) {\n",
       "      if (root.Bokeh !== undefined && root.Bokeh.Panel !== undefined) {\n",
       "        clearInterval(timer);\n",
       "        embed_document(root);\n",
       "      } else if (document.readyState == \"complete\") {\n",
       "        attempts++;\n",
       "        if (attempts > 200) {\n",
       "          clearInterval(timer);\n",
       "          console.log(\"Bokeh: ERROR: Unable to run BokehJS code because BokehJS library is missing\");\n",
       "        }\n",
       "      }\n",
       "    }, 25, root)\n",
       "  }\n",
       "})(window);</script>"
      ],
      "text/plain": [
       ":Overlay\n",
       "   .Tiles.I  :Tiles   [x,y]\n",
       "   .Points.I :Points   [Lon,Lat]   (Pink Tran)"
      ]
     },
     "execution_count": 311,
     "metadata": {
      "application/vnd.holoviews_exec.v0+json": {
       "id": "18988"
      }
     },
     "output_type": "execute_result"
    }
   ],
   "source": [
    "# Create a points plot for total pink cab rides using geoviews\n",
    "pink.hvplot.points(\n",
    "    'Lon',\n",
    "    'Lat',\n",
    "    geo=True,\n",
    "    size='Pink Tran',\n",
    "    tiles='OSM',\n",
    "    color='pink',\n",
    "    alpha=0.5,\n",
    "    frame_width = 700,\n",
    "    frame_height = 500,\n",
    "    title='Total Pink Cab Rides 2016-2018',\n",
    "    xlabel='Longitude',\n",
    "    ylabel='Latitude'\n",
    ")"
   ]
  },
  {
   "cell_type": "markdown",
   "metadata": {},
   "source": [
    "> <b> Compare this image and the image below for differences between `Pink` and `Yellow` cabs total rides (2016 to 2018) from a geographical perspective </b>\n"
   ]
  },
  {
   "cell_type": "code",
   "execution_count": 312,
   "metadata": {},
   "outputs": [
    {
     "data": {},
     "metadata": {},
     "output_type": "display_data"
    },
    {
     "data": {
      "application/vnd.holoviews_exec.v0+json": "",
      "text/html": [
       "<div id='19161'>\n",
       "\n",
       "\n",
       "\n",
       "\n",
       "\n",
       "  <div class=\"bk-root\" id=\"ae94ac40-17c1-42b9-8a02-75cc969891bc\" data-root-id=\"19161\"></div>\n",
       "</div>\n",
       "<script type=\"application/javascript\">(function(root) {\n",
       "  function embed_document(root) {\n",
       "    var docs_json = {\"a64c5b7d-eb2f-4275-81a2-fcdb4b56a420\":{\"defs\":[{\"extends\":null,\"module\":null,\"name\":\"ReactiveHTML1\",\"overrides\":[],\"properties\":[]},{\"extends\":null,\"module\":null,\"name\":\"FlexBox1\",\"overrides\":[],\"properties\":[{\"default\":\"flex-start\",\"kind\":null,\"name\":\"align_content\"},{\"default\":\"flex-start\",\"kind\":null,\"name\":\"align_items\"},{\"default\":\"row\",\"kind\":null,\"name\":\"flex_direction\"},{\"default\":\"wrap\",\"kind\":null,\"name\":\"flex_wrap\"},{\"default\":\"flex-start\",\"kind\":null,\"name\":\"justify_content\"}]},{\"extends\":null,\"module\":null,\"name\":\"GridStack1\",\"overrides\":[],\"properties\":[{\"default\":\"warn\",\"kind\":null,\"name\":\"mode\"},{\"default\":null,\"kind\":null,\"name\":\"ncols\"},{\"default\":null,\"kind\":null,\"name\":\"nrows\"},{\"default\":true,\"kind\":null,\"name\":\"allow_resize\"},{\"default\":true,\"kind\":null,\"name\":\"allow_drag\"},{\"default\":[],\"kind\":null,\"name\":\"state\"}]},{\"extends\":null,\"module\":null,\"name\":\"click1\",\"overrides\":[],\"properties\":[{\"default\":\"\",\"kind\":null,\"name\":\"terminal_output\"},{\"default\":\"\",\"kind\":null,\"name\":\"debug_name\"},{\"default\":0,\"kind\":null,\"name\":\"clears\"}]},{\"extends\":null,\"module\":null,\"name\":\"TemplateActions1\",\"overrides\":[],\"properties\":[{\"default\":0,\"kind\":null,\"name\":\"open_modal\"},{\"default\":0,\"kind\":null,\"name\":\"close_modal\"}]},{\"extends\":null,\"module\":null,\"name\":\"MaterialTemplateActions1\",\"overrides\":[],\"properties\":[{\"default\":0,\"kind\":null,\"name\":\"open_modal\"},{\"default\":0,\"kind\":null,\"name\":\"close_modal\"}]}],\"roots\":{\"references\":[{\"attributes\":{\"children\":[{\"id\":\"19162\"},{\"id\":\"19174\"},{\"id\":\"19302\"}],\"margin\":[0,0,0,0],\"name\":\"Row61743\",\"tags\":[\"embedded\"]},\"id\":\"19161\",\"type\":\"Row\"},{\"attributes\":{\"angle\":{\"value\":0.0},\"fill_alpha\":{\"value\":0.5},\"fill_color\":{\"value\":\"yellow\"},\"hatch_alpha\":{\"value\":0.5},\"hatch_color\":{\"value\":\"yellow\"},\"hatch_scale\":{\"value\":12.0},\"hatch_weight\":{\"value\":1.0},\"line_alpha\":{\"value\":0.5},\"line_cap\":{\"value\":\"butt\"},\"line_color\":{\"value\":\"yellow\"},\"line_dash\":{\"value\":[]},\"line_dash_offset\":{\"value\":0},\"line_join\":{\"value\":\"bevel\"},\"line_width\":{\"value\":1},\"marker\":{\"value\":\"circle\"},\"size\":{\"field\":\"size\"},\"x\":{\"field\":\"Lon\"},\"y\":{\"field\":\"Lat\"}},\"id\":\"19247\",\"type\":\"Scatter\"},{\"attributes\":{\"bottom_units\":\"screen\",\"coordinates\":null,\"fill_alpha\":0.5,\"fill_color\":\"lightgrey\",\"group\":null,\"left_units\":\"screen\",\"level\":\"overlay\",\"line_alpha\":1.0,\"line_color\":\"black\",\"line_dash\":[4,4],\"line_width\":2,\"right_units\":\"screen\",\"syncable\":false,\"top_units\":\"screen\"},\"id\":\"19196\",\"type\":\"BoxAnnotation\"},{\"attributes\":{\"margin\":[5,5,5,5],\"name\":\"HSpacer61747\",\"sizing_mode\":\"stretch_width\"},\"id\":\"19162\",\"type\":\"Spacer\"},{\"attributes\":{\"coordinates\":null,\"group\":null,\"text\":\"Total Yellow Cab Rides 2016-2018\",\"text_color\":\"black\",\"text_font_size\":\"12pt\"},\"id\":\"19175\",\"type\":\"Title\"},{\"attributes\":{\"code\":\"\\n        var projections = Bokeh.require(\\\"core/util/projections\\\");\\n        var x = special_vars.data_x\\n        var y = special_vars.data_y\\n        if (projections.wgs84_mercator.invert == null) {\\n          var coords = projections.wgs84_mercator.inverse([x, y])\\n        } else {\\n          var coords = projections.wgs84_mercator.invert(x, y)\\n        }\\n        return \\\"\\\" + (coords[0]).toFixed(4)\\n    \"},\"id\":\"19245\",\"type\":\"CustomJSHover\"},{\"attributes\":{\"attribution\":\"&copy; <a href=\\\"https://www.openstreetmap.org/copyright\\\">OpenStreetMap</a> contributors\",\"url\":\"https://c.tile.openstreetmap.org/{Z}/{X}/{Y}.png\"},\"id\":\"19232\",\"type\":\"WMTSTileSource\"},{\"attributes\":{},\"id\":\"19219\",\"type\":\"AllLabels\"},{\"attributes\":{},\"id\":\"19251\",\"type\":\"UnionRenderers\"},{\"attributes\":{\"code\":\"\\n        var projections = Bokeh.require(\\\"core/util/projections\\\");\\n        var x = special_vars.data_x\\n        var y = special_vars.data_y\\n        if (projections.wgs84_mercator.invert == null) {\\n          var coords = projections.wgs84_mercator.inverse([x, y])\\n        } else {\\n          var coords = projections.wgs84_mercator.invert(x, y)\\n        }\\n        return \\\"\\\" + (coords[1]).toFixed(4)\\n    \"},\"id\":\"19246\",\"type\":\"CustomJSHover\"},{\"attributes\":{\"coordinates\":null,\"data_source\":{\"id\":\"19237\"},\"glyph\":{\"id\":\"19240\"},\"group\":null,\"hover_glyph\":null,\"muted_glyph\":{\"id\":\"19242\"},\"nonselection_glyph\":{\"id\":\"19241\"},\"selection_glyph\":{\"id\":\"19247\"},\"view\":{\"id\":\"19244\"}},\"id\":\"19243\",\"type\":\"GlyphRenderer\"},{\"attributes\":{\"callback\":null,\"formatters\":{\"$x\":{\"id\":\"19245\"},\"$y\":{\"id\":\"19246\"}},\"renderers\":[{\"id\":\"19243\"}],\"tags\":[\"hv_created\"],\"tooltips\":[[\"Lon\",\"$x{custom}\"],[\"Lat\",\"$y{custom}\"],[\"Yellow Tran\",\"@{Yellow_Tran}\"]]},\"id\":\"19171\",\"type\":\"HoverTool\"},{\"attributes\":{\"fill_alpha\":{\"value\":0.5},\"fill_color\":{\"value\":\"yellow\"},\"hatch_alpha\":{\"value\":0.5},\"hatch_color\":{\"value\":\"yellow\"},\"line_alpha\":{\"value\":0.5},\"line_color\":{\"value\":\"yellow\"},\"size\":{\"field\":\"size\"},\"x\":{\"field\":\"Lon\"},\"y\":{\"field\":\"Lat\"}},\"id\":\"19240\",\"type\":\"Scatter\"},{\"attributes\":{\"dimension\":\"lon\"},\"id\":\"19206\",\"type\":\"MercatorTicker\"},{\"attributes\":{\"margin\":[5,5,5,5],\"name\":\"HSpacer61748\",\"sizing_mode\":\"stretch_width\"},\"id\":\"19302\",\"type\":\"Spacer\"},{\"attributes\":{\"dimension\":\"lat\"},\"id\":\"19208\",\"type\":\"MercatorTicker\"},{\"attributes\":{\"dimension\":\"lat\"},\"id\":\"19209\",\"type\":\"MercatorTickFormatter\"},{\"attributes\":{\"match_aspect\":true,\"overlay\":{\"id\":\"19196\"}},\"id\":\"19194\",\"type\":\"BoxZoomTool\"},{\"attributes\":{\"tools\":[{\"id\":\"19171\"},{\"id\":\"19191\"},{\"id\":\"19192\"},{\"id\":\"19193\"},{\"id\":\"19194\"},{\"id\":\"19195\"}]},\"id\":\"19197\",\"type\":\"Toolbar\"},{\"attributes\":{},\"id\":\"19191\",\"type\":\"SaveTool\"},{\"attributes\":{\"data\":{\"Lat\":{\"__ndarray__\":\"txIrFKJ+TkHHNgWMbQZLQRAbUZrF3lNB43aNLkeYU0FUpTNBi4JNQWJ9bzMublJBkUG4lrLaTkHXWM91YK1GQYuRWE/lflBBx9T5wO7yUkFNqS37yXJOQfFxQUnXTE5BfY0JYn/OUkFJIDUIuMZRQar6q5pSjE1Bd7qvUWQOV0FBC75z8iNRQeq5EtjB3UxBq+EEdq/1UUE=\",\"dtype\":\"float64\",\"order\":\"little\",\"shape\":[19]},\"Lon\":{\"__ndarray__\":\"E++nwcbsYcFg8BekV8FkwSuDFRG0L17BnyIqdTmeYsE+waF4xotkwbKV4RSMRGbBbLjWFQckacGtm6Fv1gdhwYYrfp4sbWLBIXpljmhkX8G8zKZBvARpwYOMWxWizGfBTZ26HyH7YMHBUyhycsppwfFNRPUz3mjBsk1tPfj4acEZhetXduppwULvjw3WimfBQ5+P6TxaYME=\",\"dtype\":\"float64\",\"order\":\"little\",\"shape\":[19]},\"Yellow_Tran\":[5795,3028,24506,47264,5637,2431,28168,4452,1169,85918,2469,1200,631,1033,9816,5265,4722,1132,40045],\"size\":{\"__ndarray__\":\"Kr+MUf4HU0DSH4ZzfYNLQMmcW9JnkWNA1VqZKeQsa0DWvI0FHsVSQFnPeeEPp0hAKGke/an6ZEA+XveySq5QQDPv9fRmGEFABVRXMuJRckCEKrI7MthIQOsvN9EMUkFAQeoiiaUeOUBwFFTr9RFAQCz80bzYxFhAKvJNR9wjUkAm3sM34C1RQF7HUyqW0kBAnTdIV5kDaUA=\",\"dtype\":\"float64\",\"order\":\"little\",\"shape\":[19]}},\"selected\":{\"id\":\"19238\"},\"selection_policy\":{\"id\":\"19251\"}},\"id\":\"19237\",\"type\":\"ColumnDataSource\"},{\"attributes\":{},\"id\":\"19192\",\"type\":\"PanTool\"},{\"attributes\":{\"coordinates\":null,\"group\":null,\"level\":\"glyph\",\"tile_source\":{\"id\":\"19232\"}},\"id\":\"19235\",\"type\":\"TileRenderer\"},{\"attributes\":{\"fill_alpha\":{\"value\":0.2},\"fill_color\":{\"value\":\"yellow\"},\"hatch_alpha\":{\"value\":0.2},\"hatch_color\":{\"value\":\"yellow\"},\"line_alpha\":{\"value\":0.2},\"line_color\":{\"value\":\"yellow\"},\"size\":{\"field\":\"size\"},\"x\":{\"field\":\"Lon\"},\"y\":{\"field\":\"Lat\"}},\"id\":\"19242\",\"type\":\"Scatter\"},{\"attributes\":{\"dimension\":\"lon\"},\"id\":\"19207\",\"type\":\"MercatorTickFormatter\"},{\"attributes\":{\"end\":-7505745.418970663,\"min_interval\":5,\"reset_end\":-7505745.418970663,\"reset_start\":-14024512.767560055,\"start\":-14024512.767560055,\"tags\":[[[\"Lon\",\"Lon\",null]]]},\"id\":\"19167\",\"type\":\"Range1d\"},{\"attributes\":{},\"id\":\"19238\",\"type\":\"Selection\"},{\"attributes\":{\"fill_alpha\":{\"value\":0.5},\"fill_color\":{\"value\":\"yellow\"},\"hatch_alpha\":{\"value\":0.1},\"hatch_color\":{\"value\":\"yellow\"},\"line_alpha\":{\"value\":0.5},\"line_color\":{\"value\":\"yellow\"},\"size\":{\"field\":\"size\"},\"x\":{\"field\":\"Lon\"},\"y\":{\"field\":\"Lat\"}},\"id\":\"19241\",\"type\":\"Scatter\"},{\"attributes\":{},\"id\":\"19212\",\"type\":\"AllLabels\"},{\"attributes\":{\"axis\":{\"id\":\"19183\"},\"coordinates\":null,\"grid_line_color\":null,\"group\":null,\"ticker\":null},\"id\":\"19186\",\"type\":\"Grid\"},{\"attributes\":{},\"id\":\"19181\",\"type\":\"LinearScale\"},{\"attributes\":{},\"id\":\"19179\",\"type\":\"LinearScale\"},{\"attributes\":{\"zoom_on_axis\":false},\"id\":\"19193\",\"type\":\"WheelZoomTool\"},{\"attributes\":{\"axis_label\":\"Longitude\",\"coordinates\":null,\"formatter\":{\"id\":\"19207\"},\"group\":null,\"major_label_policy\":{\"id\":\"19212\"},\"ticker\":{\"id\":\"19206\"}},\"id\":\"19183\",\"type\":\"LinearAxis\"},{\"attributes\":{\"axis\":{\"id\":\"19187\"},\"coordinates\":null,\"dimension\":1,\"grid_line_color\":null,\"group\":null,\"ticker\":null},\"id\":\"19190\",\"type\":\"Grid\"},{\"attributes\":{},\"id\":\"19195\",\"type\":\"ResetTool\"},{\"attributes\":{\"below\":[{\"id\":\"19183\"}],\"center\":[{\"id\":\"19186\"},{\"id\":\"19190\"}],\"frame_height\":500,\"frame_width\":700,\"height\":null,\"left\":[{\"id\":\"19187\"}],\"margin\":[5,5,5,5],\"match_aspect\":true,\"min_border_bottom\":10,\"min_border_left\":10,\"min_border_right\":10,\"min_border_top\":10,\"renderers\":[{\"id\":\"19235\"},{\"id\":\"19243\"}],\"sizing_mode\":\"fixed\",\"title\":{\"id\":\"19175\"},\"toolbar\":{\"id\":\"19197\"},\"width\":null,\"x_range\":{\"id\":\"19167\"},\"x_scale\":{\"id\":\"19179\"},\"y_range\":{\"id\":\"19168\"},\"y_scale\":{\"id\":\"19181\"}},\"id\":\"19174\",\"subtype\":\"Figure\",\"type\":\"Plot\"},{\"attributes\":{\"axis_label\":\"Latitude\",\"coordinates\":null,\"formatter\":{\"id\":\"19209\"},\"group\":null,\"major_label_policy\":{\"id\":\"19219\"},\"ticker\":{\"id\":\"19208\"}},\"id\":\"19187\",\"type\":\"LinearAxis\"},{\"attributes\":{\"source\":{\"id\":\"19237\"}},\"id\":\"19244\",\"type\":\"CDSView\"},{\"attributes\":{\"end\":6836332.273531625,\"min_interval\":5,\"reset_end\":6836332.273531625,\"reset_start\":2180069.8816820583,\"start\":2180069.8816820583,\"tags\":[[[\"Lat\",\"Lat\",null]]]},\"id\":\"19168\",\"type\":\"Range1d\"}],\"root_ids\":[\"19161\"]},\"title\":\"Bokeh Application\",\"version\":\"2.4.2\"}};\n",
       "    var render_items = [{\"docid\":\"a64c5b7d-eb2f-4275-81a2-fcdb4b56a420\",\"root_ids\":[\"19161\"],\"roots\":{\"19161\":\"ae94ac40-17c1-42b9-8a02-75cc969891bc\"}}];\n",
       "    root.Bokeh.embed.embed_items_notebook(docs_json, render_items);\n",
       "  }\n",
       "  if (root.Bokeh !== undefined && root.Bokeh.Panel !== undefined) {\n",
       "    embed_document(root);\n",
       "  } else {\n",
       "    var attempts = 0;\n",
       "    var timer = setInterval(function(root) {\n",
       "      if (root.Bokeh !== undefined && root.Bokeh.Panel !== undefined) {\n",
       "        clearInterval(timer);\n",
       "        embed_document(root);\n",
       "      } else if (document.readyState == \"complete\") {\n",
       "        attempts++;\n",
       "        if (attempts > 200) {\n",
       "          clearInterval(timer);\n",
       "          console.log(\"Bokeh: ERROR: Unable to run BokehJS code because BokehJS library is missing\");\n",
       "        }\n",
       "      }\n",
       "    }, 25, root)\n",
       "  }\n",
       "})(window);</script>"
      ],
      "text/plain": [
       ":Overlay\n",
       "   .Tiles.I  :Tiles   [x,y]\n",
       "   .Points.I :Points   [Lon,Lat]   (Yellow Tran)"
      ]
     },
     "execution_count": 312,
     "metadata": {
      "application/vnd.holoviews_exec.v0+json": {
       "id": "19161"
      }
     },
     "output_type": "execute_result"
    }
   ],
   "source": [
    "# Create a points plot for total yellow cab rides using geoviews\n",
    "yellow.hvplot.points(\n",
    "    'Lon',\n",
    "    'Lat',\n",
    "    geo=True,\n",
    "    size='Yellow Tran',\n",
    "    tiles='OSM',\n",
    "    color='yellow',\n",
    "    alpha=0.5,\n",
    "    frame_width = 700,\n",
    "    frame_height = 500,\n",
    "    title='Total Yellow Cab Rides 2016-2018',\n",
    "    xlabel='Longitude',\n",
    "    ylabel='Latitude'\n",
    ")"
   ]
  },
  {
   "cell_type": "markdown",
   "metadata": {},
   "source": [
    "> <b> `Yellow` cabs outrun Pink cabs by a huge amount especially in east coast cities such as, New York, Boston, Chicago, and DC </b>\n",
    "\n",
    "> <b> `Pink` cabs has more advantage on the west coast cities such as Los Angeles, San Diego, Silicon Valley while `Yellow` cabs dominate the east coast </b>\n",
    "\n",
    "> <b> We can't directly see how many Yellow or Pink cabs are running in each city, but it is obvious that there are way more `Yellow` cabs than Pink cabs in most of the cities </b>\n",
    "\n",
    "> <b> There are high demands for cabs in Boston, Chicago, Los Angeles, New York, and DC; and moderate demands for San Diego, Seattle, Silicon Valley, and Atlanta than some of the midwest cities </b>"
   ]
  },
  {
   "cell_type": "markdown",
   "metadata": {
    "tags": []
   },
   "source": [
    "### Hypotheses: Users"
   ]
  },
  {
   "cell_type": "markdown",
   "metadata": {},
   "source": [
    "> Does age group in each gender and each company matter?\n",
    "\n",
    "> Does gender matter for each company?\n",
    "\n",
    "> Are there differences between Age group in each city?\n",
    "\n",
    "> Is travel distance influenced by Age?\n",
    "\n",
    "> Relationship of age and income\n",
    "\n",
    "> Dominate income group in genders by company"
   ]
  },
  {
   "cell_type": "code",
   "execution_count": 313,
   "metadata": {},
   "outputs": [
    {
     "data": {},
     "metadata": {},
     "output_type": "display_data"
    },
    {
     "data": {
      "application/vnd.holoviews_exec.v0+json": "",
      "text/html": [
       "<div id='19334'>\n",
       "\n",
       "\n",
       "\n",
       "\n",
       "\n",
       "  <div class=\"bk-root\" id=\"5107807d-0d2f-4a0f-8c27-bf526aaa7c27\" data-root-id=\"19334\"></div>\n",
       "</div>\n",
       "<script type=\"application/javascript\">(function(root) {\n",
       "  function embed_document(root) {\n",
       "    var docs_json = {\"7af88322-d61c-408f-b622-18ba74a5cb58\":{\"defs\":[{\"extends\":null,\"module\":null,\"name\":\"ReactiveHTML1\",\"overrides\":[],\"properties\":[]},{\"extends\":null,\"module\":null,\"name\":\"FlexBox1\",\"overrides\":[],\"properties\":[{\"default\":\"flex-start\",\"kind\":null,\"name\":\"align_content\"},{\"default\":\"flex-start\",\"kind\":null,\"name\":\"align_items\"},{\"default\":\"row\",\"kind\":null,\"name\":\"flex_direction\"},{\"default\":\"wrap\",\"kind\":null,\"name\":\"flex_wrap\"},{\"default\":\"flex-start\",\"kind\":null,\"name\":\"justify_content\"}]},{\"extends\":null,\"module\":null,\"name\":\"GridStack1\",\"overrides\":[],\"properties\":[{\"default\":\"warn\",\"kind\":null,\"name\":\"mode\"},{\"default\":null,\"kind\":null,\"name\":\"ncols\"},{\"default\":null,\"kind\":null,\"name\":\"nrows\"},{\"default\":true,\"kind\":null,\"name\":\"allow_resize\"},{\"default\":true,\"kind\":null,\"name\":\"allow_drag\"},{\"default\":[],\"kind\":null,\"name\":\"state\"}]},{\"extends\":null,\"module\":null,\"name\":\"click1\",\"overrides\":[],\"properties\":[{\"default\":\"\",\"kind\":null,\"name\":\"terminal_output\"},{\"default\":\"\",\"kind\":null,\"name\":\"debug_name\"},{\"default\":0,\"kind\":null,\"name\":\"clears\"}]},{\"extends\":null,\"module\":null,\"name\":\"TemplateActions1\",\"overrides\":[],\"properties\":[{\"default\":0,\"kind\":null,\"name\":\"open_modal\"},{\"default\":0,\"kind\":null,\"name\":\"close_modal\"}]},{\"extends\":null,\"module\":null,\"name\":\"MaterialTemplateActions1\",\"overrides\":[],\"properties\":[{\"default\":0,\"kind\":null,\"name\":\"open_modal\"},{\"default\":0,\"kind\":null,\"name\":\"close_modal\"}]}],\"roots\":{\"references\":[{\"attributes\":{},\"id\":\"19408\",\"type\":\"CategoricalTickFormatter\"},{\"attributes\":{},\"id\":\"19354\",\"type\":\"SaveTool\"},{\"attributes\":{},\"id\":\"19355\",\"type\":\"PanTool\"},{\"attributes\":{},\"id\":\"19356\",\"type\":\"WheelZoomTool\"},{\"attributes\":{\"overlay\":{\"id\":\"19359\"}},\"id\":\"19357\",\"type\":\"BoxZoomTool\"},{\"attributes\":{\"line_alpha\":{\"value\":1.0},\"line_cap\":{\"value\":\"butt\"},\"line_color\":{\"value\":\"black\"},\"line_dash\":{\"value\":[]},\"line_dash_offset\":{\"value\":0},\"line_join\":{\"value\":\"bevel\"},\"line_width\":{\"value\":1},\"x0\":{\"field\":\"x\"},\"x1\":{\"field\":\"x\"},\"y0\":{\"field\":\"y0\"},\"y1\":{\"field\":\"y1\"}},\"id\":\"19390\",\"type\":\"Segment\"},{\"attributes\":{},\"id\":\"19412\",\"type\":\"AllLabels\"},{\"attributes\":{},\"id\":\"19358\",\"type\":\"ResetTool\"},{\"attributes\":{},\"id\":\"19426\",\"type\":\"UnionRenderers\"},{\"attributes\":{},\"id\":\"19425\",\"type\":\"Selection\"},{\"attributes\":{\"bottom_units\":\"screen\",\"coordinates\":null,\"fill_alpha\":0.5,\"fill_color\":\"lightgrey\",\"group\":null,\"left_units\":\"screen\",\"level\":\"overlay\",\"line_alpha\":1.0,\"line_color\":\"black\",\"line_dash\":[4,4],\"line_width\":2,\"right_units\":\"screen\",\"syncable\":false,\"top_units\":\"screen\"},\"id\":\"19359\",\"type\":\"BoxAnnotation\"},{\"attributes\":{\"tools\":[{\"id\":\"19354\"},{\"id\":\"19355\"},{\"id\":\"19356\"},{\"id\":\"19357\"},{\"id\":\"19358\"}]},\"id\":\"19360\",\"type\":\"Toolbar\"},{\"attributes\":{\"margin\":[5,5,5,5],\"name\":\"HSpacer62140\",\"sizing_mode\":\"stretch_width\"},\"id\":\"19335\",\"type\":\"Spacer\"},{\"attributes\":{},\"id\":\"19345\",\"type\":\"LinearScale\"},{\"attributes\":{\"end\":69.7,\"reset_end\":69.7,\"reset_start\":13.3,\"start\":13.3,\"tags\":[[[\"Age\",\"Age\",null]]]},\"id\":\"19337\",\"type\":\"Range1d\"},{\"attributes\":{},\"id\":\"19428\",\"type\":\"UnionRenderers\"},{\"attributes\":{\"bottom\":{\"field\":\"bottom\"},\"fill_alpha\":{\"value\":1.0},\"fill_color\":{\"value\":\"black\"},\"hatch_alpha\":{\"value\":1.0},\"hatch_color\":{\"value\":\"black\"},\"hatch_scale\":{\"value\":12.0},\"hatch_weight\":{\"value\":1.0},\"line_alpha\":{\"value\":1.0},\"line_cap\":{\"value\":\"butt\"},\"line_color\":{\"value\":\"black\"},\"line_dash\":{\"value\":[]},\"line_dash_offset\":{\"value\":0},\"line_join\":{\"value\":\"bevel\"},\"line_width\":{\"value\":1},\"top\":{\"field\":\"top\"},\"width\":{\"value\":0.1},\"x\":{\"field\":\"x\"}},\"id\":\"19398\",\"type\":\"VBar\"},{\"attributes\":{\"below\":[{\"id\":\"19347\"}],\"center\":[{\"id\":\"19349\"},{\"id\":\"19353\"}],\"height\":500,\"left\":[{\"id\":\"19350\"}],\"margin\":[5,5,5,5],\"min_border_bottom\":10,\"min_border_left\":10,\"min_border_right\":10,\"min_border_top\":10,\"renderers\":[{\"id\":\"19372\"},{\"id\":\"19380\"},{\"id\":\"19388\"},{\"id\":\"19396\"},{\"id\":\"19404\"}],\"sizing_mode\":\"fixed\",\"title\":{\"id\":\"19339\"},\"toolbar\":{\"id\":\"19360\"},\"x_range\":{\"id\":\"19336\"},\"x_scale\":{\"id\":\"19343\"},\"y_range\":{\"id\":\"19337\"},\"y_scale\":{\"id\":\"19345\"}},\"id\":\"19338\",\"subtype\":\"Figure\",\"type\":\"Plot\"},{\"attributes\":{\"source\":{\"id\":\"19367\"}},\"id\":\"19373\",\"type\":\"CDSView\"},{\"attributes\":{},\"id\":\"19423\",\"type\":\"Selection\"},{\"attributes\":{\"x0\":{\"field\":\"x\"},\"x1\":{\"field\":\"x\"},\"y0\":{\"field\":\"y0\"},\"y1\":{\"field\":\"y1\"}},\"id\":\"19385\",\"type\":\"Segment\"},{\"attributes\":{\"line_alpha\":{\"value\":0.2},\"xs\":{\"field\":\"xs\"},\"ys\":{\"field\":\"ys\"}},\"id\":\"19379\",\"type\":\"MultiLine\"},{\"attributes\":{\"coordinates\":null,\"data_source\":{\"id\":\"19399\"},\"glyph\":{\"id\":\"19401\"},\"group\":null,\"hover_glyph\":null,\"muted_glyph\":{\"id\":\"19403\"},\"nonselection_glyph\":{\"id\":\"19402\"},\"selection_glyph\":{\"id\":\"19406\"},\"view\":{\"id\":\"19405\"}},\"id\":\"19404\",\"type\":\"GlyphRenderer\"},{\"attributes\":{},\"id\":\"19429\",\"type\":\"Selection\"},{\"attributes\":{\"factors\":[[\"Pink Cab\",\"Female\"],[\"Pink Cab\",\"Male\"],[\"Yellow Cab\",\"Female\"],[\"Yellow Cab\",\"Male\"]],\"tags\":[[[\"Company\",\"Company\",null],[\"Gender\",\"Gender\",null]]]},\"id\":\"19336\",\"type\":\"FactorRange\"},{\"attributes\":{\"fill_alpha\":{\"value\":0.1},\"fill_color\":{\"value\":\"white\"},\"hatch_alpha\":{\"value\":0.1},\"hatch_color\":{\"value\":\"white\"},\"line_alpha\":{\"value\":0.1},\"line_color\":{\"value\":\"white\"},\"x\":{\"field\":\"x\"},\"y\":{\"field\":\"y\"}},\"id\":\"19402\",\"type\":\"Scatter\"},{\"attributes\":{},\"id\":\"19411\",\"type\":\"BasicTickFormatter\"},{\"attributes\":{\"line_alpha\":{\"value\":0.1},\"xs\":{\"field\":\"xs\"},\"ys\":{\"field\":\"ys\"}},\"id\":\"19378\",\"type\":\"MultiLine\"},{\"attributes\":{\"source\":{\"id\":\"19391\"}},\"id\":\"19397\",\"type\":\"CDSView\"},{\"attributes\":{\"data\":{\"xs\":[[[\"Pink Cab\",\"Male\",-3.995690334005253e-07],[\"Pink Cab\",\"Male\",-3.0880679638925606e-06],[\"Pink Cab\",\"Male\",-1.998637699110997e-05],[\"Pink Cab\",\"Male\",-0.00010844716229183153],[\"Pink Cab\",\"Male\",-0.0004940701940733679],[\"Pink Cab\",\"Male\",-0.001893721396795729],[\"Pink Cab\",\"Male\",-0.006123053353959953],[\"Pink Cab\",\"Male\",-0.01676140540890178],[\"Pink Cab\",\"Male\",-0.03903392402603979],[\"Pink Cab\",\"Male\",-0.07783440496810305],[\"Pink Cab\",\"Male\",-0.1340416039743938],[\"Pink Cab\",\"Male\",-0.201644793651045],[\"Pink Cab\",\"Male\",-0.2689271691632504],[\"Pink Cab\",\"Male\",-0.3239578075254457],[\"Pink Cab\",\"Male\",-0.36047592579773036],[\"Pink Cab\",\"Male\",-0.37976470278598623],[\"Pink Cab\",\"Male\",-0.38785557726214626],[\"Pink Cab\",\"Male\",-0.39104438261305763],[\"Pink Cab\",\"Male\",-0.3930110108415671],[\"Pink Cab\",\"Male\",-0.3947084702434087],[\"Pink Cab\",\"Male\",-0.39598721423876526],[\"Pink Cab\",\"Male\",-0.39701169869804676],[\"Pink Cab\",\"Male\",-0.39826298720128145],[\"Pink Cab\",\"Male\",-0.3996228373466688],[\"Pink Cab\",\"Male\",-0.4],[\"Pink Cab\",\"Male\",-0.3981518991543114],[\"Pink Cab\",\"Male\",-0.39384974033297926],[\"Pink Cab\",\"Male\",-0.3881628001746882],[\"Pink Cab\",\"Male\",-0.3826774363023877],[\"Pink Cab\",\"Male\",-0.3785606608222717],[\"Pink Cab\",\"Male\",-0.3763195714801619],[\"Pink Cab\",\"Male\",-0.376143810031054],[\"Pink Cab\",\"Male\",-0.37811275140635564],[\"Pink Cab\",\"Male\",-0.3819626378576009],[\"Pink Cab\",\"Male\",-0.3868001611398035],[\"Pink Cab\",\"Male\",-0.3911795216907186],[\"Pink Cab\",\"Male\",-0.3935481506540215],[\"Pink Cab\",\"Male\",-0.3929040364453835],[\"Pink Cab\",\"Male\",-0.38945962512482013],[\"Pink Cab\",\"Male\",-0.3848191081973433],[\"Pink Cab\",\"Male\",-0.3812091779576195],[\"Pink Cab\",\"Male\",-0.38011291887564164],[\"Pink Cab\",\"Male\",-0.38127255111337],[\"Pink Cab\",\"Male\",-0.38249135935930534],[\"Pink Cab\",\"Male\",-0.3798855441951989],[\"Pink Cab\",\"Male\",-0.3685699622292593],[\"Pink Cab\",\"Male\",-0.3444771465699183],[\"Pink Cab\",\"Male\",-0.3071876931098217],[\"Pink Cab\",\"Male\",-0.26164691043933846],[\"Pink Cab\",\"Male\",-0.21648344769682662],[\"Pink Cab\",\"Male\",-0.17961935037999271],[\"Pink Cab\",\"Male\",-0.15468707538834267],[\"Pink Cab\",\"Male\",-0.1407887983914435],[\"Pink Cab\",\"Male\",-0.13470539633555628],[\"Pink Cab\",\"Male\",-0.1330486974757417],[\"Pink Cab\",\"Male\",-0.1331619104847169],[\"Pink Cab\",\"Male\",-0.13325983368552613],[\"Pink Cab\",\"Male\",-0.13249335107825208],[\"Pink Cab\",\"Male\",-0.13095762388135976],[\"Pink Cab\",\"Male\",-0.12937067526202414],[\"Pink Cab\",\"Male\",-0.1284509333178215],[\"Pink Cab\",\"Male\",-0.12839834608541645],[\"Pink Cab\",\"Male\",-0.12885673543927342],[\"Pink Cab\",\"Male\",-0.12931037353728667],[\"Pink Cab\",\"Male\",-0.12950637613165847],[\"Pink Cab\",\"Male\",-0.12956182074405523],[\"Pink Cab\",\"Male\",-0.12974696206814804],[\"Pink Cab\",\"Male\",-0.1301756920379144],[\"Pink Cab\",\"Male\",-0.1306709715303453],[\"Pink Cab\",\"Male\",-0.13093027213831607],[\"Pink Cab\",\"Male\",-0.13084565692781458],[\"Pink Cab\",\"Male\",-0.13066294352413593],[\"Pink Cab\",\"Male\",-0.13081572364262503],[\"Pink Cab\",\"Male\",-0.13158976831761227],[\"Pink Cab\",\"Male\",-0.132903943570637],[\"Pink Cab\",\"Male\",-0.13435287885411096],[\"Pink Cab\",\"Male\",-0.1354545791231769],[\"Pink Cab\",\"Male\",-0.13593115258879454],[\"Pink Cab\",\"Male\",-0.13582804938011853],[\"Pink Cab\",\"Male\",-0.13537837264656563],[\"Pink Cab\",\"Male\",-0.1347349431227568],[\"Pink Cab\",\"Male\",-0.13380504425020875],[\"Pink Cab\",\"Male\",-0.13224367181970445],[\"Pink Cab\",\"Male\",-0.12941854228687985],[\"Pink Cab\",\"Male\",-0.12426269294779363],[\"Pink Cab\",\"Male\",-0.11531756608858926],[\"Pink Cab\",\"Male\",-0.10136745611203246],[\"Pink Cab\",\"Male\",-0.08252309874978087],[\"Pink Cab\",\"Male\",-0.06088703059873271],[\"Pink Cab\",\"Male\",-0.039957090215033575],[\"Pink Cab\",\"Male\",-0.022970198847057696],[\"Pink Cab\",\"Male\",-0.01143063327304422],[\"Pink Cab\",\"Male\",-0.004879353697183517],[\"Pink Cab\",\"Male\",-0.0017744284682677733],[\"Pink Cab\",\"Male\",-0.0005469143651050846],[\"Pink Cab\",\"Male\",-0.00014232061099961267],[\"Pink Cab\",\"Male\",-3.1178108037083266e-05],[\"Pink Cab\",\"Male\",-5.737566850142367e-06],[\"Pink Cab\",\"Male\",-8.855256836106586e-07],[\"Pink Cab\",\"Male\",-1.1448439193670442e-07],[\"Pink Cab\",\"Male\",1.1448439193670442e-07],[\"Pink Cab\",\"Male\",8.855256836106586e-07],[\"Pink Cab\",\"Male\",5.737566850142367e-06],[\"Pink Cab\",\"Male\",3.1178108037083266e-05],[\"Pink Cab\",\"Male\",0.00014232061099961267],[\"Pink Cab\",\"Male\",0.0005469143651050846],[\"Pink Cab\",\"Male\",0.0017744284682677733],[\"Pink Cab\",\"Male\",0.004879353697183517],[\"Pink Cab\",\"Male\",0.01143063327304422],[\"Pink Cab\",\"Male\",0.022970198847057696],[\"Pink Cab\",\"Male\",0.039957090215033575],[\"Pink Cab\",\"Male\",0.06088703059873271],[\"Pink Cab\",\"Male\",0.08252309874978087],[\"Pink Cab\",\"Male\",0.10136745611203246],[\"Pink Cab\",\"Male\",0.11531756608858926],[\"Pink Cab\",\"Male\",0.12426269294779363],[\"Pink Cab\",\"Male\",0.12941854228687985],[\"Pink Cab\",\"Male\",0.13224367181970445],[\"Pink Cab\",\"Male\",0.13380504425020875],[\"Pink Cab\",\"Male\",0.1347349431227568],[\"Pink Cab\",\"Male\",0.13537837264656563],[\"Pink Cab\",\"Male\",0.13582804938011853],[\"Pink Cab\",\"Male\",0.13593115258879454],[\"Pink Cab\",\"Male\",0.1354545791231769],[\"Pink Cab\",\"Male\",0.13435287885411096],[\"Pink Cab\",\"Male\",0.132903943570637],[\"Pink Cab\",\"Male\",0.13158976831761227],[\"Pink Cab\",\"Male\",0.13081572364262503],[\"Pink Cab\",\"Male\",0.13066294352413593],[\"Pink Cab\",\"Male\",0.13084565692781458],[\"Pink Cab\",\"Male\",0.13093027213831607],[\"Pink Cab\",\"Male\",0.1306709715303453],[\"Pink Cab\",\"Male\",0.1301756920379144],[\"Pink Cab\",\"Male\",0.12974696206814804],[\"Pink Cab\",\"Male\",0.12956182074405523],[\"Pink Cab\",\"Male\",0.12950637613165847],[\"Pink Cab\",\"Male\",0.12931037353728667],[\"Pink Cab\",\"Male\",0.12885673543927342],[\"Pink Cab\",\"Male\",0.12839834608541645],[\"Pink Cab\",\"Male\",0.1284509333178215],[\"Pink Cab\",\"Male\",0.12937067526202414],[\"Pink Cab\",\"Male\",0.13095762388135976],[\"Pink Cab\",\"Male\",0.13249335107825208],[\"Pink Cab\",\"Male\",0.13325983368552613],[\"Pink Cab\",\"Male\",0.1331619104847169],[\"Pink Cab\",\"Male\",0.1330486974757417],[\"Pink Cab\",\"Male\",0.13470539633555628],[\"Pink Cab\",\"Male\",0.1407887983914435],[\"Pink Cab\",\"Male\",0.15468707538834267],[\"Pink Cab\",\"Male\",0.17961935037999271],[\"Pink Cab\",\"Male\",0.21648344769682662],[\"Pink Cab\",\"Male\",0.26164691043933846],[\"Pink Cab\",\"Male\",0.3071876931098217],[\"Pink Cab\",\"Male\",0.3444771465699183],[\"Pink Cab\",\"Male\",0.3685699622292593],[\"Pink Cab\",\"Male\",0.3798855441951989],[\"Pink Cab\",\"Male\",0.38249135935930534],[\"Pink Cab\",\"Male\",0.38127255111337],[\"Pink Cab\",\"Male\",0.38011291887564164],[\"Pink Cab\",\"Male\",0.3812091779576195],[\"Pink Cab\",\"Male\",0.3848191081973433],[\"Pink Cab\",\"Male\",0.38945962512482013],[\"Pink Cab\",\"Male\",0.3929040364453835],[\"Pink Cab\",\"Male\",0.3935481506540215],[\"Pink Cab\",\"Male\",0.3911795216907186],[\"Pink Cab\",\"Male\",0.3868001611398035],[\"Pink Cab\",\"Male\",0.3819626378576009],[\"Pink Cab\",\"Male\",0.37811275140635564],[\"Pink Cab\",\"Male\",0.376143810031054],[\"Pink Cab\",\"Male\",0.3763195714801619],[\"Pink Cab\",\"Male\",0.3785606608222717],[\"Pink Cab\",\"Male\",0.3826774363023877],[\"Pink Cab\",\"Male\",0.3881628001746882],[\"Pink Cab\",\"Male\",0.39384974033297926],[\"Pink Cab\",\"Male\",0.3981518991543114],[\"Pink Cab\",\"Male\",0.4],[\"Pink Cab\",\"Male\",0.3996228373466688],[\"Pink Cab\",\"Male\",0.39826298720128145],[\"Pink Cab\",\"Male\",0.39701169869804676],[\"Pink Cab\",\"Male\",0.39598721423876526],[\"Pink Cab\",\"Male\",0.3947084702434087],[\"Pink Cab\",\"Male\",0.3930110108415671],[\"Pink Cab\",\"Male\",0.39104438261305763],[\"Pink Cab\",\"Male\",0.38785557726214626],[\"Pink Cab\",\"Male\",0.37976470278598623],[\"Pink Cab\",\"Male\",0.36047592579773036],[\"Pink Cab\",\"Male\",0.3239578075254457],[\"Pink Cab\",\"Male\",0.2689271691632504],[\"Pink Cab\",\"Male\",0.201644793651045],[\"Pink Cab\",\"Male\",0.1340416039743938],[\"Pink Cab\",\"Male\",0.07783440496810305],[\"Pink Cab\",\"Male\",0.03903392402603979],[\"Pink Cab\",\"Male\",0.01676140540890178],[\"Pink Cab\",\"Male\",0.006123053353959953],[\"Pink Cab\",\"Male\",0.001893721396795729],[\"Pink Cab\",\"Male\",0.0004940701940733679],[\"Pink Cab\",\"Male\",0.00010844716229183153],[\"Pink Cab\",\"Male\",1.998637699110997e-05],[\"Pink Cab\",\"Male\",3.0880679638925606e-06],[\"Pink Cab\",\"Male\",3.995690334005253e-07]],[[\"Yellow Cab\",\"Male\",-4.660996354103744e-07],[\"Yellow Cab\",\"Male\",-5.400585563949257e-06],[\"Yellow Cab\",\"Male\",-4.8131336075998225e-05],[\"Yellow Cab\",\"Male\",-0.00033053786197390143],[\"Yellow Cab\",\"Male\",-0.001754012161913594],[\"Yellow Cab\",\"Male\",-0.007223214598835206],[\"Yellow Cab\",\"Male\",-0.02323639981377616],[\"Yellow Cab\",\"Male\",-0.05897179474706796],[\"Yellow Cab\",\"Male\",-0.11980807262697651],[\"Yellow Cab\",\"Male\",-0.19893598406357915],[\"Yellow Cab\",\"Male\",-0.27768823824329253],[\"Yellow Cab\",\"Male\",-0.3376169627183112],[\"Yellow Cab\",\"Male\",-0.3721522880298022],[\"Yellow Cab\",\"Male\",-0.38665651307937393],[\"Yellow Cab\",\"Male\",-0.3905583485148523],[\"Yellow Cab\",\"Male\",-0.3911679758720639],[\"Yellow Cab\",\"Male\",-0.39204517009340534],[\"Yellow Cab\",\"Male\",-0.3934153012092571],[\"Yellow Cab\",\"Male\",-0.39383033937386863],[\"Yellow Cab\",\"Male\",-0.39317934950493694],[\"Yellow Cab\",\"Male\",-0.39364470735602514],[\"Yellow Cab\",\"Male\",-0.3965139904194666],[\"Yellow Cab\",\"Male\",-0.3997137889690072],[\"Yellow Cab\",\"Male\",-0.4],[\"Yellow Cab\",\"Male\",-0.395971453422043],[\"Yellow Cab\",\"Male\",-0.3881209913273932],[\"Yellow Cab\",\"Male\",-0.37785684314528],[\"Yellow Cab\",\"Male\",-0.3674423777471524],[\"Yellow Cab\",\"Male\",-0.35960413804396973],[\"Yellow Cab\",\"Male\",-0.35614520730687826],[\"Yellow Cab\",\"Male\",-0.35717175861523837],[\"Yellow Cab\",\"Male\",-0.36183398252652216],[\"Yellow Cab\",\"Male\",-0.36914658340298345],[\"Yellow Cab\",\"Male\",-0.3778660090142962],[\"Yellow Cab\",\"Male\",-0.3864262780839659],[\"Yellow Cab\",\"Male\",-0.3932619591034759],[\"Yellow Cab\",\"Male\",-0.39671682439208883],[\"Yellow Cab\",\"Male\",-0.395365034836121],[\"Yellow Cab\",\"Male\",-0.38952331828927633],[\"Yellow Cab\",\"Male\",-0.3818232085896096],[\"Yellow Cab\",\"Male\",-0.3754694134412257],[\"Yellow Cab\",\"Male\",-0.3724169822907891],[\"Yellow Cab\",\"Male\",-0.37308902497109],[\"Yellow Cab\",\"Male\",-0.3762471044487251],[\"Yellow Cab\",\"Male\",-0.37797598459381776],[\"Yellow Cab\",\"Male\",-0.37120466385133766],[\"Yellow Cab\",\"Male\",-0.3482039722160599],[\"Yellow Cab\",\"Male\",-0.30655709754990923],[\"Yellow Cab\",\"Male\",-0.2539236976070958],[\"Yellow Cab\",\"Male\",-0.2046144998093809],[\"Yellow Cab\",\"Male\",-0.1693707218833167],[\"Yellow Cab\",\"Male\",-0.14931359740665087],[\"Yellow Cab\",\"Male\",-0.13946109262309156],[\"Yellow Cab\",\"Male\",-0.1350255148134336],[\"Yellow Cab\",\"Male\",-0.1335280123777356],[\"Yellow Cab\",\"Male\",-0.13360915094915507],[\"Yellow Cab\",\"Male\",-0.13405767025690146],[\"Yellow Cab\",\"Male\",-0.1339230443899656],[\"Yellow Cab\",\"Male\",-0.1328419443268192],[\"Yellow Cab\",\"Male\",-0.13117132548714772],[\"Yellow Cab\",\"Male\",-0.1298360530237727],[\"Yellow Cab\",\"Male\",-0.12961300268991136],[\"Yellow Cab\",\"Male\",-0.1303383999993226],[\"Yellow Cab\",\"Male\",-0.1310987011251242],[\"Yellow Cab\",\"Male\",-0.13114438311209042],[\"Yellow Cab\",\"Male\",-0.1303197136742402],[\"Yellow Cab\",\"Male\",-0.12892721681842387],[\"Yellow Cab\",\"Male\",-0.12757986166464472],[\"Yellow Cab\",\"Male\",-0.12687864489374368],[\"Yellow Cab\",\"Male\",-0.1269178949408754],[\"Yellow Cab\",\"Male\",-0.12729311569352883],[\"Yellow Cab\",\"Male\",-0.12764876342003736],[\"Yellow Cab\",\"Male\",-0.1279595481381371],[\"Yellow Cab\",\"Male\",-0.12827520491629718],[\"Yellow Cab\",\"Male\",-0.12857048090209391],[\"Yellow Cab\",\"Male\",-0.12903270668788655],[\"Yellow Cab\",\"Male\",-0.13013006736731714],[\"Yellow Cab\",\"Male\",-0.1320249681472051],[\"Yellow Cab\",\"Male\",-0.1341309445252948],[\"Yellow Cab\",\"Male\",-0.1355898844772454],[\"Yellow Cab\",\"Male\",-0.13601930296017103],[\"Yellow Cab\",\"Male\",-0.13543597722389175],[\"Yellow Cab\",\"Male\",-0.13368463640121248],[\"Yellow Cab\",\"Male\",-0.13064862958376008],[\"Yellow Cab\",\"Male\",-0.12700128776084715],[\"Yellow Cab\",\"Male\",-0.12378637638939777],[\"Yellow Cab\",\"Male\",-0.12072665258611187],[\"Yellow Cab\",\"Male\",-0.11529608340939951],[\"Yellow Cab\",\"Male\",-0.10393951210819344],[\"Yellow Cab\",\"Male\",-0.08484810690877341],[\"Yellow Cab\",\"Male\",-0.06028846946814462],[\"Yellow Cab\",\"Male\",-0.03603611852480861],[\"Yellow Cab\",\"Male\",-0.017630294763520574],[\"Yellow Cab\",\"Male\",-0.006915611000212745],[\"Yellow Cab\",\"Male\",-0.0021429975058074847],[\"Yellow Cab\",\"Male\",-0.0005192720871860235],[\"Yellow Cab\",\"Male\",-9.771651091273163e-05],[\"Yellow Cab\",\"Male\",-1.4215831480969179e-05],[\"Yellow Cab\",\"Male\",-1.5941329385485239e-06],[\"Yellow Cab\",\"Male\",-1.3752908353373187e-07],[\"Yellow Cab\",\"Male\",1.3752908353373187e-07],[\"Yellow Cab\",\"Male\",1.5941329385485239e-06],[\"Yellow Cab\",\"Male\",1.4215831480969179e-05],[\"Yellow Cab\",\"Male\",9.771651091273163e-05],[\"Yellow Cab\",\"Male\",0.0005192720871860235],[\"Yellow Cab\",\"Male\",0.0021429975058074847],[\"Yellow Cab\",\"Male\",0.006915611000212745],[\"Yellow Cab\",\"Male\",0.017630294763520574],[\"Yellow Cab\",\"Male\",0.03603611852480861],[\"Yellow Cab\",\"Male\",0.06028846946814462],[\"Yellow Cab\",\"Male\",0.08484810690877341],[\"Yellow Cab\",\"Male\",0.10393951210819344],[\"Yellow Cab\",\"Male\",0.11529608340939951],[\"Yellow Cab\",\"Male\",0.12072665258611187],[\"Yellow Cab\",\"Male\",0.12378637638939777],[\"Yellow Cab\",\"Male\",0.12700128776084715],[\"Yellow Cab\",\"Male\",0.13064862958376008],[\"Yellow Cab\",\"Male\",0.13368463640121248],[\"Yellow Cab\",\"Male\",0.13543597722389175],[\"Yellow Cab\",\"Male\",0.13601930296017103],[\"Yellow Cab\",\"Male\",0.1355898844772454],[\"Yellow Cab\",\"Male\",0.1341309445252948],[\"Yellow Cab\",\"Male\",0.1320249681472051],[\"Yellow Cab\",\"Male\",0.13013006736731714],[\"Yellow Cab\",\"Male\",0.12903270668788655],[\"Yellow Cab\",\"Male\",0.12857048090209391],[\"Yellow Cab\",\"Male\",0.12827520491629718],[\"Yellow Cab\",\"Male\",0.1279595481381371],[\"Yellow Cab\",\"Male\",0.12764876342003736],[\"Yellow Cab\",\"Male\",0.12729311569352883],[\"Yellow Cab\",\"Male\",0.1269178949408754],[\"Yellow Cab\",\"Male\",0.12687864489374368],[\"Yellow Cab\",\"Male\",0.12757986166464472],[\"Yellow Cab\",\"Male\",0.12892721681842387],[\"Yellow Cab\",\"Male\",0.1303197136742402],[\"Yellow Cab\",\"Male\",0.13114438311209042],[\"Yellow Cab\",\"Male\",0.1310987011251242],[\"Yellow Cab\",\"Male\",0.1303383999993226],[\"Yellow Cab\",\"Male\",0.12961300268991136],[\"Yellow Cab\",\"Male\",0.1298360530237727],[\"Yellow Cab\",\"Male\",0.13117132548714772],[\"Yellow Cab\",\"Male\",0.1328419443268192],[\"Yellow Cab\",\"Male\",0.1339230443899656],[\"Yellow Cab\",\"Male\",0.13405767025690146],[\"Yellow Cab\",\"Male\",0.13360915094915507],[\"Yellow Cab\",\"Male\",0.1335280123777356],[\"Yellow Cab\",\"Male\",0.1350255148134336],[\"Yellow Cab\",\"Male\",0.13946109262309156],[\"Yellow Cab\",\"Male\",0.14931359740665087],[\"Yellow Cab\",\"Male\",0.1693707218833167],[\"Yellow Cab\",\"Male\",0.2046144998093809],[\"Yellow Cab\",\"Male\",0.2539236976070958],[\"Yellow Cab\",\"Male\",0.30655709754990923],[\"Yellow Cab\",\"Male\",0.3482039722160599],[\"Yellow Cab\",\"Male\",0.37120466385133766],[\"Yellow Cab\",\"Male\",0.37797598459381776],[\"Yellow Cab\",\"Male\",0.3762471044487251],[\"Yellow Cab\",\"Male\",0.37308902497109],[\"Yellow Cab\",\"Male\",0.3724169822907891],[\"Yellow Cab\",\"Male\",0.3754694134412257],[\"Yellow Cab\",\"Male\",0.3818232085896096],[\"Yellow Cab\",\"Male\",0.38952331828927633],[\"Yellow Cab\",\"Male\",0.395365034836121],[\"Yellow Cab\",\"Male\",0.39671682439208883],[\"Yellow Cab\",\"Male\",0.3932619591034759],[\"Yellow Cab\",\"Male\",0.3864262780839659],[\"Yellow Cab\",\"Male\",0.3778660090142962],[\"Yellow Cab\",\"Male\",0.36914658340298345],[\"Yellow Cab\",\"Male\",0.36183398252652216],[\"Yellow Cab\",\"Male\",0.35717175861523837],[\"Yellow Cab\",\"Male\",0.35614520730687826],[\"Yellow Cab\",\"Male\",0.35960413804396973],[\"Yellow Cab\",\"Male\",0.3674423777471524],[\"Yellow Cab\",\"Male\",0.37785684314528],[\"Yellow Cab\",\"Male\",0.3881209913273932],[\"Yellow Cab\",\"Male\",0.395971453422043],[\"Yellow Cab\",\"Male\",0.4],[\"Yellow Cab\",\"Male\",0.3997137889690072],[\"Yellow Cab\",\"Male\",0.3965139904194666],[\"Yellow Cab\",\"Male\",0.39364470735602514],[\"Yellow Cab\",\"Male\",0.39317934950493694],[\"Yellow Cab\",\"Male\",0.39383033937386863],[\"Yellow Cab\",\"Male\",0.3934153012092571],[\"Yellow Cab\",\"Male\",0.39204517009340534],[\"Yellow Cab\",\"Male\",0.3911679758720639],[\"Yellow Cab\",\"Male\",0.3905583485148523],[\"Yellow Cab\",\"Male\",0.38665651307937393],[\"Yellow Cab\",\"Male\",0.3721522880298022],[\"Yellow Cab\",\"Male\",0.3376169627183112],[\"Yellow Cab\",\"Male\",0.27768823824329253],[\"Yellow Cab\",\"Male\",0.19893598406357915],[\"Yellow Cab\",\"Male\",0.11980807262697651],[\"Yellow Cab\",\"Male\",0.05897179474706796],[\"Yellow Cab\",\"Male\",0.02323639981377616],[\"Yellow Cab\",\"Male\",0.007223214598835206],[\"Yellow Cab\",\"Male\",0.001754012161913594],[\"Yellow Cab\",\"Male\",0.00033053786197390143],[\"Yellow Cab\",\"Male\",4.8131336075998225e-05],[\"Yellow Cab\",\"Male\",5.400585563949257e-06],[\"Yellow Cab\",\"Male\",4.660996354103744e-07]],[[\"Yellow Cab\",\"Female\",-4.421190409231193e-07],[\"Yellow Cab\",\"Female\",-4.554114612185167e-06],[\"Yellow Cab\",\"Female\",-3.703069947131278e-05],[\"Yellow Cab\",\"Female\",-0.00023802977251934822],[\"Yellow Cab\",\"Female\",-0.0012121173177283302],[\"Yellow Cab\",\"Female\",-0.004905843127755659],[\"Yellow Cab\",\"Female\",-0.01585918347822343],[\"Yellow Cab\",\"Female\",-0.04125702552062443],[\"Yellow Cab\",\"Female\",-0.08735028157359162],[\"Yellow Cab\",\"Female\",-0.1530381530095406],[\"Yellow Cab\",\"Female\",-0.2271123525072003],[\"Yellow Cab\",\"Female\",-0.2941907640419676],[\"Yellow Cab\",\"Female\",-0.34406319401802077],[\"Yellow Cab\",\"Female\",-0.3751443364994971],[\"Yellow Cab\",\"Female\",-0.3913550154024099],[\"Yellow Cab\",\"Female\",-0.398122789139153],[\"Yellow Cab\",\"Female\",-0.4],[\"Yellow Cab\",\"Female\",-0.39950267031797876],[\"Yellow Cab\",\"Female\",-0.39737398255348966],[\"Yellow Cab\",\"Female\",-0.39371474720471494],[\"Yellow Cab\",\"Female\",-0.38877551498582896],[\"Yellow Cab\",\"Female\",-0.38349468499944317],[\"Yellow Cab\",\"Female\",-0.37977786910838995],[\"Yellow Cab\",\"Female\",-0.3794780711404828],[\"Yellow Cab\",\"Female\",-0.38247767270023436],[\"Yellow Cab\",\"Female\",-0.38624681406182654],[\"Yellow Cab\",\"Female\",-0.3879317559794664],[\"Yellow Cab\",\"Female\",-0.38688643560494435],[\"Yellow Cab\",\"Female\",-0.3849324783841556],[\"Yellow Cab\",\"Female\",-0.38430627385542077],[\"Yellow Cab\",\"Female\",-0.38569947764509815],[\"Yellow Cab\",\"Female\",-0.3881339993033545],[\"Yellow Cab\",\"Female\",-0.3899966411119521],[\"Yellow Cab\",\"Female\",-0.3897599770681155],[\"Yellow Cab\",\"Female\",-0.386267517190569],[\"Yellow Cab\",\"Female\",-0.3792945418060675],[\"Yellow Cab\",\"Female\",-0.370214550730266],[\"Yellow Cab\",\"Female\",-0.36180843088023734],[\"Yellow Cab\",\"Female\",-0.3568496625212874],[\"Yellow Cab\",\"Female\",-0.3563351823567533],[\"Yellow Cab\",\"Female\",-0.35886094302410465],[\"Yellow Cab\",\"Female\",-0.3618686057715099],[\"Yellow Cab\",\"Female\",-0.3636214397025861],[\"Yellow Cab\",\"Female\",-0.36368630250611417],[\"Yellow Cab\",\"Female\",-0.36103465799041756],[\"Yellow Cab\",\"Female\",-0.3517403323006058],[\"Yellow Cab\",\"Female\",-0.32976292827527653],[\"Yellow Cab\",\"Female\",-0.29193079567535773],[\"Yellow Cab\",\"Female\",-0.24295685261553054],[\"Yellow Cab\",\"Female\",-0.1943498990190694],[\"Yellow Cab\",\"Female\",-0.15710481810095525],[\"Yellow Cab\",\"Female\",-0.13538334164972265],[\"Yellow Cab\",\"Female\",-0.12663865099786092],[\"Yellow Cab\",\"Female\",-0.12580869940346306],[\"Yellow Cab\",\"Female\",-0.12847672957333556],[\"Yellow Cab\",\"Female\",-0.13166516840467854],[\"Yellow Cab\",\"Female\",-0.1338664392817603],[\"Yellow Cab\",\"Female\",-0.13499176526927242],[\"Yellow Cab\",\"Female\",-0.13572670669421347],[\"Yellow Cab\",\"Female\",-0.13661998485258625],[\"Yellow Cab\",\"Female\",-0.1378007114417757],[\"Yellow Cab\",\"Female\",-0.13916775421997052],[\"Yellow Cab\",\"Female\",-0.14035252138072232],[\"Yellow Cab\",\"Female\",-0.14061247926827333],[\"Yellow Cab\",\"Female\",-0.13920972535416792],[\"Yellow Cab\",\"Female\",-0.13602178101489598],[\"Yellow Cab\",\"Female\",-0.13165598847238577],[\"Yellow Cab\",\"Female\",-0.1270244963461433],[\"Yellow Cab\",\"Female\",-0.1228985907647042],[\"Yellow Cab\",\"Female\",-0.11962735750582053],[\"Yellow Cab\",\"Female\",-0.11706062352627827],[\"Yellow Cab\",\"Female\",-0.11490957021763004],[\"Yellow Cab\",\"Female\",-0.1132739056784746],[\"Yellow Cab\",\"Female\",-0.11266432593090114],[\"Yellow Cab\",\"Female\",-0.11358806079481804],[\"Yellow Cab\",\"Female\",-0.116204273540225],[\"Yellow Cab\",\"Female\",-0.12007075376064254],[\"Yellow Cab\",\"Female\",-0.12411309162288467],[\"Yellow Cab\",\"Female\",-0.1272482076129483],[\"Yellow Cab\",\"Female\",-0.1291753125562462],[\"Yellow Cab\",\"Female\",-0.13025017246598314],[\"Yellow Cab\",\"Female\",-0.13063155657941308],[\"Yellow Cab\",\"Female\",-0.13003523883248508],[\"Yellow Cab\",\"Female\",-0.12844655699923474],[\"Yellow Cab\",\"Female\",-0.12652550191529863],[\"Yellow Cab\",\"Female\",-0.12470072931236904],[\"Yellow Cab\",\"Female\",-0.12175374836084481],[\"Yellow Cab\",\"Female\",-0.11461928813811738],[\"Yellow Cab\",\"Female\",-0.10022704876355658],[\"Yellow Cab\",\"Female\",-0.07836287766208418],[\"Yellow Cab\",\"Female\",-0.052992007863515815],[\"Yellow Cab\",\"Female\",-0.030184110654624466],[\"Yellow Cab\",\"Female\",-0.014194363954778445],[\"Yellow Cab\",\"Female\",-0.005431022677719806],[\"Yellow Cab\",\"Female\",-0.001673282905092197],[\"Yellow Cab\",\"Female\",-0.0004121307664812774],[\"Yellow Cab\",\"Female\",-8.074441530378706e-05],[\"Yellow Cab\",\"Female\",-1.2540722330902676e-05],[\"Yellow Cab\",\"Female\",-1.5404981373046195e-06],[\"Yellow Cab\",\"Female\",-1.494340792908751e-07],[\"Yellow Cab\",\"Female\",1.494340792908751e-07],[\"Yellow Cab\",\"Female\",1.5404981373046195e-06],[\"Yellow Cab\",\"Female\",1.2540722330902676e-05],[\"Yellow Cab\",\"Female\",8.074441530378706e-05],[\"Yellow Cab\",\"Female\",0.0004121307664812774],[\"Yellow Cab\",\"Female\",0.001673282905092197],[\"Yellow Cab\",\"Female\",0.005431022677719806],[\"Yellow Cab\",\"Female\",0.014194363954778445],[\"Yellow Cab\",\"Female\",0.030184110654624466],[\"Yellow Cab\",\"Female\",0.052992007863515815],[\"Yellow Cab\",\"Female\",0.07836287766208418],[\"Yellow Cab\",\"Female\",0.10022704876355658],[\"Yellow Cab\",\"Female\",0.11461928813811738],[\"Yellow Cab\",\"Female\",0.12175374836084481],[\"Yellow Cab\",\"Female\",0.12470072931236904],[\"Yellow Cab\",\"Female\",0.12652550191529863],[\"Yellow Cab\",\"Female\",0.12844655699923474],[\"Yellow Cab\",\"Female\",0.13003523883248508],[\"Yellow Cab\",\"Female\",0.13063155657941308],[\"Yellow Cab\",\"Female\",0.13025017246598314],[\"Yellow Cab\",\"Female\",0.1291753125562462],[\"Yellow Cab\",\"Female\",0.1272482076129483],[\"Yellow Cab\",\"Female\",0.12411309162288467],[\"Yellow Cab\",\"Female\",0.12007075376064254],[\"Yellow Cab\",\"Female\",0.116204273540225],[\"Yellow Cab\",\"Female\",0.11358806079481804],[\"Yellow Cab\",\"Female\",0.11266432593090114],[\"Yellow Cab\",\"Female\",0.1132739056784746],[\"Yellow Cab\",\"Female\",0.11490957021763004],[\"Yellow Cab\",\"Female\",0.11706062352627827],[\"Yellow Cab\",\"Female\",0.11962735750582053],[\"Yellow Cab\",\"Female\",0.1228985907647042],[\"Yellow Cab\",\"Female\",0.1270244963461433],[\"Yellow Cab\",\"Female\",0.13165598847238577],[\"Yellow Cab\",\"Female\",0.13602178101489598],[\"Yellow Cab\",\"Female\",0.13920972535416792],[\"Yellow Cab\",\"Female\",0.14061247926827333],[\"Yellow Cab\",\"Female\",0.14035252138072232],[\"Yellow Cab\",\"Female\",0.13916775421997052],[\"Yellow Cab\",\"Female\",0.1378007114417757],[\"Yellow Cab\",\"Female\",0.13661998485258625],[\"Yellow Cab\",\"Female\",0.13572670669421347],[\"Yellow Cab\",\"Female\",0.13499176526927242],[\"Yellow Cab\",\"Female\",0.1338664392817603],[\"Yellow Cab\",\"Female\",0.13166516840467854],[\"Yellow Cab\",\"Female\",0.12847672957333556],[\"Yellow Cab\",\"Female\",0.12580869940346306],[\"Yellow Cab\",\"Female\",0.12663865099786092],[\"Yellow Cab\",\"Female\",0.13538334164972265],[\"Yellow Cab\",\"Female\",0.15710481810095525],[\"Yellow Cab\",\"Female\",0.1943498990190694],[\"Yellow Cab\",\"Female\",0.24295685261553054],[\"Yellow Cab\",\"Female\",0.29193079567535773],[\"Yellow Cab\",\"Female\",0.32976292827527653],[\"Yellow Cab\",\"Female\",0.3517403323006058],[\"Yellow Cab\",\"Female\",0.36103465799041756],[\"Yellow Cab\",\"Female\",0.36368630250611417],[\"Yellow Cab\",\"Female\",0.3636214397025861],[\"Yellow Cab\",\"Female\",0.3618686057715099],[\"Yellow Cab\",\"Female\",0.35886094302410465],[\"Yellow Cab\",\"Female\",0.3563351823567533],[\"Yellow Cab\",\"Female\",0.3568496625212874],[\"Yellow Cab\",\"Female\",0.36180843088023734],[\"Yellow Cab\",\"Female\",0.370214550730266],[\"Yellow Cab\",\"Female\",0.3792945418060675],[\"Yellow Cab\",\"Female\",0.386267517190569],[\"Yellow Cab\",\"Female\",0.3897599770681155],[\"Yellow Cab\",\"Female\",0.3899966411119521],[\"Yellow Cab\",\"Female\",0.3881339993033545],[\"Yellow Cab\",\"Female\",0.38569947764509815],[\"Yellow Cab\",\"Female\",0.38430627385542077],[\"Yellow Cab\",\"Female\",0.3849324783841556],[\"Yellow Cab\",\"Female\",0.38688643560494435],[\"Yellow Cab\",\"Female\",0.3879317559794664],[\"Yellow Cab\",\"Female\",0.38624681406182654],[\"Yellow Cab\",\"Female\",0.38247767270023436],[\"Yellow Cab\",\"Female\",0.3794780711404828],[\"Yellow Cab\",\"Female\",0.37977786910838995],[\"Yellow Cab\",\"Female\",0.38349468499944317],[\"Yellow Cab\",\"Female\",0.38877551498582896],[\"Yellow Cab\",\"Female\",0.39371474720471494],[\"Yellow Cab\",\"Female\",0.39737398255348966],[\"Yellow Cab\",\"Female\",0.39950267031797876],[\"Yellow Cab\",\"Female\",0.4],[\"Yellow Cab\",\"Female\",0.398122789139153],[\"Yellow Cab\",\"Female\",0.3913550154024099],[\"Yellow Cab\",\"Female\",0.3751443364994971],[\"Yellow Cab\",\"Female\",0.34406319401802077],[\"Yellow Cab\",\"Female\",0.2941907640419676],[\"Yellow Cab\",\"Female\",0.2271123525072003],[\"Yellow Cab\",\"Female\",0.1530381530095406],[\"Yellow Cab\",\"Female\",0.08735028157359162],[\"Yellow Cab\",\"Female\",0.04125702552062443],[\"Yellow Cab\",\"Female\",0.01585918347822343],[\"Yellow Cab\",\"Female\",0.004905843127755659],[\"Yellow Cab\",\"Female\",0.0012121173177283302],[\"Yellow Cab\",\"Female\",0.00023802977251934822],[\"Yellow Cab\",\"Female\",3.703069947131278e-05],[\"Yellow Cab\",\"Female\",4.554114612185167e-06],[\"Yellow Cab\",\"Female\",4.421190409231193e-07]],[[\"Pink Cab\",\"Female\",-3.799229798697745e-07],[\"Pink Cab\",\"Female\",-2.7198848352569438e-06],[\"Pink Cab\",\"Female\",-1.6529358225858252e-05],[\"Pink Cab\",\"Female\",-8.53537337600751e-05],[\"Pink Cab\",\"Female\",-0.0003749699528494291],[\"Pink Cab\",\"Female\",-0.0014038085317224],[\"Pink Cab\",\"Female\",-0.004488860444042452],[\"Pink Cab\",\"Female\",-0.012296999510515577],[\"Pink Cab\",\"Female\",-0.02897834218874189],[\"Pink Cab\",\"Female\",-0.05906770644617368],[\"Pink Cab\",\"Female\",-0.1049122012953194],[\"Pink Cab\",\"Female\",-0.16395280751523222],[\"Pink Cab\",\"Female\",-0.22827798729609441],[\"Pink Cab\",\"Female\",-0.28761921833753035],[\"Pink Cab\",\"Female\",-0.3340047227689846],[\"Pink Cab\",\"Female\",-0.3647687527707064],[\"Pink Cab\",\"Female\",-0.38221449591527107],[\"Pink Cab\",\"Female\",-0.3909823425456289],[\"Pink Cab\",\"Female\",-0.3953407708723671],[\"Pink Cab\",\"Female\",-0.3978349675118443],[\"Pink Cab\",\"Female\",-0.3993729858294353],[\"Pink Cab\",\"Female\",-0.4],[\"Pink Cab\",\"Female\",-0.39957222475263265],[\"Pink Cab\",\"Female\",-0.39801662553766626],[\"Pink Cab\",\"Female\",-0.3953368188209092],[\"Pink Cab\",\"Female\",-0.39164021206600347],[\"Pink Cab\",\"Female\",-0.38725504159749174],[\"Pink Cab\",\"Female\",-0.38278072202688096],[\"Pink Cab\",\"Female\",-0.37893086348643595],[\"Pink Cab\",\"Female\",-0.37625605727013256],[\"Pink Cab\",\"Female\",-0.37497167700432077],[\"Pink Cab\",\"Female\",-0.37496188315839285],[\"Pink Cab\",\"Female\",-0.3757995282880495],[\"Pink Cab\",\"Female\",-0.3766868199356411],[\"Pink Cab\",\"Female\",-0.37652827145727796],[\"Pink Cab\",\"Female\",-0.37439139193394533],[\"Pink Cab\",\"Female\",-0.3701808447158435],[\"Pink Cab\",\"Female\",-0.36494729684149524],[\"Pink Cab\",\"Female\",-0.36042990099811495],[\"Pink Cab\",\"Female\",-0.3580527928079471],[\"Pink Cab\",\"Female\",-0.35805638596304196],[\"Pink Cab\",\"Female\",-0.3593460104895112],[\"Pink Cab\",\"Female\",-0.3600384563884761],[\"Pink Cab\",\"Female\",-0.35806297577648283],[\"Pink Cab\",\"Female\",-0.35122852208847416],[\"Pink Cab\",\"Female\",-0.33705983111872584],[\"Pink Cab\",\"Female\",-0.3134198800091484],[\"Pink Cab\",\"Female\",-0.28024379558770796],[\"Pink Cab\",\"Female\",-0.24104361464470403],[\"Pink Cab\",\"Female\",-0.20230527663680845],[\"Pink Cab\",\"Female\",-0.1706023905321238],[\"Pink Cab\",\"Female\",-0.14948809130565105],[\"Pink Cab\",\"Female\",-0.13844893694920757],[\"Pink Cab\",\"Female\",-0.1342766744497407],[\"Pink Cab\",\"Female\",-0.13335950210105324],[\"Pink Cab\",\"Female\",-0.1332581313597274],[\"Pink Cab\",\"Female\",-0.13302486871353952],[\"Pink Cab\",\"Female\",-0.13269122755638119],[\"Pink Cab\",\"Female\",-0.1325791223139527],[\"Pink Cab\",\"Female\",-0.1328383759825435],[\"Pink Cab\",\"Female\",-0.13331052452803735],[\"Pink Cab\",\"Female\",-0.1336512225707891],[\"Pink Cab\",\"Female\",-0.1335660314359796],[\"Pink Cab\",\"Female\",-0.13296441544767304],[\"Pink Cab\",\"Female\",-0.13188969025347605],[\"Pink Cab\",\"Female\",-0.13030750765864044],[\"Pink Cab\",\"Female\",-0.12803221689338798],[\"Pink Cab\",\"Female\",-0.12493965654563376],[\"Pink Cab\",\"Female\",-0.12125943519723957],[\"Pink Cab\",\"Female\",-0.11762492010691816],[\"Pink Cab\",\"Female\",-0.11483372764613176],[\"Pink Cab\",\"Female\",-0.11354315113246699],[\"Pink Cab\",\"Female\",-0.11407669876860825],[\"Pink Cab\",\"Female\",-0.11633072721630566],[\"Pink Cab\",\"Female\",-0.11975190525788533],[\"Pink Cab\",\"Female\",-0.12347442577338448],[\"Pink Cab\",\"Female\",-0.12668052397382118],[\"Pink Cab\",\"Female\",-0.12899617627257684],[\"Pink Cab\",\"Female\",-0.1305702030961211],[\"Pink Cab\",\"Female\",-0.13173220985461173],[\"Pink Cab\",\"Female\",-0.13256190333377696],[\"Pink Cab\",\"Female\",-0.1327497636361335],[\"Pink Cab\",\"Female\",-0.131705631452633],[\"Pink Cab\",\"Female\",-0.12859857174925843],[\"Pink Cab\",\"Female\",-0.12229457173387348],[\"Pink Cab\",\"Female\",-0.11156297713359194],[\"Pink Cab\",\"Female\",-0.09580221671405487],[\"Pink Cab\",\"Female\",-0.07590933432556635],[\"Pink Cab\",\"Female\",-0.054473646235027096],[\"Pink Cab\",\"Female\",-0.03484587077289333],[\"Pink Cab\",\"Female\",-0.019617871982074493],[\"Pink Cab\",\"Female\",-0.009625182405470983],[\"Pink Cab\",\"Female\",-0.004084996050168237],[\"Pink Cab\",\"Female\",-0.0014913908119291589],[\"Pink Cab\",\"Female\",-0.0004664695130147606],[\"Pink Cab\",\"Female\",-0.00012461353304123185],[\"Pink Cab\",\"Female\",-2.8368522006814124e-05],[\"Pink Cab\",\"Female\",-5.4942424254572435e-06],[\"Pink Cab\",\"Female\",-9.041342412589299e-07],[\"Pink Cab\",\"Female\",-1.2629973936106642e-07],[\"Pink Cab\",\"Female\",1.2629973936106642e-07],[\"Pink Cab\",\"Female\",9.041342412589299e-07],[\"Pink Cab\",\"Female\",5.4942424254572435e-06],[\"Pink Cab\",\"Female\",2.8368522006814124e-05],[\"Pink Cab\",\"Female\",0.00012461353304123185],[\"Pink Cab\",\"Female\",0.0004664695130147606],[\"Pink Cab\",\"Female\",0.0014913908119291589],[\"Pink Cab\",\"Female\",0.004084996050168237],[\"Pink Cab\",\"Female\",0.009625182405470983],[\"Pink Cab\",\"Female\",0.019617871982074493],[\"Pink Cab\",\"Female\",0.03484587077289333],[\"Pink Cab\",\"Female\",0.054473646235027096],[\"Pink Cab\",\"Female\",0.07590933432556635],[\"Pink Cab\",\"Female\",0.09580221671405487],[\"Pink Cab\",\"Female\",0.11156297713359194],[\"Pink Cab\",\"Female\",0.12229457173387348],[\"Pink Cab\",\"Female\",0.12859857174925843],[\"Pink Cab\",\"Female\",0.131705631452633],[\"Pink Cab\",\"Female\",0.1327497636361335],[\"Pink Cab\",\"Female\",0.13256190333377696],[\"Pink Cab\",\"Female\",0.13173220985461173],[\"Pink Cab\",\"Female\",0.1305702030961211],[\"Pink Cab\",\"Female\",0.12899617627257684],[\"Pink Cab\",\"Female\",0.12668052397382118],[\"Pink Cab\",\"Female\",0.12347442577338448],[\"Pink Cab\",\"Female\",0.11975190525788533],[\"Pink Cab\",\"Female\",0.11633072721630566],[\"Pink Cab\",\"Female\",0.11407669876860825],[\"Pink Cab\",\"Female\",0.11354315113246699],[\"Pink Cab\",\"Female\",0.11483372764613176],[\"Pink Cab\",\"Female\",0.11762492010691816],[\"Pink Cab\",\"Female\",0.12125943519723957],[\"Pink Cab\",\"Female\",0.12493965654563376],[\"Pink Cab\",\"Female\",0.12803221689338798],[\"Pink Cab\",\"Female\",0.13030750765864044],[\"Pink Cab\",\"Female\",0.13188969025347605],[\"Pink Cab\",\"Female\",0.13296441544767304],[\"Pink Cab\",\"Female\",0.1335660314359796],[\"Pink Cab\",\"Female\",0.1336512225707891],[\"Pink Cab\",\"Female\",0.13331052452803735],[\"Pink Cab\",\"Female\",0.1328383759825435],[\"Pink Cab\",\"Female\",0.1325791223139527],[\"Pink Cab\",\"Female\",0.13269122755638119],[\"Pink Cab\",\"Female\",0.13302486871353952],[\"Pink Cab\",\"Female\",0.1332581313597274],[\"Pink Cab\",\"Female\",0.13335950210105324],[\"Pink Cab\",\"Female\",0.1342766744497407],[\"Pink Cab\",\"Female\",0.13844893694920757],[\"Pink Cab\",\"Female\",0.14948809130565105],[\"Pink Cab\",\"Female\",0.1706023905321238],[\"Pink Cab\",\"Female\",0.20230527663680845],[\"Pink Cab\",\"Female\",0.24104361464470403],[\"Pink Cab\",\"Female\",0.28024379558770796],[\"Pink Cab\",\"Female\",0.3134198800091484],[\"Pink Cab\",\"Female\",0.33705983111872584],[\"Pink Cab\",\"Female\",0.35122852208847416],[\"Pink Cab\",\"Female\",0.35806297577648283],[\"Pink Cab\",\"Female\",0.3600384563884761],[\"Pink Cab\",\"Female\",0.3593460104895112],[\"Pink Cab\",\"Female\",0.35805638596304196],[\"Pink Cab\",\"Female\",0.3580527928079471],[\"Pink Cab\",\"Female\",0.36042990099811495],[\"Pink Cab\",\"Female\",0.36494729684149524],[\"Pink Cab\",\"Female\",0.3701808447158435],[\"Pink Cab\",\"Female\",0.37439139193394533],[\"Pink Cab\",\"Female\",0.37652827145727796],[\"Pink Cab\",\"Female\",0.3766868199356411],[\"Pink Cab\",\"Female\",0.3757995282880495],[\"Pink Cab\",\"Female\",0.37496188315839285],[\"Pink Cab\",\"Female\",0.37497167700432077],[\"Pink Cab\",\"Female\",0.37625605727013256],[\"Pink Cab\",\"Female\",0.37893086348643595],[\"Pink Cab\",\"Female\",0.38278072202688096],[\"Pink Cab\",\"Female\",0.38725504159749174],[\"Pink Cab\",\"Female\",0.39164021206600347],[\"Pink Cab\",\"Female\",0.3953368188209092],[\"Pink Cab\",\"Female\",0.39801662553766626],[\"Pink Cab\",\"Female\",0.39957222475263265],[\"Pink Cab\",\"Female\",0.4],[\"Pink Cab\",\"Female\",0.3993729858294353],[\"Pink Cab\",\"Female\",0.3978349675118443],[\"Pink Cab\",\"Female\",0.3953407708723671],[\"Pink Cab\",\"Female\",0.3909823425456289],[\"Pink Cab\",\"Female\",0.38221449591527107],[\"Pink Cab\",\"Female\",0.3647687527707064],[\"Pink Cab\",\"Female\",0.3340047227689846],[\"Pink Cab\",\"Female\",0.28761921833753035],[\"Pink Cab\",\"Female\",0.22827798729609441],[\"Pink Cab\",\"Female\",0.16395280751523222],[\"Pink Cab\",\"Female\",0.1049122012953194],[\"Pink Cab\",\"Female\",0.05906770644617368],[\"Pink Cab\",\"Female\",0.02897834218874189],[\"Pink Cab\",\"Female\",0.012296999510515577],[\"Pink Cab\",\"Female\",0.004488860444042452],[\"Pink Cab\",\"Female\",0.0014038085317224],[\"Pink Cab\",\"Female\",0.0003749699528494291],[\"Pink Cab\",\"Female\",8.53537337600751e-05],[\"Pink Cab\",\"Female\",1.6529358225858252e-05],[\"Pink Cab\",\"Female\",2.7198848352569438e-06],[\"Pink Cab\",\"Female\",3.799229798697745e-07]]],\"ys\":[{\"__ndarray__\":\"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\",\"dtype\":\"float64\",\"order\":\"little\",\"shape\":[200]},{\"__ndarray__\":\"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\",\"dtype\":\"float64\",\"order\":\"little\",\"shape\":[200]},{\"__ndarray__\":\"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\",\"dtype\":\"float64\",\"order\":\"little\",\"shape\":[200]},{\"__ndarray__\":\"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\",\"dtype\":\"float64\",\"order\":\"little\",\"shape\":[200]}]},\"selected\":{\"id\":\"19423\"},\"selection_policy\":{\"id\":\"19422\"}},\"id\":\"19375\",\"type\":\"ColumnDataSource\"},{\"attributes\":{\"fill_alpha\":{\"value\":0.5},\"fill_color\":{\"field\":\"violin_fill_color\",\"transform\":{\"id\":\"19366\"}},\"hatch_alpha\":{\"value\":0.1},\"line_alpha\":{\"value\":0.1},\"line_color\":{\"value\":\"#1f77b4\"},\"line_width\":{\"value\":0},\"xs\":{\"field\":\"xs\"},\"ys\":{\"field\":\"ys\"}},\"id\":\"19370\",\"type\":\"Patches\"},{\"attributes\":{\"coordinates\":null,\"group\":null,\"text_color\":\"black\",\"text_font_size\":\"12pt\"},\"id\":\"19339\",\"type\":\"Title\"},{\"attributes\":{\"source\":{\"id\":\"19399\"}},\"id\":\"19405\",\"type\":\"CDSView\"},{\"attributes\":{\"coordinates\":null,\"data_source\":{\"id\":\"19391\"},\"glyph\":{\"id\":\"19393\"},\"group\":null,\"hover_glyph\":null,\"muted_glyph\":{\"id\":\"19395\"},\"nonselection_glyph\":{\"id\":\"19394\"},\"selection_glyph\":{\"id\":\"19398\"},\"view\":{\"id\":\"19397\"}},\"id\":\"19396\",\"type\":\"GlyphRenderer\"},{\"attributes\":{\"bottom\":{\"field\":\"bottom\"},\"fill_alpha\":{\"value\":0.2},\"fill_color\":{\"value\":\"black\"},\"hatch_alpha\":{\"value\":0.2},\"line_alpha\":{\"value\":0.2},\"top\":{\"field\":\"top\"},\"width\":{\"value\":0.1},\"x\":{\"field\":\"x\"}},\"id\":\"19395\",\"type\":\"VBar\"},{\"attributes\":{},\"id\":\"19424\",\"type\":\"UnionRenderers\"},{\"attributes\":{\"xs\":{\"field\":\"xs\"},\"ys\":{\"field\":\"ys\"}},\"id\":\"19377\",\"type\":\"MultiLine\"},{\"attributes\":{\"source\":{\"id\":\"19383\"}},\"id\":\"19389\",\"type\":\"CDSView\"},{\"attributes\":{\"fill_color\":{\"value\":\"white\"},\"hatch_color\":{\"value\":\"white\"},\"line_color\":{\"value\":\"white\"},\"x\":{\"field\":\"x\"},\"y\":{\"field\":\"y\"}},\"id\":\"19401\",\"type\":\"Scatter\"},{\"attributes\":{\"children\":[{\"id\":\"19335\"},{\"id\":\"19338\"},{\"id\":\"19449\"}],\"margin\":[0,0,0,0],\"name\":\"Row62136\",\"tags\":[\"embedded\"]},\"id\":\"19334\",\"type\":\"Row\"},{\"attributes\":{\"data\":{\"violin_fill_color\":[\"Pink Cab\",\"Yellow Cab\",\"Yellow Cab\",\"Pink Cab\"],\"xs\":[[[\"Pink Cab\",\"Male\",-3.995690334005253e-07],[\"Pink Cab\",\"Male\",-3.0880679638925606e-06],[\"Pink Cab\",\"Male\",-1.998637699110997e-05],[\"Pink Cab\",\"Male\",-0.00010844716229183153],[\"Pink Cab\",\"Male\",-0.0004940701940733679],[\"Pink Cab\",\"Male\",-0.001893721396795729],[\"Pink Cab\",\"Male\",-0.006123053353959953],[\"Pink Cab\",\"Male\",-0.01676140540890178],[\"Pink Cab\",\"Male\",-0.03903392402603979],[\"Pink Cab\",\"Male\",-0.07783440496810305],[\"Pink Cab\",\"Male\",-0.1340416039743938],[\"Pink Cab\",\"Male\",-0.201644793651045],[\"Pink Cab\",\"Male\",-0.2689271691632504],[\"Pink Cab\",\"Male\",-0.3239578075254457],[\"Pink Cab\",\"Male\",-0.36047592579773036],[\"Pink Cab\",\"Male\",-0.37976470278598623],[\"Pink Cab\",\"Male\",-0.38785557726214626],[\"Pink Cab\",\"Male\",-0.39104438261305763],[\"Pink Cab\",\"Male\",-0.3930110108415671],[\"Pink Cab\",\"Male\",-0.3947084702434087],[\"Pink Cab\",\"Male\",-0.39598721423876526],[\"Pink Cab\",\"Male\",-0.39701169869804676],[\"Pink Cab\",\"Male\",-0.39826298720128145],[\"Pink Cab\",\"Male\",-0.3996228373466688],[\"Pink Cab\",\"Male\",-0.4],[\"Pink Cab\",\"Male\",-0.3981518991543114],[\"Pink Cab\",\"Male\",-0.39384974033297926],[\"Pink Cab\",\"Male\",-0.3881628001746882],[\"Pink Cab\",\"Male\",-0.3826774363023877],[\"Pink Cab\",\"Male\",-0.3785606608222717],[\"Pink Cab\",\"Male\",-0.3763195714801619],[\"Pink Cab\",\"Male\",-0.376143810031054],[\"Pink Cab\",\"Male\",-0.37811275140635564],[\"Pink Cab\",\"Male\",-0.3819626378576009],[\"Pink Cab\",\"Male\",-0.3868001611398035],[\"Pink Cab\",\"Male\",-0.3911795216907186],[\"Pink Cab\",\"Male\",-0.3935481506540215],[\"Pink Cab\",\"Male\",-0.3929040364453835],[\"Pink Cab\",\"Male\",-0.38945962512482013],[\"Pink Cab\",\"Male\",-0.3848191081973433],[\"Pink Cab\",\"Male\",-0.3812091779576195],[\"Pink Cab\",\"Male\",-0.38011291887564164],[\"Pink Cab\",\"Male\",-0.38127255111337],[\"Pink Cab\",\"Male\",-0.38249135935930534],[\"Pink Cab\",\"Male\",-0.3798855441951989],[\"Pink Cab\",\"Male\",-0.3685699622292593],[\"Pink Cab\",\"Male\",-0.3444771465699183],[\"Pink Cab\",\"Male\",-0.3071876931098217],[\"Pink Cab\",\"Male\",-0.26164691043933846],[\"Pink Cab\",\"Male\",-0.21648344769682662],[\"Pink Cab\",\"Male\",-0.17961935037999271],[\"Pink Cab\",\"Male\",-0.15468707538834267],[\"Pink Cab\",\"Male\",-0.1407887983914435],[\"Pink Cab\",\"Male\",-0.13470539633555628],[\"Pink Cab\",\"Male\",-0.1330486974757417],[\"Pink Cab\",\"Male\",-0.1331619104847169],[\"Pink Cab\",\"Male\",-0.13325983368552613],[\"Pink Cab\",\"Male\",-0.13249335107825208],[\"Pink Cab\",\"Male\",-0.13095762388135976],[\"Pink Cab\",\"Male\",-0.12937067526202414],[\"Pink Cab\",\"Male\",-0.1284509333178215],[\"Pink Cab\",\"Male\",-0.12839834608541645],[\"Pink Cab\",\"Male\",-0.12885673543927342],[\"Pink Cab\",\"Male\",-0.12931037353728667],[\"Pink Cab\",\"Male\",-0.12950637613165847],[\"Pink Cab\",\"Male\",-0.12956182074405523],[\"Pink Cab\",\"Male\",-0.12974696206814804],[\"Pink Cab\",\"Male\",-0.1301756920379144],[\"Pink Cab\",\"Male\",-0.1306709715303453],[\"Pink Cab\",\"Male\",-0.13093027213831607],[\"Pink Cab\",\"Male\",-0.13084565692781458],[\"Pink Cab\",\"Male\",-0.13066294352413593],[\"Pink Cab\",\"Male\",-0.13081572364262503],[\"Pink Cab\",\"Male\",-0.13158976831761227],[\"Pink Cab\",\"Male\",-0.132903943570637],[\"Pink Cab\",\"Male\",-0.13435287885411096],[\"Pink Cab\",\"Male\",-0.1354545791231769],[\"Pink Cab\",\"Male\",-0.13593115258879454],[\"Pink Cab\",\"Male\",-0.13582804938011853],[\"Pink Cab\",\"Male\",-0.13537837264656563],[\"Pink Cab\",\"Male\",-0.1347349431227568],[\"Pink Cab\",\"Male\",-0.13380504425020875],[\"Pink Cab\",\"Male\",-0.13224367181970445],[\"Pink Cab\",\"Male\",-0.12941854228687985],[\"Pink Cab\",\"Male\",-0.12426269294779363],[\"Pink Cab\",\"Male\",-0.11531756608858926],[\"Pink Cab\",\"Male\",-0.10136745611203246],[\"Pink Cab\",\"Male\",-0.08252309874978087],[\"Pink Cab\",\"Male\",-0.06088703059873271],[\"Pink Cab\",\"Male\",-0.039957090215033575],[\"Pink Cab\",\"Male\",-0.022970198847057696],[\"Pink Cab\",\"Male\",-0.01143063327304422],[\"Pink Cab\",\"Male\",-0.004879353697183517],[\"Pink Cab\",\"Male\",-0.0017744284682677733],[\"Pink Cab\",\"Male\",-0.0005469143651050846],[\"Pink Cab\",\"Male\",-0.00014232061099961267],[\"Pink Cab\",\"Male\",-3.1178108037083266e-05],[\"Pink Cab\",\"Male\",-5.737566850142367e-06],[\"Pink Cab\",\"Male\",-8.855256836106586e-07],[\"Pink Cab\",\"Male\",-1.1448439193670442e-07],[\"Pink Cab\",\"Male\",1.1448439193670442e-07],[\"Pink Cab\",\"Male\",8.855256836106586e-07],[\"Pink Cab\",\"Male\",5.737566850142367e-06],[\"Pink Cab\",\"Male\",3.1178108037083266e-05],[\"Pink Cab\",\"Male\",0.00014232061099961267],[\"Pink Cab\",\"Male\",0.0005469143651050846],[\"Pink Cab\",\"Male\",0.0017744284682677733],[\"Pink Cab\",\"Male\",0.004879353697183517],[\"Pink Cab\",\"Male\",0.01143063327304422],[\"Pink Cab\",\"Male\",0.022970198847057696],[\"Pink Cab\",\"Male\",0.039957090215033575],[\"Pink Cab\",\"Male\",0.06088703059873271],[\"Pink Cab\",\"Male\",0.08252309874978087],[\"Pink Cab\",\"Male\",0.10136745611203246],[\"Pink Cab\",\"Male\",0.11531756608858926],[\"Pink Cab\",\"Male\",0.12426269294779363],[\"Pink Cab\",\"Male\",0.12941854228687985],[\"Pink Cab\",\"Male\",0.13224367181970445],[\"Pink Cab\",\"Male\",0.13380504425020875],[\"Pink Cab\",\"Male\",0.1347349431227568],[\"Pink Cab\",\"Male\",0.13537837264656563],[\"Pink Cab\",\"Male\",0.13582804938011853],[\"Pink Cab\",\"Male\",0.13593115258879454],[\"Pink Cab\",\"Male\",0.1354545791231769],[\"Pink Cab\",\"Male\",0.13435287885411096],[\"Pink Cab\",\"Male\",0.132903943570637],[\"Pink Cab\",\"Male\",0.13158976831761227],[\"Pink Cab\",\"Male\",0.13081572364262503],[\"Pink Cab\",\"Male\",0.13066294352413593],[\"Pink Cab\",\"Male\",0.13084565692781458],[\"Pink Cab\",\"Male\",0.13093027213831607],[\"Pink Cab\",\"Male\",0.1306709715303453],[\"Pink Cab\",\"Male\",0.1301756920379144],[\"Pink Cab\",\"Male\",0.12974696206814804],[\"Pink Cab\",\"Male\",0.12956182074405523],[\"Pink Cab\",\"Male\",0.12950637613165847],[\"Pink Cab\",\"Male\",0.12931037353728667],[\"Pink Cab\",\"Male\",0.12885673543927342],[\"Pink Cab\",\"Male\",0.12839834608541645],[\"Pink Cab\",\"Male\",0.1284509333178215],[\"Pink Cab\",\"Male\",0.12937067526202414],[\"Pink Cab\",\"Male\",0.13095762388135976],[\"Pink Cab\",\"Male\",0.13249335107825208],[\"Pink Cab\",\"Male\",0.13325983368552613],[\"Pink Cab\",\"Male\",0.1331619104847169],[\"Pink Cab\",\"Male\",0.1330486974757417],[\"Pink Cab\",\"Male\",0.13470539633555628],[\"Pink Cab\",\"Male\",0.1407887983914435],[\"Pink Cab\",\"Male\",0.15468707538834267],[\"Pink Cab\",\"Male\",0.17961935037999271],[\"Pink Cab\",\"Male\",0.21648344769682662],[\"Pink Cab\",\"Male\",0.26164691043933846],[\"Pink Cab\",\"Male\",0.3071876931098217],[\"Pink Cab\",\"Male\",0.3444771465699183],[\"Pink Cab\",\"Male\",0.3685699622292593],[\"Pink Cab\",\"Male\",0.3798855441951989],[\"Pink Cab\",\"Male\",0.38249135935930534],[\"Pink Cab\",\"Male\",0.38127255111337],[\"Pink Cab\",\"Male\",0.38011291887564164],[\"Pink Cab\",\"Male\",0.3812091779576195],[\"Pink Cab\",\"Male\",0.3848191081973433],[\"Pink Cab\",\"Male\",0.38945962512482013],[\"Pink Cab\",\"Male\",0.3929040364453835],[\"Pink Cab\",\"Male\",0.3935481506540215],[\"Pink Cab\",\"Male\",0.3911795216907186],[\"Pink Cab\",\"Male\",0.3868001611398035],[\"Pink Cab\",\"Male\",0.3819626378576009],[\"Pink Cab\",\"Male\",0.37811275140635564],[\"Pink Cab\",\"Male\",0.376143810031054],[\"Pink Cab\",\"Male\",0.3763195714801619],[\"Pink Cab\",\"Male\",0.3785606608222717],[\"Pink Cab\",\"Male\",0.3826774363023877],[\"Pink Cab\",\"Male\",0.3881628001746882],[\"Pink Cab\",\"Male\",0.39384974033297926],[\"Pink Cab\",\"Male\",0.3981518991543114],[\"Pink Cab\",\"Male\",0.4],[\"Pink Cab\",\"Male\",0.3996228373466688],[\"Pink Cab\",\"Male\",0.39826298720128145],[\"Pink Cab\",\"Male\",0.39701169869804676],[\"Pink Cab\",\"Male\",0.39598721423876526],[\"Pink Cab\",\"Male\",0.3947084702434087],[\"Pink Cab\",\"Male\",0.3930110108415671],[\"Pink Cab\",\"Male\",0.39104438261305763],[\"Pink Cab\",\"Male\",0.38785557726214626],[\"Pink Cab\",\"Male\",0.37976470278598623],[\"Pink Cab\",\"Male\",0.36047592579773036],[\"Pink Cab\",\"Male\",0.3239578075254457],[\"Pink Cab\",\"Male\",0.2689271691632504],[\"Pink Cab\",\"Male\",0.201644793651045],[\"Pink Cab\",\"Male\",0.1340416039743938],[\"Pink Cab\",\"Male\",0.07783440496810305],[\"Pink Cab\",\"Male\",0.03903392402603979],[\"Pink Cab\",\"Male\",0.01676140540890178],[\"Pink Cab\",\"Male\",0.006123053353959953],[\"Pink Cab\",\"Male\",0.001893721396795729],[\"Pink Cab\",\"Male\",0.0004940701940733679],[\"Pink Cab\",\"Male\",0.00010844716229183153],[\"Pink Cab\",\"Male\",1.998637699110997e-05],[\"Pink Cab\",\"Male\",3.0880679638925606e-06],[\"Pink Cab\",\"Male\",3.995690334005253e-07]],[[\"Yellow Cab\",\"Male\",-4.660996354103744e-07],[\"Yellow Cab\",\"Male\",-5.400585563949257e-06],[\"Yellow Cab\",\"Male\",-4.8131336075998225e-05],[\"Yellow Cab\",\"Male\",-0.00033053786197390143],[\"Yellow Cab\",\"Male\",-0.001754012161913594],[\"Yellow Cab\",\"Male\",-0.007223214598835206],[\"Yellow Cab\",\"Male\",-0.02323639981377616],[\"Yellow Cab\",\"Male\",-0.05897179474706796],[\"Yellow Cab\",\"Male\",-0.11980807262697651],[\"Yellow Cab\",\"Male\",-0.19893598406357915],[\"Yellow Cab\",\"Male\",-0.27768823824329253],[\"Yellow Cab\",\"Male\",-0.3376169627183112],[\"Yellow Cab\",\"Male\",-0.3721522880298022],[\"Yellow Cab\",\"Male\",-0.38665651307937393],[\"Yellow Cab\",\"Male\",-0.3905583485148523],[\"Yellow Cab\",\"Male\",-0.3911679758720639],[\"Yellow Cab\",\"Male\",-0.39204517009340534],[\"Yellow Cab\",\"Male\",-0.3934153012092571],[\"Yellow Cab\",\"Male\",-0.39383033937386863],[\"Yellow Cab\",\"Male\",-0.39317934950493694],[\"Yellow Cab\",\"Male\",-0.39364470735602514],[\"Yellow Cab\",\"Male\",-0.3965139904194666],[\"Yellow Cab\",\"Male\",-0.3997137889690072],[\"Yellow Cab\",\"Male\",-0.4],[\"Yellow Cab\",\"Male\",-0.395971453422043],[\"Yellow Cab\",\"Male\",-0.3881209913273932],[\"Yellow Cab\",\"Male\",-0.37785684314528],[\"Yellow Cab\",\"Male\",-0.3674423777471524],[\"Yellow Cab\",\"Male\",-0.35960413804396973],[\"Yellow Cab\",\"Male\",-0.35614520730687826],[\"Yellow Cab\",\"Male\",-0.35717175861523837],[\"Yellow Cab\",\"Male\",-0.36183398252652216],[\"Yellow Cab\",\"Male\",-0.36914658340298345],[\"Yellow Cab\",\"Male\",-0.3778660090142962],[\"Yellow Cab\",\"Male\",-0.3864262780839659],[\"Yellow Cab\",\"Male\",-0.3932619591034759],[\"Yellow Cab\",\"Male\",-0.39671682439208883],[\"Yellow Cab\",\"Male\",-0.395365034836121],[\"Yellow Cab\",\"Male\",-0.38952331828927633],[\"Yellow Cab\",\"Male\",-0.3818232085896096],[\"Yellow Cab\",\"Male\",-0.3754694134412257],[\"Yellow Cab\",\"Male\",-0.3724169822907891],[\"Yellow Cab\",\"Male\",-0.37308902497109],[\"Yellow Cab\",\"Male\",-0.3762471044487251],[\"Yellow Cab\",\"Male\",-0.37797598459381776],[\"Yellow Cab\",\"Male\",-0.37120466385133766],[\"Yellow Cab\",\"Male\",-0.3482039722160599],[\"Yellow Cab\",\"Male\",-0.30655709754990923],[\"Yellow Cab\",\"Male\",-0.2539236976070958],[\"Yellow Cab\",\"Male\",-0.2046144998093809],[\"Yellow Cab\",\"Male\",-0.1693707218833167],[\"Yellow Cab\",\"Male\",-0.14931359740665087],[\"Yellow Cab\",\"Male\",-0.13946109262309156],[\"Yellow Cab\",\"Male\",-0.1350255148134336],[\"Yellow Cab\",\"Male\",-0.1335280123777356],[\"Yellow Cab\",\"Male\",-0.13360915094915507],[\"Yellow Cab\",\"Male\",-0.13405767025690146],[\"Yellow Cab\",\"Male\",-0.1339230443899656],[\"Yellow Cab\",\"Male\",-0.1328419443268192],[\"Yellow Cab\",\"Male\",-0.13117132548714772],[\"Yellow Cab\",\"Male\",-0.1298360530237727],[\"Yellow Cab\",\"Male\",-0.12961300268991136],[\"Yellow Cab\",\"Male\",-0.1303383999993226],[\"Yellow Cab\",\"Male\",-0.1310987011251242],[\"Yellow Cab\",\"Male\",-0.13114438311209042],[\"Yellow Cab\",\"Male\",-0.1303197136742402],[\"Yellow Cab\",\"Male\",-0.12892721681842387],[\"Yellow Cab\",\"Male\",-0.12757986166464472],[\"Yellow Cab\",\"Male\",-0.12687864489374368],[\"Yellow Cab\",\"Male\",-0.1269178949408754],[\"Yellow Cab\",\"Male\",-0.12729311569352883],[\"Yellow Cab\",\"Male\",-0.12764876342003736],[\"Yellow Cab\",\"Male\",-0.1279595481381371],[\"Yellow Cab\",\"Male\",-0.12827520491629718],[\"Yellow Cab\",\"Male\",-0.12857048090209391],[\"Yellow Cab\",\"Male\",-0.12903270668788655],[\"Yellow Cab\",\"Male\",-0.13013006736731714],[\"Yellow Cab\",\"Male\",-0.1320249681472051],[\"Yellow Cab\",\"Male\",-0.1341309445252948],[\"Yellow Cab\",\"Male\",-0.1355898844772454],[\"Yellow Cab\",\"Male\",-0.13601930296017103],[\"Yellow Cab\",\"Male\",-0.13543597722389175],[\"Yellow Cab\",\"Male\",-0.13368463640121248],[\"Yellow Cab\",\"Male\",-0.13064862958376008],[\"Yellow Cab\",\"Male\",-0.12700128776084715],[\"Yellow Cab\",\"Male\",-0.12378637638939777],[\"Yellow Cab\",\"Male\",-0.12072665258611187],[\"Yellow Cab\",\"Male\",-0.11529608340939951],[\"Yellow Cab\",\"Male\",-0.10393951210819344],[\"Yellow Cab\",\"Male\",-0.08484810690877341],[\"Yellow Cab\",\"Male\",-0.06028846946814462],[\"Yellow Cab\",\"Male\",-0.03603611852480861],[\"Yellow Cab\",\"Male\",-0.017630294763520574],[\"Yellow Cab\",\"Male\",-0.006915611000212745],[\"Yellow Cab\",\"Male\",-0.0021429975058074847],[\"Yellow Cab\",\"Male\",-0.0005192720871860235],[\"Yellow Cab\",\"Male\",-9.771651091273163e-05],[\"Yellow Cab\",\"Male\",-1.4215831480969179e-05],[\"Yellow Cab\",\"Male\",-1.5941329385485239e-06],[\"Yellow Cab\",\"Male\",-1.3752908353373187e-07],[\"Yellow Cab\",\"Male\",1.3752908353373187e-07],[\"Yellow Cab\",\"Male\",1.5941329385485239e-06],[\"Yellow Cab\",\"Male\",1.4215831480969179e-05],[\"Yellow Cab\",\"Male\",9.771651091273163e-05],[\"Yellow Cab\",\"Male\",0.0005192720871860235],[\"Yellow Cab\",\"Male\",0.0021429975058074847],[\"Yellow Cab\",\"Male\",0.006915611000212745],[\"Yellow Cab\",\"Male\",0.017630294763520574],[\"Yellow Cab\",\"Male\",0.03603611852480861],[\"Yellow Cab\",\"Male\",0.06028846946814462],[\"Yellow Cab\",\"Male\",0.08484810690877341],[\"Yellow Cab\",\"Male\",0.10393951210819344],[\"Yellow Cab\",\"Male\",0.11529608340939951],[\"Yellow Cab\",\"Male\",0.12072665258611187],[\"Yellow Cab\",\"Male\",0.12378637638939777],[\"Yellow Cab\",\"Male\",0.12700128776084715],[\"Yellow Cab\",\"Male\",0.13064862958376008],[\"Yellow Cab\",\"Male\",0.13368463640121248],[\"Yellow Cab\",\"Male\",0.13543597722389175],[\"Yellow Cab\",\"Male\",0.13601930296017103],[\"Yellow Cab\",\"Male\",0.1355898844772454],[\"Yellow Cab\",\"Male\",0.1341309445252948],[\"Yellow Cab\",\"Male\",0.1320249681472051],[\"Yellow Cab\",\"Male\",0.13013006736731714],[\"Yellow Cab\",\"Male\",0.12903270668788655],[\"Yellow Cab\",\"Male\",0.12857048090209391],[\"Yellow Cab\",\"Male\",0.12827520491629718],[\"Yellow Cab\",\"Male\",0.1279595481381371],[\"Yellow Cab\",\"Male\",0.12764876342003736],[\"Yellow Cab\",\"Male\",0.12729311569352883],[\"Yellow Cab\",\"Male\",0.1269178949408754],[\"Yellow Cab\",\"Male\",0.12687864489374368],[\"Yellow Cab\",\"Male\",0.12757986166464472],[\"Yellow Cab\",\"Male\",0.12892721681842387],[\"Yellow Cab\",\"Male\",0.1303197136742402],[\"Yellow Cab\",\"Male\",0.13114438311209042],[\"Yellow Cab\",\"Male\",0.1310987011251242],[\"Yellow Cab\",\"Male\",0.1303383999993226],[\"Yellow Cab\",\"Male\",0.12961300268991136],[\"Yellow Cab\",\"Male\",0.1298360530237727],[\"Yellow Cab\",\"Male\",0.13117132548714772],[\"Yellow Cab\",\"Male\",0.1328419443268192],[\"Yellow Cab\",\"Male\",0.1339230443899656],[\"Yellow Cab\",\"Male\",0.13405767025690146],[\"Yellow Cab\",\"Male\",0.13360915094915507],[\"Yellow Cab\",\"Male\",0.1335280123777356],[\"Yellow Cab\",\"Male\",0.1350255148134336],[\"Yellow Cab\",\"Male\",0.13946109262309156],[\"Yellow Cab\",\"Male\",0.14931359740665087],[\"Yellow Cab\",\"Male\",0.1693707218833167],[\"Yellow Cab\",\"Male\",0.2046144998093809],[\"Yellow Cab\",\"Male\",0.2539236976070958],[\"Yellow Cab\",\"Male\",0.30655709754990923],[\"Yellow Cab\",\"Male\",0.3482039722160599],[\"Yellow Cab\",\"Male\",0.37120466385133766],[\"Yellow Cab\",\"Male\",0.37797598459381776],[\"Yellow Cab\",\"Male\",0.3762471044487251],[\"Yellow Cab\",\"Male\",0.37308902497109],[\"Yellow Cab\",\"Male\",0.3724169822907891],[\"Yellow Cab\",\"Male\",0.3754694134412257],[\"Yellow Cab\",\"Male\",0.3818232085896096],[\"Yellow Cab\",\"Male\",0.38952331828927633],[\"Yellow Cab\",\"Male\",0.395365034836121],[\"Yellow Cab\",\"Male\",0.39671682439208883],[\"Yellow Cab\",\"Male\",0.3932619591034759],[\"Yellow Cab\",\"Male\",0.3864262780839659],[\"Yellow Cab\",\"Male\",0.3778660090142962],[\"Yellow Cab\",\"Male\",0.36914658340298345],[\"Yellow Cab\",\"Male\",0.36183398252652216],[\"Yellow Cab\",\"Male\",0.35717175861523837],[\"Yellow Cab\",\"Male\",0.35614520730687826],[\"Yellow Cab\",\"Male\",0.35960413804396973],[\"Yellow Cab\",\"Male\",0.3674423777471524],[\"Yellow Cab\",\"Male\",0.37785684314528],[\"Yellow Cab\",\"Male\",0.3881209913273932],[\"Yellow Cab\",\"Male\",0.395971453422043],[\"Yellow Cab\",\"Male\",0.4],[\"Yellow Cab\",\"Male\",0.3997137889690072],[\"Yellow Cab\",\"Male\",0.3965139904194666],[\"Yellow Cab\",\"Male\",0.39364470735602514],[\"Yellow Cab\",\"Male\",0.39317934950493694],[\"Yellow Cab\",\"Male\",0.39383033937386863],[\"Yellow Cab\",\"Male\",0.3934153012092571],[\"Yellow Cab\",\"Male\",0.39204517009340534],[\"Yellow Cab\",\"Male\",0.3911679758720639],[\"Yellow Cab\",\"Male\",0.3905583485148523],[\"Yellow Cab\",\"Male\",0.38665651307937393],[\"Yellow Cab\",\"Male\",0.3721522880298022],[\"Yellow Cab\",\"Male\",0.3376169627183112],[\"Yellow Cab\",\"Male\",0.27768823824329253],[\"Yellow Cab\",\"Male\",0.19893598406357915],[\"Yellow Cab\",\"Male\",0.11980807262697651],[\"Yellow Cab\",\"Male\",0.05897179474706796],[\"Yellow Cab\",\"Male\",0.02323639981377616],[\"Yellow Cab\",\"Male\",0.007223214598835206],[\"Yellow Cab\",\"Male\",0.001754012161913594],[\"Yellow Cab\",\"Male\",0.00033053786197390143],[\"Yellow Cab\",\"Male\",4.8131336075998225e-05],[\"Yellow Cab\",\"Male\",5.400585563949257e-06],[\"Yellow Cab\",\"Male\",4.660996354103744e-07]],[[\"Yellow Cab\",\"Female\",-4.421190409231193e-07],[\"Yellow Cab\",\"Female\",-4.554114612185167e-06],[\"Yellow Cab\",\"Female\",-3.703069947131278e-05],[\"Yellow Cab\",\"Female\",-0.00023802977251934822],[\"Yellow Cab\",\"Female\",-0.0012121173177283302],[\"Yellow Cab\",\"Female\",-0.004905843127755659],[\"Yellow Cab\",\"Female\",-0.01585918347822343],[\"Yellow Cab\",\"Female\",-0.04125702552062443],[\"Yellow Cab\",\"Female\",-0.08735028157359162],[\"Yellow Cab\",\"Female\",-0.1530381530095406],[\"Yellow Cab\",\"Female\",-0.2271123525072003],[\"Yellow Cab\",\"Female\",-0.2941907640419676],[\"Yellow Cab\",\"Female\",-0.34406319401802077],[\"Yellow Cab\",\"Female\",-0.3751443364994971],[\"Yellow Cab\",\"Female\",-0.3913550154024099],[\"Yellow Cab\",\"Female\",-0.398122789139153],[\"Yellow Cab\",\"Female\",-0.4],[\"Yellow Cab\",\"Female\",-0.39950267031797876],[\"Yellow Cab\",\"Female\",-0.39737398255348966],[\"Yellow Cab\",\"Female\",-0.39371474720471494],[\"Yellow Cab\",\"Female\",-0.38877551498582896],[\"Yellow Cab\",\"Female\",-0.38349468499944317],[\"Yellow Cab\",\"Female\",-0.37977786910838995],[\"Yellow Cab\",\"Female\",-0.3794780711404828],[\"Yellow Cab\",\"Female\",-0.38247767270023436],[\"Yellow Cab\",\"Female\",-0.38624681406182654],[\"Yellow Cab\",\"Female\",-0.3879317559794664],[\"Yellow Cab\",\"Female\",-0.38688643560494435],[\"Yellow Cab\",\"Female\",-0.3849324783841556],[\"Yellow Cab\",\"Female\",-0.38430627385542077],[\"Yellow Cab\",\"Female\",-0.38569947764509815],[\"Yellow Cab\",\"Female\",-0.3881339993033545],[\"Yellow Cab\",\"Female\",-0.3899966411119521],[\"Yellow Cab\",\"Female\",-0.3897599770681155],[\"Yellow Cab\",\"Female\",-0.386267517190569],[\"Yellow Cab\",\"Female\",-0.3792945418060675],[\"Yellow Cab\",\"Female\",-0.370214550730266],[\"Yellow Cab\",\"Female\",-0.36180843088023734],[\"Yellow Cab\",\"Female\",-0.3568496625212874],[\"Yellow Cab\",\"Female\",-0.3563351823567533],[\"Yellow Cab\",\"Female\",-0.35886094302410465],[\"Yellow Cab\",\"Female\",-0.3618686057715099],[\"Yellow Cab\",\"Female\",-0.3636214397025861],[\"Yellow Cab\",\"Female\",-0.36368630250611417],[\"Yellow Cab\",\"Female\",-0.36103465799041756],[\"Yellow Cab\",\"Female\",-0.3517403323006058],[\"Yellow Cab\",\"Female\",-0.32976292827527653],[\"Yellow Cab\",\"Female\",-0.29193079567535773],[\"Yellow Cab\",\"Female\",-0.24295685261553054],[\"Yellow Cab\",\"Female\",-0.1943498990190694],[\"Yellow Cab\",\"Female\",-0.15710481810095525],[\"Yellow Cab\",\"Female\",-0.13538334164972265],[\"Yellow Cab\",\"Female\",-0.12663865099786092],[\"Yellow Cab\",\"Female\",-0.12580869940346306],[\"Yellow Cab\",\"Female\",-0.12847672957333556],[\"Yellow Cab\",\"Female\",-0.13166516840467854],[\"Yellow Cab\",\"Female\",-0.1338664392817603],[\"Yellow Cab\",\"Female\",-0.13499176526927242],[\"Yellow Cab\",\"Female\",-0.13572670669421347],[\"Yellow Cab\",\"Female\",-0.13661998485258625],[\"Yellow Cab\",\"Female\",-0.1378007114417757],[\"Yellow Cab\",\"Female\",-0.13916775421997052],[\"Yellow Cab\",\"Female\",-0.14035252138072232],[\"Yellow Cab\",\"Female\",-0.14061247926827333],[\"Yellow Cab\",\"Female\",-0.13920972535416792],[\"Yellow Cab\",\"Female\",-0.13602178101489598],[\"Yellow Cab\",\"Female\",-0.13165598847238577],[\"Yellow Cab\",\"Female\",-0.1270244963461433],[\"Yellow Cab\",\"Female\",-0.1228985907647042],[\"Yellow Cab\",\"Female\",-0.11962735750582053],[\"Yellow Cab\",\"Female\",-0.11706062352627827],[\"Yellow Cab\",\"Female\",-0.11490957021763004],[\"Yellow Cab\",\"Female\",-0.1132739056784746],[\"Yellow Cab\",\"Female\",-0.11266432593090114],[\"Yellow Cab\",\"Female\",-0.11358806079481804],[\"Yellow Cab\",\"Female\",-0.116204273540225],[\"Yellow Cab\",\"Female\",-0.12007075376064254],[\"Yellow Cab\",\"Female\",-0.12411309162288467],[\"Yellow Cab\",\"Female\",-0.1272482076129483],[\"Yellow Cab\",\"Female\",-0.1291753125562462],[\"Yellow Cab\",\"Female\",-0.13025017246598314],[\"Yellow Cab\",\"Female\",-0.13063155657941308],[\"Yellow Cab\",\"Female\",-0.13003523883248508],[\"Yellow Cab\",\"Female\",-0.12844655699923474],[\"Yellow Cab\",\"Female\",-0.12652550191529863],[\"Yellow Cab\",\"Female\",-0.12470072931236904],[\"Yellow Cab\",\"Female\",-0.12175374836084481],[\"Yellow Cab\",\"Female\",-0.11461928813811738],[\"Yellow Cab\",\"Female\",-0.10022704876355658],[\"Yellow Cab\",\"Female\",-0.07836287766208418],[\"Yellow Cab\",\"Female\",-0.052992007863515815],[\"Yellow Cab\",\"Female\",-0.030184110654624466],[\"Yellow Cab\",\"Female\",-0.014194363954778445],[\"Yellow Cab\",\"Female\",-0.005431022677719806],[\"Yellow Cab\",\"Female\",-0.001673282905092197],[\"Yellow Cab\",\"Female\",-0.0004121307664812774],[\"Yellow Cab\",\"Female\",-8.074441530378706e-05],[\"Yellow Cab\",\"Female\",-1.2540722330902676e-05],[\"Yellow Cab\",\"Female\",-1.5404981373046195e-06],[\"Yellow Cab\",\"Female\",-1.494340792908751e-07],[\"Yellow Cab\",\"Female\",1.494340792908751e-07],[\"Yellow Cab\",\"Female\",1.5404981373046195e-06],[\"Yellow Cab\",\"Female\",1.2540722330902676e-05],[\"Yellow Cab\",\"Female\",8.074441530378706e-05],[\"Yellow Cab\",\"Female\",0.0004121307664812774],[\"Yellow Cab\",\"Female\",0.001673282905092197],[\"Yellow Cab\",\"Female\",0.005431022677719806],[\"Yellow Cab\",\"Female\",0.014194363954778445],[\"Yellow Cab\",\"Female\",0.030184110654624466],[\"Yellow Cab\",\"Female\",0.052992007863515815],[\"Yellow Cab\",\"Female\",0.07836287766208418],[\"Yellow Cab\",\"Female\",0.10022704876355658],[\"Yellow Cab\",\"Female\",0.11461928813811738],[\"Yellow Cab\",\"Female\",0.12175374836084481],[\"Yellow Cab\",\"Female\",0.12470072931236904],[\"Yellow Cab\",\"Female\",0.12652550191529863],[\"Yellow Cab\",\"Female\",0.12844655699923474],[\"Yellow Cab\",\"Female\",0.13003523883248508],[\"Yellow Cab\",\"Female\",0.13063155657941308],[\"Yellow Cab\",\"Female\",0.13025017246598314],[\"Yellow Cab\",\"Female\",0.1291753125562462],[\"Yellow Cab\",\"Female\",0.1272482076129483],[\"Yellow Cab\",\"Female\",0.12411309162288467],[\"Yellow Cab\",\"Female\",0.12007075376064254],[\"Yellow Cab\",\"Female\",0.116204273540225],[\"Yellow Cab\",\"Female\",0.11358806079481804],[\"Yellow Cab\",\"Female\",0.11266432593090114],[\"Yellow Cab\",\"Female\",0.1132739056784746],[\"Yellow Cab\",\"Female\",0.11490957021763004],[\"Yellow Cab\",\"Female\",0.11706062352627827],[\"Yellow Cab\",\"Female\",0.11962735750582053],[\"Yellow Cab\",\"Female\",0.1228985907647042],[\"Yellow Cab\",\"Female\",0.1270244963461433],[\"Yellow Cab\",\"Female\",0.13165598847238577],[\"Yellow Cab\",\"Female\",0.13602178101489598],[\"Yellow Cab\",\"Female\",0.13920972535416792],[\"Yellow Cab\",\"Female\",0.14061247926827333],[\"Yellow Cab\",\"Female\",0.14035252138072232],[\"Yellow Cab\",\"Female\",0.13916775421997052],[\"Yellow Cab\",\"Female\",0.1378007114417757],[\"Yellow Cab\",\"Female\",0.13661998485258625],[\"Yellow Cab\",\"Female\",0.13572670669421347],[\"Yellow Cab\",\"Female\",0.13499176526927242],[\"Yellow Cab\",\"Female\",0.1338664392817603],[\"Yellow Cab\",\"Female\",0.13166516840467854],[\"Yellow Cab\",\"Female\",0.12847672957333556],[\"Yellow Cab\",\"Female\",0.12580869940346306],[\"Yellow Cab\",\"Female\",0.12663865099786092],[\"Yellow Cab\",\"Female\",0.13538334164972265],[\"Yellow Cab\",\"Female\",0.15710481810095525],[\"Yellow Cab\",\"Female\",0.1943498990190694],[\"Yellow Cab\",\"Female\",0.24295685261553054],[\"Yellow Cab\",\"Female\",0.29193079567535773],[\"Yellow Cab\",\"Female\",0.32976292827527653],[\"Yellow Cab\",\"Female\",0.3517403323006058],[\"Yellow Cab\",\"Female\",0.36103465799041756],[\"Yellow Cab\",\"Female\",0.36368630250611417],[\"Yellow Cab\",\"Female\",0.3636214397025861],[\"Yellow Cab\",\"Female\",0.3618686057715099],[\"Yellow Cab\",\"Female\",0.35886094302410465],[\"Yellow Cab\",\"Female\",0.3563351823567533],[\"Yellow Cab\",\"Female\",0.3568496625212874],[\"Yellow Cab\",\"Female\",0.36180843088023734],[\"Yellow Cab\",\"Female\",0.370214550730266],[\"Yellow Cab\",\"Female\",0.3792945418060675],[\"Yellow Cab\",\"Female\",0.386267517190569],[\"Yellow Cab\",\"Female\",0.3897599770681155],[\"Yellow Cab\",\"Female\",0.3899966411119521],[\"Yellow Cab\",\"Female\",0.3881339993033545],[\"Yellow Cab\",\"Female\",0.38569947764509815],[\"Yellow Cab\",\"Female\",0.38430627385542077],[\"Yellow Cab\",\"Female\",0.3849324783841556],[\"Yellow Cab\",\"Female\",0.38688643560494435],[\"Yellow Cab\",\"Female\",0.3879317559794664],[\"Yellow Cab\",\"Female\",0.38624681406182654],[\"Yellow Cab\",\"Female\",0.38247767270023436],[\"Yellow Cab\",\"Female\",0.3794780711404828],[\"Yellow Cab\",\"Female\",0.37977786910838995],[\"Yellow Cab\",\"Female\",0.38349468499944317],[\"Yellow Cab\",\"Female\",0.38877551498582896],[\"Yellow Cab\",\"Female\",0.39371474720471494],[\"Yellow Cab\",\"Female\",0.39737398255348966],[\"Yellow Cab\",\"Female\",0.39950267031797876],[\"Yellow Cab\",\"Female\",0.4],[\"Yellow Cab\",\"Female\",0.398122789139153],[\"Yellow Cab\",\"Female\",0.3913550154024099],[\"Yellow Cab\",\"Female\",0.3751443364994971],[\"Yellow Cab\",\"Female\",0.34406319401802077],[\"Yellow Cab\",\"Female\",0.2941907640419676],[\"Yellow Cab\",\"Female\",0.2271123525072003],[\"Yellow Cab\",\"Female\",0.1530381530095406],[\"Yellow Cab\",\"Female\",0.08735028157359162],[\"Yellow Cab\",\"Female\",0.04125702552062443],[\"Yellow Cab\",\"Female\",0.01585918347822343],[\"Yellow Cab\",\"Female\",0.004905843127755659],[\"Yellow Cab\",\"Female\",0.0012121173177283302],[\"Yellow Cab\",\"Female\",0.00023802977251934822],[\"Yellow Cab\",\"Female\",3.703069947131278e-05],[\"Yellow Cab\",\"Female\",4.554114612185167e-06],[\"Yellow Cab\",\"Female\",4.421190409231193e-07]],[[\"Pink Cab\",\"Female\",-3.799229798697745e-07],[\"Pink Cab\",\"Female\",-2.7198848352569438e-06],[\"Pink Cab\",\"Female\",-1.6529358225858252e-05],[\"Pink Cab\",\"Female\",-8.53537337600751e-05],[\"Pink Cab\",\"Female\",-0.0003749699528494291],[\"Pink Cab\",\"Female\",-0.0014038085317224],[\"Pink Cab\",\"Female\",-0.004488860444042452],[\"Pink Cab\",\"Female\",-0.012296999510515577],[\"Pink Cab\",\"Female\",-0.02897834218874189],[\"Pink Cab\",\"Female\",-0.05906770644617368],[\"Pink Cab\",\"Female\",-0.1049122012953194],[\"Pink Cab\",\"Female\",-0.16395280751523222],[\"Pink Cab\",\"Female\",-0.22827798729609441],[\"Pink Cab\",\"Female\",-0.28761921833753035],[\"Pink Cab\",\"Female\",-0.3340047227689846],[\"Pink Cab\",\"Female\",-0.3647687527707064],[\"Pink Cab\",\"Female\",-0.38221449591527107],[\"Pink Cab\",\"Female\",-0.3909823425456289],[\"Pink Cab\",\"Female\",-0.3953407708723671],[\"Pink Cab\",\"Female\",-0.3978349675118443],[\"Pink Cab\",\"Female\",-0.3993729858294353],[\"Pink Cab\",\"Female\",-0.4],[\"Pink Cab\",\"Female\",-0.39957222475263265],[\"Pink Cab\",\"Female\",-0.39801662553766626],[\"Pink Cab\",\"Female\",-0.3953368188209092],[\"Pink Cab\",\"Female\",-0.39164021206600347],[\"Pink Cab\",\"Female\",-0.38725504159749174],[\"Pink Cab\",\"Female\",-0.38278072202688096],[\"Pink Cab\",\"Female\",-0.37893086348643595],[\"Pink Cab\",\"Female\",-0.37625605727013256],[\"Pink Cab\",\"Female\",-0.37497167700432077],[\"Pink Cab\",\"Female\",-0.37496188315839285],[\"Pink Cab\",\"Female\",-0.3757995282880495],[\"Pink Cab\",\"Female\",-0.3766868199356411],[\"Pink Cab\",\"Female\",-0.37652827145727796],[\"Pink Cab\",\"Female\",-0.37439139193394533],[\"Pink Cab\",\"Female\",-0.3701808447158435],[\"Pink Cab\",\"Female\",-0.36494729684149524],[\"Pink Cab\",\"Female\",-0.36042990099811495],[\"Pink Cab\",\"Female\",-0.3580527928079471],[\"Pink Cab\",\"Female\",-0.35805638596304196],[\"Pink Cab\",\"Female\",-0.3593460104895112],[\"Pink Cab\",\"Female\",-0.3600384563884761],[\"Pink Cab\",\"Female\",-0.35806297577648283],[\"Pink Cab\",\"Female\",-0.35122852208847416],[\"Pink Cab\",\"Female\",-0.33705983111872584],[\"Pink Cab\",\"Female\",-0.3134198800091484],[\"Pink Cab\",\"Female\",-0.28024379558770796],[\"Pink Cab\",\"Female\",-0.24104361464470403],[\"Pink Cab\",\"Female\",-0.20230527663680845],[\"Pink Cab\",\"Female\",-0.1706023905321238],[\"Pink Cab\",\"Female\",-0.14948809130565105],[\"Pink Cab\",\"Female\",-0.13844893694920757],[\"Pink Cab\",\"Female\",-0.1342766744497407],[\"Pink Cab\",\"Female\",-0.13335950210105324],[\"Pink Cab\",\"Female\",-0.1332581313597274],[\"Pink Cab\",\"Female\",-0.13302486871353952],[\"Pink Cab\",\"Female\",-0.13269122755638119],[\"Pink Cab\",\"Female\",-0.1325791223139527],[\"Pink Cab\",\"Female\",-0.1328383759825435],[\"Pink Cab\",\"Female\",-0.13331052452803735],[\"Pink Cab\",\"Female\",-0.1336512225707891],[\"Pink Cab\",\"Female\",-0.1335660314359796],[\"Pink Cab\",\"Female\",-0.13296441544767304],[\"Pink Cab\",\"Female\",-0.13188969025347605],[\"Pink Cab\",\"Female\",-0.13030750765864044],[\"Pink Cab\",\"Female\",-0.12803221689338798],[\"Pink Cab\",\"Female\",-0.12493965654563376],[\"Pink Cab\",\"Female\",-0.12125943519723957],[\"Pink Cab\",\"Female\",-0.11762492010691816],[\"Pink Cab\",\"Female\",-0.11483372764613176],[\"Pink Cab\",\"Female\",-0.11354315113246699],[\"Pink Cab\",\"Female\",-0.11407669876860825],[\"Pink Cab\",\"Female\",-0.11633072721630566],[\"Pink Cab\",\"Female\",-0.11975190525788533],[\"Pink Cab\",\"Female\",-0.12347442577338448],[\"Pink Cab\",\"Female\",-0.12668052397382118],[\"Pink Cab\",\"Female\",-0.12899617627257684],[\"Pink Cab\",\"Female\",-0.1305702030961211],[\"Pink Cab\",\"Female\",-0.13173220985461173],[\"Pink Cab\",\"Female\",-0.13256190333377696],[\"Pink Cab\",\"Female\",-0.1327497636361335],[\"Pink Cab\",\"Female\",-0.131705631452633],[\"Pink Cab\",\"Female\",-0.12859857174925843],[\"Pink Cab\",\"Female\",-0.12229457173387348],[\"Pink Cab\",\"Female\",-0.11156297713359194],[\"Pink Cab\",\"Female\",-0.09580221671405487],[\"Pink Cab\",\"Female\",-0.07590933432556635],[\"Pink Cab\",\"Female\",-0.054473646235027096],[\"Pink Cab\",\"Female\",-0.03484587077289333],[\"Pink Cab\",\"Female\",-0.019617871982074493],[\"Pink Cab\",\"Female\",-0.009625182405470983],[\"Pink Cab\",\"Female\",-0.004084996050168237],[\"Pink Cab\",\"Female\",-0.0014913908119291589],[\"Pink Cab\",\"Female\",-0.0004664695130147606],[\"Pink Cab\",\"Female\",-0.00012461353304123185],[\"Pink Cab\",\"Female\",-2.8368522006814124e-05],[\"Pink Cab\",\"Female\",-5.4942424254572435e-06],[\"Pink Cab\",\"Female\",-9.041342412589299e-07],[\"Pink Cab\",\"Female\",-1.2629973936106642e-07],[\"Pink Cab\",\"Female\",1.2629973936106642e-07],[\"Pink Cab\",\"Female\",9.041342412589299e-07],[\"Pink Cab\",\"Female\",5.4942424254572435e-06],[\"Pink Cab\",\"Female\",2.8368522006814124e-05],[\"Pink Cab\",\"Female\",0.00012461353304123185],[\"Pink Cab\",\"Female\",0.0004664695130147606],[\"Pink Cab\",\"Female\",0.0014913908119291589],[\"Pink Cab\",\"Female\",0.004084996050168237],[\"Pink Cab\",\"Female\",0.009625182405470983],[\"Pink Cab\",\"Female\",0.019617871982074493],[\"Pink Cab\",\"Female\",0.03484587077289333],[\"Pink Cab\",\"Female\",0.054473646235027096],[\"Pink Cab\",\"Female\",0.07590933432556635],[\"Pink Cab\",\"Female\",0.09580221671405487],[\"Pink Cab\",\"Female\",0.11156297713359194],[\"Pink Cab\",\"Female\",0.12229457173387348],[\"Pink Cab\",\"Female\",0.12859857174925843],[\"Pink Cab\",\"Female\",0.131705631452633],[\"Pink Cab\",\"Female\",0.1327497636361335],[\"Pink Cab\",\"Female\",0.13256190333377696],[\"Pink Cab\",\"Female\",0.13173220985461173],[\"Pink Cab\",\"Female\",0.1305702030961211],[\"Pink Cab\",\"Female\",0.12899617627257684],[\"Pink Cab\",\"Female\",0.12668052397382118],[\"Pink Cab\",\"Female\",0.12347442577338448],[\"Pink Cab\",\"Female\",0.11975190525788533],[\"Pink Cab\",\"Female\",0.11633072721630566],[\"Pink Cab\",\"Female\",0.11407669876860825],[\"Pink Cab\",\"Female\",0.11354315113246699],[\"Pink Cab\",\"Female\",0.11483372764613176],[\"Pink Cab\",\"Female\",0.11762492010691816],[\"Pink Cab\",\"Female\",0.12125943519723957],[\"Pink Cab\",\"Female\",0.12493965654563376],[\"Pink Cab\",\"Female\",0.12803221689338798],[\"Pink Cab\",\"Female\",0.13030750765864044],[\"Pink Cab\",\"Female\",0.13188969025347605],[\"Pink Cab\",\"Female\",0.13296441544767304],[\"Pink Cab\",\"Female\",0.1335660314359796],[\"Pink Cab\",\"Female\",0.1336512225707891],[\"Pink Cab\",\"Female\",0.13331052452803735],[\"Pink Cab\",\"Female\",0.1328383759825435],[\"Pink Cab\",\"Female\",0.1325791223139527],[\"Pink Cab\",\"Female\",0.13269122755638119],[\"Pink Cab\",\"Female\",0.13302486871353952],[\"Pink Cab\",\"Female\",0.1332581313597274],[\"Pink Cab\",\"Female\",0.13335950210105324],[\"Pink Cab\",\"Female\",0.1342766744497407],[\"Pink Cab\",\"Female\",0.13844893694920757],[\"Pink Cab\",\"Female\",0.14948809130565105],[\"Pink Cab\",\"Female\",0.1706023905321238],[\"Pink Cab\",\"Female\",0.20230527663680845],[\"Pink Cab\",\"Female\",0.24104361464470403],[\"Pink Cab\",\"Female\",0.28024379558770796],[\"Pink Cab\",\"Female\",0.3134198800091484],[\"Pink Cab\",\"Female\",0.33705983111872584],[\"Pink Cab\",\"Female\",0.35122852208847416],[\"Pink Cab\",\"Female\",0.35806297577648283],[\"Pink Cab\",\"Female\",0.3600384563884761],[\"Pink Cab\",\"Female\",0.3593460104895112],[\"Pink Cab\",\"Female\",0.35805638596304196],[\"Pink Cab\",\"Female\",0.3580527928079471],[\"Pink Cab\",\"Female\",0.36042990099811495],[\"Pink Cab\",\"Female\",0.36494729684149524],[\"Pink Cab\",\"Female\",0.3701808447158435],[\"Pink Cab\",\"Female\",0.37439139193394533],[\"Pink Cab\",\"Female\",0.37652827145727796],[\"Pink Cab\",\"Female\",0.3766868199356411],[\"Pink Cab\",\"Female\",0.3757995282880495],[\"Pink Cab\",\"Female\",0.37496188315839285],[\"Pink Cab\",\"Female\",0.37497167700432077],[\"Pink Cab\",\"Female\",0.37625605727013256],[\"Pink Cab\",\"Female\",0.37893086348643595],[\"Pink Cab\",\"Female\",0.38278072202688096],[\"Pink Cab\",\"Female\",0.38725504159749174],[\"Pink Cab\",\"Female\",0.39164021206600347],[\"Pink Cab\",\"Female\",0.3953368188209092],[\"Pink Cab\",\"Female\",0.39801662553766626],[\"Pink Cab\",\"Female\",0.39957222475263265],[\"Pink Cab\",\"Female\",0.4],[\"Pink Cab\",\"Female\",0.3993729858294353],[\"Pink Cab\",\"Female\",0.3978349675118443],[\"Pink Cab\",\"Female\",0.3953407708723671],[\"Pink Cab\",\"Female\",0.3909823425456289],[\"Pink Cab\",\"Female\",0.38221449591527107],[\"Pink Cab\",\"Female\",0.3647687527707064],[\"Pink Cab\",\"Female\",0.3340047227689846],[\"Pink Cab\",\"Female\",0.28761921833753035],[\"Pink Cab\",\"Female\",0.22827798729609441],[\"Pink Cab\",\"Female\",0.16395280751523222],[\"Pink Cab\",\"Female\",0.1049122012953194],[\"Pink Cab\",\"Female\",0.05906770644617368],[\"Pink Cab\",\"Female\",0.02897834218874189],[\"Pink Cab\",\"Female\",0.012296999510515577],[\"Pink Cab\",\"Female\",0.004488860444042452],[\"Pink Cab\",\"Female\",0.0014038085317224],[\"Pink Cab\",\"Female\",0.0003749699528494291],[\"Pink Cab\",\"Female\",8.53537337600751e-05],[\"Pink Cab\",\"Female\",1.6529358225858252e-05],[\"Pink Cab\",\"Female\",2.7198848352569438e-06],[\"Pink Cab\",\"Female\",3.799229798697745e-07]]],\"ys\":[{\"__ndarray__\":\"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\",\"dtype\":\"float64\",\"order\":\"little\",\"shape\":[200]},{\"__ndarray__\":\"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\",\"dtype\":\"float64\",\"order\":\"little\",\"shape\":[200]},{\"__ndarray__\":\"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\",\"dtype\":\"float64\",\"order\":\"little\",\"shape\":[200]},{\"__ndarray__\":\"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\",\"dtype\":\"float64\",\"order\":\"little\",\"shape\":[200]}]},\"selected\":{\"id\":\"19421\"},\"selection_policy\":{\"id\":\"19420\"}},\"id\":\"19367\",\"type\":\"ColumnDataSource\"},{\"attributes\":{\"fill_alpha\":{\"value\":0.2},\"fill_color\":{\"value\":\"white\"},\"hatch_alpha\":{\"value\":0.2},\"hatch_color\":{\"value\":\"white\"},\"line_alpha\":{\"value\":0.2},\"line_color\":{\"value\":\"white\"},\"x\":{\"field\":\"x\"},\"y\":{\"field\":\"y\"}},\"id\":\"19403\",\"type\":\"Scatter\"},{\"attributes\":{},\"id\":\"19422\",\"type\":\"UnionRenderers\"},{\"attributes\":{\"axis_label\":\"Company, Gender\",\"coordinates\":null,\"formatter\":{\"id\":\"19408\"},\"group\":null,\"major_label_policy\":{\"id\":\"19409\"},\"ticker\":{\"id\":\"19348\"}},\"id\":\"19347\",\"type\":\"CategoricalAxis\"},{\"attributes\":{\"data\":{\"bottom\":{\"__ndarray__\":\"AAAAAAAAOUAAAAAAAAA5QAAAAAAAADlAAAAAAAAAOUA=\",\"dtype\":\"float64\",\"order\":\"little\",\"shape\":[4]},\"top\":{\"__ndarray__\":\"AAAAAAAARUAAAAAAAABFQAAAAAAAAEVAAAAAAAAARUA=\",\"dtype\":\"float64\",\"order\":\"little\",\"shape\":[4]},\"x\":[[\"Pink Cab\",\"Male\",0],[\"Yellow Cab\",\"Male\",0],[\"Yellow Cab\",\"Female\",0],[\"Pink Cab\",\"Female\",0]]},\"selected\":{\"id\":\"19427\"},\"selection_policy\":{\"id\":\"19426\"}},\"id\":\"19391\",\"type\":\"ColumnDataSource\"},{\"attributes\":{\"margin\":[5,5,5,5],\"name\":\"HSpacer62141\",\"sizing_mode\":\"stretch_width\"},\"id\":\"19449\",\"type\":\"Spacer\"},{\"attributes\":{},\"id\":\"19427\",\"type\":\"Selection\"},{\"attributes\":{\"axis\":{\"id\":\"19350\"},\"coordinates\":null,\"dimension\":1,\"grid_line_color\":null,\"group\":null,\"ticker\":null},\"id\":\"19353\",\"type\":\"Grid\"},{\"attributes\":{},\"id\":\"19343\",\"type\":\"CategoricalScale\"},{\"attributes\":{\"coordinates\":null,\"data_source\":{\"id\":\"19367\"},\"glyph\":{\"id\":\"19369\"},\"group\":null,\"hover_glyph\":null,\"muted_glyph\":{\"id\":\"19371\"},\"nonselection_glyph\":{\"id\":\"19370\"},\"selection_glyph\":{\"id\":\"19374\"},\"view\":{\"id\":\"19373\"}},\"id\":\"19372\",\"type\":\"GlyphRenderer\"},{\"attributes\":{\"bottom\":{\"field\":\"bottom\"},\"fill_alpha\":{\"value\":0.1},\"fill_color\":{\"value\":\"black\"},\"hatch_alpha\":{\"value\":0.1},\"line_alpha\":{\"value\":0.1},\"top\":{\"field\":\"top\"},\"width\":{\"value\":0.1},\"x\":{\"field\":\"x\"}},\"id\":\"19394\",\"type\":\"VBar\"},{\"attributes\":{\"fill_alpha\":{\"value\":0.5},\"fill_color\":{\"field\":\"violin_fill_color\",\"transform\":{\"id\":\"19366\"}},\"hatch_alpha\":{\"value\":0.2},\"line_alpha\":{\"value\":0.2},\"line_color\":{\"value\":\"#1f77b4\"},\"line_width\":{\"value\":0},\"xs\":{\"field\":\"xs\"},\"ys\":{\"field\":\"ys\"}},\"id\":\"19371\",\"type\":\"Patches\"},{\"attributes\":{\"line_alpha\":{\"value\":1.0},\"line_cap\":{\"value\":\"butt\"},\"line_color\":{\"value\":\"black\"},\"line_dash\":{\"value\":[]},\"line_dash_offset\":{\"value\":0},\"line_join\":{\"value\":\"bevel\"},\"line_width\":{\"value\":1},\"xs\":{\"field\":\"xs\"},\"ys\":{\"field\":\"ys\"}},\"id\":\"19382\",\"type\":\"MultiLine\"},{\"attributes\":{},\"id\":\"19348\",\"type\":\"CategoricalTicker\"},{\"attributes\":{\"line_alpha\":{\"value\":0.1},\"x0\":{\"field\":\"x\"},\"x1\":{\"field\":\"x\"},\"y0\":{\"field\":\"y0\"},\"y1\":{\"field\":\"y1\"}},\"id\":\"19386\",\"type\":\"Segment\"},{\"attributes\":{\"axis\":{\"id\":\"19347\"},\"coordinates\":null,\"grid_line_color\":null,\"group\":null,\"ticker\":null},\"id\":\"19349\",\"type\":\"Grid\"},{\"attributes\":{\"source\":{\"id\":\"19375\"}},\"id\":\"19381\",\"type\":\"CDSView\"},{\"attributes\":{\"angle\":{\"value\":0.0},\"fill_alpha\":{\"value\":1.0},\"fill_color\":{\"value\":\"white\"},\"hatch_alpha\":{\"value\":1.0},\"hatch_color\":{\"value\":\"white\"},\"hatch_scale\":{\"value\":12.0},\"hatch_weight\":{\"value\":1.0},\"line_alpha\":{\"value\":1.0},\"line_cap\":{\"value\":\"butt\"},\"line_color\":{\"value\":\"white\"},\"line_dash\":{\"value\":[]},\"line_dash_offset\":{\"value\":0},\"line_join\":{\"value\":\"bevel\"},\"line_width\":{\"value\":1},\"marker\":{\"value\":\"circle\"},\"size\":{\"value\":4},\"x\":{\"field\":\"x\"},\"y\":{\"field\":\"y\"}},\"id\":\"19406\",\"type\":\"Scatter\"},{\"attributes\":{},\"id\":\"19421\",\"type\":\"Selection\"},{\"attributes\":{\"line_alpha\":{\"value\":0.2},\"x0\":{\"field\":\"x\"},\"x1\":{\"field\":\"x\"},\"y0\":{\"field\":\"y0\"},\"y1\":{\"field\":\"y1\"}},\"id\":\"19387\",\"type\":\"Segment\"},{\"attributes\":{},\"id\":\"19351\",\"type\":\"BasicTicker\"},{\"attributes\":{\"axis_label\":\"Age\",\"coordinates\":null,\"formatter\":{\"id\":\"19411\"},\"group\":null,\"major_label_policy\":{\"id\":\"19412\"},\"ticker\":{\"id\":\"19351\"}},\"id\":\"19350\",\"type\":\"LinearAxis\"},{\"attributes\":{},\"id\":\"19420\",\"type\":\"UnionRenderers\"},{\"attributes\":{\"coordinates\":null,\"data_source\":{\"id\":\"19383\"},\"glyph\":{\"id\":\"19385\"},\"group\":null,\"hover_glyph\":null,\"muted_glyph\":{\"id\":\"19387\"},\"nonselection_glyph\":{\"id\":\"19386\"},\"selection_glyph\":{\"id\":\"19390\"},\"view\":{\"id\":\"19389\"}},\"id\":\"19388\",\"type\":\"GlyphRenderer\"},{\"attributes\":{\"data\":{\"x\":[[\"Pink Cab\",\"Male\",0],[\"Yellow Cab\",\"Male\",0],[\"Yellow Cab\",\"Female\",0],[\"Pink Cab\",\"Female\",0]],\"y\":{\"__ndarray__\":\"AAAAAACAQEAAAAAAAIBAQAAAAAAAgEBAAAAAAACAQEA=\",\"dtype\":\"float64\",\"order\":\"little\",\"shape\":[4]}},\"selected\":{\"id\":\"19429\"},\"selection_policy\":{\"id\":\"19428\"}},\"id\":\"19399\",\"type\":\"ColumnDataSource\"},{\"attributes\":{\"coordinates\":null,\"data_source\":{\"id\":\"19375\"},\"glyph\":{\"id\":\"19377\"},\"group\":null,\"hover_glyph\":null,\"muted_glyph\":{\"id\":\"19379\"},\"nonselection_glyph\":{\"id\":\"19378\"},\"selection_glyph\":{\"id\":\"19382\"},\"view\":{\"id\":\"19381\"}},\"id\":\"19380\",\"type\":\"GlyphRenderer\"},{\"attributes\":{\"data\":{\"x\":[[\"Pink Cab\",\"Male\",0],[\"Yellow Cab\",\"Male\",0],[\"Yellow Cab\",\"Female\",0],[\"Pink Cab\",\"Female\",0]],\"y0\":[18,18,18,18],\"y1\":[65,65,65,65]},\"selected\":{\"id\":\"19425\"},\"selection_policy\":{\"id\":\"19424\"}},\"id\":\"19383\",\"type\":\"ColumnDataSource\"},{\"attributes\":{},\"id\":\"19409\",\"type\":\"AllLabels\"},{\"attributes\":{\"fill_alpha\":{\"value\":0.5},\"fill_color\":{\"field\":\"violin_fill_color\",\"transform\":{\"id\":\"19366\"}},\"line_color\":{\"value\":\"#1f77b4\"},\"line_width\":{\"value\":0},\"xs\":{\"field\":\"xs\"},\"ys\":{\"field\":\"ys\"}},\"id\":\"19369\",\"type\":\"Patches\"},{\"attributes\":{\"bottom\":{\"field\":\"bottom\"},\"fill_color\":{\"value\":\"black\"},\"top\":{\"field\":\"top\"},\"width\":{\"value\":0.1},\"x\":{\"field\":\"x\"}},\"id\":\"19393\",\"type\":\"VBar\"},{\"attributes\":{\"factors\":[\"Pink Cab\",\"Yellow Cab\"],\"palette\":[\"pink\",\"yellow\"]},\"id\":\"19366\",\"type\":\"CategoricalColorMapper\"},{\"attributes\":{\"fill_alpha\":{\"value\":0.5},\"fill_color\":{\"field\":\"violin_fill_color\",\"transform\":{\"id\":\"19366\"}},\"hatch_alpha\":{\"value\":1.0},\"hatch_color\":{\"value\":\"black\"},\"hatch_scale\":{\"value\":12.0},\"hatch_weight\":{\"value\":1.0},\"line_alpha\":{\"value\":1.0},\"line_cap\":{\"value\":\"butt\"},\"line_color\":{\"value\":\"#1f77b4\"},\"line_dash\":{\"value\":[]},\"line_dash_offset\":{\"value\":0},\"line_join\":{\"value\":\"bevel\"},\"line_width\":{\"value\":0},\"xs\":{\"field\":\"xs\"},\"ys\":{\"field\":\"ys\"}},\"id\":\"19374\",\"type\":\"Patches\"}],\"root_ids\":[\"19334\"]},\"title\":\"Bokeh Application\",\"version\":\"2.4.2\"}};\n",
       "    var render_items = [{\"docid\":\"7af88322-d61c-408f-b622-18ba74a5cb58\",\"root_ids\":[\"19334\"],\"roots\":{\"19334\":\"5107807d-0d2f-4a0f-8c27-bf526aaa7c27\"}}];\n",
       "    root.Bokeh.embed.embed_items_notebook(docs_json, render_items);\n",
       "  }\n",
       "  if (root.Bokeh !== undefined && root.Bokeh.Panel !== undefined) {\n",
       "    embed_document(root);\n",
       "  } else {\n",
       "    var attempts = 0;\n",
       "    var timer = setInterval(function(root) {\n",
       "      if (root.Bokeh !== undefined && root.Bokeh.Panel !== undefined) {\n",
       "        clearInterval(timer);\n",
       "        embed_document(root);\n",
       "      } else if (document.readyState == \"complete\") {\n",
       "        attempts++;\n",
       "        if (attempts > 200) {\n",
       "          clearInterval(timer);\n",
       "          console.log(\"Bokeh: ERROR: Unable to run BokehJS code because BokehJS library is missing\");\n",
       "        }\n",
       "      }\n",
       "    }, 25, root)\n",
       "  }\n",
       "})(window);</script>"
      ],
      "text/plain": [
       ":Violin   [Company,Gender]   (Age)"
      ]
     },
     "execution_count": 313,
     "metadata": {
      "application/vnd.holoviews_exec.v0+json": {
       "id": "19334"
      }
     },
     "output_type": "execute_result"
    }
   ],
   "source": [
    "# Age distribution in genders for each company\n",
    "df.hvplot.violin(\n",
    "    y= 'Age',\n",
    "    by = ['Company','Gender'],\n",
    "    color = 'Company',\n",
    "    cmap = ['pink','yellow'],\n",
    "    legend=False,\n",
    "    width = 600,\n",
    "    height = 500\n",
    ")"
   ]
  },
  {
   "cell_type": "markdown",
   "metadata": {},
   "source": [
    "> <b> Both companies dominate user age group is `20-40` years old </b>\n",
    "\n",
    "> <b> Gender distribution for both companies are quite `similar` </b>\n",
    "\n",
    "> <b> Gender distribution within each company are `generally even` between Female and Male users </b>\n",
    "\n",
    "> <b> The `average user age` for both companies and both genders is about `33` years old </b>"
   ]
  },
  {
   "cell_type": "code",
   "execution_count": 314,
   "metadata": {},
   "outputs": [
    {
     "name": "stdout",
     "output_type": "stream",
     "text": [
      "Company     Gender\n",
      "Pink Cab    Female    14819\n",
      "            Male      17511\n",
      "Yellow Cab  Female    18394\n",
      "            Male      21502\n",
      "Name: Customer ID, dtype: int64\n"
     ]
    }
   ],
   "source": [
    "# Calculate gender distribution in each company\n",
    "gender = df.groupby(['Company','Gender'])\n",
    "gender = gender['Customer ID'].nunique()\n",
    "print(gender)"
   ]
  },
  {
   "cell_type": "code",
   "execution_count": 350,
   "metadata": {},
   "outputs": [
    {
     "data": {
      "image/png": "[encoded data removed]",
      "text/plain": [
       "<Figure size 360x360 with 1 Axes>"
      ]
     },
     "metadata": {},
     "output_type": "display_data"
    }
   ],
   "source": [
    "# Using pie chart graph the gender distribution for Yellow cab\n",
    "labels = 'Female', 'Male'\n",
    "sizes = gender['Yellow Cab']\n",
    "colors = ['red', 'blue']\n",
    "fig2, ax2 = plt.subplots(figsize=(5,5))\n",
    "ax2.pie(sizes, labels=labels, autopct='%1.1f%%',shadow=True, startangle=90, colors = colors)\n",
    "ax2.axis('equal')\n",
    "plt.title('Yellow Cab Gender Distribution', fontsize = 16)\n",
    "plt.show()"
   ]
  },
  {
   "cell_type": "code",
   "execution_count": 316,
   "metadata": {},
   "outputs": [
    {
     "data": {
      "image/png": "[encoded data removed]",
      "text/plain": [
       "<Figure size 360x360 with 1 Axes>"
      ]
     },
     "metadata": {},
     "output_type": "display_data"
    }
   ],
   "source": [
    "# Using pie chart graph the gender distribution for Pink cab\n",
    "labels = 'Female', 'Male'\n",
    "sizes = gender['Pink Cab']\n",
    "colors = ['red', 'blue']\n",
    "fig2, ax2 = plt.subplots(figsize=(5,5))\n",
    "ax2.pie(sizes, labels=labels, autopct='%1.1f%%',shadow=True, startangle=90, colors = colors)\n",
    "ax2.axis('equal')\n",
    "plt.title('Pink Cab Gender Distribution', fontsize = 16)\n",
    "plt.show()"
   ]
  },
  {
   "cell_type": "markdown",
   "metadata": {},
   "source": [
    "> <b> Color `Pink` is not an influencer in gender distribution for Pink Cab </b>\n",
    "\n",
    "> <b> Both companies has more male than female customers </b>"
   ]
  },
  {
   "cell_type": "code",
   "execution_count": 317,
   "metadata": {},
   "outputs": [
    {
     "data": {
      "text/html": [
       "\n",
       "\n",
       "\n",
       "\n",
       "\n",
       "\n",
       "  <div class=\"bk-root\" id=\"172f54ce-1f27-4773-807d-672e636ca294\" data-root-id=\"19636\"></div>\n"
      ]
     },
     "metadata": {},
     "output_type": "display_data"
    },
    {
     "data": {
      "application/javascript": [
       "(function(root) {\n",
       "  function embed_document(root) {\n",
       "    \n",
       "  const docs_json = {\"cf0b3951-7257-40f3-9a47-75a329c7c53c\":{\"defs\":[{\"extends\":null,\"module\":null,\"name\":\"ReactiveHTML1\",\"overrides\":[],\"properties\":[]},{\"extends\":null,\"module\":null,\"name\":\"FlexBox1\",\"overrides\":[],\"properties\":[{\"default\":\"flex-start\",\"kind\":null,\"name\":\"align_content\"},{\"default\":\"flex-start\",\"kind\":null,\"name\":\"align_items\"},{\"default\":\"row\",\"kind\":null,\"name\":\"flex_direction\"},{\"default\":\"wrap\",\"kind\":null,\"name\":\"flex_wrap\"},{\"default\":\"flex-start\",\"kind\":null,\"name\":\"justify_content\"}]},{\"extends\":null,\"module\":null,\"name\":\"GridStack1\",\"overrides\":[],\"properties\":[{\"default\":\"warn\",\"kind\":null,\"name\":\"mode\"},{\"default\":null,\"kind\":null,\"name\":\"ncols\"},{\"default\":null,\"kind\":null,\"name\":\"nrows\"},{\"default\":true,\"kind\":null,\"name\":\"allow_resize\"},{\"default\":true,\"kind\":null,\"name\":\"allow_drag\"},{\"default\":[],\"kind\":null,\"name\":\"state\"}]},{\"extends\":null,\"module\":null,\"name\":\"click1\",\"overrides\":[],\"properties\":[{\"default\":\"\",\"kind\":null,\"name\":\"terminal_output\"},{\"default\":\"\",\"kind\":null,\"name\":\"debug_name\"},{\"default\":0,\"kind\":null,\"name\":\"clears\"}]},{\"extends\":null,\"module\":null,\"name\":\"TemplateActions1\",\"overrides\":[],\"properties\":[{\"default\":0,\"kind\":null,\"name\":\"open_modal\"},{\"default\":0,\"kind\":null,\"name\":\"close_modal\"}]},{\"extends\":null,\"module\":null,\"name\":\"MaterialTemplateActions1\",\"overrides\":[],\"properties\":[{\"default\":0,\"kind\":null,\"name\":\"open_modal\"},{\"default\":0,\"kind\":null,\"name\":\"close_modal\"}]}],\"roots\":{\"references\":[{\"attributes\":{\"below\":[{\"id\":\"19645\"}],\"center\":[{\"id\":\"19647\"},{\"id\":\"19651\"}],\"height\":500,\"left\":[{\"id\":\"19648\"}],\"margin\":null,\"min_border_bottom\":10,\"min_border_left\":10,\"min_border_right\":10,\"min_border_top\":10,\"renderers\":[{\"id\":\"19669\"},{\"id\":\"19677\"},{\"id\":\"19685\"},{\"id\":\"19693\"},{\"id\":\"19701\"},{\"id\":\"19710\"},{\"id\":\"19718\"}],\"sizing_mode\":\"fixed\",\"title\":{\"id\":\"19637\"},\"toolbar\":{\"id\":\"19658\"},\"width\":1200,\"x_range\":{\"id\":\"19634\"},\"x_scale\":{\"id\":\"19641\"},\"y_range\":{\"id\":\"19635\"},\"y_scale\":{\"id\":\"19643\"}},\"id\":\"19636\",\"subtype\":\"Figure\",\"type\":\"Plot\"},{\"attributes\":{\"end\":69.7,\"reset_end\":69.7,\"reset_start\":13.3,\"start\":13.3,\"tags\":[[[\"Age\",\"Age\",null]]]},\"id\":\"19635\",\"type\":\"Range1d\"},{\"attributes\":{\"line_alpha\":{\"value\":1.0},\"line_cap\":{\"value\":\"butt\"},\"line_color\":{\"value\":\"black\"},\"line_dash\":{\"value\":[]},\"line_dash_offset\":{\"value\":0},\"line_join\":{\"value\":\"bevel\"},\"line_width\":{\"value\":1},\"x0\":{\"field\":\"x0\"},\"x1\":{\"field\":\"x1\"},\"y0\":{\"field\":\"y0\"},\"y1\":{\"field\":\"y1\"}},\"id\":\"19695\",\"type\":\"Segment\"},{\"attributes\":{\"bottom\":{\"field\":\"bottom\"},\"fill_alpha\":{\"value\":1.0},\"fill_color\":{\"field\":\"box_fill_color\",\"transform\":{\"id\":\"19704\"}},\"hatch_alpha\":{\"value\":1.0},\"hatch_color\":{\"value\":\"black\"},\"hatch_scale\":{\"value\":12.0},\"hatch_weight\":{\"value\":1.0},\"line_alpha\":{\"value\":1.0},\"line_cap\":{\"value\":\"butt\"},\"line_color\":{\"value\":\"black\"},\"line_dash\":{\"value\":[]},\"line_dash_offset\":{\"value\":0},\"line_join\":{\"value\":\"bevel\"},\"line_width\":{\"value\":1},\"top\":{\"field\":\"top\"},\"width\":{\"value\":0.7},\"x\":{\"field\":\"index\"}},\"id\":\"19712\",\"type\":\"VBar\"},{\"attributes\":{\"axis\":{\"id\":\"19648\"},\"coordinates\":null,\"dimension\":1,\"grid_line_color\":null,\"group\":null,\"ticker\":null},\"id\":\"19651\",\"type\":\"Grid\"},{\"attributes\":{\"source\":{\"id\":\"19696\"}},\"id\":\"19702\",\"type\":\"CDSView\"},{\"attributes\":{\"line_alpha\":{\"value\":0.1},\"x0\":{\"field\":\"x0\"},\"x1\":{\"field\":\"x1\"},\"y0\":{\"field\":\"y0\"},\"y1\":{\"field\":\"y1\"}},\"id\":\"19691\",\"type\":\"Segment\"},{\"attributes\":{},\"id\":\"19654\",\"type\":\"WheelZoomTool\"},{\"attributes\":{\"axis\":{\"id\":\"19645\"},\"coordinates\":null,\"grid_line_color\":null,\"group\":null,\"ticker\":null},\"id\":\"19647\",\"type\":\"Grid\"},{\"attributes\":{\"coordinates\":null,\"data_source\":{\"id\":\"19713\"},\"glyph\":{\"id\":\"19715\"},\"group\":null,\"hover_glyph\":null,\"muted_glyph\":{\"id\":\"19717\"},\"nonselection_glyph\":{\"id\":\"19716\"},\"selection_glyph\":{\"id\":\"19720\"},\"view\":{\"id\":\"19719\"}},\"id\":\"19718\",\"type\":\"GlyphRenderer\"},{\"attributes\":{\"data\":{\"bottom\":{\"__ndarray__\":\"AAAAAACAQEAAAAAAAABBQAAAAAAAAEFAAAAAAAAAQEAAAAAAAIBAQAAAAAAAAEBAAAAAAAAAQUAAAAAAAIBAQAAAAAAAAEFAAAAAAACAQEAAAAAAAIBAQAAAAAAAgEBAAAAAAACAQEAAAAAAAIBAQAAAAAAAAEFAAAAAAACAQEAAAAAAAABAQAAAAAAAAEBAAAAAAACAQEAAAAAAAIBAQAAAAAAAAEFAAAAAAACAQEAAAAAAAIBAQAAAAAAAAEFAAAAAAAAAQUAAAAAAAABBQAAAAAAAgEBAAAAAAAAAQUAAAAAAAIBAQAAAAAAAgEBAAAAAAAAAQEAAAAAAAABBQAAAAAAAAEBAAAAAAACAQEAAAAAAAABBQAAAAAAAAEFAAAAAAACAQEAAAAAAAIBAQA==\",\"dtype\":\"float64\",\"order\":\"little\",\"shape\":[38]},\"box_fill_color\":[\"Male\",\"Female\",\"Male\",\"Female\",\"Male\",\"Female\",\"Male\",\"Female\",\"Male\",\"Female\",\"Male\",\"Female\",\"Male\",\"Female\",\"Male\",\"Female\",\"Male\",\"Female\",\"Male\",\"Female\",\"Male\",\"Female\",\"Male\",\"Female\",\"Male\",\"Female\",\"Male\",\"Female\",\"Male\",\"Female\",\"Male\",\"Female\",\"Male\",\"Female\",\"Male\",\"Female\",\"Male\",\"Female\"],\"index\":[[\"ATLANTA GA\",\"Male\"],[\"ATLANTA GA\",\"Female\"],[\"AUSTIN TX\",\"Male\"],[\"AUSTIN TX\",\"Female\"],[\"BOSTON MA\",\"Male\"],[\"BOSTON MA\",\"Female\"],[\"CHICAGO IL\",\"Male\"],[\"CHICAGO IL\",\"Female\"],[\"DALLAS TX\",\"Male\"],[\"DALLAS TX\",\"Female\"],[\"DENVER CO\",\"Male\"],[\"DENVER CO\",\"Female\"],[\"LOS ANGELES CA\",\"Male\"],[\"LOS ANGELES CA\",\"Female\"],[\"MIAMI FL\",\"Male\"],[\"MIAMI FL\",\"Female\"],[\"NASHVILLE TN\",\"Male\"],[\"NASHVILLE TN\",\"Female\"],[\"NEW YORK NY\",\"Male\"],[\"NEW YORK NY\",\"Female\"],[\"ORANGE COUNTY\",\"Male\"],[\"ORANGE COUNTY\",\"Female\"],[\"PHOENIX AZ\",\"Male\"],[\"PHOENIX AZ\",\"Female\"],[\"PITTSBURGH PA\",\"Male\"],[\"PITTSBURGH PA\",\"Female\"],[\"SACRAMENTO CA\",\"Male\"],[\"SACRAMENTO CA\",\"Female\"],[\"SAN DIEGO CA\",\"Male\"],[\"SAN DIEGO CA\",\"Female\"],[\"SEATTLE WA\",\"Male\"],[\"SEATTLE WA\",\"Female\"],[\"SILICON VALLEY\",\"Male\"],[\"SILICON VALLEY\",\"Female\"],[\"TUCSON AZ\",\"Male\"],[\"TUCSON AZ\",\"Female\"],[\"WASHINGTON DC\",\"Male\"],[\"WASHINGTON DC\",\"Female\"]],\"top\":{\"__ndarray__\":\"AAAAAAAAOUAAAAAAAAA5QAAAAAAAADlAAAAAAAAAOUAAAAAAAAA5QAAAAAAAADlAAAAAAAAAOUAAAAAAAAA5QAAAAAAAADpAAAAAAAAAOUAAAAAAAAA5QAAAAAAAADlAAAAAAAAAOUAAAAAAAAA5QAAAAAAAADpAAAAAAAAAOkAAAAAAAAA5QAAAAAAAADhAAAAAAAAAOUAAAAAAAAA5QAAAAAAAADlAAAAAAAAAOUAAAAAAAAA5QAAAAAAAADpAAAAAAAAAOUAAAAAAAAA5QAAAAAAAADlAAAAAAAAAOkAAAAAAAAA5QAAAAAAAADhAAAAAAAAAOUAAAAAAAAA5QAAAAAAAADlAAAAAAAAAOkAAAAAAAAA6QAAAAAAAADpAAAAAAAAAOUAAAAAAAAA6QA==\",\"dtype\":\"float64\",\"order\":\"little\",\"shape\":[38]}},\"selected\":{\"id\":\"19827\"},\"selection_policy\":{\"id\":\"19826\"}},\"id\":\"19713\",\"type\":\"ColumnDataSource\"},{\"attributes\":{\"line_alpha\":{\"value\":1.0},\"line_cap\":{\"value\":\"butt\"},\"line_color\":{\"value\":\"black\"},\"line_dash\":{\"value\":[]},\"line_dash_offset\":{\"value\":0},\"line_join\":{\"value\":\"bevel\"},\"line_width\":{\"value\":1},\"x0\":{\"field\":\"x0\"},\"x1\":{\"field\":\"x1\"},\"y0\":{\"field\":\"y0\"},\"y1\":{\"field\":\"y1\"}},\"id\":\"19687\",\"type\":\"Segment\"},{\"attributes\":{\"source\":{\"id\":\"19713\"}},\"id\":\"19719\",\"type\":\"CDSView\"},{\"attributes\":{\"data\":{\"x0\":[[\"ATLANTA GA\",\"Male\",-0.2],[\"ATLANTA GA\",\"Female\",-0.2],[\"AUSTIN TX\",\"Male\",-0.2],[\"AUSTIN TX\",\"Female\",-0.2],[\"BOSTON MA\",\"Male\",-0.2],[\"BOSTON MA\",\"Female\",-0.2],[\"CHICAGO IL\",\"Male\",-0.2],[\"CHICAGO IL\",\"Female\",-0.2],[\"DALLAS TX\",\"Male\",-0.2],[\"DALLAS TX\",\"Female\",-0.2],[\"DENVER CO\",\"Male\",-0.2],[\"DENVER CO\",\"Female\",-0.2],[\"LOS ANGELES CA\",\"Male\",-0.2],[\"LOS ANGELES CA\",\"Female\",-0.2],[\"MIAMI FL\",\"Male\",-0.2],[\"MIAMI FL\",\"Female\",-0.2],[\"NASHVILLE TN\",\"Male\",-0.2],[\"NASHVILLE TN\",\"Female\",-0.2],[\"NEW YORK NY\",\"Male\",-0.2],[\"NEW YORK NY\",\"Female\",-0.2],[\"ORANGE COUNTY\",\"Male\",-0.2],[\"ORANGE COUNTY\",\"Female\",-0.2],[\"PHOENIX AZ\",\"Male\",-0.2],[\"PHOENIX AZ\",\"Female\",-0.2],[\"PITTSBURGH PA\",\"Male\",-0.2],[\"PITTSBURGH PA\",\"Female\",-0.2],[\"SACRAMENTO CA\",\"Male\",-0.2],[\"SACRAMENTO CA\",\"Female\",-0.2],[\"SAN DIEGO CA\",\"Male\",-0.2],[\"SAN DIEGO CA\",\"Female\",-0.2],[\"SEATTLE WA\",\"Male\",-0.2],[\"SEATTLE WA\",\"Female\",-0.2],[\"SILICON VALLEY\",\"Male\",-0.2],[\"SILICON VALLEY\",\"Female\",-0.2],[\"TUCSON AZ\",\"Male\",-0.2],[\"TUCSON AZ\",\"Female\",-0.2],[\"WASHINGTON DC\",\"Male\",-0.2],[\"WASHINGTON DC\",\"Female\",-0.2]],\"x1\":[[\"ATLANTA GA\",\"Male\",0.2],[\"ATLANTA GA\",\"Female\",0.2],[\"AUSTIN TX\",\"Male\",0.2],[\"AUSTIN TX\",\"Female\",0.2],[\"BOSTON MA\",\"Male\",0.2],[\"BOSTON MA\",\"Female\",0.2],[\"CHICAGO IL\",\"Male\",0.2],[\"CHICAGO IL\",\"Female\",0.2],[\"DALLAS TX\",\"Male\",0.2],[\"DALLAS TX\",\"Female\",0.2],[\"DENVER CO\",\"Male\",0.2],[\"DENVER CO\",\"Female\",0.2],[\"LOS ANGELES CA\",\"Male\",0.2],[\"LOS ANGELES CA\",\"Female\",0.2],[\"MIAMI FL\",\"Male\",0.2],[\"MIAMI FL\",\"Female\",0.2],[\"NASHVILLE TN\",\"Male\",0.2],[\"NASHVILLE TN\",\"Female\",0.2],[\"NEW YORK NY\",\"Male\",0.2],[\"NEW YORK NY\",\"Female\",0.2],[\"ORANGE COUNTY\",\"Male\",0.2],[\"ORANGE COUNTY\",\"Female\",0.2],[\"PHOENIX AZ\",\"Male\",0.2],[\"PHOENIX AZ\",\"Female\",0.2],[\"PITTSBURGH PA\",\"Male\",0.2],[\"PITTSBURGH PA\",\"Female\",0.2],[\"SACRAMENTO CA\",\"Male\",0.2],[\"SACRAMENTO CA\",\"Female\",0.2],[\"SAN DIEGO CA\",\"Male\",0.2],[\"SAN DIEGO CA\",\"Female\",0.2],[\"SEATTLE WA\",\"Male\",0.2],[\"SEATTLE WA\",\"Female\",0.2],[\"SILICON VALLEY\",\"Male\",0.2],[\"SILICON VALLEY\",\"Female\",0.2],[\"TUCSON AZ\",\"Male\",0.2],[\"TUCSON AZ\",\"Female\",0.2],[\"WASHINGTON DC\",\"Male\",0.2],[\"WASHINGTON DC\",\"Female\",0.2]],\"y0\":[65,65,65,62,65,62,65,65,65,65,65,65,65,65,65,65,62,64,65,65,65,65,65,63,62,65,65,64,62,65,65,65,65,65,65,62,65,63],\"y1\":[65,65,65,62,65,62,65,65,65,65,65,65,65,65,65,65,62,64,65,65,65,65,65,63,62,65,65,64,62,65,65,65,65,65,65,62,65,63]},\"selected\":{\"id\":\"19823\"},\"selection_policy\":{\"id\":\"19822\"}},\"id\":\"19696\",\"type\":\"ColumnDataSource\"},{\"attributes\":{\"bottom\":{\"field\":\"bottom\"},\"fill_alpha\":{\"value\":0.1},\"fill_color\":{\"field\":\"box_fill_color\",\"transform\":{\"id\":\"19704\"}},\"hatch_alpha\":{\"value\":0.1},\"line_alpha\":{\"value\":0.1},\"top\":{\"field\":\"top\"},\"width\":{\"value\":0.7},\"x\":{\"field\":\"index\"}},\"id\":\"19716\",\"type\":\"VBar\"},{\"attributes\":{\"source\":{\"id\":\"19705\"}},\"id\":\"19711\",\"type\":\"CDSView\"},{\"attributes\":{\"coordinates\":null,\"data_source\":{\"id\":\"19696\"},\"glyph\":{\"id\":\"19698\"},\"group\":null,\"hover_glyph\":null,\"muted_glyph\":{\"id\":\"19700\"},\"nonselection_glyph\":{\"id\":\"19699\"},\"selection_glyph\":{\"id\":\"19703\"},\"view\":{\"id\":\"19702\"}},\"id\":\"19701\",\"type\":\"GlyphRenderer\"},{\"attributes\":{\"bottom\":{\"field\":\"bottom\"},\"fill_color\":{\"field\":\"box_fill_color\",\"transform\":{\"id\":\"19704\"}},\"top\":{\"field\":\"top\"},\"width\":{\"value\":0.7},\"x\":{\"field\":\"index\"}},\"id\":\"19715\",\"type\":\"VBar\"},{\"attributes\":{},\"id\":\"19641\",\"type\":\"CategoricalScale\"},{\"attributes\":{\"coordinates\":null,\"data_source\":{\"id\":\"19680\"},\"glyph\":{\"id\":\"19682\"},\"group\":null,\"hover_glyph\":null,\"muted_glyph\":{\"id\":\"19684\"},\"nonselection_glyph\":{\"id\":\"19683\"},\"selection_glyph\":{\"id\":\"19687\"},\"view\":{\"id\":\"19686\"}},\"id\":\"19685\",\"type\":\"GlyphRenderer\"},{\"attributes\":{\"factors\":[\"Male\",\"Female\"],\"palette\":[\"blue\",\"red\"]},\"id\":\"19704\",\"type\":\"CategoricalColorMapper\"},{\"attributes\":{\"line_alpha\":{\"value\":0.1},\"x0\":{\"field\":\"x0\"},\"x1\":{\"field\":\"x1\"},\"y0\":{\"field\":\"y0\"},\"y1\":{\"field\":\"y1\"}},\"id\":\"19699\",\"type\":\"Segment\"},{\"attributes\":{\"source\":{\"id\":\"19680\"}},\"id\":\"19686\",\"type\":\"CDSView\"},{\"attributes\":{\"x0\":{\"field\":\"x0\"},\"x1\":{\"field\":\"x1\"},\"y0\":{\"field\":\"y0\"},\"y1\":{\"field\":\"y1\"}},\"id\":\"19690\",\"type\":\"Segment\"},{\"attributes\":{\"tools\":[{\"id\":\"19652\"},{\"id\":\"19653\"},{\"id\":\"19654\"},{\"id\":\"19655\"},{\"id\":\"19656\"}]},\"id\":\"19658\",\"type\":\"Toolbar\"},{\"attributes\":{\"coordinates\":null,\"data_source\":{\"id\":\"19688\"},\"glyph\":{\"id\":\"19690\"},\"group\":null,\"hover_glyph\":null,\"muted_glyph\":{\"id\":\"19692\"},\"nonselection_glyph\":{\"id\":\"19691\"},\"selection_glyph\":{\"id\":\"19695\"},\"view\":{\"id\":\"19694\"}},\"id\":\"19693\",\"type\":\"GlyphRenderer\"},{\"attributes\":{\"coordinates\":null,\"data_source\":{\"id\":\"19705\"},\"glyph\":{\"id\":\"19707\"},\"group\":null,\"hover_glyph\":null,\"muted_glyph\":{\"id\":\"19709\"},\"nonselection_glyph\":{\"id\":\"19708\"},\"selection_glyph\":{\"id\":\"19712\"},\"view\":{\"id\":\"19711\"}},\"id\":\"19710\",\"type\":\"GlyphRenderer\"},{\"attributes\":{\"axis_label\":\"City, Gender\",\"coordinates\":null,\"formatter\":{\"id\":\"19722\"},\"group\":null,\"group_label_orientation\":\"vertical\",\"major_label_orientation\":1.5707963267948966,\"major_label_policy\":{\"id\":\"19723\"},\"ticker\":{\"id\":\"19646\"}},\"id\":\"19645\",\"type\":\"CategoricalAxis\"},{\"attributes\":{\"line_alpha\":{\"value\":1.0},\"line_cap\":{\"value\":\"butt\"},\"line_color\":{\"value\":\"black\"},\"line_dash\":{\"value\":[]},\"line_dash_offset\":{\"value\":0},\"line_join\":{\"value\":\"bevel\"},\"line_width\":{\"value\":1},\"x0\":{\"field\":\"x0\"},\"x1\":{\"field\":\"x1\"},\"y0\":{\"field\":\"y0\"},\"y1\":{\"field\":\"y1\"}},\"id\":\"19703\",\"type\":\"Segment\"},{\"attributes\":{},\"id\":\"19652\",\"type\":\"SaveTool\"},{\"attributes\":{},\"id\":\"19649\",\"type\":\"BasicTicker\"},{\"attributes\":{\"bottom\":{\"field\":\"bottom\"},\"fill_alpha\":{\"value\":0.2},\"fill_color\":{\"field\":\"box_fill_color\",\"transform\":{\"id\":\"19704\"}},\"hatch_alpha\":{\"value\":0.2},\"line_alpha\":{\"value\":0.2},\"top\":{\"field\":\"top\"},\"width\":{\"value\":0.7},\"x\":{\"field\":\"index\"}},\"id\":\"19717\",\"type\":\"VBar\"},{\"attributes\":{\"coordinates\":null,\"group\":null,\"text\":\"Age Distribution by Gender in Cities\",\"text_font_size\":\"15pt\"},\"id\":\"19637\",\"type\":\"Title\"},{\"attributes\":{\"data\":{\"bottom\":{\"__ndarray__\":\"AAAAAACAREAAAAAAAIBFQAAAAAAAgEZAAAAAAAAAREAAAAAAAABFQAAAAAAAAERAAAAAAACARUAAAAAAAIBFQAAAAAAAgEVAAAAAAABgRUAAAAAAAABFQAAAAAAAAEVAAAAAAACARUAAAAAAAABGQAAAAAAAAEZAAAAAAACARUAAAAAAAABEQAAAAAAAAERAAAAAAAAARUAAAAAAAIBEQAAAAAAAAEVAAAAAAAAARUAAAAAAAABFQAAAAAAAgERAAAAAAAAAREAAAAAAAIBFQAAAAAAAIEZAAAAAAADAREAAAAAAAABEQAAAAAAAAEVAAAAAAACAREAAAAAAAABFQAAAAAAAgERAAAAAAAAARUAAAAAAAABGQAAAAAAAYERAAAAAAACAREAAAAAAAIBEQA==\",\"dtype\":\"float64\",\"order\":\"little\",\"shape\":[38]},\"box_fill_color\":[\"Male\",\"Female\",\"Male\",\"Female\",\"Male\",\"Female\",\"Male\",\"Female\",\"Male\",\"Female\",\"Male\",\"Female\",\"Male\",\"Female\",\"Male\",\"Female\",\"Male\",\"Female\",\"Male\",\"Female\",\"Male\",\"Female\",\"Male\",\"Female\",\"Male\",\"Female\",\"Male\",\"Female\",\"Male\",\"Female\",\"Male\",\"Female\",\"Male\",\"Female\",\"Male\",\"Female\",\"Male\",\"Female\"],\"index\":[[\"ATLANTA GA\",\"Male\"],[\"ATLANTA GA\",\"Female\"],[\"AUSTIN TX\",\"Male\"],[\"AUSTIN TX\",\"Female\"],[\"BOSTON MA\",\"Male\"],[\"BOSTON MA\",\"Female\"],[\"CHICAGO IL\",\"Male\"],[\"CHICAGO IL\",\"Female\"],[\"DALLAS TX\",\"Male\"],[\"DALLAS TX\",\"Female\"],[\"DENVER CO\",\"Male\"],[\"DENVER CO\",\"Female\"],[\"LOS ANGELES CA\",\"Male\"],[\"LOS ANGELES CA\",\"Female\"],[\"MIAMI FL\",\"Male\"],[\"MIAMI FL\",\"Female\"],[\"NASHVILLE TN\",\"Male\"],[\"NASHVILLE TN\",\"Female\"],[\"NEW YORK NY\",\"Male\"],[\"NEW YORK NY\",\"Female\"],[\"ORANGE COUNTY\",\"Male\"],[\"ORANGE COUNTY\",\"Female\"],[\"PHOENIX AZ\",\"Male\"],[\"PHOENIX AZ\",\"Female\"],[\"PITTSBURGH PA\",\"Male\"],[\"PITTSBURGH PA\",\"Female\"],[\"SACRAMENTO CA\",\"Male\"],[\"SACRAMENTO CA\",\"Female\"],[\"SAN DIEGO CA\",\"Male\"],[\"SAN DIEGO CA\",\"Female\"],[\"SEATTLE WA\",\"Male\"],[\"SEATTLE WA\",\"Female\"],[\"SILICON VALLEY\",\"Male\"],[\"SILICON VALLEY\",\"Female\"],[\"TUCSON AZ\",\"Male\"],[\"TUCSON AZ\",\"Female\"],[\"WASHINGTON DC\",\"Male\"],[\"WASHINGTON DC\",\"Female\"]],\"top\":{\"__ndarray__\":\"AAAAAACAQEAAAAAAAABBQAAAAAAAAEFAAAAAAAAAQEAAAAAAAIBAQAAAAAAAAEBAAAAAAAAAQUAAAAAAAIBAQAAAAAAAAEFAAAAAAACAQEAAAAAAAIBAQAAAAAAAgEBAAAAAAACAQEAAAAAAAIBAQAAAAAAAAEFAAAAAAACAQEAAAAAAAABAQAAAAAAAAEBAAAAAAACAQEAAAAAAAIBAQAAAAAAAAEFAAAAAAACAQEAAAAAAAIBAQAAAAAAAAEFAAAAAAAAAQUAAAAAAAABBQAAAAAAAgEBAAAAAAAAAQUAAAAAAAIBAQAAAAAAAgEBAAAAAAAAAQEAAAAAAAABBQAAAAAAAAEBAAAAAAACAQEAAAAAAAABBQAAAAAAAAEFAAAAAAACAQEAAAAAAAIBAQA==\",\"dtype\":\"float64\",\"order\":\"little\",\"shape\":[38]}},\"selected\":{\"id\":\"19825\"},\"selection_policy\":{\"id\":\"19824\"}},\"id\":\"19705\",\"type\":\"ColumnDataSource\"},{\"attributes\":{},\"id\":\"19722\",\"type\":\"CategoricalTickFormatter\"},{\"attributes\":{\"x0\":{\"field\":\"x0\"},\"x1\":{\"field\":\"x1\"},\"y0\":{\"field\":\"y0\"},\"y1\":{\"field\":\"y1\"}},\"id\":\"19698\",\"type\":\"Segment\"},{\"attributes\":{\"bottom\":{\"field\":\"bottom\"},\"fill_alpha\":{\"value\":0.2},\"fill_color\":{\"field\":\"box_fill_color\",\"transform\":{\"id\":\"19704\"}},\"hatch_alpha\":{\"value\":0.2},\"line_alpha\":{\"value\":0.2},\"top\":{\"field\":\"top\"},\"width\":{\"value\":0.7},\"x\":{\"field\":\"index\"}},\"id\":\"19709\",\"type\":\"VBar\"},{\"attributes\":{\"axis_label\":\"Age\",\"coordinates\":null,\"formatter\":{\"id\":\"19725\"},\"group\":null,\"major_label_policy\":{\"id\":\"19726\"},\"ticker\":{\"id\":\"19649\"}},\"id\":\"19648\",\"type\":\"LinearAxis\"},{\"attributes\":{\"overlay\":{\"id\":\"19657\"}},\"id\":\"19655\",\"type\":\"BoxZoomTool\"},{\"attributes\":{\"bottom_units\":\"screen\",\"coordinates\":null,\"fill_alpha\":0.5,\"fill_color\":\"lightgrey\",\"group\":null,\"left_units\":\"screen\",\"level\":\"overlay\",\"line_alpha\":1.0,\"line_color\":\"black\",\"line_dash\":[4,4],\"line_width\":2,\"right_units\":\"screen\",\"syncable\":false,\"top_units\":\"screen\"},\"id\":\"19657\",\"type\":\"BoxAnnotation\"},{\"attributes\":{\"line_alpha\":{\"value\":0.2},\"x0\":{\"field\":\"x0\"},\"x1\":{\"field\":\"x1\"},\"y0\":{\"field\":\"y0\"},\"y1\":{\"field\":\"y1\"}},\"id\":\"19692\",\"type\":\"Segment\"},{\"attributes\":{},\"id\":\"19656\",\"type\":\"ResetTool\"},{\"attributes\":{\"source\":{\"id\":\"19688\"}},\"id\":\"19694\",\"type\":\"CDSView\"},{\"attributes\":{},\"id\":\"19646\",\"type\":\"CategoricalTicker\"},{\"attributes\":{},\"id\":\"19653\",\"type\":\"PanTool\"},{\"attributes\":{\"line_alpha\":{\"value\":0.2},\"x0\":{\"field\":\"x0\"},\"x1\":{\"field\":\"x1\"},\"y0\":{\"field\":\"y0\"},\"y1\":{\"field\":\"y1\"}},\"id\":\"19700\",\"type\":\"Segment\"},{\"attributes\":{},\"id\":\"19643\",\"type\":\"LinearScale\"},{\"attributes\":{\"angle\":{\"value\":0.0},\"fill_alpha\":{\"value\":1.0},\"fill_color\":{\"value\":\"black\"},\"hatch_alpha\":{\"value\":1.0},\"hatch_color\":{\"value\":\"black\"},\"hatch_scale\":{\"value\":12.0},\"hatch_weight\":{\"value\":1.0},\"line_alpha\":{\"value\":1.0},\"line_cap\":{\"value\":\"butt\"},\"line_color\":{\"value\":\"black\"},\"line_dash\":{\"value\":[]},\"line_dash_offset\":{\"value\":0},\"line_join\":{\"value\":\"bevel\"},\"line_width\":{\"value\":1},\"size\":{\"value\":4},\"x\":{\"field\":\"index\"},\"y\":{\"field\":\"Age\"}},\"id\":\"19671\",\"type\":\"Circle\"},{\"attributes\":{},\"id\":\"19723\",\"type\":\"AllLabels\"},{\"attributes\":{\"factors\":[[\"ATLANTA GA\",\"Female\"],[\"ATLANTA GA\",\"Male\"],[\"AUSTIN TX\",\"Female\"],[\"AUSTIN TX\",\"Male\"],[\"BOSTON MA\",\"Female\"],[\"BOSTON MA\",\"Male\"],[\"CHICAGO IL\",\"Female\"],[\"CHICAGO IL\",\"Male\"],[\"DALLAS TX\",\"Female\"],[\"DALLAS TX\",\"Male\"],[\"DENVER CO\",\"Female\"],[\"DENVER CO\",\"Male\"],[\"LOS ANGELES CA\",\"Female\"],[\"LOS ANGELES CA\",\"Male\"],[\"MIAMI FL\",\"Female\"],[\"MIAMI FL\",\"Male\"],[\"NASHVILLE TN\",\"Female\"],[\"NASHVILLE TN\",\"Male\"],[\"NEW YORK NY\",\"Female\"],[\"NEW YORK NY\",\"Male\"],[\"ORANGE COUNTY\",\"Female\"],[\"ORANGE COUNTY\",\"Male\"],[\"PHOENIX AZ\",\"Female\"],[\"PHOENIX AZ\",\"Male\"],[\"PITTSBURGH PA\",\"Female\"],[\"PITTSBURGH PA\",\"Male\"],[\"SACRAMENTO CA\",\"Female\"],[\"SACRAMENTO CA\",\"Male\"],[\"SAN DIEGO CA\",\"Female\"],[\"SAN DIEGO CA\",\"Male\"],[\"SEATTLE WA\",\"Female\"],[\"SEATTLE WA\",\"Male\"],[\"SILICON VALLEY\",\"Female\"],[\"SILICON VALLEY\",\"Male\"],[\"TUCSON AZ\",\"Female\"],[\"TUCSON AZ\",\"Male\"],[\"WASHINGTON DC\",\"Female\"],[\"WASHINGTON DC\",\"Male\"]],\"tags\":[[[\"City\",\"City\",null],[\"Gender\",\"Gender\",null]]]},\"id\":\"19634\",\"type\":\"FactorRange\"},{\"attributes\":{\"line_alpha\":{\"value\":0.2},\"x0\":{\"field\":\"x0\"},\"x1\":{\"field\":\"x1\"},\"y0\":{\"field\":\"y0\"},\"y1\":{\"field\":\"y1\"}},\"id\":\"19684\",\"type\":\"Segment\"},{\"attributes\":{},\"id\":\"19726\",\"type\":\"AllLabels\"},{\"attributes\":{\"data\":{\"x0\":[[\"ATLANTA GA\",\"Male\",-0.2],[\"ATLANTA GA\",\"Female\",-0.2],[\"AUSTIN TX\",\"Male\",-0.2],[\"AUSTIN TX\",\"Female\",-0.2],[\"BOSTON MA\",\"Male\",-0.2],[\"BOSTON MA\",\"Female\",-0.2],[\"CHICAGO IL\",\"Male\",-0.2],[\"CHICAGO IL\",\"Female\",-0.2],[\"DALLAS TX\",\"Male\",-0.2],[\"DALLAS TX\",\"Female\",-0.2],[\"DENVER CO\",\"Male\",-0.2],[\"DENVER CO\",\"Female\",-0.2],[\"LOS ANGELES CA\",\"Male\",-0.2],[\"LOS ANGELES CA\",\"Female\",-0.2],[\"MIAMI FL\",\"Male\",-0.2],[\"MIAMI FL\",\"Female\",-0.2],[\"NASHVILLE TN\",\"Male\",-0.2],[\"NASHVILLE TN\",\"Female\",-0.2],[\"NEW YORK NY\",\"Male\",-0.2],[\"NEW YORK NY\",\"Female\",-0.2],[\"ORANGE COUNTY\",\"Male\",-0.2],[\"ORANGE COUNTY\",\"Female\",-0.2],[\"PHOENIX AZ\",\"Male\",-0.2],[\"PHOENIX AZ\",\"Female\",-0.2],[\"PITTSBURGH PA\",\"Male\",-0.2],[\"PITTSBURGH PA\",\"Female\",-0.2],[\"SACRAMENTO CA\",\"Male\",-0.2],[\"SACRAMENTO CA\",\"Female\",-0.2],[\"SAN DIEGO CA\",\"Male\",-0.2],[\"SAN DIEGO CA\",\"Female\",-0.2],[\"SEATTLE WA\",\"Male\",-0.2],[\"SEATTLE WA\",\"Female\",-0.2],[\"SILICON VALLEY\",\"Male\",-0.2],[\"SILICON VALLEY\",\"Female\",-0.2],[\"TUCSON AZ\",\"Male\",-0.2],[\"TUCSON AZ\",\"Female\",-0.2],[\"WASHINGTON DC\",\"Male\",-0.2],[\"WASHINGTON DC\",\"Female\",-0.2]],\"x1\":[[\"ATLANTA GA\",\"Male\",0.2],[\"ATLANTA GA\",\"Female\",0.2],[\"AUSTIN TX\",\"Male\",0.2],[\"AUSTIN TX\",\"Female\",0.2],[\"BOSTON MA\",\"Male\",0.2],[\"BOSTON MA\",\"Female\",0.2],[\"CHICAGO IL\",\"Male\",0.2],[\"CHICAGO IL\",\"Female\",0.2],[\"DALLAS TX\",\"Male\",0.2],[\"DALLAS TX\",\"Female\",0.2],[\"DENVER CO\",\"Male\",0.2],[\"DENVER CO\",\"Female\",0.2],[\"LOS ANGELES CA\",\"Male\",0.2],[\"LOS ANGELES CA\",\"Female\",0.2],[\"MIAMI FL\",\"Male\",0.2],[\"MIAMI FL\",\"Female\",0.2],[\"NASHVILLE TN\",\"Male\",0.2],[\"NASHVILLE TN\",\"Female\",0.2],[\"NEW YORK NY\",\"Male\",0.2],[\"NEW YORK NY\",\"Female\",0.2],[\"ORANGE COUNTY\",\"Male\",0.2],[\"ORANGE COUNTY\",\"Female\",0.2],[\"PHOENIX AZ\",\"Male\",0.2],[\"PHOENIX AZ\",\"Female\",0.2],[\"PITTSBURGH PA\",\"Male\",0.2],[\"PITTSBURGH PA\",\"Female\",0.2],[\"SACRAMENTO CA\",\"Male\",0.2],[\"SACRAMENTO CA\",\"Female\",0.2],[\"SAN DIEGO CA\",\"Male\",0.2],[\"SAN DIEGO CA\",\"Female\",0.2],[\"SEATTLE WA\",\"Male\",0.2],[\"SEATTLE WA\",\"Female\",0.2],[\"SILICON VALLEY\",\"Male\",0.2],[\"SILICON VALLEY\",\"Female\",0.2],[\"TUCSON AZ\",\"Male\",0.2],[\"TUCSON AZ\",\"Female\",0.2],[\"WASHINGTON DC\",\"Male\",0.2],[\"WASHINGTON DC\",\"Female\",0.2]],\"y0\":[18,18,18,18,18,18,18,18,18,18,18,18,18,18,18,18,18,18,18,18,18,18,18,18,18,18,18,18,18,18,18,18,18,18,18,18,18,18],\"y1\":[18,18,18,18,18,18,18,18,18,18,18,18,18,18,18,18,18,18,18,18,18,18,18,18,18,18,18,18,18,18,18,18,18,18,18,18,18,18]},\"selected\":{\"id\":\"19821\"},\"selection_policy\":{\"id\":\"19820\"}},\"id\":\"19688\",\"type\":\"ColumnDataSource\"},{\"attributes\":{\"fill_color\":{\"value\":\"black\"},\"x\":{\"field\":\"index\"},\"y\":{\"field\":\"Age\"}},\"id\":\"19666\",\"type\":\"Circle\"},{\"attributes\":{\"fill_alpha\":{\"value\":0.1},\"fill_color\":{\"value\":\"black\"},\"hatch_alpha\":{\"value\":0.1},\"line_alpha\":{\"value\":0.1},\"x\":{\"field\":\"index\"},\"y\":{\"field\":\"Age\"}},\"id\":\"19667\",\"type\":\"Circle\"},{\"attributes\":{\"line_alpha\":{\"value\":0.1},\"x0\":{\"field\":\"x0\"},\"x1\":{\"field\":\"x1\"},\"y0\":{\"field\":\"y0\"},\"y1\":{\"field\":\"y1\"}},\"id\":\"19683\",\"type\":\"Segment\"},{\"attributes\":{},\"id\":\"19826\",\"type\":\"UnionRenderers\"},{\"attributes\":{},\"id\":\"19824\",\"type\":\"UnionRenderers\"},{\"attributes\":{\"bottom\":{\"field\":\"bottom\"},\"fill_alpha\":{\"value\":1.0},\"fill_color\":{\"field\":\"box_fill_color\",\"transform\":{\"id\":\"19704\"}},\"hatch_alpha\":{\"value\":1.0},\"hatch_color\":{\"value\":\"black\"},\"hatch_scale\":{\"value\":12.0},\"hatch_weight\":{\"value\":1.0},\"line_alpha\":{\"value\":1.0},\"line_cap\":{\"value\":\"butt\"},\"line_color\":{\"value\":\"black\"},\"line_dash\":{\"value\":[]},\"line_dash_offset\":{\"value\":0},\"line_join\":{\"value\":\"bevel\"},\"line_width\":{\"value\":1},\"top\":{\"field\":\"top\"},\"width\":{\"value\":0.7},\"x\":{\"field\":\"index\"}},\"id\":\"19720\",\"type\":\"VBar\"},{\"attributes\":{},\"id\":\"19827\",\"type\":\"Selection\"},{\"attributes\":{\"source\":{\"id\":\"19672\"}},\"id\":\"19678\",\"type\":\"CDSView\"},{\"attributes\":{},\"id\":\"19825\",\"type\":\"Selection\"},{\"attributes\":{},\"id\":\"19822\",\"type\":\"UnionRenderers\"},{\"attributes\":{},\"id\":\"19820\",\"type\":\"UnionRenderers\"},{\"attributes\":{\"fill_alpha\":{\"value\":0.2},\"fill_color\":{\"value\":\"black\"},\"hatch_alpha\":{\"value\":0.2},\"line_alpha\":{\"value\":0.2},\"x\":{\"field\":\"index\"},\"y\":{\"field\":\"Age\"}},\"id\":\"19668\",\"type\":\"Circle\"},{\"attributes\":{\"data\":{\"Age\":[63,63,65,65,65,65,65,65,64,65,64,64,64,64,63,63,63,63,63,65,65,65,65,64,64,64,64,65,64,64,64,63,63,64,64,64,64,64,64,64,63,63,63,64,64,64,64,65,65,63,63,65,65,65,65,65,64,64,64,64,64,64,64,64,64,64,64,64,64,64,64,64,64,64,64,64,64,64,64,65,65,65,65,65,65,65,65,65,65,65,65,65,65,65,63,63,63,63,63,63,63,63,63,63,63,63,63,64,64,64,64,64,64,64,64,64,64,64,64,64,64,65,65,65,65,65,64,64,64,64,64,64,64,64,64,64,64,64,64,64,64,64,64,64,64,65,65,65,65,65,65,65,65,65,65,65,64,64,64,64,64,64,64,64,64,64,64,64,64,64,64,64,64,64,64,64,64,64,64,64,64,64,64,64,65,65,65,65,65,65,65,65,65,65,65,65,65,65,65,65,65,64,64,64,64,64,64,64,64,64,64,64,64,63,63,63,63,63,63,63,63,63,63,64,64,64,64,64,64,64,64,64,64,64,64,64,64,64,64,64,64,64,64,64,64,64,63,63,63,63,63,63,63,63,63,63,63,63,63,63,63,65,65,65,65,65,65,65,65,63,63,63,63,63,63,63,63,63,63,63,63,63,63,63,63,63,63,65,65,65,65,65,65,65,65,65,65,65,65,65,65,65,65,65,63,63,63,63,63,63,63,63,63,63,63,63,63,63,63,63,63,63,63,63,63,65,65,65,65,65,65,65,65,65,65,65,65,65,65,65,64,64,64,64,64,64,64,64,64,63,63,63,63,63,63,63,63,63,63,63,63,63,63,63,63,64,64,64,64,64,64,64,64,64,64,64,64,64,63,63,63,63,63,63,63,63,63,63,63,63,63,63,63,63,63,63,64,64,64,64,64,64,64,64,64,63,63,63,63,63,63,63,64,64,64,64,64,64,64,64,64,65,65,65,65,65,65,65,65,65,65,65,65,65,65,65,65,65,65,65,65,65,65,63,63,63,63,63,63,63,63,63,63,63,63,63,64,64,64,64,64,64,64,65,65,65,65,65,65,65,65,65,65,65,63,63,63,63,63,63,63,63,63,63,63,65,65,65,65,65,65,65,65,65,65,65,63,63,63,63,63,63,63,63,64,64,64,64,64,64,64,64,64,63,63,63,63,63,63,63,63,63,63,63,65,65,65,65,65,65,65,65,65,65,65,65,65,65,65,65,65,65,65,65,65,65,65,65,65,65,65,65,65,65,64,64,64,64,64,64,63,63,63,63,63,65,65,65,65,65,63,63,63,63,63,63,63,64,64,63,63,63,65,64,65,65,63,63,63,64,64,64,63,64,64,65,63,63,64,65,65,65,65,64,64,64,63,63,63,64,65,65,65,65,65,65,65,65,65,65,65,65,65,65,65,65,65,64,64,65,65,65,64,64,65,64,64,64,64,64,64,64,65,65,65,64,64,64,65,63,64,65,65,65,65,63,63,63,63,65,65,65,65,63,65,65,65,65,65,65,65,65,65,65,65,65,63,63,63,63,63,63,63,63,64,64,64,64,64,64,64,64,64,65,65,65,65,65,65,65,64,64,64,64,64,64,64,64,64,64,64,64,64,64,64,64,64,64,64,64,64,64,64,64,64,64,64,64,64,64,64,64,64,64,65,65,65,65,65,65,65,65,65,65,65,65,65,65,65,65,65,65,65,65,65,65,65,65,65,65,65,65,65,65,65,65,65,65,65,65,65,65,65,65,63,63,63,63,63,63,63,63,63,63,63,63,63,63,63,63,63,63,63,63,63,63,63,63,63,63,63,63,63,63,63,63,63,63,63,63,63,63,63,63,63,63,63,63,63,63,64,64,64,64,64,64,64,64,64,63,63,63,63,63,63,63,63,63,63,63,63,63,63,63,63,63,63,63,63,65,65,65,65,63,63,63,63,63,63,63,64,64,64,64,64,64,64,64,64,64,64,63,63,64,64,64,64,63,63,63,63,63,64,64,64,64,64,64,64,65,65,65,65,65,63,63,63,63,63,63,63,63,63,63,63,63,63,63,63,63,63,65,65,65,65,65,65,65,63,63,63,63,63,63,63,63,63,63,63,63,63,63,63,63,63,63,65,65,65,65,65,65,65,65,65,65,65,65,65,65,65,65,65,65,65,65,63,63,63,63,63,63,63,63,63,63,65,65,65,64,64,64,64,64,64,64,64,64,64,64,64,65,65,65,63,63,63,63,63,63,63,63,65,65,65,65,65,65,64,63,63,63,63,63,63,65,64,64,63,65,65,63,63,64,64,65,64,64,64,64,64,64,64,64,64,64,64,64,64,64,64,64,64,64,64,64,64,64,64,64,64,64,64,64,64,64,64,64,64,64,64,64,64,64,64,64,64,64,64,64,64,64,64,64,64,64,64,64,64,65,65,65,65,65,65,65,65,65,65,65,65,65,65,65,65,65,65,65,64,64,64,64,64,64,64,64,64,64,64,64,64,64,64,64,64,64,64,64,64,64,64,64,64,64,64,64,64,64,64,64,64,64,64,64,64,64,64,64,64,65,65,65,65,65,65,65,65,65,65,65,65,65,65,65,65,65,65,64,64,64,64,64,64,64,64,64,64,64,64,64,64,64,64,64,64,64,64,64,64,64,64,64,64,64,64,64,64,64,64,64,64,64,64,64,64,65,65,65,65,65,65,65,65,65,65,65,65,65,65,65,65,65,65,65,65,65,65,65,65,65,65,65,65,65,65,65,65,65,65,65,64,64,64,64,64,64,64,64,64,64,64,64,64,64,64,64,64,64,64,64,64,64,64,64,64,64,64,64,64,64,64,64,64,65,65,65,65,65,65,65,65,65,65,65,65,65,65,65,65,65,65,65,65,65,65,65,65,64,64,64,64,64,64,64,64,64,64,64,64,64,64,64,64,64,64,64,64,64,64,64,64,64,64,65,65,65,65,65,65,65,65,65,65,65,65,65,65,65,65,65,65,65,65,65,65,65,65,65,65,65,65,65,65,64,64,64,64,64,64,64,64,64,64,64,64,64,64,64,64,64,64,64,64,64,64,64,64,64,64,64,64,64,64,64,64,64,64,64,64,65,65,65,65,65,65,65,65,65,65,65,65,65,65,65,65,65,65,65,65,65,65,65,65,65,65,65,65,65,65,65,65,65,65,65,65,65,65,65,65,65,65,65,65,65,65,65,65,65,65,65,65,64,64,64,64,64,64,64,64,64,64],\"index\":[[\"AUSTIN TX\",\"Female\"],[\"AUSTIN TX\",\"Female\"],[\"AUSTIN TX\",\"Female\"],[\"AUSTIN TX\",\"Female\"],[\"AUSTIN TX\",\"Female\"],[\"AUSTIN TX\",\"Female\"],[\"AUSTIN TX\",\"Female\"],[\"AUSTIN TX\",\"Female\"],[\"AUSTIN TX\",\"Female\"],[\"AUSTIN TX\",\"Female\"],[\"AUSTIN TX\",\"Female\"],[\"AUSTIN TX\",\"Female\"],[\"AUSTIN TX\",\"Female\"],[\"AUSTIN TX\",\"Female\"],[\"AUSTIN TX\",\"Female\"],[\"AUSTIN TX\",\"Female\"],[\"AUSTIN TX\",\"Female\"],[\"AUSTIN TX\",\"Female\"],[\"AUSTIN TX\",\"Female\"],[\"AUSTIN TX\",\"Female\"],[\"AUSTIN TX\",\"Female\"],[\"AUSTIN TX\",\"Female\"],[\"AUSTIN TX\",\"Female\"],[\"AUSTIN TX\",\"Female\"],[\"AUSTIN TX\",\"Female\"],[\"AUSTIN TX\",\"Female\"],[\"AUSTIN TX\",\"Female\"],[\"AUSTIN TX\",\"Female\"],[\"AUSTIN TX\",\"Female\"],[\"AUSTIN TX\",\"Female\"],[\"AUSTIN TX\",\"Female\"],[\"AUSTIN TX\",\"Female\"],[\"AUSTIN TX\",\"Female\"],[\"AUSTIN TX\",\"Female\"],[\"AUSTIN TX\",\"Female\"],[\"AUSTIN TX\",\"Female\"],[\"AUSTIN TX\",\"Female\"],[\"AUSTIN TX\",\"Female\"],[\"AUSTIN TX\",\"Female\"],[\"AUSTIN TX\",\"Female\"],[\"AUSTIN TX\",\"Female\"],[\"AUSTIN TX\",\"Female\"],[\"AUSTIN TX\",\"Female\"],[\"AUSTIN TX\",\"Female\"],[\"AUSTIN TX\",\"Female\"],[\"AUSTIN TX\",\"Female\"],[\"AUSTIN TX\",\"Female\"],[\"AUSTIN TX\",\"Female\"],[\"AUSTIN TX\",\"Female\"],[\"AUSTIN TX\",\"Female\"],[\"AUSTIN TX\",\"Female\"],[\"AUSTIN TX\",\"Female\"],[\"AUSTIN TX\",\"Female\"],[\"AUSTIN TX\",\"Female\"],[\"AUSTIN TX\",\"Female\"],[\"AUSTIN TX\",\"Female\"],[\"BOSTON MA\",\"Female\"],[\"BOSTON MA\",\"Female\"],[\"BOSTON MA\",\"Female\"],[\"BOSTON MA\",\"Female\"],[\"BOSTON MA\",\"Female\"],[\"BOSTON MA\",\"Female\"],[\"BOSTON MA\",\"Female\"],[\"BOSTON MA\",\"Female\"],[\"BOSTON MA\",\"Female\"],[\"BOSTON MA\",\"Female\"],[\"BOSTON MA\",\"Female\"],[\"BOSTON MA\",\"Female\"],[\"BOSTON MA\",\"Female\"],[\"BOSTON MA\",\"Female\"],[\"BOSTON MA\",\"Female\"],[\"BOSTON MA\",\"Female\"],[\"BOSTON MA\",\"Female\"],[\"BOSTON MA\",\"Female\"],[\"BOSTON MA\",\"Female\"],[\"BOSTON MA\",\"Female\"],[\"BOSTON MA\",\"Female\"],[\"BOSTON MA\",\"Female\"],[\"BOSTON MA\",\"Female\"],[\"BOSTON MA\",\"Female\"],[\"BOSTON MA\",\"Female\"],[\"BOSTON MA\",\"Female\"],[\"BOSTON MA\",\"Female\"],[\"BOSTON MA\",\"Female\"],[\"BOSTON MA\",\"Female\"],[\"BOSTON MA\",\"Female\"],[\"BOSTON MA\",\"Female\"],[\"BOSTON MA\",\"Female\"],[\"BOSTON MA\",\"Female\"],[\"BOSTON MA\",\"Female\"],[\"BOSTON MA\",\"Female\"],[\"BOSTON MA\",\"Female\"],[\"BOSTON MA\",\"Female\"],[\"BOSTON MA\",\"Female\"],[\"BOSTON MA\",\"Female\"],[\"BOSTON MA\",\"Female\"],[\"BOSTON MA\",\"Female\"],[\"BOSTON MA\",\"Female\"],[\"BOSTON MA\",\"Female\"],[\"BOSTON MA\",\"Female\"],[\"BOSTON MA\",\"Female\"],[\"BOSTON MA\",\"Female\"],[\"BOSTON MA\",\"Female\"],[\"BOSTON MA\",\"Female\"],[\"BOSTON MA\",\"Female\"],[\"BOSTON MA\",\"Female\"],[\"BOSTON MA\",\"Female\"],[\"BOSTON MA\",\"Female\"],[\"BOSTON MA\",\"Female\"],[\"BOSTON MA\",\"Female\"],[\"BOSTON MA\",\"Female\"],[\"BOSTON MA\",\"Female\"],[\"BOSTON MA\",\"Female\"],[\"BOSTON MA\",\"Female\"],[\"BOSTON MA\",\"Female\"],[\"BOSTON MA\",\"Female\"],[\"BOSTON MA\",\"Female\"],[\"BOSTON MA\",\"Female\"],[\"BOSTON MA\",\"Female\"],[\"BOSTON MA\",\"Female\"],[\"BOSTON MA\",\"Female\"],[\"BOSTON MA\",\"Female\"],[\"BOSTON MA\",\"Female\"],[\"BOSTON MA\",\"Female\"],[\"BOSTON MA\",\"Female\"],[\"BOSTON MA\",\"Female\"],[\"BOSTON MA\",\"Female\"],[\"BOSTON MA\",\"Female\"],[\"BOSTON MA\",\"Female\"],[\"BOSTON MA\",\"Female\"],[\"BOSTON MA\",\"Female\"],[\"BOSTON MA\",\"Female\"],[\"BOSTON MA\",\"Female\"],[\"BOSTON MA\",\"Female\"],[\"BOSTON MA\",\"Female\"],[\"BOSTON MA\",\"Female\"],[\"BOSTON MA\",\"Female\"],[\"BOSTON MA\",\"Female\"],[\"BOSTON MA\",\"Female\"],[\"BOSTON MA\",\"Female\"],[\"BOSTON MA\",\"Female\"],[\"BOSTON MA\",\"Female\"],[\"BOSTON MA\",\"Female\"],[\"BOSTON MA\",\"Female\"],[\"BOSTON MA\",\"Female\"],[\"BOSTON MA\",\"Female\"],[\"BOSTON MA\",\"Female\"],[\"BOSTON MA\",\"Female\"],[\"BOSTON MA\",\"Female\"],[\"BOSTON MA\",\"Female\"],[\"BOSTON MA\",\"Female\"],[\"BOSTON MA\",\"Female\"],[\"BOSTON MA\",\"Female\"],[\"BOSTON MA\",\"Female\"],[\"BOSTON MA\",\"Female\"],[\"BOSTON MA\",\"Female\"],[\"BOSTON MA\",\"Female\"],[\"BOSTON MA\",\"Female\"],[\"BOSTON MA\",\"Female\"],[\"BOSTON MA\",\"Female\"],[\"BOSTON MA\",\"Female\"],[\"BOSTON MA\",\"Female\"],[\"BOSTON MA\",\"Female\"],[\"BOSTON MA\",\"Female\"],[\"BOSTON MA\",\"Female\"],[\"BOSTON MA\",\"Female\"],[\"BOSTON MA\",\"Female\"],[\"BOSTON MA\",\"Female\"],[\"BOSTON MA\",\"Female\"],[\"BOSTON MA\",\"Female\"],[\"BOSTON MA\",\"Female\"],[\"BOSTON MA\",\"Female\"],[\"BOSTON MA\",\"Female\"],[\"BOSTON MA\",\"Female\"],[\"BOSTON MA\",\"Female\"],[\"BOSTON MA\",\"Female\"],[\"BOSTON MA\",\"Female\"],[\"BOSTON MA\",\"Female\"],[\"BOSTON MA\",\"Female\"],[\"BOSTON MA\",\"Female\"],[\"BOSTON MA\",\"Female\"],[\"BOSTON MA\",\"Female\"],[\"BOSTON MA\",\"Female\"],[\"BOSTON MA\",\"Female\"],[\"BOSTON MA\",\"Female\"],[\"BOSTON MA\",\"Female\"],[\"BOSTON MA\",\"Female\"],[\"BOSTON MA\",\"Female\"],[\"BOSTON MA\",\"Female\"],[\"BOSTON MA\",\"Female\"],[\"BOSTON MA\",\"Female\"],[\"BOSTON MA\",\"Female\"],[\"BOSTON MA\",\"Female\"],[\"BOSTON MA\",\"Female\"],[\"BOSTON MA\",\"Female\"],[\"BOSTON MA\",\"Female\"],[\"BOSTON MA\",\"Female\"],[\"BOSTON MA\",\"Female\"],[\"BOSTON MA\",\"Female\"],[\"BOSTON MA\",\"Female\"],[\"BOSTON MA\",\"Female\"],[\"BOSTON MA\",\"Female\"],[\"BOSTON MA\",\"Female\"],[\"BOSTON MA\",\"Female\"],[\"BOSTON MA\",\"Female\"],[\"BOSTON MA\",\"Female\"],[\"BOSTON MA\",\"Female\"],[\"BOSTON MA\",\"Female\"],[\"BOSTON MA\",\"Female\"],[\"BOSTON MA\",\"Female\"],[\"BOSTON MA\",\"Female\"],[\"BOSTON MA\",\"Female\"],[\"BOSTON MA\",\"Female\"],[\"BOSTON MA\",\"Female\"],[\"BOSTON MA\",\"Female\"],[\"BOSTON MA\",\"Female\"],[\"BOSTON MA\",\"Female\"],[\"BOSTON MA\",\"Female\"],[\"BOSTON MA\",\"Female\"],[\"BOSTON MA\",\"Female\"],[\"BOSTON MA\",\"Female\"],[\"BOSTON MA\",\"Female\"],[\"BOSTON MA\",\"Female\"],[\"BOSTON MA\",\"Female\"],[\"BOSTON MA\",\"Female\"],[\"BOSTON MA\",\"Female\"],[\"BOSTON MA\",\"Female\"],[\"BOSTON MA\",\"Female\"],[\"BOSTON MA\",\"Female\"],[\"BOSTON MA\",\"Female\"],[\"BOSTON MA\",\"Female\"],[\"BOSTON MA\",\"Female\"],[\"BOSTON MA\",\"Female\"],[\"BOSTON MA\",\"Female\"],[\"BOSTON MA\",\"Female\"],[\"BOSTON MA\",\"Female\"],[\"BOSTON MA\",\"Female\"],[\"BOSTON MA\",\"Female\"],[\"BOSTON MA\",\"Female\"],[\"BOSTON MA\",\"Female\"],[\"BOSTON MA\",\"Female\"],[\"BOSTON MA\",\"Female\"],[\"BOSTON MA\",\"Female\"],[\"BOSTON MA\",\"Female\"],[\"BOSTON MA\",\"Female\"],[\"BOSTON MA\",\"Female\"],[\"BOSTON MA\",\"Female\"],[\"BOSTON MA\",\"Female\"],[\"BOSTON MA\",\"Female\"],[\"BOSTON MA\",\"Female\"],[\"BOSTON MA\",\"Female\"],[\"BOSTON MA\",\"Female\"],[\"BOSTON MA\",\"Female\"],[\"BOSTON MA\",\"Female\"],[\"BOSTON MA\",\"Female\"],[\"BOSTON MA\",\"Female\"],[\"BOSTON MA\",\"Female\"],[\"BOSTON MA\",\"Female\"],[\"BOSTON MA\",\"Female\"],[\"BOSTON MA\",\"Female\"],[\"BOSTON MA\",\"Female\"],[\"BOSTON MA\",\"Female\"],[\"BOSTON MA\",\"Female\"],[\"BOSTON MA\",\"Female\"],[\"BOSTON MA\",\"Female\"],[\"BOSTON MA\",\"Female\"],[\"BOSTON MA\",\"Female\"],[\"BOSTON MA\",\"Female\"],[\"BOSTON MA\",\"Female\"],[\"BOSTON MA\",\"Female\"],[\"BOSTON MA\",\"Female\"],[\"BOSTON MA\",\"Female\"],[\"BOSTON MA\",\"Female\"],[\"BOSTON MA\",\"Female\"],[\"BOSTON MA\",\"Female\"],[\"BOSTON MA\",\"Female\"],[\"BOSTON MA\",\"Female\"],[\"BOSTON MA\",\"Female\"],[\"BOSTON MA\",\"Female\"],[\"BOSTON MA\",\"Female\"],[\"BOSTON MA\",\"Female\"],[\"BOSTON MA\",\"Female\"],[\"BOSTON MA\",\"Female\"],[\"BOSTON MA\",\"Female\"],[\"BOSTON MA\",\"Female\"],[\"BOSTON MA\",\"Female\"],[\"BOSTON MA\",\"Female\"],[\"BOSTON MA\",\"Female\"],[\"BOSTON MA\",\"Female\"],[\"BOSTON MA\",\"Female\"],[\"BOSTON MA\",\"Female\"],[\"BOSTON MA\",\"Female\"],[\"BOSTON MA\",\"Female\"],[\"BOSTON MA\",\"Female\"],[\"BOSTON MA\",\"Female\"],[\"BOSTON MA\",\"Female\"],[\"BOSTON MA\",\"Female\"],[\"BOSTON MA\",\"Female\"],[\"BOSTON MA\",\"Female\"],[\"BOSTON MA\",\"Female\"],[\"BOSTON MA\",\"Female\"],[\"BOSTON MA\",\"Female\"],[\"BOSTON MA\",\"Female\"],[\"BOSTON MA\",\"Female\"],[\"BOSTON MA\",\"Female\"],[\"BOSTON MA\",\"Female\"],[\"BOSTON MA\",\"Female\"],[\"BOSTON MA\",\"Female\"],[\"BOSTON MA\",\"Female\"],[\"BOSTON MA\",\"Female\"],[\"BOSTON MA\",\"Female\"],[\"BOSTON MA\",\"Female\"],[\"BOSTON MA\",\"Female\"],[\"BOSTON MA\",\"Female\"],[\"BOSTON MA\",\"Female\"],[\"BOSTON MA\",\"Female\"],[\"BOSTON MA\",\"Female\"],[\"BOSTON MA\",\"Female\"],[\"BOSTON MA\",\"Female\"],[\"BOSTON MA\",\"Female\"],[\"BOSTON MA\",\"Female\"],[\"BOSTON MA\",\"Female\"],[\"BOSTON MA\",\"Female\"],[\"BOSTON MA\",\"Female\"],[\"BOSTON MA\",\"Female\"],[\"BOSTON MA\",\"Female\"],[\"BOSTON MA\",\"Female\"],[\"BOSTON MA\",\"Female\"],[\"BOSTON MA\",\"Female\"],[\"BOSTON MA\",\"Female\"],[\"BOSTON MA\",\"Female\"],[\"BOSTON MA\",\"Female\"],[\"BOSTON MA\",\"Female\"],[\"BOSTON MA\",\"Female\"],[\"BOSTON MA\",\"Female\"],[\"BOSTON MA\",\"Female\"],[\"BOSTON MA\",\"Female\"],[\"BOSTON MA\",\"Female\"],[\"BOSTON MA\",\"Female\"],[\"BOSTON MA\",\"Female\"],[\"BOSTON MA\",\"Female\"],[\"BOSTON MA\",\"Female\"],[\"BOSTON MA\",\"Female\"],[\"BOSTON MA\",\"Female\"],[\"BOSTON MA\",\"Female\"],[\"BOSTON MA\",\"Female\"],[\"BOSTON MA\",\"Female\"],[\"BOSTON MA\",\"Female\"],[\"BOSTON MA\",\"Female\"],[\"BOSTON MA\",\"Female\"],[\"BOSTON MA\",\"Female\"],[\"BOSTON MA\",\"Female\"],[\"BOSTON MA\",\"Female\"],[\"BOSTON MA\",\"Female\"],[\"BOSTON MA\",\"Female\"],[\"BOSTON MA\",\"Female\"],[\"BOSTON MA\",\"Female\"],[\"BOSTON MA\",\"Female\"],[\"BOSTON MA\",\"Female\"],[\"BOSTON MA\",\"Female\"],[\"BOSTON MA\",\"Female\"],[\"BOSTON MA\",\"Female\"],[\"BOSTON MA\",\"Female\"],[\"BOSTON MA\",\"Female\"],[\"BOSTON MA\",\"Female\"],[\"BOSTON MA\",\"Female\"],[\"BOSTON MA\",\"Female\"],[\"BOSTON MA\",\"Female\"],[\"BOSTON MA\",\"Female\"],[\"BOSTON MA\",\"Female\"],[\"BOSTON MA\",\"Female\"],[\"BOSTON MA\",\"Female\"],[\"BOSTON MA\",\"Female\"],[\"BOSTON MA\",\"Female\"],[\"BOSTON MA\",\"Female\"],[\"BOSTON MA\",\"Female\"],[\"BOSTON MA\",\"Female\"],[\"BOSTON MA\",\"Female\"],[\"BOSTON MA\",\"Female\"],[\"BOSTON MA\",\"Female\"],[\"BOSTON MA\",\"Female\"],[\"BOSTON MA\",\"Female\"],[\"BOSTON MA\",\"Female\"],[\"BOSTON MA\",\"Female\"],[\"BOSTON MA\",\"Female\"],[\"BOSTON MA\",\"Female\"],[\"BOSTON MA\",\"Female\"],[\"BOSTON MA\",\"Female\"],[\"BOSTON MA\",\"Female\"],[\"BOSTON MA\",\"Female\"],[\"BOSTON MA\",\"Female\"],[\"BOSTON MA\",\"Female\"],[\"BOSTON MA\",\"Female\"],[\"BOSTON MA\",\"Female\"],[\"BOSTON MA\",\"Female\"],[\"BOSTON MA\",\"Female\"],[\"BOSTON MA\",\"Female\"],[\"BOSTON MA\",\"Female\"],[\"BOSTON MA\",\"Female\"],[\"BOSTON MA\",\"Female\"],[\"BOSTON MA\",\"Female\"],[\"BOSTON MA\",\"Female\"],[\"BOSTON MA\",\"Female\"],[\"BOSTON MA\",\"Female\"],[\"BOSTON MA\",\"Female\"],[\"BOSTON MA\",\"Female\"],[\"BOSTON MA\",\"Female\"],[\"BOSTON MA\",\"Female\"],[\"BOSTON MA\",\"Female\"],[\"BOSTON MA\",\"Female\"],[\"BOSTON MA\",\"Female\"],[\"BOSTON MA\",\"Female\"],[\"BOSTON MA\",\"Female\"],[\"BOSTON MA\",\"Female\"],[\"BOSTON MA\",\"Female\"],[\"BOSTON MA\",\"Female\"],[\"BOSTON MA\",\"Female\"],[\"BOSTON MA\",\"Female\"],[\"BOSTON MA\",\"Female\"],[\"BOSTON MA\",\"Female\"],[\"BOSTON MA\",\"Female\"],[\"BOSTON MA\",\"Female\"],[\"BOSTON MA\",\"Female\"],[\"BOSTON MA\",\"Female\"],[\"BOSTON MA\",\"Female\"],[\"BOSTON MA\",\"Female\"],[\"BOSTON MA\",\"Female\"],[\"BOSTON MA\",\"Female\"],[\"BOSTON MA\",\"Female\"],[\"BOSTON MA\",\"Female\"],[\"BOSTON MA\",\"Female\"],[\"BOSTON MA\",\"Female\"],[\"BOSTON MA\",\"Female\"],[\"BOSTON MA\",\"Female\"],[\"BOSTON MA\",\"Female\"],[\"BOSTON MA\",\"Female\"],[\"BOSTON MA\",\"Female\"],[\"BOSTON MA\",\"Female\"],[\"BOSTON MA\",\"Female\"],[\"BOSTON MA\",\"Female\"],[\"BOSTON MA\",\"Female\"],[\"BOSTON MA\",\"Female\"],[\"BOSTON MA\",\"Female\"],[\"BOSTON MA\",\"Female\"],[\"BOSTON MA\",\"Female\"],[\"BOSTON MA\",\"Female\"],[\"BOSTON MA\",\"Female\"],[\"BOSTON MA\",\"Female\"],[\"BOSTON MA\",\"Female\"],[\"BOSTON MA\",\"Female\"],[\"BOSTON MA\",\"Female\"],[\"BOSTON MA\",\"Female\"],[\"BOSTON MA\",\"Female\"],[\"BOSTON MA\",\"Female\"],[\"BOSTON MA\",\"Female\"],[\"BOSTON MA\",\"Female\"],[\"BOSTON MA\",\"Female\"],[\"BOSTON MA\",\"Female\"],[\"BOSTON MA\",\"Female\"],[\"BOSTON MA\",\"Female\"],[\"BOSTON MA\",\"Female\"],[\"BOSTON MA\",\"Female\"],[\"BOSTON MA\",\"Female\"],[\"BOSTON MA\",\"Female\"],[\"BOSTON MA\",\"Female\"],[\"BOSTON MA\",\"Female\"],[\"BOSTON MA\",\"Female\"],[\"BOSTON MA\",\"Female\"],[\"BOSTON MA\",\"Female\"],[\"BOSTON MA\",\"Female\"],[\"BOSTON MA\",\"Female\"],[\"BOSTON MA\",\"Female\"],[\"BOSTON MA\",\"Female\"],[\"BOSTON MA\",\"Female\"],[\"BOSTON MA\",\"Female\"],[\"BOSTON MA\",\"Female\"],[\"BOSTON MA\",\"Female\"],[\"BOSTON MA\",\"Female\"],[\"BOSTON MA\",\"Female\"],[\"BOSTON MA\",\"Female\"],[\"BOSTON MA\",\"Female\"],[\"BOSTON MA\",\"Female\"],[\"BOSTON MA\",\"Female\"],[\"BOSTON MA\",\"Female\"],[\"BOSTON MA\",\"Female\"],[\"BOSTON MA\",\"Female\"],[\"BOSTON MA\",\"Female\"],[\"BOSTON MA\",\"Female\"],[\"BOSTON MA\",\"Female\"],[\"BOSTON MA\",\"Female\"],[\"BOSTON MA\",\"Female\"],[\"BOSTON MA\",\"Female\"],[\"BOSTON MA\",\"Female\"],[\"BOSTON MA\",\"Female\"],[\"BOSTON MA\",\"Female\"],[\"BOSTON MA\",\"Female\"],[\"BOSTON MA\",\"Female\"],[\"BOSTON MA\",\"Female\"],[\"BOSTON MA\",\"Female\"],[\"BOSTON MA\",\"Female\"],[\"BOSTON MA\",\"Female\"],[\"BOSTON MA\",\"Female\"],[\"BOSTON MA\",\"Female\"],[\"BOSTON MA\",\"Female\"],[\"BOSTON MA\",\"Female\"],[\"BOSTON MA\",\"Female\"],[\"BOSTON MA\",\"Female\"],[\"BOSTON MA\",\"Female\"],[\"BOSTON MA\",\"Female\"],[\"BOSTON MA\",\"Female\"],[\"BOSTON MA\",\"Female\"],[\"BOSTON MA\",\"Female\"],[\"BOSTON MA\",\"Female\"],[\"BOSTON MA\",\"Female\"],[\"BOSTON MA\",\"Female\"],[\"BOSTON MA\",\"Female\"],[\"BOSTON MA\",\"Female\"],[\"BOSTON MA\",\"Female\"],[\"BOSTON MA\",\"Female\"],[\"BOSTON MA\",\"Female\"],[\"BOSTON MA\",\"Female\"],[\"BOSTON MA\",\"Female\"],[\"BOSTON MA\",\"Female\"],[\"BOSTON MA\",\"Female\"],[\"BOSTON MA\",\"Female\"],[\"BOSTON MA\",\"Female\"],[\"BOSTON MA\",\"Female\"],[\"BOSTON MA\",\"Female\"],[\"BOSTON MA\",\"Female\"],[\"BOSTON MA\",\"Female\"],[\"BOSTON MA\",\"Female\"],[\"BOSTON MA\",\"Female\"],[\"BOSTON MA\",\"Female\"],[\"BOSTON MA\",\"Female\"],[\"BOSTON MA\",\"Female\"],[\"BOSTON MA\",\"Female\"],[\"BOSTON MA\",\"Female\"],[\"BOSTON MA\",\"Female\"],[\"BOSTON MA\",\"Female\"],[\"BOSTON MA\",\"Female\"],[\"BOSTON MA\",\"Female\"],[\"BOSTON MA\",\"Female\"],[\"BOSTON MA\",\"Female\"],[\"BOSTON MA\",\"Female\"],[\"BOSTON MA\",\"Female\"],[\"BOSTON MA\",\"Female\"],[\"BOSTON MA\",\"Female\"],[\"BOSTON MA\",\"Female\"],[\"BOSTON MA\",\"Female\"],[\"BOSTON MA\",\"Female\"],[\"BOSTON MA\",\"Female\"],[\"BOSTON MA\",\"Female\"],[\"BOSTON MA\",\"Female\"],[\"BOSTON MA\",\"Female\"],[\"BOSTON MA\",\"Female\"],[\"BOSTON MA\",\"Female\"],[\"BOSTON MA\",\"Female\"],[\"BOSTON MA\",\"Female\"],[\"BOSTON MA\",\"Female\"],[\"BOSTON MA\",\"Female\"],[\"NASHVILLE TN\",\"Male\"],[\"NASHVILLE TN\",\"Male\"],[\"NASHVILLE TN\",\"Male\"],[\"NASHVILLE TN\",\"Male\"],[\"NASHVILLE TN\",\"Male\"],[\"NASHVILLE TN\",\"Male\"],[\"NASHVILLE TN\",\"Male\"],[\"NASHVILLE TN\",\"Male\"],[\"NASHVILLE TN\",\"Male\"],[\"NASHVILLE TN\",\"Male\"],[\"NASHVILLE TN\",\"Male\"],[\"NASHVILLE TN\",\"Male\"],[\"NASHVILLE TN\",\"Male\"],[\"NASHVILLE TN\",\"Male\"],[\"NASHVILLE TN\",\"Male\"],[\"NASHVILLE TN\",\"Male\"],[\"NASHVILLE TN\",\"Male\"],[\"NASHVILLE TN\",\"Male\"],[\"NASHVILLE TN\",\"Male\"],[\"NASHVILLE TN\",\"Male\"],[\"NASHVILLE TN\",\"Male\"],[\"NASHVILLE TN\",\"Male\"],[\"NASHVILLE TN\",\"Male\"],[\"NASHVILLE TN\",\"Male\"],[\"NASHVILLE TN\",\"Male\"],[\"NASHVILLE TN\",\"Male\"],[\"NASHVILLE TN\",\"Male\"],[\"NASHVILLE TN\",\"Male\"],[\"NASHVILLE TN\",\"Male\"],[\"NASHVILLE TN\",\"Male\"],[\"NASHVILLE TN\",\"Male\"],[\"NASHVILLE TN\",\"Male\"],[\"NASHVILLE TN\",\"Male\"],[\"NASHVILLE TN\",\"Male\"],[\"NASHVILLE TN\",\"Male\"],[\"NASHVILLE TN\",\"Male\"],[\"NASHVILLE TN\",\"Male\"],[\"NASHVILLE TN\",\"Male\"],[\"NASHVILLE TN\",\"Male\"],[\"NASHVILLE TN\",\"Male\"],[\"NASHVILLE TN\",\"Male\"],[\"NASHVILLE TN\",\"Male\"],[\"NASHVILLE TN\",\"Male\"],[\"NASHVILLE TN\",\"Male\"],[\"NASHVILLE TN\",\"Male\"],[\"NASHVILLE TN\",\"Male\"],[\"NASHVILLE TN\",\"Male\"],[\"NASHVILLE TN\",\"Male\"],[\"NASHVILLE TN\",\"Male\"],[\"NASHVILLE TN\",\"Male\"],[\"NASHVILLE TN\",\"Female\"],[\"NASHVILLE TN\",\"Female\"],[\"NASHVILLE TN\",\"Female\"],[\"NASHVILLE TN\",\"Female\"],[\"NASHVILLE TN\",\"Female\"],[\"NASHVILLE TN\",\"Female\"],[\"NASHVILLE TN\",\"Female\"],[\"NASHVILLE TN\",\"Female\"],[\"NASHVILLE TN\",\"Female\"],[\"NASHVILLE TN\",\"Female\"],[\"NASHVILLE TN\",\"Female\"],[\"NASHVILLE TN\",\"Female\"],[\"NASHVILLE TN\",\"Female\"],[\"NASHVILLE TN\",\"Female\"],[\"NASHVILLE TN\",\"Female\"],[\"PHOENIX AZ\",\"Female\"],[\"PHOENIX AZ\",\"Female\"],[\"PHOENIX AZ\",\"Female\"],[\"PHOENIX AZ\",\"Female\"],[\"PHOENIX AZ\",\"Female\"],[\"PHOENIX AZ\",\"Female\"],[\"PHOENIX AZ\",\"Female\"],[\"PHOENIX AZ\",\"Female\"],[\"PHOENIX AZ\",\"Female\"],[\"PHOENIX AZ\",\"Female\"],[\"PHOENIX AZ\",\"Female\"],[\"PHOENIX AZ\",\"Female\"],[\"PHOENIX AZ\",\"Female\"],[\"PHOENIX AZ\",\"Female\"],[\"PHOENIX AZ\",\"Female\"],[\"PHOENIX AZ\",\"Female\"],[\"PITTSBURGH PA\",\"Male\"],[\"PITTSBURGH PA\",\"Male\"],[\"PITTSBURGH PA\",\"Male\"],[\"PITTSBURGH PA\",\"Male\"],[\"PITTSBURGH PA\",\"Male\"],[\"PITTSBURGH PA\",\"Male\"],[\"PITTSBURGH PA\",\"Male\"],[\"PITTSBURGH PA\",\"Male\"],[\"PITTSBURGH PA\",\"Male\"],[\"PITTSBURGH PA\",\"Male\"],[\"PITTSBURGH PA\",\"Male\"],[\"PITTSBURGH PA\",\"Male\"],[\"PITTSBURGH PA\",\"Male\"],[\"PITTSBURGH PA\",\"Male\"],[\"PITTSBURGH PA\",\"Male\"],[\"PITTSBURGH PA\",\"Male\"],[\"PITTSBURGH PA\",\"Male\"],[\"PITTSBURGH PA\",\"Male\"],[\"PITTSBURGH PA\",\"Male\"],[\"PITTSBURGH PA\",\"Male\"],[\"PITTSBURGH PA\",\"Male\"],[\"PITTSBURGH PA\",\"Male\"],[\"PITTSBURGH PA\",\"Male\"],[\"SACRAMENTO CA\",\"Female\"],[\"SACRAMENTO CA\",\"Female\"],[\"SACRAMENTO CA\",\"Female\"],[\"SACRAMENTO CA\",\"Female\"],[\"SACRAMENTO CA\",\"Female\"],[\"SACRAMENTO CA\",\"Female\"],[\"SACRAMENTO CA\",\"Female\"],[\"SACRAMENTO CA\",\"Female\"],[\"SACRAMENTO CA\",\"Female\"],[\"SACRAMENTO CA\",\"Female\"],[\"SACRAMENTO CA\",\"Female\"],[\"SACRAMENTO CA\",\"Female\"],[\"SAN DIEGO CA\",\"Male\"],[\"SAN DIEGO CA\",\"Male\"],[\"SAN DIEGO CA\",\"Male\"],[\"SAN DIEGO CA\",\"Male\"],[\"SAN DIEGO CA\",\"Male\"],[\"SAN DIEGO CA\",\"Male\"],[\"SAN DIEGO CA\",\"Male\"],[\"SAN DIEGO CA\",\"Male\"],[\"SAN DIEGO CA\",\"Male\"],[\"SAN DIEGO CA\",\"Male\"],[\"SAN DIEGO CA\",\"Male\"],[\"SAN DIEGO CA\",\"Male\"],[\"SAN DIEGO CA\",\"Male\"],[\"SAN DIEGO CA\",\"Male\"],[\"SAN DIEGO CA\",\"Male\"],[\"SAN DIEGO CA\",\"Male\"],[\"SAN DIEGO CA\",\"Male\"],[\"SAN DIEGO CA\",\"Male\"],[\"SAN DIEGO CA\",\"Male\"],[\"SAN DIEGO CA\",\"Male\"],[\"SAN DIEGO CA\",\"Male\"],[\"SAN DIEGO CA\",\"Male\"],[\"SAN DIEGO CA\",\"Male\"],[\"SAN DIEGO CA\",\"Male\"],[\"SAN DIEGO CA\",\"Male\"],[\"SAN DIEGO CA\",\"Male\"],[\"SAN DIEGO CA\",\"Male\"],[\"SAN DIEGO CA\",\"Male\"],[\"SAN DIEGO CA\",\"Male\"],[\"SAN DIEGO CA\",\"Male\"],[\"SAN DIEGO CA\",\"Male\"],[\"SAN DIEGO CA\",\"Male\"],[\"SAN DIEGO CA\",\"Male\"],[\"SAN DIEGO CA\",\"Male\"],[\"SAN DIEGO CA\",\"Male\"],[\"SAN DIEGO CA\",\"Male\"],[\"SAN DIEGO CA\",\"Male\"],[\"SAN DIEGO CA\",\"Male\"],[\"SAN DIEGO CA\",\"Male\"],[\"SAN DIEGO CA\",\"Male\"],[\"SAN DIEGO CA\",\"Male\"],[\"SAN DIEGO CA\",\"Male\"],[\"SAN DIEGO CA\",\"Male\"],[\"SAN DIEGO CA\",\"Male\"],[\"SAN DIEGO CA\",\"Male\"],[\"SAN DIEGO CA\",\"Male\"],[\"SAN DIEGO CA\",\"Male\"],[\"SAN DIEGO CA\",\"Male\"],[\"SAN DIEGO CA\",\"Male\"],[\"SAN DIEGO CA\",\"Male\"],[\"SAN DIEGO CA\",\"Male\"],[\"SAN DIEGO CA\",\"Male\"],[\"SAN DIEGO CA\",\"Male\"],[\"SAN DIEGO CA\",\"Male\"],[\"SAN DIEGO CA\",\"Male\"],[\"SAN DIEGO CA\",\"Male\"],[\"SAN DIEGO CA\",\"Male\"],[\"SAN DIEGO CA\",\"Male\"],[\"SAN DIEGO CA\",\"Male\"],[\"SAN DIEGO CA\",\"Male\"],[\"SAN DIEGO CA\",\"Male\"],[\"SAN DIEGO CA\",\"Male\"],[\"SAN DIEGO CA\",\"Male\"],[\"SAN DIEGO CA\",\"Male\"],[\"SAN DIEGO CA\",\"Male\"],[\"SAN DIEGO CA\",\"Male\"],[\"SAN DIEGO CA\",\"Male\"],[\"SAN DIEGO CA\",\"Male\"],[\"SAN DIEGO CA\",\"Male\"],[\"SAN DIEGO CA\",\"Male\"],[\"SAN DIEGO CA\",\"Male\"],[\"SAN DIEGO CA\",\"Male\"],[\"SAN DIEGO CA\",\"Male\"],[\"SAN DIEGO CA\",\"Male\"],[\"SAN DIEGO CA\",\"Male\"],[\"SAN DIEGO CA\",\"Male\"],[\"SAN DIEGO CA\",\"Male\"],[\"SAN DIEGO CA\",\"Male\"],[\"SAN DIEGO CA\",\"Male\"],[\"SAN DIEGO CA\",\"Male\"],[\"SAN DIEGO CA\",\"Male\"],[\"SAN DIEGO CA\",\"Male\"],[\"SAN DIEGO CA\",\"Male\"],[\"SAN DIEGO CA\",\"Male\"],[\"SAN DIEGO CA\",\"Male\"],[\"SAN DIEGO CA\",\"Male\"],[\"SAN DIEGO CA\",\"Male\"],[\"SAN DIEGO CA\",\"Male\"],[\"SAN DIEGO CA\",\"Male\"],[\"SAN DIEGO CA\",\"Male\"],[\"SAN DIEGO CA\",\"Male\"],[\"SAN DIEGO CA\",\"Male\"],[\"SAN DIEGO CA\",\"Male\"],[\"SAN DIEGO CA\",\"Male\"],[\"SAN DIEGO CA\",\"Male\"],[\"SAN DIEGO CA\",\"Male\"],[\"SAN DIEGO CA\",\"Male\"],[\"SAN DIEGO CA\",\"Male\"],[\"SAN DIEGO CA\",\"Male\"],[\"SAN DIEGO CA\",\"Male\"],[\"SAN DIEGO CA\",\"Male\"],[\"SAN DIEGO CA\",\"Male\"],[\"SAN DIEGO CA\",\"Male\"],[\"SAN DIEGO CA\",\"Male\"],[\"SAN DIEGO CA\",\"Male\"],[\"SAN DIEGO CA\",\"Male\"],[\"SAN DIEGO CA\",\"Male\"],[\"SAN DIEGO CA\",\"Male\"],[\"SAN DIEGO CA\",\"Male\"],[\"SAN DIEGO CA\",\"Male\"],[\"SAN DIEGO CA\",\"Male\"],[\"SAN DIEGO CA\",\"Male\"],[\"SAN DIEGO CA\",\"Male\"],[\"SAN DIEGO CA\",\"Male\"],[\"SAN DIEGO CA\",\"Male\"],[\"SAN DIEGO CA\",\"Male\"],[\"SAN DIEGO CA\",\"Male\"],[\"SAN DIEGO CA\",\"Male\"],[\"SAN DIEGO CA\",\"Male\"],[\"SAN DIEGO CA\",\"Male\"],[\"SAN DIEGO CA\",\"Male\"],[\"SAN DIEGO CA\",\"Male\"],[\"SAN DIEGO CA\",\"Male\"],[\"SAN DIEGO CA\",\"Male\"],[\"SAN DIEGO CA\",\"Male\"],[\"SAN DIEGO CA\",\"Male\"],[\"SAN DIEGO CA\",\"Male\"],[\"SAN DIEGO CA\",\"Male\"],[\"SAN DIEGO CA\",\"Male\"],[\"SAN DIEGO CA\",\"Male\"],[\"SAN DIEGO CA\",\"Male\"],[\"SAN DIEGO CA\",\"Male\"],[\"SAN DIEGO CA\",\"Male\"],[\"SAN DIEGO CA\",\"Male\"],[\"SAN DIEGO CA\",\"Male\"],[\"SAN DIEGO CA\",\"Male\"],[\"SAN DIEGO CA\",\"Male\"],[\"SAN DIEGO CA\",\"Male\"],[\"SAN DIEGO CA\",\"Male\"],[\"SAN DIEGO CA\",\"Male\"],[\"SAN DIEGO CA\",\"Male\"],[\"SAN DIEGO CA\",\"Male\"],[\"SAN DIEGO CA\",\"Male\"],[\"SAN DIEGO CA\",\"Male\"],[\"SAN DIEGO CA\",\"Male\"],[\"SAN DIEGO CA\",\"Male\"],[\"SAN DIEGO CA\",\"Male\"],[\"SAN DIEGO CA\",\"Male\"],[\"SAN DIEGO CA\",\"Male\"],[\"SAN DIEGO CA\",\"Male\"],[\"SAN DIEGO CA\",\"Male\"],[\"SAN DIEGO CA\",\"Male\"],[\"SAN DIEGO CA\",\"Male\"],[\"SAN DIEGO CA\",\"Male\"],[\"SAN DIEGO CA\",\"Male\"],[\"SAN DIEGO CA\",\"Male\"],[\"SAN DIEGO CA\",\"Male\"],[\"SAN DIEGO CA\",\"Male\"],[\"SAN DIEGO CA\",\"Male\"],[\"SAN DIEGO CA\",\"Male\"],[\"SAN DIEGO CA\",\"Male\"],[\"SAN DIEGO CA\",\"Male\"],[\"SAN DIEGO CA\",\"Male\"],[\"SAN DIEGO CA\",\"Male\"],[\"SAN DIEGO CA\",\"Male\"],[\"SAN DIEGO CA\",\"Male\"],[\"SAN DIEGO CA\",\"Male\"],[\"SAN DIEGO CA\",\"Male\"],[\"SAN DIEGO CA\",\"Male\"],[\"SAN DIEGO CA\",\"Male\"],[\"SAN DIEGO CA\",\"Male\"],[\"SAN DIEGO CA\",\"Male\"],[\"SAN DIEGO CA\",\"Male\"],[\"SAN DIEGO CA\",\"Male\"],[\"SAN DIEGO CA\",\"Male\"],[\"SAN DIEGO CA\",\"Male\"],[\"SAN DIEGO CA\",\"Male\"],[\"SAN DIEGO CA\",\"Male\"],[\"SAN DIEGO CA\",\"Male\"],[\"SAN DIEGO CA\",\"Male\"],[\"SAN DIEGO CA\",\"Male\"],[\"SAN DIEGO CA\",\"Male\"],[\"SAN DIEGO CA\",\"Male\"],[\"SAN DIEGO CA\",\"Male\"],[\"SAN DIEGO CA\",\"Male\"],[\"SAN DIEGO CA\",\"Male\"],[\"SAN DIEGO CA\",\"Male\"],[\"SAN DIEGO CA\",\"Male\"],[\"SAN DIEGO CA\",\"Male\"],[\"SAN DIEGO CA\",\"Male\"],[\"SAN DIEGO CA\",\"Male\"],[\"SAN DIEGO CA\",\"Male\"],[\"SAN DIEGO CA\",\"Male\"],[\"SAN DIEGO CA\",\"Male\"],[\"SAN DIEGO CA\",\"Male\"],[\"SAN DIEGO CA\",\"Male\"],[\"SAN DIEGO CA\",\"Male\"],[\"SAN DIEGO CA\",\"Male\"],[\"SAN DIEGO CA\",\"Male\"],[\"SAN DIEGO CA\",\"Male\"],[\"SAN DIEGO CA\",\"Male\"],[\"SAN DIEGO CA\",\"Male\"],[\"SAN DIEGO CA\",\"Male\"],[\"SAN DIEGO CA\",\"Male\"],[\"SAN DIEGO CA\",\"Male\"],[\"SAN DIEGO CA\",\"Male\"],[\"SAN DIEGO CA\",\"Male\"],[\"SAN DIEGO CA\",\"Male\"],[\"SAN DIEGO CA\",\"Male\"],[\"SAN DIEGO CA\",\"Male\"],[\"SAN DIEGO CA\",\"Male\"],[\"SAN DIEGO CA\",\"Male\"],[\"SAN DIEGO CA\",\"Male\"],[\"SAN DIEGO CA\",\"Male\"],[\"SAN DIEGO CA\",\"Male\"],[\"SAN DIEGO CA\",\"Male\"],[\"SAN DIEGO CA\",\"Male\"],[\"SAN DIEGO CA\",\"Male\"],[\"SAN DIEGO CA\",\"Male\"],[\"SAN DIEGO CA\",\"Male\"],[\"SAN DIEGO CA\",\"Male\"],[\"SAN DIEGO CA\",\"Male\"],[\"SAN DIEGO CA\",\"Male\"],[\"SAN DIEGO CA\",\"Male\"],[\"SAN DIEGO CA\",\"Male\"],[\"SAN DIEGO CA\",\"Male\"],[\"SAN DIEGO CA\",\"Male\"],[\"SAN DIEGO CA\",\"Male\"],[\"SAN DIEGO CA\",\"Male\"],[\"SAN DIEGO CA\",\"Male\"],[\"SAN DIEGO CA\",\"Male\"],[\"SAN DIEGO CA\",\"Male\"],[\"SAN DIEGO CA\",\"Male\"],[\"SAN DIEGO CA\",\"Male\"],[\"SAN DIEGO CA\",\"Male\"],[\"SAN DIEGO CA\",\"Male\"],[\"SAN DIEGO CA\",\"Male\"],[\"SAN DIEGO CA\",\"Male\"],[\"SAN DIEGO CA\",\"Male\"],[\"SAN DIEGO CA\",\"Male\"],[\"SAN DIEGO CA\",\"Male\"],[\"SAN DIEGO CA\",\"Male\"],[\"SAN DIEGO CA\",\"Male\"],[\"SAN DIEGO CA\",\"Male\"],[\"SAN DIEGO CA\",\"Male\"],[\"SAN DIEGO CA\",\"Male\"],[\"SAN DIEGO CA\",\"Male\"],[\"SAN DIEGO CA\",\"Male\"],[\"SAN DIEGO CA\",\"Male\"],[\"SAN DIEGO CA\",\"Male\"],[\"SAN DIEGO CA\",\"Male\"],[\"SAN DIEGO CA\",\"Male\"],[\"SAN DIEGO CA\",\"Male\"],[\"SAN DIEGO CA\",\"Male\"],[\"SAN DIEGO CA\",\"Male\"],[\"SAN DIEGO CA\",\"Male\"],[\"SAN DIEGO CA\",\"Male\"],[\"SAN DIEGO CA\",\"Male\"],[\"SAN DIEGO CA\",\"Male\"],[\"SAN DIEGO CA\",\"Male\"],[\"SAN DIEGO CA\",\"Male\"],[\"SAN DIEGO CA\",\"Male\"],[\"SAN DIEGO CA\",\"Male\"],[\"SAN DIEGO CA\",\"Male\"],[\"SAN DIEGO CA\",\"Male\"],[\"SAN DIEGO CA\",\"Male\"],[\"SAN DIEGO CA\",\"Male\"],[\"SAN DIEGO CA\",\"Male\"],[\"SAN DIEGO CA\",\"Male\"],[\"SAN DIEGO CA\",\"Male\"],[\"SAN DIEGO CA\",\"Male\"],[\"SAN DIEGO CA\",\"Male\"],[\"SAN DIEGO CA\",\"Male\"],[\"SAN DIEGO CA\",\"Male\"],[\"SAN DIEGO CA\",\"Male\"],[\"SAN DIEGO CA\",\"Male\"],[\"SAN DIEGO CA\",\"Male\"],[\"SAN DIEGO CA\",\"Male\"],[\"SAN DIEGO CA\",\"Male\"],[\"SAN DIEGO CA\",\"Male\"],[\"SAN DIEGO CA\",\"Male\"],[\"SAN DIEGO CA\",\"Male\"],[\"SAN DIEGO CA\",\"Male\"],[\"SAN DIEGO CA\",\"Male\"],[\"SAN DIEGO CA\",\"Male\"],[\"SAN DIEGO CA\",\"Male\"],[\"SAN DIEGO CA\",\"Male\"],[\"SAN DIEGO CA\",\"Male\"],[\"SAN DIEGO CA\",\"Male\"],[\"SAN DIEGO CA\",\"Male\"],[\"SAN DIEGO CA\",\"Male\"],[\"SAN DIEGO CA\",\"Male\"],[\"SAN DIEGO CA\",\"Male\"],[\"SAN DIEGO CA\",\"Male\"],[\"SAN DIEGO CA\",\"Male\"],[\"SAN DIEGO CA\",\"Male\"],[\"SAN DIEGO CA\",\"Male\"],[\"SAN DIEGO CA\",\"Male\"],[\"SAN DIEGO CA\",\"Male\"],[\"SAN DIEGO CA\",\"Male\"],[\"SAN DIEGO CA\",\"Male\"],[\"SAN DIEGO CA\",\"Male\"],[\"SAN DIEGO CA\",\"Male\"],[\"SAN DIEGO CA\",\"Male\"],[\"SAN DIEGO CA\",\"Male\"],[\"SAN DIEGO CA\",\"Male\"],[\"SAN DIEGO CA\",\"Male\"],[\"SAN DIEGO CA\",\"Male\"],[\"SAN DIEGO CA\",\"Male\"],[\"SAN DIEGO CA\",\"Male\"],[\"SAN DIEGO CA\",\"Male\"],[\"SAN DIEGO CA\",\"Male\"],[\"SAN DIEGO CA\",\"Male\"],[\"TUCSON AZ\",\"Female\"],[\"TUCSON AZ\",\"Female\"],[\"TUCSON AZ\",\"Female\"],[\"TUCSON AZ\",\"Female\"],[\"TUCSON AZ\",\"Female\"],[\"TUCSON AZ\",\"Female\"],[\"TUCSON AZ\",\"Female\"],[\"TUCSON AZ\",\"Female\"],[\"TUCSON AZ\",\"Female\"],[\"TUCSON AZ\",\"Female\"],[\"TUCSON AZ\",\"Female\"],[\"TUCSON AZ\",\"Female\"],[\"TUCSON AZ\",\"Female\"],[\"TUCSON AZ\",\"Female\"],[\"TUCSON AZ\",\"Female\"],[\"TUCSON AZ\",\"Female\"],[\"TUCSON AZ\",\"Female\"],[\"TUCSON AZ\",\"Female\"],[\"TUCSON AZ\",\"Female\"],[\"TUCSON AZ\",\"Female\"],[\"TUCSON AZ\",\"Female\"],[\"TUCSON AZ\",\"Female\"],[\"TUCSON AZ\",\"Female\"],[\"TUCSON AZ\",\"Female\"],[\"TUCSON AZ\",\"Female\"],[\"TUCSON AZ\",\"Female\"],[\"TUCSON AZ\",\"Female\"],[\"WASHINGTON DC\",\"Female\"],[\"WASHINGTON DC\",\"Female\"],[\"WASHINGTON DC\",\"Female\"],[\"WASHINGTON DC\",\"Female\"],[\"WASHINGTON DC\",\"Female\"],[\"WASHINGTON DC\",\"Female\"],[\"WASHINGTON DC\",\"Female\"],[\"WASHINGTON DC\",\"Female\"],[\"WASHINGTON DC\",\"Female\"],[\"WASHINGTON DC\",\"Female\"],[\"WASHINGTON DC\",\"Female\"],[\"WASHINGTON DC\",\"Female\"],[\"WASHINGTON DC\",\"Female\"],[\"WASHINGTON DC\",\"Female\"],[\"WASHINGTON DC\",\"Female\"],[\"WASHINGTON DC\",\"Female\"],[\"WASHINGTON DC\",\"Female\"],[\"WASHINGTON DC\",\"Female\"],[\"WASHINGTON DC\",\"Female\"],[\"WASHINGTON DC\",\"Female\"],[\"WASHINGTON DC\",\"Female\"],[\"WASHINGTON DC\",\"Female\"],[\"WASHINGTON DC\",\"Female\"],[\"WASHINGTON DC\",\"Female\"],[\"WASHINGTON DC\",\"Female\"],[\"WASHINGTON DC\",\"Female\"],[\"WASHINGTON DC\",\"Female\"],[\"WASHINGTON DC\",\"Female\"],[\"WASHINGTON DC\",\"Female\"],[\"WASHINGTON DC\",\"Female\"],[\"WASHINGTON DC\",\"Female\"],[\"WASHINGTON DC\",\"Female\"],[\"WASHINGTON DC\",\"Female\"],[\"WASHINGTON DC\",\"Female\"],[\"WASHINGTON DC\",\"Female\"],[\"WASHINGTON DC\",\"Female\"],[\"WASHINGTON DC\",\"Female\"],[\"WASHINGTON DC\",\"Female\"],[\"WASHINGTON DC\",\"Female\"],[\"WASHINGTON DC\",\"Female\"],[\"WASHINGTON DC\",\"Female\"],[\"WASHINGTON DC\",\"Female\"],[\"WASHINGTON DC\",\"Female\"],[\"WASHINGTON DC\",\"Female\"],[\"WASHINGTON DC\",\"Female\"],[\"WASHINGTON DC\",\"Female\"],[\"WASHINGTON DC\",\"Female\"],[\"WASHINGTON DC\",\"Female\"],[\"WASHINGTON DC\",\"Female\"],[\"WASHINGTON DC\",\"Female\"],[\"WASHINGTON DC\",\"Female\"],[\"WASHINGTON DC\",\"Female\"],[\"WASHINGTON DC\",\"Female\"],[\"WASHINGTON DC\",\"Female\"],[\"WASHINGTON DC\",\"Female\"],[\"WASHINGTON DC\",\"Female\"],[\"WASHINGTON DC\",\"Female\"],[\"WASHINGTON DC\",\"Female\"],[\"WASHINGTON DC\",\"Female\"],[\"WASHINGTON DC\",\"Female\"],[\"WASHINGTON DC\",\"Female\"],[\"WASHINGTON DC\",\"Female\"],[\"WASHINGTON DC\",\"Female\"],[\"WASHINGTON DC\",\"Female\"],[\"WASHINGTON DC\",\"Female\"],[\"WASHINGTON DC\",\"Female\"],[\"WASHINGTON DC\",\"Female\"],[\"WASHINGTON DC\",\"Female\"],[\"WASHINGTON DC\",\"Female\"],[\"WASHINGTON DC\",\"Female\"],[\"WASHINGTON DC\",\"Female\"],[\"WASHINGTON DC\",\"Female\"],[\"WASHINGTON DC\",\"Female\"],[\"WASHINGTON DC\",\"Female\"],[\"WASHINGTON DC\",\"Female\"],[\"WASHINGTON DC\",\"Female\"],[\"WASHINGTON DC\",\"Female\"],[\"WASHINGTON DC\",\"Female\"],[\"WASHINGTON DC\",\"Female\"],[\"WASHINGTON DC\",\"Female\"],[\"WASHINGTON DC\",\"Female\"],[\"WASHINGTON DC\",\"Female\"],[\"WASHINGTON DC\",\"Female\"],[\"WASHINGTON DC\",\"Female\"],[\"WASHINGTON DC\",\"Female\"],[\"WASHINGTON DC\",\"Female\"],[\"WASHINGTON DC\",\"Female\"],[\"WASHINGTON DC\",\"Female\"],[\"WASHINGTON DC\",\"Female\"],[\"WASHINGTON DC\",\"Female\"],[\"WASHINGTON DC\",\"Female\"],[\"WASHINGTON DC\",\"Female\"],[\"WASHINGTON DC\",\"Female\"],[\"WASHINGTON DC\",\"Female\"],[\"WASHINGTON DC\",\"Female\"],[\"WASHINGTON DC\",\"Female\"],[\"WASHINGTON DC\",\"Female\"],[\"WASHINGTON DC\",\"Female\"],[\"WASHINGTON DC\",\"Female\"],[\"WASHINGTON DC\",\"Female\"],[\"WASHINGTON DC\",\"Female\"],[\"WASHINGTON DC\",\"Female\"],[\"WASHINGTON DC\",\"Female\"],[\"WASHINGTON DC\",\"Female\"],[\"WASHINGTON DC\",\"Female\"],[\"WASHINGTON DC\",\"Female\"],[\"WASHINGTON DC\",\"Female\"],[\"WASHINGTON DC\",\"Female\"],[\"WASHINGTON DC\",\"Female\"],[\"WASHINGTON DC\",\"Female\"],[\"WASHINGTON DC\",\"Female\"],[\"WASHINGTON DC\",\"Female\"],[\"WASHINGTON DC\",\"Female\"],[\"WASHINGTON DC\",\"Female\"],[\"WASHINGTON DC\",\"Female\"],[\"WASHINGTON DC\",\"Female\"],[\"WASHINGTON DC\",\"Female\"],[\"WASHINGTON DC\",\"Female\"],[\"WASHINGTON DC\",\"Female\"],[\"WASHINGTON DC\",\"Female\"],[\"WASHINGTON DC\",\"Female\"],[\"WASHINGTON DC\",\"Female\"],[\"WASHINGTON DC\",\"Female\"],[\"WASHINGTON DC\",\"Female\"],[\"WASHINGTON DC\",\"Female\"],[\"WASHINGTON DC\",\"Female\"],[\"WASHINGTON DC\",\"Female\"],[\"WASHINGTON DC\",\"Female\"],[\"WASHINGTON DC\",\"Female\"],[\"WASHINGTON DC\",\"Female\"],[\"WASHINGTON DC\",\"Female\"],[\"WASHINGTON DC\",\"Female\"],[\"WASHINGTON DC\",\"Female\"],[\"WASHINGTON DC\",\"Female\"],[\"WASHINGTON DC\",\"Female\"],[\"WASHINGTON DC\",\"Female\"],[\"WASHINGTON DC\",\"Female\"],[\"WASHINGTON DC\",\"Female\"],[\"WASHINGTON DC\",\"Female\"],[\"WASHINGTON DC\",\"Female\"],[\"WASHINGTON DC\",\"Female\"],[\"WASHINGTON DC\",\"Female\"],[\"WASHINGTON DC\",\"Female\"],[\"WASHINGTON DC\",\"Female\"],[\"WASHINGTON DC\",\"Female\"],[\"WASHINGTON DC\",\"Female\"],[\"WASHINGTON DC\",\"Female\"],[\"WASHINGTON DC\",\"Female\"],[\"WASHINGTON DC\",\"Female\"],[\"WASHINGTON DC\",\"Female\"],[\"WASHINGTON DC\",\"Female\"],[\"WASHINGTON DC\",\"Female\"],[\"WASHINGTON DC\",\"Female\"],[\"WASHINGTON DC\",\"Female\"],[\"WASHINGTON DC\",\"Female\"],[\"WASHINGTON DC\",\"Female\"],[\"WASHINGTON DC\",\"Female\"],[\"WASHINGTON DC\",\"Female\"],[\"WASHINGTON DC\",\"Female\"],[\"WASHINGTON DC\",\"Female\"],[\"WASHINGTON DC\",\"Female\"],[\"WASHINGTON DC\",\"Female\"],[\"WASHINGTON DC\",\"Female\"],[\"WASHINGTON DC\",\"Female\"],[\"WASHINGTON DC\",\"Female\"],[\"WASHINGTON DC\",\"Female\"],[\"WASHINGTON DC\",\"Female\"],[\"WASHINGTON DC\",\"Female\"],[\"WASHINGTON DC\",\"Female\"],[\"WASHINGTON DC\",\"Female\"],[\"WASHINGTON DC\",\"Female\"],[\"WASHINGTON DC\",\"Female\"],[\"WASHINGTON DC\",\"Female\"],[\"WASHINGTON DC\",\"Female\"],[\"WASHINGTON DC\",\"Female\"],[\"WASHINGTON DC\",\"Female\"],[\"WASHINGTON DC\",\"Female\"],[\"WASHINGTON DC\",\"Female\"],[\"WASHINGTON DC\",\"Female\"],[\"WASHINGTON DC\",\"Female\"],[\"WASHINGTON DC\",\"Female\"],[\"WASHINGTON DC\",\"Female\"],[\"WASHINGTON DC\",\"Female\"],[\"WASHINGTON DC\",\"Female\"],[\"WASHINGTON DC\",\"Female\"],[\"WASHINGTON DC\",\"Female\"],[\"WASHINGTON DC\",\"Female\"],[\"WASHINGTON DC\",\"Female\"],[\"WASHINGTON DC\",\"Female\"],[\"WASHINGTON DC\",\"Female\"],[\"WASHINGTON DC\",\"Female\"],[\"WASHINGTON DC\",\"Female\"],[\"WASHINGTON DC\",\"Female\"],[\"WASHINGTON DC\",\"Female\"],[\"WASHINGTON DC\",\"Female\"],[\"WASHINGTON DC\",\"Female\"],[\"WASHINGTON DC\",\"Female\"],[\"WASHINGTON DC\",\"Female\"],[\"WASHINGTON DC\",\"Female\"],[\"WASHINGTON DC\",\"Female\"],[\"WASHINGTON DC\",\"Female\"],[\"WASHINGTON DC\",\"Female\"],[\"WASHINGTON DC\",\"Female\"],[\"WASHINGTON DC\",\"Female\"],[\"WASHINGTON DC\",\"Female\"],[\"WASHINGTON DC\",\"Female\"],[\"WASHINGTON DC\",\"Female\"],[\"WASHINGTON DC\",\"Female\"],[\"WASHINGTON DC\",\"Female\"],[\"WASHINGTON DC\",\"Female\"],[\"WASHINGTON DC\",\"Female\"],[\"WASHINGTON DC\",\"Female\"],[\"WASHINGTON DC\",\"Female\"],[\"WASHINGTON DC\",\"Female\"],[\"WASHINGTON DC\",\"Female\"],[\"WASHINGTON DC\",\"Female\"],[\"WASHINGTON DC\",\"Female\"],[\"WASHINGTON DC\",\"Female\"],[\"WASHINGTON DC\",\"Female\"],[\"WASHINGTON DC\",\"Female\"],[\"WASHINGTON DC\",\"Female\"],[\"WASHINGTON DC\",\"Female\"],[\"WASHINGTON DC\",\"Female\"],[\"WASHINGTON DC\",\"Female\"],[\"WASHINGTON DC\",\"Female\"],[\"WASHINGTON DC\",\"Female\"],[\"WASHINGTON DC\",\"Female\"],[\"WASHINGTON DC\",\"Female\"],[\"WASHINGTON DC\",\"Female\"],[\"WASHINGTON DC\",\"Female\"],[\"WASHINGTON DC\",\"Female\"],[\"WASHINGTON DC\",\"Female\"],[\"WASHINGTON DC\",\"Female\"],[\"WASHINGTON DC\",\"Female\"],[\"WASHINGTON DC\",\"Female\"],[\"WASHINGTON DC\",\"Female\"],[\"WASHINGTON DC\",\"Female\"],[\"WASHINGTON DC\",\"Female\"],[\"WASHINGTON DC\",\"Female\"],[\"WASHINGTON DC\",\"Female\"],[\"WASHINGTON DC\",\"Female\"],[\"WASHINGTON DC\",\"Female\"],[\"WASHINGTON DC\",\"Female\"],[\"WASHINGTON DC\",\"Female\"],[\"WASHINGTON DC\",\"Female\"],[\"WASHINGTON DC\",\"Female\"],[\"WASHINGTON DC\",\"Female\"],[\"WASHINGTON DC\",\"Female\"],[\"WASHINGTON DC\",\"Female\"],[\"WASHINGTON DC\",\"Female\"],[\"WASHINGTON DC\",\"Female\"],[\"WASHINGTON DC\",\"Female\"],[\"WASHINGTON DC\",\"Female\"],[\"WASHINGTON DC\",\"Female\"],[\"WASHINGTON DC\",\"Female\"],[\"WASHINGTON DC\",\"Female\"],[\"WASHINGTON DC\",\"Female\"],[\"WASHINGTON DC\",\"Female\"],[\"WASHINGTON DC\",\"Female\"],[\"WASHINGTON DC\",\"Female\"],[\"WASHINGTON DC\",\"Female\"],[\"WASHINGTON DC\",\"Female\"],[\"WASHINGTON DC\",\"Female\"],[\"WASHINGTON DC\",\"Female\"],[\"WASHINGTON DC\",\"Female\"],[\"WASHINGTON DC\",\"Female\"],[\"WASHINGTON DC\",\"Female\"],[\"WASHINGTON DC\",\"Female\"],[\"WASHINGTON DC\",\"Female\"],[\"WASHINGTON DC\",\"Female\"],[\"WASHINGTON DC\",\"Female\"],[\"WASHINGTON DC\",\"Female\"],[\"WASHINGTON DC\",\"Female\"],[\"WASHINGTON DC\",\"Female\"],[\"WASHINGTON DC\",\"Female\"],[\"WASHINGTON DC\",\"Female\"],[\"WASHINGTON DC\",\"Female\"],[\"WASHINGTON DC\",\"Female\"],[\"WASHINGTON DC\",\"Female\"],[\"WASHINGTON DC\",\"Female\"],[\"WASHINGTON DC\",\"Female\"],[\"WASHINGTON DC\",\"Female\"],[\"WASHINGTON DC\",\"Female\"],[\"WASHINGTON DC\",\"Female\"],[\"WASHINGTON DC\",\"Female\"],[\"WASHINGTON DC\",\"Female\"],[\"WASHINGTON DC\",\"Female\"],[\"WASHINGTON DC\",\"Female\"],[\"WASHINGTON DC\",\"Female\"],[\"WASHINGTON DC\",\"Female\"],[\"WASHINGTON DC\",\"Female\"],[\"WASHINGTON DC\",\"Female\"],[\"WASHINGTON DC\",\"Female\"],[\"WASHINGTON DC\",\"Female\"],[\"WASHINGTON DC\",\"Female\"],[\"WASHINGTON DC\",\"Female\"],[\"WASHINGTON DC\",\"Female\"],[\"WASHINGTON DC\",\"Female\"],[\"WASHINGTON DC\",\"Female\"],[\"WASHINGTON DC\",\"Female\"],[\"WASHINGTON DC\",\"Female\"],[\"WASHINGTON DC\",\"Female\"],[\"WASHINGTON DC\",\"Female\"],[\"WASHINGTON DC\",\"Female\"],[\"WASHINGTON DC\",\"Female\"],[\"WASHINGTON DC\",\"Female\"],[\"WASHINGTON DC\",\"Female\"],[\"WASHINGTON DC\",\"Female\"],[\"WASHINGTON DC\",\"Female\"],[\"WASHINGTON DC\",\"Female\"],[\"WASHINGTON DC\",\"Female\"],[\"WASHINGTON DC\",\"Female\"],[\"WASHINGTON DC\",\"Female\"],[\"WASHINGTON DC\",\"Female\"],[\"WASHINGTON DC\",\"Female\"],[\"WASHINGTON DC\",\"Female\"],[\"WASHINGTON DC\",\"Female\"],[\"WASHINGTON DC\",\"Female\"],[\"WASHINGTON DC\",\"Female\"],[\"WASHINGTON DC\",\"Female\"],[\"WASHINGTON DC\",\"Female\"],[\"WASHINGTON DC\",\"Female\"],[\"WASHINGTON DC\",\"Female\"],[\"WASHINGTON DC\",\"Female\"],[\"WASHINGTON DC\",\"Female\"],[\"WASHINGTON DC\",\"Female\"],[\"WASHINGTON DC\",\"Female\"],[\"WASHINGTON DC\",\"Female\"],[\"WASHINGTON DC\",\"Female\"],[\"WASHINGTON DC\",\"Female\"],[\"WASHINGTON DC\",\"Female\"],[\"WASHINGTON DC\",\"Female\"],[\"WASHINGTON DC\",\"Female\"],[\"WASHINGTON DC\",\"Female\"],[\"WASHINGTON DC\",\"Female\"],[\"WASHINGTON DC\",\"Female\"],[\"WASHINGTON DC\",\"Female\"],[\"WASHINGTON DC\",\"Female\"],[\"WASHINGTON DC\",\"Female\"],[\"WASHINGTON DC\",\"Female\"],[\"WASHINGTON DC\",\"Female\"],[\"WASHINGTON DC\",\"Female\"],[\"WASHINGTON DC\",\"Female\"],[\"WASHINGTON DC\",\"Female\"],[\"WASHINGTON DC\",\"Female\"],[\"WASHINGTON DC\",\"Female\"],[\"WASHINGTON DC\",\"Female\"],[\"WASHINGTON DC\",\"Female\"],[\"WASHINGTON DC\",\"Female\"],[\"WASHINGTON DC\",\"Female\"],[\"WASHINGTON DC\",\"Female\"],[\"WASHINGTON DC\",\"Female\"],[\"WASHINGTON DC\",\"Female\"],[\"WASHINGTON DC\",\"Female\"],[\"WASHINGTON DC\",\"Female\"],[\"WASHINGTON DC\",\"Female\"],[\"WASHINGTON DC\",\"Female\"],[\"WASHINGTON DC\",\"Female\"],[\"WASHINGTON DC\",\"Female\"],[\"WASHINGTON DC\",\"Female\"],[\"WASHINGTON DC\",\"Female\"],[\"WASHINGTON DC\",\"Female\"],[\"WASHINGTON DC\",\"Female\"],[\"WASHINGTON DC\",\"Female\"],[\"WASHINGTON DC\",\"Female\"],[\"WASHINGTON DC\",\"Female\"],[\"WASHINGTON DC\",\"Female\"],[\"WASHINGTON DC\",\"Female\"],[\"WASHINGTON DC\",\"Female\"],[\"WASHINGTON DC\",\"Female\"],[\"WASHINGTON DC\",\"Female\"],[\"WASHINGTON DC\",\"Female\"],[\"WASHINGTON DC\",\"Female\"],[\"WASHINGTON DC\",\"Female\"],[\"WASHINGTON DC\",\"Female\"],[\"WASHINGTON DC\",\"Female\"],[\"WASHINGTON DC\",\"Female\"],[\"WASHINGTON DC\",\"Female\"],[\"WASHINGTON DC\",\"Female\"],[\"WASHINGTON DC\",\"Female\"],[\"WASHINGTON DC\",\"Female\"],[\"WASHINGTON DC\",\"Female\"],[\"WASHINGTON DC\",\"Female\"],[\"WASHINGTON DC\",\"Female\"],[\"WASHINGTON DC\",\"Female\"],[\"WASHINGTON DC\",\"Female\"],[\"WASHINGTON DC\",\"Female\"],[\"WASHINGTON DC\",\"Female\"],[\"WASHINGTON DC\",\"Female\"],[\"WASHINGTON DC\",\"Female\"],[\"WASHINGTON DC\",\"Female\"],[\"WASHINGTON DC\",\"Female\"],[\"WASHINGTON DC\",\"Female\"],[\"WASHINGTON DC\",\"Female\"],[\"WASHINGTON DC\",\"Female\"],[\"WASHINGTON DC\",\"Female\"],[\"WASHINGTON DC\",\"Female\"],[\"WASHINGTON DC\",\"Female\"],[\"WASHINGTON DC\",\"Female\"],[\"WASHINGTON DC\",\"Female\"],[\"WASHINGTON DC\",\"Female\"],[\"WASHINGTON DC\",\"Female\"],[\"WASHINGTON DC\",\"Female\"],[\"WASHINGTON DC\",\"Female\"],[\"WASHINGTON DC\",\"Female\"],[\"WASHINGTON DC\",\"Female\"],[\"WASHINGTON DC\",\"Female\"],[\"WASHINGTON DC\",\"Female\"],[\"WASHINGTON DC\",\"Female\"],[\"WASHINGTON DC\",\"Female\"],[\"WASHINGTON DC\",\"Female\"],[\"WASHINGTON DC\",\"Female\"],[\"WASHINGTON DC\",\"Female\"],[\"WASHINGTON DC\",\"Female\"],[\"WASHINGTON DC\",\"Female\"]]},\"selected\":{\"id\":\"19815\"},\"selection_policy\":{\"id\":\"19814\"}},\"id\":\"19664\",\"type\":\"ColumnDataSource\"},{\"attributes\":{},\"id\":\"19823\",\"type\":\"Selection\"},{\"attributes\":{\"coordinates\":null,\"data_source\":{\"id\":\"19672\"},\"glyph\":{\"id\":\"19674\"},\"group\":null,\"hover_glyph\":null,\"muted_glyph\":{\"id\":\"19676\"},\"nonselection_glyph\":{\"id\":\"19675\"},\"selection_glyph\":{\"id\":\"19679\"},\"view\":{\"id\":\"19678\"}},\"id\":\"19677\",\"type\":\"GlyphRenderer\"},{\"attributes\":{},\"id\":\"19821\",\"type\":\"Selection\"},{\"attributes\":{},\"id\":\"19819\",\"type\":\"Selection\"},{\"attributes\":{\"data\":{\"x0\":[[\"ATLANTA GA\",\"Male\"],[\"ATLANTA GA\",\"Female\"],[\"AUSTIN TX\",\"Male\"],[\"AUSTIN TX\",\"Female\"],[\"BOSTON MA\",\"Male\"],[\"BOSTON MA\",\"Female\"],[\"CHICAGO IL\",\"Male\"],[\"CHICAGO IL\",\"Female\"],[\"DALLAS TX\",\"Male\"],[\"DALLAS TX\",\"Female\"],[\"DENVER CO\",\"Male\"],[\"DENVER CO\",\"Female\"],[\"LOS ANGELES CA\",\"Male\"],[\"LOS ANGELES CA\",\"Female\"],[\"MIAMI FL\",\"Male\"],[\"MIAMI FL\",\"Female\"],[\"NASHVILLE TN\",\"Male\"],[\"NASHVILLE TN\",\"Female\"],[\"NEW YORK NY\",\"Male\"],[\"NEW YORK NY\",\"Female\"],[\"ORANGE COUNTY\",\"Male\"],[\"ORANGE COUNTY\",\"Female\"],[\"PHOENIX AZ\",\"Male\"],[\"PHOENIX AZ\",\"Female\"],[\"PITTSBURGH PA\",\"Male\"],[\"PITTSBURGH PA\",\"Female\"],[\"SACRAMENTO CA\",\"Male\"],[\"SACRAMENTO CA\",\"Female\"],[\"SAN DIEGO CA\",\"Male\"],[\"SAN DIEGO CA\",\"Female\"],[\"SEATTLE WA\",\"Male\"],[\"SEATTLE WA\",\"Female\"],[\"SILICON VALLEY\",\"Male\"],[\"SILICON VALLEY\",\"Female\"],[\"TUCSON AZ\",\"Male\"],[\"TUCSON AZ\",\"Female\"],[\"WASHINGTON DC\",\"Male\"],[\"WASHINGTON DC\",\"Female\"]],\"x1\":[[\"ATLANTA GA\",\"Male\"],[\"ATLANTA GA\",\"Female\"],[\"AUSTIN TX\",\"Male\"],[\"AUSTIN TX\",\"Female\"],[\"BOSTON MA\",\"Male\"],[\"BOSTON MA\",\"Female\"],[\"CHICAGO IL\",\"Male\"],[\"CHICAGO IL\",\"Female\"],[\"DALLAS TX\",\"Male\"],[\"DALLAS TX\",\"Female\"],[\"DENVER CO\",\"Male\"],[\"DENVER CO\",\"Female\"],[\"LOS ANGELES CA\",\"Male\"],[\"LOS ANGELES CA\",\"Female\"],[\"MIAMI FL\",\"Male\"],[\"MIAMI FL\",\"Female\"],[\"NASHVILLE TN\",\"Male\"],[\"NASHVILLE TN\",\"Female\"],[\"NEW YORK NY\",\"Male\"],[\"NEW YORK NY\",\"Female\"],[\"ORANGE COUNTY\",\"Male\"],[\"ORANGE COUNTY\",\"Female\"],[\"PHOENIX AZ\",\"Male\"],[\"PHOENIX AZ\",\"Female\"],[\"PITTSBURGH PA\",\"Male\"],[\"PITTSBURGH PA\",\"Female\"],[\"SACRAMENTO CA\",\"Male\"],[\"SACRAMENTO CA\",\"Female\"],[\"SAN DIEGO CA\",\"Male\"],[\"SAN DIEGO CA\",\"Female\"],[\"SEATTLE WA\",\"Male\"],[\"SEATTLE WA\",\"Female\"],[\"SILICON VALLEY\",\"Male\"],[\"SILICON VALLEY\",\"Female\"],[\"TUCSON AZ\",\"Male\"],[\"TUCSON AZ\",\"Female\"],[\"WASHINGTON DC\",\"Male\"],[\"WASHINGTON DC\",\"Female\"]],\"y0\":[65,65,65,62,65,62,65,65,65,65,65,65,65,65,65,65,62,64,65,65,65,65,65,63,62,65,65,64,62,65,65,65,65,65,65,62,65,63],\"y1\":{\"__ndarray__\":\"AAAAAACAREAAAAAAAIBFQAAAAAAAgEZAAAAAAAAAREAAAAAAAABFQAAAAAAAAERAAAAAAACARUAAAAAAAIBFQAAAAAAAgEVAAAAAAABgRUAAAAAAAABFQAAAAAAAAEVAAAAAAACARUAAAAAAAABGQAAAAAAAAEZAAAAAAACARUAAAAAAAABEQAAAAAAAAERAAAAAAAAARUAAAAAAAIBEQAAAAAAAAEVAAAAAAAAARUAAAAAAAABFQAAAAAAAgERAAAAAAAAAREAAAAAAAIBFQAAAAAAAIEZAAAAAAADAREAAAAAAAABEQAAAAAAAAEVAAAAAAACAREAAAAAAAABFQAAAAAAAgERAAAAAAAAARUAAAAAAAABGQAAAAAAAYERAAAAAAACAREAAAAAAAIBEQA==\",\"dtype\":\"float64\",\"order\":\"little\",\"shape\":[38]}},\"selected\":{\"id\":\"19817\"},\"selection_policy\":{\"id\":\"19816\"}},\"id\":\"19672\",\"type\":\"ColumnDataSource\"},{\"attributes\":{\"line_alpha\":{\"value\":0.2},\"x0\":{\"field\":\"x0\"},\"x1\":{\"field\":\"x1\"},\"y0\":{\"field\":\"y0\"},\"y1\":{\"field\":\"y1\"}},\"id\":\"19676\",\"type\":\"Segment\"},{\"attributes\":{},\"id\":\"19816\",\"type\":\"UnionRenderers\"},{\"attributes\":{\"x0\":{\"field\":\"x0\"},\"x1\":{\"field\":\"x1\"},\"y0\":{\"field\":\"y0\"},\"y1\":{\"field\":\"y1\"}},\"id\":\"19674\",\"type\":\"Segment\"},{\"attributes\":{},\"id\":\"19817\",\"type\":\"Selection\"},{\"attributes\":{\"line_alpha\":{\"value\":1.0},\"line_cap\":{\"value\":\"butt\"},\"line_color\":{\"value\":\"black\"},\"line_dash\":{\"value\":[]},\"line_dash_offset\":{\"value\":0},\"line_join\":{\"value\":\"bevel\"},\"line_width\":{\"value\":1},\"x0\":{\"field\":\"x0\"},\"x1\":{\"field\":\"x1\"},\"y0\":{\"field\":\"y0\"},\"y1\":{\"field\":\"y1\"}},\"id\":\"19679\",\"type\":\"Segment\"},{\"attributes\":{\"line_alpha\":{\"value\":0.1},\"x0\":{\"field\":\"x0\"},\"x1\":{\"field\":\"x1\"},\"y0\":{\"field\":\"y0\"},\"y1\":{\"field\":\"y1\"}},\"id\":\"19675\",\"type\":\"Segment\"},{\"attributes\":{},\"id\":\"19815\",\"type\":\"Selection\"},{\"attributes\":{\"source\":{\"id\":\"19664\"}},\"id\":\"19670\",\"type\":\"CDSView\"},{\"attributes\":{\"x0\":{\"field\":\"x0\"},\"x1\":{\"field\":\"x1\"},\"y0\":{\"field\":\"y0\"},\"y1\":{\"field\":\"y1\"}},\"id\":\"19682\",\"type\":\"Segment\"},{\"attributes\":{\"data\":{\"x0\":[[\"ATLANTA GA\",\"Male\"],[\"ATLANTA GA\",\"Female\"],[\"AUSTIN TX\",\"Male\"],[\"AUSTIN TX\",\"Female\"],[\"BOSTON MA\",\"Male\"],[\"BOSTON MA\",\"Female\"],[\"CHICAGO IL\",\"Male\"],[\"CHICAGO IL\",\"Female\"],[\"DALLAS TX\",\"Male\"],[\"DALLAS TX\",\"Female\"],[\"DENVER CO\",\"Male\"],[\"DENVER CO\",\"Female\"],[\"LOS ANGELES CA\",\"Male\"],[\"LOS ANGELES CA\",\"Female\"],[\"MIAMI FL\",\"Male\"],[\"MIAMI FL\",\"Female\"],[\"NASHVILLE TN\",\"Male\"],[\"NASHVILLE TN\",\"Female\"],[\"NEW YORK NY\",\"Male\"],[\"NEW YORK NY\",\"Female\"],[\"ORANGE COUNTY\",\"Male\"],[\"ORANGE COUNTY\",\"Female\"],[\"PHOENIX AZ\",\"Male\"],[\"PHOENIX AZ\",\"Female\"],[\"PITTSBURGH PA\",\"Male\"],[\"PITTSBURGH PA\",\"Female\"],[\"SACRAMENTO CA\",\"Male\"],[\"SACRAMENTO CA\",\"Female\"],[\"SAN DIEGO CA\",\"Male\"],[\"SAN DIEGO CA\",\"Female\"],[\"SEATTLE WA\",\"Male\"],[\"SEATTLE WA\",\"Female\"],[\"SILICON VALLEY\",\"Male\"],[\"SILICON VALLEY\",\"Female\"],[\"TUCSON AZ\",\"Male\"],[\"TUCSON AZ\",\"Female\"],[\"WASHINGTON DC\",\"Male\"],[\"WASHINGTON DC\",\"Female\"]],\"x1\":[[\"ATLANTA GA\",\"Male\"],[\"ATLANTA GA\",\"Female\"],[\"AUSTIN TX\",\"Male\"],[\"AUSTIN TX\",\"Female\"],[\"BOSTON MA\",\"Male\"],[\"BOSTON MA\",\"Female\"],[\"CHICAGO IL\",\"Male\"],[\"CHICAGO IL\",\"Female\"],[\"DALLAS TX\",\"Male\"],[\"DALLAS TX\",\"Female\"],[\"DENVER CO\",\"Male\"],[\"DENVER CO\",\"Female\"],[\"LOS ANGELES CA\",\"Male\"],[\"LOS ANGELES CA\",\"Female\"],[\"MIAMI FL\",\"Male\"],[\"MIAMI FL\",\"Female\"],[\"NASHVILLE TN\",\"Male\"],[\"NASHVILLE TN\",\"Female\"],[\"NEW YORK NY\",\"Male\"],[\"NEW YORK NY\",\"Female\"],[\"ORANGE COUNTY\",\"Male\"],[\"ORANGE COUNTY\",\"Female\"],[\"PHOENIX AZ\",\"Male\"],[\"PHOENIX AZ\",\"Female\"],[\"PITTSBURGH PA\",\"Male\"],[\"PITTSBURGH PA\",\"Female\"],[\"SACRAMENTO CA\",\"Male\"],[\"SACRAMENTO CA\",\"Female\"],[\"SAN DIEGO CA\",\"Male\"],[\"SAN DIEGO CA\",\"Female\"],[\"SEATTLE WA\",\"Male\"],[\"SEATTLE WA\",\"Female\"],[\"SILICON VALLEY\",\"Male\"],[\"SILICON VALLEY\",\"Female\"],[\"TUCSON AZ\",\"Male\"],[\"TUCSON AZ\",\"Female\"],[\"WASHINGTON DC\",\"Male\"],[\"WASHINGTON DC\",\"Female\"]],\"y0\":[18,18,18,18,18,18,18,18,18,18,18,18,18,18,18,18,18,18,18,18,18,18,18,18,18,18,18,18,18,18,18,18,18,18,18,18,18,18],\"y1\":{\"__ndarray__\":\"AAAAAAAAOUAAAAAAAAA5QAAAAAAAADlAAAAAAAAAOUAAAAAAAAA5QAAAAAAAADlAAAAAAAAAOUAAAAAAAAA5QAAAAAAAADpAAAAAAAAAOUAAAAAAAAA5QAAAAAAAADlAAAAAAAAAOUAAAAAAAAA5QAAAAAAAADpAAAAAAAAAOkAAAAAAAAA5QAAAAAAAADhAAAAAAAAAOUAAAAAAAAA5QAAAAAAAADlAAAAAAAAAOUAAAAAAAAA5QAAAAAAAADpAAAAAAAAAOUAAAAAAAAA5QAAAAAAAADlAAAAAAAAAOkAAAAAAAAA5QAAAAAAAADhAAAAAAAAAOUAAAAAAAAA5QAAAAAAAADlAAAAAAAAAOkAAAAAAAAA6QAAAAAAAADpAAAAAAAAAOUAAAAAAAAA6QA==\",\"dtype\":\"float64\",\"order\":\"little\",\"shape\":[38]}},\"selected\":{\"id\":\"19819\"},\"selection_policy\":{\"id\":\"19818\"}},\"id\":\"19680\",\"type\":\"ColumnDataSource\"},{\"attributes\":{},\"id\":\"19814\",\"type\":\"UnionRenderers\"},{\"attributes\":{\"coordinates\":null,\"data_source\":{\"id\":\"19664\"},\"glyph\":{\"id\":\"19666\"},\"group\":null,\"hover_glyph\":null,\"muted_glyph\":{\"id\":\"19668\"},\"nonselection_glyph\":{\"id\":\"19667\"},\"selection_glyph\":{\"id\":\"19671\"},\"view\":{\"id\":\"19670\"}},\"id\":\"19669\",\"type\":\"GlyphRenderer\"},{\"attributes\":{},\"id\":\"19725\",\"type\":\"BasicTickFormatter\"},{\"attributes\":{\"bottom\":{\"field\":\"bottom\"},\"fill_color\":{\"field\":\"box_fill_color\",\"transform\":{\"id\":\"19704\"}},\"top\":{\"field\":\"top\"},\"width\":{\"value\":0.7},\"x\":{\"field\":\"index\"}},\"id\":\"19707\",\"type\":\"VBar\"},{\"attributes\":{\"bottom\":{\"field\":\"bottom\"},\"fill_alpha\":{\"value\":0.1},\"fill_color\":{\"field\":\"box_fill_color\",\"transform\":{\"id\":\"19704\"}},\"hatch_alpha\":{\"value\":0.1},\"line_alpha\":{\"value\":0.1},\"top\":{\"field\":\"top\"},\"width\":{\"value\":0.7},\"x\":{\"field\":\"index\"}},\"id\":\"19708\",\"type\":\"VBar\"},{\"attributes\":{},\"id\":\"19818\",\"type\":\"UnionRenderers\"}],\"root_ids\":[\"19636\"]},\"title\":\"Bokeh Application\",\"version\":\"2.4.2\"}};\n",
       "  const render_items = [{\"docid\":\"cf0b3951-7257-40f3-9a47-75a329c7c53c\",\"root_ids\":[\"19636\"],\"roots\":{\"19636\":\"172f54ce-1f27-4773-807d-672e636ca294\"}}];\n",
       "  root.Bokeh.embed.embed_items_notebook(docs_json, render_items);\n",
       "\n",
       "  }\n",
       "  if (root.Bokeh !== undefined) {\n",
       "    embed_document(root);\n",
       "  } else {\n",
       "    let attempts = 0;\n",
       "    const timer = setInterval(function(root) {\n",
       "      if (root.Bokeh !== undefined) {\n",
       "        clearInterval(timer);\n",
       "        embed_document(root);\n",
       "      } else {\n",
       "        attempts++;\n",
       "        if (attempts > 100) {\n",
       "          clearInterval(timer);\n",
       "          console.log(\"Bokeh: ERROR: Unable to run BokehJS code because BokehJS library is missing\");\n",
       "        }\n",
       "      }\n",
       "    }, 10, root)\n",
       "  }\n",
       "})(window);"
      ],
      "application/vnd.bokehjs_exec.v0+json": ""
     },
     "metadata": {
      "application/vnd.bokehjs_exec.v0+json": {
       "id": "19636"
      }
     },
     "output_type": "display_data"
    }
   ],
   "source": [
    "# Age distribution by gender in each city\n",
    "p3 = hv.render(df.hvplot.box(\n",
    "    y= 'Age',\n",
    "    by = ['City','Gender'],\n",
    "    color = 'Gender',\n",
    "    cmap = ['blue','red'],\n",
    "    title = 'Age Distribution by Gender in Cities',\n",
    "    legend=False,\n",
    "    width = 1200,\n",
    "    height = 500\n",
    ").opts(xrotation = 90,\n",
    "      fontsize = {'title': 15}))\n",
    "p3.xaxis.group_label_orientation = 'vertical'\n",
    "show(p3)"
   ]
  },
  {
   "cell_type": "markdown",
   "metadata": {},
   "source": [
    "> <b> Age distributions by gender are quite even in each city. There is no big age difference between higher and lower cab demand cities </b>\n",
    "\n",
    "> <b> `Pink` cabs has wider female customer age ranges than males in cities such as Los Angeles, San Diego, Silicon Valley Nashville, Pittsburgh, Seattle where `Pink Cab` performs better than other cities </b>"
   ]
  },
  {
   "cell_type": "code",
   "execution_count": 318,
   "metadata": {},
   "outputs": [
    {
     "data": {
      "text/html": [
       "<div>\n",
       "<style scoped>\n",
       "    .dataframe tbody tr th:only-of-type {\n",
       "        vertical-align: middle;\n",
       "    }\n",
       "\n",
       "    .dataframe tbody tr th {\n",
       "        vertical-align: top;\n",
       "    }\n",
       "\n",
       "    .dataframe thead th {\n",
       "        text-align: right;\n",
       "    }\n",
       "</style>\n",
       "<table border=\"1\" class=\"dataframe\">\n",
       "  <thead>\n",
       "    <tr style=\"text-align: right;\">\n",
       "      <th></th>\n",
       "      <th>Age</th>\n",
       "      <th>Transaction ID</th>\n",
       "      <th>KM Travelled</th>\n",
       "      <th>Price Charged</th>\n",
       "      <th>Cost of Trip</th>\n",
       "      <th>Customer ID</th>\n",
       "      <th>Income (USD/Month)</th>\n",
       "      <th>Population</th>\n",
       "      <th>Users</th>\n",
       "      <th>Profit</th>\n",
       "      <th>Year</th>\n",
       "      <th>Month</th>\n",
       "      <th>Age Group</th>\n",
       "    </tr>\n",
       "  </thead>\n",
       "  <tbody>\n",
       "    <tr>\n",
       "      <th>0</th>\n",
       "      <td>18</td>\n",
       "      <td>1.022058e+07</td>\n",
       "      <td>22.525875</td>\n",
       "      <td>424.430050</td>\n",
       "      <td>285.160957</td>\n",
       "      <td>18883.022497</td>\n",
       "      <td>14464.733542</td>\n",
       "      <td>3.142014e+06</td>\n",
       "      <td>156227.433800</td>\n",
       "      <td>139.269093</td>\n",
       "      <td>2017.043426</td>\n",
       "      <td>7.498433</td>\n",
       "      <td>18-25</td>\n",
       "    </tr>\n",
       "    <tr>\n",
       "      <th>1</th>\n",
       "      <td>19</td>\n",
       "      <td>1.022047e+07</td>\n",
       "      <td>22.503793</td>\n",
       "      <td>411.643812</td>\n",
       "      <td>285.000588</td>\n",
       "      <td>18769.266759</td>\n",
       "      <td>15054.463636</td>\n",
       "      <td>2.834895e+06</td>\n",
       "      <td>152169.004745</td>\n",
       "      <td>126.643224</td>\n",
       "      <td>2017.047106</td>\n",
       "      <td>7.463204</td>\n",
       "      <td>18-25</td>\n",
       "    </tr>\n",
       "    <tr>\n",
       "      <th>2</th>\n",
       "      <td>20</td>\n",
       "      <td>1.022026e+07</td>\n",
       "      <td>22.612842</td>\n",
       "      <td>430.329782</td>\n",
       "      <td>286.978253</td>\n",
       "      <td>18588.187914</td>\n",
       "      <td>15525.407229</td>\n",
       "      <td>3.310613e+06</td>\n",
       "      <td>163374.374192</td>\n",
       "      <td>143.351528</td>\n",
       "      <td>2017.040886</td>\n",
       "      <td>7.509036</td>\n",
       "      <td>18-25</td>\n",
       "    </tr>\n",
       "    <tr>\n",
       "      <th>3</th>\n",
       "      <td>21</td>\n",
       "      <td>1.022218e+07</td>\n",
       "      <td>22.619864</td>\n",
       "      <td>427.149974</td>\n",
       "      <td>287.347278</td>\n",
       "      <td>18499.695127</td>\n",
       "      <td>14727.257020</td>\n",
       "      <td>3.349033e+06</td>\n",
       "      <td>164285.416062</td>\n",
       "      <td>139.802696</td>\n",
       "      <td>2017.053189</td>\n",
       "      <td>7.526638</td>\n",
       "      <td>18-25</td>\n",
       "    </tr>\n",
       "    <tr>\n",
       "      <th>4</th>\n",
       "      <td>22</td>\n",
       "      <td>1.022083e+07</td>\n",
       "      <td>22.687810</td>\n",
       "      <td>425.835531</td>\n",
       "      <td>287.867088</td>\n",
       "      <td>18782.857494</td>\n",
       "      <td>15204.666328</td>\n",
       "      <td>3.206016e+06</td>\n",
       "      <td>160372.701933</td>\n",
       "      <td>137.968442</td>\n",
       "      <td>2017.046626</td>\n",
       "      <td>7.473550</td>\n",
       "      <td>18-25</td>\n",
       "    </tr>\n",
       "  </tbody>\n",
       "</table>\n",
       "</div>"
      ],
      "text/plain": [
       "   Age  Transaction ID  KM Travelled  Price Charged  Cost of Trip  \\\n",
       "0   18    1.022058e+07     22.525875     424.430050    285.160957   \n",
       "1   19    1.022047e+07     22.503793     411.643812    285.000588   \n",
       "2   20    1.022026e+07     22.612842     430.329782    286.978253   \n",
       "3   21    1.022218e+07     22.619864     427.149974    287.347278   \n",
       "4   22    1.022083e+07     22.687810     425.835531    287.867088   \n",
       "\n",
       "    Customer ID  Income (USD/Month)    Population          Users      Profit  \\\n",
       "0  18883.022497        14464.733542  3.142014e+06  156227.433800  139.269093   \n",
       "1  18769.266759        15054.463636  2.834895e+06  152169.004745  126.643224   \n",
       "2  18588.187914        15525.407229  3.310613e+06  163374.374192  143.351528   \n",
       "3  18499.695127        14727.257020  3.349033e+06  164285.416062  139.802696   \n",
       "4  18782.857494        15204.666328  3.206016e+06  160372.701933  137.968442   \n",
       "\n",
       "          Year     Month Age Group  \n",
       "0  2017.043426  7.498433     18-25  \n",
       "1  2017.047106  7.463204     18-25  \n",
       "2  2017.040886  7.509036     18-25  \n",
       "3  2017.053189  7.526638     18-25  \n",
       "4  2017.046626  7.473550     18-25  "
      ]
     },
     "execution_count": 318,
     "metadata": {},
     "output_type": "execute_result"
    }
   ],
   "source": [
    "# Create a new dataframe that put customers into 3 age groups\n",
    "age_avg = df.groupby('Age').mean()\n",
    "age_avg.reset_index(inplace = True)\n",
    "\n",
    "for index, row in age_avg.iterrows():\n",
    "    if row['Age'] <= 25:\n",
    "        age_avg.at[index,'Age Group'] = '18-25'\n",
    "    elif row['Age'] > 25 and row['Age'] <= 42:\n",
    "        age_avg.at[index,'Age Group'] = '26-42'\n",
    "    elif row['Age'] > 42:\n",
    "        age_avg.at[index,'Age Group'] = '42-65'\n",
    "age_avg.head()"
   ]
  },
  {
   "cell_type": "code",
   "execution_count": 319,
   "metadata": {},
   "outputs": [
    {
     "name": "stderr",
     "output_type": "stream",
     "text": [
      "BokehUserWarning: ColumnDataSource's columns must be of the same length. Current lengths: ('KM Travelled', 2), ('KM_Travelled', 0), ('index', 2)\n"
     ]
    },
    {
     "data": {},
     "metadata": {},
     "output_type": "display_data"
    },
    {
     "data": {
      "application/vnd.holoviews_exec.v0+json": "",
      "text/html": [
       "<div id='19939'>\n",
       "\n",
       "\n",
       "\n",
       "\n",
       "\n",
       "  <div class=\"bk-root\" id=\"b8fcdec5-1660-4421-b4f6-0fbedc522577\" data-root-id=\"19939\"></div>\n",
       "</div>\n",
       "<script type=\"application/javascript\">(function(root) {\n",
       "  function embed_document(root) {\n",
       "    var docs_json = {\"fd2b6daf-be98-4835-9d5b-aa011849bba3\":{\"defs\":[{\"extends\":null,\"module\":null,\"name\":\"ReactiveHTML1\",\"overrides\":[],\"properties\":[]},{\"extends\":null,\"module\":null,\"name\":\"FlexBox1\",\"overrides\":[],\"properties\":[{\"default\":\"flex-start\",\"kind\":null,\"name\":\"align_content\"},{\"default\":\"flex-start\",\"kind\":null,\"name\":\"align_items\"},{\"default\":\"row\",\"kind\":null,\"name\":\"flex_direction\"},{\"default\":\"wrap\",\"kind\":null,\"name\":\"flex_wrap\"},{\"default\":\"flex-start\",\"kind\":null,\"name\":\"justify_content\"}]},{\"extends\":null,\"module\":null,\"name\":\"GridStack1\",\"overrides\":[],\"properties\":[{\"default\":\"warn\",\"kind\":null,\"name\":\"mode\"},{\"default\":null,\"kind\":null,\"name\":\"ncols\"},{\"default\":null,\"kind\":null,\"name\":\"nrows\"},{\"default\":true,\"kind\":null,\"name\":\"allow_resize\"},{\"default\":true,\"kind\":null,\"name\":\"allow_drag\"},{\"default\":[],\"kind\":null,\"name\":\"state\"}]},{\"extends\":null,\"module\":null,\"name\":\"click1\",\"overrides\":[],\"properties\":[{\"default\":\"\",\"kind\":null,\"name\":\"terminal_output\"},{\"default\":\"\",\"kind\":null,\"name\":\"debug_name\"},{\"default\":0,\"kind\":null,\"name\":\"clears\"}]},{\"extends\":null,\"module\":null,\"name\":\"TemplateActions1\",\"overrides\":[],\"properties\":[{\"default\":0,\"kind\":null,\"name\":\"open_modal\"},{\"default\":0,\"kind\":null,\"name\":\"close_modal\"}]},{\"extends\":null,\"module\":null,\"name\":\"MaterialTemplateActions1\",\"overrides\":[],\"properties\":[{\"default\":0,\"kind\":null,\"name\":\"open_modal\"},{\"default\":0,\"kind\":null,\"name\":\"close_modal\"}]}],\"roots\":{\"references\":[{\"attributes\":{\"source\":{\"id\":\"19987\"}},\"id\":\"19993\",\"type\":\"CDSView\"},{\"attributes\":{},\"id\":\"19960\",\"type\":\"PanTool\"},{\"attributes\":{\"coordinates\":null,\"data_source\":{\"id\":\"19987\"},\"glyph\":{\"id\":\"19989\"},\"group\":null,\"hover_glyph\":null,\"muted_glyph\":{\"id\":\"19991\"},\"nonselection_glyph\":{\"id\":\"19990\"},\"selection_glyph\":{\"id\":\"19994\"},\"view\":{\"id\":\"19993\"}},\"id\":\"19992\",\"type\":\"GlyphRenderer\"},{\"attributes\":{\"line_alpha\":{\"value\":0.1},\"x0\":{\"field\":\"x0\"},\"x1\":{\"field\":\"x1\"},\"y0\":{\"field\":\"y0\"},\"y1\":{\"field\":\"y1\"}},\"id\":\"19998\",\"type\":\"Segment\"},{\"attributes\":{\"below\":[{\"id\":\"19952\"}],\"center\":[{\"id\":\"19954\"},{\"id\":\"19958\"}],\"height\":400,\"left\":[{\"id\":\"19955\"}],\"margin\":[5,5,5,5],\"min_border_bottom\":10,\"min_border_left\":10,\"min_border_right\":10,\"min_border_top\":10,\"renderers\":[{\"id\":\"19976\"},{\"id\":\"19984\"},{\"id\":\"19992\"},{\"id\":\"20000\"},{\"id\":\"20008\"},{\"id\":\"20016\"},{\"id\":\"20024\"}],\"sizing_mode\":\"fixed\",\"title\":{\"id\":\"19944\"},\"toolbar\":{\"id\":\"19965\"},\"x_range\":{\"id\":\"19941\"},\"x_scale\":{\"id\":\"19948\"},\"y_range\":{\"id\":\"19942\"},\"y_scale\":{\"id\":\"19950\"}},\"id\":\"19943\",\"subtype\":\"Figure\",\"type\":\"Plot\"},{\"attributes\":{\"x0\":{\"field\":\"x0\"},\"x1\":{\"field\":\"x1\"},\"y0\":{\"field\":\"y0\"},\"y1\":{\"field\":\"y1\"}},\"id\":\"19989\",\"type\":\"Segment\"},{\"attributes\":{\"line_alpha\":{\"value\":0.2},\"x0\":{\"field\":\"x0\"},\"x1\":{\"field\":\"x1\"},\"y0\":{\"field\":\"y0\"},\"y1\":{\"field\":\"y1\"}},\"id\":\"20007\",\"type\":\"Segment\"},{\"attributes\":{\"line_alpha\":{\"value\":0.2},\"x0\":{\"field\":\"x0\"},\"x1\":{\"field\":\"x1\"},\"y0\":{\"field\":\"y0\"},\"y1\":{\"field\":\"y1\"}},\"id\":\"19999\",\"type\":\"Segment\"},{\"attributes\":{},\"id\":\"20043\",\"type\":\"Selection\"},{\"attributes\":{\"axis\":{\"id\":\"19955\"},\"coordinates\":null,\"dimension\":1,\"grid_line_color\":null,\"group\":null,\"ticker\":null},\"id\":\"19958\",\"type\":\"Grid\"},{\"attributes\":{\"x0\":{\"field\":\"x0\"},\"x1\":{\"field\":\"x1\"},\"y0\":{\"field\":\"y0\"},\"y1\":{\"field\":\"y1\"}},\"id\":\"19997\",\"type\":\"Segment\"},{\"attributes\":{\"overlay\":{\"id\":\"19964\"}},\"id\":\"19962\",\"type\":\"BoxZoomTool\"},{\"attributes\":{\"source\":{\"id\":\"20003\"}},\"id\":\"20009\",\"type\":\"CDSView\"},{\"attributes\":{\"fill_alpha\":{\"value\":0.2},\"fill_color\":{\"value\":\"black\"},\"hatch_alpha\":{\"value\":0.2},\"line_alpha\":{\"value\":0.2},\"x\":{\"field\":\"index\"},\"y\":{\"field\":\"KM_Travelled\"}},\"id\":\"19975\",\"type\":\"Circle\"},{\"attributes\":{},\"id\":\"20042\",\"type\":\"UnionRenderers\"},{\"attributes\":{\"line_alpha\":{\"value\":1.0},\"line_cap\":{\"value\":\"butt\"},\"line_color\":{\"value\":\"black\"},\"line_dash\":{\"value\":[]},\"line_dash_offset\":{\"value\":0},\"line_join\":{\"value\":\"bevel\"},\"line_width\":{\"value\":1},\"x0\":{\"field\":\"x0\"},\"x1\":{\"field\":\"x1\"},\"y0\":{\"field\":\"y0\"},\"y1\":{\"field\":\"y1\"}},\"id\":\"19994\",\"type\":\"Segment\"},{\"attributes\":{},\"id\":\"19950\",\"type\":\"LinearScale\"},{\"attributes\":{\"bottom\":{\"field\":\"bottom\"},\"fill_color\":{\"value\":\"#30a2da\"},\"top\":{\"field\":\"top\"},\"width\":{\"value\":0.7},\"x\":{\"field\":\"index\"}},\"id\":\"20021\",\"type\":\"VBar\"},{\"attributes\":{\"angle\":{\"value\":0.0},\"fill_alpha\":{\"value\":1.0},\"fill_color\":{\"value\":\"black\"},\"hatch_alpha\":{\"value\":1.0},\"hatch_color\":{\"value\":\"black\"},\"hatch_scale\":{\"value\":12.0},\"hatch_weight\":{\"value\":1.0},\"line_alpha\":{\"value\":1.0},\"line_cap\":{\"value\":\"butt\"},\"line_color\":{\"value\":\"black\"},\"line_dash\":{\"value\":[]},\"line_dash_offset\":{\"value\":0},\"line_join\":{\"value\":\"bevel\"},\"line_width\":{\"value\":1},\"size\":{\"value\":4},\"x\":{\"field\":\"index\"},\"y\":{\"field\":\"KM_Travelled\"}},\"id\":\"19978\",\"type\":\"Circle\"},{\"attributes\":{\"bottom\":{\"field\":\"bottom\"},\"fill_alpha\":{\"value\":0.2},\"fill_color\":{\"value\":\"#30a2da\"},\"hatch_alpha\":{\"value\":0.2},\"line_alpha\":{\"value\":0.2},\"top\":{\"field\":\"top\"},\"width\":{\"value\":0.7},\"x\":{\"field\":\"index\"}},\"id\":\"20023\",\"type\":\"VBar\"},{\"attributes\":{\"data\":{\"KM Travelled\":{\"__ndarray__\":\"1fdZPfLuNkC02TgeTCw3QA==\",\"dtype\":\"float64\",\"order\":\"little\",\"shape\":[2]},\"KM_Travelled\":{\"__ndarray__\":\"\",\"dtype\":\"float64\",\"order\":\"little\",\"shape\":[0]},\"index\":[\"42-65\",\"42-65\"]},\"selected\":{\"id\":\"20041\"},\"selection_policy\":{\"id\":\"20040\"}},\"id\":\"19971\",\"type\":\"ColumnDataSource\"},{\"attributes\":{\"data\":{\"x0\":[[\"18-25\",-0.2],[\"26-42\",-0.2],[\"42-65\",-0.2]],\"x1\":[[\"18-25\",0.2],[\"26-42\",0.2],[\"42-65\",0.2]],\"y0\":[22.687810274669378,22.704695405021315,22.754745406824146],\"y1\":[22.687810274669378,22.704695405021315,22.754745406824146]},\"selected\":{\"id\":\"20049\"},\"selection_policy\":{\"id\":\"20048\"}},\"id\":\"20003\",\"type\":\"ColumnDataSource\"},{\"attributes\":{\"bottom\":{\"field\":\"bottom\"},\"fill_alpha\":{\"value\":1.0},\"fill_color\":{\"value\":\"#30a2da\"},\"hatch_alpha\":{\"value\":1.0},\"hatch_color\":{\"value\":\"black\"},\"hatch_scale\":{\"value\":12.0},\"hatch_weight\":{\"value\":1.0},\"line_alpha\":{\"value\":1.0},\"line_cap\":{\"value\":\"butt\"},\"line_color\":{\"value\":\"black\"},\"line_dash\":{\"value\":[]},\"line_dash_offset\":{\"value\":0},\"line_join\":{\"value\":\"bevel\"},\"line_width\":{\"value\":1},\"top\":{\"field\":\"top\"},\"width\":{\"value\":0.7},\"x\":{\"field\":\"index\"}},\"id\":\"20018\",\"type\":\"VBar\"},{\"attributes\":{},\"id\":\"19959\",\"type\":\"SaveTool\"},{\"attributes\":{},\"id\":\"20047\",\"type\":\"Selection\"},{\"attributes\":{},\"id\":\"19961\",\"type\":\"WheelZoomTool\"},{\"attributes\":{\"x0\":{\"field\":\"x0\"},\"x1\":{\"field\":\"x1\"},\"y0\":{\"field\":\"y0\"},\"y1\":{\"field\":\"y1\"}},\"id\":\"19981\",\"type\":\"Segment\"},{\"attributes\":{\"coordinates\":null,\"data_source\":{\"id\":\"19995\"},\"glyph\":{\"id\":\"19997\"},\"group\":null,\"hover_glyph\":null,\"muted_glyph\":{\"id\":\"19999\"},\"nonselection_glyph\":{\"id\":\"19998\"},\"selection_glyph\":{\"id\":\"20002\"},\"view\":{\"id\":\"20001\"}},\"id\":\"20000\",\"type\":\"GlyphRenderer\"},{\"attributes\":{\"bottom\":{\"field\":\"bottom\"},\"fill_alpha\":{\"value\":0.1},\"fill_color\":{\"value\":\"#30a2da\"},\"hatch_alpha\":{\"value\":0.1},\"line_alpha\":{\"value\":0.1},\"top\":{\"field\":\"top\"},\"width\":{\"value\":0.7},\"x\":{\"field\":\"index\"}},\"id\":\"20014\",\"type\":\"VBar\"},{\"attributes\":{\"margin\":[5,5,5,5],\"name\":\"HSpacer63828\",\"sizing_mode\":\"stretch_width\"},\"id\":\"19940\",\"type\":\"Spacer\"},{\"attributes\":{},\"id\":\"20041\",\"type\":\"Selection\"},{\"attributes\":{},\"id\":\"20048\",\"type\":\"UnionRenderers\"},{\"attributes\":{\"line_alpha\":{\"value\":0.1},\"x0\":{\"field\":\"x0\"},\"x1\":{\"field\":\"x1\"},\"y0\":{\"field\":\"y0\"},\"y1\":{\"field\":\"y1\"}},\"id\":\"20006\",\"type\":\"Segment\"},{\"attributes\":{\"axis_label\":\"Age Group\",\"coordinates\":null,\"formatter\":{\"id\":\"20028\"},\"group\":null,\"major_label_policy\":{\"id\":\"20029\"},\"ticker\":{\"id\":\"19953\"}},\"id\":\"19952\",\"type\":\"CategoricalAxis\"},{\"attributes\":{},\"id\":\"20032\",\"type\":\"AllLabels\"},{\"attributes\":{\"source\":{\"id\":\"19971\"}},\"id\":\"19977\",\"type\":\"CDSView\"},{\"attributes\":{\"line_alpha\":{\"value\":0.2},\"x0\":{\"field\":\"x0\"},\"x1\":{\"field\":\"x1\"},\"y0\":{\"field\":\"y0\"},\"y1\":{\"field\":\"y1\"}},\"id\":\"19983\",\"type\":\"Segment\"},{\"attributes\":{\"data\":{\"x0\":[\"18-25\",\"26-42\",\"42-65\"],\"x1\":[\"18-25\",\"26-42\",\"42-65\"],\"y0\":{\"__ndarray__\":\"yY6LVRSwNkBBNQbrZrQ2QK0dt/42wTZA\",\"dtype\":\"float64\",\"order\":\"little\",\"shape\":[3]},\"y1\":{\"__ndarray__\":\"Qg/5w4qfNkA50Li2ep42QDqcHbWKpTZA\",\"dtype\":\"float64\",\"order\":\"little\",\"shape\":[3]}},\"selected\":{\"id\":\"20043\"},\"selection_policy\":{\"id\":\"20042\"}},\"id\":\"19979\",\"type\":\"ColumnDataSource\"},{\"attributes\":{},\"id\":\"20028\",\"type\":\"CategoricalTickFormatter\"},{\"attributes\":{\"axis_label\":\"KM Travelled\",\"coordinates\":null,\"formatter\":{\"id\":\"20031\"},\"group\":null,\"major_label_policy\":{\"id\":\"20032\"},\"ticker\":{\"id\":\"19956\"}},\"id\":\"19955\",\"type\":\"LinearAxis\"},{\"attributes\":{\"coordinates\":null,\"data_source\":{\"id\":\"20003\"},\"glyph\":{\"id\":\"20005\"},\"group\":null,\"hover_glyph\":null,\"muted_glyph\":{\"id\":\"20007\"},\"nonselection_glyph\":{\"id\":\"20006\"},\"selection_glyph\":{\"id\":\"20010\"},\"view\":{\"id\":\"20009\"}},\"id\":\"20008\",\"type\":\"GlyphRenderer\"},{\"attributes\":{},\"id\":\"20052\",\"type\":\"UnionRenderers\"},{\"attributes\":{\"bottom\":{\"field\":\"bottom\"},\"fill_color\":{\"value\":\"#30a2da\"},\"top\":{\"field\":\"top\"},\"width\":{\"value\":0.7},\"x\":{\"field\":\"index\"}},\"id\":\"20013\",\"type\":\"VBar\"},{\"attributes\":{},\"id\":\"19963\",\"type\":\"ResetTool\"},{\"attributes\":{\"line_alpha\":{\"value\":1.0},\"line_cap\":{\"value\":\"butt\"},\"line_color\":{\"value\":\"black\"},\"line_dash\":{\"value\":[]},\"line_dash_offset\":{\"value\":0},\"line_join\":{\"value\":\"bevel\"},\"line_width\":{\"value\":1},\"x0\":{\"field\":\"x0\"},\"x1\":{\"field\":\"x1\"},\"y0\":{\"field\":\"y0\"},\"y1\":{\"field\":\"y1\"}},\"id\":\"20002\",\"type\":\"Segment\"},{\"attributes\":{\"line_alpha\":{\"value\":0.2},\"x0\":{\"field\":\"x0\"},\"x1\":{\"field\":\"x1\"},\"y0\":{\"field\":\"y0\"},\"y1\":{\"field\":\"y1\"}},\"id\":\"19991\",\"type\":\"Segment\"},{\"attributes\":{},\"id\":\"20049\",\"type\":\"Selection\"},{\"attributes\":{\"fill_color\":{\"value\":\"black\"},\"x\":{\"field\":\"index\"},\"y\":{\"field\":\"KM_Travelled\"}},\"id\":\"19973\",\"type\":\"Circle\"},{\"attributes\":{\"coordinates\":null,\"data_source\":{\"id\":\"20019\"},\"glyph\":{\"id\":\"20021\"},\"group\":null,\"hover_glyph\":null,\"muted_glyph\":{\"id\":\"20023\"},\"nonselection_glyph\":{\"id\":\"20022\"},\"selection_glyph\":{\"id\":\"20026\"},\"view\":{\"id\":\"20025\"}},\"id\":\"20024\",\"type\":\"GlyphRenderer\"},{\"attributes\":{},\"id\":\"20031\",\"type\":\"BasicTickFormatter\"},{\"attributes\":{\"bottom_units\":\"screen\",\"coordinates\":null,\"fill_alpha\":0.5,\"fill_color\":\"lightgrey\",\"group\":null,\"left_units\":\"screen\",\"level\":\"overlay\",\"line_alpha\":1.0,\"line_color\":\"black\",\"line_dash\":[4,4],\"line_width\":2,\"right_units\":\"screen\",\"syncable\":false,\"top_units\":\"screen\"},\"id\":\"19964\",\"type\":\"BoxAnnotation\"},{\"attributes\":{\"bottom\":{\"field\":\"bottom\"},\"fill_alpha\":{\"value\":0.1},\"fill_color\":{\"value\":\"#30a2da\"},\"hatch_alpha\":{\"value\":0.1},\"line_alpha\":{\"value\":0.1},\"top\":{\"field\":\"top\"},\"width\":{\"value\":0.7},\"x\":{\"field\":\"index\"}},\"id\":\"20022\",\"type\":\"VBar\"},{\"attributes\":{\"coordinates\":null,\"data_source\":{\"id\":\"20011\"},\"glyph\":{\"id\":\"20013\"},\"group\":null,\"hover_glyph\":null,\"muted_glyph\":{\"id\":\"20015\"},\"nonselection_glyph\":{\"id\":\"20014\"},\"selection_glyph\":{\"id\":\"20018\"},\"view\":{\"id\":\"20017\"}},\"id\":\"20016\",\"type\":\"GlyphRenderer\"},{\"attributes\":{\"bottom\":{\"field\":\"bottom\"},\"fill_alpha\":{\"value\":1.0},\"fill_color\":{\"value\":\"#30a2da\"},\"hatch_alpha\":{\"value\":1.0},\"hatch_color\":{\"value\":\"black\"},\"hatch_scale\":{\"value\":12.0},\"hatch_weight\":{\"value\":1.0},\"line_alpha\":{\"value\":1.0},\"line_cap\":{\"value\":\"butt\"},\"line_color\":{\"value\":\"black\"},\"line_dash\":{\"value\":[]},\"line_dash_offset\":{\"value\":0},\"line_join\":{\"value\":\"bevel\"},\"line_width\":{\"value\":1},\"top\":{\"field\":\"top\"},\"width\":{\"value\":0.7},\"x\":{\"field\":\"index\"}},\"id\":\"20026\",\"type\":\"VBar\"},{\"attributes\":{\"axis\":{\"id\":\"19952\"},\"coordinates\":null,\"grid_line_color\":null,\"group\":null,\"ticker\":null},\"id\":\"19954\",\"type\":\"Grid\"},{\"attributes\":{},\"id\":\"20051\",\"type\":\"Selection\"},{\"attributes\":{\"source\":{\"id\":\"20011\"}},\"id\":\"20017\",\"type\":\"CDSView\"},{\"attributes\":{\"source\":{\"id\":\"20019\"}},\"id\":\"20025\",\"type\":\"CDSView\"},{\"attributes\":{\"fill_alpha\":{\"value\":0.1},\"fill_color\":{\"value\":\"black\"},\"hatch_alpha\":{\"value\":0.1},\"line_alpha\":{\"value\":0.1},\"x\":{\"field\":\"index\"},\"y\":{\"field\":\"KM_Travelled\"}},\"id\":\"19974\",\"type\":\"Circle\"},{\"attributes\":{},\"id\":\"20040\",\"type\":\"UnionRenderers\"},{\"attributes\":{\"line_alpha\":{\"value\":1.0},\"line_cap\":{\"value\":\"butt\"},\"line_color\":{\"value\":\"black\"},\"line_dash\":{\"value\":[]},\"line_dash_offset\":{\"value\":0},\"line_join\":{\"value\":\"bevel\"},\"line_width\":{\"value\":1},\"x0\":{\"field\":\"x0\"},\"x1\":{\"field\":\"x1\"},\"y0\":{\"field\":\"y0\"},\"y1\":{\"field\":\"y1\"}},\"id\":\"19986\",\"type\":\"Segment\"},{\"attributes\":{\"data\":{\"bottom\":{\"__ndarray__\":\"qnuN6yaZNkBnjbyEzoc2QI0G/fHUlTZA\",\"dtype\":\"float64\",\"order\":\"little\",\"shape\":[3]},\"index\":[\"18-25\",\"26-42\",\"42-65\"],\"top\":{\"__ndarray__\":\"zp3d8TWFNkBdy5iijnw2QCAwVMSedjZA\",\"dtype\":\"float64\",\"order\":\"little\",\"shape\":[3]}},\"selected\":{\"id\":\"20053\"},\"selection_policy\":{\"id\":\"20052\"}},\"id\":\"20019\",\"type\":\"ColumnDataSource\"},{\"attributes\":{},\"id\":\"19953\",\"type\":\"CategoricalTicker\"},{\"attributes\":{\"tools\":[{\"id\":\"19959\"},{\"id\":\"19960\"},{\"id\":\"19961\"},{\"id\":\"19962\"},{\"id\":\"19963\"}]},\"id\":\"19965\",\"type\":\"Toolbar\"},{\"attributes\":{\"line_alpha\":{\"value\":0.1},\"x0\":{\"field\":\"x0\"},\"x1\":{\"field\":\"x1\"},\"y0\":{\"field\":\"y0\"},\"y1\":{\"field\":\"y1\"}},\"id\":\"19982\",\"type\":\"Segment\"},{\"attributes\":{},\"id\":\"20029\",\"type\":\"AllLabels\"},{\"attributes\":{\"line_alpha\":{\"value\":1.0},\"line_cap\":{\"value\":\"butt\"},\"line_color\":{\"value\":\"black\"},\"line_dash\":{\"value\":[]},\"line_dash_offset\":{\"value\":0},\"line_join\":{\"value\":\"bevel\"},\"line_width\":{\"value\":1},\"x0\":{\"field\":\"x0\"},\"x1\":{\"field\":\"x1\"},\"y0\":{\"field\":\"y0\"},\"y1\":{\"field\":\"y1\"}},\"id\":\"20010\",\"type\":\"Segment\"},{\"attributes\":{},\"id\":\"19956\",\"type\":\"BasicTicker\"},{\"attributes\":{},\"id\":\"20044\",\"type\":\"UnionRenderers\"},{\"attributes\":{\"line_alpha\":{\"value\":0.1},\"x0\":{\"field\":\"x0\"},\"x1\":{\"field\":\"x1\"},\"y0\":{\"field\":\"y0\"},\"y1\":{\"field\":\"y1\"}},\"id\":\"19990\",\"type\":\"Segment\"},{\"attributes\":{\"margin\":[5,5,5,5],\"name\":\"HSpacer63829\",\"sizing_mode\":\"stretch_width\"},\"id\":\"20077\",\"type\":\"Spacer\"},{\"attributes\":{},\"id\":\"20053\",\"type\":\"Selection\"},{\"attributes\":{\"data\":{\"bottom\":{\"__ndarray__\":\"Qg/5w4qfNkA50Li2ep42QDqcHbWKpTZA\",\"dtype\":\"float64\",\"order\":\"little\",\"shape\":[3]},\"index\":[\"18-25\",\"26-42\",\"42-65\"],\"top\":{\"__ndarray__\":\"qnuN6yaZNkBnjbyEzoc2QI0G/fHUlTZA\",\"dtype\":\"float64\",\"order\":\"little\",\"shape\":[3]}},\"selected\":{\"id\":\"20051\"},\"selection_policy\":{\"id\":\"20050\"}},\"id\":\"20011\",\"type\":\"ColumnDataSource\"},{\"attributes\":{\"source\":{\"id\":\"19995\"}},\"id\":\"20001\",\"type\":\"CDSView\"},{\"attributes\":{\"x0\":{\"field\":\"x0\"},\"x1\":{\"field\":\"x1\"},\"y0\":{\"field\":\"y0\"},\"y1\":{\"field\":\"y1\"}},\"id\":\"20005\",\"type\":\"Segment\"},{\"attributes\":{},\"id\":\"20045\",\"type\":\"Selection\"},{\"attributes\":{},\"id\":\"20046\",\"type\":\"UnionRenderers\"},{\"attributes\":{\"factors\":[\"18-25\",\"26-42\",\"42-65\"],\"tags\":[[[\"Age Group\",\"Age Group\",null]]]},\"id\":\"19941\",\"type\":\"FactorRange\"},{\"attributes\":{\"coordinates\":null,\"data_source\":{\"id\":\"19979\"},\"glyph\":{\"id\":\"19981\"},\"group\":null,\"hover_glyph\":null,\"muted_glyph\":{\"id\":\"19983\"},\"nonselection_glyph\":{\"id\":\"19982\"},\"selection_glyph\":{\"id\":\"19986\"},\"view\":{\"id\":\"19985\"}},\"id\":\"19984\",\"type\":\"GlyphRenderer\"},{\"attributes\":{},\"id\":\"19948\",\"type\":\"CategoricalScale\"},{\"attributes\":{\"children\":[{\"id\":\"19940\"},{\"id\":\"19943\"},{\"id\":\"20077\"}],\"margin\":[0,0,0,0],\"name\":\"Row63824\",\"tags\":[\"embedded\"]},\"id\":\"19939\",\"type\":\"Row\"},{\"attributes\":{},\"id\":\"20050\",\"type\":\"UnionRenderers\"},{\"attributes\":{\"data\":{\"x0\":[[\"18-25\",-0.2],[\"26-42\",-0.2],[\"42-65\",-0.2]],\"x1\":[[\"18-25\",0.2],[\"26-42\",0.2],[\"42-65\",0.2]],\"y0\":[22.444803156667565,22.4061972588014,22.191272565847882],\"y1\":[22.444803156667565,22.4061972588014,22.191272565847882]},\"selected\":{\"id\":\"20047\"},\"selection_policy\":{\"id\":\"20046\"}},\"id\":\"19995\",\"type\":\"ColumnDataSource\"},{\"attributes\":{\"source\":{\"id\":\"19979\"}},\"id\":\"19985\",\"type\":\"CDSView\"},{\"attributes\":{\"coordinates\":null,\"group\":null,\"text\":\"Average Travel Distance Distribution by Age Group\",\"text_color\":\"black\",\"text_font_size\":\"15pt\"},\"id\":\"19944\",\"type\":\"Title\"},{\"attributes\":{\"coordinates\":null,\"data_source\":{\"id\":\"19971\"},\"glyph\":{\"id\":\"19973\"},\"group\":null,\"hover_glyph\":null,\"muted_glyph\":{\"id\":\"19975\"},\"nonselection_glyph\":{\"id\":\"19974\"},\"selection_glyph\":{\"id\":\"19978\"},\"view\":{\"id\":\"19977\"}},\"id\":\"19976\",\"type\":\"GlyphRenderer\"},{\"attributes\":{\"data\":{\"x0\":[\"18-25\",\"26-42\",\"42-65\"],\"x1\":[\"18-25\",\"26-42\",\"42-65\"],\"y0\":{\"__ndarray__\":\"dQujnt5xNkDgRiaL/Gc2QEzwJj33MDZA\",\"dtype\":\"float64\",\"order\":\"little\",\"shape\":[3]},\"y1\":{\"__ndarray__\":\"zp3d8TWFNkBdy5iijnw2QCAwVMSedjZA\",\"dtype\":\"float64\",\"order\":\"little\",\"shape\":[3]}},\"selected\":{\"id\":\"20045\"},\"selection_policy\":{\"id\":\"20044\"}},\"id\":\"19987\",\"type\":\"ColumnDataSource\"},{\"attributes\":{\"bottom\":{\"field\":\"bottom\"},\"fill_alpha\":{\"value\":0.2},\"fill_color\":{\"value\":\"#30a2da\"},\"hatch_alpha\":{\"value\":0.2},\"line_alpha\":{\"value\":0.2},\"top\":{\"field\":\"top\"},\"width\":{\"value\":0.7},\"x\":{\"field\":\"index\"}},\"id\":\"20015\",\"type\":\"VBar\"},{\"attributes\":{\"end\":23.27121285969428,\"reset_end\":23.27121285969428,\"reset_start\":22.09309617549821,\"start\":22.09309617549821,\"tags\":[[[\"KM Travelled\",\"KM Travelled\",null]]]},\"id\":\"19942\",\"type\":\"Range1d\"}],\"root_ids\":[\"19939\"]},\"title\":\"Bokeh Application\",\"version\":\"2.4.2\"}};\n",
       "    var render_items = [{\"docid\":\"fd2b6daf-be98-4835-9d5b-aa011849bba3\",\"root_ids\":[\"19939\"],\"roots\":{\"19939\":\"b8fcdec5-1660-4421-b4f6-0fbedc522577\"}}];\n",
       "    root.Bokeh.embed.embed_items_notebook(docs_json, render_items);\n",
       "  }\n",
       "  if (root.Bokeh !== undefined && root.Bokeh.Panel !== undefined) {\n",
       "    embed_document(root);\n",
       "  } else {\n",
       "    var attempts = 0;\n",
       "    var timer = setInterval(function(root) {\n",
       "      if (root.Bokeh !== undefined && root.Bokeh.Panel !== undefined) {\n",
       "        clearInterval(timer);\n",
       "        embed_document(root);\n",
       "      } else if (document.readyState == \"complete\") {\n",
       "        attempts++;\n",
       "        if (attempts > 200) {\n",
       "          clearInterval(timer);\n",
       "          console.log(\"Bokeh: ERROR: Unable to run BokehJS code because BokehJS library is missing\");\n",
       "        }\n",
       "      }\n",
       "    }, 25, root)\n",
       "  }\n",
       "})(window);</script>"
      ],
      "text/plain": [
       ":BoxWhisker   [Age Group]   (KM Travelled)"
      ]
     },
     "execution_count": 319,
     "metadata": {
      "application/vnd.holoviews_exec.v0+json": {
       "id": "19939"
      }
     },
     "output_type": "execute_result"
    }
   ],
   "source": [
    "# KM Travelled distribution by Age\n",
    "age_avg.hvplot.box(\n",
    "    y = 'KM Travelled',\n",
    "    by = ['Age Group'],\n",
    "    title = 'Average Travel Distance Distribution by Age Group',\n",
    "    legend=False,\n",
    "    width =  600,\n",
    "    height = 400\n",
    ").opts(fontsize = {'title': 15})"
   ]
  },
  {
   "cell_type": "markdown",
   "metadata": {},
   "source": [
    "> <b> As age increases, cab travel distance generally increases, so does the variation of travel distance </b>\n",
    "\n",
    "> <b> Customers from younger age groups generally travel within 23 KMs while customers from 42-65 age group have higher needs taking cabs to closer destinations </b>"
   ]
  },
  {
   "cell_type": "code",
   "execution_count": 320,
   "metadata": {},
   "outputs": [
    {
     "name": "stderr",
     "output_type": "stream",
     "text": [
      "BokehUserWarning: ColumnDataSource's columns must be of the same length. Current lengths: ('Income (USD/Month)', 2), ('Income_left_parenthesis_USD_over_Month_right_parenthesis', 0), ('index', 2)\n"
     ]
    },
    {
     "data": {},
     "metadata": {},
     "output_type": "display_data"
    },
    {
     "data": {
      "application/vnd.holoviews_exec.v0+json": "",
      "text/html": [
       "<div id='20189'>\n",
       "\n",
       "\n",
       "\n",
       "\n",
       "\n",
       "  <div class=\"bk-root\" id=\"73a8bfc7-9821-4c53-a5b7-55c2e1ed7c96\" data-root-id=\"20189\"></div>\n",
       "</div>\n",
       "<script type=\"application/javascript\">(function(root) {\n",
       "  function embed_document(root) {\n",
       "    var docs_json = {\"5da9ba2d-595b-42d5-b7bb-6e66f9bb0d86\":{\"defs\":[{\"extends\":null,\"module\":null,\"name\":\"ReactiveHTML1\",\"overrides\":[],\"properties\":[]},{\"extends\":null,\"module\":null,\"name\":\"FlexBox1\",\"overrides\":[],\"properties\":[{\"default\":\"flex-start\",\"kind\":null,\"name\":\"align_content\"},{\"default\":\"flex-start\",\"kind\":null,\"name\":\"align_items\"},{\"default\":\"row\",\"kind\":null,\"name\":\"flex_direction\"},{\"default\":\"wrap\",\"kind\":null,\"name\":\"flex_wrap\"},{\"default\":\"flex-start\",\"kind\":null,\"name\":\"justify_content\"}]},{\"extends\":null,\"module\":null,\"name\":\"GridStack1\",\"overrides\":[],\"properties\":[{\"default\":\"warn\",\"kind\":null,\"name\":\"mode\"},{\"default\":null,\"kind\":null,\"name\":\"ncols\"},{\"default\":null,\"kind\":null,\"name\":\"nrows\"},{\"default\":true,\"kind\":null,\"name\":\"allow_resize\"},{\"default\":true,\"kind\":null,\"name\":\"allow_drag\"},{\"default\":[],\"kind\":null,\"name\":\"state\"}]},{\"extends\":null,\"module\":null,\"name\":\"click1\",\"overrides\":[],\"properties\":[{\"default\":\"\",\"kind\":null,\"name\":\"terminal_output\"},{\"default\":\"\",\"kind\":null,\"name\":\"debug_name\"},{\"default\":0,\"kind\":null,\"name\":\"clears\"}]},{\"extends\":null,\"module\":null,\"name\":\"TemplateActions1\",\"overrides\":[],\"properties\":[{\"default\":0,\"kind\":null,\"name\":\"open_modal\"},{\"default\":0,\"kind\":null,\"name\":\"close_modal\"}]},{\"extends\":null,\"module\":null,\"name\":\"MaterialTemplateActions1\",\"overrides\":[],\"properties\":[{\"default\":0,\"kind\":null,\"name\":\"open_modal\"},{\"default\":0,\"kind\":null,\"name\":\"close_modal\"}]}],\"roots\":{\"references\":[{\"attributes\":{\"coordinates\":null,\"data_source\":{\"id\":\"20245\"},\"glyph\":{\"id\":\"20247\"},\"group\":null,\"hover_glyph\":null,\"muted_glyph\":{\"id\":\"20249\"},\"nonselection_glyph\":{\"id\":\"20248\"},\"selection_glyph\":{\"id\":\"20252\"},\"view\":{\"id\":\"20251\"}},\"id\":\"20250\",\"type\":\"GlyphRenderer\"},{\"attributes\":{\"axis_label\":\"Age Group\",\"coordinates\":null,\"formatter\":{\"id\":\"20278\"},\"group\":null,\"major_label_policy\":{\"id\":\"20279\"},\"ticker\":{\"id\":\"20203\"}},\"id\":\"20202\",\"type\":\"CategoricalAxis\"},{\"attributes\":{},\"id\":\"20302\",\"type\":\"UnionRenderers\"},{\"attributes\":{\"line_alpha\":{\"value\":1.0},\"line_cap\":{\"value\":\"butt\"},\"line_color\":{\"value\":\"black\"},\"line_dash\":{\"value\":[]},\"line_dash_offset\":{\"value\":0},\"line_join\":{\"value\":\"bevel\"},\"line_width\":{\"value\":1},\"x0\":{\"field\":\"x0\"},\"x1\":{\"field\":\"x1\"},\"y0\":{\"field\":\"y0\"},\"y1\":{\"field\":\"y1\"}},\"id\":\"20236\",\"type\":\"Segment\"},{\"attributes\":{},\"id\":\"20294\",\"type\":\"UnionRenderers\"},{\"attributes\":{\"bottom\":{\"field\":\"bottom\"},\"fill_alpha\":{\"value\":1.0},\"fill_color\":{\"value\":\"#30a2da\"},\"hatch_alpha\":{\"value\":1.0},\"hatch_color\":{\"value\":\"black\"},\"hatch_scale\":{\"value\":12.0},\"hatch_weight\":{\"value\":1.0},\"line_alpha\":{\"value\":1.0},\"line_cap\":{\"value\":\"butt\"},\"line_color\":{\"value\":\"black\"},\"line_dash\":{\"value\":[]},\"line_dash_offset\":{\"value\":0},\"line_join\":{\"value\":\"bevel\"},\"line_width\":{\"value\":1},\"top\":{\"field\":\"top\"},\"width\":{\"value\":0.7},\"x\":{\"field\":\"index\"}},\"id\":\"20268\",\"type\":\"VBar\"},{\"attributes\":{\"source\":{\"id\":\"20229\"}},\"id\":\"20235\",\"type\":\"CDSView\"},{\"attributes\":{\"margin\":[5,5,5,5],\"name\":\"HSpacer64124\",\"sizing_mode\":\"stretch_width\"},\"id\":\"20190\",\"type\":\"Spacer\"},{\"attributes\":{},\"id\":\"20295\",\"type\":\"Selection\"},{\"attributes\":{\"data\":{\"x0\":[\"18-25\",\"26-42\",\"42-65\"],\"x1\":[\"18-25\",\"26-42\",\"42-65\"],\"y0\":{\"__ndarray__\":\"OxYSILRSzkCkVT2xpojOQJfjNodLps9A\",\"dtype\":\"float64\",\"order\":\"little\",\"shape\":[3]},\"y1\":{\"__ndarray__\":\"Pmdp8CO2zUBUq7imEt7NQCaO7zu3P85A\",\"dtype\":\"float64\",\"order\":\"little\",\"shape\":[3]}},\"selected\":{\"id\":\"20293\"},\"selection_policy\":{\"id\":\"20292\"}},\"id\":\"20229\",\"type\":\"ColumnDataSource\"},{\"attributes\":{\"bottom\":{\"field\":\"bottom\"},\"fill_alpha\":{\"value\":0.2},\"fill_color\":{\"value\":\"#30a2da\"},\"hatch_alpha\":{\"value\":0.2},\"line_alpha\":{\"value\":0.2},\"top\":{\"field\":\"top\"},\"width\":{\"value\":0.7},\"x\":{\"field\":\"index\"}},\"id\":\"20273\",\"type\":\"VBar\"},{\"attributes\":{\"coordinates\":null,\"data_source\":{\"id\":\"20221\"},\"glyph\":{\"id\":\"20223\"},\"group\":null,\"hover_glyph\":null,\"muted_glyph\":{\"id\":\"20225\"},\"nonselection_glyph\":{\"id\":\"20224\"},\"selection_glyph\":{\"id\":\"20228\"},\"view\":{\"id\":\"20227\"}},\"id\":\"20226\",\"type\":\"GlyphRenderer\"},{\"attributes\":{\"source\":{\"id\":\"20261\"}},\"id\":\"20267\",\"type\":\"CDSView\"},{\"attributes\":{\"source\":{\"id\":\"20253\"}},\"id\":\"20259\",\"type\":\"CDSView\"},{\"attributes\":{\"axis\":{\"id\":\"20205\"},\"coordinates\":null,\"dimension\":1,\"grid_line_color\":null,\"group\":null,\"ticker\":null},\"id\":\"20208\",\"type\":\"Grid\"},{\"attributes\":{\"line_alpha\":{\"value\":1.0},\"line_cap\":{\"value\":\"butt\"},\"line_color\":{\"value\":\"black\"},\"line_dash\":{\"value\":[]},\"line_dash_offset\":{\"value\":0},\"line_join\":{\"value\":\"bevel\"},\"line_width\":{\"value\":1},\"x0\":{\"field\":\"x0\"},\"x1\":{\"field\":\"x1\"},\"y0\":{\"field\":\"y0\"},\"y1\":{\"field\":\"y1\"}},\"id\":\"20260\",\"type\":\"Segment\"},{\"attributes\":{\"data\":{\"x0\":[[\"18-25\",-0.2],[\"26-42\",-0.2],[\"42-65\",-0.2]],\"x1\":[[\"18-25\",0.2],[\"26-42\",0.2],[\"42-65\",0.2]],\"y0\":[14464.73354231975,14484.42799154334,14418.510582010582],\"y1\":[14464.73354231975,14484.42799154334,14418.510582010582]},\"selected\":{\"id\":\"20297\"},\"selection_policy\":{\"id\":\"20296\"}},\"id\":\"20245\",\"type\":\"ColumnDataSource\"},{\"attributes\":{\"bottom\":{\"field\":\"bottom\"},\"fill_alpha\":{\"value\":0.1},\"fill_color\":{\"value\":\"#30a2da\"},\"hatch_alpha\":{\"value\":0.1},\"line_alpha\":{\"value\":0.1},\"top\":{\"field\":\"top\"},\"width\":{\"value\":0.7},\"x\":{\"field\":\"index\"}},\"id\":\"20264\",\"type\":\"VBar\"},{\"attributes\":{\"bottom\":{\"field\":\"bottom\"},\"fill_color\":{\"value\":\"#30a2da\"},\"top\":{\"field\":\"top\"},\"width\":{\"value\":0.7},\"x\":{\"field\":\"index\"}},\"id\":\"20263\",\"type\":\"VBar\"},{\"attributes\":{},\"id\":\"20278\",\"type\":\"CategoricalTickFormatter\"},{\"attributes\":{\"below\":[{\"id\":\"20202\"}],\"center\":[{\"id\":\"20204\"},{\"id\":\"20208\"}],\"height\":400,\"left\":[{\"id\":\"20205\"}],\"margin\":[5,5,5,5],\"min_border_bottom\":10,\"min_border_left\":10,\"min_border_right\":10,\"min_border_top\":10,\"renderers\":[{\"id\":\"20226\"},{\"id\":\"20234\"},{\"id\":\"20242\"},{\"id\":\"20250\"},{\"id\":\"20258\"},{\"id\":\"20266\"},{\"id\":\"20274\"}],\"sizing_mode\":\"fixed\",\"title\":{\"id\":\"20194\"},\"toolbar\":{\"id\":\"20215\"},\"x_range\":{\"id\":\"20191\"},\"x_scale\":{\"id\":\"20198\"},\"y_range\":{\"id\":\"20192\"},\"y_scale\":{\"id\":\"20200\"}},\"id\":\"20193\",\"subtype\":\"Figure\",\"type\":\"Plot\"},{\"attributes\":{\"x0\":{\"field\":\"x0\"},\"x1\":{\"field\":\"x1\"},\"y0\":{\"field\":\"y0\"},\"y1\":{\"field\":\"y1\"}},\"id\":\"20231\",\"type\":\"Segment\"},{\"attributes\":{},\"id\":\"20282\",\"type\":\"AllLabels\"},{\"attributes\":{\"line_alpha\":{\"value\":0.2},\"x0\":{\"field\":\"x0\"},\"x1\":{\"field\":\"x1\"},\"y0\":{\"field\":\"y0\"},\"y1\":{\"field\":\"y1\"}},\"id\":\"20241\",\"type\":\"Segment\"},{\"attributes\":{\"children\":[{\"id\":\"20190\"},{\"id\":\"20193\"},{\"id\":\"20327\"}],\"margin\":[0,0,0,0],\"name\":\"Row64120\",\"tags\":[\"embedded\"]},\"id\":\"20189\",\"type\":\"Row\"},{\"attributes\":{\"line_alpha\":{\"value\":1.0},\"line_cap\":{\"value\":\"butt\"},\"line_color\":{\"value\":\"black\"},\"line_dash\":{\"value\":[]},\"line_dash_offset\":{\"value\":0},\"line_join\":{\"value\":\"bevel\"},\"line_width\":{\"value\":1},\"x0\":{\"field\":\"x0\"},\"x1\":{\"field\":\"x1\"},\"y0\":{\"field\":\"y0\"},\"y1\":{\"field\":\"y1\"}},\"id\":\"20252\",\"type\":\"Segment\"},{\"attributes\":{\"x0\":{\"field\":\"x0\"},\"x1\":{\"field\":\"x1\"},\"y0\":{\"field\":\"y0\"},\"y1\":{\"field\":\"y1\"}},\"id\":\"20239\",\"type\":\"Segment\"},{\"attributes\":{\"source\":{\"id\":\"20245\"}},\"id\":\"20251\",\"type\":\"CDSView\"},{\"attributes\":{},\"id\":\"20297\",\"type\":\"Selection\"},{\"attributes\":{\"factors\":[\"18-25\",\"26-42\",\"42-65\"],\"tags\":[[[\"Age Group\",\"Age Group\",null]]]},\"id\":\"20191\",\"type\":\"FactorRange\"},{\"attributes\":{\"coordinates\":null,\"data_source\":{\"id\":\"20253\"},\"glyph\":{\"id\":\"20255\"},\"group\":null,\"hover_glyph\":null,\"muted_glyph\":{\"id\":\"20257\"},\"nonselection_glyph\":{\"id\":\"20256\"},\"selection_glyph\":{\"id\":\"20260\"},\"view\":{\"id\":\"20259\"}},\"id\":\"20258\",\"type\":\"GlyphRenderer\"},{\"attributes\":{\"angle\":{\"value\":0.0},\"fill_alpha\":{\"value\":1.0},\"fill_color\":{\"value\":\"black\"},\"hatch_alpha\":{\"value\":1.0},\"hatch_color\":{\"value\":\"black\"},\"hatch_scale\":{\"value\":12.0},\"hatch_weight\":{\"value\":1.0},\"line_alpha\":{\"value\":1.0},\"line_cap\":{\"value\":\"butt\"},\"line_color\":{\"value\":\"black\"},\"line_dash\":{\"value\":[]},\"line_dash_offset\":{\"value\":0},\"line_join\":{\"value\":\"bevel\"},\"line_width\":{\"value\":1},\"size\":{\"value\":4},\"x\":{\"field\":\"index\"},\"y\":{\"field\":\"Income_left_parenthesis_USD_over_Month_right_parenthesis\"}},\"id\":\"20228\",\"type\":\"Circle\"},{\"attributes\":{\"end\":16480.775692824518,\"reset_end\":16480.775692824518,\"reset_start\":13166.548145926246,\"start\":13166.548145926246,\"tags\":[[[\"Income (USD/Month)\",\"Income (USD/Month)\",null]]]},\"id\":\"20192\",\"type\":\"Range1d\"},{\"attributes\":{},\"id\":\"20290\",\"type\":\"UnionRenderers\"},{\"attributes\":{\"bottom\":{\"field\":\"bottom\"},\"fill_color\":{\"value\":\"#30a2da\"},\"top\":{\"field\":\"top\"},\"width\":{\"value\":0.7},\"x\":{\"field\":\"index\"}},\"id\":\"20271\",\"type\":\"VBar\"},{\"attributes\":{\"line_alpha\":{\"value\":0.1},\"x0\":{\"field\":\"x0\"},\"x1\":{\"field\":\"x1\"},\"y0\":{\"field\":\"y0\"},\"y1\":{\"field\":\"y1\"}},\"id\":\"20256\",\"type\":\"Segment\"},{\"attributes\":{},\"id\":\"20200\",\"type\":\"LinearScale\"},{\"attributes\":{\"coordinates\":null,\"data_source\":{\"id\":\"20229\"},\"glyph\":{\"id\":\"20231\"},\"group\":null,\"hover_glyph\":null,\"muted_glyph\":{\"id\":\"20233\"},\"nonselection_glyph\":{\"id\":\"20232\"},\"selection_glyph\":{\"id\":\"20236\"},\"view\":{\"id\":\"20235\"}},\"id\":\"20234\",\"type\":\"GlyphRenderer\"},{\"attributes\":{\"line_alpha\":{\"value\":0.1},\"x0\":{\"field\":\"x0\"},\"x1\":{\"field\":\"x1\"},\"y0\":{\"field\":\"y0\"},\"y1\":{\"field\":\"y1\"}},\"id\":\"20248\",\"type\":\"Segment\"},{\"attributes\":{\"coordinates\":null,\"group\":null,\"text\":\"Average Income Distribution by Age Group\",\"text_color\":\"black\",\"text_font_size\":\"15pt\"},\"id\":\"20194\",\"type\":\"Title\"},{\"attributes\":{\"fill_color\":{\"value\":\"black\"},\"x\":{\"field\":\"index\"},\"y\":{\"field\":\"Income_left_parenthesis_USD_over_Month_right_parenthesis\"}},\"id\":\"20223\",\"type\":\"Circle\"},{\"attributes\":{\"margin\":[5,5,5,5],\"name\":\"HSpacer64125\",\"sizing_mode\":\"stretch_width\"},\"id\":\"20327\",\"type\":\"Spacer\"},{\"attributes\":{},\"id\":\"20203\",\"type\":\"CategoricalTicker\"},{\"attributes\":{},\"id\":\"20293\",\"type\":\"Selection\"},{\"attributes\":{},\"id\":\"20198\",\"type\":\"CategoricalScale\"},{\"attributes\":{\"coordinates\":null,\"data_source\":{\"id\":\"20237\"},\"glyph\":{\"id\":\"20239\"},\"group\":null,\"hover_glyph\":null,\"muted_glyph\":{\"id\":\"20241\"},\"nonselection_glyph\":{\"id\":\"20240\"},\"selection_glyph\":{\"id\":\"20244\"},\"view\":{\"id\":\"20243\"}},\"id\":\"20242\",\"type\":\"GlyphRenderer\"},{\"attributes\":{\"fill_alpha\":{\"value\":0.1},\"fill_color\":{\"value\":\"black\"},\"hatch_alpha\":{\"value\":0.1},\"line_alpha\":{\"value\":0.1},\"x\":{\"field\":\"index\"},\"y\":{\"field\":\"Income_left_parenthesis_USD_over_Month_right_parenthesis\"}},\"id\":\"20224\",\"type\":\"Circle\"},{\"attributes\":{},\"id\":\"20279\",\"type\":\"AllLabels\"},{\"attributes\":{},\"id\":\"20281\",\"type\":\"BasicTickFormatter\"},{\"attributes\":{\"axis\":{\"id\":\"20202\"},\"coordinates\":null,\"grid_line_color\":null,\"group\":null,\"ticker\":null},\"id\":\"20204\",\"type\":\"Grid\"},{\"attributes\":{\"data\":{\"bottom\":{\"__ndarray__\":\"Pmdp8CO2zUBUq7imEt7NQCaO7zu3P85A\",\"dtype\":\"float64\",\"order\":\"little\",\"shape\":[3]},\"index\":[\"18-25\",\"26-42\",\"42-65\"],\"top\":{\"__ndarray__\":\"FGlEn1aGzUALcjFCrV7NQGz0HRHcoM1A\",\"dtype\":\"float64\",\"order\":\"little\",\"shape\":[3]}},\"selected\":{\"id\":\"20301\"},\"selection_policy\":{\"id\":\"20300\"}},\"id\":\"20261\",\"type\":\"ColumnDataSource\"},{\"attributes\":{},\"id\":\"20300\",\"type\":\"UnionRenderers\"},{\"attributes\":{\"line_alpha\":{\"value\":0.1},\"x0\":{\"field\":\"x0\"},\"x1\":{\"field\":\"x1\"},\"y0\":{\"field\":\"y0\"},\"y1\":{\"field\":\"y1\"}},\"id\":\"20232\",\"type\":\"Segment\"},{\"attributes\":{},\"id\":\"20301\",\"type\":\"Selection\"},{\"attributes\":{\"coordinates\":null,\"data_source\":{\"id\":\"20261\"},\"glyph\":{\"id\":\"20263\"},\"group\":null,\"hover_glyph\":null,\"muted_glyph\":{\"id\":\"20265\"},\"nonselection_glyph\":{\"id\":\"20264\"},\"selection_glyph\":{\"id\":\"20268\"},\"view\":{\"id\":\"20267\"}},\"id\":\"20266\",\"type\":\"GlyphRenderer\"},{\"attributes\":{},\"id\":\"20206\",\"type\":\"BasicTicker\"},{\"attributes\":{},\"id\":\"20291\",\"type\":\"Selection\"},{\"attributes\":{\"axis_label\":\"Income (USD/Month)\",\"coordinates\":null,\"formatter\":{\"id\":\"20281\"},\"group\":null,\"major_label_policy\":{\"id\":\"20282\"},\"ticker\":{\"id\":\"20206\"}},\"id\":\"20205\",\"type\":\"LinearAxis\"},{\"attributes\":{\"source\":{\"id\":\"20237\"}},\"id\":\"20243\",\"type\":\"CDSView\"},{\"attributes\":{\"coordinates\":null,\"data_source\":{\"id\":\"20269\"},\"glyph\":{\"id\":\"20271\"},\"group\":null,\"hover_glyph\":null,\"muted_glyph\":{\"id\":\"20273\"},\"nonselection_glyph\":{\"id\":\"20272\"},\"selection_glyph\":{\"id\":\"20276\"},\"view\":{\"id\":\"20275\"}},\"id\":\"20274\",\"type\":\"GlyphRenderer\"},{\"attributes\":{\"fill_alpha\":{\"value\":0.2},\"fill_color\":{\"value\":\"black\"},\"hatch_alpha\":{\"value\":0.2},\"line_alpha\":{\"value\":0.2},\"x\":{\"field\":\"index\"},\"y\":{\"field\":\"Income_left_parenthesis_USD_over_Month_right_parenthesis\"}},\"id\":\"20225\",\"type\":\"Circle\"},{\"attributes\":{\"line_alpha\":{\"value\":1.0},\"line_cap\":{\"value\":\"butt\"},\"line_color\":{\"value\":\"black\"},\"line_dash\":{\"value\":[]},\"line_dash_offset\":{\"value\":0},\"line_join\":{\"value\":\"bevel\"},\"line_width\":{\"value\":1},\"x0\":{\"field\":\"x0\"},\"x1\":{\"field\":\"x1\"},\"y0\":{\"field\":\"y0\"},\"y1\":{\"field\":\"y1\"}},\"id\":\"20244\",\"type\":\"Segment\"},{\"attributes\":{\"source\":{\"id\":\"20269\"}},\"id\":\"20275\",\"type\":\"CDSView\"},{\"attributes\":{\"data\":{\"Income (USD/Month)\":{\"__ndarray__\":\"+l6Cs/yKykBEclXsXUHKQA==\",\"dtype\":\"float64\",\"order\":\"little\",\"shape\":[2]},\"Income_left_parenthesis_USD_over_Month_right_parenthesis\":{\"__ndarray__\":\"\",\"dtype\":\"float64\",\"order\":\"little\",\"shape\":[0]},\"index\":[\"42-65\",\"42-65\"]},\"selected\":{\"id\":\"20291\"},\"selection_policy\":{\"id\":\"20290\"}},\"id\":\"20221\",\"type\":\"ColumnDataSource\"},{\"attributes\":{},\"id\":\"20210\",\"type\":\"PanTool\"},{\"attributes\":{\"bottom\":{\"field\":\"bottom\"},\"fill_alpha\":{\"value\":0.2},\"fill_color\":{\"value\":\"#30a2da\"},\"hatch_alpha\":{\"value\":0.2},\"line_alpha\":{\"value\":0.2},\"top\":{\"field\":\"top\"},\"width\":{\"value\":0.7},\"x\":{\"field\":\"index\"}},\"id\":\"20265\",\"type\":\"VBar\"},{\"attributes\":{},\"id\":\"20296\",\"type\":\"UnionRenderers\"},{\"attributes\":{},\"id\":\"20299\",\"type\":\"Selection\"},{\"attributes\":{\"line_alpha\":{\"value\":0.2},\"x0\":{\"field\":\"x0\"},\"x1\":{\"field\":\"x1\"},\"y0\":{\"field\":\"y0\"},\"y1\":{\"field\":\"y1\"}},\"id\":\"20249\",\"type\":\"Segment\"},{\"attributes\":{},\"id\":\"20209\",\"type\":\"SaveTool\"},{\"attributes\":{\"line_alpha\":{\"value\":0.2},\"x0\":{\"field\":\"x0\"},\"x1\":{\"field\":\"x1\"},\"y0\":{\"field\":\"y0\"},\"y1\":{\"field\":\"y1\"}},\"id\":\"20257\",\"type\":\"Segment\"},{\"attributes\":{\"line_alpha\":{\"value\":0.1},\"x0\":{\"field\":\"x0\"},\"x1\":{\"field\":\"x1\"},\"y0\":{\"field\":\"y0\"},\"y1\":{\"field\":\"y1\"}},\"id\":\"20240\",\"type\":\"Segment\"},{\"attributes\":{},\"id\":\"20211\",\"type\":\"WheelZoomTool\"},{\"attributes\":{\"overlay\":{\"id\":\"20214\"}},\"id\":\"20212\",\"type\":\"BoxZoomTool\"},{\"attributes\":{\"bottom\":{\"field\":\"bottom\"},\"fill_alpha\":{\"value\":0.1},\"fill_color\":{\"value\":\"#30a2da\"},\"hatch_alpha\":{\"value\":0.1},\"line_alpha\":{\"value\":0.1},\"top\":{\"field\":\"top\"},\"width\":{\"value\":0.7},\"x\":{\"field\":\"index\"}},\"id\":\"20272\",\"type\":\"VBar\"},{\"attributes\":{\"bottom\":{\"field\":\"bottom\"},\"fill_alpha\":{\"value\":1.0},\"fill_color\":{\"value\":\"#30a2da\"},\"hatch_alpha\":{\"value\":1.0},\"hatch_color\":{\"value\":\"black\"},\"hatch_scale\":{\"value\":12.0},\"hatch_weight\":{\"value\":1.0},\"line_alpha\":{\"value\":1.0},\"line_cap\":{\"value\":\"butt\"},\"line_color\":{\"value\":\"black\"},\"line_dash\":{\"value\":[]},\"line_dash_offset\":{\"value\":0},\"line_join\":{\"value\":\"bevel\"},\"line_width\":{\"value\":1},\"top\":{\"field\":\"top\"},\"width\":{\"value\":0.7},\"x\":{\"field\":\"index\"}},\"id\":\"20276\",\"type\":\"VBar\"},{\"attributes\":{\"line_alpha\":{\"value\":0.2},\"x0\":{\"field\":\"x0\"},\"x1\":{\"field\":\"x1\"},\"y0\":{\"field\":\"y0\"},\"y1\":{\"field\":\"y1\"}},\"id\":\"20233\",\"type\":\"Segment\"},{\"attributes\":{\"x0\":{\"field\":\"x0\"},\"x1\":{\"field\":\"x1\"},\"y0\":{\"field\":\"y0\"},\"y1\":{\"field\":\"y1\"}},\"id\":\"20255\",\"type\":\"Segment\"},{\"attributes\":{},\"id\":\"20298\",\"type\":\"UnionRenderers\"},{\"attributes\":{\"data\":{\"bottom\":{\"__ndarray__\":\"FGlEn1aGzUALcjFCrV7NQGz0HRHcoM1A\",\"dtype\":\"float64\",\"order\":\"little\",\"shape\":[3]},\"index\":[\"18-25\",\"26-42\",\"42-65\"],\"top\":{\"__ndarray__\":\"yAWheGAMzUB8ZTfMUfLMQIZicpqb/cxA\",\"dtype\":\"float64\",\"order\":\"little\",\"shape\":[3]}},\"selected\":{\"id\":\"20303\"},\"selection_policy\":{\"id\":\"20302\"}},\"id\":\"20269\",\"type\":\"ColumnDataSource\"},{\"attributes\":{},\"id\":\"20213\",\"type\":\"ResetTool\"},{\"attributes\":{\"bottom_units\":\"screen\",\"coordinates\":null,\"fill_alpha\":0.5,\"fill_color\":\"lightgrey\",\"group\":null,\"left_units\":\"screen\",\"level\":\"overlay\",\"line_alpha\":1.0,\"line_color\":\"black\",\"line_dash\":[4,4],\"line_width\":2,\"right_units\":\"screen\",\"syncable\":false,\"top_units\":\"screen\"},\"id\":\"20214\",\"type\":\"BoxAnnotation\"},{\"attributes\":{},\"id\":\"20303\",\"type\":\"Selection\"},{\"attributes\":{\"x0\":{\"field\":\"x0\"},\"x1\":{\"field\":\"x1\"},\"y0\":{\"field\":\"y0\"},\"y1\":{\"field\":\"y1\"}},\"id\":\"20247\",\"type\":\"Segment\"},{\"attributes\":{\"tools\":[{\"id\":\"20209\"},{\"id\":\"20210\"},{\"id\":\"20211\"},{\"id\":\"20212\"},{\"id\":\"20213\"}]},\"id\":\"20215\",\"type\":\"Toolbar\"},{\"attributes\":{\"data\":{\"x0\":[[\"18-25\",-0.2],[\"26-42\",-0.2],[\"42-65\",-0.2]],\"x1\":[[\"18-25\",0.2],[\"26-42\",0.2],[\"42-65\",0.2]],\"y0\":[15525.407228718619,15633.302283922974,16204.590063916328],\"y1\":[15525.407228718619,15633.302283922974,16204.590063916328]},\"selected\":{\"id\":\"20299\"},\"selection_policy\":{\"id\":\"20298\"}},\"id\":\"20253\",\"type\":\"ColumnDataSource\"},{\"attributes\":{\"data\":{\"x0\":[\"18-25\",\"26-42\",\"42-65\"],\"x1\":[\"18-25\",\"26-42\",\"42-65\"],\"y0\":{\"__ndarray__\":\"x/i25F1AzEDOSG3INkrMQLBWwFpBKcxA\",\"dtype\":\"float64\",\"order\":\"little\",\"shape\":[3]},\"y1\":{\"__ndarray__\":\"yAWheGAMzUB8ZTfMUfLMQIZicpqb/cxA\",\"dtype\":\"float64\",\"order\":\"little\",\"shape\":[3]}},\"selected\":{\"id\":\"20295\"},\"selection_policy\":{\"id\":\"20294\"}},\"id\":\"20237\",\"type\":\"ColumnDataSource\"},{\"attributes\":{\"source\":{\"id\":\"20221\"}},\"id\":\"20227\",\"type\":\"CDSView\"},{\"attributes\":{},\"id\":\"20292\",\"type\":\"UnionRenderers\"}],\"root_ids\":[\"20189\"]},\"title\":\"Bokeh Application\",\"version\":\"2.4.2\"}};\n",
       "    var render_items = [{\"docid\":\"5da9ba2d-595b-42d5-b7bb-6e66f9bb0d86\",\"root_ids\":[\"20189\"],\"roots\":{\"20189\":\"73a8bfc7-9821-4c53-a5b7-55c2e1ed7c96\"}}];\n",
       "    root.Bokeh.embed.embed_items_notebook(docs_json, render_items);\n",
       "  }\n",
       "  if (root.Bokeh !== undefined && root.Bokeh.Panel !== undefined) {\n",
       "    embed_document(root);\n",
       "  } else {\n",
       "    var attempts = 0;\n",
       "    var timer = setInterval(function(root) {\n",
       "      if (root.Bokeh !== undefined && root.Bokeh.Panel !== undefined) {\n",
       "        clearInterval(timer);\n",
       "        embed_document(root);\n",
       "      } else if (document.readyState == \"complete\") {\n",
       "        attempts++;\n",
       "        if (attempts > 200) {\n",
       "          clearInterval(timer);\n",
       "          console.log(\"Bokeh: ERROR: Unable to run BokehJS code because BokehJS library is missing\");\n",
       "        }\n",
       "      }\n",
       "    }, 25, root)\n",
       "  }\n",
       "})(window);</script>"
      ],
      "text/plain": [
       ":BoxWhisker   [Age Group]   (Income (USD/Month))"
      ]
     },
     "execution_count": 320,
     "metadata": {
      "application/vnd.holoviews_exec.v0+json": {
       "id": "20189"
      }
     },
     "output_type": "execute_result"
    }
   ],
   "source": [
    "# Income distribution by Age\n",
    "age_avg.hvplot.box(\n",
    "    y = 'Income (USD/Month)',\n",
    "    by = ['Age Group'],\n",
    "    title = 'Average Income Distribution by Age Group',\n",
    "    legend=False,\n",
    "    width =  600,\n",
    "    height = 400\n",
    ").opts(fontsize = {'title': 15})"
   ]
  },
  {
   "cell_type": "markdown",
   "metadata": {},
   "source": [
    "> <b> As age increases, income generally increases, so does the income variation </b>\n",
    "\n",
    "> <b> Customers from younger age groups have incomes between 14500 and 15700, while customers from 42-65 age group have income as high as 16300 and as low as 14400 </b>"
   ]
  },
  {
   "cell_type": "code",
   "execution_count": 321,
   "metadata": {},
   "outputs": [
    {
     "data": {},
     "metadata": {},
     "output_type": "display_data"
    },
    {
     "data": {
      "application/vnd.holoviews_exec.v0+json": "",
      "text/html": [
       "<div id='20439'>\n",
       "\n",
       "\n",
       "\n",
       "\n",
       "\n",
       "  <div class=\"bk-root\" id=\"32ff7069-65b0-40f6-82ae-ef2f411bcc36\" data-root-id=\"20439\"></div>\n",
       "</div>\n",
       "<script type=\"application/javascript\">(function(root) {\n",
       "  function embed_document(root) {\n",
       "    var docs_json = {\"7da75bf8-4051-444d-a4b4-b7f9832c9917\":{\"defs\":[{\"extends\":null,\"module\":null,\"name\":\"ReactiveHTML1\",\"overrides\":[],\"properties\":[]},{\"extends\":null,\"module\":null,\"name\":\"FlexBox1\",\"overrides\":[],\"properties\":[{\"default\":\"flex-start\",\"kind\":null,\"name\":\"align_content\"},{\"default\":\"flex-start\",\"kind\":null,\"name\":\"align_items\"},{\"default\":\"row\",\"kind\":null,\"name\":\"flex_direction\"},{\"default\":\"wrap\",\"kind\":null,\"name\":\"flex_wrap\"},{\"default\":\"flex-start\",\"kind\":null,\"name\":\"justify_content\"}]},{\"extends\":null,\"module\":null,\"name\":\"GridStack1\",\"overrides\":[],\"properties\":[{\"default\":\"warn\",\"kind\":null,\"name\":\"mode\"},{\"default\":null,\"kind\":null,\"name\":\"ncols\"},{\"default\":null,\"kind\":null,\"name\":\"nrows\"},{\"default\":true,\"kind\":null,\"name\":\"allow_resize\"},{\"default\":true,\"kind\":null,\"name\":\"allow_drag\"},{\"default\":[],\"kind\":null,\"name\":\"state\"}]},{\"extends\":null,\"module\":null,\"name\":\"click1\",\"overrides\":[],\"properties\":[{\"default\":\"\",\"kind\":null,\"name\":\"terminal_output\"},{\"default\":\"\",\"kind\":null,\"name\":\"debug_name\"},{\"default\":0,\"kind\":null,\"name\":\"clears\"}]},{\"extends\":null,\"module\":null,\"name\":\"TemplateActions1\",\"overrides\":[],\"properties\":[{\"default\":0,\"kind\":null,\"name\":\"open_modal\"},{\"default\":0,\"kind\":null,\"name\":\"close_modal\"}]},{\"extends\":null,\"module\":null,\"name\":\"MaterialTemplateActions1\",\"overrides\":[],\"properties\":[{\"default\":0,\"kind\":null,\"name\":\"open_modal\"},{\"default\":0,\"kind\":null,\"name\":\"close_modal\"}]}],\"roots\":{\"references\":[{\"attributes\":{\"factors\":[[\"Pink Cab\",\"Female\"],[\"Pink Cab\",\"Male\"],[\"Yellow Cab\",\"Female\"],[\"Yellow Cab\",\"Male\"]],\"tags\":[[[\"Company\",\"Company\",null],[\"Gender\",\"Gender\",null]]]},\"id\":\"20441\",\"type\":\"FactorRange\"},{\"attributes\":{\"line_alpha\":{\"value\":0.1},\"x0\":{\"field\":\"x\"},\"x1\":{\"field\":\"x\"},\"y0\":{\"field\":\"y0\"},\"y1\":{\"field\":\"y1\"}},\"id\":\"20491\",\"type\":\"Segment\"},{\"attributes\":{},\"id\":\"20513\",\"type\":\"CategoricalTickFormatter\"},{\"attributes\":{\"data\":{\"x\":[[\"Pink Cab\",\"Male\",0],[\"Yellow Cab\",\"Male\",0],[\"Yellow Cab\",\"Female\",0],[\"Pink Cab\",\"Female\",0]],\"y\":{\"__ndarray__\":\"AAAAAIC5zEAAAAAAgLrMQAAAAAAAjcxAAAAAAEC+zEA=\",\"dtype\":\"float64\",\"order\":\"little\",\"shape\":[4]}},\"selected\":{\"id\":\"20534\"},\"selection_policy\":{\"id\":\"20533\"}},\"id\":\"20504\",\"type\":\"ColumnDataSource\"},{\"attributes\":{\"margin\":[5,5,5,5],\"name\":\"HSpacer64395\",\"sizing_mode\":\"stretch_width\"},\"id\":\"20440\",\"type\":\"Spacer\"},{\"attributes\":{\"below\":[{\"id\":\"20452\"}],\"center\":[{\"id\":\"20454\"},{\"id\":\"20458\"}],\"height\":500,\"left\":[{\"id\":\"20455\"}],\"margin\":[5,5,5,5],\"min_border_bottom\":10,\"min_border_left\":10,\"min_border_right\":10,\"min_border_top\":10,\"renderers\":[{\"id\":\"20477\"},{\"id\":\"20485\"},{\"id\":\"20493\"},{\"id\":\"20501\"},{\"id\":\"20509\"}],\"sizing_mode\":\"fixed\",\"title\":{\"id\":\"20444\"},\"toolbar\":{\"id\":\"20465\"},\"x_range\":{\"id\":\"20441\"},\"x_scale\":{\"id\":\"20448\"},\"y_range\":{\"id\":\"20442\"},\"y_scale\":{\"id\":\"20450\"}},\"id\":\"20443\",\"subtype\":\"Figure\",\"type\":\"Plot\"},{\"attributes\":{},\"id\":\"20514\",\"type\":\"AllLabels\"},{\"attributes\":{\"bottom\":{\"field\":\"bottom\"},\"fill_color\":{\"value\":\"black\"},\"top\":{\"field\":\"top\"},\"width\":{\"value\":0.1},\"x\":{\"field\":\"x\"}},\"id\":\"20498\",\"type\":\"VBar\"},{\"attributes\":{\"coordinates\":null,\"data_source\":{\"id\":\"20472\"},\"glyph\":{\"id\":\"20474\"},\"group\":null,\"hover_glyph\":null,\"muted_glyph\":{\"id\":\"20476\"},\"nonselection_glyph\":{\"id\":\"20475\"},\"selection_glyph\":{\"id\":\"20479\"},\"view\":{\"id\":\"20478\"}},\"id\":\"20477\",\"type\":\"GlyphRenderer\"},{\"attributes\":{\"line_alpha\":{\"value\":0.2},\"x0\":{\"field\":\"x\"},\"x1\":{\"field\":\"x\"},\"y0\":{\"field\":\"y0\"},\"y1\":{\"field\":\"y1\"}},\"id\":\"20492\",\"type\":\"Segment\"},{\"attributes\":{},\"id\":\"20529\",\"type\":\"UnionRenderers\"},{\"attributes\":{\"xs\":{\"field\":\"xs\"},\"ys\":{\"field\":\"ys\"}},\"id\":\"20482\",\"type\":\"MultiLine\"},{\"attributes\":{\"end\":38300.0,\"reset_end\":38300.0,\"reset_start\":-1300.0,\"start\":-1300.0,\"tags\":[[[\"Income (USD/Month)\",\"Income (USD/Month)\",null]]]},\"id\":\"20442\",\"type\":\"Range1d\"},{\"attributes\":{},\"id\":\"20526\",\"type\":\"Selection\"},{\"attributes\":{},\"id\":\"20534\",\"type\":\"Selection\"},{\"attributes\":{\"coordinates\":null,\"group\":null,\"text\":\"User Income Distribution by Gender by Company\",\"text_color\":\"black\",\"text_font_size\":\"12pt\"},\"id\":\"20444\",\"type\":\"Title\"},{\"attributes\":{\"line_alpha\":{\"value\":1.0},\"line_cap\":{\"value\":\"butt\"},\"line_color\":{\"value\":\"black\"},\"line_dash\":{\"value\":[]},\"line_dash_offset\":{\"value\":0},\"line_join\":{\"value\":\"bevel\"},\"line_width\":{\"value\":1},\"xs\":{\"field\":\"xs\"},\"ys\":{\"field\":\"ys\"}},\"id\":\"20487\",\"type\":\"MultiLine\"},{\"attributes\":{},\"id\":\"20450\",\"type\":\"LinearScale\"},{\"attributes\":{},\"id\":\"20530\",\"type\":\"Selection\"},{\"attributes\":{\"source\":{\"id\":\"20488\"}},\"id\":\"20494\",\"type\":\"CDSView\"},{\"attributes\":{\"data\":{\"bottom\":{\"__ndarray__\":\"AAAAAACnwEAAAAAAgKXAQAAAAACAPcBAAAAAAAD8v0A=\",\"dtype\":\"float64\",\"order\":\"little\",\"shape\":[4]},\"top\":{\"__ndarray__\":\"AAAAAMBy1EAAAAAAgGnUQAAAAADAp9RAAAAAAEC41EA=\",\"dtype\":\"float64\",\"order\":\"little\",\"shape\":[4]},\"x\":[[\"Pink Cab\",\"Male\",0],[\"Yellow Cab\",\"Male\",0],[\"Yellow Cab\",\"Female\",0],[\"Pink Cab\",\"Female\",0]]},\"selected\":{\"id\":\"20532\"},\"selection_policy\":{\"id\":\"20531\"}},\"id\":\"20496\",\"type\":\"ColumnDataSource\"},{\"attributes\":{\"axis_label\":\"Company, Gender\",\"coordinates\":null,\"formatter\":{\"id\":\"20513\"},\"group\":null,\"major_label_policy\":{\"id\":\"20514\"},\"ticker\":{\"id\":\"20453\"}},\"id\":\"20452\",\"type\":\"CategoricalAxis\"},{\"attributes\":{\"source\":{\"id\":\"20480\"}},\"id\":\"20486\",\"type\":\"CDSView\"},{\"attributes\":{},\"id\":\"20532\",\"type\":\"Selection\"},{\"attributes\":{\"children\":[{\"id\":\"20440\"},{\"id\":\"20443\"},{\"id\":\"20554\"}],\"margin\":[0,0,0,0],\"name\":\"Row64391\",\"tags\":[\"embedded\"]},\"id\":\"20439\",\"type\":\"Row\"},{\"attributes\":{\"line_alpha\":{\"value\":0.1},\"xs\":{\"field\":\"xs\"},\"ys\":{\"field\":\"ys\"}},\"id\":\"20483\",\"type\":\"MultiLine\"},{\"attributes\":{\"bottom\":{\"field\":\"bottom\"},\"fill_alpha\":{\"value\":1.0},\"fill_color\":{\"value\":\"black\"},\"hatch_alpha\":{\"value\":1.0},\"hatch_color\":{\"value\":\"black\"},\"hatch_scale\":{\"value\":12.0},\"hatch_weight\":{\"value\":1.0},\"line_alpha\":{\"value\":1.0},\"line_cap\":{\"value\":\"butt\"},\"line_color\":{\"value\":\"black\"},\"line_dash\":{\"value\":[]},\"line_dash_offset\":{\"value\":0},\"line_join\":{\"value\":\"bevel\"},\"line_width\":{\"value\":1},\"top\":{\"field\":\"top\"},\"width\":{\"value\":0.1},\"x\":{\"field\":\"x\"}},\"id\":\"20503\",\"type\":\"VBar\"},{\"attributes\":{\"coordinates\":null,\"data_source\":{\"id\":\"20480\"},\"glyph\":{\"id\":\"20482\"},\"group\":null,\"hover_glyph\":null,\"muted_glyph\":{\"id\":\"20484\"},\"nonselection_glyph\":{\"id\":\"20483\"},\"selection_glyph\":{\"id\":\"20487\"},\"view\":{\"id\":\"20486\"}},\"id\":\"20485\",\"type\":\"GlyphRenderer\"},{\"attributes\":{\"axis\":{\"id\":\"20455\"},\"coordinates\":null,\"dimension\":1,\"grid_line_color\":null,\"group\":null,\"ticker\":null},\"id\":\"20458\",\"type\":\"Grid\"},{\"attributes\":{\"bottom\":{\"field\":\"bottom\"},\"fill_alpha\":{\"value\":0.2},\"fill_color\":{\"value\":\"black\"},\"hatch_alpha\":{\"value\":0.2},\"line_alpha\":{\"value\":0.2},\"top\":{\"field\":\"top\"},\"width\":{\"value\":0.1},\"x\":{\"field\":\"x\"}},\"id\":\"20500\",\"type\":\"VBar\"},{\"attributes\":{},\"id\":\"20448\",\"type\":\"CategoricalScale\"},{\"attributes\":{\"data\":{\"x\":[[\"Pink Cab\",\"Male\",0],[\"Yellow Cab\",\"Male\",0],[\"Yellow Cab\",\"Female\",0],[\"Pink Cab\",\"Female\",0]],\"y0\":[2000,2000,2000,2000],\"y1\":[35000,34996,34996,34996]},\"selected\":{\"id\":\"20530\"},\"selection_policy\":{\"id\":\"20529\"}},\"id\":\"20488\",\"type\":\"ColumnDataSource\"},{\"attributes\":{},\"id\":\"20453\",\"type\":\"CategoricalTicker\"},{\"attributes\":{},\"id\":\"20533\",\"type\":\"UnionRenderers\"},{\"attributes\":{\"data\":{\"violin_fill_color\":[\"Pink Cab\",\"Yellow Cab\",\"Yellow Cab\",\"Pink Cab\"],\"xs\":[[[\"Pink Cab\",\"Male\",-1.1117130230877283e-07],[\"Pink Cab\",\"Male\",-1.1015420542912998e-06],[\"Pink Cab\",\"Male\",-8.875411488492284e-06],[\"Pink Cab\",\"Male\",-5.823916157903417e-05],[\"Pink Cab\",\"Male\",-0.0003118439776900128],[\"Pink Cab\",\"Male\",-0.0013661051817795884],[\"Pink Cab\",\"Male\",-0.004913233909501906],[\"Pink Cab\",\"Male\",-0.014576130308057506],[\"Pink Cab\",\"Male\",-0.035903175317145035],[\"Pink Cab\",\"Male\",-0.0740863097116463],[\"Pink Cab\",\"Male\",-0.12965853252979748],[\"Pink Cab\",\"Male\",-0.19564511631153433],[\"Pink Cab\",\"Male\",-0.25992726358677354],[\"Pink Cab\",\"Male\",-0.31168538148615865],[\"Pink Cab\",\"Male\",-0.34638583296734216],[\"Pink Cab\",\"Male\",-0.3658486179065991],[\"Pink Cab\",\"Male\",-0.37505610200149636],[\"Pink Cab\",\"Male\",-0.37888119615455745],[\"Pink Cab\",\"Male\",-0.3801486761335744],[\"Pink Cab\",\"Male\",-0.3792569357131028],[\"Pink Cab\",\"Male\",-0.3753781168255797],[\"Pink Cab\",\"Male\",-0.36855383511451945],[\"Pink Cab\",\"Male\",-0.36108030924950874],[\"Pink Cab\",\"Male\",-0.3568078491183189],[\"Pink Cab\",\"Male\",-0.3586747473365768],[\"Pink Cab\",\"Male\",-0.3664849184863579],[\"Pink Cab\",\"Male\",-0.3768465375606797],[\"Pink Cab\",\"Male\",-0.38532083059528444],[\"Pink Cab\",\"Male\",-0.3890602554358832],[\"Pink Cab\",\"Male\",-0.3881279854443478],[\"Pink Cab\",\"Male\",-0.38488905445242294],[\"Pink Cab\",\"Male\",-0.38207163958582746],[\"Pink Cab\",\"Male\",-0.38088098577230717],[\"Pink Cab\",\"Male\",-0.3806397120189274],[\"Pink Cab\",\"Male\",-0.3801992126541324],[\"Pink Cab\",\"Male\",-0.3795797608112934],[\"Pink Cab\",\"Male\",-0.38007648962930657],[\"Pink Cab\",\"Male\",-0.38286032364314615],[\"Pink Cab\",\"Male\",-0.3877301859277169],[\"Pink Cab\",\"Male\",-0.3932317533533123],[\"Pink Cab\",\"Male\",-0.39768707461922626],[\"Pink Cab\",\"Male\",-0.4],[\"Pink Cab\",\"Male\",-0.39982529298219266],[\"Pink Cab\",\"Male\",-0.39734022193923635],[\"Pink Cab\",\"Male\",-0.3928937618879904],[\"Pink Cab\",\"Male\",-0.38688795390806074],[\"Pink Cab\",\"Male\",-0.38015249892973285],[\"Pink Cab\",\"Male\",-0.37432794258435464],[\"Pink Cab\",\"Male\",-0.37140370402960876],[\"Pink Cab\",\"Male\",-0.372486077660867],[\"Pink Cab\",\"Male\",-0.3769219530232648],[\"Pink Cab\",\"Male\",-0.38262637246801756],[\"Pink Cab\",\"Male\",-0.3872861768590255],[\"Pink Cab\",\"Male\",-0.38942354420835146],[\"Pink Cab\",\"Male\",-0.38868576608319944],[\"Pink Cab\",\"Male\",-0.38555167179155564],[\"Pink Cab\",\"Male\",-0.38096608201731086],[\"Pink Cab\",\"Male\",-0.37609890516489375],[\"Pink Cab\",\"Male\",-0.37206998102462807],[\"Pink Cab\",\"Male\",-0.36941028128540626],[\"Pink Cab\",\"Male\",-0.3671248566136025],[\"Pink Cab\",\"Male\",-0.3616636511675806],[\"Pink Cab\",\"Male\",-0.34705085813327147],[\"Pink Cab\",\"Male\",-0.317635610345726],[\"Pink Cab\",\"Male\",-0.2727039390942906],[\"Pink Cab\",\"Male\",-0.21901486722375285],[\"Pink Cab\",\"Male\",-0.1678927152655868],[\"Pink Cab\",\"Male\",-0.12877496157611806],[\"Pink Cab\",\"Male\",-0.10479606346962296],[\"Pink Cab\",\"Male\",-0.09331513531402306],[\"Pink Cab\",\"Male\",-0.08936135097589308],[\"Pink Cab\",\"Male\",-0.08866511660882331],[\"Pink Cab\",\"Male\",-0.08885415375212626],[\"Pink Cab\",\"Male\",-0.08915569790607239],[\"Pink Cab\",\"Male\",-0.08949741516095808],[\"Pink Cab\",\"Male\",-0.08978419307670595],[\"Pink Cab\",\"Male\",-0.08969862808429768],[\"Pink Cab\",\"Male\",-0.08892236867366839],[\"Pink Cab\",\"Male\",-0.0874843676195883],[\"Pink Cab\",\"Male\",-0.08592647858179409],[\"Pink Cab\",\"Male\",-0.0850444875771928],[\"Pink Cab\",\"Male\",-0.0852881191050342],[\"Pink Cab\",\"Male\",-0.08629749994243543],[\"Pink Cab\",\"Male\",-0.08695809208951544],[\"Pink Cab\",\"Male\",-0.08584690287923341],[\"Pink Cab\",\"Male\",-0.08168410136435103],[\"Pink Cab\",\"Male\",-0.07363410685874049],[\"Pink Cab\",\"Male\",-0.061630271334465594],[\"Pink Cab\",\"Male\",-0.046791494459305576],[\"Pink Cab\",\"Male\",-0.03145785152774699],[\"Pink Cab\",\"Male\",-0.01832056220921684],[\"Pink Cab\",\"Male\",-0.009077364016113391],[\"Pink Cab\",\"Male\",-0.003773989055723086],[\"Pink Cab\",\"Male\",-0.0013033760972604828],[\"Pink Cab\",\"Male\",-0.0003712028407454144],[\"Pink Cab\",\"Male\",-8.672979981959797e-05],[\"Pink Cab\",\"Male\",-1.656224306612092e-05],[\"Pink Cab\",\"Male\",-2.5780190483945198e-06],[\"Pink Cab\",\"Male\",-3.264392690322907e-07],[\"Pink Cab\",\"Male\",-3.3575309365638365e-08],[\"Pink Cab\",\"Male\",3.3575309365638365e-08],[\"Pink Cab\",\"Male\",3.264392690322907e-07],[\"Pink Cab\",\"Male\",2.5780190483945198e-06],[\"Pink Cab\",\"Male\",1.656224306612092e-05],[\"Pink Cab\",\"Male\",8.672979981959797e-05],[\"Pink Cab\",\"Male\",0.0003712028407454144],[\"Pink Cab\",\"Male\",0.0013033760972604828],[\"Pink Cab\",\"Male\",0.003773989055723086],[\"Pink Cab\",\"Male\",0.009077364016113391],[\"Pink Cab\",\"Male\",0.01832056220921684],[\"Pink Cab\",\"Male\",0.03145785152774699],[\"Pink Cab\",\"Male\",0.046791494459305576],[\"Pink Cab\",\"Male\",0.061630271334465594],[\"Pink Cab\",\"Male\",0.07363410685874049],[\"Pink Cab\",\"Male\",0.08168410136435103],[\"Pink Cab\",\"Male\",0.08584690287923341],[\"Pink Cab\",\"Male\",0.08695809208951544],[\"Pink Cab\",\"Male\",0.08629749994243543],[\"Pink Cab\",\"Male\",0.0852881191050342],[\"Pink Cab\",\"Male\",0.0850444875771928],[\"Pink Cab\",\"Male\",0.08592647858179409],[\"Pink Cab\",\"Male\",0.0874843676195883],[\"Pink Cab\",\"Male\",0.08892236867366839],[\"Pink Cab\",\"Male\",0.08969862808429768],[\"Pink Cab\",\"Male\",0.08978419307670595],[\"Pink Cab\",\"Male\",0.08949741516095808],[\"Pink Cab\",\"Male\",0.08915569790607239],[\"Pink Cab\",\"Male\",0.08885415375212626],[\"Pink Cab\",\"Male\",0.08866511660882331],[\"Pink Cab\",\"Male\",0.08936135097589308],[\"Pink Cab\",\"Male\",0.09331513531402306],[\"Pink Cab\",\"Male\",0.10479606346962296],[\"Pink Cab\",\"Male\",0.12877496157611806],[\"Pink Cab\",\"Male\",0.1678927152655868],[\"Pink Cab\",\"Male\",0.21901486722375285],[\"Pink Cab\",\"Male\",0.2727039390942906],[\"Pink Cab\",\"Male\",0.317635610345726],[\"Pink Cab\",\"Male\",0.34705085813327147],[\"Pink Cab\",\"Male\",0.3616636511675806],[\"Pink Cab\",\"Male\",0.3671248566136025],[\"Pink Cab\",\"Male\",0.36941028128540626],[\"Pink Cab\",\"Male\",0.37206998102462807],[\"Pink Cab\",\"Male\",0.37609890516489375],[\"Pink Cab\",\"Male\",0.38096608201731086],[\"Pink Cab\",\"Male\",0.38555167179155564],[\"Pink Cab\",\"Male\",0.38868576608319944],[\"Pink Cab\",\"Male\",0.38942354420835146],[\"Pink Cab\",\"Male\",0.3872861768590255],[\"Pink Cab\",\"Male\",0.38262637246801756],[\"Pink Cab\",\"Male\",0.3769219530232648],[\"Pink Cab\",\"Male\",0.372486077660867],[\"Pink Cab\",\"Male\",0.37140370402960876],[\"Pink Cab\",\"Male\",0.37432794258435464],[\"Pink Cab\",\"Male\",0.38015249892973285],[\"Pink Cab\",\"Male\",0.38688795390806074],[\"Pink Cab\",\"Male\",0.3928937618879904],[\"Pink Cab\",\"Male\",0.39734022193923635],[\"Pink Cab\",\"Male\",0.39982529298219266],[\"Pink Cab\",\"Male\",0.4],[\"Pink Cab\",\"Male\",0.39768707461922626],[\"Pink Cab\",\"Male\",0.3932317533533123],[\"Pink Cab\",\"Male\",0.3877301859277169],[\"Pink Cab\",\"Male\",0.38286032364314615],[\"Pink Cab\",\"Male\",0.38007648962930657],[\"Pink Cab\",\"Male\",0.3795797608112934],[\"Pink Cab\",\"Male\",0.3801992126541324],[\"Pink Cab\",\"Male\",0.3806397120189274],[\"Pink Cab\",\"Male\",0.38088098577230717],[\"Pink Cab\",\"Male\",0.38207163958582746],[\"Pink Cab\",\"Male\",0.38488905445242294],[\"Pink Cab\",\"Male\",0.3881279854443478],[\"Pink Cab\",\"Male\",0.3890602554358832],[\"Pink Cab\",\"Male\",0.38532083059528444],[\"Pink Cab\",\"Male\",0.3768465375606797],[\"Pink Cab\",\"Male\",0.3664849184863579],[\"Pink Cab\",\"Male\",0.3586747473365768],[\"Pink Cab\",\"Male\",0.3568078491183189],[\"Pink Cab\",\"Male\",0.36108030924950874],[\"Pink Cab\",\"Male\",0.36855383511451945],[\"Pink Cab\",\"Male\",0.3753781168255797],[\"Pink Cab\",\"Male\",0.3792569357131028],[\"Pink Cab\",\"Male\",0.3801486761335744],[\"Pink Cab\",\"Male\",0.37888119615455745],[\"Pink Cab\",\"Male\",0.37505610200149636],[\"Pink Cab\",\"Male\",0.3658486179065991],[\"Pink Cab\",\"Male\",0.34638583296734216],[\"Pink Cab\",\"Male\",0.31168538148615865],[\"Pink Cab\",\"Male\",0.25992726358677354],[\"Pink Cab\",\"Male\",0.19564511631153433],[\"Pink Cab\",\"Male\",0.12965853252979748],[\"Pink Cab\",\"Male\",0.0740863097116463],[\"Pink Cab\",\"Male\",0.035903175317145035],[\"Pink Cab\",\"Male\",0.014576130308057506],[\"Pink Cab\",\"Male\",0.004913233909501906],[\"Pink Cab\",\"Male\",0.0013661051817795884],[\"Pink Cab\",\"Male\",0.0003118439776900128],[\"Pink Cab\",\"Male\",5.823916157903417e-05],[\"Pink Cab\",\"Male\",8.875411488492284e-06],[\"Pink Cab\",\"Male\",1.1015420542912998e-06],[\"Pink Cab\",\"Male\",1.1117130230877283e-07]],[[\"Yellow Cab\",\"Male\",-1.1664810078196101e-07],[\"Yellow Cab\",\"Male\",-1.833617507382765e-06],[\"Yellow Cab\",\"Male\",-2.1239225841691896e-05],[\"Yellow Cab\",\"Male\",-0.00018181402262139044],[\"Yellow Cab\",\"Male\",-0.0011549467823162446],[\"Yellow Cab\",\"Male\",-0.005476857983483539],[\"Yellow Cab\",\"Male\",-0.019559020355001372],[\"Yellow Cab\",\"Male\",-0.053291415343586425],[\"Yellow Cab\",\"Male\",-0.11291770997083928],[\"Yellow Cab\",\"Male\",-0.19119415419149677],[\"Yellow Cab\",\"Male\",-0.2682589376304394],[\"Yellow Cab\",\"Male\",-0.3257903211137176],[\"Yellow Cab\",\"Male\",-0.3584054405079744],[\"Yellow Cab\",\"Male\",-0.37189802480827483],[\"Yellow Cab\",\"Male\",-0.3754489875329774],[\"Yellow Cab\",\"Male\",-0.3763117628436388],[\"Yellow Cab\",\"Male\",-0.3777706544501014],[\"Yellow Cab\",\"Male\",-0.37916445868381154],[\"Yellow Cab\",\"Male\",-0.37790529576796206],[\"Yellow Cab\",\"Male\",-0.37231398385534176],[\"Yellow Cab\",\"Male\",-0.3631728344629946],[\"Yellow Cab\",\"Male\",-0.3534044012912759],[\"Yellow Cab\",\"Male\",-0.3469935569579224],[\"Yellow Cab\",\"Male\",-0.3476470180787313],[\"Yellow Cab\",\"Male\",-0.3560596133754705],[\"Yellow Cab\",\"Male\",-0.367798424876995],[\"Yellow Cab\",\"Male\",-0.3763649524928926],[\"Yellow Cab\",\"Male\",-0.37893951742903714],[\"Yellow Cab\",\"Male\",-0.37771831192820615],[\"Yellow Cab\",\"Male\",-0.37650032409138723],[\"Yellow Cab\",\"Male\",-0.37731259409897233],[\"Yellow Cab\",\"Male\",-0.37969537773307915],[\"Yellow Cab\",\"Male\",-0.3822413024845841],[\"Yellow Cab\",\"Male\",-0.3840553588325262],[\"Yellow Cab\",\"Male\",-0.3847263206316471],[\"Yellow Cab\",\"Male\",-0.38440751219607144],[\"Yellow Cab\",\"Male\",-0.38430884870845056],[\"Yellow Cab\",\"Male\",-0.38538195959011484],[\"Yellow Cab\",\"Male\",-0.38663695766423073],[\"Yellow Cab\",\"Male\",-0.38672798981080353],[\"Yellow Cab\",\"Male\",-0.38644741604003885],[\"Yellow Cab\",\"Male\",-0.38769413476386716],[\"Yellow Cab\",\"Male\",-0.391081741926716],[\"Yellow Cab\",\"Male\",-0.3957704104251854],[\"Yellow Cab\",\"Male\",-0.3998430173565955],[\"Yellow Cab\",\"Male\",-0.4],[\"Yellow Cab\",\"Male\",-0.39341705017413464],[\"Yellow Cab\",\"Male\",-0.3815170769245964],[\"Yellow Cab\",\"Male\",-0.370327311130265],[\"Yellow Cab\",\"Male\",-0.3658639530167094],[\"Yellow Cab\",\"Male\",-0.3694138230777462],[\"Yellow Cab\",\"Male\",-0.3770292033657062],[\"Yellow Cab\",\"Male\",-0.3831247426353707],[\"Yellow Cab\",\"Male\",-0.3846070632708132],[\"Yellow Cab\",\"Male\",-0.38191354416305934],[\"Yellow Cab\",\"Male\",-0.3770282411640305],[\"Yellow Cab\",\"Male\",-0.37151799171916605],[\"Yellow Cab\",\"Male\",-0.3663976830559686],[\"Yellow Cab\",\"Male\",-0.36261094671558003],[\"Yellow Cab\",\"Male\",-0.36106083364587016],[\"Yellow Cab\",\"Male\",-0.36227050397894345],[\"Yellow Cab\",\"Male\",-0.365285231480279],[\"Yellow Cab\",\"Male\",-0.3659506583513126],[\"Yellow Cab\",\"Male\",-0.3557004577563151],[\"Yellow Cab\",\"Male\",-0.3243598433382988],[\"Yellow Cab\",\"Male\",-0.26971600096341647],[\"Yellow Cab\",\"Male\",-0.20473676498072937],[\"Yellow Cab\",\"Male\",-0.14932648396174242],[\"Yellow Cab\",\"Male\",-0.1142722791067091],[\"Yellow Cab\",\"Male\",-0.09706566041906772],[\"Yellow Cab\",\"Male\",-0.09009149843983849],[\"Yellow Cab\",\"Male\",-0.08728588323278236],[\"Yellow Cab\",\"Male\",-0.08514377344761898],[\"Yellow Cab\",\"Male\",-0.08254290520436425],[\"Yellow Cab\",\"Male\",-0.08062002170552357],[\"Yellow Cab\",\"Male\",-0.08133054587796888],[\"Yellow Cab\",\"Male\",-0.0852109088174684],[\"Yellow Cab\",\"Male\",-0.0903754041461242],[\"Yellow Cab\",\"Male\",-0.09390816148211557],[\"Yellow Cab\",\"Male\",-0.09431252455346613],[\"Yellow Cab\",\"Male\",-0.09227598909796379],[\"Yellow Cab\",\"Male\",-0.08935725443712121],[\"Yellow Cab\",\"Male\",-0.0866531470287416],[\"Yellow Cab\",\"Male\",-0.08444853472686283],[\"Yellow Cab\",\"Male\",-0.08260219674121906],[\"Yellow Cab\",\"Male\",-0.08112986486872036],[\"Yellow Cab\",\"Male\",-0.08006066961011173],[\"Yellow Cab\",\"Male\",-0.0785070560726889],[\"Yellow Cab\",\"Male\",-0.07405525472622161],[\"Yellow Cab\",\"Male\",-0.06383280113357455],[\"Yellow Cab\",\"Male\",-0.04748828181518696],[\"Yellow Cab\",\"Male\",-0.02901332031533332],[\"Yellow Cab\",\"Male\",-0.014027611539510149],[\"Yellow Cab\",\"Male\",-0.005232601392457282],[\"Yellow Cab\",\"Male\",-0.001480830128558227],[\"Yellow Cab\",\"Male\",-0.00031444998384141823],[\"Yellow Cab\",\"Male\",-4.973609785053243e-05],[\"Yellow Cab\",\"Male\",-5.830523151125193e-06],[\"Yellow Cab\",\"Male\",-5.048456723021762e-07],[\"Yellow Cab\",\"Male\",-3.220708086702482e-08],[\"Yellow Cab\",\"Male\",3.220708086702482e-08],[\"Yellow Cab\",\"Male\",5.048456723021762e-07],[\"Yellow Cab\",\"Male\",5.830523151125193e-06],[\"Yellow Cab\",\"Male\",4.973609785053243e-05],[\"Yellow Cab\",\"Male\",0.00031444998384141823],[\"Yellow Cab\",\"Male\",0.001480830128558227],[\"Yellow Cab\",\"Male\",0.005232601392457282],[\"Yellow Cab\",\"Male\",0.014027611539510149],[\"Yellow Cab\",\"Male\",0.02901332031533332],[\"Yellow Cab\",\"Male\",0.04748828181518696],[\"Yellow Cab\",\"Male\",0.06383280113357455],[\"Yellow Cab\",\"Male\",0.07405525472622161],[\"Yellow Cab\",\"Male\",0.0785070560726889],[\"Yellow Cab\",\"Male\",0.08006066961011173],[\"Yellow Cab\",\"Male\",0.08112986486872036],[\"Yellow Cab\",\"Male\",0.08260219674121906],[\"Yellow Cab\",\"Male\",0.08444853472686283],[\"Yellow Cab\",\"Male\",0.0866531470287416],[\"Yellow Cab\",\"Male\",0.08935725443712121],[\"Yellow Cab\",\"Male\",0.09227598909796379],[\"Yellow Cab\",\"Male\",0.09431252455346613],[\"Yellow Cab\",\"Male\",0.09390816148211557],[\"Yellow Cab\",\"Male\",0.0903754041461242],[\"Yellow Cab\",\"Male\",0.0852109088174684],[\"Yellow Cab\",\"Male\",0.08133054587796888],[\"Yellow Cab\",\"Male\",0.08062002170552357],[\"Yellow Cab\",\"Male\",0.08254290520436425],[\"Yellow Cab\",\"Male\",0.08514377344761898],[\"Yellow Cab\",\"Male\",0.08728588323278236],[\"Yellow Cab\",\"Male\",0.09009149843983849],[\"Yellow Cab\",\"Male\",0.09706566041906772],[\"Yellow Cab\",\"Male\",0.1142722791067091],[\"Yellow Cab\",\"Male\",0.14932648396174242],[\"Yellow Cab\",\"Male\",0.20473676498072937],[\"Yellow Cab\",\"Male\",0.26971600096341647],[\"Yellow Cab\",\"Male\",0.3243598433382988],[\"Yellow Cab\",\"Male\",0.3557004577563151],[\"Yellow Cab\",\"Male\",0.3659506583513126],[\"Yellow Cab\",\"Male\",0.365285231480279],[\"Yellow Cab\",\"Male\",0.36227050397894345],[\"Yellow Cab\",\"Male\",0.36106083364587016],[\"Yellow Cab\",\"Male\",0.36261094671558003],[\"Yellow Cab\",\"Male\",0.3663976830559686],[\"Yellow Cab\",\"Male\",0.37151799171916605],[\"Yellow Cab\",\"Male\",0.3770282411640305],[\"Yellow Cab\",\"Male\",0.38191354416305934],[\"Yellow Cab\",\"Male\",0.3846070632708132],[\"Yellow Cab\",\"Male\",0.3831247426353707],[\"Yellow Cab\",\"Male\",0.3770292033657062],[\"Yellow Cab\",\"Male\",0.3694138230777462],[\"Yellow Cab\",\"Male\",0.3658639530167094],[\"Yellow Cab\",\"Male\",0.370327311130265],[\"Yellow Cab\",\"Male\",0.3815170769245964],[\"Yellow Cab\",\"Male\",0.39341705017413464],[\"Yellow Cab\",\"Male\",0.4],[\"Yellow Cab\",\"Male\",0.3998430173565955],[\"Yellow Cab\",\"Male\",0.3957704104251854],[\"Yellow Cab\",\"Male\",0.391081741926716],[\"Yellow Cab\",\"Male\",0.38769413476386716],[\"Yellow Cab\",\"Male\",0.38644741604003885],[\"Yellow Cab\",\"Male\",0.38672798981080353],[\"Yellow Cab\",\"Male\",0.38663695766423073],[\"Yellow Cab\",\"Male\",0.38538195959011484],[\"Yellow Cab\",\"Male\",0.38430884870845056],[\"Yellow Cab\",\"Male\",0.38440751219607144],[\"Yellow Cab\",\"Male\",0.3847263206316471],[\"Yellow Cab\",\"Male\",0.3840553588325262],[\"Yellow Cab\",\"Male\",0.3822413024845841],[\"Yellow Cab\",\"Male\",0.37969537773307915],[\"Yellow Cab\",\"Male\",0.37731259409897233],[\"Yellow Cab\",\"Male\",0.37650032409138723],[\"Yellow Cab\",\"Male\",0.37771831192820615],[\"Yellow Cab\",\"Male\",0.37893951742903714],[\"Yellow Cab\",\"Male\",0.3763649524928926],[\"Yellow Cab\",\"Male\",0.367798424876995],[\"Yellow Cab\",\"Male\",0.3560596133754705],[\"Yellow Cab\",\"Male\",0.3476470180787313],[\"Yellow Cab\",\"Male\",0.3469935569579224],[\"Yellow Cab\",\"Male\",0.3534044012912759],[\"Yellow Cab\",\"Male\",0.3631728344629946],[\"Yellow Cab\",\"Male\",0.37231398385534176],[\"Yellow Cab\",\"Male\",0.37790529576796206],[\"Yellow Cab\",\"Male\",0.37916445868381154],[\"Yellow Cab\",\"Male\",0.3777706544501014],[\"Yellow Cab\",\"Male\",0.3763117628436388],[\"Yellow Cab\",\"Male\",0.3754489875329774],[\"Yellow Cab\",\"Male\",0.37189802480827483],[\"Yellow Cab\",\"Male\",0.3584054405079744],[\"Yellow Cab\",\"Male\",0.3257903211137176],[\"Yellow Cab\",\"Male\",0.2682589376304394],[\"Yellow Cab\",\"Male\",0.19119415419149677],[\"Yellow Cab\",\"Male\",0.11291770997083928],[\"Yellow Cab\",\"Male\",0.053291415343586425],[\"Yellow Cab\",\"Male\",0.019559020355001372],[\"Yellow Cab\",\"Male\",0.005476857983483539],[\"Yellow Cab\",\"Male\",0.0011549467823162446],[\"Yellow Cab\",\"Male\",0.00018181402262139044],[\"Yellow Cab\",\"Male\",2.1239225841691896e-05],[\"Yellow Cab\",\"Male\",1.833617507382765e-06],[\"Yellow Cab\",\"Male\",1.1664810078196101e-07]],[[\"Yellow Cab\",\"Female\",-1.1095789363923378e-07],[\"Yellow Cab\",\"Female\",-1.5137917832955086e-06],[\"Yellow Cab\",\"Female\",-1.577455024008679e-05],[\"Yellow Cab\",\"Female\",-0.0001258617943950417],[\"Yellow Cab\",\"Female\",-0.0007714294499080636],[\"Yellow Cab\",\"Female\",-0.003648295725973988],[\"Yellow Cab\",\"Female\",-0.013394574743154012],[\"Yellow Cab\",\"Female\",-0.03850445843635528],[\"Yellow Cab\",\"Female\",-0.08770404028228623],[\"Yellow Cab\",\"Female\",-0.1609519119058748],[\"Yellow Cab\",\"Female\",-0.24349741697756033],[\"Yellow Cab\",\"Female\",-0.31305337971262204],[\"Yellow Cab\",\"Female\",-0.3552088493295585],[\"Yellow Cab\",\"Female\",-0.3710225885948356],[\"Yellow Cab\",\"Female\",-0.37123295665309064],[\"Yellow Cab\",\"Female\",-0.36648621222559224],[\"Yellow Cab\",\"Female\",-0.36255124393043875],[\"Yellow Cab\",\"Female\",-0.3607844355460492],[\"Yellow Cab\",\"Female\",-0.3604793267620379],[\"Yellow Cab\",\"Female\",-0.36120785309804226],[\"Yellow Cab\",\"Female\",-0.3641772387027831],[\"Yellow Cab\",\"Female\",-0.37129740464007593],[\"Yellow Cab\",\"Female\",-0.3823617624033031],[\"Yellow Cab\",\"Female\",-0.3936194693767469],[\"Yellow Cab\",\"Female\",-0.4],[\"Yellow Cab\",\"Female\",-0.3989770432573814],[\"Yellow Cab\",\"Female\",-0.3922019752535818],[\"Yellow Cab\",\"Female\",-0.38361319384009085],[\"Yellow Cab\",\"Female\",-0.37644687009152256],[\"Yellow Cab\",\"Female\",-0.37194997151247394],[\"Yellow Cab\",\"Female\",-0.3701187777382361],[\"Yellow Cab\",\"Female\",-0.3710515682408087],[\"Yellow Cab\",\"Female\",-0.3752096800278477],[\"Yellow Cab\",\"Female\",-0.38222442311083416],[\"Yellow Cab\",\"Female\",-0.3900924352689041],[\"Yellow Cab\",\"Female\",-0.39605307925524835],[\"Yellow Cab\",\"Female\",-0.3977870994311954],[\"Yellow Cab\",\"Female\",-0.3938542067133162],[\"Yellow Cab\",\"Female\",-0.38448347737091504],[\"Yellow Cab\",\"Female\",-0.372577458058064],[\"Yellow Cab\",\"Female\",-0.36248254622289733],[\"Yellow Cab\",\"Female\",-0.3567506043856743],[\"Yellow Cab\",\"Female\",-0.3550243881807763],[\"Yellow Cab\",\"Female\",-0.3565851174741222],[\"Yellow Cab\",\"Female\",-0.36217706762504287],[\"Yellow Cab\",\"Female\",-0.3716655913909802],[\"Yellow Cab\",\"Female\",-0.3814477708462471],[\"Yellow Cab\",\"Female\",-0.3867298907639955],[\"Yellow Cab\",\"Female\",-0.38587144092239156],[\"Yellow Cab\",\"Female\",-0.3807290449083394],[\"Yellow Cab\",\"Female\",-0.3736968085675043],[\"Yellow Cab\",\"Female\",-0.36630252936769997],[\"Yellow Cab\",\"Female\",-0.3599678025983281],[\"Yellow Cab\",\"Female\",-0.35633428287011243],[\"Yellow Cab\",\"Female\",-0.35663608405503555],[\"Yellow Cab\",\"Female\",-0.3610617439889549],[\"Yellow Cab\",\"Female\",-0.36831995091886466],[\"Yellow Cab\",\"Female\",-0.3760860914437344],[\"Yellow Cab\",\"Female\",-0.3829155287173092],[\"Yellow Cab\",\"Female\",-0.3893289286200641],[\"Yellow Cab\",\"Female\",-0.39570468566058337],[\"Yellow Cab\",\"Female\",-0.3992554012212832],[\"Yellow Cab\",\"Female\",-0.39350503348074917],[\"Yellow Cab\",\"Female\",-0.3705117606633916],[\"Yellow Cab\",\"Female\",-0.32556720854621324],[\"Yellow Cab\",\"Female\",-0.26306842214171455],[\"Yellow Cab\",\"Female\",-0.19741953446496463],[\"Yellow Cab\",\"Female\",-0.14462161098418078],[\"Yellow Cab\",\"Female\",-0.11178828283804934],[\"Yellow Cab\",\"Female\",-0.0956025860820679],[\"Yellow Cab\",\"Female\",-0.08888498519935013],[\"Yellow Cab\",\"Female\",-0.08608073223031945],[\"Yellow Cab\",\"Female\",-0.08439908235427682],[\"Yellow Cab\",\"Female\",-0.08333702495275794],[\"Yellow Cab\",\"Female\",-0.08354034583897169],[\"Yellow Cab\",\"Female\",-0.08486941127214209],[\"Yellow Cab\",\"Female\",-0.08567927916985414],[\"Yellow Cab\",\"Female\",-0.08460172063852635],[\"Yellow Cab\",\"Female\",-0.08248500922666263],[\"Yellow Cab\",\"Female\",-0.08166076678460871],[\"Yellow Cab\",\"Female\",-0.08342363414332205],[\"Yellow Cab\",\"Female\",-0.08680458491257195],[\"Yellow Cab\",\"Female\",-0.08969133481222864],[\"Yellow Cab\",\"Female\",-0.09077475880312268],[\"Yellow Cab\",\"Female\",-0.0904439719508871],[\"Yellow Cab\",\"Female\",-0.08990984791486999],[\"Yellow Cab\",\"Female\",-0.08929237677447045],[\"Yellow Cab\",\"Female\",-0.08638009889258008],[\"Yellow Cab\",\"Female\",-0.07769239332462971],[\"Yellow Cab\",\"Female\",-0.061745313545955784],[\"Yellow Cab\",\"Female\",-0.041530471152509935],[\"Yellow Cab\",\"Female\",-0.022895464158139398],[\"Yellow Cab\",\"Female\",-0.010116273751479445],[\"Yellow Cab\",\"Female\",-0.003527956158229471],[\"Yellow Cab\",\"Female\",-0.0009609350704231182],[\"Yellow Cab\",\"Female\",-0.00020293193908611082],[\"Yellow Cab\",\"Female\",-3.305314979244879e-05],[\"Yellow Cab\",\"Female\",-4.136177849777581e-06],[\"Yellow Cab\",\"Female\",-3.964893046118393e-07],[\"Yellow Cab\",\"Female\",-2.904785312070129e-08],[\"Yellow Cab\",\"Female\",2.904785312070129e-08],[\"Yellow Cab\",\"Female\",3.964893046118393e-07],[\"Yellow Cab\",\"Female\",4.136177849777581e-06],[\"Yellow Cab\",\"Female\",3.305314979244879e-05],[\"Yellow Cab\",\"Female\",0.00020293193908611082],[\"Yellow Cab\",\"Female\",0.0009609350704231182],[\"Yellow Cab\",\"Female\",0.003527956158229471],[\"Yellow Cab\",\"Female\",0.010116273751479445],[\"Yellow Cab\",\"Female\",0.022895464158139398],[\"Yellow Cab\",\"Female\",0.041530471152509935],[\"Yellow Cab\",\"Female\",0.061745313545955784],[\"Yellow Cab\",\"Female\",0.07769239332462971],[\"Yellow Cab\",\"Female\",0.08638009889258008],[\"Yellow Cab\",\"Female\",0.08929237677447045],[\"Yellow Cab\",\"Female\",0.08990984791486999],[\"Yellow Cab\",\"Female\",0.0904439719508871],[\"Yellow Cab\",\"Female\",0.09077475880312268],[\"Yellow Cab\",\"Female\",0.08969133481222864],[\"Yellow Cab\",\"Female\",0.08680458491257195],[\"Yellow Cab\",\"Female\",0.08342363414332205],[\"Yellow Cab\",\"Female\",0.08166076678460871],[\"Yellow Cab\",\"Female\",0.08248500922666263],[\"Yellow Cab\",\"Female\",0.08460172063852635],[\"Yellow Cab\",\"Female\",0.08567927916985414],[\"Yellow Cab\",\"Female\",0.08486941127214209],[\"Yellow Cab\",\"Female\",0.08354034583897169],[\"Yellow Cab\",\"Female\",0.08333702495275794],[\"Yellow Cab\",\"Female\",0.08439908235427682],[\"Yellow Cab\",\"Female\",0.08608073223031945],[\"Yellow Cab\",\"Female\",0.08888498519935013],[\"Yellow Cab\",\"Female\",0.0956025860820679],[\"Yellow Cab\",\"Female\",0.11178828283804934],[\"Yellow Cab\",\"Female\",0.14462161098418078],[\"Yellow Cab\",\"Female\",0.19741953446496463],[\"Yellow Cab\",\"Female\",0.26306842214171455],[\"Yellow Cab\",\"Female\",0.32556720854621324],[\"Yellow Cab\",\"Female\",0.3705117606633916],[\"Yellow Cab\",\"Female\",0.39350503348074917],[\"Yellow Cab\",\"Female\",0.3992554012212832],[\"Yellow Cab\",\"Female\",0.39570468566058337],[\"Yellow Cab\",\"Female\",0.3893289286200641],[\"Yellow Cab\",\"Female\",0.3829155287173092],[\"Yellow Cab\",\"Female\",0.3760860914437344],[\"Yellow Cab\",\"Female\",0.36831995091886466],[\"Yellow Cab\",\"Female\",0.3610617439889549],[\"Yellow Cab\",\"Female\",0.35663608405503555],[\"Yellow Cab\",\"Female\",0.35633428287011243],[\"Yellow Cab\",\"Female\",0.3599678025983281],[\"Yellow Cab\",\"Female\",0.36630252936769997],[\"Yellow Cab\",\"Female\",0.3736968085675043],[\"Yellow Cab\",\"Female\",0.3807290449083394],[\"Yellow Cab\",\"Female\",0.38587144092239156],[\"Yellow Cab\",\"Female\",0.3867298907639955],[\"Yellow Cab\",\"Female\",0.3814477708462471],[\"Yellow Cab\",\"Female\",0.3716655913909802],[\"Yellow Cab\",\"Female\",0.36217706762504287],[\"Yellow Cab\",\"Female\",0.3565851174741222],[\"Yellow Cab\",\"Female\",0.3550243881807763],[\"Yellow Cab\",\"Female\",0.3567506043856743],[\"Yellow Cab\",\"Female\",0.36248254622289733],[\"Yellow Cab\",\"Female\",0.372577458058064],[\"Yellow Cab\",\"Female\",0.38448347737091504],[\"Yellow Cab\",\"Female\",0.3938542067133162],[\"Yellow Cab\",\"Female\",0.3977870994311954],[\"Yellow Cab\",\"Female\",0.39605307925524835],[\"Yellow Cab\",\"Female\",0.3900924352689041],[\"Yellow Cab\",\"Female\",0.38222442311083416],[\"Yellow Cab\",\"Female\",0.3752096800278477],[\"Yellow Cab\",\"Female\",0.3710515682408087],[\"Yellow Cab\",\"Female\",0.3701187777382361],[\"Yellow Cab\",\"Female\",0.37194997151247394],[\"Yellow Cab\",\"Female\",0.37644687009152256],[\"Yellow Cab\",\"Female\",0.38361319384009085],[\"Yellow Cab\",\"Female\",0.3922019752535818],[\"Yellow Cab\",\"Female\",0.3989770432573814],[\"Yellow Cab\",\"Female\",0.4],[\"Yellow Cab\",\"Female\",0.3936194693767469],[\"Yellow Cab\",\"Female\",0.3823617624033031],[\"Yellow Cab\",\"Female\",0.37129740464007593],[\"Yellow Cab\",\"Female\",0.3641772387027831],[\"Yellow Cab\",\"Female\",0.36120785309804226],[\"Yellow Cab\",\"Female\",0.3604793267620379],[\"Yellow Cab\",\"Female\",0.3607844355460492],[\"Yellow Cab\",\"Female\",0.36255124393043875],[\"Yellow Cab\",\"Female\",0.36648621222559224],[\"Yellow Cab\",\"Female\",0.37123295665309064],[\"Yellow Cab\",\"Female\",0.3710225885948356],[\"Yellow Cab\",\"Female\",0.3552088493295585],[\"Yellow Cab\",\"Female\",0.31305337971262204],[\"Yellow Cab\",\"Female\",0.24349741697756033],[\"Yellow Cab\",\"Female\",0.1609519119058748],[\"Yellow Cab\",\"Female\",0.08770404028228623],[\"Yellow Cab\",\"Female\",0.03850445843635528],[\"Yellow Cab\",\"Female\",0.013394574743154012],[\"Yellow Cab\",\"Female\",0.003648295725973988],[\"Yellow Cab\",\"Female\",0.0007714294499080636],[\"Yellow Cab\",\"Female\",0.0001258617943950417],[\"Yellow Cab\",\"Female\",1.577455024008679e-05],[\"Yellow Cab\",\"Female\",1.5137917832955086e-06],[\"Yellow Cab\",\"Female\",1.1095789363923378e-07]],[[\"Pink Cab\",\"Female\",-1.1398485628675446e-07],[\"Pink Cab\",\"Female\",-1.023075805084071e-06],[\"Pink Cab\",\"Female\",-7.621325636365177e-06],[\"Pink Cab\",\"Female\",-4.717992564614993e-05],[\"Pink Cab\",\"Female\",-0.0002430908265967874],[\"Pink Cab\",\"Female\",-0.0010445509834379927],[\"Pink Cab\",\"Female\",-0.0037527896830060054],[\"Pink Cab\",\"Female\",-0.01131082022383253],[\"Pink Cab\",\"Female\",-0.028725288993141196],[\"Pink Cab\",\"Female\",-0.06183275985425768],[\"Pink Cab\",\"Female\",-0.11370743171010074],[\"Pink Cab\",\"Female\",-0.18055198774587566],[\"Pink Cab\",\"Female\",-0.2511079162216921],[\"Pink Cab\",\"Female\",-0.3116696943749496],[\"Pink Cab\",\"Female\",-0.3533930995571817],[\"Pink Cab\",\"Female\",-0.37594101470266467],[\"Pink Cab\",\"Female\",-0.3851033197420436],[\"Pink Cab\",\"Female\",-0.3875153303459091],[\"Pink Cab\",\"Female\",-0.38709107520587827],[\"Pink Cab\",\"Female\",-0.38503545592315824],[\"Pink Cab\",\"Female\",-0.38199285483313006],[\"Pink Cab\",\"Female\",-0.37963063939808883],[\"Pink Cab\",\"Female\",-0.38002688728337725],[\"Pink Cab\",\"Female\",-0.38360372575945406],[\"Pink Cab\",\"Female\",-0.3880340291184689],[\"Pink Cab\",\"Female\",-0.3896804624693819],[\"Pink Cab\",\"Female\",-0.3863768431215724],[\"Pink Cab\",\"Female\",-0.3789015258673895],[\"Pink Cab\",\"Female\",-0.3700281160764618],[\"Pink Cab\",\"Female\",-0.3625099615378077],[\"Pink Cab\",\"Female\",-0.35790735825114117],[\"Pink Cab\",\"Female\",-0.35674024981145913],[\"Pink Cab\",\"Female\",-0.35909044628840925],[\"Pink Cab\",\"Female\",-0.36474828198995585],[\"Pink Cab\",\"Female\",-0.3728400455506029],[\"Pink Cab\",\"Female\",-0.38152755387953624],[\"Pink Cab\",\"Female\",-0.3883031694311858],[\"Pink Cab\",\"Female\",-0.3908741478639204],[\"Pink Cab\",\"Female\",-0.3882030689309114],[\"Pink Cab\",\"Female\",-0.3811435764000645],[\"Pink Cab\",\"Female\",-0.37222925801055995],[\"Pink Cab\",\"Female\",-0.36463367365096183],[\"Pink Cab\",\"Female\",-0.36091506286747055],[\"Pink Cab\",\"Female\",-0.3621959380910698],[\"Pink Cab\",\"Female\",-0.36788388514385517],[\"Pink Cab\",\"Female\",-0.37584090844107976],[\"Pink Cab\",\"Female\",-0.3831867895727669],[\"Pink Cab\",\"Female\",-0.38764548742774463],[\"Pink Cab\",\"Female\",-0.38853669763158605],[\"Pink Cab\",\"Female\",-0.38663079574515585],[\"Pink Cab\",\"Female\",-0.3832709729138296],[\"Pink Cab\",\"Female\",-0.3797280235637288],[\"Pink Cab\",\"Female\",-0.37707124315466123],[\"Pink Cab\",\"Female\",-0.376172858928989],[\"Pink Cab\",\"Female\",-0.3775742660745929],[\"Pink Cab\",\"Female\",-0.38127886540223777],[\"Pink Cab\",\"Female\",-0.38664673263633503],[\"Pink Cab\",\"Female\",-0.3925194679664796],[\"Pink Cab\",\"Female\",-0.3974974388136365],[\"Pink Cab\",\"Female\",-0.4],[\"Pink Cab\",\"Female\",-0.3977945277470649],[\"Pink Cab\",\"Female\",-0.38737350022958483],[\"Pink Cab\",\"Female\",-0.36439331264597435],[\"Pink Cab\",\"Female\",-0.32609278782238116],[\"Pink Cab\",\"Female\",-0.2745444466471318],[\"Pink Cab\",\"Female\",-0.21764326871544598],[\"Pink Cab\",\"Female\",-0.165933019263113],[\"Pink Cab\",\"Female\",-0.12729005563504167],[\"Pink Cab\",\"Female\",-0.10367594377575036],[\"Pink Cab\",\"Female\",-0.09201260603204786],[\"Pink Cab\",\"Female\",-0.08751747712647978],[\"Pink Cab\",\"Female\",-0.08653653605066437],[\"Pink Cab\",\"Female\",-0.08733817805627983],[\"Pink Cab\",\"Female\",-0.08927531716244524],[\"Pink Cab\",\"Female\",-0.09169329841735327],[\"Pink Cab\",\"Female\",-0.09368541745726819],[\"Pink Cab\",\"Female\",-0.09467017449058189],[\"Pink Cab\",\"Female\",-0.09487385393458965],[\"Pink Cab\",\"Female\",-0.0950673345820276],[\"Pink Cab\",\"Female\",-0.09583057149752329],[\"Pink Cab\",\"Female\",-0.09702781341164576],[\"Pink Cab\",\"Female\",-0.09785343625845339],[\"Pink Cab\",\"Female\",-0.09731952211937409],[\"Pink Cab\",\"Female\",-0.09472808759976434],[\"Pink Cab\",\"Female\",-0.08968824164610979],[\"Pink Cab\",\"Female\",-0.0817832608511872],[\"Pink Cab\",\"Female\",-0.07056594986054715],[\"Pink Cab\",\"Female\",-0.056244045600691656],[\"Pink Cab\",\"Female\",-0.040372097665669175],[\"Pink Cab\",\"Female\",-0.025523063913982486],[\"Pink Cab\",\"Female\",-0.013966176693806846],[\"Pink Cab\",\"Female\",-0.006531168966666794],[\"Pink Cab\",\"Female\",-0.0025867216526629486],[\"Pink Cab\",\"Female\",-0.0008621596689777421],[\"Pink Cab\",\"Female\",-0.00024073703956580393],[\"Pink Cab\",\"Female\",-5.6131240165423554e-05],[\"Pink Cab\",\"Female\",-1.0902851014661564e-05],[\"Pink Cab\",\"Female\",-1.7610728385125374e-06],[\"Pink Cab\",\"Female\",-2.362254005668524e-07],[\"Pink Cab\",\"Female\",-2.6286160519203098e-08],[\"Pink Cab\",\"Female\",2.6286160519203098e-08],[\"Pink Cab\",\"Female\",2.362254005668524e-07],[\"Pink Cab\",\"Female\",1.7610728385125374e-06],[\"Pink Cab\",\"Female\",1.0902851014661564e-05],[\"Pink Cab\",\"Female\",5.6131240165423554e-05],[\"Pink Cab\",\"Female\",0.00024073703956580393],[\"Pink Cab\",\"Female\",0.0008621596689777421],[\"Pink Cab\",\"Female\",0.0025867216526629486],[\"Pink Cab\",\"Female\",0.006531168966666794],[\"Pink Cab\",\"Female\",0.013966176693806846],[\"Pink Cab\",\"Female\",0.025523063913982486],[\"Pink Cab\",\"Female\",0.040372097665669175],[\"Pink Cab\",\"Female\",0.056244045600691656],[\"Pink Cab\",\"Female\",0.07056594986054715],[\"Pink Cab\",\"Female\",0.0817832608511872],[\"Pink Cab\",\"Female\",0.08968824164610979],[\"Pink Cab\",\"Female\",0.09472808759976434],[\"Pink Cab\",\"Female\",0.09731952211937409],[\"Pink Cab\",\"Female\",0.09785343625845339],[\"Pink Cab\",\"Female\",0.09702781341164576],[\"Pink Cab\",\"Female\",0.09583057149752329],[\"Pink Cab\",\"Female\",0.0950673345820276],[\"Pink Cab\",\"Female\",0.09487385393458965],[\"Pink Cab\",\"Female\",0.09467017449058189],[\"Pink Cab\",\"Female\",0.09368541745726819],[\"Pink Cab\",\"Female\",0.09169329841735327],[\"Pink Cab\",\"Female\",0.08927531716244524],[\"Pink Cab\",\"Female\",0.08733817805627983],[\"Pink Cab\",\"Female\",0.08653653605066437],[\"Pink Cab\",\"Female\",0.08751747712647978],[\"Pink Cab\",\"Female\",0.09201260603204786],[\"Pink Cab\",\"Female\",0.10367594377575036],[\"Pink Cab\",\"Female\",0.12729005563504167],[\"Pink Cab\",\"Female\",0.165933019263113],[\"Pink Cab\",\"Female\",0.21764326871544598],[\"Pink Cab\",\"Female\",0.2745444466471318],[\"Pink Cab\",\"Female\",0.32609278782238116],[\"Pink Cab\",\"Female\",0.36439331264597435],[\"Pink Cab\",\"Female\",0.38737350022958483],[\"Pink Cab\",\"Female\",0.3977945277470649],[\"Pink Cab\",\"Female\",0.4],[\"Pink Cab\",\"Female\",0.3974974388136365],[\"Pink Cab\",\"Female\",0.3925194679664796],[\"Pink Cab\",\"Female\",0.38664673263633503],[\"Pink Cab\",\"Female\",0.38127886540223777],[\"Pink Cab\",\"Female\",0.3775742660745929],[\"Pink Cab\",\"Female\",0.376172858928989],[\"Pink Cab\",\"Female\",0.37707124315466123],[\"Pink Cab\",\"Female\",0.3797280235637288],[\"Pink Cab\",\"Female\",0.3832709729138296],[\"Pink Cab\",\"Female\",0.38663079574515585],[\"Pink Cab\",\"Female\",0.38853669763158605],[\"Pink Cab\",\"Female\",0.38764548742774463],[\"Pink Cab\",\"Female\",0.3831867895727669],[\"Pink Cab\",\"Female\",0.37584090844107976],[\"Pink Cab\",\"Female\",0.36788388514385517],[\"Pink Cab\",\"Female\",0.3621959380910698],[\"Pink Cab\",\"Female\",0.36091506286747055],[\"Pink Cab\",\"Female\",0.36463367365096183],[\"Pink Cab\",\"Female\",0.37222925801055995],[\"Pink Cab\",\"Female\",0.3811435764000645],[\"Pink Cab\",\"Female\",0.3882030689309114],[\"Pink Cab\",\"Female\",0.3908741478639204],[\"Pink Cab\",\"Female\",0.3883031694311858],[\"Pink Cab\",\"Female\",0.38152755387953624],[\"Pink Cab\",\"Female\",0.3728400455506029],[\"Pink Cab\",\"Female\",0.36474828198995585],[\"Pink Cab\",\"Female\",0.35909044628840925],[\"Pink Cab\",\"Female\",0.35674024981145913],[\"Pink Cab\",\"Female\",0.35790735825114117],[\"Pink Cab\",\"Female\",0.3625099615378077],[\"Pink Cab\",\"Female\",0.3700281160764618],[\"Pink Cab\",\"Female\",0.3789015258673895],[\"Pink Cab\",\"Female\",0.3863768431215724],[\"Pink Cab\",\"Female\",0.3896804624693819],[\"Pink Cab\",\"Female\",0.3880340291184689],[\"Pink Cab\",\"Female\",0.38360372575945406],[\"Pink Cab\",\"Female\",0.38002688728337725],[\"Pink Cab\",\"Female\",0.37963063939808883],[\"Pink Cab\",\"Female\",0.38199285483313006],[\"Pink Cab\",\"Female\",0.38503545592315824],[\"Pink Cab\",\"Female\",0.38709107520587827],[\"Pink Cab\",\"Female\",0.3875153303459091],[\"Pink Cab\",\"Female\",0.3851033197420436],[\"Pink Cab\",\"Female\",0.37594101470266467],[\"Pink Cab\",\"Female\",0.3533930995571817],[\"Pink Cab\",\"Female\",0.3116696943749496],[\"Pink Cab\",\"Female\",0.2511079162216921],[\"Pink Cab\",\"Female\",0.18055198774587566],[\"Pink Cab\",\"Female\",0.11370743171010074],[\"Pink Cab\",\"Female\",0.06183275985425768],[\"Pink Cab\",\"Female\",0.028725288993141196],[\"Pink Cab\",\"Female\",0.01131082022383253],[\"Pink Cab\",\"Female\",0.0037527896830060054],[\"Pink Cab\",\"Female\",0.0010445509834379927],[\"Pink Cab\",\"Female\",0.0002430908265967874],[\"Pink Cab\",\"Female\",4.717992564614993e-05],[\"Pink Cab\",\"Female\",7.621325636365177e-06],[\"Pink Cab\",\"Female\",1.023075805084071e-06],[\"Pink Cab\",\"Female\",1.1398485628675446e-07]]],\"ys\":[{\"__ndarray__\":\"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\",\"dtype\":\"float64\",\"order\":\"little\",\"shape\":[200]},{\"__ndarray__\":\"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\",\"dtype\":\"float64\",\"order\":\"little\",\"shape\":[200]},{\"__ndarray__\":\"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\",\"dtype\":\"float64\",\"order\":\"little\",\"shape\":[200]},{\"__ndarray__\":\"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\",\"dtype\":\"float64\",\"order\":\"little\",\"shape\":[200]}]},\"selected\":{\"id\":\"20526\"},\"selection_policy\":{\"id\":\"20525\"}},\"id\":\"20472\",\"type\":\"ColumnDataSource\"},{\"attributes\":{\"data\":{\"xs\":[[[\"Pink Cab\",\"Male\",-1.1117130230877283e-07],[\"Pink Cab\",\"Male\",-1.1015420542912998e-06],[\"Pink Cab\",\"Male\",-8.875411488492284e-06],[\"Pink Cab\",\"Male\",-5.823916157903417e-05],[\"Pink Cab\",\"Male\",-0.0003118439776900128],[\"Pink Cab\",\"Male\",-0.0013661051817795884],[\"Pink Cab\",\"Male\",-0.004913233909501906],[\"Pink Cab\",\"Male\",-0.014576130308057506],[\"Pink Cab\",\"Male\",-0.035903175317145035],[\"Pink Cab\",\"Male\",-0.0740863097116463],[\"Pink Cab\",\"Male\",-0.12965853252979748],[\"Pink Cab\",\"Male\",-0.19564511631153433],[\"Pink Cab\",\"Male\",-0.25992726358677354],[\"Pink Cab\",\"Male\",-0.31168538148615865],[\"Pink Cab\",\"Male\",-0.34638583296734216],[\"Pink Cab\",\"Male\",-0.3658486179065991],[\"Pink Cab\",\"Male\",-0.37505610200149636],[\"Pink Cab\",\"Male\",-0.37888119615455745],[\"Pink Cab\",\"Male\",-0.3801486761335744],[\"Pink Cab\",\"Male\",-0.3792569357131028],[\"Pink Cab\",\"Male\",-0.3753781168255797],[\"Pink Cab\",\"Male\",-0.36855383511451945],[\"Pink Cab\",\"Male\",-0.36108030924950874],[\"Pink Cab\",\"Male\",-0.3568078491183189],[\"Pink Cab\",\"Male\",-0.3586747473365768],[\"Pink Cab\",\"Male\",-0.3664849184863579],[\"Pink Cab\",\"Male\",-0.3768465375606797],[\"Pink Cab\",\"Male\",-0.38532083059528444],[\"Pink Cab\",\"Male\",-0.3890602554358832],[\"Pink Cab\",\"Male\",-0.3881279854443478],[\"Pink Cab\",\"Male\",-0.38488905445242294],[\"Pink Cab\",\"Male\",-0.38207163958582746],[\"Pink Cab\",\"Male\",-0.38088098577230717],[\"Pink Cab\",\"Male\",-0.3806397120189274],[\"Pink Cab\",\"Male\",-0.3801992126541324],[\"Pink Cab\",\"Male\",-0.3795797608112934],[\"Pink Cab\",\"Male\",-0.38007648962930657],[\"Pink Cab\",\"Male\",-0.38286032364314615],[\"Pink Cab\",\"Male\",-0.3877301859277169],[\"Pink Cab\",\"Male\",-0.3932317533533123],[\"Pink Cab\",\"Male\",-0.39768707461922626],[\"Pink Cab\",\"Male\",-0.4],[\"Pink Cab\",\"Male\",-0.39982529298219266],[\"Pink Cab\",\"Male\",-0.39734022193923635],[\"Pink Cab\",\"Male\",-0.3928937618879904],[\"Pink Cab\",\"Male\",-0.38688795390806074],[\"Pink Cab\",\"Male\",-0.38015249892973285],[\"Pink Cab\",\"Male\",-0.37432794258435464],[\"Pink Cab\",\"Male\",-0.37140370402960876],[\"Pink Cab\",\"Male\",-0.372486077660867],[\"Pink Cab\",\"Male\",-0.3769219530232648],[\"Pink Cab\",\"Male\",-0.38262637246801756],[\"Pink Cab\",\"Male\",-0.3872861768590255],[\"Pink Cab\",\"Male\",-0.38942354420835146],[\"Pink Cab\",\"Male\",-0.38868576608319944],[\"Pink Cab\",\"Male\",-0.38555167179155564],[\"Pink Cab\",\"Male\",-0.38096608201731086],[\"Pink Cab\",\"Male\",-0.37609890516489375],[\"Pink Cab\",\"Male\",-0.37206998102462807],[\"Pink Cab\",\"Male\",-0.36941028128540626],[\"Pink Cab\",\"Male\",-0.3671248566136025],[\"Pink Cab\",\"Male\",-0.3616636511675806],[\"Pink Cab\",\"Male\",-0.34705085813327147],[\"Pink Cab\",\"Male\",-0.317635610345726],[\"Pink Cab\",\"Male\",-0.2727039390942906],[\"Pink Cab\",\"Male\",-0.21901486722375285],[\"Pink Cab\",\"Male\",-0.1678927152655868],[\"Pink Cab\",\"Male\",-0.12877496157611806],[\"Pink Cab\",\"Male\",-0.10479606346962296],[\"Pink Cab\",\"Male\",-0.09331513531402306],[\"Pink Cab\",\"Male\",-0.08936135097589308],[\"Pink Cab\",\"Male\",-0.08866511660882331],[\"Pink Cab\",\"Male\",-0.08885415375212626],[\"Pink Cab\",\"Male\",-0.08915569790607239],[\"Pink Cab\",\"Male\",-0.08949741516095808],[\"Pink Cab\",\"Male\",-0.08978419307670595],[\"Pink Cab\",\"Male\",-0.08969862808429768],[\"Pink Cab\",\"Male\",-0.08892236867366839],[\"Pink Cab\",\"Male\",-0.0874843676195883],[\"Pink Cab\",\"Male\",-0.08592647858179409],[\"Pink Cab\",\"Male\",-0.0850444875771928],[\"Pink Cab\",\"Male\",-0.0852881191050342],[\"Pink Cab\",\"Male\",-0.08629749994243543],[\"Pink Cab\",\"Male\",-0.08695809208951544],[\"Pink Cab\",\"Male\",-0.08584690287923341],[\"Pink Cab\",\"Male\",-0.08168410136435103],[\"Pink Cab\",\"Male\",-0.07363410685874049],[\"Pink Cab\",\"Male\",-0.061630271334465594],[\"Pink Cab\",\"Male\",-0.046791494459305576],[\"Pink Cab\",\"Male\",-0.03145785152774699],[\"Pink Cab\",\"Male\",-0.01832056220921684],[\"Pink Cab\",\"Male\",-0.009077364016113391],[\"Pink Cab\",\"Male\",-0.003773989055723086],[\"Pink Cab\",\"Male\",-0.0013033760972604828],[\"Pink Cab\",\"Male\",-0.0003712028407454144],[\"Pink Cab\",\"Male\",-8.672979981959797e-05],[\"Pink Cab\",\"Male\",-1.656224306612092e-05],[\"Pink Cab\",\"Male\",-2.5780190483945198e-06],[\"Pink Cab\",\"Male\",-3.264392690322907e-07],[\"Pink Cab\",\"Male\",-3.3575309365638365e-08],[\"Pink Cab\",\"Male\",3.3575309365638365e-08],[\"Pink Cab\",\"Male\",3.264392690322907e-07],[\"Pink Cab\",\"Male\",2.5780190483945198e-06],[\"Pink Cab\",\"Male\",1.656224306612092e-05],[\"Pink Cab\",\"Male\",8.672979981959797e-05],[\"Pink Cab\",\"Male\",0.0003712028407454144],[\"Pink Cab\",\"Male\",0.0013033760972604828],[\"Pink Cab\",\"Male\",0.003773989055723086],[\"Pink Cab\",\"Male\",0.009077364016113391],[\"Pink Cab\",\"Male\",0.01832056220921684],[\"Pink Cab\",\"Male\",0.03145785152774699],[\"Pink Cab\",\"Male\",0.046791494459305576],[\"Pink Cab\",\"Male\",0.061630271334465594],[\"Pink Cab\",\"Male\",0.07363410685874049],[\"Pink Cab\",\"Male\",0.08168410136435103],[\"Pink Cab\",\"Male\",0.08584690287923341],[\"Pink Cab\",\"Male\",0.08695809208951544],[\"Pink Cab\",\"Male\",0.08629749994243543],[\"Pink Cab\",\"Male\",0.0852881191050342],[\"Pink Cab\",\"Male\",0.0850444875771928],[\"Pink Cab\",\"Male\",0.08592647858179409],[\"Pink Cab\",\"Male\",0.0874843676195883],[\"Pink Cab\",\"Male\",0.08892236867366839],[\"Pink Cab\",\"Male\",0.08969862808429768],[\"Pink Cab\",\"Male\",0.08978419307670595],[\"Pink Cab\",\"Male\",0.08949741516095808],[\"Pink Cab\",\"Male\",0.08915569790607239],[\"Pink Cab\",\"Male\",0.08885415375212626],[\"Pink Cab\",\"Male\",0.08866511660882331],[\"Pink Cab\",\"Male\",0.08936135097589308],[\"Pink Cab\",\"Male\",0.09331513531402306],[\"Pink Cab\",\"Male\",0.10479606346962296],[\"Pink Cab\",\"Male\",0.12877496157611806],[\"Pink Cab\",\"Male\",0.1678927152655868],[\"Pink Cab\",\"Male\",0.21901486722375285],[\"Pink Cab\",\"Male\",0.2727039390942906],[\"Pink Cab\",\"Male\",0.317635610345726],[\"Pink Cab\",\"Male\",0.34705085813327147],[\"Pink Cab\",\"Male\",0.3616636511675806],[\"Pink Cab\",\"Male\",0.3671248566136025],[\"Pink Cab\",\"Male\",0.36941028128540626],[\"Pink Cab\",\"Male\",0.37206998102462807],[\"Pink Cab\",\"Male\",0.37609890516489375],[\"Pink Cab\",\"Male\",0.38096608201731086],[\"Pink Cab\",\"Male\",0.38555167179155564],[\"Pink Cab\",\"Male\",0.38868576608319944],[\"Pink Cab\",\"Male\",0.38942354420835146],[\"Pink Cab\",\"Male\",0.3872861768590255],[\"Pink Cab\",\"Male\",0.38262637246801756],[\"Pink Cab\",\"Male\",0.3769219530232648],[\"Pink Cab\",\"Male\",0.372486077660867],[\"Pink Cab\",\"Male\",0.37140370402960876],[\"Pink Cab\",\"Male\",0.37432794258435464],[\"Pink Cab\",\"Male\",0.38015249892973285],[\"Pink Cab\",\"Male\",0.38688795390806074],[\"Pink Cab\",\"Male\",0.3928937618879904],[\"Pink Cab\",\"Male\",0.39734022193923635],[\"Pink Cab\",\"Male\",0.39982529298219266],[\"Pink Cab\",\"Male\",0.4],[\"Pink Cab\",\"Male\",0.39768707461922626],[\"Pink Cab\",\"Male\",0.3932317533533123],[\"Pink Cab\",\"Male\",0.3877301859277169],[\"Pink Cab\",\"Male\",0.38286032364314615],[\"Pink Cab\",\"Male\",0.38007648962930657],[\"Pink Cab\",\"Male\",0.3795797608112934],[\"Pink Cab\",\"Male\",0.3801992126541324],[\"Pink Cab\",\"Male\",0.3806397120189274],[\"Pink Cab\",\"Male\",0.38088098577230717],[\"Pink Cab\",\"Male\",0.38207163958582746],[\"Pink Cab\",\"Male\",0.38488905445242294],[\"Pink Cab\",\"Male\",0.3881279854443478],[\"Pink Cab\",\"Male\",0.3890602554358832],[\"Pink Cab\",\"Male\",0.38532083059528444],[\"Pink Cab\",\"Male\",0.3768465375606797],[\"Pink Cab\",\"Male\",0.3664849184863579],[\"Pink Cab\",\"Male\",0.3586747473365768],[\"Pink Cab\",\"Male\",0.3568078491183189],[\"Pink Cab\",\"Male\",0.36108030924950874],[\"Pink Cab\",\"Male\",0.36855383511451945],[\"Pink Cab\",\"Male\",0.3753781168255797],[\"Pink Cab\",\"Male\",0.3792569357131028],[\"Pink Cab\",\"Male\",0.3801486761335744],[\"Pink Cab\",\"Male\",0.37888119615455745],[\"Pink Cab\",\"Male\",0.37505610200149636],[\"Pink Cab\",\"Male\",0.3658486179065991],[\"Pink Cab\",\"Male\",0.34638583296734216],[\"Pink Cab\",\"Male\",0.31168538148615865],[\"Pink Cab\",\"Male\",0.25992726358677354],[\"Pink Cab\",\"Male\",0.19564511631153433],[\"Pink Cab\",\"Male\",0.12965853252979748],[\"Pink Cab\",\"Male\",0.0740863097116463],[\"Pink Cab\",\"Male\",0.035903175317145035],[\"Pink Cab\",\"Male\",0.014576130308057506],[\"Pink Cab\",\"Male\",0.004913233909501906],[\"Pink Cab\",\"Male\",0.0013661051817795884],[\"Pink Cab\",\"Male\",0.0003118439776900128],[\"Pink Cab\",\"Male\",5.823916157903417e-05],[\"Pink Cab\",\"Male\",8.875411488492284e-06],[\"Pink Cab\",\"Male\",1.1015420542912998e-06],[\"Pink Cab\",\"Male\",1.1117130230877283e-07]],[[\"Yellow Cab\",\"Male\",-1.1664810078196101e-07],[\"Yellow Cab\",\"Male\",-1.833617507382765e-06],[\"Yellow Cab\",\"Male\",-2.1239225841691896e-05],[\"Yellow Cab\",\"Male\",-0.00018181402262139044],[\"Yellow Cab\",\"Male\",-0.0011549467823162446],[\"Yellow Cab\",\"Male\",-0.005476857983483539],[\"Yellow Cab\",\"Male\",-0.019559020355001372],[\"Yellow Cab\",\"Male\",-0.053291415343586425],[\"Yellow Cab\",\"Male\",-0.11291770997083928],[\"Yellow Cab\",\"Male\",-0.19119415419149677],[\"Yellow Cab\",\"Male\",-0.2682589376304394],[\"Yellow Cab\",\"Male\",-0.3257903211137176],[\"Yellow Cab\",\"Male\",-0.3584054405079744],[\"Yellow Cab\",\"Male\",-0.37189802480827483],[\"Yellow Cab\",\"Male\",-0.3754489875329774],[\"Yellow Cab\",\"Male\",-0.3763117628436388],[\"Yellow Cab\",\"Male\",-0.3777706544501014],[\"Yellow Cab\",\"Male\",-0.37916445868381154],[\"Yellow Cab\",\"Male\",-0.37790529576796206],[\"Yellow Cab\",\"Male\",-0.37231398385534176],[\"Yellow Cab\",\"Male\",-0.3631728344629946],[\"Yellow Cab\",\"Male\",-0.3534044012912759],[\"Yellow Cab\",\"Male\",-0.3469935569579224],[\"Yellow Cab\",\"Male\",-0.3476470180787313],[\"Yellow Cab\",\"Male\",-0.3560596133754705],[\"Yellow Cab\",\"Male\",-0.367798424876995],[\"Yellow Cab\",\"Male\",-0.3763649524928926],[\"Yellow Cab\",\"Male\",-0.37893951742903714],[\"Yellow Cab\",\"Male\",-0.37771831192820615],[\"Yellow Cab\",\"Male\",-0.37650032409138723],[\"Yellow Cab\",\"Male\",-0.37731259409897233],[\"Yellow Cab\",\"Male\",-0.37969537773307915],[\"Yellow Cab\",\"Male\",-0.3822413024845841],[\"Yellow Cab\",\"Male\",-0.3840553588325262],[\"Yellow Cab\",\"Male\",-0.3847263206316471],[\"Yellow Cab\",\"Male\",-0.38440751219607144],[\"Yellow Cab\",\"Male\",-0.38430884870845056],[\"Yellow Cab\",\"Male\",-0.38538195959011484],[\"Yellow Cab\",\"Male\",-0.38663695766423073],[\"Yellow Cab\",\"Male\",-0.38672798981080353],[\"Yellow Cab\",\"Male\",-0.38644741604003885],[\"Yellow Cab\",\"Male\",-0.38769413476386716],[\"Yellow Cab\",\"Male\",-0.391081741926716],[\"Yellow Cab\",\"Male\",-0.3957704104251854],[\"Yellow Cab\",\"Male\",-0.3998430173565955],[\"Yellow Cab\",\"Male\",-0.4],[\"Yellow Cab\",\"Male\",-0.39341705017413464],[\"Yellow Cab\",\"Male\",-0.3815170769245964],[\"Yellow Cab\",\"Male\",-0.370327311130265],[\"Yellow Cab\",\"Male\",-0.3658639530167094],[\"Yellow Cab\",\"Male\",-0.3694138230777462],[\"Yellow Cab\",\"Male\",-0.3770292033657062],[\"Yellow Cab\",\"Male\",-0.3831247426353707],[\"Yellow Cab\",\"Male\",-0.3846070632708132],[\"Yellow Cab\",\"Male\",-0.38191354416305934],[\"Yellow Cab\",\"Male\",-0.3770282411640305],[\"Yellow Cab\",\"Male\",-0.37151799171916605],[\"Yellow Cab\",\"Male\",-0.3663976830559686],[\"Yellow Cab\",\"Male\",-0.36261094671558003],[\"Yellow Cab\",\"Male\",-0.36106083364587016],[\"Yellow Cab\",\"Male\",-0.36227050397894345],[\"Yellow Cab\",\"Male\",-0.365285231480279],[\"Yellow Cab\",\"Male\",-0.3659506583513126],[\"Yellow Cab\",\"Male\",-0.3557004577563151],[\"Yellow Cab\",\"Male\",-0.3243598433382988],[\"Yellow Cab\",\"Male\",-0.26971600096341647],[\"Yellow Cab\",\"Male\",-0.20473676498072937],[\"Yellow Cab\",\"Male\",-0.14932648396174242],[\"Yellow Cab\",\"Male\",-0.1142722791067091],[\"Yellow Cab\",\"Male\",-0.09706566041906772],[\"Yellow Cab\",\"Male\",-0.09009149843983849],[\"Yellow Cab\",\"Male\",-0.08728588323278236],[\"Yellow Cab\",\"Male\",-0.08514377344761898],[\"Yellow Cab\",\"Male\",-0.08254290520436425],[\"Yellow Cab\",\"Male\",-0.08062002170552357],[\"Yellow Cab\",\"Male\",-0.08133054587796888],[\"Yellow Cab\",\"Male\",-0.0852109088174684],[\"Yellow Cab\",\"Male\",-0.0903754041461242],[\"Yellow Cab\",\"Male\",-0.09390816148211557],[\"Yellow Cab\",\"Male\",-0.09431252455346613],[\"Yellow Cab\",\"Male\",-0.09227598909796379],[\"Yellow Cab\",\"Male\",-0.08935725443712121],[\"Yellow Cab\",\"Male\",-0.0866531470287416],[\"Yellow Cab\",\"Male\",-0.08444853472686283],[\"Yellow Cab\",\"Male\",-0.08260219674121906],[\"Yellow Cab\",\"Male\",-0.08112986486872036],[\"Yellow Cab\",\"Male\",-0.08006066961011173],[\"Yellow Cab\",\"Male\",-0.0785070560726889],[\"Yellow Cab\",\"Male\",-0.07405525472622161],[\"Yellow Cab\",\"Male\",-0.06383280113357455],[\"Yellow Cab\",\"Male\",-0.04748828181518696],[\"Yellow Cab\",\"Male\",-0.02901332031533332],[\"Yellow Cab\",\"Male\",-0.014027611539510149],[\"Yellow Cab\",\"Male\",-0.005232601392457282],[\"Yellow Cab\",\"Male\",-0.001480830128558227],[\"Yellow Cab\",\"Male\",-0.00031444998384141823],[\"Yellow Cab\",\"Male\",-4.973609785053243e-05],[\"Yellow Cab\",\"Male\",-5.830523151125193e-06],[\"Yellow Cab\",\"Male\",-5.048456723021762e-07],[\"Yellow Cab\",\"Male\",-3.220708086702482e-08],[\"Yellow Cab\",\"Male\",3.220708086702482e-08],[\"Yellow Cab\",\"Male\",5.048456723021762e-07],[\"Yellow Cab\",\"Male\",5.830523151125193e-06],[\"Yellow Cab\",\"Male\",4.973609785053243e-05],[\"Yellow Cab\",\"Male\",0.00031444998384141823],[\"Yellow Cab\",\"Male\",0.001480830128558227],[\"Yellow Cab\",\"Male\",0.005232601392457282],[\"Yellow Cab\",\"Male\",0.014027611539510149],[\"Yellow Cab\",\"Male\",0.02901332031533332],[\"Yellow Cab\",\"Male\",0.04748828181518696],[\"Yellow Cab\",\"Male\",0.06383280113357455],[\"Yellow Cab\",\"Male\",0.07405525472622161],[\"Yellow Cab\",\"Male\",0.0785070560726889],[\"Yellow Cab\",\"Male\",0.08006066961011173],[\"Yellow Cab\",\"Male\",0.08112986486872036],[\"Yellow Cab\",\"Male\",0.08260219674121906],[\"Yellow Cab\",\"Male\",0.08444853472686283],[\"Yellow Cab\",\"Male\",0.0866531470287416],[\"Yellow Cab\",\"Male\",0.08935725443712121],[\"Yellow Cab\",\"Male\",0.09227598909796379],[\"Yellow Cab\",\"Male\",0.09431252455346613],[\"Yellow Cab\",\"Male\",0.09390816148211557],[\"Yellow Cab\",\"Male\",0.0903754041461242],[\"Yellow Cab\",\"Male\",0.0852109088174684],[\"Yellow Cab\",\"Male\",0.08133054587796888],[\"Yellow Cab\",\"Male\",0.08062002170552357],[\"Yellow Cab\",\"Male\",0.08254290520436425],[\"Yellow Cab\",\"Male\",0.08514377344761898],[\"Yellow Cab\",\"Male\",0.08728588323278236],[\"Yellow Cab\",\"Male\",0.09009149843983849],[\"Yellow Cab\",\"Male\",0.09706566041906772],[\"Yellow Cab\",\"Male\",0.1142722791067091],[\"Yellow Cab\",\"Male\",0.14932648396174242],[\"Yellow Cab\",\"Male\",0.20473676498072937],[\"Yellow Cab\",\"Male\",0.26971600096341647],[\"Yellow Cab\",\"Male\",0.3243598433382988],[\"Yellow Cab\",\"Male\",0.3557004577563151],[\"Yellow Cab\",\"Male\",0.3659506583513126],[\"Yellow Cab\",\"Male\",0.365285231480279],[\"Yellow Cab\",\"Male\",0.36227050397894345],[\"Yellow Cab\",\"Male\",0.36106083364587016],[\"Yellow Cab\",\"Male\",0.36261094671558003],[\"Yellow Cab\",\"Male\",0.3663976830559686],[\"Yellow Cab\",\"Male\",0.37151799171916605],[\"Yellow Cab\",\"Male\",0.3770282411640305],[\"Yellow Cab\",\"Male\",0.38191354416305934],[\"Yellow Cab\",\"Male\",0.3846070632708132],[\"Yellow Cab\",\"Male\",0.3831247426353707],[\"Yellow Cab\",\"Male\",0.3770292033657062],[\"Yellow Cab\",\"Male\",0.3694138230777462],[\"Yellow Cab\",\"Male\",0.3658639530167094],[\"Yellow Cab\",\"Male\",0.370327311130265],[\"Yellow Cab\",\"Male\",0.3815170769245964],[\"Yellow Cab\",\"Male\",0.39341705017413464],[\"Yellow Cab\",\"Male\",0.4],[\"Yellow Cab\",\"Male\",0.3998430173565955],[\"Yellow Cab\",\"Male\",0.3957704104251854],[\"Yellow Cab\",\"Male\",0.391081741926716],[\"Yellow Cab\",\"Male\",0.38769413476386716],[\"Yellow Cab\",\"Male\",0.38644741604003885],[\"Yellow Cab\",\"Male\",0.38672798981080353],[\"Yellow Cab\",\"Male\",0.38663695766423073],[\"Yellow Cab\",\"Male\",0.38538195959011484],[\"Yellow Cab\",\"Male\",0.38430884870845056],[\"Yellow Cab\",\"Male\",0.38440751219607144],[\"Yellow Cab\",\"Male\",0.3847263206316471],[\"Yellow Cab\",\"Male\",0.3840553588325262],[\"Yellow Cab\",\"Male\",0.3822413024845841],[\"Yellow Cab\",\"Male\",0.37969537773307915],[\"Yellow Cab\",\"Male\",0.37731259409897233],[\"Yellow Cab\",\"Male\",0.37650032409138723],[\"Yellow Cab\",\"Male\",0.37771831192820615],[\"Yellow Cab\",\"Male\",0.37893951742903714],[\"Yellow Cab\",\"Male\",0.3763649524928926],[\"Yellow Cab\",\"Male\",0.367798424876995],[\"Yellow Cab\",\"Male\",0.3560596133754705],[\"Yellow Cab\",\"Male\",0.3476470180787313],[\"Yellow Cab\",\"Male\",0.3469935569579224],[\"Yellow Cab\",\"Male\",0.3534044012912759],[\"Yellow Cab\",\"Male\",0.3631728344629946],[\"Yellow Cab\",\"Male\",0.37231398385534176],[\"Yellow Cab\",\"Male\",0.37790529576796206],[\"Yellow Cab\",\"Male\",0.37916445868381154],[\"Yellow Cab\",\"Male\",0.3777706544501014],[\"Yellow Cab\",\"Male\",0.3763117628436388],[\"Yellow Cab\",\"Male\",0.3754489875329774],[\"Yellow Cab\",\"Male\",0.37189802480827483],[\"Yellow Cab\",\"Male\",0.3584054405079744],[\"Yellow Cab\",\"Male\",0.3257903211137176],[\"Yellow Cab\",\"Male\",0.2682589376304394],[\"Yellow Cab\",\"Male\",0.19119415419149677],[\"Yellow Cab\",\"Male\",0.11291770997083928],[\"Yellow Cab\",\"Male\",0.053291415343586425],[\"Yellow Cab\",\"Male\",0.019559020355001372],[\"Yellow Cab\",\"Male\",0.005476857983483539],[\"Yellow Cab\",\"Male\",0.0011549467823162446],[\"Yellow Cab\",\"Male\",0.00018181402262139044],[\"Yellow Cab\",\"Male\",2.1239225841691896e-05],[\"Yellow Cab\",\"Male\",1.833617507382765e-06],[\"Yellow Cab\",\"Male\",1.1664810078196101e-07]],[[\"Yellow Cab\",\"Female\",-1.1095789363923378e-07],[\"Yellow Cab\",\"Female\",-1.5137917832955086e-06],[\"Yellow Cab\",\"Female\",-1.577455024008679e-05],[\"Yellow Cab\",\"Female\",-0.0001258617943950417],[\"Yellow Cab\",\"Female\",-0.0007714294499080636],[\"Yellow Cab\",\"Female\",-0.003648295725973988],[\"Yellow Cab\",\"Female\",-0.013394574743154012],[\"Yellow Cab\",\"Female\",-0.03850445843635528],[\"Yellow Cab\",\"Female\",-0.08770404028228623],[\"Yellow Cab\",\"Female\",-0.1609519119058748],[\"Yellow Cab\",\"Female\",-0.24349741697756033],[\"Yellow Cab\",\"Female\",-0.31305337971262204],[\"Yellow Cab\",\"Female\",-0.3552088493295585],[\"Yellow Cab\",\"Female\",-0.3710225885948356],[\"Yellow Cab\",\"Female\",-0.37123295665309064],[\"Yellow Cab\",\"Female\",-0.36648621222559224],[\"Yellow Cab\",\"Female\",-0.36255124393043875],[\"Yellow Cab\",\"Female\",-0.3607844355460492],[\"Yellow Cab\",\"Female\",-0.3604793267620379],[\"Yellow Cab\",\"Female\",-0.36120785309804226],[\"Yellow Cab\",\"Female\",-0.3641772387027831],[\"Yellow Cab\",\"Female\",-0.37129740464007593],[\"Yellow Cab\",\"Female\",-0.3823617624033031],[\"Yellow Cab\",\"Female\",-0.3936194693767469],[\"Yellow Cab\",\"Female\",-0.4],[\"Yellow Cab\",\"Female\",-0.3989770432573814],[\"Yellow Cab\",\"Female\",-0.3922019752535818],[\"Yellow Cab\",\"Female\",-0.38361319384009085],[\"Yellow Cab\",\"Female\",-0.37644687009152256],[\"Yellow Cab\",\"Female\",-0.37194997151247394],[\"Yellow Cab\",\"Female\",-0.3701187777382361],[\"Yellow Cab\",\"Female\",-0.3710515682408087],[\"Yellow Cab\",\"Female\",-0.3752096800278477],[\"Yellow Cab\",\"Female\",-0.38222442311083416],[\"Yellow Cab\",\"Female\",-0.3900924352689041],[\"Yellow Cab\",\"Female\",-0.39605307925524835],[\"Yellow Cab\",\"Female\",-0.3977870994311954],[\"Yellow Cab\",\"Female\",-0.3938542067133162],[\"Yellow Cab\",\"Female\",-0.38448347737091504],[\"Yellow Cab\",\"Female\",-0.372577458058064],[\"Yellow Cab\",\"Female\",-0.36248254622289733],[\"Yellow Cab\",\"Female\",-0.3567506043856743],[\"Yellow Cab\",\"Female\",-0.3550243881807763],[\"Yellow Cab\",\"Female\",-0.3565851174741222],[\"Yellow Cab\",\"Female\",-0.36217706762504287],[\"Yellow Cab\",\"Female\",-0.3716655913909802],[\"Yellow Cab\",\"Female\",-0.3814477708462471],[\"Yellow Cab\",\"Female\",-0.3867298907639955],[\"Yellow Cab\",\"Female\",-0.38587144092239156],[\"Yellow Cab\",\"Female\",-0.3807290449083394],[\"Yellow Cab\",\"Female\",-0.3736968085675043],[\"Yellow Cab\",\"Female\",-0.36630252936769997],[\"Yellow Cab\",\"Female\",-0.3599678025983281],[\"Yellow Cab\",\"Female\",-0.35633428287011243],[\"Yellow Cab\",\"Female\",-0.35663608405503555],[\"Yellow Cab\",\"Female\",-0.3610617439889549],[\"Yellow Cab\",\"Female\",-0.36831995091886466],[\"Yellow Cab\",\"Female\",-0.3760860914437344],[\"Yellow Cab\",\"Female\",-0.3829155287173092],[\"Yellow Cab\",\"Female\",-0.3893289286200641],[\"Yellow Cab\",\"Female\",-0.39570468566058337],[\"Yellow Cab\",\"Female\",-0.3992554012212832],[\"Yellow Cab\",\"Female\",-0.39350503348074917],[\"Yellow Cab\",\"Female\",-0.3705117606633916],[\"Yellow Cab\",\"Female\",-0.32556720854621324],[\"Yellow Cab\",\"Female\",-0.26306842214171455],[\"Yellow Cab\",\"Female\",-0.19741953446496463],[\"Yellow Cab\",\"Female\",-0.14462161098418078],[\"Yellow Cab\",\"Female\",-0.11178828283804934],[\"Yellow Cab\",\"Female\",-0.0956025860820679],[\"Yellow Cab\",\"Female\",-0.08888498519935013],[\"Yellow Cab\",\"Female\",-0.08608073223031945],[\"Yellow Cab\",\"Female\",-0.08439908235427682],[\"Yellow Cab\",\"Female\",-0.08333702495275794],[\"Yellow Cab\",\"Female\",-0.08354034583897169],[\"Yellow Cab\",\"Female\",-0.08486941127214209],[\"Yellow Cab\",\"Female\",-0.08567927916985414],[\"Yellow Cab\",\"Female\",-0.08460172063852635],[\"Yellow Cab\",\"Female\",-0.08248500922666263],[\"Yellow Cab\",\"Female\",-0.08166076678460871],[\"Yellow Cab\",\"Female\",-0.08342363414332205],[\"Yellow Cab\",\"Female\",-0.08680458491257195],[\"Yellow Cab\",\"Female\",-0.08969133481222864],[\"Yellow Cab\",\"Female\",-0.09077475880312268],[\"Yellow Cab\",\"Female\",-0.0904439719508871],[\"Yellow Cab\",\"Female\",-0.08990984791486999],[\"Yellow Cab\",\"Female\",-0.08929237677447045],[\"Yellow Cab\",\"Female\",-0.08638009889258008],[\"Yellow Cab\",\"Female\",-0.07769239332462971],[\"Yellow Cab\",\"Female\",-0.061745313545955784],[\"Yellow Cab\",\"Female\",-0.041530471152509935],[\"Yellow Cab\",\"Female\",-0.022895464158139398],[\"Yellow Cab\",\"Female\",-0.010116273751479445],[\"Yellow Cab\",\"Female\",-0.003527956158229471],[\"Yellow Cab\",\"Female\",-0.0009609350704231182],[\"Yellow Cab\",\"Female\",-0.00020293193908611082],[\"Yellow Cab\",\"Female\",-3.305314979244879e-05],[\"Yellow Cab\",\"Female\",-4.136177849777581e-06],[\"Yellow Cab\",\"Female\",-3.964893046118393e-07],[\"Yellow Cab\",\"Female\",-2.904785312070129e-08],[\"Yellow Cab\",\"Female\",2.904785312070129e-08],[\"Yellow Cab\",\"Female\",3.964893046118393e-07],[\"Yellow Cab\",\"Female\",4.136177849777581e-06],[\"Yellow Cab\",\"Female\",3.305314979244879e-05],[\"Yellow Cab\",\"Female\",0.00020293193908611082],[\"Yellow Cab\",\"Female\",0.0009609350704231182],[\"Yellow Cab\",\"Female\",0.003527956158229471],[\"Yellow Cab\",\"Female\",0.010116273751479445],[\"Yellow Cab\",\"Female\",0.022895464158139398],[\"Yellow Cab\",\"Female\",0.041530471152509935],[\"Yellow Cab\",\"Female\",0.061745313545955784],[\"Yellow Cab\",\"Female\",0.07769239332462971],[\"Yellow Cab\",\"Female\",0.08638009889258008],[\"Yellow Cab\",\"Female\",0.08929237677447045],[\"Yellow Cab\",\"Female\",0.08990984791486999],[\"Yellow Cab\",\"Female\",0.0904439719508871],[\"Yellow Cab\",\"Female\",0.09077475880312268],[\"Yellow Cab\",\"Female\",0.08969133481222864],[\"Yellow Cab\",\"Female\",0.08680458491257195],[\"Yellow Cab\",\"Female\",0.08342363414332205],[\"Yellow Cab\",\"Female\",0.08166076678460871],[\"Yellow Cab\",\"Female\",0.08248500922666263],[\"Yellow Cab\",\"Female\",0.08460172063852635],[\"Yellow Cab\",\"Female\",0.08567927916985414],[\"Yellow Cab\",\"Female\",0.08486941127214209],[\"Yellow Cab\",\"Female\",0.08354034583897169],[\"Yellow Cab\",\"Female\",0.08333702495275794],[\"Yellow Cab\",\"Female\",0.08439908235427682],[\"Yellow Cab\",\"Female\",0.08608073223031945],[\"Yellow Cab\",\"Female\",0.08888498519935013],[\"Yellow Cab\",\"Female\",0.0956025860820679],[\"Yellow Cab\",\"Female\",0.11178828283804934],[\"Yellow Cab\",\"Female\",0.14462161098418078],[\"Yellow Cab\",\"Female\",0.19741953446496463],[\"Yellow Cab\",\"Female\",0.26306842214171455],[\"Yellow Cab\",\"Female\",0.32556720854621324],[\"Yellow Cab\",\"Female\",0.3705117606633916],[\"Yellow Cab\",\"Female\",0.39350503348074917],[\"Yellow Cab\",\"Female\",0.3992554012212832],[\"Yellow Cab\",\"Female\",0.39570468566058337],[\"Yellow Cab\",\"Female\",0.3893289286200641],[\"Yellow Cab\",\"Female\",0.3829155287173092],[\"Yellow Cab\",\"Female\",0.3760860914437344],[\"Yellow Cab\",\"Female\",0.36831995091886466],[\"Yellow Cab\",\"Female\",0.3610617439889549],[\"Yellow Cab\",\"Female\",0.35663608405503555],[\"Yellow Cab\",\"Female\",0.35633428287011243],[\"Yellow Cab\",\"Female\",0.3599678025983281],[\"Yellow Cab\",\"Female\",0.36630252936769997],[\"Yellow Cab\",\"Female\",0.3736968085675043],[\"Yellow Cab\",\"Female\",0.3807290449083394],[\"Yellow Cab\",\"Female\",0.38587144092239156],[\"Yellow Cab\",\"Female\",0.3867298907639955],[\"Yellow Cab\",\"Female\",0.3814477708462471],[\"Yellow Cab\",\"Female\",0.3716655913909802],[\"Yellow Cab\",\"Female\",0.36217706762504287],[\"Yellow Cab\",\"Female\",0.3565851174741222],[\"Yellow Cab\",\"Female\",0.3550243881807763],[\"Yellow Cab\",\"Female\",0.3567506043856743],[\"Yellow Cab\",\"Female\",0.36248254622289733],[\"Yellow Cab\",\"Female\",0.372577458058064],[\"Yellow Cab\",\"Female\",0.38448347737091504],[\"Yellow Cab\",\"Female\",0.3938542067133162],[\"Yellow Cab\",\"Female\",0.3977870994311954],[\"Yellow Cab\",\"Female\",0.39605307925524835],[\"Yellow Cab\",\"Female\",0.3900924352689041],[\"Yellow Cab\",\"Female\",0.38222442311083416],[\"Yellow Cab\",\"Female\",0.3752096800278477],[\"Yellow Cab\",\"Female\",0.3710515682408087],[\"Yellow Cab\",\"Female\",0.3701187777382361],[\"Yellow Cab\",\"Female\",0.37194997151247394],[\"Yellow Cab\",\"Female\",0.37644687009152256],[\"Yellow Cab\",\"Female\",0.38361319384009085],[\"Yellow Cab\",\"Female\",0.3922019752535818],[\"Yellow Cab\",\"Female\",0.3989770432573814],[\"Yellow Cab\",\"Female\",0.4],[\"Yellow Cab\",\"Female\",0.3936194693767469],[\"Yellow Cab\",\"Female\",0.3823617624033031],[\"Yellow Cab\",\"Female\",0.37129740464007593],[\"Yellow Cab\",\"Female\",0.3641772387027831],[\"Yellow Cab\",\"Female\",0.36120785309804226],[\"Yellow Cab\",\"Female\",0.3604793267620379],[\"Yellow Cab\",\"Female\",0.3607844355460492],[\"Yellow Cab\",\"Female\",0.36255124393043875],[\"Yellow Cab\",\"Female\",0.36648621222559224],[\"Yellow Cab\",\"Female\",0.37123295665309064],[\"Yellow Cab\",\"Female\",0.3710225885948356],[\"Yellow Cab\",\"Female\",0.3552088493295585],[\"Yellow Cab\",\"Female\",0.31305337971262204],[\"Yellow Cab\",\"Female\",0.24349741697756033],[\"Yellow Cab\",\"Female\",0.1609519119058748],[\"Yellow Cab\",\"Female\",0.08770404028228623],[\"Yellow Cab\",\"Female\",0.03850445843635528],[\"Yellow Cab\",\"Female\",0.013394574743154012],[\"Yellow Cab\",\"Female\",0.003648295725973988],[\"Yellow Cab\",\"Female\",0.0007714294499080636],[\"Yellow Cab\",\"Female\",0.0001258617943950417],[\"Yellow Cab\",\"Female\",1.577455024008679e-05],[\"Yellow Cab\",\"Female\",1.5137917832955086e-06],[\"Yellow Cab\",\"Female\",1.1095789363923378e-07]],[[\"Pink Cab\",\"Female\",-1.1398485628675446e-07],[\"Pink Cab\",\"Female\",-1.023075805084071e-06],[\"Pink Cab\",\"Female\",-7.621325636365177e-06],[\"Pink Cab\",\"Female\",-4.717992564614993e-05],[\"Pink Cab\",\"Female\",-0.0002430908265967874],[\"Pink Cab\",\"Female\",-0.0010445509834379927],[\"Pink Cab\",\"Female\",-0.0037527896830060054],[\"Pink Cab\",\"Female\",-0.01131082022383253],[\"Pink Cab\",\"Female\",-0.028725288993141196],[\"Pink Cab\",\"Female\",-0.06183275985425768],[\"Pink Cab\",\"Female\",-0.11370743171010074],[\"Pink Cab\",\"Female\",-0.18055198774587566],[\"Pink Cab\",\"Female\",-0.2511079162216921],[\"Pink Cab\",\"Female\",-0.3116696943749496],[\"Pink Cab\",\"Female\",-0.3533930995571817],[\"Pink Cab\",\"Female\",-0.37594101470266467],[\"Pink Cab\",\"Female\",-0.3851033197420436],[\"Pink Cab\",\"Female\",-0.3875153303459091],[\"Pink Cab\",\"Female\",-0.38709107520587827],[\"Pink Cab\",\"Female\",-0.38503545592315824],[\"Pink Cab\",\"Female\",-0.38199285483313006],[\"Pink Cab\",\"Female\",-0.37963063939808883],[\"Pink Cab\",\"Female\",-0.38002688728337725],[\"Pink Cab\",\"Female\",-0.38360372575945406],[\"Pink Cab\",\"Female\",-0.3880340291184689],[\"Pink Cab\",\"Female\",-0.3896804624693819],[\"Pink Cab\",\"Female\",-0.3863768431215724],[\"Pink Cab\",\"Female\",-0.3789015258673895],[\"Pink Cab\",\"Female\",-0.3700281160764618],[\"Pink Cab\",\"Female\",-0.3625099615378077],[\"Pink Cab\",\"Female\",-0.35790735825114117],[\"Pink Cab\",\"Female\",-0.35674024981145913],[\"Pink Cab\",\"Female\",-0.35909044628840925],[\"Pink Cab\",\"Female\",-0.36474828198995585],[\"Pink Cab\",\"Female\",-0.3728400455506029],[\"Pink Cab\",\"Female\",-0.38152755387953624],[\"Pink Cab\",\"Female\",-0.3883031694311858],[\"Pink Cab\",\"Female\",-0.3908741478639204],[\"Pink Cab\",\"Female\",-0.3882030689309114],[\"Pink Cab\",\"Female\",-0.3811435764000645],[\"Pink Cab\",\"Female\",-0.37222925801055995],[\"Pink Cab\",\"Female\",-0.36463367365096183],[\"Pink Cab\",\"Female\",-0.36091506286747055],[\"Pink Cab\",\"Female\",-0.3621959380910698],[\"Pink Cab\",\"Female\",-0.36788388514385517],[\"Pink Cab\",\"Female\",-0.37584090844107976],[\"Pink Cab\",\"Female\",-0.3831867895727669],[\"Pink Cab\",\"Female\",-0.38764548742774463],[\"Pink Cab\",\"Female\",-0.38853669763158605],[\"Pink Cab\",\"Female\",-0.38663079574515585],[\"Pink Cab\",\"Female\",-0.3832709729138296],[\"Pink Cab\",\"Female\",-0.3797280235637288],[\"Pink Cab\",\"Female\",-0.37707124315466123],[\"Pink Cab\",\"Female\",-0.376172858928989],[\"Pink Cab\",\"Female\",-0.3775742660745929],[\"Pink Cab\",\"Female\",-0.38127886540223777],[\"Pink Cab\",\"Female\",-0.38664673263633503],[\"Pink Cab\",\"Female\",-0.3925194679664796],[\"Pink Cab\",\"Female\",-0.3974974388136365],[\"Pink Cab\",\"Female\",-0.4],[\"Pink Cab\",\"Female\",-0.3977945277470649],[\"Pink Cab\",\"Female\",-0.38737350022958483],[\"Pink Cab\",\"Female\",-0.36439331264597435],[\"Pink Cab\",\"Female\",-0.32609278782238116],[\"Pink Cab\",\"Female\",-0.2745444466471318],[\"Pink Cab\",\"Female\",-0.21764326871544598],[\"Pink Cab\",\"Female\",-0.165933019263113],[\"Pink Cab\",\"Female\",-0.12729005563504167],[\"Pink Cab\",\"Female\",-0.10367594377575036],[\"Pink Cab\",\"Female\",-0.09201260603204786],[\"Pink Cab\",\"Female\",-0.08751747712647978],[\"Pink Cab\",\"Female\",-0.08653653605066437],[\"Pink Cab\",\"Female\",-0.08733817805627983],[\"Pink Cab\",\"Female\",-0.08927531716244524],[\"Pink Cab\",\"Female\",-0.09169329841735327],[\"Pink Cab\",\"Female\",-0.09368541745726819],[\"Pink Cab\",\"Female\",-0.09467017449058189],[\"Pink Cab\",\"Female\",-0.09487385393458965],[\"Pink Cab\",\"Female\",-0.0950673345820276],[\"Pink Cab\",\"Female\",-0.09583057149752329],[\"Pink Cab\",\"Female\",-0.09702781341164576],[\"Pink Cab\",\"Female\",-0.09785343625845339],[\"Pink Cab\",\"Female\",-0.09731952211937409],[\"Pink Cab\",\"Female\",-0.09472808759976434],[\"Pink Cab\",\"Female\",-0.08968824164610979],[\"Pink Cab\",\"Female\",-0.0817832608511872],[\"Pink Cab\",\"Female\",-0.07056594986054715],[\"Pink Cab\",\"Female\",-0.056244045600691656],[\"Pink Cab\",\"Female\",-0.040372097665669175],[\"Pink Cab\",\"Female\",-0.025523063913982486],[\"Pink Cab\",\"Female\",-0.013966176693806846],[\"Pink Cab\",\"Female\",-0.006531168966666794],[\"Pink Cab\",\"Female\",-0.0025867216526629486],[\"Pink Cab\",\"Female\",-0.0008621596689777421],[\"Pink Cab\",\"Female\",-0.00024073703956580393],[\"Pink Cab\",\"Female\",-5.6131240165423554e-05],[\"Pink Cab\",\"Female\",-1.0902851014661564e-05],[\"Pink Cab\",\"Female\",-1.7610728385125374e-06],[\"Pink Cab\",\"Female\",-2.362254005668524e-07],[\"Pink Cab\",\"Female\",-2.6286160519203098e-08],[\"Pink Cab\",\"Female\",2.6286160519203098e-08],[\"Pink Cab\",\"Female\",2.362254005668524e-07],[\"Pink Cab\",\"Female\",1.7610728385125374e-06],[\"Pink Cab\",\"Female\",1.0902851014661564e-05],[\"Pink Cab\",\"Female\",5.6131240165423554e-05],[\"Pink Cab\",\"Female\",0.00024073703956580393],[\"Pink Cab\",\"Female\",0.0008621596689777421],[\"Pink Cab\",\"Female\",0.0025867216526629486],[\"Pink Cab\",\"Female\",0.006531168966666794],[\"Pink Cab\",\"Female\",0.013966176693806846],[\"Pink Cab\",\"Female\",0.025523063913982486],[\"Pink Cab\",\"Female\",0.040372097665669175],[\"Pink Cab\",\"Female\",0.056244045600691656],[\"Pink Cab\",\"Female\",0.07056594986054715],[\"Pink Cab\",\"Female\",0.0817832608511872],[\"Pink Cab\",\"Female\",0.08968824164610979],[\"Pink Cab\",\"Female\",0.09472808759976434],[\"Pink Cab\",\"Female\",0.09731952211937409],[\"Pink Cab\",\"Female\",0.09785343625845339],[\"Pink Cab\",\"Female\",0.09702781341164576],[\"Pink Cab\",\"Female\",0.09583057149752329],[\"Pink Cab\",\"Female\",0.0950673345820276],[\"Pink Cab\",\"Female\",0.09487385393458965],[\"Pink Cab\",\"Female\",0.09467017449058189],[\"Pink Cab\",\"Female\",0.09368541745726819],[\"Pink Cab\",\"Female\",0.09169329841735327],[\"Pink Cab\",\"Female\",0.08927531716244524],[\"Pink Cab\",\"Female\",0.08733817805627983],[\"Pink Cab\",\"Female\",0.08653653605066437],[\"Pink Cab\",\"Female\",0.08751747712647978],[\"Pink Cab\",\"Female\",0.09201260603204786],[\"Pink Cab\",\"Female\",0.10367594377575036],[\"Pink Cab\",\"Female\",0.12729005563504167],[\"Pink Cab\",\"Female\",0.165933019263113],[\"Pink Cab\",\"Female\",0.21764326871544598],[\"Pink Cab\",\"Female\",0.2745444466471318],[\"Pink Cab\",\"Female\",0.32609278782238116],[\"Pink Cab\",\"Female\",0.36439331264597435],[\"Pink Cab\",\"Female\",0.38737350022958483],[\"Pink Cab\",\"Female\",0.3977945277470649],[\"Pink Cab\",\"Female\",0.4],[\"Pink Cab\",\"Female\",0.3974974388136365],[\"Pink Cab\",\"Female\",0.3925194679664796],[\"Pink Cab\",\"Female\",0.38664673263633503],[\"Pink Cab\",\"Female\",0.38127886540223777],[\"Pink Cab\",\"Female\",0.3775742660745929],[\"Pink Cab\",\"Female\",0.376172858928989],[\"Pink Cab\",\"Female\",0.37707124315466123],[\"Pink Cab\",\"Female\",0.3797280235637288],[\"Pink Cab\",\"Female\",0.3832709729138296],[\"Pink Cab\",\"Female\",0.38663079574515585],[\"Pink Cab\",\"Female\",0.38853669763158605],[\"Pink Cab\",\"Female\",0.38764548742774463],[\"Pink Cab\",\"Female\",0.3831867895727669],[\"Pink Cab\",\"Female\",0.37584090844107976],[\"Pink Cab\",\"Female\",0.36788388514385517],[\"Pink Cab\",\"Female\",0.3621959380910698],[\"Pink Cab\",\"Female\",0.36091506286747055],[\"Pink Cab\",\"Female\",0.36463367365096183],[\"Pink Cab\",\"Female\",0.37222925801055995],[\"Pink Cab\",\"Female\",0.3811435764000645],[\"Pink Cab\",\"Female\",0.3882030689309114],[\"Pink Cab\",\"Female\",0.3908741478639204],[\"Pink Cab\",\"Female\",0.3883031694311858],[\"Pink Cab\",\"Female\",0.38152755387953624],[\"Pink Cab\",\"Female\",0.3728400455506029],[\"Pink Cab\",\"Female\",0.36474828198995585],[\"Pink Cab\",\"Female\",0.35909044628840925],[\"Pink Cab\",\"Female\",0.35674024981145913],[\"Pink Cab\",\"Female\",0.35790735825114117],[\"Pink Cab\",\"Female\",0.3625099615378077],[\"Pink Cab\",\"Female\",0.3700281160764618],[\"Pink Cab\",\"Female\",0.3789015258673895],[\"Pink Cab\",\"Female\",0.3863768431215724],[\"Pink Cab\",\"Female\",0.3896804624693819],[\"Pink Cab\",\"Female\",0.3880340291184689],[\"Pink Cab\",\"Female\",0.38360372575945406],[\"Pink Cab\",\"Female\",0.38002688728337725],[\"Pink Cab\",\"Female\",0.37963063939808883],[\"Pink Cab\",\"Female\",0.38199285483313006],[\"Pink Cab\",\"Female\",0.38503545592315824],[\"Pink Cab\",\"Female\",0.38709107520587827],[\"Pink Cab\",\"Female\",0.3875153303459091],[\"Pink Cab\",\"Female\",0.3851033197420436],[\"Pink Cab\",\"Female\",0.37594101470266467],[\"Pink Cab\",\"Female\",0.3533930995571817],[\"Pink Cab\",\"Female\",0.3116696943749496],[\"Pink Cab\",\"Female\",0.2511079162216921],[\"Pink Cab\",\"Female\",0.18055198774587566],[\"Pink Cab\",\"Female\",0.11370743171010074],[\"Pink Cab\",\"Female\",0.06183275985425768],[\"Pink Cab\",\"Female\",0.028725288993141196],[\"Pink Cab\",\"Female\",0.01131082022383253],[\"Pink Cab\",\"Female\",0.0037527896830060054],[\"Pink Cab\",\"Female\",0.0010445509834379927],[\"Pink Cab\",\"Female\",0.0002430908265967874],[\"Pink Cab\",\"Female\",4.717992564614993e-05],[\"Pink Cab\",\"Female\",7.621325636365177e-06],[\"Pink Cab\",\"Female\",1.023075805084071e-06],[\"Pink Cab\",\"Female\",1.1398485628675446e-07]]],\"ys\":[{\"__ndarray__\":\"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\",\"dtype\":\"float64\",\"order\":\"little\",\"shape\":[200]},{\"__ndarray__\":\"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\",\"dtype\":\"float64\",\"order\":\"little\",\"shape\":[200]},{\"__ndarray__\":\"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\",\"dtype\":\"float64\",\"order\":\"little\",\"shape\":[200]},{\"__ndarray__\":\"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\",\"dtype\":\"float64\",\"order\":\"little\",\"shape\":[200]}]},\"selected\":{\"id\":\"20528\"},\"selection_policy\":{\"id\":\"20527\"}},\"id\":\"20480\",\"type\":\"ColumnDataSource\"},{\"attributes\":{\"coordinates\":null,\"data_source\":{\"id\":\"20488\"},\"glyph\":{\"id\":\"20490\"},\"group\":null,\"hover_glyph\":null,\"muted_glyph\":{\"id\":\"20492\"},\"nonselection_glyph\":{\"id\":\"20491\"},\"selection_glyph\":{\"id\":\"20495\"},\"view\":{\"id\":\"20494\"}},\"id\":\"20493\",\"type\":\"GlyphRenderer\"},{\"attributes\":{\"coordinates\":null,\"data_source\":{\"id\":\"20496\"},\"glyph\":{\"id\":\"20498\"},\"group\":null,\"hover_glyph\":null,\"muted_glyph\":{\"id\":\"20500\"},\"nonselection_glyph\":{\"id\":\"20499\"},\"selection_glyph\":{\"id\":\"20503\"},\"view\":{\"id\":\"20502\"}},\"id\":\"20501\",\"type\":\"GlyphRenderer\"},{\"attributes\":{\"source\":{\"id\":\"20472\"}},\"id\":\"20478\",\"type\":\"CDSView\"},{\"attributes\":{\"axis\":{\"id\":\"20452\"},\"coordinates\":null,\"grid_line_color\":null,\"group\":null,\"ticker\":null},\"id\":\"20454\",\"type\":\"Grid\"},{\"attributes\":{\"fill_color\":{\"value\":\"white\"},\"hatch_color\":{\"value\":\"white\"},\"line_color\":{\"value\":\"white\"},\"x\":{\"field\":\"x\"},\"y\":{\"field\":\"y\"}},\"id\":\"20506\",\"type\":\"Scatter\"},{\"attributes\":{},\"id\":\"20456\",\"type\":\"BasicTicker\"},{\"attributes\":{\"axis_label\":\"Income (USD/Month)\",\"coordinates\":null,\"formatter\":{\"id\":\"20516\"},\"group\":null,\"major_label_policy\":{\"id\":\"20517\"},\"ticker\":{\"id\":\"20456\"}},\"id\":\"20455\",\"type\":\"LinearAxis\"},{\"attributes\":{\"line_alpha\":{\"value\":0.2},\"xs\":{\"field\":\"xs\"},\"ys\":{\"field\":\"ys\"}},\"id\":\"20484\",\"type\":\"MultiLine\"},{\"attributes\":{\"fill_alpha\":{\"value\":0.5},\"fill_color\":{\"field\":\"violin_fill_color\",\"transform\":{\"id\":\"20471\"}},\"hatch_alpha\":{\"value\":0.1},\"line_alpha\":{\"value\":0.1},\"line_color\":{\"value\":\"#1f77b4\"},\"line_width\":{\"value\":0},\"xs\":{\"field\":\"xs\"},\"ys\":{\"field\":\"ys\"}},\"id\":\"20475\",\"type\":\"Patches\"},{\"attributes\":{},\"id\":\"20531\",\"type\":\"UnionRenderers\"},{\"attributes\":{\"fill_alpha\":{\"value\":0.5},\"fill_color\":{\"field\":\"violin_fill_color\",\"transform\":{\"id\":\"20471\"}},\"line_color\":{\"value\":\"#1f77b4\"},\"line_width\":{\"value\":0},\"xs\":{\"field\":\"xs\"},\"ys\":{\"field\":\"ys\"}},\"id\":\"20474\",\"type\":\"Patches\"},{\"attributes\":{\"coordinates\":null,\"data_source\":{\"id\":\"20504\"},\"glyph\":{\"id\":\"20506\"},\"group\":null,\"hover_glyph\":null,\"muted_glyph\":{\"id\":\"20508\"},\"nonselection_glyph\":{\"id\":\"20507\"},\"selection_glyph\":{\"id\":\"20511\"},\"view\":{\"id\":\"20510\"}},\"id\":\"20509\",\"type\":\"GlyphRenderer\"},{\"attributes\":{},\"id\":\"20459\",\"type\":\"SaveTool\"},{\"attributes\":{},\"id\":\"20460\",\"type\":\"PanTool\"},{\"attributes\":{},\"id\":\"20517\",\"type\":\"AllLabels\"},{\"attributes\":{},\"id\":\"20525\",\"type\":\"UnionRenderers\"},{\"attributes\":{\"fill_alpha\":{\"value\":0.2},\"fill_color\":{\"value\":\"white\"},\"hatch_alpha\":{\"value\":0.2},\"hatch_color\":{\"value\":\"white\"},\"line_alpha\":{\"value\":0.2},\"line_color\":{\"value\":\"white\"},\"x\":{\"field\":\"x\"},\"y\":{\"field\":\"y\"}},\"id\":\"20508\",\"type\":\"Scatter\"},{\"attributes\":{\"overlay\":{\"id\":\"20464\"}},\"id\":\"20462\",\"type\":\"BoxZoomTool\"},{\"attributes\":{},\"id\":\"20516\",\"type\":\"BasicTickFormatter\"},{\"attributes\":{\"x0\":{\"field\":\"x\"},\"x1\":{\"field\":\"x\"},\"y0\":{\"field\":\"y0\"},\"y1\":{\"field\":\"y1\"}},\"id\":\"20490\",\"type\":\"Segment\"},{\"attributes\":{\"bottom\":{\"field\":\"bottom\"},\"fill_alpha\":{\"value\":0.1},\"fill_color\":{\"value\":\"black\"},\"hatch_alpha\":{\"value\":0.1},\"line_alpha\":{\"value\":0.1},\"top\":{\"field\":\"top\"},\"width\":{\"value\":0.1},\"x\":{\"field\":\"x\"}},\"id\":\"20499\",\"type\":\"VBar\"},{\"attributes\":{},\"id\":\"20461\",\"type\":\"WheelZoomTool\"},{\"attributes\":{\"fill_alpha\":{\"value\":0.1},\"fill_color\":{\"value\":\"white\"},\"hatch_alpha\":{\"value\":0.1},\"hatch_color\":{\"value\":\"white\"},\"line_alpha\":{\"value\":0.1},\"line_color\":{\"value\":\"white\"},\"x\":{\"field\":\"x\"},\"y\":{\"field\":\"y\"}},\"id\":\"20507\",\"type\":\"Scatter\"},{\"attributes\":{},\"id\":\"20528\",\"type\":\"Selection\"},{\"attributes\":{},\"id\":\"20527\",\"type\":\"UnionRenderers\"},{\"attributes\":{\"angle\":{\"value\":0.0},\"fill_alpha\":{\"value\":1.0},\"fill_color\":{\"value\":\"white\"},\"hatch_alpha\":{\"value\":1.0},\"hatch_color\":{\"value\":\"white\"},\"hatch_scale\":{\"value\":12.0},\"hatch_weight\":{\"value\":1.0},\"line_alpha\":{\"value\":1.0},\"line_cap\":{\"value\":\"butt\"},\"line_color\":{\"value\":\"white\"},\"line_dash\":{\"value\":[]},\"line_dash_offset\":{\"value\":0},\"line_join\":{\"value\":\"bevel\"},\"line_width\":{\"value\":1},\"marker\":{\"value\":\"circle\"},\"size\":{\"value\":4},\"x\":{\"field\":\"x\"},\"y\":{\"field\":\"y\"}},\"id\":\"20511\",\"type\":\"Scatter\"},{\"attributes\":{\"factors\":[\"Pink Cab\",\"Yellow Cab\"],\"palette\":[\"pink\",\"yellow\"]},\"id\":\"20471\",\"type\":\"CategoricalColorMapper\"},{\"attributes\":{\"margin\":[5,5,5,5],\"name\":\"HSpacer64396\",\"sizing_mode\":\"stretch_width\"},\"id\":\"20554\",\"type\":\"Spacer\"},{\"attributes\":{\"line_alpha\":{\"value\":1.0},\"line_cap\":{\"value\":\"butt\"},\"line_color\":{\"value\":\"black\"},\"line_dash\":{\"value\":[]},\"line_dash_offset\":{\"value\":0},\"line_join\":{\"value\":\"bevel\"},\"line_width\":{\"value\":1},\"x0\":{\"field\":\"x\"},\"x1\":{\"field\":\"x\"},\"y0\":{\"field\":\"y0\"},\"y1\":{\"field\":\"y1\"}},\"id\":\"20495\",\"type\":\"Segment\"},{\"attributes\":{\"source\":{\"id\":\"20504\"}},\"id\":\"20510\",\"type\":\"CDSView\"},{\"attributes\":{},\"id\":\"20463\",\"type\":\"ResetTool\"},{\"attributes\":{\"source\":{\"id\":\"20496\"}},\"id\":\"20502\",\"type\":\"CDSView\"},{\"attributes\":{\"tools\":[{\"id\":\"20459\"},{\"id\":\"20460\"},{\"id\":\"20461\"},{\"id\":\"20462\"},{\"id\":\"20463\"}]},\"id\":\"20465\",\"type\":\"Toolbar\"},{\"attributes\":{\"fill_alpha\":{\"value\":0.5},\"fill_color\":{\"field\":\"violin_fill_color\",\"transform\":{\"id\":\"20471\"}},\"hatch_alpha\":{\"value\":1.0},\"hatch_color\":{\"value\":\"black\"},\"hatch_scale\":{\"value\":12.0},\"hatch_weight\":{\"value\":1.0},\"line_alpha\":{\"value\":1.0},\"line_cap\":{\"value\":\"butt\"},\"line_color\":{\"value\":\"#1f77b4\"},\"line_dash\":{\"value\":[]},\"line_dash_offset\":{\"value\":0},\"line_join\":{\"value\":\"bevel\"},\"line_width\":{\"value\":0},\"xs\":{\"field\":\"xs\"},\"ys\":{\"field\":\"ys\"}},\"id\":\"20479\",\"type\":\"Patches\"},{\"attributes\":{\"bottom_units\":\"screen\",\"coordinates\":null,\"fill_alpha\":0.5,\"fill_color\":\"lightgrey\",\"group\":null,\"left_units\":\"screen\",\"level\":\"overlay\",\"line_alpha\":1.0,\"line_color\":\"black\",\"line_dash\":[4,4],\"line_width\":2,\"right_units\":\"screen\",\"syncable\":false,\"top_units\":\"screen\"},\"id\":\"20464\",\"type\":\"BoxAnnotation\"},{\"attributes\":{\"fill_alpha\":{\"value\":0.5},\"fill_color\":{\"field\":\"violin_fill_color\",\"transform\":{\"id\":\"20471\"}},\"hatch_alpha\":{\"value\":0.2},\"line_alpha\":{\"value\":0.2},\"line_color\":{\"value\":\"#1f77b4\"},\"line_width\":{\"value\":0},\"xs\":{\"field\":\"xs\"},\"ys\":{\"field\":\"ys\"}},\"id\":\"20476\",\"type\":\"Patches\"}],\"root_ids\":[\"20439\"]},\"title\":\"Bokeh Application\",\"version\":\"2.4.2\"}};\n",
       "    var render_items = [{\"docid\":\"7da75bf8-4051-444d-a4b4-b7f9832c9917\",\"root_ids\":[\"20439\"],\"roots\":{\"20439\":\"32ff7069-65b0-40f6-82ae-ef2f411bcc36\"}}];\n",
       "    root.Bokeh.embed.embed_items_notebook(docs_json, render_items);\n",
       "  }\n",
       "  if (root.Bokeh !== undefined && root.Bokeh.Panel !== undefined) {\n",
       "    embed_document(root);\n",
       "  } else {\n",
       "    var attempts = 0;\n",
       "    var timer = setInterval(function(root) {\n",
       "      if (root.Bokeh !== undefined && root.Bokeh.Panel !== undefined) {\n",
       "        clearInterval(timer);\n",
       "        embed_document(root);\n",
       "      } else if (document.readyState == \"complete\") {\n",
       "        attempts++;\n",
       "        if (attempts > 200) {\n",
       "          clearInterval(timer);\n",
       "          console.log(\"Bokeh: ERROR: Unable to run BokehJS code because BokehJS library is missing\");\n",
       "        }\n",
       "      }\n",
       "    }, 25, root)\n",
       "  }\n",
       "})(window);</script>"
      ],
      "text/plain": [
       ":Violin   [Company,Gender]   (Income (USD/Month))"
      ]
     },
     "execution_count": 321,
     "metadata": {
      "application/vnd.holoviews_exec.v0+json": {
       "id": "20439"
      }
     },
     "output_type": "execute_result"
    }
   ],
   "source": [
    "# Income distribution in genders for each company\n",
    "df.hvplot.violin(\n",
    "    y= 'Income (USD/Month)',\n",
    "    by = ['Company','Gender'],\n",
    "    color = 'Company',\n",
    "    cmap = ['pink','yellow'],\n",
    "    title = 'User Income Distribution by Gender by Company',\n",
    "    legend=False,\n",
    "    width = 600,\n",
    "    height = 500\n",
    ")"
   ]
  },
  {
   "cell_type": "markdown",
   "metadata": {},
   "source": [
    "> <b> Both companies have similar income distributions in each gender groups </b>\n",
    "\n",
    "> <b> The majority of customers' income fall under 3000 - 24000 </b>\n",
    "\n",
    "> <b> Income in both companies and gender groups are heavily weighted below it's mean </b>"
   ]
  },
  {
   "cell_type": "markdown",
   "metadata": {
    "tags": []
   },
   "source": [
    "### Cities"
   ]
  },
  {
   "cell_type": "markdown",
   "metadata": {},
   "source": [
    "> Users out of population by city\n",
    "\n",
    "> Income by city\n"
   ]
  },
  {
   "cell_type": "code",
   "execution_count": 322,
   "metadata": {},
   "outputs": [
    {
     "data": {
      "text/html": [
       "<div>\n",
       "<style scoped>\n",
       "    .dataframe tbody tr th:only-of-type {\n",
       "        vertical-align: middle;\n",
       "    }\n",
       "\n",
       "    .dataframe tbody tr th {\n",
       "        vertical-align: top;\n",
       "    }\n",
       "\n",
       "    .dataframe thead th {\n",
       "        text-align: right;\n",
       "    }\n",
       "</style>\n",
       "<table border=\"1\" class=\"dataframe\">\n",
       "  <thead>\n",
       "    <tr style=\"text-align: right;\">\n",
       "      <th></th>\n",
       "      <th>Users</th>\n",
       "      <th>Population</th>\n",
       "      <th>U/P</th>\n",
       "    </tr>\n",
       "    <tr>\n",
       "      <th>City</th>\n",
       "      <th></th>\n",
       "      <th></th>\n",
       "      <th></th>\n",
       "    </tr>\n",
       "  </thead>\n",
       "  <tbody>\n",
       "    <tr>\n",
       "      <th>ATLANTA GA</th>\n",
       "      <td>24701.0</td>\n",
       "      <td>814885.0</td>\n",
       "      <td>3.031225</td>\n",
       "    </tr>\n",
       "    <tr>\n",
       "      <th>AUSTIN TX</th>\n",
       "      <td>14978.0</td>\n",
       "      <td>698371.0</td>\n",
       "      <td>2.144705</td>\n",
       "    </tr>\n",
       "    <tr>\n",
       "      <th>BOSTON MA</th>\n",
       "      <td>80021.0</td>\n",
       "      <td>248968.0</td>\n",
       "      <td>32.141078</td>\n",
       "    </tr>\n",
       "    <tr>\n",
       "      <th>CHICAGO IL</th>\n",
       "      <td>164468.0</td>\n",
       "      <td>1955130.0</td>\n",
       "      <td>8.412126</td>\n",
       "    </tr>\n",
       "    <tr>\n",
       "      <th>DALLAS TX</th>\n",
       "      <td>22157.0</td>\n",
       "      <td>942908.0</td>\n",
       "      <td>2.349858</td>\n",
       "    </tr>\n",
       "    <tr>\n",
       "      <th>DENVER CO</th>\n",
       "      <td>12421.0</td>\n",
       "      <td>754233.0</td>\n",
       "      <td>1.646839</td>\n",
       "    </tr>\n",
       "    <tr>\n",
       "      <th>LOS ANGELES CA</th>\n",
       "      <td>144132.0</td>\n",
       "      <td>1595037.0</td>\n",
       "      <td>9.036279</td>\n",
       "    </tr>\n",
       "    <tr>\n",
       "      <th>MIAMI FL</th>\n",
       "      <td>17675.0</td>\n",
       "      <td>1339155.0</td>\n",
       "      <td>1.319862</td>\n",
       "    </tr>\n",
       "    <tr>\n",
       "      <th>NASHVILLE TN</th>\n",
       "      <td>9270.0</td>\n",
       "      <td>327225.0</td>\n",
       "      <td>2.832913</td>\n",
       "    </tr>\n",
       "    <tr>\n",
       "      <th>NEW YORK NY</th>\n",
       "      <td>302149.0</td>\n",
       "      <td>8405837.0</td>\n",
       "      <td>3.594514</td>\n",
       "    </tr>\n",
       "    <tr>\n",
       "      <th>ORANGE COUNTY</th>\n",
       "      <td>12994.0</td>\n",
       "      <td>1030185.0</td>\n",
       "      <td>1.261327</td>\n",
       "    </tr>\n",
       "    <tr>\n",
       "      <th>PHOENIX AZ</th>\n",
       "      <td>6133.0</td>\n",
       "      <td>943999.0</td>\n",
       "      <td>0.649683</td>\n",
       "    </tr>\n",
       "    <tr>\n",
       "      <th>PITTSBURGH PA</th>\n",
       "      <td>3643.0</td>\n",
       "      <td>542085.0</td>\n",
       "      <td>0.672035</td>\n",
       "    </tr>\n",
       "    <tr>\n",
       "      <th>SACRAMENTO CA</th>\n",
       "      <td>7044.0</td>\n",
       "      <td>545776.0</td>\n",
       "      <td>1.290639</td>\n",
       "    </tr>\n",
       "    <tr>\n",
       "      <th>SAN DIEGO CA</th>\n",
       "      <td>69995.0</td>\n",
       "      <td>959307.0</td>\n",
       "      <td>7.296413</td>\n",
       "    </tr>\n",
       "    <tr>\n",
       "      <th>SEATTLE WA</th>\n",
       "      <td>25063.0</td>\n",
       "      <td>671238.0</td>\n",
       "      <td>3.733847</td>\n",
       "    </tr>\n",
       "    <tr>\n",
       "      <th>SILICON VALLEY</th>\n",
       "      <td>27247.0</td>\n",
       "      <td>1177609.0</td>\n",
       "      <td>2.313756</td>\n",
       "    </tr>\n",
       "    <tr>\n",
       "      <th>TUCSON AZ</th>\n",
       "      <td>5712.0</td>\n",
       "      <td>631442.0</td>\n",
       "      <td>0.904596</td>\n",
       "    </tr>\n",
       "    <tr>\n",
       "      <th>WASHINGTON DC</th>\n",
       "      <td>127001.0</td>\n",
       "      <td>418859.0</td>\n",
       "      <td>30.320705</td>\n",
       "    </tr>\n",
       "  </tbody>\n",
       "</table>\n",
       "</div>"
      ],
      "text/plain": [
       "                   Users  Population        U/P\n",
       "City                                           \n",
       "ATLANTA GA       24701.0    814885.0   3.031225\n",
       "AUSTIN TX        14978.0    698371.0   2.144705\n",
       "BOSTON MA        80021.0    248968.0  32.141078\n",
       "CHICAGO IL      164468.0   1955130.0   8.412126\n",
       "DALLAS TX        22157.0    942908.0   2.349858\n",
       "DENVER CO        12421.0    754233.0   1.646839\n",
       "LOS ANGELES CA  144132.0   1595037.0   9.036279\n",
       "MIAMI FL         17675.0   1339155.0   1.319862\n",
       "NASHVILLE TN      9270.0    327225.0   2.832913\n",
       "NEW YORK NY     302149.0   8405837.0   3.594514\n",
       "ORANGE COUNTY    12994.0   1030185.0   1.261327\n",
       "PHOENIX AZ        6133.0    943999.0   0.649683\n",
       "PITTSBURGH PA     3643.0    542085.0   0.672035\n",
       "SACRAMENTO CA     7044.0    545776.0   1.290639\n",
       "SAN DIEGO CA     69995.0    959307.0   7.296413\n",
       "SEATTLE WA       25063.0    671238.0   3.733847\n",
       "SILICON VALLEY   27247.0   1177609.0   2.313756\n",
       "TUCSON AZ         5712.0    631442.0   0.904596\n",
       "WASHINGTON DC   127001.0    418859.0  30.320705"
      ]
     },
     "execution_count": 322,
     "metadata": {},
     "output_type": "execute_result"
    }
   ],
   "source": [
    "# Create a new dataframe contains City, Users, and Population information\n",
    "user_vs_popu = df.groupby(['City']).mean()\n",
    "user_vs_popu = user_vs_popu.iloc[:,7:9]\n",
    "user_vs_popu = user_vs_popu.reindex(columns= ['Users', 'Population'])\n",
    "user_vs_popu['U/P'] = (user_vs_popu['Users'] / user_vs_popu['Population']) * 100\n",
    "user_vs_popu"
   ]
  },
  {
   "cell_type": "code",
   "execution_count": 323,
   "metadata": {},
   "outputs": [
    {
     "data": {},
     "metadata": {},
     "output_type": "display_data"
    },
    {
     "data": {
      "application/vnd.holoviews_exec.v0+json": "",
      "text/html": [
       "<div id='20646'>\n",
       "\n",
       "\n",
       "\n",
       "\n",
       "\n",
       "  <div class=\"bk-root\" id=\"4ade6d0e-2113-4c41-9ed7-78daf724b74e\" data-root-id=\"20646\"></div>\n",
       "</div>\n",
       "<script type=\"application/javascript\">(function(root) {\n",
       "  function embed_document(root) {\n",
       "    var docs_json = {\"8949317b-cd88-46da-ad11-b7717e3259b2\":{\"defs\":[{\"extends\":null,\"module\":null,\"name\":\"ReactiveHTML1\",\"overrides\":[],\"properties\":[]},{\"extends\":null,\"module\":null,\"name\":\"FlexBox1\",\"overrides\":[],\"properties\":[{\"default\":\"flex-start\",\"kind\":null,\"name\":\"align_content\"},{\"default\":\"flex-start\",\"kind\":null,\"name\":\"align_items\"},{\"default\":\"row\",\"kind\":null,\"name\":\"flex_direction\"},{\"default\":\"wrap\",\"kind\":null,\"name\":\"flex_wrap\"},{\"default\":\"flex-start\",\"kind\":null,\"name\":\"justify_content\"}]},{\"extends\":null,\"module\":null,\"name\":\"GridStack1\",\"overrides\":[],\"properties\":[{\"default\":\"warn\",\"kind\":null,\"name\":\"mode\"},{\"default\":null,\"kind\":null,\"name\":\"ncols\"},{\"default\":null,\"kind\":null,\"name\":\"nrows\"},{\"default\":true,\"kind\":null,\"name\":\"allow_resize\"},{\"default\":true,\"kind\":null,\"name\":\"allow_drag\"},{\"default\":[],\"kind\":null,\"name\":\"state\"}]},{\"extends\":null,\"module\":null,\"name\":\"click1\",\"overrides\":[],\"properties\":[{\"default\":\"\",\"kind\":null,\"name\":\"terminal_output\"},{\"default\":\"\",\"kind\":null,\"name\":\"debug_name\"},{\"default\":0,\"kind\":null,\"name\":\"clears\"}]},{\"extends\":null,\"module\":null,\"name\":\"TemplateActions1\",\"overrides\":[],\"properties\":[{\"default\":0,\"kind\":null,\"name\":\"open_modal\"},{\"default\":0,\"kind\":null,\"name\":\"close_modal\"}]},{\"extends\":null,\"module\":null,\"name\":\"MaterialTemplateActions1\",\"overrides\":[],\"properties\":[{\"default\":0,\"kind\":null,\"name\":\"open_modal\"},{\"default\":0,\"kind\":null,\"name\":\"close_modal\"}]}],\"roots\":{\"references\":[{\"attributes\":{\"data\":{\"City\":[\"ATLANTA GA\",\"TUCSON AZ\",\"SILICON VALLEY\",\"SEATTLE WA\",\"SAN DIEGO CA\",\"SACRAMENTO CA\",\"PITTSBURGH PA\",\"PHOENIX AZ\",\"ORANGE COUNTY\",\"WASHINGTON DC\",\"NASHVILLE TN\",\"MIAMI FL\",\"LOS ANGELES CA\",\"DENVER CO\",\"DALLAS TX\",\"CHICAGO IL\",\"BOSTON MA\",\"AUSTIN TX\",\"NEW YORK NY\",\"PHOENIX AZ\",\"PITTSBURGH PA\",\"SILICON VALLEY\",\"SAN DIEGO CA\",\"SEATTLE WA\",\"ORANGE COUNTY\",\"SACRAMENTO CA\",\"NEW YORK NY\",\"DALLAS TX\",\"MIAMI FL\",\"LOS ANGELES CA\",\"DENVER CO\",\"CHICAGO IL\",\"BOSTON MA\",\"AUSTIN TX\",\"ATLANTA GA\",\"TUCSON AZ\",\"NASHVILLE TN\",\"WASHINGTON DC\"],\"Variable\":[\"Users\",\"Users\",\"Users\",\"Users\",\"Users\",\"Users\",\"Users\",\"Users\",\"Users\",\"Users\",\"Users\",\"Users\",\"Users\",\"Users\",\"Users\",\"Users\",\"Users\",\"Users\",\"Users\",\"Population\",\"Population\",\"Population\",\"Population\",\"Population\",\"Population\",\"Population\",\"Population\",\"Population\",\"Population\",\"Population\",\"Population\",\"Population\",\"Population\",\"Population\",\"Population\",\"Population\",\"Population\",\"Population\"],\"bottom\":{\"__ndarray__\":\"AAAAAAAAAAAAAAAAAAAAAAAAAAAAAAAAAAAAAAAAAAAAAAAAAAAAAAAAAAAAAAAAAAAAAAAAAAAAAAAAAAAAAAAAAAAAAAAAAAAAAAAAAAAAAAAAAAAAAAAAAAAAAAAAAAAAAAAAAAAAAAAAAAAAAAAAAAAAAAAAAAAAAAAAAAAAAAAAAAAAAAAAAAAAAAAAAAAAAAAAAAAAAAAAAPW3QAAAAAAAdqxAAAAAAMCb2kAAAAAAsBbxQAAAAADAedhAAAAAAABhyUAAAAAAAIS7QAAAAAAUcRJBAAAAAECj1UAAAAAAwELRQAAAAAAgmAFBAAAAAIBCyEAAAAAAoBMEQQAAAABQifNAAAAAAABBzUAAAAAAQB/YQAAAAAAAULZAAAAAAAAbwkAAAAAAkAH/QA==\",\"dtype\":\"float64\",\"order\":\"little\",\"shape\":[38]},\"top\":{\"__ndarray__\":\"AAAAAEAf2EAAAAAAAFC2QAAAAADAm9pAAAAAAMB52EAAAAAAsBbxQAAAAAAAhLtAAAAAAAB2rEAAAAAAAPW3QAAAAAAAYclAAAAAAJAB/0AAAAAAABvCQAAAAADAQtFAAAAAACCYAUEAAAAAgELIQAAAAABAo9VAAAAAAKATBEEAAAAAUInzQAAAAAAAQc1AAAAAABRxEkEAAAAA6P4sQQAAAACApyBBAAAAAHhiMkEAAAAAbGkvQQAAAADaPyVBAAAAANbVL0EAAAAA6N4gQQAAAEDym2BBAAAAAJJzLUEAAAAAHrQ0QQAAAAChiTpBAAAAAHxlJ0EAAAAA1ytAQQAAAAB0FBRBAAAAAArFJUEAAAAARJ8pQQAAAADEcSNBAAAAALyJFEEAAAAAiKggQQ==\",\"dtype\":\"float64\",\"order\":\"little\",\"shape\":[38]},\"value\":{\"__ndarray__\":\"AAAAAEAf2EAAAAAAAFC2QAAAAADAm9pAAAAAAMB52EAAAAAAsBbxQAAAAAAAhLtAAAAAAAB2rEAAAAAAAPW3QAAAAAAAYclAAAAAAJAB/0AAAAAAABvCQAAAAADAQtFAAAAAACCYAUEAAAAAgELIQAAAAABAo9VAAAAAAKATBEEAAAAAUInzQAAAAAAAQc1AAAAAABRxEkEAAAAA/s4sQQAAAAAKiyBBAAAAAAn4MUEAAAAAlkYtQQAAAAAMfCRBAAAAAFJwL0EAAAAA4KcgQQAAAKBpCGBBAAAAAHjGLEEAAAAAE280QQAAAACdVjhBAAAAAHIEJ0EAAAAAOtU9QQAAAABAZA5BAAAAAAZQJUEAAAAASt4oQQAAAAAkRSNBAAAAAOT4E0EAAAAArJAZQQ==\",\"dtype\":\"float64\",\"order\":\"little\",\"shape\":[38]}},\"selected\":{\"id\":\"20682\"},\"selection_policy\":{\"id\":\"20696\"}},\"id\":\"20681\",\"type\":\"ColumnDataSource\"},{\"attributes\":{},\"id\":\"20667\",\"type\":\"SaveTool\"},{\"attributes\":{\"tools\":[{\"id\":\"20650\"},{\"id\":\"20667\"},{\"id\":\"20668\"},{\"id\":\"20669\"},{\"id\":\"20670\"},{\"id\":\"20671\"}]},\"id\":\"20673\",\"type\":\"Toolbar\"},{\"attributes\":{\"coordinates\":null,\"data_source\":{\"id\":\"20681\"},\"glyph\":{\"id\":\"20684\"},\"group\":null,\"hover_glyph\":null,\"muted_glyph\":{\"id\":\"20686\"},\"nonselection_glyph\":{\"id\":\"20685\"},\"selection_glyph\":{\"id\":\"20701\"},\"view\":{\"id\":\"20688\"}},\"id\":\"20687\",\"type\":\"GlyphRenderer\"},{\"attributes\":{\"factors\":[\"ATLANTA GA\",\"AUSTIN TX\",\"BOSTON MA\",\"CHICAGO IL\",\"DALLAS TX\",\"DENVER CO\",\"LOS ANGELES CA\",\"MIAMI FL\",\"NASHVILLE TN\",\"NEW YORK NY\",\"ORANGE COUNTY\",\"PHOENIX AZ\",\"PITTSBURGH PA\",\"SACRAMENTO CA\",\"SAN DIEGO CA\",\"SEATTLE WA\",\"SILICON VALLEY\",\"TUCSON AZ\",\"WASHINGTON DC\"],\"tags\":[[[\"City\",\"City\",null]]]},\"id\":\"20648\",\"type\":\"FactorRange\"},{\"attributes\":{\"children\":[{\"id\":\"20647\"},{\"id\":\"20651\"},{\"id\":\"20729\"}],\"margin\":[0,0,0,0],\"name\":\"Row64743\",\"tags\":[\"embedded\"]},\"id\":\"20646\",\"type\":\"Row\"},{\"attributes\":{\"end\":9545885.7,\"reset_end\":9545885.7,\"reset_start\":0.0,\"tags\":[[[\"value\",\"value\",null]]]},\"id\":\"20649\",\"type\":\"Range1d\"},{\"attributes\":{\"source\":{\"id\":\"20681\"}},\"id\":\"20688\",\"type\":\"CDSView\"},{\"attributes\":{},\"id\":\"20671\",\"type\":\"ResetTool\"},{\"attributes\":{},\"id\":\"20695\",\"type\":\"AllLabels\"},{\"attributes\":{\"coordinates\":null,\"group\":null,\"text\":\"User VS Population\",\"text_color\":\"black\",\"text_font_size\":\"12pt\"},\"id\":\"20652\",\"type\":\"Title\"},{\"attributes\":{\"callback\":null,\"renderers\":[{\"id\":\"20687\"}],\"tags\":[\"hv_created\"],\"tooltips\":[[\"City\",\"@{City}\"],[\"Variable\",\"@{Variable}\"],[\"value\",\"@{value}\"]]},\"id\":\"20650\",\"type\":\"HoverTool\"},{\"attributes\":{\"bottom_units\":\"screen\",\"coordinates\":null,\"fill_alpha\":0.5,\"fill_color\":\"lightgrey\",\"group\":null,\"left_units\":\"screen\",\"level\":\"overlay\",\"line_alpha\":1.0,\"line_color\":\"black\",\"line_dash\":[4,4],\"line_width\":2,\"right_units\":\"screen\",\"syncable\":false,\"top_units\":\"screen\"},\"id\":\"20672\",\"type\":\"BoxAnnotation\"},{\"attributes\":{\"margin\":[5,5,5,5],\"name\":\"HSpacer64747\",\"sizing_mode\":\"stretch_width\"},\"id\":\"20647\",\"type\":\"Spacer\"},{\"attributes\":{},\"id\":\"20664\",\"type\":\"BasicTicker\"},{\"attributes\":{\"axis\":{\"id\":\"20663\"},\"coordinates\":null,\"dimension\":1,\"grid_line_color\":null,\"group\":null,\"ticker\":null},\"id\":\"20666\",\"type\":\"Grid\"},{\"attributes\":{},\"id\":\"20694\",\"type\":\"CategoricalTickFormatter\"},{\"attributes\":{},\"id\":\"20692\",\"type\":\"AllLabels\"},{\"attributes\":{\"label\":{\"field\":\"Variable\"},\"renderers\":[{\"id\":\"20687\"}]},\"id\":\"20700\",\"type\":\"LegendItem\"},{\"attributes\":{},\"id\":\"20696\",\"type\":\"UnionRenderers\"},{\"attributes\":{},\"id\":\"20669\",\"type\":\"WheelZoomTool\"},{\"attributes\":{},\"id\":\"20668\",\"type\":\"PanTool\"},{\"attributes\":{\"axis_label\":\"City\",\"coordinates\":null,\"formatter\":{\"id\":\"20694\"},\"group\":null,\"major_label_orientation\":1.5707963267948966,\"major_label_policy\":{\"id\":\"20695\"},\"ticker\":{\"id\":\"20661\"}},\"id\":\"20660\",\"type\":\"CategoricalAxis\"},{\"attributes\":{},\"id\":\"20661\",\"type\":\"CategoricalTicker\"},{\"attributes\":{\"coordinates\":null,\"group\":null,\"items\":[{\"id\":\"20700\"}],\"location\":\"top_left\"},\"id\":\"20699\",\"type\":\"Legend\"},{\"attributes\":{\"format\":\"%.0f\"},\"id\":\"20702\",\"type\":\"PrintfTickFormatter\"},{\"attributes\":{\"overlay\":{\"id\":\"20672\"}},\"id\":\"20670\",\"type\":\"BoxZoomTool\"},{\"attributes\":{},\"id\":\"20682\",\"type\":\"Selection\"},{\"attributes\":{\"bottom\":{\"field\":\"bottom\"},\"fill_alpha\":{\"value\":0.6},\"fill_color\":{\"field\":\"Variable\",\"transform\":{\"id\":\"20680\"}},\"hatch_alpha\":{\"value\":0.1},\"hatch_color\":{\"field\":\"Variable\",\"transform\":{\"id\":\"20680\"}},\"line_alpha\":{\"value\":0.6},\"top\":{\"field\":\"top\"},\"width\":{\"value\":0.8},\"x\":{\"field\":\"City\"}},\"id\":\"20685\",\"type\":\"VBar\"},{\"attributes\":{\"margin\":[5,5,5,5],\"name\":\"HSpacer64748\",\"sizing_mode\":\"stretch_width\"},\"id\":\"20729\",\"type\":\"Spacer\"},{\"attributes\":{\"bottom\":{\"field\":\"bottom\"},\"fill_alpha\":{\"value\":0.2},\"fill_color\":{\"field\":\"Variable\",\"transform\":{\"id\":\"20680\"}},\"hatch_alpha\":{\"value\":0.2},\"hatch_color\":{\"field\":\"Variable\",\"transform\":{\"id\":\"20680\"}},\"line_alpha\":{\"value\":0.2},\"top\":{\"field\":\"top\"},\"width\":{\"value\":0.8},\"x\":{\"field\":\"City\"}},\"id\":\"20686\",\"type\":\"VBar\"},{\"attributes\":{\"axis\":{\"id\":\"20660\"},\"coordinates\":null,\"grid_line_color\":null,\"group\":null,\"ticker\":null},\"id\":\"20662\",\"type\":\"Grid\"},{\"attributes\":{},\"id\":\"20656\",\"type\":\"CategoricalScale\"},{\"attributes\":{},\"id\":\"20658\",\"type\":\"LinearScale\"},{\"attributes\":{\"bottom\":{\"field\":\"bottom\"},\"fill_alpha\":{\"value\":0.6},\"fill_color\":{\"field\":\"Variable\",\"transform\":{\"id\":\"20680\"}},\"hatch_alpha\":{\"value\":0.6},\"hatch_color\":{\"field\":\"Variable\",\"transform\":{\"id\":\"20680\"}},\"line_alpha\":{\"value\":0.6},\"top\":{\"field\":\"top\"},\"width\":{\"value\":0.8},\"x\":{\"field\":\"City\"}},\"id\":\"20684\",\"type\":\"VBar\"},{\"attributes\":{\"bottom\":{\"field\":\"bottom\"},\"fill_alpha\":{\"value\":0.6},\"fill_color\":{\"field\":\"Variable\",\"transform\":{\"id\":\"20680\"}},\"hatch_alpha\":{\"value\":0.6},\"hatch_color\":{\"field\":\"Variable\",\"transform\":{\"id\":\"20680\"}},\"hatch_scale\":{\"value\":12.0},\"hatch_weight\":{\"value\":1.0},\"line_alpha\":{\"value\":0.6},\"line_cap\":{\"value\":\"butt\"},\"line_color\":{\"value\":\"black\"},\"line_dash\":{\"value\":[]},\"line_dash_offset\":{\"value\":0},\"line_join\":{\"value\":\"bevel\"},\"line_width\":{\"value\":1},\"top\":{\"field\":\"top\"},\"width\":{\"value\":0.8},\"x\":{\"field\":\"City\"}},\"id\":\"20701\",\"type\":\"VBar\"},{\"attributes\":{\"factors\":[\"Users\",\"Population\"],\"palette\":[\"#30a2da\",\"#fc4f30\"]},\"id\":\"20680\",\"type\":\"CategoricalColorMapper\"},{\"attributes\":{\"below\":[{\"id\":\"20660\"}],\"center\":[{\"id\":\"20662\"},{\"id\":\"20666\"},{\"id\":\"20699\"}],\"left\":[{\"id\":\"20663\"}],\"margin\":[5,5,5,5],\"min_border_bottom\":10,\"min_border_left\":10,\"min_border_right\":10,\"min_border_top\":10,\"renderers\":[{\"id\":\"20687\"}],\"sizing_mode\":\"fixed\",\"title\":{\"id\":\"20652\"},\"toolbar\":{\"id\":\"20673\"},\"width\":900,\"x_range\":{\"id\":\"20648\"},\"x_scale\":{\"id\":\"20656\"},\"y_range\":{\"id\":\"20649\"},\"y_scale\":{\"id\":\"20658\"}},\"id\":\"20651\",\"subtype\":\"Figure\",\"type\":\"Plot\"},{\"attributes\":{\"axis_label\":\"\",\"coordinates\":null,\"formatter\":{\"id\":\"20702\"},\"group\":null,\"major_label_policy\":{\"id\":\"20692\"},\"ticker\":{\"id\":\"20664\"}},\"id\":\"20663\",\"type\":\"LinearAxis\"}],\"root_ids\":[\"20646\"]},\"title\":\"Bokeh Application\",\"version\":\"2.4.2\"}};\n",
       "    var render_items = [{\"docid\":\"8949317b-cd88-46da-ad11-b7717e3259b2\",\"root_ids\":[\"20646\"],\"roots\":{\"20646\":\"4ade6d0e-2113-4c41-9ed7-78daf724b74e\"}}];\n",
       "    root.Bokeh.embed.embed_items_notebook(docs_json, render_items);\n",
       "  }\n",
       "  if (root.Bokeh !== undefined && root.Bokeh.Panel !== undefined) {\n",
       "    embed_document(root);\n",
       "  } else {\n",
       "    var attempts = 0;\n",
       "    var timer = setInterval(function(root) {\n",
       "      if (root.Bokeh !== undefined && root.Bokeh.Panel !== undefined) {\n",
       "        clearInterval(timer);\n",
       "        embed_document(root);\n",
       "      } else if (document.readyState == \"complete\") {\n",
       "        attempts++;\n",
       "        if (attempts > 200) {\n",
       "          clearInterval(timer);\n",
       "          console.log(\"Bokeh: ERROR: Unable to run BokehJS code because BokehJS library is missing\");\n",
       "        }\n",
       "      }\n",
       "    }, 25, root)\n",
       "  }\n",
       "})(window);</script>"
      ],
      "text/plain": [
       ":Bars   [City,Variable]   (value)"
      ]
     },
     "execution_count": 323,
     "metadata": {
      "application/vnd.holoviews_exec.v0+json": {
       "id": "20646"
      }
     },
     "output_type": "execute_result"
    }
   ],
   "source": [
    "# Stack Users and Population data by City in a bar chart\n",
    "user_vs_popu.drop(columns = 'U/P').hvplot(kind = 'bar',title = 'User VS Population', stacked= True, legend = 'top_left', width = 900, height = 600, alpha=0.6).opts(xrotation = 90,yformatter='%.0f')"
   ]
  },
  {
   "cell_type": "code",
   "execution_count": 324,
   "metadata": {},
   "outputs": [
    {
     "data": {},
     "metadata": {},
     "output_type": "display_data"
    },
    {
     "data": {
      "application/vnd.holoviews_exec.v0+json": "",
      "text/html": [
       "<div id='20776'>\n",
       "\n",
       "\n",
       "\n",
       "\n",
       "\n",
       "  <div class=\"bk-root\" id=\"9050a0b8-fe44-4995-9c34-fa3ae8cccce0\" data-root-id=\"20776\"></div>\n",
       "</div>\n",
       "<script type=\"application/javascript\">(function(root) {\n",
       "  function embed_document(root) {\n",
       "    var docs_json = {\"39c48c4f-d47d-47a4-9913-1e354a0f04ca\":{\"defs\":[{\"extends\":null,\"module\":null,\"name\":\"ReactiveHTML1\",\"overrides\":[],\"properties\":[]},{\"extends\":null,\"module\":null,\"name\":\"FlexBox1\",\"overrides\":[],\"properties\":[{\"default\":\"flex-start\",\"kind\":null,\"name\":\"align_content\"},{\"default\":\"flex-start\",\"kind\":null,\"name\":\"align_items\"},{\"default\":\"row\",\"kind\":null,\"name\":\"flex_direction\"},{\"default\":\"wrap\",\"kind\":null,\"name\":\"flex_wrap\"},{\"default\":\"flex-start\",\"kind\":null,\"name\":\"justify_content\"}]},{\"extends\":null,\"module\":null,\"name\":\"GridStack1\",\"overrides\":[],\"properties\":[{\"default\":\"warn\",\"kind\":null,\"name\":\"mode\"},{\"default\":null,\"kind\":null,\"name\":\"ncols\"},{\"default\":null,\"kind\":null,\"name\":\"nrows\"},{\"default\":true,\"kind\":null,\"name\":\"allow_resize\"},{\"default\":true,\"kind\":null,\"name\":\"allow_drag\"},{\"default\":[],\"kind\":null,\"name\":\"state\"}]},{\"extends\":null,\"module\":null,\"name\":\"click1\",\"overrides\":[],\"properties\":[{\"default\":\"\",\"kind\":null,\"name\":\"terminal_output\"},{\"default\":\"\",\"kind\":null,\"name\":\"debug_name\"},{\"default\":0,\"kind\":null,\"name\":\"clears\"}]},{\"extends\":null,\"module\":null,\"name\":\"TemplateActions1\",\"overrides\":[],\"properties\":[{\"default\":0,\"kind\":null,\"name\":\"open_modal\"},{\"default\":0,\"kind\":null,\"name\":\"close_modal\"}]},{\"extends\":null,\"module\":null,\"name\":\"MaterialTemplateActions1\",\"overrides\":[],\"properties\":[{\"default\":0,\"kind\":null,\"name\":\"open_modal\"},{\"default\":0,\"kind\":null,\"name\":\"close_modal\"}]}],\"roots\":{\"references\":[{\"attributes\":{},\"id\":\"20801\",\"type\":\"ResetTool\"},{\"attributes\":{\"end\":35.29021791950806,\"reset_end\":35.29021791950806,\"reset_start\":0.0,\"tags\":[[[\"U/P\",\"U/P\",null]]]},\"id\":\"20779\",\"type\":\"Range1d\"},{\"attributes\":{},\"id\":\"20786\",\"type\":\"CategoricalScale\"},{\"attributes\":{\"coordinates\":null,\"data_source\":{\"id\":\"20810\"},\"glyph\":{\"id\":\"20813\"},\"group\":null,\"hover_glyph\":null,\"muted_glyph\":{\"id\":\"20815\"},\"nonselection_glyph\":{\"id\":\"20814\"},\"selection_glyph\":{\"id\":\"20818\"},\"view\":{\"id\":\"20817\"}},\"id\":\"20816\",\"type\":\"GlyphRenderer\"},{\"attributes\":{\"fill_alpha\":{\"value\":0.6},\"fill_color\":{\"value\":\"#30a2da\"},\"hatch_alpha\":{\"value\":0.1},\"hatch_color\":{\"value\":\"#30a2da\"},\"line_alpha\":{\"value\":0.6},\"top\":{\"field\":\"U_over_P\"},\"width\":{\"value\":0.8},\"x\":{\"field\":\"City\"}},\"id\":\"20814\",\"type\":\"VBar\"},{\"attributes\":{\"axis\":{\"id\":\"20793\"},\"coordinates\":null,\"dimension\":1,\"grid_line_color\":null,\"group\":null,\"ticker\":null},\"id\":\"20796\",\"type\":\"Grid\"},{\"attributes\":{\"axis_label\":\"Percentage (%)\",\"coordinates\":null,\"formatter\":{\"id\":\"20819\"},\"group\":null,\"major_label_policy\":{\"id\":\"20825\"},\"ticker\":{\"id\":\"20794\"}},\"id\":\"20793\",\"type\":\"LinearAxis\"},{\"attributes\":{\"callback\":null,\"renderers\":[{\"id\":\"20816\"}],\"tags\":[\"hv_created\"],\"tooltips\":[[\"City\",\"@{City}\"],[\"U/P\",\"@{U_over_P}\"]]},\"id\":\"20780\",\"type\":\"HoverTool\"},{\"attributes\":{\"children\":[{\"id\":\"20777\"},{\"id\":\"20781\"},{\"id\":\"20846\"}],\"margin\":[0,0,0,0],\"name\":\"Row65045\",\"tags\":[\"embedded\"]},\"id\":\"20776\",\"type\":\"Row\"},{\"attributes\":{\"margin\":[5,5,5,5],\"name\":\"HSpacer65050\",\"sizing_mode\":\"stretch_width\"},\"id\":\"20846\",\"type\":\"Spacer\"},{\"attributes\":{\"axis\":{\"id\":\"20790\"},\"coordinates\":null,\"grid_line_color\":null,\"group\":null,\"ticker\":null},\"id\":\"20792\",\"type\":\"Grid\"},{\"attributes\":{\"axis_label\":\"City\",\"coordinates\":null,\"formatter\":{\"id\":\"20821\"},\"group\":null,\"major_label_orientation\":1.5707963267948966,\"major_label_policy\":{\"id\":\"20822\"},\"ticker\":{\"id\":\"20791\"}},\"id\":\"20790\",\"type\":\"CategoricalAxis\"},{\"attributes\":{},\"id\":\"20822\",\"type\":\"AllLabels\"},{\"attributes\":{\"margin\":[5,5,5,5],\"name\":\"HSpacer65049\",\"sizing_mode\":\"stretch_width\"},\"id\":\"20777\",\"type\":\"Spacer\"},{\"attributes\":{\"source\":{\"id\":\"20810\"}},\"id\":\"20817\",\"type\":\"CDSView\"},{\"attributes\":{},\"id\":\"20788\",\"type\":\"LinearScale\"},{\"attributes\":{\"bottom_units\":\"screen\",\"coordinates\":null,\"fill_alpha\":0.5,\"fill_color\":\"lightgrey\",\"group\":null,\"left_units\":\"screen\",\"level\":\"overlay\",\"line_alpha\":1.0,\"line_color\":\"black\",\"line_dash\":[4,4],\"line_width\":2,\"right_units\":\"screen\",\"syncable\":false,\"top_units\":\"screen\"},\"id\":\"20802\",\"type\":\"BoxAnnotation\"},{\"attributes\":{\"tools\":[{\"id\":\"20780\"},{\"id\":\"20797\"},{\"id\":\"20798\"},{\"id\":\"20799\"},{\"id\":\"20800\"},{\"id\":\"20801\"}]},\"id\":\"20803\",\"type\":\"Toolbar\"},{\"attributes\":{},\"id\":\"20811\",\"type\":\"Selection\"},{\"attributes\":{},\"id\":\"20791\",\"type\":\"CategoricalTicker\"},{\"attributes\":{\"fill_alpha\":{\"value\":0.6},\"fill_color\":{\"value\":\"#30a2da\"},\"hatch_alpha\":{\"value\":0.6},\"hatch_color\":{\"value\":\"#30a2da\"},\"line_alpha\":{\"value\":0.6},\"top\":{\"field\":\"U_over_P\"},\"width\":{\"value\":0.8},\"x\":{\"field\":\"City\"}},\"id\":\"20813\",\"type\":\"VBar\"},{\"attributes\":{},\"id\":\"20799\",\"type\":\"WheelZoomTool\"},{\"attributes\":{\"overlay\":{\"id\":\"20802\"}},\"id\":\"20800\",\"type\":\"BoxZoomTool\"},{\"attributes\":{},\"id\":\"20825\",\"type\":\"AllLabels\"},{\"attributes\":{},\"id\":\"20797\",\"type\":\"SaveTool\"},{\"attributes\":{\"format\":\"%.0f\"},\"id\":\"20819\",\"type\":\"PrintfTickFormatter\"},{\"attributes\":{\"factors\":[\"ATLANTA GA\",\"AUSTIN TX\",\"BOSTON MA\",\"CHICAGO IL\",\"DALLAS TX\",\"DENVER CO\",\"LOS ANGELES CA\",\"MIAMI FL\",\"NASHVILLE TN\",\"NEW YORK NY\",\"ORANGE COUNTY\",\"PHOENIX AZ\",\"PITTSBURGH PA\",\"SACRAMENTO CA\",\"SAN DIEGO CA\",\"SEATTLE WA\",\"SILICON VALLEY\",\"TUCSON AZ\",\"WASHINGTON DC\"],\"tags\":[[[\"City\",\"City\",null]]]},\"id\":\"20778\",\"type\":\"FactorRange\"},{\"attributes\":{},\"id\":\"20821\",\"type\":\"CategoricalTickFormatter\"},{\"attributes\":{},\"id\":\"20834\",\"type\":\"UnionRenderers\"},{\"attributes\":{},\"id\":\"20794\",\"type\":\"BasicTicker\"},{\"attributes\":{},\"id\":\"20798\",\"type\":\"PanTool\"},{\"attributes\":{\"fill_alpha\":{\"value\":0.2},\"fill_color\":{\"value\":\"#30a2da\"},\"hatch_alpha\":{\"value\":0.2},\"hatch_color\":{\"value\":\"#30a2da\"},\"line_alpha\":{\"value\":0.2},\"top\":{\"field\":\"U_over_P\"},\"width\":{\"value\":0.8},\"x\":{\"field\":\"City\"}},\"id\":\"20815\",\"type\":\"VBar\"},{\"attributes\":{\"coordinates\":null,\"group\":null,\"text\":\"User Respective Population\",\"text_color\":\"black\",\"text_font_size\":\"12pt\"},\"id\":\"20782\",\"type\":\"Title\"},{\"attributes\":{\"data\":{\"City\":[\"ATLANTA GA\",\"AUSTIN TX\",\"BOSTON MA\",\"CHICAGO IL\",\"DALLAS TX\",\"DENVER CO\",\"LOS ANGELES CA\",\"MIAMI FL\",\"NASHVILLE TN\",\"NEW YORK NY\",\"ORANGE COUNTY\",\"PHOENIX AZ\",\"PITTSBURGH PA\",\"SACRAMENTO CA\",\"SAN DIEGO CA\",\"SEATTLE WA\",\"SILICON VALLEY\",\"TUCSON AZ\",\"WASHINGTON DC\"],\"U_over_P\":{\"__ndarray__\":\"n/AcCPM/CEDTMndDWygBQKrrJ9sOEkBAR/xyLwLTIEByjhxngswCQD5sN2hzWfo/wP/3NpMSIkDkzJjGJx71P0nUWlzOqQZAYkbaoZDBDEC7i+QPZS70P0r8h8YzyuQ/o+RDL0+B5T/Xs1t7dab0P+01Gt+GLx1AbqeFLuveDUBTTxKOkoICQCo0N55z8uw/Mh4GshlSPkA=\",\"dtype\":\"float64\",\"order\":\"little\",\"shape\":[19]}},\"selected\":{\"id\":\"20811\"},\"selection_policy\":{\"id\":\"20834\"}},\"id\":\"20810\",\"type\":\"ColumnDataSource\"},{\"attributes\":{\"bottom\":{\"value\":0},\"fill_alpha\":{\"value\":0.6},\"fill_color\":{\"value\":\"#30a2da\"},\"hatch_alpha\":{\"value\":0.6},\"hatch_color\":{\"value\":\"#30a2da\"},\"hatch_scale\":{\"value\":12.0},\"hatch_weight\":{\"value\":1.0},\"line_alpha\":{\"value\":0.6},\"line_cap\":{\"value\":\"butt\"},\"line_color\":{\"value\":\"black\"},\"line_dash\":{\"value\":[]},\"line_dash_offset\":{\"value\":0},\"line_join\":{\"value\":\"bevel\"},\"line_width\":{\"value\":1},\"top\":{\"field\":\"U_over_P\"},\"width\":{\"value\":0.8},\"x\":{\"field\":\"City\"}},\"id\":\"20818\",\"type\":\"VBar\"},{\"attributes\":{\"below\":[{\"id\":\"20790\"}],\"center\":[{\"id\":\"20792\"},{\"id\":\"20796\"}],\"left\":[{\"id\":\"20793\"}],\"margin\":[5,5,5,5],\"min_border_bottom\":10,\"min_border_left\":10,\"min_border_right\":10,\"min_border_top\":10,\"renderers\":[{\"id\":\"20816\"}],\"sizing_mode\":\"fixed\",\"title\":{\"id\":\"20782\"},\"toolbar\":{\"id\":\"20803\"},\"width\":900,\"x_range\":{\"id\":\"20778\"},\"x_scale\":{\"id\":\"20786\"},\"y_range\":{\"id\":\"20779\"},\"y_scale\":{\"id\":\"20788\"}},\"id\":\"20781\",\"subtype\":\"Figure\",\"type\":\"Plot\"}],\"root_ids\":[\"20776\"]},\"title\":\"Bokeh Application\",\"version\":\"2.4.2\"}};\n",
       "    var render_items = [{\"docid\":\"39c48c4f-d47d-47a4-9913-1e354a0f04ca\",\"root_ids\":[\"20776\"],\"roots\":{\"20776\":\"9050a0b8-fe44-4995-9c34-fa3ae8cccce0\"}}];\n",
       "    root.Bokeh.embed.embed_items_notebook(docs_json, render_items);\n",
       "  }\n",
       "  if (root.Bokeh !== undefined && root.Bokeh.Panel !== undefined) {\n",
       "    embed_document(root);\n",
       "  } else {\n",
       "    var attempts = 0;\n",
       "    var timer = setInterval(function(root) {\n",
       "      if (root.Bokeh !== undefined && root.Bokeh.Panel !== undefined) {\n",
       "        clearInterval(timer);\n",
       "        embed_document(root);\n",
       "      } else if (document.readyState == \"complete\") {\n",
       "        attempts++;\n",
       "        if (attempts > 200) {\n",
       "          clearInterval(timer);\n",
       "          console.log(\"Bokeh: ERROR: Unable to run BokehJS code because BokehJS library is missing\");\n",
       "        }\n",
       "      }\n",
       "    }, 25, root)\n",
       "  }\n",
       "})(window);</script>"
      ],
      "text/plain": [
       ":Bars   [City]   (U/P)"
      ]
     },
     "execution_count": 324,
     "metadata": {
      "application/vnd.holoviews_exec.v0+json": {
       "id": "20776"
      }
     },
     "output_type": "execute_result"
    }
   ],
   "source": [
    "user_vs_popu['U/P'].hvplot(kind = 'bar',title = 'User Respective Population', stacked= True, ylabel = 'Percentage (%)', width = 900, height = 600, alpha=0.6).opts(xrotation = 90,yformatter='%.0f')"
   ]
  },
  {
   "cell_type": "markdown",
   "metadata": {},
   "source": [
    "> <b> Cab users only make up a minimal portion of the total population in each city </b>\n",
    "\n",
    "> <b> Only (6 out of 19 cities) New York, Chicago, Los Angeles, DC, Boston, and San Diego have more obvious amount of users comparing to other cities </b>\n",
    "\n",
    "> <b> Even though New York have more users, there are around 30% Boston and DC population use cab services </b>"
   ]
  },
  {
   "cell_type": "code",
   "execution_count": 325,
   "metadata": {},
   "outputs": [
    {
     "data": {},
     "metadata": {},
     "output_type": "display_data"
    },
    {
     "data": {
      "application/vnd.holoviews_exec.v0+json": "",
      "text/html": [
       "<div id='20893'>\n",
       "\n",
       "\n",
       "\n",
       "\n",
       "\n",
       "  <div class=\"bk-root\" id=\"eb4d54da-6784-4522-8441-486651812c1a\" data-root-id=\"20893\"></div>\n",
       "</div>\n",
       "<script type=\"application/javascript\">(function(root) {\n",
       "  function embed_document(root) {\n",
       "    var docs_json = {\"f4a38b74-5ddc-4b1c-84e6-e476726a4a70\":{\"defs\":[{\"extends\":null,\"module\":null,\"name\":\"ReactiveHTML1\",\"overrides\":[],\"properties\":[]},{\"extends\":null,\"module\":null,\"name\":\"FlexBox1\",\"overrides\":[],\"properties\":[{\"default\":\"flex-start\",\"kind\":null,\"name\":\"align_content\"},{\"default\":\"flex-start\",\"kind\":null,\"name\":\"align_items\"},{\"default\":\"row\",\"kind\":null,\"name\":\"flex_direction\"},{\"default\":\"wrap\",\"kind\":null,\"name\":\"flex_wrap\"},{\"default\":\"flex-start\",\"kind\":null,\"name\":\"justify_content\"}]},{\"extends\":null,\"module\":null,\"name\":\"GridStack1\",\"overrides\":[],\"properties\":[{\"default\":\"warn\",\"kind\":null,\"name\":\"mode\"},{\"default\":null,\"kind\":null,\"name\":\"ncols\"},{\"default\":null,\"kind\":null,\"name\":\"nrows\"},{\"default\":true,\"kind\":null,\"name\":\"allow_resize\"},{\"default\":true,\"kind\":null,\"name\":\"allow_drag\"},{\"default\":[],\"kind\":null,\"name\":\"state\"}]},{\"extends\":null,\"module\":null,\"name\":\"click1\",\"overrides\":[],\"properties\":[{\"default\":\"\",\"kind\":null,\"name\":\"terminal_output\"},{\"default\":\"\",\"kind\":null,\"name\":\"debug_name\"},{\"default\":0,\"kind\":null,\"name\":\"clears\"}]},{\"extends\":null,\"module\":null,\"name\":\"TemplateActions1\",\"overrides\":[],\"properties\":[{\"default\":0,\"kind\":null,\"name\":\"open_modal\"},{\"default\":0,\"kind\":null,\"name\":\"close_modal\"}]},{\"extends\":null,\"module\":null,\"name\":\"MaterialTemplateActions1\",\"overrides\":[],\"properties\":[{\"default\":0,\"kind\":null,\"name\":\"open_modal\"},{\"default\":0,\"kind\":null,\"name\":\"close_modal\"}]}],\"roots\":{\"references\":[{\"attributes\":{\"fill_alpha\":{\"value\":0.1},\"fill_color\":{\"value\":\"#30a2da\"},\"hatch_alpha\":{\"value\":0.1},\"hatch_color\":{\"value\":\"#30a2da\"},\"line_alpha\":{\"value\":0.1},\"top\":{\"field\":\"Income_left_parenthesis_USD_over_Month_right_parenthesis\"},\"width\":{\"value\":0.8},\"x\":{\"field\":\"City\"}},\"id\":\"20931\",\"type\":\"VBar\"},{\"attributes\":{\"margin\":[5,5,5,5],\"name\":\"HSpacer65301\",\"sizing_mode\":\"stretch_width\"},\"id\":\"20962\",\"type\":\"Spacer\"},{\"attributes\":{},\"id\":\"20914\",\"type\":\"SaveTool\"},{\"attributes\":{},\"id\":\"20949\",\"type\":\"UnionRenderers\"},{\"attributes\":{},\"id\":\"20928\",\"type\":\"Selection\"},{\"attributes\":{\"callback\":null,\"renderers\":[{\"id\":\"20933\"}],\"tags\":[\"hv_created\"],\"tooltips\":[[\"City\",\"@{City}\"],[\"Income (USD/Month)\",\"@{Income_left_parenthesis_USD_over_Month_right_parenthesis}\"]]},\"id\":\"20897\",\"type\":\"HoverTool\"},{\"attributes\":{},\"id\":\"20915\",\"type\":\"PanTool\"},{\"attributes\":{},\"id\":\"20941\",\"type\":\"AllLabels\"},{\"attributes\":{\"end\":15354.01449110983,\"reset_end\":15354.01449110983,\"reset_start\":0.0,\"tags\":[[[\"Income (USD/Month)\",\"Income (USD/Month)\",null]]]},\"id\":\"20896\",\"type\":\"Range1d\"},{\"attributes\":{},\"id\":\"20916\",\"type\":\"WheelZoomTool\"},{\"attributes\":{\"below\":[{\"id\":\"20907\"}],\"center\":[{\"id\":\"20909\"},{\"id\":\"20913\"}],\"height\":300,\"left\":[{\"id\":\"20910\"}],\"margin\":[5,5,5,5],\"min_border_bottom\":10,\"min_border_left\":10,\"min_border_right\":10,\"min_border_top\":10,\"renderers\":[{\"id\":\"20933\"}],\"sizing_mode\":\"fixed\",\"title\":{\"id\":\"20899\"},\"toolbar\":{\"id\":\"20920\"},\"width\":700,\"x_range\":{\"id\":\"20895\"},\"x_scale\":{\"id\":\"20903\"},\"y_range\":{\"id\":\"20896\"},\"y_scale\":{\"id\":\"20905\"}},\"id\":\"20898\",\"subtype\":\"Figure\",\"type\":\"Plot\"},{\"attributes\":{\"tools\":[{\"id\":\"20897\"},{\"id\":\"20914\"},{\"id\":\"20915\"},{\"id\":\"20916\"},{\"id\":\"20917\"},{\"id\":\"20918\"}]},\"id\":\"20920\",\"type\":\"Toolbar\"},{\"attributes\":{\"coordinates\":null,\"group\":null,\"text\":\"Income (USD/Month)\",\"text_color\":\"black\",\"text_font_size\":\"12pt\"},\"id\":\"20899\",\"type\":\"Title\"},{\"attributes\":{\"overlay\":{\"id\":\"20919\"}},\"id\":\"20917\",\"type\":\"BoxZoomTool\"},{\"attributes\":{},\"id\":\"20905\",\"type\":\"LinearScale\"},{\"attributes\":{\"data\":{\"City\":[\"ATLANTA GA\",\"AUSTIN TX\",\"BOSTON MA\",\"CHICAGO IL\",\"DALLAS TX\",\"DENVER CO\",\"LOS ANGELES CA\",\"MIAMI FL\",\"NASHVILLE TN\",\"NEW YORK NY\",\"ORANGE COUNTY\",\"PHOENIX AZ\",\"PITTSBURGH PA\",\"SACRAMENTO CA\",\"SAN DIEGO CA\",\"SEATTLE WA\",\"SILICON VALLEY\",\"TUCSON AZ\",\"WASHINGTON DC\"],\"Income_left_parenthesis_USD_over_Month_right_parenthesis\":{\"__ndarray__\":\"gQiBU5MqzUBzc3NzP7TMQDYhwxpIjM1ARbo/8Nt+zUDve4MMQf/MQHbtZNzTP81AP1dOdUZszUApk9OPcUTNQHO78g0ux8xAHKLBBWKozUDVXGLleKrNQM6YM+YEUs1AwIUSgSolzEAp/q7SHNLNQAiuM/vvZM1A16uox1/8zEAlGpYbRsjNQE6cz+Z5L81AJUeND7fDzEA=\",\"dtype\":\"float64\",\"order\":\"little\",\"shape\":[19]}},\"selected\":{\"id\":\"20928\"},\"selection_policy\":{\"id\":\"20949\"}},\"id\":\"20927\",\"type\":\"ColumnDataSource\"},{\"attributes\":{\"axis\":{\"id\":\"20910\"},\"coordinates\":null,\"dimension\":1,\"grid_line_color\":null,\"group\":null,\"ticker\":null},\"id\":\"20913\",\"type\":\"Grid\"},{\"attributes\":{},\"id\":\"20918\",\"type\":\"ResetTool\"},{\"attributes\":{\"children\":[{\"id\":\"20894\"},{\"id\":\"20898\"},{\"id\":\"20962\"}],\"margin\":[0,0,0,0],\"name\":\"Row65296\",\"tags\":[\"embedded\"]},\"id\":\"20893\",\"type\":\"Row\"},{\"attributes\":{\"bottom_units\":\"screen\",\"coordinates\":null,\"fill_alpha\":0.5,\"fill_color\":\"lightgrey\",\"group\":null,\"left_units\":\"screen\",\"level\":\"overlay\",\"line_alpha\":1.0,\"line_color\":\"black\",\"line_dash\":[4,4],\"line_width\":2,\"right_units\":\"screen\",\"syncable\":false,\"top_units\":\"screen\"},\"id\":\"20919\",\"type\":\"BoxAnnotation\"},{\"attributes\":{},\"id\":\"20937\",\"type\":\"CategoricalTickFormatter\"},{\"attributes\":{},\"id\":\"20903\",\"type\":\"CategoricalScale\"},{\"attributes\":{\"axis_label\":\"City\",\"coordinates\":null,\"formatter\":{\"id\":\"20937\"},\"group\":null,\"major_label_orientation\":1.5707963267948966,\"major_label_policy\":{\"id\":\"20938\"},\"ticker\":{\"id\":\"20908\"}},\"id\":\"20907\",\"type\":\"CategoricalAxis\"},{\"attributes\":{\"fill_alpha\":{\"value\":0.2},\"fill_color\":{\"value\":\"#30a2da\"},\"hatch_alpha\":{\"value\":0.2},\"hatch_color\":{\"value\":\"#30a2da\"},\"line_alpha\":{\"value\":0.2},\"top\":{\"field\":\"Income_left_parenthesis_USD_over_Month_right_parenthesis\"},\"width\":{\"value\":0.8},\"x\":{\"field\":\"City\"}},\"id\":\"20932\",\"type\":\"VBar\"},{\"attributes\":{},\"id\":\"20940\",\"type\":\"BasicTickFormatter\"},{\"attributes\":{},\"id\":\"20908\",\"type\":\"CategoricalTicker\"},{\"attributes\":{\"bottom\":{\"value\":0},\"fill_alpha\":{\"value\":1.0},\"fill_color\":{\"value\":\"#30a2da\"},\"hatch_alpha\":{\"value\":1.0},\"hatch_color\":{\"value\":\"#30a2da\"},\"hatch_scale\":{\"value\":12.0},\"hatch_weight\":{\"value\":1.0},\"line_alpha\":{\"value\":1.0},\"line_cap\":{\"value\":\"butt\"},\"line_color\":{\"value\":\"black\"},\"line_dash\":{\"value\":[]},\"line_dash_offset\":{\"value\":0},\"line_join\":{\"value\":\"bevel\"},\"line_width\":{\"value\":1},\"top\":{\"field\":\"Income_left_parenthesis_USD_over_Month_right_parenthesis\"},\"width\":{\"value\":0.8},\"x\":{\"field\":\"City\"}},\"id\":\"20935\",\"type\":\"VBar\"},{\"attributes\":{\"axis\":{\"id\":\"20907\"},\"coordinates\":null,\"grid_line_color\":null,\"group\":null,\"ticker\":null},\"id\":\"20909\",\"type\":\"Grid\"},{\"attributes\":{\"source\":{\"id\":\"20927\"}},\"id\":\"20934\",\"type\":\"CDSView\"},{\"attributes\":{\"margin\":[5,5,5,5],\"name\":\"HSpacer65300\",\"sizing_mode\":\"stretch_width\"},\"id\":\"20894\",\"type\":\"Spacer\"},{\"attributes\":{},\"id\":\"20938\",\"type\":\"AllLabels\"},{\"attributes\":{},\"id\":\"20911\",\"type\":\"BasicTicker\"},{\"attributes\":{\"factors\":[\"ATLANTA GA\",\"AUSTIN TX\",\"BOSTON MA\",\"CHICAGO IL\",\"DALLAS TX\",\"DENVER CO\",\"LOS ANGELES CA\",\"MIAMI FL\",\"NASHVILLE TN\",\"NEW YORK NY\",\"ORANGE COUNTY\",\"PHOENIX AZ\",\"PITTSBURGH PA\",\"SACRAMENTO CA\",\"SAN DIEGO CA\",\"SEATTLE WA\",\"SILICON VALLEY\",\"TUCSON AZ\",\"WASHINGTON DC\"],\"tags\":[[[\"City\",\"City\",null]]]},\"id\":\"20895\",\"type\":\"FactorRange\"},{\"attributes\":{\"axis_label\":\"\",\"coordinates\":null,\"formatter\":{\"id\":\"20940\"},\"group\":null,\"major_label_policy\":{\"id\":\"20941\"},\"ticker\":{\"id\":\"20911\"}},\"id\":\"20910\",\"type\":\"LinearAxis\"},{\"attributes\":{\"fill_color\":{\"value\":\"#30a2da\"},\"hatch_color\":{\"value\":\"#30a2da\"},\"top\":{\"field\":\"Income_left_parenthesis_USD_over_Month_right_parenthesis\"},\"width\":{\"value\":0.8},\"x\":{\"field\":\"City\"}},\"id\":\"20930\",\"type\":\"VBar\"},{\"attributes\":{\"coordinates\":null,\"data_source\":{\"id\":\"20927\"},\"glyph\":{\"id\":\"20930\"},\"group\":null,\"hover_glyph\":null,\"muted_glyph\":{\"id\":\"20932\"},\"nonselection_glyph\":{\"id\":\"20931\"},\"selection_glyph\":{\"id\":\"20935\"},\"view\":{\"id\":\"20934\"}},\"id\":\"20933\",\"type\":\"GlyphRenderer\"}],\"root_ids\":[\"20893\"]},\"title\":\"Bokeh Application\",\"version\":\"2.4.2\"}};\n",
       "    var render_items = [{\"docid\":\"f4a38b74-5ddc-4b1c-84e6-e476726a4a70\",\"root_ids\":[\"20893\"],\"roots\":{\"20893\":\"eb4d54da-6784-4522-8441-486651812c1a\"}}];\n",
       "    root.Bokeh.embed.embed_items_notebook(docs_json, render_items);\n",
       "  }\n",
       "  if (root.Bokeh !== undefined && root.Bokeh.Panel !== undefined) {\n",
       "    embed_document(root);\n",
       "  } else {\n",
       "    var attempts = 0;\n",
       "    var timer = setInterval(function(root) {\n",
       "      if (root.Bokeh !== undefined && root.Bokeh.Panel !== undefined) {\n",
       "        clearInterval(timer);\n",
       "        embed_document(root);\n",
       "      } else if (document.readyState == \"complete\") {\n",
       "        attempts++;\n",
       "        if (attempts > 200) {\n",
       "          clearInterval(timer);\n",
       "          console.log(\"Bokeh: ERROR: Unable to run BokehJS code because BokehJS library is missing\");\n",
       "        }\n",
       "      }\n",
       "    }, 25, root)\n",
       "  }\n",
       "})(window);</script>"
      ],
      "text/plain": [
       ":Bars   [City]   (Income (USD/Month))"
      ]
     },
     "execution_count": 325,
     "metadata": {
      "application/vnd.holoviews_exec.v0+json": {
       "id": "20893"
      }
     },
     "output_type": "execute_result"
    }
   ],
   "source": [
    "# Create a new dataframe group all data by city and find average user income\n",
    "avg_income = df.groupby(['City']).mean()\n",
    "avg_income['Income (USD/Month)'].hvplot.bar().opts(xrotation = 90)"
   ]
  },
  {
   "cell_type": "markdown",
   "metadata": {},
   "source": [
    "> <b> Regardless of demands, cab users' average income level are around 14000 in the list of cities </b>"
   ]
  },
  {
   "cell_type": "markdown",
   "metadata": {},
   "source": [
    "### Hypotheses: Dates"
   ]
  },
  {
   "cell_type": "markdown",
   "metadata": {},
   "source": [
    "> How were cab demands influenced over the years for both companies overall and in each city?\n",
    "\n",
    "> Are there certain time of the year and month affects cab demands? (Seasonal effects year and month)\n",
    "\n",
    "> Is cab demand affected by day of the week?\n",
    "\n",
    "> How was profit margin affected by time?"
   ]
  },
  {
   "cell_type": "code",
   "execution_count": 326,
   "metadata": {},
   "outputs": [],
   "source": [
    "# Create a new dataframe to display cab demands over the years for both companies\n",
    "yr_demand = df.groupby(['Year','Company'])\n",
    "yr_demand = yr_demand['Transaction ID'].size()\n",
    "yr_demand_df = pd.DataFrame(yr_demand)\n",
    "\n",
    "# Create a new dataframe to display cab demands over the years in each city for both companies\n",
    "yr_demand_city = df.groupby(['Year','City','Company'])\n",
    "yr_demand_city = yr_demand_city['Transaction ID'].size()\n",
    "yr_demand_city_df = pd.DataFrame(yr_demand_city)"
   ]
  },
  {
   "cell_type": "code",
   "execution_count": 327,
   "metadata": {},
   "outputs": [
    {
     "data": {
      "image/png": "[encoded data removed]",
      "text/plain": [
       "<Figure size 720x504 with 1 Axes>"
      ]
     },
     "metadata": {
      "needs_background": "light"
     },
     "output_type": "display_data"
    }
   ],
   "source": [
    "# Yearly demand by company\n",
    "plt.figure(figsize = (10, 7))\n",
    "sns.lineplot(x='Year', y='Transaction ID', hue=\"Company\", data=yr_demand_df, marker='o', palette=['r', 'y'], linewidth=2.5)\n",
    "plt.xlabel(\"Year\", size=14)\n",
    "plt.ylabel(\"No. of Cab Rides\", size=14)\n",
    "plt.title(\"Cab Rides Demand per Year\", size = 16)\n",
    "plt.show()"
   ]
  },
  {
   "cell_type": "markdown",
   "metadata": {},
   "source": [
    "> <b> The overall demand for cab service increased for both companies from 2016 to 2017 followed by a down trend towards 2018 </b>\n",
    "\n",
    "> <b> The demand for `Yellow` cab sservice increased higher than Pink cab; also it decreased faster than Pink cab </b>\n",
    "\n",
    "> <b> `Pink` cab had a steady increase in demand from 2016 to 2017 and kept a stable demand record to 2018 </b>"
   ]
  },
  {
   "cell_type": "code",
   "execution_count": 328,
   "metadata": {},
   "outputs": [
    {
     "data": {},
     "metadata": {},
     "output_type": "display_data"
    },
    {
     "data": {
      "application/vnd.holoviews_exec.v0+json": "",
      "text/html": [
       "<div id='21014'>\n",
       "\n",
       "\n",
       "\n",
       "\n",
       "\n",
       "  <div class=\"bk-root\" id=\"f0b261a2-19d9-4abd-a42b-2e989a8f8621\" data-root-id=\"21014\"></div>\n",
       "</div>\n",
       "<script type=\"application/javascript\">(function(root) {\n",
       "  function embed_document(root) {\n",
       "    var docs_json = {\"b0e28955-1c18-4f15-ba4e-67dc9c81239d\":{\"defs\":[{\"extends\":null,\"module\":null,\"name\":\"ReactiveHTML1\",\"overrides\":[],\"properties\":[]},{\"extends\":null,\"module\":null,\"name\":\"FlexBox1\",\"overrides\":[],\"properties\":[{\"default\":\"flex-start\",\"kind\":null,\"name\":\"align_content\"},{\"default\":\"flex-start\",\"kind\":null,\"name\":\"align_items\"},{\"default\":\"row\",\"kind\":null,\"name\":\"flex_direction\"},{\"default\":\"wrap\",\"kind\":null,\"name\":\"flex_wrap\"},{\"default\":\"flex-start\",\"kind\":null,\"name\":\"justify_content\"}]},{\"extends\":null,\"module\":null,\"name\":\"GridStack1\",\"overrides\":[],\"properties\":[{\"default\":\"warn\",\"kind\":null,\"name\":\"mode\"},{\"default\":null,\"kind\":null,\"name\":\"ncols\"},{\"default\":null,\"kind\":null,\"name\":\"nrows\"},{\"default\":true,\"kind\":null,\"name\":\"allow_resize\"},{\"default\":true,\"kind\":null,\"name\":\"allow_drag\"},{\"default\":[],\"kind\":null,\"name\":\"state\"}]},{\"extends\":null,\"module\":null,\"name\":\"click1\",\"overrides\":[],\"properties\":[{\"default\":\"\",\"kind\":null,\"name\":\"terminal_output\"},{\"default\":\"\",\"kind\":null,\"name\":\"debug_name\"},{\"default\":0,\"kind\":null,\"name\":\"clears\"}]},{\"extends\":null,\"module\":null,\"name\":\"TemplateActions1\",\"overrides\":[],\"properties\":[{\"default\":0,\"kind\":null,\"name\":\"open_modal\"},{\"default\":0,\"kind\":null,\"name\":\"close_modal\"}]},{\"extends\":null,\"module\":null,\"name\":\"MaterialTemplateActions1\",\"overrides\":[],\"properties\":[{\"default\":0,\"kind\":null,\"name\":\"open_modal\"},{\"default\":0,\"kind\":null,\"name\":\"close_modal\"}]}],\"roots\":{\"references\":[{\"attributes\":{\"axis\":{\"id\":\"21033\"},\"coordinates\":null,\"grid_line_color\":null,\"group\":null,\"ticker\":null},\"id\":\"21036\",\"type\":\"Grid\"},{\"attributes\":{\"axis\":{\"id\":\"21037\"},\"coordinates\":null,\"dimension\":1,\"grid_line_color\":null,\"group\":null,\"ticker\":null},\"id\":\"21040\",\"type\":\"Grid\"},{\"attributes\":{\"line_alpha\":0.2,\"line_color\":\"pink\",\"line_width\":3,\"x\":{\"field\":\"Year\"},\"y\":{\"field\":\"Transaction ID\"}},\"id\":\"21067\",\"type\":\"Line\"},{\"attributes\":{},\"id\":\"21034\",\"type\":\"BasicTicker\"},{\"attributes\":{\"margin\":[20,20,20,20],\"min_width\":250,\"options\":[\"ATLANTA GA\",\"AUSTIN TX\",\"BOSTON MA\",\"CHICAGO IL\",\"DALLAS TX\",\"DENVER CO\",\"LOS ANGELES CA\",\"MIAMI FL\",\"NASHVILLE TN\",\"NEW YORK NY\",\"ORANGE COUNTY\",\"PHOENIX AZ\",\"PITTSBURGH PA\",\"SACRAMENTO CA\",\"SAN DIEGO CA\",\"SEATTLE WA\",\"SILICON VALLEY\",\"TUCSON AZ\",\"WASHINGTON DC\"],\"title\":\"City\",\"value\":\"ATLANTA GA\",\"width\":250},\"id\":\"21225\",\"type\":\"panel.models.widgets.CustomSelect\"},{\"attributes\":{},\"id\":\"21100\",\"type\":\"UnionRenderers\"},{\"attributes\":{},\"id\":\"21077\",\"type\":\"UnionRenderers\"},{\"attributes\":{},\"id\":\"21038\",\"type\":\"BasicTicker\"},{\"attributes\":{\"margin\":[5,5,5,5],\"name\":\"VSpacer65403\",\"sizing_mode\":\"stretch_height\"},\"id\":\"21226\",\"type\":\"Spacer\"},{\"attributes\":{\"line_color\":\"pink\",\"line_width\":3,\"x\":{\"field\":\"Year\"},\"y\":{\"field\":\"Transaction ID\"}},\"id\":\"21065\",\"type\":\"Line\"},{\"attributes\":{\"children\":[{\"id\":\"21015\"},{\"id\":\"21024\"},{\"id\":\"21221\"},{\"id\":\"21222\"}],\"margin\":[0,0,0,0],\"name\":\"Row65396\"},\"id\":\"21014\",\"type\":\"Row\"},{\"attributes\":{\"children\":[{\"id\":\"21225\"}],\"css_classes\":[\"panel-widget-box\"],\"margin\":[5,5,5,5],\"name\":\"WidgetBox65397\"},\"id\":\"21224\",\"type\":\"Column\"},{\"attributes\":{},\"id\":\"21029\",\"type\":\"LinearScale\"},{\"attributes\":{\"line_color\":\"yellow\",\"line_width\":3,\"x\":{\"field\":\"Year\"},\"y\":{\"field\":\"Transaction ID\"}},\"id\":\"21104\",\"type\":\"Line\"},{\"attributes\":{},\"id\":\"21057\",\"type\":\"BasicTickFormatter\"},{\"attributes\":{\"margin\":[5,5,5,5],\"name\":\"HSpacer65405\",\"sizing_mode\":\"stretch_width\"},\"id\":\"21015\",\"type\":\"Spacer\"},{\"attributes\":{\"source\":{\"id\":\"21062\"}},\"id\":\"21069\",\"type\":\"CDSView\"},{\"attributes\":{},\"id\":\"21041\",\"type\":\"SaveTool\"},{\"attributes\":{\"coordinates\":null,\"data_source\":{\"id\":\"21083\"},\"glyph\":{\"id\":\"21086\"},\"group\":null,\"hover_glyph\":null,\"muted_glyph\":{\"id\":\"21088\"},\"nonselection_glyph\":{\"id\":\"21087\"},\"selection_glyph\":{\"id\":\"21104\"},\"view\":{\"id\":\"21090\"}},\"id\":\"21089\",\"type\":\"GlyphRenderer\"},{\"attributes\":{},\"id\":\"21042\",\"type\":\"PanTool\"},{\"attributes\":{\"label\":{\"value\":\"Pink Cab\"},\"renderers\":[{\"id\":\"21068\"}]},\"id\":\"21081\",\"type\":\"LegendItem\"},{\"attributes\":{},\"id\":\"21043\",\"type\":\"WheelZoomTool\"},{\"attributes\":{\"tools\":[{\"id\":\"21020\"},{\"id\":\"21041\"},{\"id\":\"21042\"},{\"id\":\"21043\"},{\"id\":\"21044\"},{\"id\":\"21045\"}]},\"id\":\"21047\",\"type\":\"Toolbar\"},{\"attributes\":{\"end\":2018.0,\"reset_end\":2018.0,\"reset_start\":2016.0,\"start\":2016.0,\"tags\":[[[\"Year\",\"Year\",null]]]},\"id\":\"21018\",\"type\":\"Range1d\"},{\"attributes\":{\"axis_label\":\"Number of Rides\",\"coordinates\":null,\"formatter\":{\"id\":\"21060\"},\"group\":null,\"major_label_policy\":{\"id\":\"21061\"},\"ticker\":{\"id\":\"21038\"}},\"id\":\"21037\",\"type\":\"LinearAxis\"},{\"attributes\":{\"axis_label\":\"Year\",\"coordinates\":null,\"formatter\":{\"id\":\"21057\"},\"group\":null,\"major_label_policy\":{\"id\":\"21058\"},\"ticker\":{\"id\":\"21034\"}},\"id\":\"21033\",\"type\":\"LinearAxis\"},{\"attributes\":{\"data\":{\"Company\":[\"Pink Cab\",\"Pink Cab\",\"Pink Cab\"],\"Transaction ID\":[524,632,606],\"Transaction_ID\":[524,632,606],\"Year\":[2016,2017,2018]},\"selected\":{\"id\":\"21063\"},\"selection_policy\":{\"id\":\"21077\"}},\"id\":\"21062\",\"type\":\"ColumnDataSource\"},{\"attributes\":{\"children\":[{\"id\":\"21223\"},{\"id\":\"21224\"},{\"id\":\"21226\"}],\"margin\":[0,0,0,0],\"name\":\"Column65404\"},\"id\":\"21222\",\"type\":\"Column\"},{\"attributes\":{\"overlay\":{\"id\":\"21046\"}},\"id\":\"21044\",\"type\":\"BoxZoomTool\"},{\"attributes\":{\"line_color\":\"pink\",\"line_width\":3,\"x\":{\"field\":\"Year\"},\"y\":{\"field\":\"Transaction ID\"}},\"id\":\"21082\",\"type\":\"Line\"},{\"attributes\":{\"line_alpha\":0.2,\"line_color\":\"yellow\",\"line_width\":3,\"x\":{\"field\":\"Year\"},\"y\":{\"field\":\"Transaction ID\"}},\"id\":\"21088\",\"type\":\"Line\"},{\"attributes\":{},\"id\":\"21045\",\"type\":\"ResetTool\"},{\"attributes\":{},\"id\":\"21060\",\"type\":\"BasicTickFormatter\"},{\"attributes\":{\"line_alpha\":0.1,\"line_color\":\"yellow\",\"line_width\":3,\"x\":{\"field\":\"Year\"},\"y\":{\"field\":\"Transaction ID\"}},\"id\":\"21087\",\"type\":\"Line\"},{\"attributes\":{\"callback\":null,\"renderers\":[{\"id\":\"21068\"},{\"id\":\"21089\"}],\"tags\":[\"hv_created\"],\"tooltips\":[[\"Company\",\"@{Company}\"],[\"Year\",\"@{Year}\"],[\"Transaction ID\",\"@{Transaction_ID}\"]]},\"id\":\"21020\",\"type\":\"HoverTool\"},{\"attributes\":{\"bottom_units\":\"screen\",\"coordinates\":null,\"fill_alpha\":0.5,\"fill_color\":\"lightgrey\",\"group\":null,\"left_units\":\"screen\",\"level\":\"overlay\",\"line_alpha\":1.0,\"line_color\":\"black\",\"line_dash\":[4,4],\"line_width\":2,\"right_units\":\"screen\",\"syncable\":false,\"top_units\":\"screen\"},\"id\":\"21046\",\"type\":\"BoxAnnotation\"},{\"attributes\":{\"client_comm_id\":\"67a871d0cf1643b9926c6dae661b4db4\",\"comm_id\":\"6e465217f5ee4882895a561ebd096a4c\",\"plot_id\":\"21014\"},\"id\":\"21263\",\"type\":\"panel.models.comm_manager.CommManager\"},{\"attributes\":{\"margin\":[5,5,5,5],\"name\":\"HSpacer65406\",\"sizing_mode\":\"stretch_width\"},\"id\":\"21221\",\"type\":\"Spacer\"},{\"attributes\":{},\"id\":\"21063\",\"type\":\"Selection\"},{\"attributes\":{},\"id\":\"21084\",\"type\":\"Selection\"},{\"attributes\":{\"data\":{\"Company\":[\"Yellow Cab\",\"Yellow Cab\",\"Yellow Cab\"],\"Transaction ID\":[1713,2079,2003],\"Transaction_ID\":[1713,2079,2003],\"Year\":[2016,2017,2018]},\"selected\":{\"id\":\"21084\"},\"selection_policy\":{\"id\":\"21100\"}},\"id\":\"21083\",\"type\":\"ColumnDataSource\"},{\"attributes\":{\"below\":[{\"id\":\"21033\"}],\"center\":[{\"id\":\"21036\"},{\"id\":\"21040\"}],\"height\":300,\"left\":[{\"id\":\"21037\"}],\"margin\":[5,5,5,5],\"min_border_bottom\":10,\"min_border_left\":10,\"min_border_right\":10,\"min_border_top\":10,\"renderers\":[{\"id\":\"21068\"},{\"id\":\"21089\"}],\"right\":[{\"id\":\"21080\"}],\"sizing_mode\":\"fixed\",\"title\":{\"id\":\"21025\"},\"toolbar\":{\"id\":\"21047\"},\"width\":700,\"x_range\":{\"id\":\"21018\"},\"x_scale\":{\"id\":\"21029\"},\"y_range\":{\"id\":\"21019\"},\"y_scale\":{\"id\":\"21031\"}},\"id\":\"21024\",\"subtype\":\"Figure\",\"type\":\"Plot\"},{\"attributes\":{},\"id\":\"21061\",\"type\":\"AllLabels\"},{\"attributes\":{\"label\":{\"value\":\"Yellow Cab\"},\"renderers\":[{\"id\":\"21089\"}]},\"id\":\"21103\",\"type\":\"LegendItem\"},{\"attributes\":{\"end\":2234.5,\"reset_end\":2234.5,\"reset_start\":368.5,\"start\":368.5,\"tags\":[[[\"Transaction ID\",\"Transaction ID\",null]]]},\"id\":\"21019\",\"type\":\"Range1d\"},{\"attributes\":{\"click_policy\":\"mute\",\"coordinates\":null,\"group\":null,\"items\":[{\"id\":\"21081\"},{\"id\":\"21103\"}],\"location\":[0,0],\"title\":\"Company\"},\"id\":\"21080\",\"type\":\"Legend\"},{\"attributes\":{},\"id\":\"21058\",\"type\":\"AllLabels\"},{\"attributes\":{\"margin\":[5,5,5,5],\"name\":\"VSpacer65402\",\"sizing_mode\":\"stretch_height\"},\"id\":\"21223\",\"type\":\"Spacer\"},{\"attributes\":{\"source\":{\"id\":\"21083\"}},\"id\":\"21090\",\"type\":\"CDSView\"},{\"attributes\":{},\"id\":\"21031\",\"type\":\"LinearScale\"},{\"attributes\":{\"line_alpha\":0.1,\"line_color\":\"pink\",\"line_width\":3,\"x\":{\"field\":\"Year\"},\"y\":{\"field\":\"Transaction ID\"}},\"id\":\"21066\",\"type\":\"Line\"},{\"attributes\":{\"line_color\":\"yellow\",\"line_width\":3,\"x\":{\"field\":\"Year\"},\"y\":{\"field\":\"Transaction ID\"}},\"id\":\"21086\",\"type\":\"Line\"},{\"attributes\":{\"coordinates\":null,\"group\":null,\"text\":\"Cab Rides Demand per Year\",\"text_color\":\"black\",\"text_font_size\":\"12pt\"},\"id\":\"21025\",\"type\":\"Title\"},{\"attributes\":{\"coordinates\":null,\"data_source\":{\"id\":\"21062\"},\"glyph\":{\"id\":\"21065\"},\"group\":null,\"hover_glyph\":null,\"muted_glyph\":{\"id\":\"21067\"},\"nonselection_glyph\":{\"id\":\"21066\"},\"selection_glyph\":{\"id\":\"21082\"},\"view\":{\"id\":\"21069\"}},\"id\":\"21068\",\"type\":\"GlyphRenderer\"}],\"root_ids\":[\"21014\",\"21263\"]},\"title\":\"Bokeh Application\",\"version\":\"2.4.2\"}};\n",
       "    var render_items = [{\"docid\":\"b0e28955-1c18-4f15-ba4e-67dc9c81239d\",\"root_ids\":[\"21014\"],\"roots\":{\"21014\":\"f0b261a2-19d9-4abd-a42b-2e989a8f8621\"}}];\n",
       "    root.Bokeh.embed.embed_items_notebook(docs_json, render_items);\n",
       "  }\n",
       "  if (root.Bokeh !== undefined && root.Bokeh.Panel !== undefined) {\n",
       "    embed_document(root);\n",
       "  } else {\n",
       "    var attempts = 0;\n",
       "    var timer = setInterval(function(root) {\n",
       "      if (root.Bokeh !== undefined && root.Bokeh.Panel !== undefined) {\n",
       "        clearInterval(timer);\n",
       "        embed_document(root);\n",
       "      } else if (document.readyState == \"complete\") {\n",
       "        attempts++;\n",
       "        if (attempts > 200) {\n",
       "          clearInterval(timer);\n",
       "          console.log(\"Bokeh: ERROR: Unable to run BokehJS code because BokehJS library is missing\");\n",
       "        }\n",
       "      }\n",
       "    }, 25, root)\n",
       "  }\n",
       "})(window);</script>"
      ],
      "text/plain": [
       ":DynamicMap   [City]\n",
       "   :NdOverlay   [Company]\n",
       "      :Curve   [Year]   (Transaction ID)"
      ]
     },
     "execution_count": 328,
     "metadata": {
      "application/vnd.holoviews_exec.v0+json": {
       "id": "21014"
      }
     },
     "output_type": "execute_result"
    }
   ],
   "source": [
    "# Yearly demand by company in each city\n",
    "yr_demand_city_df.hvplot(\n",
    "    title='Cab Rides Demand per Year',\n",
    "    x='Year',\n",
    "    y = 'Transaction ID',\n",
    "    by = 'Company',\n",
    "    xlabel='Year',\n",
    "    ylabel='Number of Rides',\n",
    "    groupby='City',\n",
    "    line_color = ['pink','yellow'],\n",
    "    line_width = 3\n",
    ")"
   ]
  },
  {
   "cell_type": "markdown",
   "metadata": {},
   "source": [
    "> <b> Overall, `Yellow` cab has higher demand and the demand for its service increased faster than Pink cab </b>\n",
    "\n",
    "> <b> Demand for `Yellow` cab increased high in: Atlanta, Austin, Denver, Los Angeles, Miami, Orange County, Phoenix, Silicon Valley, Tucson; Demand decrease slow in: Denver, Chicago, DC</b>\n",
    "\n",
    "> <b> Demand for `Pink` cab increased high in: Austin, Denver, Los Angeles, Orange County, Phoenix, Silicon Valley, Tucson; Stable demand in: Atlanta, Boston, Chicago, Dallas, Miami, New York, Seattle, DC</b>\n",
    "\n",
    "> <b> Demand for `Pink` cab higher than Yellow cab: Nashville, Pittsburgh, Sacramento, San Diego </b>"
   ]
  },
  {
   "cell_type": "code",
   "execution_count": 329,
   "metadata": {},
   "outputs": [],
   "source": [
    "# Create a new dataframe to display cab demands over the Months for both companies\n",
    "mon_demand = df.groupby(['Month','Company'])\n",
    "mon_demand = mon_demand['Transaction ID'].size()\n",
    "mon_demand_df = pd.DataFrame(mon_demand)\n",
    "\n",
    "# Create a new dataframe to display cab demands over the years in each city for both companies\n",
    "mon_demand_city = df.groupby(['Month','City','Company'])\n",
    "mon_demand_city = mon_demand_city['Transaction ID'].size()\n",
    "mon_demand_city_df = pd.DataFrame(mon_demand_city)"
   ]
  },
  {
   "cell_type": "code",
   "execution_count": 330,
   "metadata": {},
   "outputs": [
    {
     "data": {
      "image/png": "[encoded data removed]",
      "text/plain": [
       "<Figure size 720x504 with 1 Axes>"
      ]
     },
     "metadata": {
      "needs_background": "light"
     },
     "output_type": "display_data"
    }
   ],
   "source": [
    "# Monthly demand trend by company\n",
    "plt.figure(figsize = (10, 7))\n",
    "sns.lineplot(x='Month', y='Transaction ID', hue=\"Company\", data=mon_demand_df, marker='o', palette=['r', 'y'], linewidth=2.5)\n",
    "plt.xlabel(\"Month of a Year\", size=14)\n",
    "plt.ylabel(\"No. of Cab Rides\", size=14)\n",
    "plt.title(\"Cab Rides Demand per Month\", size = 16)\n",
    "plt.show()"
   ]
  },
  {
   "cell_type": "markdown",
   "metadata": {},
   "source": [
    "> <b> The overall demand trend for cab service increases faster through summer to winter and drops around spring </b>\n",
    "\n",
    "> <b> The demand trend for `Yellow` cab service increased higher than Pink cab; also it decreased faster than Pink cab in spring</b>\n",
    "\n",
    "> <b> `Pink` cab had a steady increase in demand from summer to winter and drops slightly during spring </b>"
   ]
  },
  {
   "cell_type": "code",
   "execution_count": 331,
   "metadata": {},
   "outputs": [
    {
     "data": {},
     "metadata": {},
     "output_type": "display_data"
    },
    {
     "data": {
      "application/vnd.holoviews_exec.v0+json": "",
      "text/html": [
       "<div id='21324'>\n",
       "\n",
       "\n",
       "\n",
       "\n",
       "\n",
       "  <div class=\"bk-root\" id=\"864b70ed-0ee1-440f-88aa-84a99dbc5b4c\" data-root-id=\"21324\"></div>\n",
       "</div>\n",
       "<script type=\"application/javascript\">(function(root) {\n",
       "  function embed_document(root) {\n",
       "    var docs_json = {\"fda88c4c-7d09-457b-94a1-c8270552a32f\":{\"defs\":[{\"extends\":null,\"module\":null,\"name\":\"ReactiveHTML1\",\"overrides\":[],\"properties\":[]},{\"extends\":null,\"module\":null,\"name\":\"FlexBox1\",\"overrides\":[],\"properties\":[{\"default\":\"flex-start\",\"kind\":null,\"name\":\"align_content\"},{\"default\":\"flex-start\",\"kind\":null,\"name\":\"align_items\"},{\"default\":\"row\",\"kind\":null,\"name\":\"flex_direction\"},{\"default\":\"wrap\",\"kind\":null,\"name\":\"flex_wrap\"},{\"default\":\"flex-start\",\"kind\":null,\"name\":\"justify_content\"}]},{\"extends\":null,\"module\":null,\"name\":\"GridStack1\",\"overrides\":[],\"properties\":[{\"default\":\"warn\",\"kind\":null,\"name\":\"mode\"},{\"default\":null,\"kind\":null,\"name\":\"ncols\"},{\"default\":null,\"kind\":null,\"name\":\"nrows\"},{\"default\":true,\"kind\":null,\"name\":\"allow_resize\"},{\"default\":true,\"kind\":null,\"name\":\"allow_drag\"},{\"default\":[],\"kind\":null,\"name\":\"state\"}]},{\"extends\":null,\"module\":null,\"name\":\"click1\",\"overrides\":[],\"properties\":[{\"default\":\"\",\"kind\":null,\"name\":\"terminal_output\"},{\"default\":\"\",\"kind\":null,\"name\":\"debug_name\"},{\"default\":0,\"kind\":null,\"name\":\"clears\"}]},{\"extends\":null,\"module\":null,\"name\":\"TemplateActions1\",\"overrides\":[],\"properties\":[{\"default\":0,\"kind\":null,\"name\":\"open_modal\"},{\"default\":0,\"kind\":null,\"name\":\"close_modal\"}]},{\"extends\":null,\"module\":null,\"name\":\"MaterialTemplateActions1\",\"overrides\":[],\"properties\":[{\"default\":0,\"kind\":null,\"name\":\"open_modal\"},{\"default\":0,\"kind\":null,\"name\":\"close_modal\"}]}],\"roots\":{\"references\":[{\"attributes\":{\"line_alpha\":0.2,\"line_color\":\"pink\",\"line_width\":3,\"x\":{\"field\":\"Month\"},\"y\":{\"field\":\"Transaction ID\"}},\"id\":\"21377\",\"type\":\"Line\"},{\"attributes\":{\"margin\":[5,5,5,5],\"name\":\"VSpacer66054\",\"sizing_mode\":\"stretch_height\"},\"id\":\"21533\",\"type\":\"Spacer\"},{\"attributes\":{\"margin\":[5,5,5,5],\"name\":\"VSpacer66055\",\"sizing_mode\":\"stretch_height\"},\"id\":\"21536\",\"type\":\"Spacer\"},{\"attributes\":{},\"id\":\"21387\",\"type\":\"UnionRenderers\"},{\"attributes\":{\"coordinates\":null,\"data_source\":{\"id\":\"21372\"},\"glyph\":{\"id\":\"21375\"},\"group\":null,\"hover_glyph\":null,\"muted_glyph\":{\"id\":\"21377\"},\"nonselection_glyph\":{\"id\":\"21376\"},\"selection_glyph\":{\"id\":\"21392\"},\"view\":{\"id\":\"21379\"}},\"id\":\"21378\",\"type\":\"GlyphRenderer\"},{\"attributes\":{},\"id\":\"21368\",\"type\":\"AllLabels\"},{\"attributes\":{\"line_color\":\"yellow\",\"line_width\":3,\"x\":{\"field\":\"Month\"},\"y\":{\"field\":\"Transaction ID\"}},\"id\":\"21414\",\"type\":\"Line\"},{\"attributes\":{\"client_comm_id\":\"47934ce2818a451baed7e9ffe94ff2ae\",\"comm_id\":\"99bbbbc5e93041b59fe828af3e5e9afc\",\"plot_id\":\"21324\"},\"id\":\"21573\",\"type\":\"panel.models.comm_manager.CommManager\"},{\"attributes\":{\"below\":[{\"id\":\"21343\"}],\"center\":[{\"id\":\"21346\"},{\"id\":\"21350\"}],\"height\":300,\"left\":[{\"id\":\"21347\"}],\"margin\":[5,5,5,5],\"min_border_bottom\":10,\"min_border_left\":10,\"min_border_right\":10,\"min_border_top\":10,\"renderers\":[{\"id\":\"21378\"},{\"id\":\"21399\"}],\"right\":[{\"id\":\"21390\"}],\"sizing_mode\":\"fixed\",\"title\":{\"id\":\"21335\"},\"toolbar\":{\"id\":\"21357\"},\"width\":700,\"x_range\":{\"id\":\"21328\"},\"x_scale\":{\"id\":\"21339\"},\"y_range\":{\"id\":\"21329\"},\"y_scale\":{\"id\":\"21341\"}},\"id\":\"21334\",\"subtype\":\"Figure\",\"type\":\"Plot\"},{\"attributes\":{},\"id\":\"21373\",\"type\":\"Selection\"},{\"attributes\":{},\"id\":\"21351\",\"type\":\"SaveTool\"},{\"attributes\":{\"click_policy\":\"mute\",\"coordinates\":null,\"group\":null,\"items\":[{\"id\":\"21391\"},{\"id\":\"21413\"}],\"location\":[0,0],\"title\":\"Company\"},\"id\":\"21390\",\"type\":\"Legend\"},{\"attributes\":{\"source\":{\"id\":\"21372\"}},\"id\":\"21379\",\"type\":\"CDSView\"},{\"attributes\":{},\"id\":\"21352\",\"type\":\"PanTool\"},{\"attributes\":{},\"id\":\"21341\",\"type\":\"LinearScale\"},{\"attributes\":{},\"id\":\"21353\",\"type\":\"WheelZoomTool\"},{\"attributes\":{\"label\":{\"value\":\"Pink Cab\"},\"renderers\":[{\"id\":\"21378\"}]},\"id\":\"21391\",\"type\":\"LegendItem\"},{\"attributes\":{\"margin\":[5,5,5,5],\"name\":\"HSpacer66057\",\"sizing_mode\":\"stretch_width\"},\"id\":\"21325\",\"type\":\"Spacer\"},{\"attributes\":{\"tools\":[{\"id\":\"21330\"},{\"id\":\"21351\"},{\"id\":\"21352\"},{\"id\":\"21353\"},{\"id\":\"21354\"},{\"id\":\"21355\"}]},\"id\":\"21357\",\"type\":\"Toolbar\"},{\"attributes\":{\"overlay\":{\"id\":\"21356\"}},\"id\":\"21354\",\"type\":\"BoxZoomTool\"},{\"attributes\":{\"margin\":[20,20,20,20],\"min_width\":250,\"options\":[\"ATLANTA GA\",\"AUSTIN TX\",\"BOSTON MA\",\"CHICAGO IL\",\"DALLAS TX\",\"DENVER CO\",\"LOS ANGELES CA\",\"MIAMI FL\",\"NASHVILLE TN\",\"NEW YORK NY\",\"ORANGE COUNTY\",\"PHOENIX AZ\",\"PITTSBURGH PA\",\"SACRAMENTO CA\",\"SAN DIEGO CA\",\"SEATTLE WA\",\"SILICON VALLEY\",\"TUCSON AZ\",\"WASHINGTON DC\"],\"title\":\"City\",\"value\":\"ATLANTA GA\",\"width\":250},\"id\":\"21535\",\"type\":\"panel.models.widgets.CustomSelect\"},{\"attributes\":{\"end\":809.0,\"reset_end\":809.0,\"reset_start\":5.0,\"start\":5.0,\"tags\":[[[\"Transaction ID\",\"Transaction ID\",null]]]},\"id\":\"21329\",\"type\":\"Range1d\"},{\"attributes\":{},\"id\":\"21370\",\"type\":\"BasicTickFormatter\"},{\"attributes\":{\"line_color\":\"pink\",\"line_width\":3,\"x\":{\"field\":\"Month\"},\"y\":{\"field\":\"Transaction ID\"}},\"id\":\"21392\",\"type\":\"Line\"},{\"attributes\":{\"margin\":[5,5,5,5],\"name\":\"HSpacer66058\",\"sizing_mode\":\"stretch_width\"},\"id\":\"21531\",\"type\":\"Spacer\"},{\"attributes\":{\"children\":[{\"id\":\"21325\"},{\"id\":\"21334\"},{\"id\":\"21531\"},{\"id\":\"21532\"}],\"margin\":[0,0,0,0],\"name\":\"Row66048\"},\"id\":\"21324\",\"type\":\"Row\"},{\"attributes\":{\"axis\":{\"id\":\"21347\"},\"coordinates\":null,\"dimension\":1,\"grid_line_color\":null,\"group\":null,\"ticker\":null},\"id\":\"21350\",\"type\":\"Grid\"},{\"attributes\":{},\"id\":\"21355\",\"type\":\"ResetTool\"},{\"attributes\":{},\"id\":\"21410\",\"type\":\"UnionRenderers\"},{\"attributes\":{\"coordinates\":null,\"group\":null,\"text\":\"Cab Rides Demand Monthly Trend\",\"text_color\":\"black\",\"text_font_size\":\"12pt\"},\"id\":\"21335\",\"type\":\"Title\"},{\"attributes\":{\"children\":[{\"id\":\"21535\"}],\"css_classes\":[\"panel-widget-box\"],\"margin\":[5,5,5,5],\"name\":\"WidgetBox66049\"},\"id\":\"21534\",\"type\":\"Column\"},{\"attributes\":{\"end\":12.0,\"reset_end\":12.0,\"reset_start\":1.0,\"start\":1.0,\"tags\":[[[\"Month\",\"Month\",null]]]},\"id\":\"21328\",\"type\":\"Range1d\"},{\"attributes\":{\"line_color\":\"yellow\",\"line_width\":3,\"x\":{\"field\":\"Month\"},\"y\":{\"field\":\"Transaction ID\"}},\"id\":\"21396\",\"type\":\"Line\"},{\"attributes\":{\"bottom_units\":\"screen\",\"coordinates\":null,\"fill_alpha\":0.5,\"fill_color\":\"lightgrey\",\"group\":null,\"left_units\":\"screen\",\"level\":\"overlay\",\"line_alpha\":1.0,\"line_color\":\"black\",\"line_dash\":[4,4],\"line_width\":2,\"right_units\":\"screen\",\"syncable\":false,\"top_units\":\"screen\"},\"id\":\"21356\",\"type\":\"BoxAnnotation\"},{\"attributes\":{\"line_color\":\"pink\",\"line_width\":3,\"x\":{\"field\":\"Month\"},\"y\":{\"field\":\"Transaction ID\"}},\"id\":\"21375\",\"type\":\"Line\"},{\"attributes\":{\"coordinates\":null,\"data_source\":{\"id\":\"21393\"},\"glyph\":{\"id\":\"21396\"},\"group\":null,\"hover_glyph\":null,\"muted_glyph\":{\"id\":\"21398\"},\"nonselection_glyph\":{\"id\":\"21397\"},\"selection_glyph\":{\"id\":\"21414\"},\"view\":{\"id\":\"21400\"}},\"id\":\"21399\",\"type\":\"GlyphRenderer\"},{\"attributes\":{},\"id\":\"21339\",\"type\":\"LinearScale\"},{\"attributes\":{\"data\":{\"Company\":[\"Yellow Cab\",\"Yellow Cab\",\"Yellow Cab\",\"Yellow Cab\",\"Yellow Cab\",\"Yellow Cab\",\"Yellow Cab\",\"Yellow Cab\",\"Yellow Cab\",\"Yellow Cab\",\"Yellow Cab\",\"Yellow Cab\"],\"Month\":[1,2,3,4,5,6,7,8,9,10,11,12],\"Transaction ID\":[420,256,304,359,367,413,486,533,612,636,667,742],\"Transaction_ID\":[420,256,304,359,367,413,486,533,612,636,667,742]},\"selected\":{\"id\":\"21394\"},\"selection_policy\":{\"id\":\"21410\"}},\"id\":\"21393\",\"type\":\"ColumnDataSource\"},{\"attributes\":{},\"id\":\"21394\",\"type\":\"Selection\"},{\"attributes\":{\"axis_label\":\"Month of a Year\",\"coordinates\":null,\"formatter\":{\"id\":\"21367\"},\"group\":null,\"major_label_policy\":{\"id\":\"21368\"},\"ticker\":{\"id\":\"21344\"}},\"id\":\"21343\",\"type\":\"LinearAxis\"},{\"attributes\":{\"label\":{\"value\":\"Yellow Cab\"},\"renderers\":[{\"id\":\"21399\"}]},\"id\":\"21413\",\"type\":\"LegendItem\"},{\"attributes\":{\"line_alpha\":0.1,\"line_color\":\"yellow\",\"line_width\":3,\"x\":{\"field\":\"Month\"},\"y\":{\"field\":\"Transaction ID\"}},\"id\":\"21397\",\"type\":\"Line\"},{\"attributes\":{\"callback\":null,\"renderers\":[{\"id\":\"21378\"},{\"id\":\"21399\"}],\"tags\":[\"hv_created\"],\"tooltips\":[[\"Company\",\"@{Company}\"],[\"Month\",\"@{Month}\"],[\"Transaction ID\",\"@{Transaction_ID}\"]]},\"id\":\"21330\",\"type\":\"HoverTool\"},{\"attributes\":{},\"id\":\"21344\",\"type\":\"BasicTicker\"},{\"attributes\":{\"children\":[{\"id\":\"21533\"},{\"id\":\"21534\"},{\"id\":\"21536\"}],\"margin\":[0,0,0,0],\"name\":\"Column66056\"},\"id\":\"21532\",\"type\":\"Column\"},{\"attributes\":{},\"id\":\"21367\",\"type\":\"BasicTickFormatter\"},{\"attributes\":{\"axis\":{\"id\":\"21343\"},\"coordinates\":null,\"grid_line_color\":null,\"group\":null,\"ticker\":null},\"id\":\"21346\",\"type\":\"Grid\"},{\"attributes\":{\"source\":{\"id\":\"21393\"}},\"id\":\"21400\",\"type\":\"CDSView\"},{\"attributes\":{\"line_alpha\":0.1,\"line_color\":\"pink\",\"line_width\":3,\"x\":{\"field\":\"Month\"},\"y\":{\"field\":\"Transaction ID\"}},\"id\":\"21376\",\"type\":\"Line\"},{\"attributes\":{\"line_alpha\":0.2,\"line_color\":\"yellow\",\"line_width\":3,\"x\":{\"field\":\"Month\"},\"y\":{\"field\":\"Transaction ID\"}},\"id\":\"21398\",\"type\":\"Line\"},{\"attributes\":{},\"id\":\"21348\",\"type\":\"BasicTicker\"},{\"attributes\":{},\"id\":\"21371\",\"type\":\"AllLabels\"},{\"attributes\":{\"axis_label\":\"Number of Rides\",\"coordinates\":null,\"formatter\":{\"id\":\"21370\"},\"group\":null,\"major_label_policy\":{\"id\":\"21371\"},\"ticker\":{\"id\":\"21348\"}},\"id\":\"21347\",\"type\":\"LinearAxis\"},{\"attributes\":{\"data\":{\"Company\":[\"Pink Cab\",\"Pink Cab\",\"Pink Cab\",\"Pink Cab\",\"Pink Cab\",\"Pink Cab\",\"Pink Cab\",\"Pink Cab\",\"Pink Cab\",\"Pink Cab\",\"Pink Cab\",\"Pink Cab\"],\"Month\":[1,2,3,4,5,6,7,8,9,10,11,12],\"Transaction ID\":[110,72,95,118,105,136,151,159,201,201,202,212],\"Transaction_ID\":[110,72,95,118,105,136,151,159,201,201,202,212]},\"selected\":{\"id\":\"21373\"},\"selection_policy\":{\"id\":\"21387\"}},\"id\":\"21372\",\"type\":\"ColumnDataSource\"}],\"root_ids\":[\"21324\",\"21573\"]},\"title\":\"Bokeh Application\",\"version\":\"2.4.2\"}};\n",
       "    var render_items = [{\"docid\":\"fda88c4c-7d09-457b-94a1-c8270552a32f\",\"root_ids\":[\"21324\"],\"roots\":{\"21324\":\"864b70ed-0ee1-440f-88aa-84a99dbc5b4c\"}}];\n",
       "    root.Bokeh.embed.embed_items_notebook(docs_json, render_items);\n",
       "  }\n",
       "  if (root.Bokeh !== undefined && root.Bokeh.Panel !== undefined) {\n",
       "    embed_document(root);\n",
       "  } else {\n",
       "    var attempts = 0;\n",
       "    var timer = setInterval(function(root) {\n",
       "      if (root.Bokeh !== undefined && root.Bokeh.Panel !== undefined) {\n",
       "        clearInterval(timer);\n",
       "        embed_document(root);\n",
       "      } else if (document.readyState == \"complete\") {\n",
       "        attempts++;\n",
       "        if (attempts > 200) {\n",
       "          clearInterval(timer);\n",
       "          console.log(\"Bokeh: ERROR: Unable to run BokehJS code because BokehJS library is missing\");\n",
       "        }\n",
       "      }\n",
       "    }, 25, root)\n",
       "  }\n",
       "})(window);</script>"
      ],
      "text/plain": [
       ":DynamicMap   [City]\n",
       "   :NdOverlay   [Company]\n",
       "      :Curve   [Month]   (Transaction ID)"
      ]
     },
     "execution_count": 331,
     "metadata": {
      "application/vnd.holoviews_exec.v0+json": {
       "id": "21324"
      }
     },
     "output_type": "execute_result"
    }
   ],
   "source": [
    "# Monthly demand by company in each city\n",
    "mon_demand_city_df.hvplot(\n",
    "    title='Cab Rides Demand Monthly Trend',\n",
    "    x='Month',\n",
    "    y = 'Transaction ID',\n",
    "    by = 'Company',\n",
    "    xlabel='Month of a Year',\n",
    "    ylabel='Number of Rides',\n",
    "    groupby='City',\n",
    "    line_color = ['pink','yellow'],\n",
    "    line_width = 3\n",
    ")"
   ]
  },
  {
   "cell_type": "markdown",
   "metadata": {},
   "source": [
    "> <b> Overall, `Yellow` cab has higher demand and the demand for its service increased faster than Pink cab throughout the year </b>\n",
    "\n",
    "> <b> Demand for `Yellow` cab increased high in: Atlanta, Austin, Denver, Los Angeles, Miami, New York, Orange County, Phoenix, Silicon Valley, Tucson; Demand decrease slow in: Chicago, DC</b>\n",
    "\n",
    "> <b> Demand for `Pink` cab increased high in: Austin, Denver, Los Angeles, Orange County, Phoenix, Silicon Valley, Tucson; Stable demand in: Atlanta, Boston, Chicago, Dallas, Miami, New York, DC</b>\n",
    "\n",
    "> <b> Demand for `Pink` cab higher than Yellow cab: Nashville, Pittsburgh, Sacramento, San Diego </b>\n",
    "\n",
    "> <b> Demand for `Pittsburgh` picks up in spring when it's still cold</b>\n",
    "\n",
    "> <b> Demand for `San Diego` and `Tucson` peaks in Fall when it's still hot</b>"
   ]
  },
  {
   "cell_type": "code",
   "execution_count": 332,
   "metadata": {},
   "outputs": [],
   "source": [
    "# Create a new dataframe to display cab demands over the week for both companies\n",
    "day_demand = df.groupby(['Day','Company'])\n",
    "day_demand = day_demand['Transaction ID'].size()\n",
    "day_demand_df = pd.DataFrame(day_demand)\n",
    "\n",
    "# Create a new dataframe to display cab demands over the week in each city for both companies\n",
    "day_demand_city = df.groupby(['Day','City', 'Company'])\n",
    "day_demand_city = day_demand_city['Transaction ID'].size()\n",
    "day_demand_city_df = pd.DataFrame(day_demand_city)"
   ]
  },
  {
   "cell_type": "code",
   "execution_count": 333,
   "metadata": {},
   "outputs": [
    {
     "data": {
      "image/png": "[encoded data removed]",
      "text/plain": [
       "<Figure size 720x504 with 1 Axes>"
      ]
     },
     "metadata": {
      "needs_background": "light"
     },
     "output_type": "display_data"
    }
   ],
   "source": [
    "# Day of the week demand trend by company\n",
    "plt.figure(figsize = (10, 7))\n",
    "sns.lineplot(x='Day', y='Transaction ID', hue=\"Company\", data=day_demand_df, marker='o', palette=['r', 'y'], linewidth=2.5)\n",
    "plt.xlabel(\"Day of a Week\", size=14)\n",
    "plt.ylabel(\"No. of Cab Rides\", size=14)\n",
    "plt.title(\"Weekly Cab Rides Demand\", size = 16)\n",
    "plt.show()"
   ]
  },
  {
   "cell_type": "markdown",
   "metadata": {},
   "source": [
    "> <b> The overall demand trend for cab service picks up during the weekend </b>\n",
    "\n",
    "> <b> The demand trend for `Yellow` cab service increased higher than Pink cab; also it decreased faster than Pink cab on Sunday</b>\n",
    "\n",
    "> <b> `Pink` cab had a steady increase in demand from Thursday and drops slightly on Sunday </b>"
   ]
  },
  {
   "cell_type": "code",
   "execution_count": 334,
   "metadata": {},
   "outputs": [
    {
     "data": {},
     "metadata": {},
     "output_type": "display_data"
    },
    {
     "data": {
      "application/vnd.holoviews_exec.v0+json": "",
      "text/html": [
       "<div id='21634'>\n",
       "\n",
       "\n",
       "\n",
       "\n",
       "\n",
       "  <div class=\"bk-root\" id=\"5e563f15-2939-4010-932e-b93f26572229\" data-root-id=\"21634\"></div>\n",
       "</div>\n",
       "<script type=\"application/javascript\">(function(root) {\n",
       "  function embed_document(root) {\n",
       "    var docs_json = {\"d37aa013-c9d3-41a8-9150-bd1676e461b6\":{\"defs\":[{\"extends\":null,\"module\":null,\"name\":\"ReactiveHTML1\",\"overrides\":[],\"properties\":[]},{\"extends\":null,\"module\":null,\"name\":\"FlexBox1\",\"overrides\":[],\"properties\":[{\"default\":\"flex-start\",\"kind\":null,\"name\":\"align_content\"},{\"default\":\"flex-start\",\"kind\":null,\"name\":\"align_items\"},{\"default\":\"row\",\"kind\":null,\"name\":\"flex_direction\"},{\"default\":\"wrap\",\"kind\":null,\"name\":\"flex_wrap\"},{\"default\":\"flex-start\",\"kind\":null,\"name\":\"justify_content\"}]},{\"extends\":null,\"module\":null,\"name\":\"GridStack1\",\"overrides\":[],\"properties\":[{\"default\":\"warn\",\"kind\":null,\"name\":\"mode\"},{\"default\":null,\"kind\":null,\"name\":\"ncols\"},{\"default\":null,\"kind\":null,\"name\":\"nrows\"},{\"default\":true,\"kind\":null,\"name\":\"allow_resize\"},{\"default\":true,\"kind\":null,\"name\":\"allow_drag\"},{\"default\":[],\"kind\":null,\"name\":\"state\"}]},{\"extends\":null,\"module\":null,\"name\":\"click1\",\"overrides\":[],\"properties\":[{\"default\":\"\",\"kind\":null,\"name\":\"terminal_output\"},{\"default\":\"\",\"kind\":null,\"name\":\"debug_name\"},{\"default\":0,\"kind\":null,\"name\":\"clears\"}]},{\"extends\":null,\"module\":null,\"name\":\"TemplateActions1\",\"overrides\":[],\"properties\":[{\"default\":0,\"kind\":null,\"name\":\"open_modal\"},{\"default\":0,\"kind\":null,\"name\":\"close_modal\"}]},{\"extends\":null,\"module\":null,\"name\":\"MaterialTemplateActions1\",\"overrides\":[],\"properties\":[{\"default\":0,\"kind\":null,\"name\":\"open_modal\"},{\"default\":0,\"kind\":null,\"name\":\"close_modal\"}]}],\"roots\":{\"references\":[{\"attributes\":{},\"id\":\"21660\",\"type\":\"SaveTool\"},{\"attributes\":{\"label\":{\"value\":\"Yellow Cab\"},\"renderers\":[{\"id\":\"21708\"}]},\"id\":\"21722\",\"type\":\"LegendItem\"},{\"attributes\":{\"coordinates\":null,\"data_source\":{\"id\":\"21681\"},\"glyph\":{\"id\":\"21684\"},\"group\":null,\"hover_glyph\":null,\"muted_glyph\":{\"id\":\"21686\"},\"nonselection_glyph\":{\"id\":\"21685\"},\"selection_glyph\":{\"id\":\"21701\"},\"view\":{\"id\":\"21688\"}},\"id\":\"21687\",\"type\":\"GlyphRenderer\"},{\"attributes\":{},\"id\":\"21661\",\"type\":\"PanTool\"},{\"attributes\":{},\"id\":\"21703\",\"type\":\"Selection\"},{\"attributes\":{},\"id\":\"21651\",\"type\":\"LinearScale\"},{\"attributes\":{},\"id\":\"21662\",\"type\":\"WheelZoomTool\"},{\"attributes\":{\"below\":[{\"id\":\"21653\"}],\"center\":[{\"id\":\"21655\"},{\"id\":\"21659\"}],\"height\":300,\"left\":[{\"id\":\"21656\"}],\"margin\":[5,5,5,5],\"min_border_bottom\":10,\"min_border_left\":10,\"min_border_right\":10,\"min_border_top\":10,\"renderers\":[{\"id\":\"21687\"},{\"id\":\"21708\"}],\"right\":[{\"id\":\"21699\"}],\"sizing_mode\":\"fixed\",\"title\":{\"id\":\"21645\"},\"toolbar\":{\"id\":\"21666\"},\"width\":700,\"x_range\":{\"id\":\"21638\"},\"x_scale\":{\"id\":\"21649\"},\"y_range\":{\"id\":\"21639\"},\"y_scale\":{\"id\":\"21651\"}},\"id\":\"21644\",\"subtype\":\"Figure\",\"type\":\"Plot\"},{\"attributes\":{\"overlay\":{\"id\":\"21665\"}},\"id\":\"21663\",\"type\":\"BoxZoomTool\"},{\"attributes\":{},\"id\":\"21696\",\"type\":\"UnionRenderers\"},{\"attributes\":{\"source\":{\"id\":\"21681\"}},\"id\":\"21688\",\"type\":\"CDSView\"},{\"attributes\":{\"click_policy\":\"mute\",\"coordinates\":null,\"group\":null,\"items\":[{\"id\":\"21700\"},{\"id\":\"21722\"}],\"location\":[0,0],\"title\":\"Company\"},\"id\":\"21699\",\"type\":\"Legend\"},{\"attributes\":{\"children\":[{\"id\":\"21844\"}],\"css_classes\":[\"panel-widget-box\"],\"margin\":[5,5,5,5],\"name\":\"WidgetBox66701\"},\"id\":\"21843\",\"type\":\"Column\"},{\"attributes\":{\"line_color\":\"yellow\",\"line_width\":3,\"x\":{\"field\":\"Day\"},\"y\":{\"field\":\"Transaction ID\"}},\"id\":\"21723\",\"type\":\"Line\"},{\"attributes\":{\"children\":[{\"id\":\"21842\"},{\"id\":\"21843\"},{\"id\":\"21845\"}],\"margin\":[0,0,0,0],\"name\":\"Column66708\"},\"id\":\"21841\",\"type\":\"Column\"},{\"attributes\":{\"axis\":{\"id\":\"21656\"},\"coordinates\":null,\"dimension\":1,\"grid_line_color\":null,\"group\":null,\"ticker\":null},\"id\":\"21659\",\"type\":\"Grid\"},{\"attributes\":{},\"id\":\"21664\",\"type\":\"ResetTool\"},{\"attributes\":{\"coordinates\":null,\"group\":null,\"text\":\"Cab Rides Day of Week Trend\",\"text_color\":\"black\",\"text_font_size\":\"12pt\"},\"id\":\"21645\",\"type\":\"Title\"},{\"attributes\":{\"label\":{\"value\":\"Pink Cab\"},\"renderers\":[{\"id\":\"21687\"}]},\"id\":\"21700\",\"type\":\"LegendItem\"},{\"attributes\":{\"line_color\":\"yellow\",\"line_width\":3,\"x\":{\"field\":\"Day\"},\"y\":{\"field\":\"Transaction ID\"}},\"id\":\"21705\",\"type\":\"Line\"},{\"attributes\":{},\"id\":\"21676\",\"type\":\"CategoricalTickFormatter\"},{\"attributes\":{\"bottom_units\":\"screen\",\"coordinates\":null,\"fill_alpha\":0.5,\"fill_color\":\"lightgrey\",\"group\":null,\"left_units\":\"screen\",\"level\":\"overlay\",\"line_alpha\":1.0,\"line_color\":\"black\",\"line_dash\":[4,4],\"line_width\":2,\"right_units\":\"screen\",\"syncable\":false,\"top_units\":\"screen\"},\"id\":\"21665\",\"type\":\"BoxAnnotation\"},{\"attributes\":{\"margin\":[20,20,20,20],\"min_width\":250,\"options\":[\"ATLANTA GA\",\"AUSTIN TX\",\"BOSTON MA\",\"CHICAGO IL\",\"DALLAS TX\",\"DENVER CO\",\"LOS ANGELES CA\",\"MIAMI FL\",\"NASHVILLE TN\",\"NEW YORK NY\",\"ORANGE COUNTY\",\"PHOENIX AZ\",\"PITTSBURGH PA\",\"SACRAMENTO CA\",\"SAN DIEGO CA\",\"SEATTLE WA\",\"SILICON VALLEY\",\"TUCSON AZ\",\"WASHINGTON DC\"],\"title\":\"City\",\"value\":\"ATLANTA GA\",\"width\":250},\"id\":\"21844\",\"type\":\"panel.models.widgets.CustomSelect\"},{\"attributes\":{\"coordinates\":null,\"data_source\":{\"id\":\"21702\"},\"glyph\":{\"id\":\"21705\"},\"group\":null,\"hover_glyph\":null,\"muted_glyph\":{\"id\":\"21707\"},\"nonselection_glyph\":{\"id\":\"21706\"},\"selection_glyph\":{\"id\":\"21723\"},\"view\":{\"id\":\"21709\"}},\"id\":\"21708\",\"type\":\"GlyphRenderer\"},{\"attributes\":{\"factors\":[\"1\",\"2\",\"3\",\"4\",\"5\",\"6\",\"7\"],\"tags\":[[[\"Day\",\"Day\",null]]]},\"id\":\"21638\",\"type\":\"FactorRange\"},{\"attributes\":{},\"id\":\"21649\",\"type\":\"CategoricalScale\"},{\"attributes\":{},\"id\":\"21719\",\"type\":\"UnionRenderers\"},{\"attributes\":{\"children\":[{\"id\":\"21635\"},{\"id\":\"21644\"},{\"id\":\"21840\"},{\"id\":\"21841\"}],\"margin\":[0,0,0,0],\"name\":\"Row66700\"},\"id\":\"21634\",\"type\":\"Row\"},{\"attributes\":{\"axis_label\":\"Day of a Week\",\"coordinates\":null,\"formatter\":{\"id\":\"21676\"},\"group\":null,\"major_label_policy\":{\"id\":\"21677\"},\"ticker\":{\"id\":\"21654\"}},\"id\":\"21653\",\"type\":\"CategoricalAxis\"},{\"attributes\":{\"margin\":[5,5,5,5],\"name\":\"VSpacer66706\",\"sizing_mode\":\"stretch_height\"},\"id\":\"21842\",\"type\":\"Spacer\"},{\"attributes\":{\"line_color\":\"pink\",\"line_width\":3,\"x\":{\"field\":\"Day\"},\"y\":{\"field\":\"Transaction ID\"}},\"id\":\"21701\",\"type\":\"Line\"},{\"attributes\":{\"margin\":[5,5,5,5],\"name\":\"HSpacer66709\",\"sizing_mode\":\"stretch_width\"},\"id\":\"21635\",\"type\":\"Spacer\"},{\"attributes\":{\"margin\":[5,5,5,5],\"name\":\"VSpacer66707\",\"sizing_mode\":\"stretch_height\"},\"id\":\"21845\",\"type\":\"Spacer\"},{\"attributes\":{},\"id\":\"21654\",\"type\":\"CategoricalTicker\"},{\"attributes\":{\"source\":{\"id\":\"21702\"}},\"id\":\"21709\",\"type\":\"CDSView\"},{\"attributes\":{\"axis\":{\"id\":\"21653\"},\"coordinates\":null,\"grid_line_color\":null,\"group\":null,\"ticker\":null},\"id\":\"21655\",\"type\":\"Grid\"},{\"attributes\":{\"line_alpha\":0.1,\"line_color\":\"yellow\",\"line_width\":3,\"x\":{\"field\":\"Day\"},\"y\":{\"field\":\"Transaction ID\"}},\"id\":\"21706\",\"type\":\"Line\"},{\"attributes\":{},\"id\":\"21679\",\"type\":\"BasicTickFormatter\"},{\"attributes\":{\"end\":1446.6,\"reset_end\":1446.6,\"reset_start\":11.399999999999991,\"start\":11.399999999999991,\"tags\":[[[\"Transaction ID\",\"Transaction ID\",null]]]},\"id\":\"21639\",\"type\":\"Range1d\"},{\"attributes\":{},\"id\":\"21657\",\"type\":\"BasicTicker\"},{\"attributes\":{\"axis_label\":\"Number of Rides\",\"coordinates\":null,\"formatter\":{\"id\":\"21679\"},\"group\":null,\"major_label_policy\":{\"id\":\"21680\"},\"ticker\":{\"id\":\"21657\"}},\"id\":\"21656\",\"type\":\"LinearAxis\"},{\"attributes\":{\"data\":{\"Company\":[\"Pink Cab\",\"Pink Cab\",\"Pink Cab\",\"Pink Cab\",\"Pink Cab\",\"Pink Cab\",\"Pink Cab\"],\"Day\":[\"1\",\"2\",\"3\",\"4\",\"5\",\"6\",\"7\"],\"Transaction ID\":[131,132,161,206,398,392,342],\"Transaction_ID\":[131,132,161,206,398,392,342]},\"selected\":{\"id\":\"21682\"},\"selection_policy\":{\"id\":\"21696\"}},\"id\":\"21681\",\"type\":\"ColumnDataSource\"},{\"attributes\":{\"client_comm_id\":\"ec07af1a99dd4e7692f80c6aa28ce52c\",\"comm_id\":\"6c10b43d1fca483fb58a027c071f8c47\",\"plot_id\":\"21634\"},\"id\":\"21882\",\"type\":\"panel.models.comm_manager.CommManager\"},{\"attributes\":{},\"id\":\"21680\",\"type\":\"AllLabels\"},{\"attributes\":{\"data\":{\"Company\":[\"Yellow Cab\",\"Yellow Cab\",\"Yellow Cab\",\"Yellow Cab\",\"Yellow Cab\",\"Yellow Cab\",\"Yellow Cab\"],\"Day\":[\"1\",\"2\",\"3\",\"4\",\"5\",\"6\",\"7\"],\"Transaction ID\":[456,488,495,572,1327,1273,1184],\"Transaction_ID\":[456,488,495,572,1327,1273,1184]},\"selected\":{\"id\":\"21703\"},\"selection_policy\":{\"id\":\"21719\"}},\"id\":\"21702\",\"type\":\"ColumnDataSource\"},{\"attributes\":{},\"id\":\"21677\",\"type\":\"AllLabels\"},{\"attributes\":{\"line_alpha\":0.1,\"line_color\":\"pink\",\"line_width\":3,\"x\":{\"field\":\"Day\"},\"y\":{\"field\":\"Transaction ID\"}},\"id\":\"21685\",\"type\":\"Line\"},{\"attributes\":{\"line_alpha\":0.2,\"line_color\":\"pink\",\"line_width\":3,\"x\":{\"field\":\"Day\"},\"y\":{\"field\":\"Transaction ID\"}},\"id\":\"21686\",\"type\":\"Line\"},{\"attributes\":{\"margin\":[5,5,5,5],\"name\":\"HSpacer66710\",\"sizing_mode\":\"stretch_width\"},\"id\":\"21840\",\"type\":\"Spacer\"},{\"attributes\":{\"callback\":null,\"renderers\":[{\"id\":\"21687\"},{\"id\":\"21708\"}],\"tags\":[\"hv_created\"],\"tooltips\":[[\"Company\",\"@{Company}\"],[\"Day\",\"@{Day}\"],[\"Transaction ID\",\"@{Transaction_ID}\"]]},\"id\":\"21640\",\"type\":\"HoverTool\"},{\"attributes\":{},\"id\":\"21682\",\"type\":\"Selection\"},{\"attributes\":{\"line_color\":\"pink\",\"line_width\":3,\"x\":{\"field\":\"Day\"},\"y\":{\"field\":\"Transaction ID\"}},\"id\":\"21684\",\"type\":\"Line\"},{\"attributes\":{\"line_alpha\":0.2,\"line_color\":\"yellow\",\"line_width\":3,\"x\":{\"field\":\"Day\"},\"y\":{\"field\":\"Transaction ID\"}},\"id\":\"21707\",\"type\":\"Line\"},{\"attributes\":{\"tools\":[{\"id\":\"21640\"},{\"id\":\"21660\"},{\"id\":\"21661\"},{\"id\":\"21662\"},{\"id\":\"21663\"},{\"id\":\"21664\"}]},\"id\":\"21666\",\"type\":\"Toolbar\"}],\"root_ids\":[\"21634\",\"21882\"]},\"title\":\"Bokeh Application\",\"version\":\"2.4.2\"}};\n",
       "    var render_items = [{\"docid\":\"d37aa013-c9d3-41a8-9150-bd1676e461b6\",\"root_ids\":[\"21634\"],\"roots\":{\"21634\":\"5e563f15-2939-4010-932e-b93f26572229\"}}];\n",
       "    root.Bokeh.embed.embed_items_notebook(docs_json, render_items);\n",
       "  }\n",
       "  if (root.Bokeh !== undefined && root.Bokeh.Panel !== undefined) {\n",
       "    embed_document(root);\n",
       "  } else {\n",
       "    var attempts = 0;\n",
       "    var timer = setInterval(function(root) {\n",
       "      if (root.Bokeh !== undefined && root.Bokeh.Panel !== undefined) {\n",
       "        clearInterval(timer);\n",
       "        embed_document(root);\n",
       "      } else if (document.readyState == \"complete\") {\n",
       "        attempts++;\n",
       "        if (attempts > 200) {\n",
       "          clearInterval(timer);\n",
       "          console.log(\"Bokeh: ERROR: Unable to run BokehJS code because BokehJS library is missing\");\n",
       "        }\n",
       "      }\n",
       "    }, 25, root)\n",
       "  }\n",
       "})(window);</script>"
      ],
      "text/plain": [
       ":DynamicMap   [City]\n",
       "   :NdOverlay   [Company]\n",
       "      :Curve   [Day]   (Transaction ID)"
      ]
     },
     "execution_count": 334,
     "metadata": {
      "application/vnd.holoviews_exec.v0+json": {
       "id": "21634"
      }
     },
     "output_type": "execute_result"
    }
   ],
   "source": [
    "# Day of week demand by company in each city\n",
    "day_demand_city_df.hvplot(\n",
    "    title='Cab Rides Day of Week Trend',\n",
    "    x='Day',\n",
    "    y = 'Transaction ID',\n",
    "    by = 'Company',\n",
    "    xlabel='Day of a Week',\n",
    "    ylabel='Number of Rides',\n",
    "    groupby='City',\n",
    "    line_color = ['pink','yellow'],\n",
    "    line_width = 3\n",
    ")"
   ]
  },
  {
   "cell_type": "markdown",
   "metadata": {},
   "source": [
    "> <b> Overall, `Yellow` cab has higher demand and the demand for its service increased faster than Pink cab during the weekend </b>\n",
    "\n",
    "> <b> Demand for `Yellow` cab increased high in: Atlanta, Austin, Boston, Chicago, Denver, Los Angeles, Miami, New York, Orange County, Phoenix, Silicon Valley, Tucson </b>\n",
    "\n",
    "> <b> Demand for `Pink` cab increased high in: Austin, Denver, Los Angeles, Orange County, Phoenix, Sacramento, San diego, Silicon Valley, Tucson; Stable demand in: Atlanta, Boston, Chicago, Dallas, New York, DC</b>\n",
    "\n",
    "> <b> Demand for `Pink` cab higher than Yellow cab: Nashville, Pittsburgh, Sacramento, San Diego </b>\n",
    "\n",
    "> <b> Pink cab are the main supply in `Pittsburgh`, it seems that there are not enough pick cabs picks on Fridays </b>"
   ]
  },
  {
   "cell_type": "code",
   "execution_count": 336,
   "metadata": {},
   "outputs": [
    {
     "data": {
      "image/png": "[encoded data removed]",
      "text/plain": [
       "<Figure size 720x504 with 1 Axes>"
      ]
     },
     "metadata": {
      "needs_background": "light"
     },
     "output_type": "display_data"
    }
   ],
   "source": [
    "# Yearly profit margin\n",
    "plt.figure(figsize = (10, 7))\n",
    "sns.lineplot(x='Year', y='Profit', hue=\"Company\", data=df, marker='o')\n",
    "plt.xlabel(\"Year\", size=14)\n",
    "plt.ylabel(\"Profit Margin\", size=14)\n",
    "plt.title(\"Profit Margin per Year\", size = 16)\n",
    "plt.show()"
   ]
  },
  {
   "cell_type": "markdown",
   "metadata": {},
   "source": [
    "> <b> The overall profit for cab service decreases from 2017 to 2018 </b>\n",
    "\n",
    "> <b> The profit margin for `Yellow` cab decreases faster than Pink cab; although its profit is still higher in general</b>\n",
    "\n",
    "> <b> `Pink` cab had a steady decrease in profit margin </b>"
   ]
  },
  {
   "cell_type": "code",
   "execution_count": 337,
   "metadata": {},
   "outputs": [
    {
     "data": {
      "image/png": "[encoded data removed]",
      "text/plain": [
       "<Figure size 720x504 with 1 Axes>"
      ]
     },
     "metadata": {
      "needs_background": "light"
     },
     "output_type": "display_data"
    }
   ],
   "source": [
    "# Monthly profit margin\n",
    "plt.figure(figsize = (10, 7))\n",
    "sns.lineplot(x='Month', y='Profit', hue=\"Company\", data=df, marker='o')\n",
    "plt.xlabel(\"Month\", size=14)\n",
    "plt.ylabel(\"Profit Margin\", size=14)\n",
    "plt.title(\"Profit Margin per Month\", size = 16)\n",
    "plt.show()"
   ]
  },
  {
   "cell_type": "markdown",
   "metadata": {},
   "source": [
    "> <b> It seems customers takes cabs more often during winter times or when it's colder for both companies </b>\n",
    "\n",
    "> <b> The profit margin for `Yellow` cab increases during winter and spring and reaches its highest profit margin in May, then drops during summer and reaches its lowest in August </b>\n",
    "\n",
    "> <b> `Pink` cab had a steady increase in profit throughout Fall and Winter and drops slowly in Spring and reaches its lowest profit margin in May </b>\n",
    "\n",
    "> <b> It seems that it cost `Pink` cabs' more to run during spring time </b>\n",
    "\n",
    "> <b> It seems that `Yellow` cabs' dominate customer groups are in cities have long summers and it cost more to run during the summer which comply with analysis in previous sections </b>"
   ]
  },
  {
   "cell_type": "code",
   "execution_count": 339,
   "metadata": {},
   "outputs": [
    {
     "data": {
      "image/png": "[encoded data removed]",
      "text/plain": [
       "<Figure size 720x504 with 1 Axes>"
      ]
     },
     "metadata": {
      "needs_background": "light"
     },
     "output_type": "display_data"
    }
   ],
   "source": [
    "# Create a new dataframe to display profit margin over the week for both companies\n",
    "day_profit = df.groupby(['Day','Company'])\n",
    "day_profit = day_profit['Profit'].sum()\n",
    "day_profit_df = pd.DataFrame(day_profit)\n",
    "\n",
    "# Day of the week demand trend by company\n",
    "plt.figure(figsize = (10, 7))\n",
    "sns.lineplot(x='Day', y='Profit', hue=\"Company\", data=day_profit_df, marker='o', palette=['r', 'y'], linewidth=2.5)\n",
    "plt.xlabel(\"Day of a Week\", size=14)\n",
    "plt.ylabel(\"Profit Margin\", size=14)\n",
    "plt.title(\"Weekly Profit Margin\", size = 16)\n",
    "plt.show()"
   ]
  },
  {
   "cell_type": "markdown",
   "metadata": {},
   "source": [
    "> <b> The overall demand trend for cab service picks up during the weekend </b>\n",
    "\n",
    "> <b> The demand trend for `Yellow` cab service increased higher than Pink cab; it also decreased faster than Pink cab on Sunday</b>\n",
    "\n",
    "> <b> `Pink` cab had a steady increase in demand from Thursday and drops slightly on Sunday </b>"
   ]
  },
  {
   "cell_type": "markdown",
   "metadata": {
    "tags": []
   },
   "source": [
    "## Step 3. Summarize and Recommendations"
   ]
  },
  {
   "cell_type": "markdown",
   "metadata": {},
   "source": [
    "### Summary"
   ]
  },
  {
   "cell_type": "markdown",
   "metadata": {},
   "source": [
    "*Data defect: There are 20 cities in the City dataframe while 19 in the Cab data. San Fransisco was not included in the Cab data.\n",
    "\n",
    "Top 6 cab rides cities: \n",
    "* NEW YORK NY       99885\n",
    "* CHICAGO IL        56625\n",
    "* LOS ANGELES CA    48033\n",
    "* WASHINGTON DC     43737\n",
    "* BOSTON MA         29692\n",
    "* SAN DIEGO CA      20488\n",
    "\n",
    "During the analyzing period, more than 4 times of the rides were taken in `Yellow cab` than in Pink cab. Yellow cabs has way higher demands or outrun Pink cabs especially in New York, Boston, Chicago, and DC. `Pink` cabs has more advantage on the west coast cities such as Los Angeles, San Diego, Silicon Valley. \n",
    "\n",
    "The average cost per KM travelled to drive a Yellow cab is $2 higher than a Pink cab among all cities. As we found out earlier that there are way more Yellow cabs than Pink cabs, which means it `cost way more` to drive and ride a `Yellow` cab, as well as to run its' company, which means customers were charged way higher by Yellow cabs. Thus, `Pink` cab has lots of rooms for profit margin in all cities, especailly in Dallas, Denver, New York, Phoenix, Pittsburgh, and Silicon Valley.\n",
    "\n",
    "Both companies' dominate user age group is `20-40` years old. Gender distribution for both companies are quite `similar`. The `average user age` for both companies and both genders is about `33` years old. Color `Pink` is not an influencer in gender distribution for Pink cab. Both companies has more male than female customers. Age distributions by gender are quite even in each city. There is no big age difference between higher and lower cab demand cities. However, `Pink` cabs has wider female customer age ranges than males in cities such as Los Angeles, San Diego, Silicon Valley Nashville, Pittsburgh, Seattle where `Pink Cab` performs better than other cities. As age increases, cab travel distance generally increases, so does the variation of travel distance. Customers from youger age groups generally travel within 23 KMs while customers from 42-65 age group have higher needs taking cabs to closer destinations. As age increases, income generally increases, so does the income variation. Customers from youger age groups have incomes between 14500 and 15700, while customers from 42-65 age group have income as high as 16300 and as low as 14400. Both companies have similar income distributions in each gender groups. The majority of customers' income fall under 3000 - 24000. Income in both companies and gendergroups are heavily weighted below it's mean. Regardless of demands of cab services, cab users' average income level are around 14000 in the list of cities.\n",
    "\n",
    "Cab users only make up a minimal portion of the total population in each city. Only (6 out of 19 cities) New York, Chicago, Los Angeles, DC, Boston, and San Diego have more obvious amount of users comparing to other cities. Even though New York have more users, there are around 30% Boston and DC population use cab services.\n",
    "\n",
    "The overall demand for cab service increased for both companies from 2016 to 2017 followed by a down trend towards 2018. The demand for `Yellow` cab sservice increased higher than Pink cab; also it decreased faster than Pink cab. `Pink` cab had a steady increase in demand from 2016 to 2017 and kept a stable demand record to 2018. Overall, `Yellow` cab has higher demand and the demand for its service increased faster than Pink cab. Demand for `Yellow` cab increased high in: Atlanta, Austin, Denver, Los Angeles, Miami, Orange County, Phoenix, Silicon Valley, Tucson; Demand decrease slow in: Denver, Chicago, DC. Demand for `Pink` cab increased high in: Austin, Denver, Los Angeles, Orange County, Phoenix, Silicon Valley, Tucson; Stable demand in: Atlanta, Boston, Chicago, Dallas, Miami, New York, Seattle, DC. Demand for `Pink` cab higher than Yellow cab: Nashville, Pittsburgh, Sacramento, San Diego. The overall demand trend for cab service increases faster through summer to winter and drops around spring. The demand trend for `Yellow` cab sservice increased higher than Pink cab; also it decreased faster than Pink cab in spring. `Pink` cab had a steady increase in demand from summer to winter and drops slightly during spring. The overall demand trend for cab service picks up during the weekend. The demand trend for `Yellow` cab sservice increased higher than Pink cab; also it decreased faster than Pink cab on Sunday. `Pink` cab had a steady increase in demand from Thursday and drops slightly on Sunday.\n",
    "\n",
    "The overall profit for cab service decreases from 2017 to 2018. The profit margin for `Yellow` cab decreses faster than Pink cab; although its profit is still higher in general. `Pink` cab had a steady decrease in profit margin. It seems customers takes cabs more often during winter times or when it's colder for both companies. The profit margin for `Yellow` cab increases during winter and spring and reaches its highest profit margin in May, then drops during summer and reaches its lowest in August. `Pink` cab had a steady increase in profit throughout Fall and Winter and drops slowly in Spring and reaches its lowest profit margin in May. It seems that it cost `Pink` cabs' more to run during sprin time. It seems that `Yellow` cabs' dominate customer groups are in cities have long summers and it cost more to run during the summer which complie with analysis in previous sections. The overall demand trend for cab service picks up during the weekend. The demand trend for `Yellow` cab sservice increased higher than Pink cab; also it decreased faster than Pink cab on Sunday. `Pink` cab had a steady increase in demand from Thursday and drops slightly on Sunday.\n",
    "\n",
    "`Yellow` cab has longer operating history, larger capacity, broader geographical service area, bigger customer base, higher average profit margin than Pink cab. `Pink` cab has lots of room to improve its profit margin, area of operations, and capacity."
   ]
  },
  {
   "cell_type": "markdown",
   "metadata": {},
   "source": [
    "### Recommendations"
   ]
  },
  {
   "cell_type": "markdown",
   "metadata": {},
   "source": [
    "### Purchase recommendation needs to be based on XYZ's budget. It is very likely that Yellow cab will cost a lot more to buy than Pink cab. However, there are advantages and disadvantages on purchasing both companies.\n",
    "\n",
    "#### If buy Yellow cab:\n",
    "\n",
    "    Pros: \n",
    "          Very established business\n",
    "          Longer operating history\n",
    "          Larger capacity\n",
    "          Broader geographical service area\n",
    "          Bigger customer base\n",
    "          Higher average profit margin\n",
    "    Cons: \n",
    "          Cost more to buy\n",
    "          Many old cars\n",
    "          Too many cars for regular maintenance to ensure service quality\n",
    "          High labor and management costs\n",
    "    Suggestions: \n",
    "          Find other sources of costs that drive down profit margin\n",
    "          Decrease number of old cars\n",
    "          Target higher income age group since they travel further provides higher profit margin\n",
    "          Decrease cab numbers during the summer since it cost more to run in summer\n",
    "          Increase cab numbers in cities with increasing demand for both cabs: Atlanta, Austin, Denver, Los Angeles, Miami, Orange County, Phoenix, Silicon Valley, Tucson\n",
    "          Increase cab numbers in cities with slower demand decrease: Denver, Chicago, DC\n",
    "\n",
    "\n",
    "#### If buy Pink cab:\n",
    "    Pros: \n",
    "          Cost less to buy\n",
    "          Younger company easier to reshape\n",
    "          Newer equipment and lower maintenance costs\n",
    "          Lower cost per KM to run\n",
    "          Lots of room to improve its profit margin, capacity, location\n",
    "    Cons: \n",
    "          Too many future plans to implement\n",
    "          Taking risks to carry out plans\n",
    "          Not as established\n",
    "    Suggestions: \n",
    "          Find other sources of costs that drive down profit margin\n",
    "          Emphasize it's cheaper to ride Pink or change marketing strategy to charge more\n",
    "          Increase the charges to customers in all cities especially in NY, Silicon Valley, Dallas\n",
    "          Increase the charges in long distance travel\n",
    "          Increase number of cabs could be competitive as Pink cabs generally cost less per km travelled\n",
    "          Target higher income age group since they travel farther\n",
    "          Increase cab numbers in cities with increasing demand for both cabs: Atlanta, Austin, Denver, Los Angeles, Miami, Orange County, Phoenix, Silicon Valley, Tucson\n",
    "          Increase cab numbers in cities with slower demand decrease: Denver, Chicago, DC\n",
    "          Rising charging rate during the weekend, increase cab numbers during the weekend"
   ]
  },
  {
   "cell_type": "code",
   "execution_count": null,
   "metadata": {},
   "outputs": [],
   "source": []
  },
  {
   "cell_type": "code",
   "execution_count": null,
   "metadata": {},
   "outputs": [],
   "source": []
  },
  {
   "cell_type": "code",
   "execution_count": null,
   "metadata": {},
   "outputs": [],
   "source": []
  }
 ],
 "metadata": {
  "colab": {
   "name": "G2M.ipynb",
   "provenance": []
  },
  "kernelspec": {
   "display_name": "Python 3 (ipykernel)",
   "language": "python",
   "name": "python3"
  },
  "language_info": {
   "codemirror_mode": {
    "name": "ipython",
    "version": 3
   },
   "file_extension": ".py",
   "mimetype": "text/x-python",
   "name": "python",
   "nbconvert_exporter": "python",
   "pygments_lexer": "ipython3",
   "version": "3.7.13"
  }
 },
 "nbformat": 4,
 "nbformat_minor": 4
}
