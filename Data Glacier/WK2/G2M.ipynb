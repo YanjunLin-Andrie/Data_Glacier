{
 "cells": [
  {
   "cell_type": "markdown",
   "metadata": {
    "id": "0FaAlnwkBgFA"
   },
   "source": [
    "# **Go-To-Market Strategy Analysis On Cab Company Investment**\n",
    "---"
   ]
  },
  {
   "cell_type": "markdown",
   "metadata": {},
   "source": [
    "## Project Description:\n",
    "\n",
    "\n",
    "#### XYZ is a private firm in US. Due to remarkable growth in the Cab Industry in last few years and multiple key players in the market, it is planning for an investment in Cab industry and as per their Go-to-Market(G2M) strategy they want to understand the market before taking final decision.\n",
    "\n",
    "\n",
    "## Data Set:\n",
    "\n",
    "#### You have been provided 4 individual data sets. Time period of data is from 31/01/2016 to 31/12/2018.\n",
    "\n",
    "Below are the list of datasets which are provided for the analysis:\n",
    "\n",
    "* Cab_Data.csv – this file includes details of transaction for 2 cab companies\n",
    "\n",
    "* Customer_ID.csv – this is a mapping table that contains a unique identifier which links the customer’s demographic details\n",
    "\n",
    "* Transaction_ID.csv – this is a mapping table that contains transaction to customer mapping and payment mode\n",
    "\n",
    "* City.csv – this file contains list of US cities, their population and number of cab users\n",
    "\n",
    "\n"
   ]
  },
  {
   "cell_type": "markdown",
   "metadata": {
    "id": "TkmV70CzCYq2"
   },
   "source": [
    "## Step 1. Data import, clean and analyze datasets"
   ]
  },
  {
   "cell_type": "code",
   "execution_count": 111,
   "metadata": {
    "id": "7clpofLYBcmO"
   },
   "outputs": [],
   "source": [
    "# Import all libraries and dependencies\n",
    "import pandas as pd\n",
    "import numpy as np\n",
    "import seaborn as sns\n",
    "from pathlib import Path\n",
    "import datetime\n",
    "import holoviews as hv\n",
    "import hvplot.pandas\n",
    "import xlrd\n",
    "import matplotlib.pyplot as plt"
   ]
  },
  {
   "cell_type": "markdown",
   "metadata": {},
   "source": [
    " "
   ]
  },
  {
   "cell_type": "markdown",
   "metadata": {},
   "source": [
    "### Imort and clean Cab Data"
   ]
  },
  {
   "cell_type": "code",
   "execution_count": 2,
   "metadata": {
    "colab": {
     "base_uri": "https://localhost:8080/",
     "height": 263,
     "resources": {
      "http://localhost:8080/nbextensions/google.colab/files.js": {
       "data": "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",
       "headers": [
        [
         "content-type",
         "application/javascript"
        ]
       ],
       "ok": true,
       "status": 200,
       "status_text": ""
      }
     }
    },
    "id": "c7xn8F67BcqI",
    "outputId": "808f1bbd-2a62-4216-e63c-54145c77387c"
   },
   "outputs": [
    {
     "data": {
      "text/html": [
       "<div>\n",
       "<style scoped>\n",
       "    .dataframe tbody tr th:only-of-type {\n",
       "        vertical-align: middle;\n",
       "    }\n",
       "\n",
       "    .dataframe tbody tr th {\n",
       "        vertical-align: top;\n",
       "    }\n",
       "\n",
       "    .dataframe thead th {\n",
       "        text-align: right;\n",
       "    }\n",
       "</style>\n",
       "<table border=\"1\" class=\"dataframe\">\n",
       "  <thead>\n",
       "    <tr style=\"text-align: right;\">\n",
       "      <th></th>\n",
       "      <th>Transaction ID</th>\n",
       "      <th>Date of Travel</th>\n",
       "      <th>Company</th>\n",
       "      <th>City</th>\n",
       "      <th>KM Travelled</th>\n",
       "      <th>Price Charged</th>\n",
       "      <th>Cost of Trip</th>\n",
       "    </tr>\n",
       "  </thead>\n",
       "  <tbody>\n",
       "    <tr>\n",
       "      <th>0</th>\n",
       "      <td>10000011</td>\n",
       "      <td>42377</td>\n",
       "      <td>Pink Cab</td>\n",
       "      <td>ATLANTA GA</td>\n",
       "      <td>30.45</td>\n",
       "      <td>370.95</td>\n",
       "      <td>313.635</td>\n",
       "    </tr>\n",
       "    <tr>\n",
       "      <th>1</th>\n",
       "      <td>10000012</td>\n",
       "      <td>42375</td>\n",
       "      <td>Pink Cab</td>\n",
       "      <td>ATLANTA GA</td>\n",
       "      <td>28.62</td>\n",
       "      <td>358.52</td>\n",
       "      <td>334.854</td>\n",
       "    </tr>\n",
       "    <tr>\n",
       "      <th>2</th>\n",
       "      <td>10000013</td>\n",
       "      <td>42371</td>\n",
       "      <td>Pink Cab</td>\n",
       "      <td>ATLANTA GA</td>\n",
       "      <td>9.04</td>\n",
       "      <td>125.20</td>\n",
       "      <td>97.632</td>\n",
       "    </tr>\n",
       "    <tr>\n",
       "      <th>3</th>\n",
       "      <td>10000014</td>\n",
       "      <td>42376</td>\n",
       "      <td>Pink Cab</td>\n",
       "      <td>ATLANTA GA</td>\n",
       "      <td>33.17</td>\n",
       "      <td>377.40</td>\n",
       "      <td>351.602</td>\n",
       "    </tr>\n",
       "    <tr>\n",
       "      <th>4</th>\n",
       "      <td>10000015</td>\n",
       "      <td>42372</td>\n",
       "      <td>Pink Cab</td>\n",
       "      <td>ATLANTA GA</td>\n",
       "      <td>8.73</td>\n",
       "      <td>114.62</td>\n",
       "      <td>97.776</td>\n",
       "    </tr>\n",
       "  </tbody>\n",
       "</table>\n",
       "</div>"
      ],
      "text/plain": [
       "   Transaction ID  Date of Travel   Company        City  KM Travelled  \\\n",
       "0        10000011           42377  Pink Cab  ATLANTA GA         30.45   \n",
       "1        10000012           42375  Pink Cab  ATLANTA GA         28.62   \n",
       "2        10000013           42371  Pink Cab  ATLANTA GA          9.04   \n",
       "3        10000014           42376  Pink Cab  ATLANTA GA         33.17   \n",
       "4        10000015           42372  Pink Cab  ATLANTA GA          8.73   \n",
       "\n",
       "   Price Charged  Cost of Trip  \n",
       "0         370.95       313.635  \n",
       "1         358.52       334.854  \n",
       "2         125.20        97.632  \n",
       "3         377.40       351.602  \n",
       "4         114.62        97.776  "
      ]
     },
     "metadata": {},
     "output_type": "display_data"
    },
    {
     "name": "stdout",
     "output_type": "stream",
     "text": [
      "Data shape:  (359392, 7)\n"
     ]
    }
   ],
   "source": [
    "# Upload datasets into notebook, then store in a Pandas DataFrame\n",
    "#read the file\n",
    "cab_df = pd.read_csv(Path('DataSets/Cab_Data.csv'))\n",
    "\n",
    "#print the head\n",
    "display(cab_df.head())\n",
    "print('Data shape: ',cab_df.shape)\n",
    "\n",
    "# If use google colab \n",
    "# from google.colab import files\n",
    "# uploaded = files.upload()"
   ]
  },
  {
   "cell_type": "code",
   "execution_count": 3,
   "metadata": {},
   "outputs": [
    {
     "name": "stdout",
     "output_type": "stream",
     "text": [
      "<class 'pandas.core.frame.DataFrame'>\n",
      "RangeIndex: 359392 entries, 0 to 359391\n",
      "Data columns (total 7 columns):\n",
      " #   Column          Non-Null Count   Dtype  \n",
      "---  ------          --------------   -----  \n",
      " 0   Transaction ID  359392 non-null  int64  \n",
      " 1   Date of Travel  359392 non-null  int64  \n",
      " 2   Company         359392 non-null  object \n",
      " 3   City            359392 non-null  object \n",
      " 4   KM Travelled    359392 non-null  float64\n",
      " 5   Price Charged   359392 non-null  float64\n",
      " 6   Cost of Trip    359392 non-null  float64\n",
      "dtypes: float64(3), int64(2), object(2)\n",
      "memory usage: 19.2+ MB\n"
     ]
    }
   ],
   "source": [
    "cab_df.info()"
   ]
  },
  {
   "cell_type": "code",
   "execution_count": 4,
   "metadata": {},
   "outputs": [
    {
     "data": {
      "text/html": [
       "<div>\n",
       "<style scoped>\n",
       "    .dataframe tbody tr th:only-of-type {\n",
       "        vertical-align: middle;\n",
       "    }\n",
       "\n",
       "    .dataframe tbody tr th {\n",
       "        vertical-align: top;\n",
       "    }\n",
       "\n",
       "    .dataframe thead th {\n",
       "        text-align: right;\n",
       "    }\n",
       "</style>\n",
       "<table border=\"1\" class=\"dataframe\">\n",
       "  <thead>\n",
       "    <tr style=\"text-align: right;\">\n",
       "      <th></th>\n",
       "      <th>Transaction ID</th>\n",
       "      <th>Date of Travel</th>\n",
       "      <th>Company</th>\n",
       "      <th>City</th>\n",
       "      <th>KM Travelled</th>\n",
       "      <th>Price Charged</th>\n",
       "      <th>Cost of Trip</th>\n",
       "    </tr>\n",
       "  </thead>\n",
       "  <tbody>\n",
       "    <tr>\n",
       "      <th>0</th>\n",
       "      <td>10000011</td>\n",
       "      <td>2016-01-08</td>\n",
       "      <td>Pink Cab</td>\n",
       "      <td>ATLANTA GA</td>\n",
       "      <td>30.45</td>\n",
       "      <td>370.95</td>\n",
       "      <td>313.635</td>\n",
       "    </tr>\n",
       "    <tr>\n",
       "      <th>1</th>\n",
       "      <td>10000012</td>\n",
       "      <td>2016-01-06</td>\n",
       "      <td>Pink Cab</td>\n",
       "      <td>ATLANTA GA</td>\n",
       "      <td>28.62</td>\n",
       "      <td>358.52</td>\n",
       "      <td>334.854</td>\n",
       "    </tr>\n",
       "    <tr>\n",
       "      <th>2</th>\n",
       "      <td>10000013</td>\n",
       "      <td>2016-01-02</td>\n",
       "      <td>Pink Cab</td>\n",
       "      <td>ATLANTA GA</td>\n",
       "      <td>9.04</td>\n",
       "      <td>125.20</td>\n",
       "      <td>97.632</td>\n",
       "    </tr>\n",
       "    <tr>\n",
       "      <th>3</th>\n",
       "      <td>10000014</td>\n",
       "      <td>2016-01-07</td>\n",
       "      <td>Pink Cab</td>\n",
       "      <td>ATLANTA GA</td>\n",
       "      <td>33.17</td>\n",
       "      <td>377.40</td>\n",
       "      <td>351.602</td>\n",
       "    </tr>\n",
       "    <tr>\n",
       "      <th>4</th>\n",
       "      <td>10000015</td>\n",
       "      <td>2016-01-03</td>\n",
       "      <td>Pink Cab</td>\n",
       "      <td>ATLANTA GA</td>\n",
       "      <td>8.73</td>\n",
       "      <td>114.62</td>\n",
       "      <td>97.776</td>\n",
       "    </tr>\n",
       "  </tbody>\n",
       "</table>\n",
       "</div>"
      ],
      "text/plain": [
       "   Transaction ID Date of Travel   Company        City  KM Travelled  \\\n",
       "0        10000011     2016-01-08  Pink Cab  ATLANTA GA         30.45   \n",
       "1        10000012     2016-01-06  Pink Cab  ATLANTA GA         28.62   \n",
       "2        10000013     2016-01-02  Pink Cab  ATLANTA GA          9.04   \n",
       "3        10000014     2016-01-07  Pink Cab  ATLANTA GA         33.17   \n",
       "4        10000015     2016-01-03  Pink Cab  ATLANTA GA          8.73   \n",
       "\n",
       "   Price Charged  Cost of Trip  \n",
       "0         370.95       313.635  \n",
       "1         358.52       334.854  \n",
       "2         125.20        97.632  \n",
       "3         377.40       351.602  \n",
       "4         114.62        97.776  "
      ]
     },
     "execution_count": 4,
     "metadata": {},
     "output_type": "execute_result"
    }
   ],
   "source": [
    "# Convert exel date to datetime format\n",
    "def convert_date(xl_date):\n",
    "    return xlrd.xldate.xldate_as_datetime(xl_date, 0)\n",
    "cab_df['Date of Travel'] = pd.to_datetime(cab_df['Date of Travel'].apply(convert_date), format='%Y-%m-%d')\n",
    "cab_df.head()"
   ]
  },
  {
   "cell_type": "code",
   "execution_count": 5,
   "metadata": {},
   "outputs": [
    {
     "data": {
      "text/plain": [
       "0"
      ]
     },
     "execution_count": 5,
     "metadata": {},
     "output_type": "execute_result"
    }
   ],
   "source": [
    "# Check duplicates\n",
    "cab_df.duplicated().sum()"
   ]
  },
  {
   "cell_type": "markdown",
   "metadata": {},
   "source": [
    "`There's no need to check null values, since dataframe shape shows that the cab_df has 359392 rows and the info table above shows all 7 culumns give 359392 non-null values.`"
   ]
  },
  {
   "cell_type": "code",
   "execution_count": 6,
   "metadata": {
    "id": "l3z8In8gQ9qi"
   },
   "outputs": [
    {
     "data": {
      "text/html": [
       "<div>\n",
       "<style scoped>\n",
       "    .dataframe tbody tr th:only-of-type {\n",
       "        vertical-align: middle;\n",
       "    }\n",
       "\n",
       "    .dataframe tbody tr th {\n",
       "        vertical-align: top;\n",
       "    }\n",
       "\n",
       "    .dataframe thead th {\n",
       "        text-align: right;\n",
       "    }\n",
       "</style>\n",
       "<table border=\"1\" class=\"dataframe\">\n",
       "  <thead>\n",
       "    <tr style=\"text-align: right;\">\n",
       "      <th></th>\n",
       "      <th>Transaction ID</th>\n",
       "      <th>KM Travelled</th>\n",
       "      <th>Price Charged</th>\n",
       "      <th>Cost of Trip</th>\n",
       "    </tr>\n",
       "  </thead>\n",
       "  <tbody>\n",
       "    <tr>\n",
       "      <th>count</th>\n",
       "      <td>3.593920e+05</td>\n",
       "      <td>359392.000000</td>\n",
       "      <td>359392.000000</td>\n",
       "      <td>359392.000000</td>\n",
       "    </tr>\n",
       "    <tr>\n",
       "      <th>mean</th>\n",
       "      <td>1.022076e+07</td>\n",
       "      <td>22.567254</td>\n",
       "      <td>423.443311</td>\n",
       "      <td>286.190113</td>\n",
       "    </tr>\n",
       "    <tr>\n",
       "      <th>std</th>\n",
       "      <td>1.268058e+05</td>\n",
       "      <td>12.233526</td>\n",
       "      <td>274.378911</td>\n",
       "      <td>157.993661</td>\n",
       "    </tr>\n",
       "    <tr>\n",
       "      <th>min</th>\n",
       "      <td>1.000001e+07</td>\n",
       "      <td>1.900000</td>\n",
       "      <td>15.600000</td>\n",
       "      <td>19.000000</td>\n",
       "    </tr>\n",
       "    <tr>\n",
       "      <th>25%</th>\n",
       "      <td>1.011081e+07</td>\n",
       "      <td>12.000000</td>\n",
       "      <td>206.437500</td>\n",
       "      <td>151.200000</td>\n",
       "    </tr>\n",
       "    <tr>\n",
       "      <th>50%</th>\n",
       "      <td>1.022104e+07</td>\n",
       "      <td>22.440000</td>\n",
       "      <td>386.360000</td>\n",
       "      <td>282.480000</td>\n",
       "    </tr>\n",
       "    <tr>\n",
       "      <th>75%</th>\n",
       "      <td>1.033094e+07</td>\n",
       "      <td>32.960000</td>\n",
       "      <td>583.660000</td>\n",
       "      <td>413.683200</td>\n",
       "    </tr>\n",
       "    <tr>\n",
       "      <th>max</th>\n",
       "      <td>1.044011e+07</td>\n",
       "      <td>48.000000</td>\n",
       "      <td>2048.030000</td>\n",
       "      <td>691.200000</td>\n",
       "    </tr>\n",
       "  </tbody>\n",
       "</table>\n",
       "</div>"
      ],
      "text/plain": [
       "       Transaction ID   KM Travelled  Price Charged   Cost of Trip\n",
       "count    3.593920e+05  359392.000000  359392.000000  359392.000000\n",
       "mean     1.022076e+07      22.567254     423.443311     286.190113\n",
       "std      1.268058e+05      12.233526     274.378911     157.993661\n",
       "min      1.000001e+07       1.900000      15.600000      19.000000\n",
       "25%      1.011081e+07      12.000000     206.437500     151.200000\n",
       "50%      1.022104e+07      22.440000     386.360000     282.480000\n",
       "75%      1.033094e+07      32.960000     583.660000     413.683200\n",
       "max      1.044011e+07      48.000000    2048.030000     691.200000"
      ]
     },
     "execution_count": 6,
     "metadata": {},
     "output_type": "execute_result"
    }
   ],
   "source": [
    "# Summarize view of columns with numirical information\n",
    "cab_df.describe()"
   ]
  },
  {
   "cell_type": "code",
   "execution_count": 7,
   "metadata": {},
   "outputs": [
    {
     "data": {
      "text/plain": [
       "array(['Pink Cab', 'Yellow Cab'], dtype=object)"
      ]
     },
     "metadata": {},
     "output_type": "display_data"
    },
    {
     "data": {
      "text/plain": [
       "array(['ATLANTA GA', 'AUSTIN TX', 'BOSTON MA', 'CHICAGO IL', 'DALLAS TX',\n",
       "       'DENVER CO', 'LOS ANGELES CA', 'MIAMI FL', 'NASHVILLE TN',\n",
       "       'NEW YORK NY', 'ORANGE COUNTY', 'PHOENIX AZ', 'PITTSBURGH PA',\n",
       "       'SACRAMENTO CA', 'SAN DIEGO CA', 'SEATTLE WA', 'SILICON VALLEY',\n",
       "       'TUCSON AZ', 'WASHINGTON DC'], dtype=object)"
      ]
     },
     "metadata": {},
     "output_type": "display_data"
    }
   ],
   "source": [
    "# Check unique values\n",
    "display(cab_df['Company'].unique())\n",
    "display(cab_df['City'].unique())"
   ]
  },
  {
   "cell_type": "code",
   "execution_count": 8,
   "metadata": {},
   "outputs": [
    {
     "data": {
      "text/plain": [
       "NEW YORK NY       99885\n",
       "CHICAGO IL        56625\n",
       "LOS ANGELES CA    48033\n",
       "WASHINGTON DC     43737\n",
       "BOSTON MA         29692\n",
       "SAN DIEGO CA      20488\n",
       "SILICON VALLEY     8519\n",
       "SEATTLE WA         7997\n",
       "ATLANTA GA         7557\n",
       "DALLAS TX          7017\n",
       "MIAMI FL           6454\n",
       "AUSTIN TX          4896\n",
       "ORANGE COUNTY      3982\n",
       "DENVER CO          3825\n",
       "NASHVILLE TN       3010\n",
       "SACRAMENTO CA      2367\n",
       "PHOENIX AZ         2064\n",
       "TUCSON AZ          1931\n",
       "PITTSBURGH PA      1313\n",
       "Name: City, dtype: int64"
      ]
     },
     "execution_count": 8,
     "metadata": {},
     "output_type": "execute_result"
    }
   ],
   "source": [
    "# City counts\n",
    "cab_df['City'].value_counts()"
   ]
  },
  {
   "cell_type": "markdown",
   "metadata": {},
   "source": [
    "  \n",
    " "
   ]
  },
  {
   "cell_type": "markdown",
   "metadata": {},
   "source": [
    "### Imort and clean City Data"
   ]
  },
  {
   "cell_type": "code",
   "execution_count": 9,
   "metadata": {},
   "outputs": [
    {
     "data": {
      "text/html": [
       "<div>\n",
       "<style scoped>\n",
       "    .dataframe tbody tr th:only-of-type {\n",
       "        vertical-align: middle;\n",
       "    }\n",
       "\n",
       "    .dataframe tbody tr th {\n",
       "        vertical-align: top;\n",
       "    }\n",
       "\n",
       "    .dataframe thead th {\n",
       "        text-align: right;\n",
       "    }\n",
       "</style>\n",
       "<table border=\"1\" class=\"dataframe\">\n",
       "  <thead>\n",
       "    <tr style=\"text-align: right;\">\n",
       "      <th></th>\n",
       "      <th>City</th>\n",
       "      <th>Population</th>\n",
       "      <th>Users</th>\n",
       "    </tr>\n",
       "  </thead>\n",
       "  <tbody>\n",
       "    <tr>\n",
       "      <th>0</th>\n",
       "      <td>NEW YORK NY</td>\n",
       "      <td>8,405,837</td>\n",
       "      <td>302,149</td>\n",
       "    </tr>\n",
       "    <tr>\n",
       "      <th>1</th>\n",
       "      <td>CHICAGO IL</td>\n",
       "      <td>1,955,130</td>\n",
       "      <td>164,468</td>\n",
       "    </tr>\n",
       "    <tr>\n",
       "      <th>2</th>\n",
       "      <td>LOS ANGELES CA</td>\n",
       "      <td>1,595,037</td>\n",
       "      <td>144,132</td>\n",
       "    </tr>\n",
       "    <tr>\n",
       "      <th>3</th>\n",
       "      <td>MIAMI FL</td>\n",
       "      <td>1,339,155</td>\n",
       "      <td>17,675</td>\n",
       "    </tr>\n",
       "    <tr>\n",
       "      <th>4</th>\n",
       "      <td>SILICON VALLEY</td>\n",
       "      <td>1,177,609</td>\n",
       "      <td>27,247</td>\n",
       "    </tr>\n",
       "  </tbody>\n",
       "</table>\n",
       "</div>"
      ],
      "text/plain": [
       "             City   Population      Users\n",
       "0     NEW YORK NY   8,405,837    302,149 \n",
       "1      CHICAGO IL   1,955,130    164,468 \n",
       "2  LOS ANGELES CA   1,595,037    144,132 \n",
       "3        MIAMI FL   1,339,155     17,675 \n",
       "4  SILICON VALLEY   1,177,609     27,247 "
      ]
     },
     "metadata": {},
     "output_type": "display_data"
    },
    {
     "name": "stdout",
     "output_type": "stream",
     "text": [
      "Data shape:  (20, 3)\n"
     ]
    }
   ],
   "source": [
    "# Upload datasets into notebook, then store in a Pandas DataFrame\n",
    "#read the file\n",
    "city_df = pd.read_csv(Path('DataSets/City.csv'))\n",
    "\n",
    "#print the head\n",
    "display(city_df.head())\n",
    "print('Data shape: ',city_df.shape)"
   ]
  },
  {
   "cell_type": "markdown",
   "metadata": {},
   "source": [
    "> <b> Please notice: San Francisco is in the City Data dataframe but there's no San Francisco data in the Cab dataframe </b>"
   ]
  },
  {
   "cell_type": "code",
   "execution_count": 10,
   "metadata": {},
   "outputs": [
    {
     "name": "stdout",
     "output_type": "stream",
     "text": [
      "<class 'pandas.core.frame.DataFrame'>\n",
      "RangeIndex: 20 entries, 0 to 19\n",
      "Data columns (total 3 columns):\n",
      " #   Column      Non-Null Count  Dtype \n",
      "---  ------      --------------  ----- \n",
      " 0   City        20 non-null     object\n",
      " 1   Population  20 non-null     object\n",
      " 2   Users       20 non-null     object\n",
      "dtypes: object(3)\n",
      "memory usage: 608.0+ bytes\n"
     ]
    }
   ],
   "source": [
    "city_df.info()"
   ]
  },
  {
   "cell_type": "code",
   "execution_count": 11,
   "metadata": {},
   "outputs": [
    {
     "data": {
      "text/plain": [
       "0"
      ]
     },
     "execution_count": 11,
     "metadata": {},
     "output_type": "execute_result"
    }
   ],
   "source": [
    "# Check duplicates\n",
    "city_df.duplicated().sum()"
   ]
  },
  {
   "cell_type": "markdown",
   "metadata": {},
   "source": [
    "`There's no need to check null values, since dataframe shape shows that the city_df has 20 rows and the info table above shows all 3 culumns give 20 non-null values.`"
   ]
  },
  {
   "cell_type": "code",
   "execution_count": 12,
   "metadata": {},
   "outputs": [
    {
     "data": {
      "text/html": [
       "<div>\n",
       "<style scoped>\n",
       "    .dataframe tbody tr th:only-of-type {\n",
       "        vertical-align: middle;\n",
       "    }\n",
       "\n",
       "    .dataframe tbody tr th {\n",
       "        vertical-align: top;\n",
       "    }\n",
       "\n",
       "    .dataframe thead th {\n",
       "        text-align: right;\n",
       "    }\n",
       "</style>\n",
       "<table border=\"1\" class=\"dataframe\">\n",
       "  <thead>\n",
       "    <tr style=\"text-align: right;\">\n",
       "      <th></th>\n",
       "      <th>City</th>\n",
       "      <th>Population</th>\n",
       "      <th>Users</th>\n",
       "    </tr>\n",
       "  </thead>\n",
       "  <tbody>\n",
       "    <tr>\n",
       "      <th>count</th>\n",
       "      <td>20</td>\n",
       "      <td>20</td>\n",
       "      <td>20</td>\n",
       "    </tr>\n",
       "    <tr>\n",
       "      <th>unique</th>\n",
       "      <td>20</td>\n",
       "      <td>20</td>\n",
       "      <td>20</td>\n",
       "    </tr>\n",
       "    <tr>\n",
       "      <th>top</th>\n",
       "      <td>NEW YORK NY</td>\n",
       "      <td>8,405,837</td>\n",
       "      <td>302,149</td>\n",
       "    </tr>\n",
       "    <tr>\n",
       "      <th>freq</th>\n",
       "      <td>1</td>\n",
       "      <td>1</td>\n",
       "      <td>1</td>\n",
       "    </tr>\n",
       "  </tbody>\n",
       "</table>\n",
       "</div>"
      ],
      "text/plain": [
       "               City   Population      Users\n",
       "count            20           20         20\n",
       "unique           20           20         20\n",
       "top     NEW YORK NY   8,405,837    302,149 \n",
       "freq              1            1          1"
      ]
     },
     "execution_count": 12,
     "metadata": {},
     "output_type": "execute_result"
    }
   ],
   "source": [
    "# Summarized view of city dataframe\n",
    "city_df.describe()"
   ]
  },
  {
   "cell_type": "code",
   "execution_count": 13,
   "metadata": {},
   "outputs": [
    {
     "data": {
      "text/plain": [
       "City          object\n",
       "Population     int64\n",
       "Users          int64\n",
       "dtype: object"
      ]
     },
     "execution_count": 13,
     "metadata": {},
     "output_type": "execute_result"
    }
   ],
   "source": [
    "# Change data types for Population and Users columns to int\n",
    "city_df['Population'] = [x.replace(',','') for x in city_df['Population']]\n",
    "city_df['Population'] = city_df['Population'].astype(int)\n",
    "\n",
    "city_df['Users'] = [x.replace(',','') for x in city_df['Users']]\n",
    "city_df['Users'] = city_df['Users'].astype(int)\n",
    "\n",
    "city_df.dtypes"
   ]
  },
  {
   "cell_type": "code",
   "execution_count": 14,
   "metadata": {},
   "outputs": [
    {
     "data": {
      "text/html": [
       "<div>\n",
       "<style scoped>\n",
       "    .dataframe tbody tr th:only-of-type {\n",
       "        vertical-align: middle;\n",
       "    }\n",
       "\n",
       "    .dataframe tbody tr th {\n",
       "        vertical-align: top;\n",
       "    }\n",
       "\n",
       "    .dataframe thead th {\n",
       "        text-align: right;\n",
       "    }\n",
       "</style>\n",
       "<table border=\"1\" class=\"dataframe\">\n",
       "  <thead>\n",
       "    <tr style=\"text-align: right;\">\n",
       "      <th></th>\n",
       "      <th>Population</th>\n",
       "      <th>Users</th>\n",
       "    </tr>\n",
       "  </thead>\n",
       "  <tbody>\n",
       "    <tr>\n",
       "      <th>count</th>\n",
       "      <td>2.000000e+01</td>\n",
       "      <td>20.000000</td>\n",
       "    </tr>\n",
       "    <tr>\n",
       "      <th>mean</th>\n",
       "      <td>1.231592e+06</td>\n",
       "      <td>64520.650000</td>\n",
       "    </tr>\n",
       "    <tr>\n",
       "      <th>std</th>\n",
       "      <td>1.740127e+06</td>\n",
       "      <td>83499.375289</td>\n",
       "    </tr>\n",
       "    <tr>\n",
       "      <th>min</th>\n",
       "      <td>2.489680e+05</td>\n",
       "      <td>3643.000000</td>\n",
       "    </tr>\n",
       "    <tr>\n",
       "      <th>25%</th>\n",
       "      <td>6.086372e+05</td>\n",
       "      <td>11633.250000</td>\n",
       "    </tr>\n",
       "    <tr>\n",
       "      <th>50%</th>\n",
       "      <td>7.845590e+05</td>\n",
       "      <td>23429.000000</td>\n",
       "    </tr>\n",
       "    <tr>\n",
       "      <th>75%</th>\n",
       "      <td>1.067041e+06</td>\n",
       "      <td>91766.000000</td>\n",
       "    </tr>\n",
       "    <tr>\n",
       "      <th>max</th>\n",
       "      <td>8.405837e+06</td>\n",
       "      <td>302149.000000</td>\n",
       "    </tr>\n",
       "  </tbody>\n",
       "</table>\n",
       "</div>"
      ],
      "text/plain": [
       "         Population          Users\n",
       "count  2.000000e+01      20.000000\n",
       "mean   1.231592e+06   64520.650000\n",
       "std    1.740127e+06   83499.375289\n",
       "min    2.489680e+05    3643.000000\n",
       "25%    6.086372e+05   11633.250000\n",
       "50%    7.845590e+05   23429.000000\n",
       "75%    1.067041e+06   91766.000000\n",
       "max    8.405837e+06  302149.000000"
      ]
     },
     "execution_count": 14,
     "metadata": {},
     "output_type": "execute_result"
    }
   ],
   "source": [
    "# Summarize view of columns with numirical information\n",
    "city_df.describe()"
   ]
  },
  {
   "cell_type": "markdown",
   "metadata": {},
   "source": [
    "     "
   ]
  },
  {
   "cell_type": "markdown",
   "metadata": {},
   "source": [
    "### Imort and clean Customer ID Data"
   ]
  },
  {
   "cell_type": "code",
   "execution_count": 17,
   "metadata": {},
   "outputs": [
    {
     "data": {
      "text/html": [
       "<div>\n",
       "<style scoped>\n",
       "    .dataframe tbody tr th:only-of-type {\n",
       "        vertical-align: middle;\n",
       "    }\n",
       "\n",
       "    .dataframe tbody tr th {\n",
       "        vertical-align: top;\n",
       "    }\n",
       "\n",
       "    .dataframe thead th {\n",
       "        text-align: right;\n",
       "    }\n",
       "</style>\n",
       "<table border=\"1\" class=\"dataframe\">\n",
       "  <thead>\n",
       "    <tr style=\"text-align: right;\">\n",
       "      <th></th>\n",
       "      <th>Customer ID</th>\n",
       "      <th>Gender</th>\n",
       "      <th>Age</th>\n",
       "      <th>Income (USD/Month)</th>\n",
       "    </tr>\n",
       "  </thead>\n",
       "  <tbody>\n",
       "    <tr>\n",
       "      <th>0</th>\n",
       "      <td>29290</td>\n",
       "      <td>Male</td>\n",
       "      <td>28</td>\n",
       "      <td>10813</td>\n",
       "    </tr>\n",
       "    <tr>\n",
       "      <th>1</th>\n",
       "      <td>27703</td>\n",
       "      <td>Male</td>\n",
       "      <td>27</td>\n",
       "      <td>9237</td>\n",
       "    </tr>\n",
       "    <tr>\n",
       "      <th>2</th>\n",
       "      <td>28712</td>\n",
       "      <td>Male</td>\n",
       "      <td>53</td>\n",
       "      <td>11242</td>\n",
       "    </tr>\n",
       "    <tr>\n",
       "      <th>3</th>\n",
       "      <td>28020</td>\n",
       "      <td>Male</td>\n",
       "      <td>23</td>\n",
       "      <td>23327</td>\n",
       "    </tr>\n",
       "    <tr>\n",
       "      <th>4</th>\n",
       "      <td>27182</td>\n",
       "      <td>Male</td>\n",
       "      <td>33</td>\n",
       "      <td>8536</td>\n",
       "    </tr>\n",
       "  </tbody>\n",
       "</table>\n",
       "</div>"
      ],
      "text/plain": [
       "   Customer ID Gender  Age  Income (USD/Month)\n",
       "0        29290   Male   28               10813\n",
       "1        27703   Male   27                9237\n",
       "2        28712   Male   53               11242\n",
       "3        28020   Male   23               23327\n",
       "4        27182   Male   33                8536"
      ]
     },
     "metadata": {},
     "output_type": "display_data"
    },
    {
     "name": "stdout",
     "output_type": "stream",
     "text": [
      "Data shape:  (49171, 4)\n"
     ]
    }
   ],
   "source": [
    "# Upload datasets into notebook, then store in a Pandas DataFrame\n",
    "#read the file\n",
    "customer_id_df = pd.read_csv(Path('DataSets/Customer_ID.csv'))\n",
    "\n",
    "#print the head\n",
    "display(customer_id_df.head())\n",
    "print('Data shape: ',customer_id_df.shape)"
   ]
  },
  {
   "cell_type": "code",
   "execution_count": 18,
   "metadata": {},
   "outputs": [
    {
     "name": "stdout",
     "output_type": "stream",
     "text": [
      "<class 'pandas.core.frame.DataFrame'>\n",
      "RangeIndex: 49171 entries, 0 to 49170\n",
      "Data columns (total 4 columns):\n",
      " #   Column              Non-Null Count  Dtype \n",
      "---  ------              --------------  ----- \n",
      " 0   Customer ID         49171 non-null  int64 \n",
      " 1   Gender              49171 non-null  object\n",
      " 2   Age                 49171 non-null  int64 \n",
      " 3   Income (USD/Month)  49171 non-null  int64 \n",
      "dtypes: int64(3), object(1)\n",
      "memory usage: 1.5+ MB\n"
     ]
    }
   ],
   "source": [
    "customer_id_df.info()"
   ]
  },
  {
   "cell_type": "code",
   "execution_count": 19,
   "metadata": {},
   "outputs": [
    {
     "data": {
      "text/plain": [
       "0"
      ]
     },
     "execution_count": 19,
     "metadata": {},
     "output_type": "execute_result"
    }
   ],
   "source": [
    "# Check duplicates\n",
    "customer_id_df.duplicated().sum()"
   ]
  },
  {
   "cell_type": "markdown",
   "metadata": {},
   "source": [
    "`There's no need to check null values, since dataframe shape shows that the customer_id_df has 49171 rows and the info table above shows all 4 culumns give 49171 non-null values.`"
   ]
  },
  {
   "cell_type": "code",
   "execution_count": 20,
   "metadata": {},
   "outputs": [
    {
     "data": {
      "text/html": [
       "<div>\n",
       "<style scoped>\n",
       "    .dataframe tbody tr th:only-of-type {\n",
       "        vertical-align: middle;\n",
       "    }\n",
       "\n",
       "    .dataframe tbody tr th {\n",
       "        vertical-align: top;\n",
       "    }\n",
       "\n",
       "    .dataframe thead th {\n",
       "        text-align: right;\n",
       "    }\n",
       "</style>\n",
       "<table border=\"1\" class=\"dataframe\">\n",
       "  <thead>\n",
       "    <tr style=\"text-align: right;\">\n",
       "      <th></th>\n",
       "      <th>Age</th>\n",
       "      <th>Income (USD/Month)</th>\n",
       "    </tr>\n",
       "  </thead>\n",
       "  <tbody>\n",
       "    <tr>\n",
       "      <th>count</th>\n",
       "      <td>49171.000000</td>\n",
       "      <td>49171.000000</td>\n",
       "    </tr>\n",
       "    <tr>\n",
       "      <th>mean</th>\n",
       "      <td>35.363121</td>\n",
       "      <td>15015.631856</td>\n",
       "    </tr>\n",
       "    <tr>\n",
       "      <th>std</th>\n",
       "      <td>12.599066</td>\n",
       "      <td>8002.208253</td>\n",
       "    </tr>\n",
       "    <tr>\n",
       "      <th>min</th>\n",
       "      <td>18.000000</td>\n",
       "      <td>2000.000000</td>\n",
       "    </tr>\n",
       "    <tr>\n",
       "      <th>25%</th>\n",
       "      <td>25.000000</td>\n",
       "      <td>8289.500000</td>\n",
       "    </tr>\n",
       "    <tr>\n",
       "      <th>50%</th>\n",
       "      <td>33.000000</td>\n",
       "      <td>14656.000000</td>\n",
       "    </tr>\n",
       "    <tr>\n",
       "      <th>75%</th>\n",
       "      <td>42.000000</td>\n",
       "      <td>21035.000000</td>\n",
       "    </tr>\n",
       "    <tr>\n",
       "      <th>max</th>\n",
       "      <td>65.000000</td>\n",
       "      <td>35000.000000</td>\n",
       "    </tr>\n",
       "  </tbody>\n",
       "</table>\n",
       "</div>"
      ],
      "text/plain": [
       "                Age  Income (USD/Month)\n",
       "count  49171.000000        49171.000000\n",
       "mean      35.363121        15015.631856\n",
       "std       12.599066         8002.208253\n",
       "min       18.000000         2000.000000\n",
       "25%       25.000000         8289.500000\n",
       "50%       33.000000        14656.000000\n",
       "75%       42.000000        21035.000000\n",
       "max       65.000000        35000.000000"
      ]
     },
     "execution_count": 20,
     "metadata": {},
     "output_type": "execute_result"
    }
   ],
   "source": [
    "# Summarized view of numirical columns in customer ID dataframe\n",
    "customer_id_df[['Age','Income (USD/Month)']].describe()"
   ]
  },
  {
   "cell_type": "code",
   "execution_count": 21,
   "metadata": {},
   "outputs": [
    {
     "data": {
      "text/plain": [
       "Male      26562\n",
       "Female    22609\n",
       "Name: Gender, dtype: int64"
      ]
     },
     "execution_count": 21,
     "metadata": {},
     "output_type": "execute_result"
    }
   ],
   "source": [
    "# Customer gender counts\n",
    "customer_id_df['Gender'].value_counts()"
   ]
  },
  {
   "cell_type": "markdown",
   "metadata": {},
   "source": [
    "             "
   ]
  },
  {
   "cell_type": "markdown",
   "metadata": {},
   "source": [
    "### Imort and clean Transaction ID Data"
   ]
  },
  {
   "cell_type": "code",
   "execution_count": 22,
   "metadata": {},
   "outputs": [
    {
     "data": {
      "text/html": [
       "<div>\n",
       "<style scoped>\n",
       "    .dataframe tbody tr th:only-of-type {\n",
       "        vertical-align: middle;\n",
       "    }\n",
       "\n",
       "    .dataframe tbody tr th {\n",
       "        vertical-align: top;\n",
       "    }\n",
       "\n",
       "    .dataframe thead th {\n",
       "        text-align: right;\n",
       "    }\n",
       "</style>\n",
       "<table border=\"1\" class=\"dataframe\">\n",
       "  <thead>\n",
       "    <tr style=\"text-align: right;\">\n",
       "      <th></th>\n",
       "      <th>Transaction ID</th>\n",
       "      <th>Customer ID</th>\n",
       "      <th>Payment_Mode</th>\n",
       "    </tr>\n",
       "  </thead>\n",
       "  <tbody>\n",
       "    <tr>\n",
       "      <th>0</th>\n",
       "      <td>10000011</td>\n",
       "      <td>29290</td>\n",
       "      <td>Card</td>\n",
       "    </tr>\n",
       "    <tr>\n",
       "      <th>1</th>\n",
       "      <td>10000012</td>\n",
       "      <td>27703</td>\n",
       "      <td>Card</td>\n",
       "    </tr>\n",
       "    <tr>\n",
       "      <th>2</th>\n",
       "      <td>10000013</td>\n",
       "      <td>28712</td>\n",
       "      <td>Cash</td>\n",
       "    </tr>\n",
       "    <tr>\n",
       "      <th>3</th>\n",
       "      <td>10000014</td>\n",
       "      <td>28020</td>\n",
       "      <td>Cash</td>\n",
       "    </tr>\n",
       "    <tr>\n",
       "      <th>4</th>\n",
       "      <td>10000015</td>\n",
       "      <td>27182</td>\n",
       "      <td>Card</td>\n",
       "    </tr>\n",
       "  </tbody>\n",
       "</table>\n",
       "</div>"
      ],
      "text/plain": [
       "   Transaction ID  Customer ID Payment_Mode\n",
       "0        10000011        29290         Card\n",
       "1        10000012        27703         Card\n",
       "2        10000013        28712         Cash\n",
       "3        10000014        28020         Cash\n",
       "4        10000015        27182         Card"
      ]
     },
     "metadata": {},
     "output_type": "display_data"
    },
    {
     "name": "stdout",
     "output_type": "stream",
     "text": [
      "Data shape:  (440098, 3)\n"
     ]
    }
   ],
   "source": [
    "# Upload datasets into notebook, then store in a Pandas DataFrame\n",
    "#read the file\n",
    "tran_id_df = pd.read_csv(Path('DataSets/Transaction_ID.csv'))\n",
    "\n",
    "#print the head\n",
    "display(tran_id_df.head())\n",
    "print('Data shape: ',tran_id_df.shape)"
   ]
  },
  {
   "cell_type": "code",
   "execution_count": 23,
   "metadata": {},
   "outputs": [
    {
     "name": "stdout",
     "output_type": "stream",
     "text": [
      "<class 'pandas.core.frame.DataFrame'>\n",
      "RangeIndex: 440098 entries, 0 to 440097\n",
      "Data columns (total 3 columns):\n",
      " #   Column          Non-Null Count   Dtype \n",
      "---  ------          --------------   ----- \n",
      " 0   Transaction ID  440098 non-null  int64 \n",
      " 1   Customer ID     440098 non-null  int64 \n",
      " 2   Payment_Mode    440098 non-null  object\n",
      "dtypes: int64(2), object(1)\n",
      "memory usage: 10.1+ MB\n"
     ]
    }
   ],
   "source": [
    "tran_id_df.info()"
   ]
  },
  {
   "cell_type": "code",
   "execution_count": 24,
   "metadata": {},
   "outputs": [
    {
     "data": {
      "text/plain": [
       "0"
      ]
     },
     "execution_count": 24,
     "metadata": {},
     "output_type": "execute_result"
    }
   ],
   "source": [
    "# Check duplicates\n",
    "tran_id_df.duplicated().sum()"
   ]
  },
  {
   "cell_type": "markdown",
   "metadata": {},
   "source": [
    "`There's no need to check null values, since dataframe shape shows that the customer_id_df has 440098 rows and the info table above shows all 3 culumns give 440098 non-null values.`"
   ]
  },
  {
   "cell_type": "code",
   "execution_count": 25,
   "metadata": {},
   "outputs": [
    {
     "data": {
      "text/plain": [
       "Card    263991\n",
       "Cash    176107\n",
       "Name: Payment_Mode, dtype: int64"
      ]
     },
     "execution_count": 25,
     "metadata": {},
     "output_type": "execute_result"
    }
   ],
   "source": [
    "# Summarized view of Payment type in Transaction ID dataframe\n",
    "tran_id_df['Payment_Mode'].value_counts()"
   ]
  },
  {
   "cell_type": "markdown",
   "metadata": {},
   "source": [
    "             "
   ]
  },
  {
   "cell_type": "markdown",
   "metadata": {},
   "source": [
    "### Merge data"
   ]
  },
  {
   "cell_type": "code",
   "execution_count": 26,
   "metadata": {},
   "outputs": [
    {
     "name": "stdout",
     "output_type": "stream",
     "text": [
      "Index(['Transaction ID', 'Date of Travel', 'Company', 'City', 'KM Travelled',\n",
      "       'Price Charged', 'Cost of Trip'],\n",
      "      dtype='object')\n",
      "Index(['City', 'Population', 'Users'], dtype='object')\n",
      "Index(['Customer ID', 'Gender', 'Age', 'Income (USD/Month)'], dtype='object')\n",
      "Index(['Transaction ID', 'Customer ID', 'Payment_Mode'], dtype='object')\n"
     ]
    }
   ],
   "source": [
    "# Print culumns of each data frame\n",
    "print(cab_df.columns)\n",
    "print(city_df.columns)\n",
    "print(customer_id_df.columns)\n",
    "print(tran_id_df.columns)"
   ]
  },
  {
   "cell_type": "code",
   "execution_count": 27,
   "metadata": {},
   "outputs": [
    {
     "data": {
      "text/html": [
       "<div>\n",
       "<style scoped>\n",
       "    .dataframe tbody tr th:only-of-type {\n",
       "        vertical-align: middle;\n",
       "    }\n",
       "\n",
       "    .dataframe tbody tr th {\n",
       "        vertical-align: top;\n",
       "    }\n",
       "\n",
       "    .dataframe thead th {\n",
       "        text-align: right;\n",
       "    }\n",
       "</style>\n",
       "<table border=\"1\" class=\"dataframe\">\n",
       "  <thead>\n",
       "    <tr style=\"text-align: right;\">\n",
       "      <th></th>\n",
       "      <th>Transaction ID</th>\n",
       "      <th>Date of Travel</th>\n",
       "      <th>Company</th>\n",
       "      <th>City</th>\n",
       "      <th>KM Travelled</th>\n",
       "      <th>Price Charged</th>\n",
       "      <th>Cost of Trip</th>\n",
       "      <th>Customer ID</th>\n",
       "      <th>Payment_Mode</th>\n",
       "      <th>Gender</th>\n",
       "      <th>Age</th>\n",
       "      <th>Income (USD/Month)</th>\n",
       "      <th>Population</th>\n",
       "      <th>Users</th>\n",
       "    </tr>\n",
       "  </thead>\n",
       "  <tbody>\n",
       "    <tr>\n",
       "      <th>0</th>\n",
       "      <td>10000011</td>\n",
       "      <td>2016-01-08</td>\n",
       "      <td>Pink Cab</td>\n",
       "      <td>ATLANTA GA</td>\n",
       "      <td>30.45</td>\n",
       "      <td>370.95</td>\n",
       "      <td>313.6350</td>\n",
       "      <td>29290</td>\n",
       "      <td>Card</td>\n",
       "      <td>Male</td>\n",
       "      <td>28</td>\n",
       "      <td>10813</td>\n",
       "      <td>814885</td>\n",
       "      <td>24701</td>\n",
       "    </tr>\n",
       "    <tr>\n",
       "      <th>1</th>\n",
       "      <td>10351127</td>\n",
       "      <td>2018-07-21</td>\n",
       "      <td>Yellow Cab</td>\n",
       "      <td>ATLANTA GA</td>\n",
       "      <td>26.19</td>\n",
       "      <td>598.70</td>\n",
       "      <td>317.4228</td>\n",
       "      <td>29290</td>\n",
       "      <td>Cash</td>\n",
       "      <td>Male</td>\n",
       "      <td>28</td>\n",
       "      <td>10813</td>\n",
       "      <td>814885</td>\n",
       "      <td>24701</td>\n",
       "    </tr>\n",
       "    <tr>\n",
       "      <th>2</th>\n",
       "      <td>10412921</td>\n",
       "      <td>2018-11-23</td>\n",
       "      <td>Yellow Cab</td>\n",
       "      <td>ATLANTA GA</td>\n",
       "      <td>42.55</td>\n",
       "      <td>792.05</td>\n",
       "      <td>597.4020</td>\n",
       "      <td>29290</td>\n",
       "      <td>Card</td>\n",
       "      <td>Male</td>\n",
       "      <td>28</td>\n",
       "      <td>10813</td>\n",
       "      <td>814885</td>\n",
       "      <td>24701</td>\n",
       "    </tr>\n",
       "    <tr>\n",
       "      <th>3</th>\n",
       "      <td>10000012</td>\n",
       "      <td>2016-01-06</td>\n",
       "      <td>Pink Cab</td>\n",
       "      <td>ATLANTA GA</td>\n",
       "      <td>28.62</td>\n",
       "      <td>358.52</td>\n",
       "      <td>334.8540</td>\n",
       "      <td>27703</td>\n",
       "      <td>Card</td>\n",
       "      <td>Male</td>\n",
       "      <td>27</td>\n",
       "      <td>9237</td>\n",
       "      <td>814885</td>\n",
       "      <td>24701</td>\n",
       "    </tr>\n",
       "    <tr>\n",
       "      <th>4</th>\n",
       "      <td>10320494</td>\n",
       "      <td>2018-04-21</td>\n",
       "      <td>Yellow Cab</td>\n",
       "      <td>ATLANTA GA</td>\n",
       "      <td>36.38</td>\n",
       "      <td>721.10</td>\n",
       "      <td>467.1192</td>\n",
       "      <td>27703</td>\n",
       "      <td>Card</td>\n",
       "      <td>Male</td>\n",
       "      <td>27</td>\n",
       "      <td>9237</td>\n",
       "      <td>814885</td>\n",
       "      <td>24701</td>\n",
       "    </tr>\n",
       "  </tbody>\n",
       "</table>\n",
       "</div>"
      ],
      "text/plain": [
       "   Transaction ID Date of Travel     Company        City  KM Travelled  \\\n",
       "0        10000011     2016-01-08    Pink Cab  ATLANTA GA         30.45   \n",
       "1        10351127     2018-07-21  Yellow Cab  ATLANTA GA         26.19   \n",
       "2        10412921     2018-11-23  Yellow Cab  ATLANTA GA         42.55   \n",
       "3        10000012     2016-01-06    Pink Cab  ATLANTA GA         28.62   \n",
       "4        10320494     2018-04-21  Yellow Cab  ATLANTA GA         36.38   \n",
       "\n",
       "   Price Charged  Cost of Trip  Customer ID Payment_Mode Gender  Age  \\\n",
       "0         370.95      313.6350        29290         Card   Male   28   \n",
       "1         598.70      317.4228        29290         Cash   Male   28   \n",
       "2         792.05      597.4020        29290         Card   Male   28   \n",
       "3         358.52      334.8540        27703         Card   Male   27   \n",
       "4         721.10      467.1192        27703         Card   Male   27   \n",
       "\n",
       "   Income (USD/Month)  Population  Users  \n",
       "0               10813      814885  24701  \n",
       "1               10813      814885  24701  \n",
       "2               10813      814885  24701  \n",
       "3                9237      814885  24701  \n",
       "4                9237      814885  24701  "
      ]
     },
     "execution_count": 27,
     "metadata": {},
     "output_type": "execute_result"
    }
   ],
   "source": [
    "# Merge dataframes\n",
    "df= cab_df.merge(tran_id_df, on= 'Transaction ID').merge(customer_id_df, on ='Customer ID').merge(city_df, on = 'City')\n",
    "df.head()"
   ]
  },
  {
   "cell_type": "code",
   "execution_count": 28,
   "metadata": {},
   "outputs": [],
   "source": [
    "# Adding profit margin column\n",
    "df['Profit Margin'] = df['Price Charged'] - df['Cost of Trip']"
   ]
  },
  {
   "cell_type": "code",
   "execution_count": 29,
   "metadata": {},
   "outputs": [
    {
     "data": {
      "text/html": [
       "<div>\n",
       "<style scoped>\n",
       "    .dataframe tbody tr th:only-of-type {\n",
       "        vertical-align: middle;\n",
       "    }\n",
       "\n",
       "    .dataframe tbody tr th {\n",
       "        vertical-align: top;\n",
       "    }\n",
       "\n",
       "    .dataframe thead th {\n",
       "        text-align: right;\n",
       "    }\n",
       "</style>\n",
       "<table border=\"1\" class=\"dataframe\">\n",
       "  <thead>\n",
       "    <tr style=\"text-align: right;\">\n",
       "      <th></th>\n",
       "      <th>Transaction ID</th>\n",
       "      <th>Date of Travel</th>\n",
       "      <th>Company</th>\n",
       "      <th>City</th>\n",
       "      <th>KM Travelled</th>\n",
       "      <th>Price Charged</th>\n",
       "      <th>Cost of Trip</th>\n",
       "      <th>Customer ID</th>\n",
       "      <th>Payment_Mode</th>\n",
       "      <th>Gender</th>\n",
       "      <th>Age</th>\n",
       "      <th>Income (USD/Month)</th>\n",
       "      <th>Population</th>\n",
       "      <th>Users</th>\n",
       "      <th>Profit Margin</th>\n",
       "      <th>Year</th>\n",
       "      <th>Month</th>\n",
       "      <th>Day of Week</th>\n",
       "    </tr>\n",
       "  </thead>\n",
       "  <tbody>\n",
       "    <tr>\n",
       "      <th>0</th>\n",
       "      <td>10000011</td>\n",
       "      <td>2016-01-08</td>\n",
       "      <td>Pink Cab</td>\n",
       "      <td>ATLANTA GA</td>\n",
       "      <td>30.45</td>\n",
       "      <td>370.95</td>\n",
       "      <td>313.6350</td>\n",
       "      <td>29290</td>\n",
       "      <td>Card</td>\n",
       "      <td>Male</td>\n",
       "      <td>28</td>\n",
       "      <td>10813</td>\n",
       "      <td>814885</td>\n",
       "      <td>24701</td>\n",
       "      <td>57.3150</td>\n",
       "      <td>2016</td>\n",
       "      <td>1</td>\n",
       "      <td>Friday</td>\n",
       "    </tr>\n",
       "    <tr>\n",
       "      <th>1</th>\n",
       "      <td>10351127</td>\n",
       "      <td>2018-07-21</td>\n",
       "      <td>Yellow Cab</td>\n",
       "      <td>ATLANTA GA</td>\n",
       "      <td>26.19</td>\n",
       "      <td>598.70</td>\n",
       "      <td>317.4228</td>\n",
       "      <td>29290</td>\n",
       "      <td>Cash</td>\n",
       "      <td>Male</td>\n",
       "      <td>28</td>\n",
       "      <td>10813</td>\n",
       "      <td>814885</td>\n",
       "      <td>24701</td>\n",
       "      <td>281.2772</td>\n",
       "      <td>2018</td>\n",
       "      <td>7</td>\n",
       "      <td>Saturday</td>\n",
       "    </tr>\n",
       "    <tr>\n",
       "      <th>2</th>\n",
       "      <td>10412921</td>\n",
       "      <td>2018-11-23</td>\n",
       "      <td>Yellow Cab</td>\n",
       "      <td>ATLANTA GA</td>\n",
       "      <td>42.55</td>\n",
       "      <td>792.05</td>\n",
       "      <td>597.4020</td>\n",
       "      <td>29290</td>\n",
       "      <td>Card</td>\n",
       "      <td>Male</td>\n",
       "      <td>28</td>\n",
       "      <td>10813</td>\n",
       "      <td>814885</td>\n",
       "      <td>24701</td>\n",
       "      <td>194.6480</td>\n",
       "      <td>2018</td>\n",
       "      <td>11</td>\n",
       "      <td>Friday</td>\n",
       "    </tr>\n",
       "    <tr>\n",
       "      <th>3</th>\n",
       "      <td>10000012</td>\n",
       "      <td>2016-01-06</td>\n",
       "      <td>Pink Cab</td>\n",
       "      <td>ATLANTA GA</td>\n",
       "      <td>28.62</td>\n",
       "      <td>358.52</td>\n",
       "      <td>334.8540</td>\n",
       "      <td>27703</td>\n",
       "      <td>Card</td>\n",
       "      <td>Male</td>\n",
       "      <td>27</td>\n",
       "      <td>9237</td>\n",
       "      <td>814885</td>\n",
       "      <td>24701</td>\n",
       "      <td>23.6660</td>\n",
       "      <td>2016</td>\n",
       "      <td>1</td>\n",
       "      <td>Wednesday</td>\n",
       "    </tr>\n",
       "    <tr>\n",
       "      <th>4</th>\n",
       "      <td>10320494</td>\n",
       "      <td>2018-04-21</td>\n",
       "      <td>Yellow Cab</td>\n",
       "      <td>ATLANTA GA</td>\n",
       "      <td>36.38</td>\n",
       "      <td>721.10</td>\n",
       "      <td>467.1192</td>\n",
       "      <td>27703</td>\n",
       "      <td>Card</td>\n",
       "      <td>Male</td>\n",
       "      <td>27</td>\n",
       "      <td>9237</td>\n",
       "      <td>814885</td>\n",
       "      <td>24701</td>\n",
       "      <td>253.9808</td>\n",
       "      <td>2018</td>\n",
       "      <td>4</td>\n",
       "      <td>Saturday</td>\n",
       "    </tr>\n",
       "  </tbody>\n",
       "</table>\n",
       "</div>"
      ],
      "text/plain": [
       "   Transaction ID Date of Travel     Company        City  KM Travelled  \\\n",
       "0        10000011     2016-01-08    Pink Cab  ATLANTA GA         30.45   \n",
       "1        10351127     2018-07-21  Yellow Cab  ATLANTA GA         26.19   \n",
       "2        10412921     2018-11-23  Yellow Cab  ATLANTA GA         42.55   \n",
       "3        10000012     2016-01-06    Pink Cab  ATLANTA GA         28.62   \n",
       "4        10320494     2018-04-21  Yellow Cab  ATLANTA GA         36.38   \n",
       "\n",
       "   Price Charged  Cost of Trip  Customer ID Payment_Mode Gender  Age  \\\n",
       "0         370.95      313.6350        29290         Card   Male   28   \n",
       "1         598.70      317.4228        29290         Cash   Male   28   \n",
       "2         792.05      597.4020        29290         Card   Male   28   \n",
       "3         358.52      334.8540        27703         Card   Male   27   \n",
       "4         721.10      467.1192        27703         Card   Male   27   \n",
       "\n",
       "   Income (USD/Month)  Population  Users  Profit Margin  Year  Month  \\\n",
       "0               10813      814885  24701        57.3150  2016      1   \n",
       "1               10813      814885  24701       281.2772  2018      7   \n",
       "2               10813      814885  24701       194.6480  2018     11   \n",
       "3                9237      814885  24701        23.6660  2016      1   \n",
       "4                9237      814885  24701       253.9808  2018      4   \n",
       "\n",
       "  Day of Week  \n",
       "0      Friday  \n",
       "1    Saturday  \n",
       "2      Friday  \n",
       "3   Wednesday  \n",
       "4    Saturday  "
      ]
     },
     "execution_count": 29,
     "metadata": {},
     "output_type": "execute_result"
    }
   ],
   "source": [
    "# Categorize the year, month, and day of the week of travel\n",
    "\n",
    "year = []\n",
    "month = []\n",
    "for i in range(len(df['Date of Travel'])):\n",
    "    year.append(df['Date of Travel'][i].year)\n",
    "    month.append(df['Date of Travel'][i].month)\n",
    "df['Year'] = year\n",
    "df['Month'] = month\n",
    "df['Day of Week'] = df['Date of Travel'].dt.day_name()\n",
    "df.head()"
   ]
  },
  {
   "cell_type": "code",
   "execution_count": 30,
   "metadata": {},
   "outputs": [
    {
     "data": {
      "text/plain": [
       "<AxesSubplot:>"
      ]
     },
     "execution_count": 30,
     "metadata": {},
     "output_type": "execute_result"
    },
    {
     "data": {
      "image/png": "[encoded data removed]",
      "text/plain": [
       "<Figure size 432x288 with 2 Axes>"
      ]
     },
     "metadata": {
      "needs_background": "light"
     },
     "output_type": "display_data"
    }
   ],
   "source": [
    "# Find correlations of each aspects\n",
    "corr_df = df[['KM Travelled','Price Charged', 'Cost of Trip', 'Age','Income (USD/Month)', 'Population','Users']].corr()\n",
    "# Use Seaborn heatmap to visualize the correlation\n",
    "sns.heatmap(corr_df, vmin = -1, vmax=1, cmap='inferno')"
   ]
  },
  {
   "cell_type": "markdown",
   "metadata": {},
   "source": [
    "> <b> We can see from the above image that Age, Income, Population, Users, KM Travelled, Price Charged, and Cost of Trip have positive correlation with each other </b>"
   ]
  },
  {
   "cell_type": "markdown",
   "metadata": {},
   "source": [
    "  "
   ]
  },
  {
   "cell_type": "markdown",
   "metadata": {
    "id": "TkmV70CzCYq2"
   },
   "source": [
    "## Step 2. Data investigation and visualization"
   ]
  },
  {
   "cell_type": "markdown",
   "metadata": {},
   "source": [
    "### Yellow VS. Pink"
   ]
  },
  {
   "cell_type": "markdown",
   "metadata": {},
   "source": [
    "> Total transactions by company\n",
    "\n",
    "\n",
    "> Which city cost more for each company by KM? \n",
    "Ave cost per KM by company by city\n",
    "\n",
    "How many cabs from each company in each city?\n",
    "\n",
    "which company in which city has the highest profit margin?\n",
    "earning margin or (total price charged by city - total cost by city) by company -- side by side overlay bar\n",
    "\n",
    "dominent cities by company-- geoview\n",
    "\n",
    "\n",
    "dominent age group by company -- box\n",
    "dominent income group by company -- box\n"
   ]
  },
  {
   "cell_type": "code",
   "execution_count": 31,
   "metadata": {},
   "outputs": [
    {
     "data": {
      "text/plain": [
       "Yellow Cab    274681\n",
       "Pink Cab       84711\n",
       "Name: Company, dtype: int64"
      ]
     },
     "execution_count": 31,
     "metadata": {},
     "output_type": "execute_result"
    }
   ],
   "source": [
    "# Total rides from 2016-2018\n",
    "df['Company'].value_counts()"
   ]
  },
  {
   "cell_type": "code",
   "execution_count": 145,
   "metadata": {},
   "outputs": [
    {
     "data": {
      "image/png": "[encoded data removed]",
      "text/plain": [
       "<Figure size 360x360 with 1 Axes>"
      ]
     },
     "metadata": {},
     "output_type": "display_data"
    }
   ],
   "source": [
    "# Using pie chart graph the ride distribution between the two companies\n",
    "labels = 'Pink Cab', 'Yellow Cab'\n",
    "sizes = [84711, 274681]\n",
    "colors = ['pink', 'yellow']\n",
    "explode = (0,0.1)\n",
    "fig1, ax1 = plt.subplots(figsize=(5,5))\n",
    "ax1.pie(sizes, explode = explode, labels=labels, autopct='%1.1f%%',shadow=True, startangle=90, colors = colors)\n",
    "ax1.axis('equal')\n",
    "\n",
    "plt.title('Total Rides Distribution 2016-2018', fontsize = 15)\n",
    "plt.show()"
   ]
  },
  {
   "cell_type": "markdown",
   "metadata": {},
   "source": [
    "> <b> During the analyzing period, more than 4 times of the rides were taken in `Yellow cab` than in Pink cab.</b>"
   ]
  },
  {
   "cell_type": "code",
   "execution_count": 176,
   "metadata": {},
   "outputs": [
    {
     "data": {
      "text/html": [
       "<div>\n",
       "<style scoped>\n",
       "    .dataframe tbody tr th:only-of-type {\n",
       "        vertical-align: middle;\n",
       "    }\n",
       "\n",
       "    .dataframe tbody tr th {\n",
       "        vertical-align: top;\n",
       "    }\n",
       "\n",
       "    .dataframe thead th {\n",
       "        text-align: right;\n",
       "    }\n",
       "</style>\n",
       "<table border=\"1\" class=\"dataframe\">\n",
       "  <thead>\n",
       "    <tr style=\"text-align: right;\">\n",
       "      <th></th>\n",
       "      <th></th>\n",
       "      <th>Transaction ID</th>\n",
       "      <th>KM Travelled</th>\n",
       "      <th>Price Charged</th>\n",
       "      <th>Cost of Trip</th>\n",
       "      <th>Customer ID</th>\n",
       "      <th>Age</th>\n",
       "      <th>Income (USD/Month)</th>\n",
       "      <th>Population</th>\n",
       "      <th>Users</th>\n",
       "      <th>Profit Margin</th>\n",
       "      <th>Year</th>\n",
       "      <th>Month</th>\n",
       "      <th>Cost per KM</th>\n",
       "    </tr>\n",
       "    <tr>\n",
       "      <th>City</th>\n",
       "      <th>Company</th>\n",
       "      <th></th>\n",
       "      <th></th>\n",
       "      <th></th>\n",
       "      <th></th>\n",
       "      <th></th>\n",
       "      <th></th>\n",
       "      <th></th>\n",
       "      <th></th>\n",
       "      <th></th>\n",
       "      <th></th>\n",
       "      <th></th>\n",
       "      <th></th>\n",
       "      <th></th>\n",
       "    </tr>\n",
       "  </thead>\n",
       "  <tbody>\n",
       "    <tr>\n",
       "      <th rowspan=\"2\" valign=\"top\">ATLANTA GA</th>\n",
       "      <th>Pink Cab</th>\n",
       "      <td>1.021965e+07</td>\n",
       "      <td>22.539824</td>\n",
       "      <td>302.131555</td>\n",
       "      <td>247.619594</td>\n",
       "      <td>28504.842225</td>\n",
       "      <td>35.321793</td>\n",
       "      <td>15033.438706</td>\n",
       "      <td>814885.0</td>\n",
       "      <td>24701.0</td>\n",
       "      <td>54.511961</td>\n",
       "      <td>2017.046538</td>\n",
       "      <td>7.528944</td>\n",
       "      <td>10.985871</td>\n",
       "    </tr>\n",
       "    <tr>\n",
       "      <th>Yellow Cab</th>\n",
       "      <td>1.022087e+07</td>\n",
       "      <td>22.248247</td>\n",
       "      <td>422.413446</td>\n",
       "      <td>293.615723</td>\n",
       "      <td>28489.815531</td>\n",
       "      <td>35.306816</td>\n",
       "      <td>14902.657981</td>\n",
       "      <td>814885.0</td>\n",
       "      <td>24701.0</td>\n",
       "      <td>128.797723</td>\n",
       "      <td>2017.050043</td>\n",
       "      <td>7.483693</td>\n",
       "      <td>13.197252</td>\n",
       "    </tr>\n",
       "    <tr>\n",
       "      <th rowspan=\"2\" valign=\"top\">AUSTIN TX</th>\n",
       "      <th>Pink Cab</th>\n",
       "      <td>1.023399e+07</td>\n",
       "      <td>21.969176</td>\n",
       "      <td>320.435070</td>\n",
       "      <td>241.502901</td>\n",
       "      <td>34513.518737</td>\n",
       "      <td>35.672377</td>\n",
       "      <td>14863.617773</td>\n",
       "      <td>698371.0</td>\n",
       "      <td>14978.0</td>\n",
       "      <td>78.932168</td>\n",
       "      <td>2017.058351</td>\n",
       "      <td>8.579229</td>\n",
       "      <td>10.992807</td>\n",
       "    </tr>\n",
       "    <tr>\n",
       "      <th>Yellow Cab</th>\n",
       "      <td>1.022852e+07</td>\n",
       "      <td>22.512840</td>\n",
       "      <td>422.248940</td>\n",
       "      <td>296.999358</td>\n",
       "      <td>34522.128798</td>\n",
       "      <td>35.129458</td>\n",
       "      <td>14593.396631</td>\n",
       "      <td>698371.0</td>\n",
       "      <td>14978.0</td>\n",
       "      <td>125.249582</td>\n",
       "      <td>2017.036988</td>\n",
       "      <td>8.232166</td>\n",
       "      <td>13.192443</td>\n",
       "    </tr>\n",
       "    <tr>\n",
       "      <th>BOSTON MA</th>\n",
       "      <th>Pink Cab</th>\n",
       "      <td>1.022321e+07</td>\n",
       "      <td>22.740746</td>\n",
       "      <td>300.551489</td>\n",
       "      <td>250.030529</td>\n",
       "      <td>58514.572889</td>\n",
       "      <td>35.183571</td>\n",
       "      <td>15383.779213</td>\n",
       "      <td>248968.0</td>\n",
       "      <td>80021.0</td>\n",
       "      <td>50.520960</td>\n",
       "      <td>2017.047243</td>\n",
       "      <td>7.766101</td>\n",
       "      <td>10.994825</td>\n",
       "    </tr>\n",
       "  </tbody>\n",
       "</table>\n",
       "</div>"
      ],
      "text/plain": [
       "                       Transaction ID  KM Travelled  Price Charged  \\\n",
       "City       Company                                                   \n",
       "ATLANTA GA Pink Cab      1.021965e+07     22.539824     302.131555   \n",
       "           Yellow Cab    1.022087e+07     22.248247     422.413446   \n",
       "AUSTIN TX  Pink Cab      1.023399e+07     21.969176     320.435070   \n",
       "           Yellow Cab    1.022852e+07     22.512840     422.248940   \n",
       "BOSTON MA  Pink Cab      1.022321e+07     22.740746     300.551489   \n",
       "\n",
       "                       Cost of Trip   Customer ID        Age  \\\n",
       "City       Company                                             \n",
       "ATLANTA GA Pink Cab      247.619594  28504.842225  35.321793   \n",
       "           Yellow Cab    293.615723  28489.815531  35.306816   \n",
       "AUSTIN TX  Pink Cab      241.502901  34513.518737  35.672377   \n",
       "           Yellow Cab    296.999358  34522.128798  35.129458   \n",
       "BOSTON MA  Pink Cab      250.030529  58514.572889  35.183571   \n",
       "\n",
       "                       Income (USD/Month)  Population    Users  Profit Margin  \\\n",
       "City       Company                                                              \n",
       "ATLANTA GA Pink Cab          15033.438706    814885.0  24701.0      54.511961   \n",
       "           Yellow Cab        14902.657981    814885.0  24701.0     128.797723   \n",
       "AUSTIN TX  Pink Cab          14863.617773    698371.0  14978.0      78.932168   \n",
       "           Yellow Cab        14593.396631    698371.0  14978.0     125.249582   \n",
       "BOSTON MA  Pink Cab          15383.779213    248968.0  80021.0      50.520960   \n",
       "\n",
       "                              Year     Month  Cost per KM  \n",
       "City       Company                                         \n",
       "ATLANTA GA Pink Cab    2017.046538  7.528944    10.985871  \n",
       "           Yellow Cab  2017.050043  7.483693    13.197252  \n",
       "AUSTIN TX  Pink Cab    2017.058351  8.579229    10.992807  \n",
       "           Yellow Cab  2017.036988  8.232166    13.192443  \n",
       "BOSTON MA  Pink Cab    2017.047243  7.766101    10.994825  "
      ]
     },
     "execution_count": 176,
     "metadata": {},
     "output_type": "execute_result"
    }
   ],
   "source": [
    "# Create a new dataframe group all data by city and by company and find average values of each category\n",
    "df_by_ct_co_avg = df.groupby(['City','Company']).mean()\n",
    "# Create a new column containing cost per km information\n",
    "df_by_ct_co_avg['Cost per KM'] = df_by_ct_co_avg['Cost of Trip']/df_by_ct_co_avg['KM Travelled']\n",
    "df_by_ct_co_avg.head()"
   ]
  },
  {
   "cell_type": "code",
   "execution_count": 178,
   "metadata": {},
   "outputs": [
    {
     "data": {
      "text/html": [
       "<div>\n",
       "<style scoped>\n",
       "    .dataframe tbody tr th:only-of-type {\n",
       "        vertical-align: middle;\n",
       "    }\n",
       "\n",
       "    .dataframe tbody tr th {\n",
       "        vertical-align: top;\n",
       "    }\n",
       "\n",
       "    .dataframe thead th {\n",
       "        text-align: right;\n",
       "    }\n",
       "</style>\n",
       "<table border=\"1\" class=\"dataframe\">\n",
       "  <thead>\n",
       "    <tr style=\"text-align: right;\">\n",
       "      <th></th>\n",
       "      <th></th>\n",
       "      <th>Transaction ID</th>\n",
       "      <th>KM Travelled</th>\n",
       "      <th>Price Charged</th>\n",
       "      <th>Cost of Trip</th>\n",
       "      <th>Customer ID</th>\n",
       "      <th>Age</th>\n",
       "      <th>Income (USD/Month)</th>\n",
       "      <th>Population</th>\n",
       "      <th>Users</th>\n",
       "      <th>Profit Margin</th>\n",
       "      <th>Year</th>\n",
       "      <th>Month</th>\n",
       "    </tr>\n",
       "    <tr>\n",
       "      <th>City</th>\n",
       "      <th>Company</th>\n",
       "      <th></th>\n",
       "      <th></th>\n",
       "      <th></th>\n",
       "      <th></th>\n",
       "      <th></th>\n",
       "      <th></th>\n",
       "      <th></th>\n",
       "      <th></th>\n",
       "      <th></th>\n",
       "      <th></th>\n",
       "      <th></th>\n",
       "      <th></th>\n",
       "    </tr>\n",
       "  </thead>\n",
       "  <tbody>\n",
       "    <tr>\n",
       "      <th rowspan=\"2\" valign=\"top\">ATLANTA GA</th>\n",
       "      <th>Pink Cab</th>\n",
       "      <td>18007031833</td>\n",
       "      <td>39715.17</td>\n",
       "      <td>532355.80</td>\n",
       "      <td>4.363057e+05</td>\n",
       "      <td>50225532</td>\n",
       "      <td>62237</td>\n",
       "      <td>26488919</td>\n",
       "      <td>1435827370</td>\n",
       "      <td>43523162</td>\n",
       "      <td>96050.0760</td>\n",
       "      <td>3554036</td>\n",
       "      <td>13266</td>\n",
       "    </tr>\n",
       "    <tr>\n",
       "      <th>Yellow Cab</th>\n",
       "      <td>59229968168</td>\n",
       "      <td>128928.59</td>\n",
       "      <td>2447885.92</td>\n",
       "      <td>1.701503e+06</td>\n",
       "      <td>165098481</td>\n",
       "      <td>204603</td>\n",
       "      <td>86360903</td>\n",
       "      <td>4722258575</td>\n",
       "      <td>143142295</td>\n",
       "      <td>746382.8056</td>\n",
       "      <td>11688805</td>\n",
       "      <td>43368</td>\n",
       "    </tr>\n",
       "    <tr>\n",
       "      <th rowspan=\"2\" valign=\"top\">AUSTIN TX</th>\n",
       "      <th>Pink Cab</th>\n",
       "      <td>19117094048</td>\n",
       "      <td>41038.42</td>\n",
       "      <td>598572.71</td>\n",
       "      <td>4.511274e+05</td>\n",
       "      <td>64471253</td>\n",
       "      <td>66636</td>\n",
       "      <td>27765238</td>\n",
       "      <td>1304557028</td>\n",
       "      <td>27978904</td>\n",
       "      <td>147445.2900</td>\n",
       "      <td>3767865</td>\n",
       "      <td>16026</td>\n",
       "    </tr>\n",
       "    <tr>\n",
       "      <th>Yellow Cab</th>\n",
       "      <td>30971960840</td>\n",
       "      <td>68168.88</td>\n",
       "      <td>1278569.79</td>\n",
       "      <td>8.993141e+05</td>\n",
       "      <td>104533006</td>\n",
       "      <td>106372</td>\n",
       "      <td>44188805</td>\n",
       "      <td>2114667388</td>\n",
       "      <td>45353384</td>\n",
       "      <td>379255.7352</td>\n",
       "      <td>6107588</td>\n",
       "      <td>24927</td>\n",
       "    </tr>\n",
       "    <tr>\n",
       "      <th>BOSTON MA</th>\n",
       "      <th>Pink Cab</th>\n",
       "      <td>53017566077</td>\n",
       "      <td>117933.51</td>\n",
       "      <td>1558660.02</td>\n",
       "      <td>1.296658e+06</td>\n",
       "      <td>303456575</td>\n",
       "      <td>182462</td>\n",
       "      <td>79780279</td>\n",
       "      <td>1291148048</td>\n",
       "      <td>414988906</td>\n",
       "      <td>262001.6980</td>\n",
       "      <td>10460407</td>\n",
       "      <td>40275</td>\n",
       "    </tr>\n",
       "  </tbody>\n",
       "</table>\n",
       "</div>"
      ],
      "text/plain": [
       "                       Transaction ID  KM Travelled  Price Charged  \\\n",
       "City       Company                                                   \n",
       "ATLANTA GA Pink Cab       18007031833      39715.17      532355.80   \n",
       "           Yellow Cab     59229968168     128928.59     2447885.92   \n",
       "AUSTIN TX  Pink Cab       19117094048      41038.42      598572.71   \n",
       "           Yellow Cab     30971960840      68168.88     1278569.79   \n",
       "BOSTON MA  Pink Cab       53017566077     117933.51     1558660.02   \n",
       "\n",
       "                       Cost of Trip  Customer ID     Age  Income (USD/Month)  \\\n",
       "City       Company                                                             \n",
       "ATLANTA GA Pink Cab    4.363057e+05     50225532   62237            26488919   \n",
       "           Yellow Cab  1.701503e+06    165098481  204603            86360903   \n",
       "AUSTIN TX  Pink Cab    4.511274e+05     64471253   66636            27765238   \n",
       "           Yellow Cab  8.993141e+05    104533006  106372            44188805   \n",
       "BOSTON MA  Pink Cab    1.296658e+06    303456575  182462            79780279   \n",
       "\n",
       "                       Population      Users  Profit Margin      Year  Month  \n",
       "City       Company                                                            \n",
       "ATLANTA GA Pink Cab    1435827370   43523162     96050.0760   3554036  13266  \n",
       "           Yellow Cab  4722258575  143142295    746382.8056  11688805  43368  \n",
       "AUSTIN TX  Pink Cab    1304557028   27978904    147445.2900   3767865  16026  \n",
       "           Yellow Cab  2114667388   45353384    379255.7352   6107588  24927  \n",
       "BOSTON MA  Pink Cab    1291148048  414988906    262001.6980  10460407  40275  "
      ]
     },
     "execution_count": 178,
     "metadata": {},
     "output_type": "execute_result"
    }
   ],
   "source": [
    "# Create a new dataframe group all data by city and by company and find total values of each category\n",
    "df_by_ct_co_sum = df.groupby(['City','Company']).sum()\n",
    "df_by_ct_co_sum.head()"
   ]
  },
  {
   "cell_type": "code",
   "execution_count": 177,
   "metadata": {},
   "outputs": [
    {
     "data": {
      "text/html": [
       "\n",
       "\n",
       "\n",
       "\n",
       "\n",
       "\n",
       "  <div class=\"bk-root\" id=\"92866d34-0512-4817-9f44-e9f013a03b27\" data-root-id=\"19336\"></div>\n"
      ]
     },
     "metadata": {},
     "output_type": "display_data"
    },
    {
     "data": {
      "application/javascript": [
       "(function(root) {\n",
       "  function embed_document(root) {\n",
       "    \n",
       "  const docs_json = {\"163680a6-a1d1-4e87-8294-9b61c0d571bb\":{\"defs\":[{\"extends\":null,\"module\":null,\"name\":\"ReactiveHTML1\",\"overrides\":[],\"properties\":[]},{\"extends\":null,\"module\":null,\"name\":\"FlexBox1\",\"overrides\":[],\"properties\":[{\"default\":\"flex-start\",\"kind\":null,\"name\":\"align_content\"},{\"default\":\"flex-start\",\"kind\":null,\"name\":\"align_items\"},{\"default\":\"row\",\"kind\":null,\"name\":\"flex_direction\"},{\"default\":\"wrap\",\"kind\":null,\"name\":\"flex_wrap\"},{\"default\":\"flex-start\",\"kind\":null,\"name\":\"justify_content\"}]},{\"extends\":null,\"module\":null,\"name\":\"GridStack1\",\"overrides\":[],\"properties\":[{\"default\":\"warn\",\"kind\":null,\"name\":\"mode\"},{\"default\":null,\"kind\":null,\"name\":\"ncols\"},{\"default\":null,\"kind\":null,\"name\":\"nrows\"},{\"default\":true,\"kind\":null,\"name\":\"allow_resize\"},{\"default\":true,\"kind\":null,\"name\":\"allow_drag\"},{\"default\":[],\"kind\":null,\"name\":\"state\"}]},{\"extends\":null,\"module\":null,\"name\":\"click1\",\"overrides\":[],\"properties\":[{\"default\":\"\",\"kind\":null,\"name\":\"terminal_output\"},{\"default\":\"\",\"kind\":null,\"name\":\"debug_name\"},{\"default\":0,\"kind\":null,\"name\":\"clears\"}]},{\"extends\":null,\"module\":null,\"name\":\"TemplateActions1\",\"overrides\":[],\"properties\":[{\"default\":0,\"kind\":null,\"name\":\"open_modal\"},{\"default\":0,\"kind\":null,\"name\":\"close_modal\"}]},{\"extends\":null,\"module\":null,\"name\":\"MaterialTemplateActions1\",\"overrides\":[],\"properties\":[{\"default\":0,\"kind\":null,\"name\":\"open_modal\"},{\"default\":0,\"kind\":null,\"name\":\"close_modal\"}]}],\"roots\":{\"references\":[{\"attributes\":{\"below\":[{\"id\":\"19345\"}],\"center\":[{\"id\":\"19347\"},{\"id\":\"19351\"}],\"height\":700,\"left\":[{\"id\":\"19348\"}],\"margin\":null,\"min_border_bottom\":10,\"min_border_left\":10,\"min_border_right\":10,\"min_border_top\":10,\"renderers\":[{\"id\":\"19372\"}],\"sizing_mode\":\"fixed\",\"title\":{\"id\":\"19337\"},\"toolbar\":{\"id\":\"19358\"},\"width\":800,\"x_range\":{\"id\":\"19333\"},\"x_scale\":{\"id\":\"19341\"},\"y_range\":{\"id\":\"19334\"},\"y_scale\":{\"id\":\"19343\"}},\"id\":\"19336\",\"subtype\":\"Figure\",\"type\":\"Plot\"},{\"attributes\":{},\"id\":\"19378\",\"type\":\"AllLabels\"},{\"attributes\":{},\"id\":\"19341\",\"type\":\"CategoricalScale\"},{\"attributes\":{\"factors\":[[\"ATLANTA GA\",\"Pink Cab\"],[\"ATLANTA GA\",\"Yellow Cab\"],[\"AUSTIN TX\",\"Pink Cab\"],[\"AUSTIN TX\",\"Yellow Cab\"],[\"BOSTON MA\",\"Pink Cab\"],[\"BOSTON MA\",\"Yellow Cab\"],[\"CHICAGO IL\",\"Pink Cab\"],[\"CHICAGO IL\",\"Yellow Cab\"],[\"DALLAS TX\",\"Pink Cab\"],[\"DALLAS TX\",\"Yellow Cab\"],[\"DENVER CO\",\"Pink Cab\"],[\"DENVER CO\",\"Yellow Cab\"],[\"LOS ANGELES CA\",\"Pink Cab\"],[\"LOS ANGELES CA\",\"Yellow Cab\"],[\"MIAMI FL\",\"Pink Cab\"],[\"MIAMI FL\",\"Yellow Cab\"],[\"NASHVILLE TN\",\"Pink Cab\"],[\"NASHVILLE TN\",\"Yellow Cab\"],[\"NEW YORK NY\",\"Pink Cab\"],[\"NEW YORK NY\",\"Yellow Cab\"],[\"ORANGE COUNTY\",\"Pink Cab\"],[\"ORANGE COUNTY\",\"Yellow Cab\"],[\"PHOENIX AZ\",\"Pink Cab\"],[\"PHOENIX AZ\",\"Yellow Cab\"],[\"PITTSBURGH PA\",\"Pink Cab\"],[\"PITTSBURGH PA\",\"Yellow Cab\"],[\"SACRAMENTO CA\",\"Pink Cab\"],[\"SACRAMENTO CA\",\"Yellow Cab\"],[\"SAN DIEGO CA\",\"Pink Cab\"],[\"SAN DIEGO CA\",\"Yellow Cab\"],[\"SEATTLE WA\",\"Pink Cab\"],[\"SEATTLE WA\",\"Yellow Cab\"],[\"SILICON VALLEY\",\"Pink Cab\"],[\"SILICON VALLEY\",\"Yellow Cab\"],[\"TUCSON AZ\",\"Pink Cab\"],[\"TUCSON AZ\",\"Yellow Cab\"],[\"WASHINGTON DC\",\"Pink Cab\"],[\"WASHINGTON DC\",\"Yellow Cab\"]],\"tags\":[[[\"City\",\"City\",null],[\"Company\",\"Company\",null]]]},\"id\":\"19333\",\"type\":\"FactorRange\"},{\"attributes\":{},\"id\":\"19346\",\"type\":\"CategoricalTicker\"},{\"attributes\":{},\"id\":\"19367\",\"type\":\"Selection\"},{\"attributes\":{},\"id\":\"19381\",\"type\":\"AllLabels\"},{\"attributes\":{\"coordinates\":null,\"data_source\":{\"id\":\"19366\"},\"glyph\":{\"id\":\"19369\"},\"group\":null,\"hover_glyph\":null,\"muted_glyph\":{\"id\":\"19371\"},\"nonselection_glyph\":{\"id\":\"19370\"},\"selection_glyph\":{\"id\":\"19374\"},\"view\":{\"id\":\"19373\"}},\"id\":\"19372\",\"type\":\"GlyphRenderer\"},{\"attributes\":{\"factors\":[\"Pink Cab\",\"Yellow Cab\"],\"palette\":[\"pink\",\"yellow\"]},\"id\":\"19365\",\"type\":\"CategoricalColorMapper\"},{\"attributes\":{\"fill_color\":{\"field\":\"Company\",\"transform\":{\"id\":\"19365\"}},\"hatch_color\":{\"field\":\"Company\",\"transform\":{\"id\":\"19365\"}},\"top\":{\"field\":\"KM_Travelled\"},\"width\":{\"value\":0.8},\"x\":{\"field\":\"xoffsets\"}},\"id\":\"19369\",\"type\":\"VBar\"},{\"attributes\":{\"coordinates\":null,\"group\":null,\"text\":\"Total KM Traveled in Each City\"},\"id\":\"19337\",\"type\":\"Title\"},{\"attributes\":{\"tools\":[{\"id\":\"19335\"},{\"id\":\"19352\"},{\"id\":\"19353\"},{\"id\":\"19354\"},{\"id\":\"19355\"},{\"id\":\"19356\"}]},\"id\":\"19358\",\"type\":\"Toolbar\"},{\"attributes\":{\"callback\":null,\"renderers\":[{\"id\":\"19372\"}],\"tags\":[\"hv_created\"],\"tooltips\":[[\"City\",\"@{City}\"],[\"Company\",\"@{Company}\"],[\"KM Travelled\",\"@{KM_Travelled}\"]]},\"id\":\"19335\",\"type\":\"HoverTool\"},{\"attributes\":{},\"id\":\"19377\",\"type\":\"CategoricalTickFormatter\"},{\"attributes\":{\"bottom\":{\"value\":0},\"fill_alpha\":{\"value\":1.0},\"fill_color\":{\"field\":\"Company\",\"transform\":{\"id\":\"19365\"}},\"hatch_alpha\":{\"value\":1.0},\"hatch_color\":{\"field\":\"Company\",\"transform\":{\"id\":\"19365\"}},\"hatch_scale\":{\"value\":12.0},\"hatch_weight\":{\"value\":1.0},\"line_alpha\":{\"value\":1.0},\"line_cap\":{\"value\":\"butt\"},\"line_color\":{\"value\":\"black\"},\"line_dash\":{\"value\":[]},\"line_dash_offset\":{\"value\":0},\"line_join\":{\"value\":\"bevel\"},\"line_width\":{\"value\":1},\"top\":{\"field\":\"KM_Travelled\"},\"width\":{\"value\":0.8},\"x\":{\"field\":\"xoffsets\"}},\"id\":\"19374\",\"type\":\"VBar\"},{\"attributes\":{\"end\":2124696.207,\"reset_end\":2124696.207,\"reset_start\":0.0,\"tags\":[[[\"KM Travelled\",\"KM Travelled\",null]]]},\"id\":\"19334\",\"type\":\"Range1d\"},{\"attributes\":{\"axis\":{\"id\":\"19345\"},\"coordinates\":null,\"grid_line_color\":null,\"group\":null,\"ticker\":null},\"id\":\"19347\",\"type\":\"Grid\"},{\"attributes\":{\"data\":{\"City\":[\"ATLANTA GA\",\"AUSTIN TX\",\"BOSTON MA\",\"CHICAGO IL\",\"DALLAS TX\",\"DENVER CO\",\"LOS ANGELES CA\",\"MIAMI FL\",\"NASHVILLE TN\",\"NEW YORK NY\",\"ORANGE COUNTY\",\"PHOENIX AZ\",\"PITTSBURGH PA\",\"SACRAMENTO CA\",\"SAN DIEGO CA\",\"SEATTLE WA\",\"SILICON VALLEY\",\"TUCSON AZ\",\"WASHINGTON DC\",\"ATLANTA GA\",\"AUSTIN TX\",\"BOSTON MA\",\"CHICAGO IL\",\"DALLAS TX\",\"DENVER CO\",\"LOS ANGELES CA\",\"MIAMI FL\",\"NASHVILLE TN\",\"NEW YORK NY\",\"ORANGE COUNTY\",\"PHOENIX AZ\",\"PITTSBURGH PA\",\"SACRAMENTO CA\",\"SAN DIEGO CA\",\"SEATTLE WA\",\"SILICON VALLEY\",\"TUCSON AZ\",\"WASHINGTON DC\"],\"Company\":[\"Pink Cab\",\"Pink Cab\",\"Pink Cab\",\"Pink Cab\",\"Pink Cab\",\"Pink Cab\",\"Pink Cab\",\"Pink Cab\",\"Pink Cab\",\"Pink Cab\",\"Pink Cab\",\"Pink Cab\",\"Pink Cab\",\"Pink Cab\",\"Pink Cab\",\"Pink Cab\",\"Pink Cab\",\"Pink Cab\",\"Pink Cab\",\"Yellow Cab\",\"Yellow Cab\",\"Yellow Cab\",\"Yellow Cab\",\"Yellow Cab\",\"Yellow Cab\",\"Yellow Cab\",\"Yellow Cab\",\"Yellow Cab\",\"Yellow Cab\",\"Yellow Cab\",\"Yellow Cab\",\"Yellow Cab\",\"Yellow Cab\",\"Yellow Cab\",\"Yellow Cab\",\"Yellow Cab\",\"Yellow Cab\",\"Yellow Cab\"],\"KM_Travelled\":{\"__ndarray__\":\"CtejcGVk40AK16NwzQnkQI/C9SjYyvxApHA9CjG5CUE9CtejUK3dQJqZmZkJk95ASOF6FONxG0FmZmZmjszlQArXo3BFQORASOF6FP1IE0EAAAAAEGngQMP1KFxvWdJArkfhelQUzkBcj8L1iHLdQFyPwvX+YQ1BcT0K1wtG7kApXI/CySD1QEjhehS+mdFAMzMzM29D9EAK16NwCXr/QEjhehSOpPBAcT0KVw3cIEEpXI9CglcwQT0K16MMGv9AMzMzMzOk6kApXI/CzYAjQVK4HoVbmvhArkfheqQ42kCF61F4Kn49QUjhehRG9upAKVyPwtVm2kDNzMzMjPDLQHE9CtfDJtdA9ihcj77UCkG4HoXreQf9QClcj8JFKvpAKVyPwrWd2EC4HoVrbaYrQQ==\",\"dtype\":\"float64\",\"order\":\"little\",\"shape\":[38]},\"xoffsets\":[[\"ATLANTA GA\",\"Pink Cab\"],[\"AUSTIN TX\",\"Pink Cab\"],[\"BOSTON MA\",\"Pink Cab\"],[\"CHICAGO IL\",\"Pink Cab\"],[\"DALLAS TX\",\"Pink Cab\"],[\"DENVER CO\",\"Pink Cab\"],[\"LOS ANGELES CA\",\"Pink Cab\"],[\"MIAMI FL\",\"Pink Cab\"],[\"NASHVILLE TN\",\"Pink Cab\"],[\"NEW YORK NY\",\"Pink Cab\"],[\"ORANGE COUNTY\",\"Pink Cab\"],[\"PHOENIX AZ\",\"Pink Cab\"],[\"PITTSBURGH PA\",\"Pink Cab\"],[\"SACRAMENTO CA\",\"Pink Cab\"],[\"SAN DIEGO CA\",\"Pink Cab\"],[\"SEATTLE WA\",\"Pink Cab\"],[\"SILICON VALLEY\",\"Pink Cab\"],[\"TUCSON AZ\",\"Pink Cab\"],[\"WASHINGTON DC\",\"Pink Cab\"],[\"ATLANTA GA\",\"Yellow Cab\"],[\"AUSTIN TX\",\"Yellow Cab\"],[\"BOSTON MA\",\"Yellow Cab\"],[\"CHICAGO IL\",\"Yellow Cab\"],[\"DALLAS TX\",\"Yellow Cab\"],[\"DENVER CO\",\"Yellow Cab\"],[\"LOS ANGELES CA\",\"Yellow Cab\"],[\"MIAMI FL\",\"Yellow Cab\"],[\"NASHVILLE TN\",\"Yellow Cab\"],[\"NEW YORK NY\",\"Yellow Cab\"],[\"ORANGE COUNTY\",\"Yellow Cab\"],[\"PHOENIX AZ\",\"Yellow Cab\"],[\"PITTSBURGH PA\",\"Yellow Cab\"],[\"SACRAMENTO CA\",\"Yellow Cab\"],[\"SAN DIEGO CA\",\"Yellow Cab\"],[\"SEATTLE WA\",\"Yellow Cab\"],[\"SILICON VALLEY\",\"Yellow Cab\"],[\"TUCSON AZ\",\"Yellow Cab\"],[\"WASHINGTON DC\",\"Yellow Cab\"]]},\"selected\":{\"id\":\"19367\"},\"selection_policy\":{\"id\":\"19785\"}},\"id\":\"19366\",\"type\":\"ColumnDataSource\"},{\"attributes\":{},\"id\":\"19343\",\"type\":\"LinearScale\"},{\"attributes\":{\"source\":{\"id\":\"19366\"}},\"id\":\"19373\",\"type\":\"CDSView\"},{\"attributes\":{\"fill_alpha\":{\"value\":0.2},\"fill_color\":{\"field\":\"Company\",\"transform\":{\"id\":\"19365\"}},\"hatch_alpha\":{\"value\":0.2},\"hatch_color\":{\"field\":\"Company\",\"transform\":{\"id\":\"19365\"}},\"line_alpha\":{\"value\":0.2},\"top\":{\"field\":\"KM_Travelled\"},\"width\":{\"value\":0.8},\"x\":{\"field\":\"xoffsets\"}},\"id\":\"19371\",\"type\":\"VBar\"},{\"attributes\":{},\"id\":\"19353\",\"type\":\"PanTool\"},{\"attributes\":{\"axis_label\":\"City, Company\",\"coordinates\":null,\"formatter\":{\"id\":\"19377\"},\"group\":null,\"group_label_orientation\":\"vertical\",\"major_label_orientation\":1.5707963267948966,\"major_label_policy\":{\"id\":\"19378\"},\"ticker\":{\"id\":\"19346\"}},\"id\":\"19345\",\"type\":\"CategoricalAxis\"},{\"attributes\":{\"axis\":{\"id\":\"19348\"},\"coordinates\":null,\"dimension\":1,\"grid_line_color\":null,\"group\":null,\"ticker\":null},\"id\":\"19351\",\"type\":\"Grid\"},{\"attributes\":{\"fill_alpha\":{\"value\":0.1},\"fill_color\":{\"field\":\"Company\",\"transform\":{\"id\":\"19365\"}},\"hatch_alpha\":{\"value\":0.1},\"hatch_color\":{\"field\":\"Company\",\"transform\":{\"id\":\"19365\"}},\"line_alpha\":{\"value\":0.1},\"top\":{\"field\":\"KM_Travelled\"},\"width\":{\"value\":0.8},\"x\":{\"field\":\"xoffsets\"}},\"id\":\"19370\",\"type\":\"VBar\"},{\"attributes\":{\"axis_label\":\"KM Travelled\",\"coordinates\":null,\"formatter\":{\"id\":\"19375\"},\"group\":null,\"major_label_policy\":{\"id\":\"19381\"},\"ticker\":{\"id\":\"19349\"}},\"id\":\"19348\",\"type\":\"LinearAxis\"},{\"attributes\":{},\"id\":\"19349\",\"type\":\"BasicTicker\"},{\"attributes\":{},\"id\":\"19354\",\"type\":\"WheelZoomTool\"},{\"attributes\":{},\"id\":\"19785\",\"type\":\"UnionRenderers\"},{\"attributes\":{},\"id\":\"19352\",\"type\":\"SaveTool\"},{\"attributes\":{\"overlay\":{\"id\":\"19357\"}},\"id\":\"19355\",\"type\":\"BoxZoomTool\"},{\"attributes\":{\"format\":\"%.0f\"},\"id\":\"19375\",\"type\":\"PrintfTickFormatter\"},{\"attributes\":{},\"id\":\"19356\",\"type\":\"ResetTool\"},{\"attributes\":{\"bottom_units\":\"screen\",\"coordinates\":null,\"fill_alpha\":0.5,\"fill_color\":\"lightgrey\",\"group\":null,\"left_units\":\"screen\",\"level\":\"overlay\",\"line_alpha\":1.0,\"line_color\":\"black\",\"line_dash\":[4,4],\"line_width\":2,\"right_units\":\"screen\",\"syncable\":false,\"top_units\":\"screen\"},\"id\":\"19357\",\"type\":\"BoxAnnotation\"}],\"root_ids\":[\"19336\"]},\"title\":\"Bokeh Application\",\"version\":\"2.4.2\"}};\n",
       "  const render_items = [{\"docid\":\"163680a6-a1d1-4e87-8294-9b61c0d571bb\",\"root_ids\":[\"19336\"],\"roots\":{\"19336\":\"92866d34-0512-4817-9f44-e9f013a03b27\"}}];\n",
       "  root.Bokeh.embed.embed_items_notebook(docs_json, render_items);\n",
       "\n",
       "  }\n",
       "  if (root.Bokeh !== undefined) {\n",
       "    embed_document(root);\n",
       "  } else {\n",
       "    let attempts = 0;\n",
       "    const timer = setInterval(function(root) {\n",
       "      if (root.Bokeh !== undefined) {\n",
       "        clearInterval(timer);\n",
       "        embed_document(root);\n",
       "      } else {\n",
       "        attempts++;\n",
       "        if (attempts > 100) {\n",
       "          clearInterval(timer);\n",
       "          console.log(\"Bokeh: ERROR: Unable to run BokehJS code because BokehJS library is missing\");\n",
       "        }\n",
       "      }\n",
       "    }, 10, root)\n",
       "  }\n",
       "})(window);"
      ],
      "application/vnd.bokehjs_exec.v0+json": ""
     },
     "metadata": {
      "application/vnd.bokehjs_exec.v0+json": {
       "id": "19336"
      }
     },
     "output_type": "display_data"
    }
   ],
   "source": [
    "# Compare how many KM travelled for each company and in which city traveled more\n",
    "p = hv.render(df_by_ct_co_sum[['KM Travelled']].hvplot.bar( title = 'Total KM Traveled in Each City', width = 800, height = 700, color = ['pink', 'yellow']).opts(xrotation = 90,yformatter='%.0f'))\n",
    "p.xaxis.group_label_orientation = 'vertical'\n",
    "from bokeh.plotting import show\n",
    "show(p)"
   ]
  },
  {
   "cell_type": "markdown",
   "metadata": {},
   "source": [
    "> <b> `Yellow` cabs outrun Pink cabs by a huge amount especially in New York, Boston, Chicago, and DC </b>\n",
    "\n",
    "> <b> `Pink` cabs has more advantage on the west coast cities such as Los Angeles, San Diego, Silicon Valley while `Yellow` cabs dominate the east coast </b>\n",
    "\n",
    "> <b> We can't directly see the number of  </b>\n",
    "\n",
    "> <b>  </b>\n",
    "\n",
    "demand for cabs in each city\n",
    "east vs west and mid"
   ]
  },
  {
   "cell_type": "code",
   "execution_count": 168,
   "metadata": {},
   "outputs": [
    {
     "data": {
      "text/html": [
       "\n",
       "\n",
       "\n",
       "\n",
       "\n",
       "\n",
       "  <div class=\"bk-root\" id=\"ad285b60-bb7b-4266-be04-a965000e45b4\" data-root-id=\"15731\"></div>\n"
      ]
     },
     "metadata": {},
     "output_type": "display_data"
    },
    {
     "data": {
      "application/javascript": [
       "(function(root) {\n",
       "  function embed_document(root) {\n",
       "    \n",
       "  const docs_json = {\"90d37604-8592-44ff-9e15-7e5805e4f48f\":{\"defs\":[{\"extends\":null,\"module\":null,\"name\":\"ReactiveHTML1\",\"overrides\":[],\"properties\":[]},{\"extends\":null,\"module\":null,\"name\":\"FlexBox1\",\"overrides\":[],\"properties\":[{\"default\":\"flex-start\",\"kind\":null,\"name\":\"align_content\"},{\"default\":\"flex-start\",\"kind\":null,\"name\":\"align_items\"},{\"default\":\"row\",\"kind\":null,\"name\":\"flex_direction\"},{\"default\":\"wrap\",\"kind\":null,\"name\":\"flex_wrap\"},{\"default\":\"flex-start\",\"kind\":null,\"name\":\"justify_content\"}]},{\"extends\":null,\"module\":null,\"name\":\"GridStack1\",\"overrides\":[],\"properties\":[{\"default\":\"warn\",\"kind\":null,\"name\":\"mode\"},{\"default\":null,\"kind\":null,\"name\":\"ncols\"},{\"default\":null,\"kind\":null,\"name\":\"nrows\"},{\"default\":true,\"kind\":null,\"name\":\"allow_resize\"},{\"default\":true,\"kind\":null,\"name\":\"allow_drag\"},{\"default\":[],\"kind\":null,\"name\":\"state\"}]},{\"extends\":null,\"module\":null,\"name\":\"click1\",\"overrides\":[],\"properties\":[{\"default\":\"\",\"kind\":null,\"name\":\"terminal_output\"},{\"default\":\"\",\"kind\":null,\"name\":\"debug_name\"},{\"default\":0,\"kind\":null,\"name\":\"clears\"}]},{\"extends\":null,\"module\":null,\"name\":\"TemplateActions1\",\"overrides\":[],\"properties\":[{\"default\":0,\"kind\":null,\"name\":\"open_modal\"},{\"default\":0,\"kind\":null,\"name\":\"close_modal\"}]},{\"extends\":null,\"module\":null,\"name\":\"MaterialTemplateActions1\",\"overrides\":[],\"properties\":[{\"default\":0,\"kind\":null,\"name\":\"open_modal\"},{\"default\":0,\"kind\":null,\"name\":\"close_modal\"}]}],\"roots\":{\"references\":[{\"attributes\":{\"below\":[{\"id\":\"15740\"}],\"center\":[{\"id\":\"15742\"},{\"id\":\"15746\"}],\"height\":400,\"left\":[{\"id\":\"15743\"}],\"margin\":null,\"min_border_bottom\":10,\"min_border_left\":10,\"min_border_right\":10,\"min_border_top\":10,\"renderers\":[{\"id\":\"15767\"}],\"sizing_mode\":\"fixed\",\"title\":{\"id\":\"15732\"},\"toolbar\":{\"id\":\"15753\"},\"width\":900,\"x_range\":{\"id\":\"15728\"},\"x_scale\":{\"id\":\"15736\"},\"y_range\":{\"id\":\"15729\"},\"y_scale\":{\"id\":\"15738\"}},\"id\":\"15731\",\"subtype\":\"Figure\",\"type\":\"Plot\"},{\"attributes\":{\"coordinates\":null,\"data_source\":{\"id\":\"15761\"},\"glyph\":{\"id\":\"15764\"},\"group\":null,\"hover_glyph\":null,\"muted_glyph\":{\"id\":\"15766\"},\"nonselection_glyph\":{\"id\":\"15765\"},\"selection_glyph\":{\"id\":\"15769\"},\"view\":{\"id\":\"15768\"}},\"id\":\"15767\",\"type\":\"GlyphRenderer\"},{\"attributes\":{\"axis\":{\"id\":\"15743\"},\"coordinates\":null,\"dimension\":1,\"grid_line_color\":null,\"group\":null,\"ticker\":null},\"id\":\"15746\",\"type\":\"Grid\"},{\"attributes\":{},\"id\":\"15749\",\"type\":\"WheelZoomTool\"},{\"attributes\":{},\"id\":\"16113\",\"type\":\"UnionRenderers\"},{\"attributes\":{\"coordinates\":null,\"group\":null,\"text\":\"Average Cost Per KM\"},\"id\":\"15732\",\"type\":\"Title\"},{\"attributes\":{\"axis_label\":\"City, Company\",\"coordinates\":null,\"formatter\":{\"id\":\"15771\"},\"group\":null,\"group_label_orientation\":\"vertical\",\"major_label_orientation\":1.5707963267948966,\"major_label_policy\":{\"id\":\"15772\"},\"ticker\":{\"id\":\"15741\"}},\"id\":\"15740\",\"type\":\"CategoricalAxis\"},{\"attributes\":{},\"id\":\"15775\",\"type\":\"AllLabels\"},{\"attributes\":{},\"id\":\"15738\",\"type\":\"LinearScale\"},{\"attributes\":{},\"id\":\"15751\",\"type\":\"ResetTool\"},{\"attributes\":{\"callback\":null,\"renderers\":[{\"id\":\"15767\"}],\"tags\":[\"hv_created\"],\"tooltips\":[[\"City\",\"@{City}\"],[\"Company\",\"@{Company}\"],[\"Cost per KM\",\"@{Cost_per_KM}\"]]},\"id\":\"15730\",\"type\":\"HoverTool\"},{\"attributes\":{\"fill_alpha\":{\"value\":0.1},\"fill_color\":{\"field\":\"Company\",\"transform\":{\"id\":\"15760\"}},\"hatch_alpha\":{\"value\":0.1},\"hatch_color\":{\"field\":\"Company\",\"transform\":{\"id\":\"15760\"}},\"line_alpha\":{\"value\":0.1},\"top\":{\"field\":\"Cost_per_KM\"},\"width\":{\"value\":0.8},\"x\":{\"field\":\"xoffsets\"}},\"id\":\"15765\",\"type\":\"VBar\"},{\"attributes\":{},\"id\":\"15736\",\"type\":\"CategoricalScale\"},{\"attributes\":{},\"id\":\"15748\",\"type\":\"PanTool\"},{\"attributes\":{\"tools\":[{\"id\":\"15730\"},{\"id\":\"15747\"},{\"id\":\"15748\"},{\"id\":\"15749\"},{\"id\":\"15750\"},{\"id\":\"15751\"}]},\"id\":\"15753\",\"type\":\"Toolbar\"},{\"attributes\":{\"factors\":[\"Pink Cab\",\"Yellow Cab\"],\"palette\":[\"pink\",\"yellow\"]},\"id\":\"15760\",\"type\":\"CategoricalColorMapper\"},{\"attributes\":{\"bottom_units\":\"screen\",\"coordinates\":null,\"fill_alpha\":0.5,\"fill_color\":\"lightgrey\",\"group\":null,\"left_units\":\"screen\",\"level\":\"overlay\",\"line_alpha\":1.0,\"line_color\":\"black\",\"line_dash\":[4,4],\"line_width\":2,\"right_units\":\"screen\",\"syncable\":false,\"top_units\":\"screen\"},\"id\":\"15752\",\"type\":\"BoxAnnotation\"},{\"attributes\":{},\"id\":\"15744\",\"type\":\"BasicTicker\"},{\"attributes\":{},\"id\":\"15772\",\"type\":\"AllLabels\"},{\"attributes\":{\"bottom\":{\"value\":0},\"fill_alpha\":{\"value\":1.0},\"fill_color\":{\"field\":\"Company\",\"transform\":{\"id\":\"15760\"}},\"hatch_alpha\":{\"value\":1.0},\"hatch_color\":{\"field\":\"Company\",\"transform\":{\"id\":\"15760\"}},\"hatch_scale\":{\"value\":12.0},\"hatch_weight\":{\"value\":1.0},\"line_alpha\":{\"value\":1.0},\"line_cap\":{\"value\":\"butt\"},\"line_color\":{\"value\":\"black\"},\"line_dash\":{\"value\":[]},\"line_dash_offset\":{\"value\":0},\"line_join\":{\"value\":\"bevel\"},\"line_width\":{\"value\":1},\"top\":{\"field\":\"Cost_per_KM\"},\"width\":{\"value\":0.8},\"x\":{\"field\":\"xoffsets\"}},\"id\":\"15769\",\"type\":\"VBar\"},{\"attributes\":{\"overlay\":{\"id\":\"15752\"}},\"id\":\"15750\",\"type\":\"BoxZoomTool\"},{\"attributes\":{\"end\":13.450495523950773,\"reset_end\":13.450495523950773,\"reset_start\":0.0,\"tags\":[[[\"Cost per KM\",\"Cost per KM\",null]]]},\"id\":\"15729\",\"type\":\"Range1d\"},{\"attributes\":{\"source\":{\"id\":\"15761\"}},\"id\":\"15768\",\"type\":\"CDSView\"},{\"attributes\":{},\"id\":\"15771\",\"type\":\"CategoricalTickFormatter\"},{\"attributes\":{\"fill_color\":{\"field\":\"Company\",\"transform\":{\"id\":\"15760\"}},\"hatch_color\":{\"field\":\"Company\",\"transform\":{\"id\":\"15760\"}},\"top\":{\"field\":\"Cost_per_KM\"},\"width\":{\"value\":0.8},\"x\":{\"field\":\"xoffsets\"}},\"id\":\"15764\",\"type\":\"VBar\"},{\"attributes\":{},\"id\":\"15774\",\"type\":\"BasicTickFormatter\"},{\"attributes\":{},\"id\":\"15762\",\"type\":\"Selection\"},{\"attributes\":{\"axis\":{\"id\":\"15740\"},\"coordinates\":null,\"grid_line_color\":null,\"group\":null,\"ticker\":null},\"id\":\"15742\",\"type\":\"Grid\"},{\"attributes\":{},\"id\":\"15747\",\"type\":\"SaveTool\"},{\"attributes\":{\"data\":{\"City\":[\"ATLANTA GA\",\"AUSTIN TX\",\"BOSTON MA\",\"CHICAGO IL\",\"DALLAS TX\",\"DENVER CO\",\"LOS ANGELES CA\",\"MIAMI FL\",\"NASHVILLE TN\",\"NEW YORK NY\",\"ORANGE COUNTY\",\"PHOENIX AZ\",\"PITTSBURGH PA\",\"SACRAMENTO CA\",\"SAN DIEGO CA\",\"SEATTLE WA\",\"SILICON VALLEY\",\"TUCSON AZ\",\"WASHINGTON DC\",\"ATLANTA GA\",\"AUSTIN TX\",\"BOSTON MA\",\"CHICAGO IL\",\"DALLAS TX\",\"DENVER CO\",\"LOS ANGELES CA\",\"MIAMI FL\",\"NASHVILLE TN\",\"NEW YORK NY\",\"ORANGE COUNTY\",\"PHOENIX AZ\",\"PITTSBURGH PA\",\"SACRAMENTO CA\",\"SAN DIEGO CA\",\"SEATTLE WA\",\"SILICON VALLEY\",\"TUCSON AZ\",\"WASHINGTON DC\"],\"Company\":[\"Pink Cab\",\"Pink Cab\",\"Pink Cab\",\"Pink Cab\",\"Pink Cab\",\"Pink Cab\",\"Pink Cab\",\"Pink Cab\",\"Pink Cab\",\"Pink Cab\",\"Pink Cab\",\"Pink Cab\",\"Pink Cab\",\"Pink Cab\",\"Pink Cab\",\"Pink Cab\",\"Pink Cab\",\"Pink Cab\",\"Pink Cab\",\"Yellow Cab\",\"Yellow Cab\",\"Yellow Cab\",\"Yellow Cab\",\"Yellow Cab\",\"Yellow Cab\",\"Yellow Cab\",\"Yellow Cab\",\"Yellow Cab\",\"Yellow Cab\",\"Yellow Cab\",\"Yellow Cab\",\"Yellow Cab\",\"Yellow Cab\",\"Yellow Cab\",\"Yellow Cab\",\"Yellow Cab\",\"Yellow Cab\",\"Yellow Cab\"],\"Cost_per_KM\":{\"__ndarray__\":\"nLysDMT4JUAFV0QqUfwlQPJO6bhZ/SVAe4SPNbr+JUBcfURtBv0lQOpgZSfYACZAPIPf+yr/JUC4G2f3rfclQFIXrszl8CVAI9CjEzoAJkAhcLWPNAYmQN0XYYap/SVArNzYDwAJJkDucQ4Bzf8lQAjX/X50ASZAJzaRLewGJkBeib6CRAEmQGNZFekJFCZAsVDLaqIEJkDO6pY8/mQqQOnlI9+HYipA34zcQTtoKkBNBKPsOGYqQM93DltjXipAXaQMGyRpKkBbnna4d2gqQIyZudzJbCpASIntSl9pKkBBX8H9+2YqQPlwXYgcXCpAEohObpZrKkBUkeio3D0qQDxCBwY/XypARXAENBRlKkACtwVkm1oqQGWdZTQUaSpAg3y4qThzKkA3EF3NnWYqQA==\",\"dtype\":\"float64\",\"order\":\"little\",\"shape\":[38]},\"xoffsets\":[[\"ATLANTA GA\",\"Pink Cab\"],[\"AUSTIN TX\",\"Pink Cab\"],[\"BOSTON MA\",\"Pink Cab\"],[\"CHICAGO IL\",\"Pink Cab\"],[\"DALLAS TX\",\"Pink Cab\"],[\"DENVER CO\",\"Pink Cab\"],[\"LOS ANGELES CA\",\"Pink Cab\"],[\"MIAMI FL\",\"Pink Cab\"],[\"NASHVILLE TN\",\"Pink Cab\"],[\"NEW YORK NY\",\"Pink Cab\"],[\"ORANGE COUNTY\",\"Pink Cab\"],[\"PHOENIX AZ\",\"Pink Cab\"],[\"PITTSBURGH PA\",\"Pink Cab\"],[\"SACRAMENTO CA\",\"Pink Cab\"],[\"SAN DIEGO CA\",\"Pink Cab\"],[\"SEATTLE WA\",\"Pink Cab\"],[\"SILICON VALLEY\",\"Pink Cab\"],[\"TUCSON AZ\",\"Pink Cab\"],[\"WASHINGTON DC\",\"Pink Cab\"],[\"ATLANTA GA\",\"Yellow Cab\"],[\"AUSTIN TX\",\"Yellow Cab\"],[\"BOSTON MA\",\"Yellow Cab\"],[\"CHICAGO IL\",\"Yellow Cab\"],[\"DALLAS TX\",\"Yellow Cab\"],[\"DENVER CO\",\"Yellow Cab\"],[\"LOS ANGELES CA\",\"Yellow Cab\"],[\"MIAMI FL\",\"Yellow Cab\"],[\"NASHVILLE TN\",\"Yellow Cab\"],[\"NEW YORK NY\",\"Yellow Cab\"],[\"ORANGE COUNTY\",\"Yellow Cab\"],[\"PHOENIX AZ\",\"Yellow Cab\"],[\"PITTSBURGH PA\",\"Yellow Cab\"],[\"SACRAMENTO CA\",\"Yellow Cab\"],[\"SAN DIEGO CA\",\"Yellow Cab\"],[\"SEATTLE WA\",\"Yellow Cab\"],[\"SILICON VALLEY\",\"Yellow Cab\"],[\"TUCSON AZ\",\"Yellow Cab\"],[\"WASHINGTON DC\",\"Yellow Cab\"]]},\"selected\":{\"id\":\"15762\"},\"selection_policy\":{\"id\":\"16113\"}},\"id\":\"15761\",\"type\":\"ColumnDataSource\"},{\"attributes\":{\"factors\":[[\"ATLANTA GA\",\"Pink Cab\"],[\"ATLANTA GA\",\"Yellow Cab\"],[\"AUSTIN TX\",\"Pink Cab\"],[\"AUSTIN TX\",\"Yellow Cab\"],[\"BOSTON MA\",\"Pink Cab\"],[\"BOSTON MA\",\"Yellow Cab\"],[\"CHICAGO IL\",\"Pink Cab\"],[\"CHICAGO IL\",\"Yellow Cab\"],[\"DALLAS TX\",\"Pink Cab\"],[\"DALLAS TX\",\"Yellow Cab\"],[\"DENVER CO\",\"Pink Cab\"],[\"DENVER CO\",\"Yellow Cab\"],[\"LOS ANGELES CA\",\"Pink Cab\"],[\"LOS ANGELES CA\",\"Yellow Cab\"],[\"MIAMI FL\",\"Pink Cab\"],[\"MIAMI FL\",\"Yellow Cab\"],[\"NASHVILLE TN\",\"Pink Cab\"],[\"NASHVILLE TN\",\"Yellow Cab\"],[\"NEW YORK NY\",\"Pink Cab\"],[\"NEW YORK NY\",\"Yellow Cab\"],[\"ORANGE COUNTY\",\"Pink Cab\"],[\"ORANGE COUNTY\",\"Yellow Cab\"],[\"PHOENIX AZ\",\"Pink Cab\"],[\"PHOENIX AZ\",\"Yellow Cab\"],[\"PITTSBURGH PA\",\"Pink Cab\"],[\"PITTSBURGH PA\",\"Yellow Cab\"],[\"SACRAMENTO CA\",\"Pink Cab\"],[\"SACRAMENTO CA\",\"Yellow Cab\"],[\"SAN DIEGO CA\",\"Pink Cab\"],[\"SAN DIEGO CA\",\"Yellow Cab\"],[\"SEATTLE WA\",\"Pink Cab\"],[\"SEATTLE WA\",\"Yellow Cab\"],[\"SILICON VALLEY\",\"Pink Cab\"],[\"SILICON VALLEY\",\"Yellow Cab\"],[\"TUCSON AZ\",\"Pink Cab\"],[\"TUCSON AZ\",\"Yellow Cab\"],[\"WASHINGTON DC\",\"Pink Cab\"],[\"WASHINGTON DC\",\"Yellow Cab\"]],\"tags\":[[[\"City\",\"City\",null],[\"Company\",\"Company\",null]]]},\"id\":\"15728\",\"type\":\"FactorRange\"},{\"attributes\":{\"axis_label\":\"Cost per KM\",\"coordinates\":null,\"formatter\":{\"id\":\"15774\"},\"group\":null,\"major_label_policy\":{\"id\":\"15775\"},\"ticker\":{\"id\":\"15744\"}},\"id\":\"15743\",\"type\":\"LinearAxis\"},{\"attributes\":{\"fill_alpha\":{\"value\":0.2},\"fill_color\":{\"field\":\"Company\",\"transform\":{\"id\":\"15760\"}},\"hatch_alpha\":{\"value\":0.2},\"hatch_color\":{\"field\":\"Company\",\"transform\":{\"id\":\"15760\"}},\"line_alpha\":{\"value\":0.2},\"top\":{\"field\":\"Cost_per_KM\"},\"width\":{\"value\":0.8},\"x\":{\"field\":\"xoffsets\"}},\"id\":\"15766\",\"type\":\"VBar\"},{\"attributes\":{},\"id\":\"15741\",\"type\":\"CategoricalTicker\"}],\"root_ids\":[\"15731\"]},\"title\":\"Bokeh Application\",\"version\":\"2.4.2\"}};\n",
       "  const render_items = [{\"docid\":\"90d37604-8592-44ff-9e15-7e5805e4f48f\",\"root_ids\":[\"15731\"],\"roots\":{\"15731\":\"ad285b60-bb7b-4266-be04-a965000e45b4\"}}];\n",
       "  root.Bokeh.embed.embed_items_notebook(docs_json, render_items);\n",
       "\n",
       "  }\n",
       "  if (root.Bokeh !== undefined) {\n",
       "    embed_document(root);\n",
       "  } else {\n",
       "    let attempts = 0;\n",
       "    const timer = setInterval(function(root) {\n",
       "      if (root.Bokeh !== undefined) {\n",
       "        clearInterval(timer);\n",
       "        embed_document(root);\n",
       "      } else {\n",
       "        attempts++;\n",
       "        if (attempts > 100) {\n",
       "          clearInterval(timer);\n",
       "          console.log(\"Bokeh: ERROR: Unable to run BokehJS code because BokehJS library is missing\");\n",
       "        }\n",
       "      }\n",
       "    }, 10, root)\n",
       "  }\n",
       "})(window);"
      ],
      "application/vnd.bokehjs_exec.v0+json": ""
     },
     "metadata": {
      "application/vnd.bokehjs_exec.v0+json": {
       "id": "15731"
      }
     },
     "output_type": "display_data"
    }
   ],
   "source": [
    "# Compare how much does it cost per KM travelled for each company and which city cost more or less\n",
    "p1 = hv.render(df_by_city[['Cost per KM']].hvplot.bar( title = 'Average Cost Per KM', width = 900, height = 400, color = ['pink', 'yellow']).opts(xrotation = 90))\n",
    "p1.xaxis.group_label_orientation = 'vertical'\n",
    "from bokeh.plotting import show\n",
    "show(p1)"
   ]
  },
  {
   "cell_type": "markdown",
   "metadata": {},
   "source": [
    "> <b> The bar chart above shows it generally cost `$2` more every trip in all cities for `Yellow` cab than Pink cab </b>\n",
    "\n",
    "> <b> The average cost per KM in all cities are generally the same </b>"
   ]
  },
  {
   "cell_type": "code",
   "execution_count": 167,
   "metadata": {},
   "outputs": [
    {
     "data": {
      "text/html": [
       "\n",
       "\n",
       "\n",
       "\n",
       "\n",
       "\n",
       "  <div class=\"bk-root\" id=\"ce1a7689-741c-4b48-8f21-6e52b5cafdd9\" data-root-id=\"15243\"></div>\n"
      ]
     },
     "metadata": {},
     "output_type": "display_data"
    },
    {
     "data": {
      "application/javascript": [
       "(function(root) {\n",
       "  function embed_document(root) {\n",
       "    \n",
       "  const docs_json = {\"72ceecc5-3ae2-445a-b50d-7e881b2bdeac\":{\"defs\":[{\"extends\":null,\"module\":null,\"name\":\"ReactiveHTML1\",\"overrides\":[],\"properties\":[]},{\"extends\":null,\"module\":null,\"name\":\"FlexBox1\",\"overrides\":[],\"properties\":[{\"default\":\"flex-start\",\"kind\":null,\"name\":\"align_content\"},{\"default\":\"flex-start\",\"kind\":null,\"name\":\"align_items\"},{\"default\":\"row\",\"kind\":null,\"name\":\"flex_direction\"},{\"default\":\"wrap\",\"kind\":null,\"name\":\"flex_wrap\"},{\"default\":\"flex-start\",\"kind\":null,\"name\":\"justify_content\"}]},{\"extends\":null,\"module\":null,\"name\":\"GridStack1\",\"overrides\":[],\"properties\":[{\"default\":\"warn\",\"kind\":null,\"name\":\"mode\"},{\"default\":null,\"kind\":null,\"name\":\"ncols\"},{\"default\":null,\"kind\":null,\"name\":\"nrows\"},{\"default\":true,\"kind\":null,\"name\":\"allow_resize\"},{\"default\":true,\"kind\":null,\"name\":\"allow_drag\"},{\"default\":[],\"kind\":null,\"name\":\"state\"}]},{\"extends\":null,\"module\":null,\"name\":\"click1\",\"overrides\":[],\"properties\":[{\"default\":\"\",\"kind\":null,\"name\":\"terminal_output\"},{\"default\":\"\",\"kind\":null,\"name\":\"debug_name\"},{\"default\":0,\"kind\":null,\"name\":\"clears\"}]},{\"extends\":null,\"module\":null,\"name\":\"TemplateActions1\",\"overrides\":[],\"properties\":[{\"default\":0,\"kind\":null,\"name\":\"open_modal\"},{\"default\":0,\"kind\":null,\"name\":\"close_modal\"}]},{\"extends\":null,\"module\":null,\"name\":\"MaterialTemplateActions1\",\"overrides\":[],\"properties\":[{\"default\":0,\"kind\":null,\"name\":\"open_modal\"},{\"default\":0,\"kind\":null,\"name\":\"close_modal\"}]}],\"roots\":{\"references\":[{\"attributes\":{\"below\":[{\"id\":\"15252\"}],\"center\":[{\"id\":\"15254\"},{\"id\":\"15258\"},{\"id\":\"15291\"}],\"height\":400,\"left\":[{\"id\":\"15255\"}],\"margin\":null,\"min_border_bottom\":10,\"min_border_left\":10,\"min_border_right\":10,\"min_border_top\":10,\"renderers\":[{\"id\":\"15279\"}],\"sizing_mode\":\"fixed\",\"title\":{\"id\":\"15244\"},\"toolbar\":{\"id\":\"15265\"},\"x_range\":{\"id\":\"15240\"},\"x_scale\":{\"id\":\"15248\"},\"y_range\":{\"id\":\"15241\"},\"y_scale\":{\"id\":\"15250\"}},\"id\":\"15243\",\"subtype\":\"Figure\",\"type\":\"Plot\"},{\"attributes\":{},\"id\":\"15284\",\"type\":\"AllLabels\"},{\"attributes\":{\"bottom\":{\"field\":\"bottom\"},\"fill_alpha\":{\"value\":1.0},\"fill_color\":{\"field\":\"Company\",\"transform\":{\"id\":\"15272\"}},\"hatch_alpha\":{\"value\":1.0},\"hatch_color\":{\"field\":\"Company\",\"transform\":{\"id\":\"15272\"}},\"hatch_scale\":{\"value\":12.0},\"hatch_weight\":{\"value\":1.0},\"line_alpha\":{\"value\":1.0},\"line_cap\":{\"value\":\"butt\"},\"line_color\":{\"value\":\"black\"},\"line_dash\":{\"value\":[]},\"line_dash_offset\":{\"value\":0},\"line_join\":{\"value\":\"bevel\"},\"line_width\":{\"value\":1},\"top\":{\"field\":\"top\"},\"width\":{\"value\":0.8},\"x\":{\"field\":\"City\"}},\"id\":\"15293\",\"type\":\"VBar\"},{\"attributes\":{\"bottom\":{\"field\":\"bottom\"},\"fill_alpha\":{\"value\":0.1},\"fill_color\":{\"field\":\"Company\",\"transform\":{\"id\":\"15272\"}},\"hatch_alpha\":{\"value\":0.1},\"hatch_color\":{\"field\":\"Company\",\"transform\":{\"id\":\"15272\"}},\"line_alpha\":{\"value\":0.1},\"top\":{\"field\":\"top\"},\"width\":{\"value\":0.8},\"x\":{\"field\":\"City\"}},\"id\":\"15277\",\"type\":\"VBar\"},{\"attributes\":{},\"id\":\"15263\",\"type\":\"ResetTool\"},{\"attributes\":{},\"id\":\"15261\",\"type\":\"WheelZoomTool\"},{\"attributes\":{},\"id\":\"15253\",\"type\":\"CategoricalTicker\"},{\"attributes\":{\"data\":{\"City\":[\"ATLANTA GA\",\"TUCSON AZ\",\"SILICON VALLEY\",\"SEATTLE WA\",\"SAN DIEGO CA\",\"SACRAMENTO CA\",\"PITTSBURGH PA\",\"PHOENIX AZ\",\"ORANGE COUNTY\",\"WASHINGTON DC\",\"NASHVILLE TN\",\"MIAMI FL\",\"NEW YORK NY\",\"DENVER CO\",\"AUSTIN TX\",\"DALLAS TX\",\"BOSTON MA\",\"CHICAGO IL\",\"LOS ANGELES CA\",\"LOS ANGELES CA\",\"TUCSON AZ\",\"ATLANTA GA\",\"SILICON VALLEY\",\"SEATTLE WA\",\"AUSTIN TX\",\"SAN DIEGO CA\",\"SACRAMENTO CA\",\"PITTSBURGH PA\",\"PHOENIX AZ\",\"CHICAGO IL\",\"ORANGE COUNTY\",\"NEW YORK NY\",\"DALLAS TX\",\"NASHVILLE TN\",\"MIAMI FL\",\"DENVER CO\",\"BOSTON MA\",\"WASHINGTON DC\"],\"Company\":[\"Pink Cab\",\"Pink Cab\",\"Pink Cab\",\"Pink Cab\",\"Pink Cab\",\"Pink Cab\",\"Pink Cab\",\"Pink Cab\",\"Pink Cab\",\"Pink Cab\",\"Pink Cab\",\"Pink Cab\",\"Pink Cab\",\"Pink Cab\",\"Pink Cab\",\"Pink Cab\",\"Pink Cab\",\"Pink Cab\",\"Pink Cab\",\"Yellow Cab\",\"Yellow Cab\",\"Yellow Cab\",\"Yellow Cab\",\"Yellow Cab\",\"Yellow Cab\",\"Yellow Cab\",\"Yellow Cab\",\"Yellow Cab\",\"Yellow Cab\",\"Yellow Cab\",\"Yellow Cab\",\"Yellow Cab\",\"Yellow Cab\",\"Yellow Cab\",\"Yellow Cab\",\"Yellow Cab\",\"Yellow Cab\",\"Yellow Cab\"],\"Profit_Margin\":{\"__ndarray__\":\"u/6O84dBS0CSW3E1Go1SQCeZ2RwQZ1ZAikKugwukRECozbMP2uJNQCno629zvERAEJEnRKwVOUBkILsziplEQHTtwDNu2lBAxGplG8s9SkChUTHaiXVBQIAqEh1zRFRAybHwLuwNW0CTn28vMB09QL3CXaSou1NAx25Pb53rMUDLXlHQrkJJQOXMcOwhBkFAR8HHt6VVTEBvdPfvASpdQCuVOF7f4VFAwAmu8oYZYEAC+jduOtlpQP0psjd0W1dA2HoIKPlPX0DdwnDMOy1YQGN0g5O/Ak5A3x6t0eT2WkC48RRf2mNgQK9ECskqO1BAlPKOoCH5YUDTUIP50z1zQNoxrmgue2hADpjSNBw7UkDBgePv6rtgQD7WqzZNW2JAhcPZO+e9TkAECMFmophUQA==\",\"dtype\":\"float64\",\"order\":\"little\",\"shape\":[38]},\"bottom\":{\"__ndarray__\":\"AAAAAAAAAAAAAAAAAAAAAAAAAAAAAAAAAAAAAAAAAAAAAAAAAAAAAAAAAAAAAAAAAAAAAAAAAAAAAAAAAAAAAAAAAAAAAAAAAAAAAAAAAAAAAAAAAAAAAAAAAAAAAAAAAAAAAAAAAAAAAAAAAAAAAAAAAAAAAAAAAAAAAAAAAAAAAAAAAAAAAAAAAAAAAAAAAAAAAAAAAABHwce3pVVMQJJbcTUajVJAu/6O84dBS0AnmdkcEGdWQIpCroMLpERAvcJdpKi7U0CozbMP2uJNQCno629zvERAEJEnRKwVOUBkILsziplEQOXMcOwhBkFAdO3AM27aUEDJsfAu7A1bQMduT2+d6zFAoVEx2ol1QUCAKhIdc0RUQJOfby8wHT1Ay15R0K5CSUDEamUbyz1KQA==\",\"dtype\":\"float64\",\"order\":\"little\",\"shape\":[38]},\"top\":{\"__ndarray__\":\"u/6O84dBS0CSW3E1Go1SQCeZ2RwQZ1ZAikKugwukRECozbMP2uJNQCno629zvERAEJEnRKwVOUBkILsziplEQHTtwDNu2lBAxGplG8s9SkChUTHaiXVBQIAqEh1zRFRAybHwLuwNW0CTn28vMB09QL3CXaSou1NAx25Pb53rMUDLXlHQrkJJQOXMcOwhBkFAR8HHt6VVTECJqu1laqplQF741Ml8N2JAb8mR7+jpZkBLY1I+YYZyQKGlxPy81mBAyh4z5tCFaUDYVCVqVI9jQEaut4GZX1lAkoFb8SeeYEDRuQPsPIplQCKrQr87vlhATmlvulhmakBFfT8FTwF6QLMfmBaiuGpA3kDrIeH1WkABl2x+JN5qQDDKmTzz/mVAKJEVBksAXECz3jn6w9tgQA==\",\"dtype\":\"float64\",\"order\":\"little\",\"shape\":[38]}},\"selected\":{\"id\":\"15274\"},\"selection_policy\":{\"id\":\"15288\"}},\"id\":\"15273\",\"type\":\"ColumnDataSource\"},{\"attributes\":{},\"id\":\"15287\",\"type\":\"AllLabels\"},{\"attributes\":{\"factors\":[\"Pink Cab\",\"Yellow Cab\"],\"palette\":[\"pink\",\"yellow\"]},\"id\":\"15272\",\"type\":\"CategoricalColorMapper\"},{\"attributes\":{},\"id\":\"15248\",\"type\":\"CategoricalScale\"},{\"attributes\":{\"bottom\":{\"field\":\"bottom\"},\"fill_alpha\":{\"value\":0.2},\"fill_color\":{\"field\":\"Company\",\"transform\":{\"id\":\"15272\"}},\"hatch_alpha\":{\"value\":0.2},\"hatch_color\":{\"field\":\"Company\",\"transform\":{\"id\":\"15272\"}},\"line_alpha\":{\"value\":0.2},\"top\":{\"field\":\"top\"},\"width\":{\"value\":0.8},\"x\":{\"field\":\"City\"}},\"id\":\"15278\",\"type\":\"VBar\"},{\"attributes\":{\"factors\":[\"ATLANTA GA\",\"AUSTIN TX\",\"BOSTON MA\",\"CHICAGO IL\",\"DALLAS TX\",\"DENVER CO\",\"LOS ANGELES CA\",\"MIAMI FL\",\"NASHVILLE TN\",\"NEW YORK NY\",\"ORANGE COUNTY\",\"PHOENIX AZ\",\"PITTSBURGH PA\",\"SACRAMENTO CA\",\"SAN DIEGO CA\",\"SEATTLE WA\",\"SILICON VALLEY\",\"TUCSON AZ\",\"WASHINGTON DC\"],\"tags\":[[[\"City\",\"City\",null]]]},\"id\":\"15240\",\"type\":\"FactorRange\"},{\"attributes\":{},\"id\":\"15286\",\"type\":\"CategoricalTickFormatter\"},{\"attributes\":{},\"id\":\"15259\",\"type\":\"SaveTool\"},{\"attributes\":{\"overlay\":{\"id\":\"15264\"}},\"id\":\"15262\",\"type\":\"BoxZoomTool\"},{\"attributes\":{},\"id\":\"15283\",\"type\":\"BasicTickFormatter\"},{\"attributes\":{\"axis\":{\"id\":\"15252\"},\"coordinates\":null,\"grid_line_color\":null,\"group\":null,\"ticker\":null},\"id\":\"15254\",\"type\":\"Grid\"},{\"attributes\":{\"axis\":{\"id\":\"15255\"},\"coordinates\":null,\"dimension\":1,\"grid_line_color\":null,\"group\":null,\"ticker\":null},\"id\":\"15258\",\"type\":\"Grid\"},{\"attributes\":{\"end\":447.79273165826334,\"reset_end\":447.79273165826334,\"reset_start\":0.0,\"tags\":[[[\"Profit Margin\",\"Profit Margin\",null]]]},\"id\":\"15241\",\"type\":\"Range1d\"},{\"attributes\":{},\"id\":\"15256\",\"type\":\"BasicTicker\"},{\"attributes\":{\"bottom\":{\"field\":\"bottom\"},\"fill_color\":{\"field\":\"Company\",\"transform\":{\"id\":\"15272\"}},\"hatch_color\":{\"field\":\"Company\",\"transform\":{\"id\":\"15272\"}},\"top\":{\"field\":\"top\"},\"width\":{\"value\":0.8},\"x\":{\"field\":\"City\"}},\"id\":\"15276\",\"type\":\"VBar\"},{\"attributes\":{\"axis_label\":\"\",\"coordinates\":null,\"formatter\":{\"id\":\"15283\"},\"group\":null,\"major_label_policy\":{\"id\":\"15284\"},\"ticker\":{\"id\":\"15256\"}},\"id\":\"15255\",\"type\":\"LinearAxis\"},{\"attributes\":{\"callback\":null,\"renderers\":[{\"id\":\"15279\"}],\"tags\":[\"hv_created\"],\"tooltips\":[[\"City\",\"@{City}\"],[\"Company\",\"@{Company}\"],[\"Profit Margin\",\"@{Profit_Margin}\"]]},\"id\":\"15242\",\"type\":\"HoverTool\"},{\"attributes\":{\"tools\":[{\"id\":\"15242\"},{\"id\":\"15259\"},{\"id\":\"15260\"},{\"id\":\"15261\"},{\"id\":\"15262\"},{\"id\":\"15263\"}]},\"id\":\"15265\",\"type\":\"Toolbar\"},{\"attributes\":{\"coordinates\":null,\"group\":null,\"text\":\"Profit Margin\"},\"id\":\"15244\",\"type\":\"Title\"},{\"attributes\":{},\"id\":\"15260\",\"type\":\"PanTool\"},{\"attributes\":{\"label\":{\"field\":\"Company\"},\"renderers\":[{\"id\":\"15279\"}]},\"id\":\"15292\",\"type\":\"LegendItem\"},{\"attributes\":{\"bottom_units\":\"screen\",\"coordinates\":null,\"fill_alpha\":0.5,\"fill_color\":\"lightgrey\",\"group\":null,\"left_units\":\"screen\",\"level\":\"overlay\",\"line_alpha\":1.0,\"line_color\":\"black\",\"line_dash\":[4,4],\"line_width\":2,\"right_units\":\"screen\",\"syncable\":false,\"top_units\":\"screen\"},\"id\":\"15264\",\"type\":\"BoxAnnotation\"},{\"attributes\":{\"source\":{\"id\":\"15273\"}},\"id\":\"15280\",\"type\":\"CDSView\"},{\"attributes\":{\"axis_label\":\"City\",\"coordinates\":null,\"formatter\":{\"id\":\"15286\"},\"group\":null,\"group_label_orientation\":\"vertical\",\"major_label_orientation\":1.5707963267948966,\"major_label_policy\":{\"id\":\"15287\"},\"ticker\":{\"id\":\"15253\"}},\"id\":\"15252\",\"type\":\"CategoricalAxis\"},{\"attributes\":{},\"id\":\"15274\",\"type\":\"Selection\"},{\"attributes\":{},\"id\":\"15250\",\"type\":\"LinearScale\"},{\"attributes\":{\"coordinates\":null,\"group\":null,\"items\":[{\"id\":\"15292\"}],\"location\":\"top_left\"},\"id\":\"15291\",\"type\":\"Legend\"},{\"attributes\":{},\"id\":\"15288\",\"type\":\"UnionRenderers\"},{\"attributes\":{\"coordinates\":null,\"data_source\":{\"id\":\"15273\"},\"glyph\":{\"id\":\"15276\"},\"group\":null,\"hover_glyph\":null,\"muted_glyph\":{\"id\":\"15278\"},\"nonselection_glyph\":{\"id\":\"15277\"},\"selection_glyph\":{\"id\":\"15293\"},\"view\":{\"id\":\"15280\"}},\"id\":\"15279\",\"type\":\"GlyphRenderer\"}],\"root_ids\":[\"15243\"]},\"title\":\"Bokeh Application\",\"version\":\"2.4.2\"}};\n",
       "  const render_items = [{\"docid\":\"72ceecc5-3ae2-445a-b50d-7e881b2bdeac\",\"root_ids\":[\"15243\"],\"roots\":{\"15243\":\"ce1a7689-741c-4b48-8f21-6e52b5cafdd9\"}}];\n",
       "  root.Bokeh.embed.embed_items_notebook(docs_json, render_items);\n",
       "\n",
       "  }\n",
       "  if (root.Bokeh !== undefined) {\n",
       "    embed_document(root);\n",
       "  } else {\n",
       "    let attempts = 0;\n",
       "    const timer = setInterval(function(root) {\n",
       "      if (root.Bokeh !== undefined) {\n",
       "        clearInterval(timer);\n",
       "        embed_document(root);\n",
       "      } else {\n",
       "        attempts++;\n",
       "        if (attempts > 100) {\n",
       "          clearInterval(timer);\n",
       "          console.log(\"Bokeh: ERROR: Unable to run BokehJS code because BokehJS library is missing\");\n",
       "        }\n",
       "      }\n",
       "    }, 10, root)\n",
       "  }\n",
       "})(window);"
      ],
      "application/vnd.bokehjs_exec.v0+json": ""
     },
     "metadata": {
      "application/vnd.bokehjs_exec.v0+json": {
       "id": "15243"
      }
     },
     "output_type": "display_data"
    }
   ],
   "source": [
    "p2 = hv.render(df_by_city['Profit Margin'].hvplot(kind = 'bar', stacked= True, legend = 'top_left', width = 600, height = 400, color = ['pink', 'yellow']).opts(xrotation = 90))\n",
    "p2.xaxis.group_label_orientation = 'vertical'\n",
    "show(p2)"
   ]
  },
  {
   "cell_type": "code",
   "execution_count": null,
   "metadata": {},
   "outputs": [],
   "source": []
  },
  {
   "cell_type": "markdown",
   "metadata": {},
   "source": [
    "### Users"
   ]
  },
  {
   "cell_type": "code",
   "execution_count": null,
   "metadata": {},
   "outputs": [],
   "source": [
    "dominent gender by company-- pie\n",
    "how many users in each city for each company?\n",
    "age by city -- box\n",
    "age by km traveled -- box\n",
    "income by city, by km traveled\n",
    "relationship of age and income"
   ]
  },
  {
   "cell_type": "markdown",
   "metadata": {
    "tags": []
   },
   "source": [
    "### Cities"
   ]
  },
  {
   "cell_type": "code",
   "execution_count": null,
   "metadata": {},
   "outputs": [],
   "source": [
    "users out of population by city (by company?)-- overlay bar\n",
    "ave km travelled by city \n",
    "user counts by city -- geoview\n",
    "gender by city"
   ]
  },
  {
   "cell_type": "markdown",
   "metadata": {},
   "source": [
    "### Dates"
   ]
  },
  {
   "cell_type": "code",
   "execution_count": null,
   "metadata": {},
   "outputs": [],
   "source": [
    "Has rides for each company increased over the years in each city? groupby line graph and hvplot groupby selection -- demand of cabs in each city for each company\n",
    "seasonal effects\n",
    "quarterly total km travelled\n",
    "quarterly profit margin\n",
    "\n",
    "day of the week effects"
   ]
  },
  {
   "cell_type": "markdown",
   "metadata": {},
   "source": [
    "### Payment method"
   ]
  },
  {
   "cell_type": "code",
   "execution_count": null,
   "metadata": {},
   "outputs": [],
   "source": [
    "by city\n",
    "by gender\n",
    "by age group\n",
    "by company\n",
    "by income"
   ]
  },
  {
   "cell_type": "code",
   "execution_count": null,
   "metadata": {},
   "outputs": [],
   "source": []
  },
  {
   "cell_type": "code",
   "execution_count": null,
   "metadata": {},
   "outputs": [],
   "source": [
    "according to the VC's budget\n",
    "if by Yellow cab pros and cons and what needs to happen: too many cars and maintenance, labor, management costs\n",
    "if by Pink cab pros and cons and what needs to happen: increase number of cabs could be competitive as Pink cabs generally cost less per km travelld"
   ]
  }
 ],
 "metadata": {
  "colab": {
   "name": "G2M.ipynb",
   "provenance": []
  },
  "kernelspec": {
   "display_name": "Python 3 (ipykernel)",
   "language": "python",
   "name": "python3"
  },
  "language_info": {
   "codemirror_mode": {
    "name": "ipython",
    "version": 3
   },
   "file_extension": ".py",
   "mimetype": "text/x-python",
   "name": "python",
   "nbconvert_exporter": "python",
   "pygments_lexer": "ipython3",
   "version": "3.9.12"
  }
 },
 "nbformat": 4,
 "nbformat_minor": 4
}
